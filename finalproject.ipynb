{
 "metadata": {
  "name": "",
  "signature": "sha256:0f1c7217810cff243c8137a6e404240b8f7b49bfac9b84793f3184ec3cf0830b"
 },
 "nbformat": 3,
 "nbformat_minor": 0,
 "worksheets": [
  {
   "cells": [
    {
     "cell_type": "markdown",
     "metadata": {},
     "source": [
      "<div align=\"center\">\n",
      "<h1>[Data, the Humanist's New Best Friend](index.ipynb)<br/>*Final Project Guidelines*</h1>\n",
      "</div>"
     ]
    },
    {
     "cell_type": "markdown",
     "metadata": {},
     "source": [
      "<div align=\"center\">\n",
      "<img src=\"images/games.jpg\" width=\"400\">\n",
      "*Still plenty of time*\n",
      "</div>"
     ]
    },
    {
     "cell_type": "markdown",
     "metadata": {},
     "source": [
      "Final project oral presentations will be on April 7th during class time. Each of you will have 15 minutes to present your project plus 5 minutes more for questions.\n",
      "\n",
      "Some of you have not sent yet the final project proposal, and that needs to be handed in before the oral presentation.\n",
      "\n",
      "I will leave here again the guidelines for the final project. You must choose a problem, phenomenon, dataset or topic of interest for you, and use at least two of the three blocks to write a Notebook about it. All final projects must include at least one of these tuples of contents: Data Mining and Text Analysis, Text Analysis and Network Science, or Data Mining and Network Science. Ideally, projects should include aspects from all the main blocks, since Data Mining introduces several transversal concepts.\n",
      "\n",
      "- **Proposal (5%). Deadline March 30th.**\n",
      " - One page, single space, Times New Roman or Georgia, 12pt (1%).\n",
      " - Extensive description of the blocks of content chosen and reasons (1%).\n",
      " - Description of the topic and motivations (1%).\n",
      " - Description of the intended approach and methodology (1%).\n",
      " - Tentative bibliography (1%).\n",
      "\n",
      "- **Oral presentation (10%). In class. April 7th.**\n",
      " - Clarity of the explanations and tools used (5%).\n",
      " - Support material (3%).\n",
      " - Conclusions and questions (2%).\n",
      "\n",
      "- **Notebook (25%). Deadline April 16th.**\n",
      " - Description of the problem to solve and motivations (2%).\n",
      " - Analysis of the problem and possible ways to approach it (3%).\n",
      " - Methodology and theoretical framework (5%).\n",
      " - Description of the approach or solution and tools used (10%).\n",
      " - Conclusions (5%).\n",
      "\n",
      "There is no minimal extension for the Notebook, as long as the project covers all the aspects. A small bibliography is mandatory, any source consulted during the process of writing the final project (APA, MLA, etc, but consistent). Deadline for Final Project Notebook is **April 16th**. This is due after the oral presentations so the students may have the chance to improve their work from the comments and feedback received during the presentation. Any assignment could be used as a template, but the analysis done and data use must differ.\n",
      "\n",
      "Final Project will be marked from 0 (not sent) to 100."
     ]
    }
   ],
   "metadata": {}
  }
 ]
}