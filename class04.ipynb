{
 "metadata": {
  "name": "",
  "signature": "sha256:cd18e1933070bd45d06272f83e453c25a4f9ad5f40a1897f2a7aa5da75827778"
 },
 "nbformat": 3,
 "nbformat_minor": 0,
 "worksheets": [
  {
   "cells": [
    {
     "cell_type": "markdown",
     "metadata": {},
     "source": [
      "<div align=\"center\">\n",
      "<h1>[Data, the Humanist's New Best Friend](index.ipynb)<br/>*Class 04*</h1>\n",
      "</div>"
     ]
    },
    {
     "cell_type": "markdown",
     "metadata": {},
     "source": [
      "In this class you are expected to learn:\n",
      "\n",
      "1. Import and reuse code\n",
      "2. Format, comment and document your code\n",
      "3. Control flow execution\n",
      "4. Complex data types like lists and dictionaries"
     ]
    },
    {
     "cell_type": "markdown",
     "metadata": {},
     "source": [
      "<div align=\"center\">\n",
      "<img src=\"files/images/python.png\" width=\"350\">\n",
      "<br>\n",
      "<a href=\"http://xkcd.com/353/\">`import antigravity`</a>\n",
      "</div>"
     ]
    },
    {
     "cell_type": "heading",
     "level": 2,
     "metadata": {},
     "source": [
      "Imports"
     ]
    },
    {
     "cell_type": "markdown",
     "metadata": {},
     "source": [
      "Sometimes you want to make a big library of functions. And you'd like to access some of those functions from another program that you're writing.\n",
      "\n",
      "If you put your functions in a file called `myfuncs.py` (using your [favourite plain text editor](http://learnpythonthehardway.org/book/ex0.html)), you can import them into another program like this:\n",
      "\n",
      "```python\n",
      ">>> from myfuncs import *\n",
      "```\n",
      "\n",
      "_The \\* here means **everything**_\n",
      "\n",
      "You could also use:\n",
      "\n",
      "```python\n",
      ">>> import myfuncs\n",
      "```\n",
      "\n",
      "**But**, this adds a namespace. To access a function called `dostuff` in the file `myfunc.py` after this style of import, you'd have to type:\n",
      "\n",
      "```python\n",
      ">>> myfuncs.dostuff(...)\n",
      "```\n",
      "\n",
      "There is a huge amount of libraries creted by the community around Python. Go and check [PyPI (Python Package Index)](https://pypi.python.org/pypi), where all the libraries live."
     ]
    },
    {
     "cell_type": "code",
     "collapsed": false,
     "input": [
      "from mylib import maximum, minimum"
     ],
     "language": "python",
     "metadata": {},
     "outputs": [],
     "prompt_number": 5
    },
    {
     "cell_type": "markdown",
     "metadata": {},
     "source": [
      "<div style=\"font-size: 1em; margin: 1em 0 1em 0; border: 1px solid #86989B; background-color: #f7f7f7; padding: 0;\">\n",
      "<p style=\"margin: 0; padding: 0.1em 0 0.1em 0.5em; color: white; border-bottom: 1px solid #86989B; font-weight: bold; background-color: #AFC1C4;\">\n",
      "Activity\n",
      "</p>\n",
      "<p style=\"margin: 0.5em 1em 0.5em 1em; padding: 0;\">\n",
      "Write your own library called `mylib` with two functions: `maximum`, that takes two values as arguments and returns the greatest from both; and `minimum`, that returns the least. \n",
      "\n",
      "\n",
      "And now place the file `mylib.py` in the same [path](http://cli.learncodethehardway.org/book/) where you are running IPython. If everything is OK, the next cell should work.\n",
      "</p>\n",
      "</div>"
     ]
    },
    {
     "cell_type": "code",
     "collapsed": false,
     "input": [
      "from mylib import maximum, minimum\n",
      "print(minimum(maximum(4, 9), maximum(13, 47)))"
     ],
     "language": "python",
     "metadata": {},
     "outputs": [
      {
       "output_type": "stream",
       "stream": "stdout",
       "text": [
        "9\n"
       ]
      }
     ],
     "prompt_number": 6
    },
    {
     "cell_type": "markdown",
     "metadata": {},
     "source": [
      "Python has a variety of built-in functions including `max()`, `min()`, `sum()`, `pow()`, `abs()`, `sqrt()` that do exactly what you expect them to do."
     ]
    },
    {
     "cell_type": "heading",
     "level": 2,
     "metadata": {},
     "source": [
      "Comments"
     ]
    },
    {
     "cell_type": "markdown",
     "metadata": {},
     "source": [
      "Comments are very important, so use them in your programs.\n",
      "\n",
      "They are used to tell you what something does in your own language, and they also are used to **disable parts** of your program if you need to remove them temporarily. Here's how you use comments in Python:\n",
      "\n",
      "```python\n",
      "# A comment, this is so you can read your program later.\n",
      "# Anything after the # is ignored by python.\n",
      "\n",
      "print \"I could have code like this.\" # and the comment after is ignored\n",
      "\n",
      "# You can also use a comment to \"disable\" or comment out a piece of code:\n",
      "# print \"This won't run.\"\n",
      "\n",
      "print \"This will run.\"\n",
      "```\n",
      "\n",
      "When working on bigger projects, and for your own general sanity, you want to add comments to your functions explaining what it does, what parameters it needs, and what it returns. For documenting functions we use the triple quote, `\"\"\"`, to enclose the content of the comment, which allows us to write multi-line comments.\n",
      "\n",
      "Also, for paremeters, we follow the same rule:\n",
      "```python\n",
      "def celsius_to_fahrenheit(degrees):\n",
      "    \"\"\"\n",
      "    Compute the value in Fahrenheit of the\n",
      "    given Celsius degrees.\n",
      "    \n",
      "    :param degres: float or integer with the Celsius degrees\n",
      "    :return: float expressin Fahrenheit degrees\n",
      "    \"\"\"\n",
      "    return 9.0 / 5.0 * degrees + 32\n",
      "```\n",
      "\n",
      "You may think that documenting code is kinda lame, but it gives you future-proof code against our weak memories. And as a nice side-effect, you can generate beautiful HTML or PDF documentation just by processing your source code, in the same way that IPython will include your *docstrings* (short for document strings) in its interface. There are plenty of tools to document your code; the official in the Python community is [Sphinx](http://sphinx-doc.org/), though."
     ]
    },
    {
     "cell_type": "code",
     "collapsed": false,
     "input": [
      "def celsius_to_fahrenheit(degrees):\n",
      "    \"\"\"\n",
      "    Compute the value in Fahrenheit of the\n",
      "    given Celsius degrees.\n",
      "    \n",
      "    :param degrees: float or integer with the Celsius degrees\n",
      "    :return: float expressing Fahrenheit degrees\n",
      "    \"\"\"\n",
      "    return 9.0 / 5.0 * degrees + 32"
     ],
     "language": "python",
     "metadata": {},
     "outputs": [],
     "prompt_number": 20
    },
    {
     "cell_type": "code",
     "collapsed": false,
     "input": [
      "celsius_to_fahrenheit(25)  # Put the cursor between the parenthesis and press the Tab key"
     ],
     "language": "python",
     "metadata": {},
     "outputs": [
      {
       "metadata": {},
       "output_type": "pyout",
       "prompt_number": 21,
       "text": [
        "77.0"
       ]
      }
     ],
     "prompt_number": 21
    },
    {
     "cell_type": "heading",
     "level": 2,
     "metadata": {},
     "source": [
      "Execution Flow"
     ]
    },
    {
     "cell_type": "markdown",
     "metadata": {},
     "source": [
      "In order to ensure that a function is defined before its first use, you have to know the order in which statements are executed, which is called the **flow of execution**. The Python interpreter executes one statement at a time.\n",
      "\n",
      "To make sense of programs, we need to know which instruction gets executed when.\n",
      "\n",
      "In a program, the statements get executed in the order in which they appear in the program, top to bottom of the file. Later, we\u2019ll learn how to jump around.\n",
      "\n",
      "On the other hand, IPython allows you to create cells anywhere in the notebook, but internally, they are all executed one after the other, as well as inside the cells.\n",
      "\n",
      "But what happens when a function gets called? Let's trace through this program:"
     ]
    },
    {
     "cell_type": "code",
     "collapsed": false,
     "input": [
      "from IPython.display import IFrame\n",
      "IFrame(\"http://pythontutor.com/iframe-embed.html#code=x+%3D+20%0Ay+%3D+10%0A%0Adef+half(a)%3A%0A++++return+a+/+2%0A%0Adef+divide_half(a,+b)%3A%0A++++half_a+%3D+half(a)%0A++++return+half_a+/+b%0A%0Adivide_half(x,+y)&cumulative=false&heapPrimitives=false&drawParentPointers=false&textReferences=false&showOnlyOutputs=false&py=3&curInstr=0&codeDivWidth=350&codeDivHeight=400\", width=800, height=500)"
     ],
     "language": "python",
     "metadata": {},
     "outputs": [
      {
       "html": [
        "\n",
        "        <iframe\n",
        "            width=\"800\"\n",
        "            height=500\"\n",
        "            src=\"http://pythontutor.com/iframe-embed.html#code=x+%3D+20%0Ay+%3D+10%0A%0Adef+half(a)%3A%0A++++return+a+/+2%0A%0Adef+divide_half(a,+b)%3A%0A++++half_a+%3D+half(a)%0A++++return+half_a+/+b%0A%0Adivide_half(x,+y)&cumulative=false&heapPrimitives=false&drawParentPointers=false&textReferences=false&showOnlyOutputs=false&py=3&curInstr=0&codeDivWidth=350&codeDivHeight=400\"\n",
        "            frameborder=\"0\"\n",
        "            allowfullscreen\n",
        "        ></iframe>\n",
        "        "
       ],
       "metadata": {},
       "output_type": "pyout",
       "prompt_number": 2,
       "text": [
        "<IPython.lib.display.IFrame at 0x7f0ebe113810>"
       ]
      }
     ],
     "prompt_number": 2
    },
    {
     "cell_type": "markdown",
     "metadata": {},
     "source": [
      "Try now executing the code in the cell"
     ]
    },
    {
     "cell_type": "code",
     "collapsed": false,
     "input": [
      "x = 20\n",
      "y = 10\n",
      "\n",
      "def half(a):\n",
      "    return a / 2\n",
      "\n",
      "def divide_half(a, b):\n",
      "    half_a = half(a)\n",
      "    return half_a / b\n",
      "\n",
      "divide_half(x, y)"
     ],
     "language": "python",
     "metadata": {},
     "outputs": []
    },
    {
     "cell_type": "markdown",
     "metadata": {},
     "source": [
      "<div style=\"font-size: 1em; margin: 1em 0 1em 0; border: 1px solid #86989B; background-color: #f7f7f7; padding: 0;\">\n",
      "<p style=\"margin: 0; padding: 0.1em 0 0.1em 0.5em; color: white; border-bottom: 1px solid #86989B; font-weight: bold; background-color: #AFC1C4;\">\n",
      "Activity\n",
      "</p>\n",
      "<p style=\"margin: 0.5em 1em 0.5em 1em; padding: 0;\">\n",
      "Write a function, `distance`, that returns the distance between two points, $P_1$ and $P_2$. The coordinates of the points are given by its components: $P_1 = (x1, y1)$, and $P_1 = (x2, y2)$; `distance` receives *4* parameters.\n",
      "Remember that the formula to calcualte the distance is $d = \\sqrt{(x2 - x1)^2 + (y2 - y1)^2}$.\n",
      "<br>\n",
      "*Hint*: $\\sqrt{a}$ is the same that $a^{\\frac{1}{2}}$. How do we do exponentiation in Python? And square roots?\n",
      "</p>\n",
      "</div>"
     ]
    },
    {
     "cell_type": "code",
     "collapsed": false,
     "input": [
      "def distance(x1, y1, x2, y2):\n",
      "    return ((x2 - x1) ** 2 + (y2 - y1) ** 2) ** (0.5)\n",
      "distance(1, 3, 8, 9)"
     ],
     "language": "python",
     "metadata": {},
     "outputs": [
      {
       "metadata": {},
       "output_type": "pyout",
       "prompt_number": 29,
       "text": [
        "9.219544457292887"
       ]
      }
     ],
     "prompt_number": 29
    },
    {
     "cell_type": "heading",
     "level": 2,
     "metadata": {},
     "source": [
      "Conditional execution"
     ]
    },
    {
     "cell_type": "markdown",
     "metadata": {},
     "source": [
      "So far, the only thing we can do is to write statements one after the other. Conditional statements give us this ability to check conditions and change the behavior of the program accordingly.\n",
      "\n",
      "So, `if` some expression is `True`, then do something; otherwise do something `else`.\n",
      "\n",
      "The syntax in Python is as follows:\n",
      "```python\n",
      "if expression:\n",
      "    # Code in this block is evaluated only if expression is true\n",
      "    print(\"Expression is true!\")\n",
      "else:\n",
      "    # This statements however, are evaluated only if expression is false\n",
      "    print(\"Expression is false!\")\n",
      "```\n",
      "\n",
      "The second part, the `else`, is optional. And it can be extended to support more `else`-cases."
     ]
    },
    {
     "cell_type": "code",
     "collapsed": false,
     "input": [
      "number = int(input(\"Choose a number: \"))\n",
      "if number < 5:\n",
      "    print(\"It's lower than 5\")\n",
      "elif number < 8:\n",
      "    print(\"It's lower than 8\")\n",
      "else:  # Greater than 5 and greater than or equal to 8\n",
      "    print(\"It's at least 8 or greater\")"
     ],
     "language": "python",
     "metadata": {},
     "outputs": []
    },
    {
     "cell_type": "markdown",
     "metadata": {},
     "source": [
      "<div style=\"font-size: 1em; margin: 1em 0 1em 0; border: 1px solid #86989B; background-color: #f7f7f7; padding: 0;\">\n",
      "<p style=\"margin: 0; padding: 0.1em 0 0.1em 0.5em; color: white; border-bottom: 1px solid #86989B; font-weight: bold; background-color: #AFC1C4;\">\n",
      "Activity\n",
      "</p>\n",
      "<p style=\"margin: 0.5em 1em 0.5em 1em; padding: 0;\">\n",
      "Write a function, `print_parity`, that prints `\"x is even\"` when its only parameter, `x` is even, and `\"x is odd\"` when `x` is odd\n",
      "</p>\n",
      "</div>"
     ]
    },
    {
     "cell_type": "code",
     "collapsed": false,
     "input": [
      "def print_parity(x):\n",
      "    # Writes your code here\n",
      "print_parity(9)\n",
      "print_parity(20)"
     ],
     "language": "python",
     "metadata": {},
     "outputs": [
      {
       "output_type": "stream",
       "stream": "stdout",
       "text": [
        "9 is odd\n",
        "20 is even\n"
       ]
      }
     ],
     "prompt_number": 4
    },
    {
     "cell_type": "markdown",
     "metadata": {},
     "source": [
      "And of course, `if` statements can be nested as deep as you need."
     ]
    },
    {
     "cell_type": "code",
     "collapsed": false,
     "input": [
      "x = 6\n",
      "if 0 < x:\n",
      "    if x < 10:\n",
      "        print(\"x is a positive single digit.\")"
     ],
     "language": "python",
     "metadata": {},
     "outputs": [
      {
       "output_type": "stream",
       "stream": "stdout",
       "text": [
        "x is a positive single digit.\n"
       ]
      }
     ],
     "prompt_number": 6
    },
    {
     "cell_type": "markdown",
     "metadata": {},
     "source": [
      "Although we can re-write the same code using only one statement."
     ]
    },
    {
     "cell_type": "code",
     "collapsed": false,
     "input": [
      "if 0 < x and x < 10:\n",
      "    print(\"x is a positive single digit.\")"
     ],
     "language": "python",
     "metadata": {},
     "outputs": [
      {
       "output_type": "stream",
       "stream": "stdout",
       "text": [
        "x is a positive single digit.\n"
       ]
      }
     ],
     "prompt_number": 7
    },
    {
     "cell_type": "markdown",
     "metadata": {},
     "source": [
      "And now even more complicated, without using `and`."
     ]
    },
    {
     "cell_type": "code",
     "collapsed": false,
     "input": [
      "if 0 < x < 10:\n",
      "    print(\"x is a positive single digit.\")"
     ],
     "language": "python",
     "metadata": {},
     "outputs": [
      {
       "output_type": "stream",
       "stream": "stdout",
       "text": [
        "x is a positive single digit.\n"
       ]
      }
     ],
     "prompt_number": 8
    },
    {
     "cell_type": "heading",
     "level": 2,
     "metadata": {},
     "source": [
      "Programming with style"
     ]
    },
    {
     "cell_type": "markdown",
     "metadata": {},
     "source": [
      "Readability counts since programs are read and modified far more often than they are written.\n",
      "\n",
      "There is a style guide developed by the Python community known as [PEP8](http://legacy.python.org/dev/peps/pep-0008/), that every Python programmer should use. Besides using a docstring for your functions, we will consider the following:\n",
      " \n",
      " - use **4 spaces** for indentation (this is not new)\n",
      " - lines shouldn't be longer than **80 characteres**.\n",
      " - **imports** should go at the **top of the file**\n",
      " - separate **function definitions** with **two blank lines**\n",
      " - keep **function definitions together**\n",
      " - keep **top level statements**, including function calls, **together at the bottom** of the program"
     ]
    },
    {
     "cell_type": "markdown",
     "metadata": {},
     "source": [
      "<div align=\"center\">\n",
      "<img src=\"files/images/deal_with_it.gif\" width=\"350\">\n",
      "<br>\n",
      "*But I don't wanna document my func...*\n",
      "</div>"
     ]
    },
    {
     "cell_type": "heading",
     "level": 1,
     "metadata": {},
     "source": [
      "The `while` Loop"
     ]
    },
    {
     "cell_type": "markdown",
     "metadata": {},
     "source": [
      "If the only way we had to repeat tasks were writing the same statement over and over, programming wouldn't be the such awesome and fun thing that indeed is. To repeat blocks of code we use **loops**, and each repetition is called an **iteration**.\n",
      "\n",
      "The first kind of loop, the most basic one, is the `while` loop, in which all the code is executed **while** a certain logical **condition** is met.\n",
      "\n",
      "Let's see an example."
     ]
    },
    {
     "cell_type": "code",
     "collapsed": false,
     "input": [
      "x = 1\n",
      "while x < 0:\n",
      "    print(2*x)\n",
      "    x += 1"
     ],
     "language": "python",
     "metadata": {},
     "outputs": [],
     "prompt_number": 37
    },
    {
     "cell_type": "markdown",
     "metadata": {},
     "source": [
      "In the last example, the condition is the logical expression `x < 10`, so `x` is the variable that need to **increment** in order to get out of the loop. If **we remove it**, we will end up with an **infinite loop**.\n",
      "\n",
      "In `while` loops is super important to worry about how to stop them, and we do this by modifying the variables involved in the condition."
     ]
    },
    {
     "cell_type": "code",
     "collapsed": false,
     "input": [
      "def num_digits(n):\n",
      "    count = 0\n",
      "    print(\"count\", count)\n",
      "    print(\"condition\", n)\n",
      "    while n:\n",
      "        count = count + 1\n",
      "        print(\"count\", count)\n",
      "        n = n // 10  # Integer division\n",
      "        print(\"condition\", n)\n",
      "    return count\n",
      "num_digits(122345678767)"
     ],
     "language": "python",
     "metadata": {},
     "outputs": [
      {
       "output_type": "stream",
       "stream": "stdout",
       "text": [
        "count 0\n",
        "condition 122345678767\n",
        "count 1\n",
        "condition 12234567876\n",
        "count 2\n",
        "condition 1223456787\n",
        "count 3\n",
        "condition 122345678\n",
        "count 4\n",
        "condition 12234567\n",
        "count 5\n",
        "condition 1223456\n",
        "count 6\n",
        "condition 122345\n",
        "count 7\n",
        "condition 12234\n",
        "count 8\n",
        "condition 1223\n",
        "count 9\n",
        "condition 122\n",
        "count 10\n",
        "condition 12\n",
        "count 11\n",
        "condition 1\n",
        "count 12\n",
        "condition 0\n"
       ]
      },
      {
       "metadata": {},
       "output_type": "pyout",
       "prompt_number": 43,
       "text": [
        "12"
       ]
      }
     ],
     "prompt_number": 43
    },
    {
     "cell_type": "markdown",
     "metadata": {},
     "source": [
      "In the function `num_digits()`, we see that as a condition we just have the variable `n`. That's possible because, as in `if` statements, those expressions are actually evaluated as boolean by using internally the `bool()` casting. So you can also write the function as follows."
     ]
    },
    {
     "cell_type": "code",
     "collapsed": false,
     "input": [
      "def num_digits(n):\n",
      "    count = 0\n",
      "    while bool(n):\n",
      "        count = count + 1\n",
      "        n = n // 10\n",
      "    return count\n",
      "num_digits(123456789)"
     ],
     "language": "python",
     "metadata": {},
     "outputs": [
      {
       "metadata": {},
       "output_type": "pyout",
       "prompt_number": 11,
       "text": [
        "9"
       ]
      }
     ],
     "prompt_number": 11
    },
    {
     "cell_type": "markdown",
     "metadata": {},
     "source": [
      "Well, that's ugly and unnecessary. But what really improves the readibility of your code is to write whole expressions when possible. This is specially important when dealing with `None` values."
     ]
    },
    {
     "cell_type": "code",
     "collapsed": false,
     "input": [
      "def num_digits(n):\n",
      "    count = 0\n",
      "    while n != 0:\n",
      "        count = count + 1\n",
      "        n = n // 10\n",
      "    return count\n",
      "num_digits(123456789)"
     ],
     "language": "python",
     "metadata": {},
     "outputs": [
      {
       "metadata": {},
       "output_type": "pyout",
       "prompt_number": 44,
       "text": [
        "9"
       ]
      }
     ],
     "prompt_number": 44
    },
    {
     "cell_type": "markdown",
     "metadata": {},
     "source": [
      "<div style=\"font-size: 1em; margin: 1em 0 1em 0; border: 1px solid #86989B; background-color: #f7f7f7; padding: 0;\">\n",
      "<p style=\"margin: 0; padding: 0.1em 0 0.1em 0.5em; color: white; border-bottom: 1px solid #86989B; font-weight: bold; background-color: #AFC1C4;\">\n",
      "Activity\n",
      "</p>\n",
      "<p style=\"margin: 0.5em 1em 0.5em 1em; padding: 0;\">\n",
      "The [Collatz Conjecture](https://en.wikipedia.org/wiki/Collatz_Conjecture) (also known as the $3n+1$ conjecture) is the conjecture that the following process is finite for every natural number: if the number $n$ is even divide it by two, $n/2$, if it is odd multiply it by 3 and add 1, $3n + 1$. Repeat this process untill you get the number 1.\n",
      "<p>\n",
      "<p style=\"margin: 0.5em 1em 0.5em 1em; padding: 0;\">\n",
      "We want a function, `collatz`, that given an arbitrary number, `n`, as the argument, prints all the intermediate values until reach `1`.  For example, if the starting value (the argument passed to sequence) is 3, the resulting sequence is 3, 10, 5, 16, 8, 4, 2, 1.\n",
      "</p>\n",
      "</div>\n",
      "\n",
      "<div align=\"center\">\n",
      "<img src=\"files/images/collatz_conjecture.png\" width=\"350\">\n",
      "<br>\n",
      "*[XKCD wisdom](http://xkcd.com/710/)*\n",
      "</div>"
     ]
    },
    {
     "cell_type": "code",
     "collapsed": false,
     "input": [
      "def collatz(num):\n",
      "    n = num\n",
      "    while n != 1:\n",
      "        print(n, end=\", \")  # what does that 'end' argument?\n",
      "        if n % 2 == 0:  # n is even\n",
      "            n = n // 2\n",
      "        else:           # n is odd\n",
      "            n = (3 * n) + 1\n",
      "    print(n)\n",
      "\n",
      "collatz(30)"
     ],
     "language": "python",
     "metadata": {},
     "outputs": [
      {
       "output_type": "stream",
       "stream": "stdout",
       "text": [
        "30, 15, 46, 23, 70, 35, 106, 53, 160, 80, 40, 20, 10, 5, 16, 8, 4, 2, 1\n"
       ]
      }
     ],
     "prompt_number": 51
    },
    {
     "cell_type": "markdown",
     "metadata": {},
     "source": [
      "Updating the value of a variable is so so common that Python provides several shorcuts."
     ]
    },
    {
     "cell_type": "code",
     "collapsed": false,
     "input": [
      "count = 0\n",
      "count += 1\n",
      "count"
     ],
     "language": "python",
     "metadata": {},
     "outputs": [
      {
       "metadata": {},
       "output_type": "pyout",
       "prompt_number": 13,
       "text": [
        "1"
       ]
      }
     ],
     "prompt_number": 13
    },
    {
     "cell_type": "code",
     "collapsed": false,
     "input": [
      "count += 1\n",
      "count"
     ],
     "language": "python",
     "metadata": {},
     "outputs": [
      {
       "metadata": {},
       "output_type": "pyout",
       "prompt_number": 14,
       "text": [
        "2"
       ]
      }
     ],
     "prompt_number": 14
    },
    {
     "cell_type": "code",
     "collapsed": false,
     "input": [
      "n = 2\n",
      "n += 5\n",
      "n"
     ],
     "language": "python",
     "metadata": {},
     "outputs": [
      {
       "metadata": {},
       "output_type": "pyout",
       "prompt_number": 15,
       "text": [
        "7"
       ]
      }
     ],
     "prompt_number": 15
    },
    {
     "cell_type": "code",
     "collapsed": false,
     "input": [
      "n = 2\n",
      "n *= 5\n",
      "n"
     ],
     "language": "python",
     "metadata": {},
     "outputs": [
      {
       "metadata": {},
       "output_type": "pyout",
       "prompt_number": 16,
       "text": [
        "10"
       ]
      }
     ],
     "prompt_number": 16
    },
    {
     "cell_type": "code",
     "collapsed": false,
     "input": [
      "n -= 4\n",
      "n"
     ],
     "language": "python",
     "metadata": {},
     "outputs": [
      {
       "metadata": {},
       "output_type": "pyout",
       "prompt_number": 17,
       "text": [
        "6"
       ]
      }
     ],
     "prompt_number": 17
    },
    {
     "cell_type": "code",
     "collapsed": false,
     "input": [
      "n //= 2  # or n /= 2 for float division\n",
      "n"
     ],
     "language": "python",
     "metadata": {},
     "outputs": [
      {
       "metadata": {},
       "output_type": "pyout",
       "prompt_number": 18,
       "text": [
        "3"
       ]
      }
     ],
     "prompt_number": 18
    },
    {
     "cell_type": "code",
     "collapsed": false,
     "input": [
      "n %= 2\n",
      "n"
     ],
     "language": "python",
     "metadata": {},
     "outputs": [
      {
       "metadata": {},
       "output_type": "pyout",
       "prompt_number": 19,
       "text": [
        "1"
       ]
      }
     ],
     "prompt_number": 19
    },
    {
     "cell_type": "heading",
     "level": 2,
     "metadata": {},
     "source": [
      "More on `strings`"
     ]
    },
    {
     "cell_type": "markdown",
     "metadata": {},
     "source": [
      "A string is, in reality, a second class citizen in the world of Python types. It's what we call a compound type, because is built upon the basic types we've have seen.\n",
      "\n",
      "But strings are fun. For example, we can access elements individually by using **braces** and the **index** or position in the string. And count the length of a string by using the built-in `len()`. If we put all together we can actually print all the individual **characters** that form a string."
     ]
    },
    {
     "cell_type": "code",
     "collapsed": false,
     "input": [
      "doge = \"many smart\"\n",
      "length = len(doge)\n",
      "index = 0  # First element is always at position 0!\n",
      "while index < length:\n",
      "    character = doge[index]\n",
      "    print(character)\n",
      "    index += 1"
     ],
     "language": "python",
     "metadata": {},
     "outputs": [
      {
       "output_type": "stream",
       "stream": "stdout",
       "text": [
        "m\n",
        "a\n",
        "n\n",
        "y\n",
        " \n",
        "s\n",
        "m\n",
        "a\n",
        "r\n",
        "t\n"
       ]
      }
     ],
     "prompt_number": 20
    },
    {
     "cell_type": "markdown",
     "metadata": {},
     "source": [
      "<div style=\"font-size: 1em; margin: 1em 0 1em 0; border: 1px solid #86989B; background-color: #f7f7f7; padding: 0;\">\n",
      "<p style=\"margin: 0; padding: 0.1em 0 0.1em 0.5em; color: white; border-bottom: 1px solid #86989B; font-weight: bold; background-color: #AFC1C4;\">\n",
      "Activity\n",
      "</p>\n",
      "<p style=\"margin: 0.5em 1em 0.5em 1em; padding: 0;\">\n",
      "Experiment with different indices in a string. What happens when we do `doge[-1]`? What if we use a slice like in `doge[2:4]`? What if `doge[:2]`?\n",
      "<p>\n",
      "</div>"
     ]
    },
    {
     "cell_type": "markdown",
     "metadata": {},
     "source": [
      "BTW, iterables usually support the `in` operator to check if an element is contained or not."
     ]
    },
    {
     "cell_type": "code",
     "collapsed": false,
     "input": [
      "\"smart\" in doge"
     ],
     "language": "python",
     "metadata": {},
     "outputs": [
      {
       "metadata": {},
       "output_type": "pyout",
       "prompt_number": 21,
       "text": [
        "True"
       ]
      }
     ],
     "prompt_number": 21
    },
    {
     "cell_type": "markdown",
     "metadata": {},
     "source": [
      "Other times, strings can be used as templates in which to *put* other values. That's called formating."
     ]
    },
    {
     "cell_type": "code",
     "collapsed": false,
     "input": [
      "\"Hi, my name is {name}\".format(name=\"Slim Shady\")"
     ],
     "language": "python",
     "metadata": {},
     "outputs": [
      {
       "metadata": {},
       "output_type": "pyout",
       "prompt_number": 22,
       "text": [
        "'Hi, my name is Slim Shady'"
       ]
      }
     ],
     "prompt_number": 22
    },
    {
     "cell_type": "heading",
     "level": 2,
     "metadata": {},
     "source": [
      "The `for` loop"
     ]
    },
    {
     "cell_type": "markdown",
     "metadata": {},
     "source": [
      "There is a `while` loop pattern so common, that Python (as usual), already includes it as a built-in feature. In the case of compund objects that you can iterate over, the pattern is called **traversal** and is abstracted in the form of a `for` loop.\n",
      "\n",
      "Strings happend to be **iterable**, what means that you can iterate through them. So let's see how the above example works with a `for` loop."
     ]
    },
    {
     "cell_type": "code",
     "collapsed": false,
     "input": [
      "doge = \"many smart\"\n",
      "for character in doge:\n",
      "    print(character)"
     ],
     "language": "python",
     "metadata": {},
     "outputs": [
      {
       "output_type": "stream",
       "stream": "stdout",
       "text": [
        "m\n",
        "a\n",
        "n\n",
        "y\n",
        " \n",
        "s\n",
        "m\n",
        "a\n",
        "r\n",
        "t\n"
       ]
      }
     ],
     "prompt_number": 23
    },
    {
     "cell_type": "markdown",
     "metadata": {},
     "source": [
      "The savings in code, as well as the awesomeness of the `for` loops, are pretty obvious. And if you just don't get it, don't worry, we will see a lot more `for` loops."
     ]
    },
    {
     "cell_type": "markdown",
     "metadata": {},
     "source": [
      "<div style=\"font-size: 1em; margin: 1em 0 1em 0; border: 1px solid #86989B; background-color: #f7f7f7; padding: 0;\">\n",
      "<p style=\"margin: 0; padding: 0.1em 0 0.1em 0.5em; color: white; border-bottom: 1px solid #86989B; font-weight: bold; background-color: #AFC1C4;\">\n",
      "Activity\n",
      "</p>\n",
      "<p style=\"margin: 0.5em 1em 0.5em 1em; padding: 0;\">\n",
      "Write a function, `mult_tables()`, that prints multiplication tables for all numbers up to `n`, which is given as the argument\n",
      "<p>\n",
      "</div>"
     ]
    },
    {
     "cell_type": "heading",
     "level": 2,
     "metadata": {},
     "source": [
      "Lists"
     ]
    },
    {
     "cell_type": "markdown",
     "metadata": {},
     "source": [
      "Lists are the the first real **data structure**. They are intended to store, in a sorted way, any number of any kind of elements."
     ]
    },
    {
     "cell_type": "code",
     "collapsed": false,
     "input": [
      "l = [1, 2, 3]\n",
      "l"
     ],
     "language": "python",
     "metadata": {},
     "outputs": [
      {
       "metadata": {},
       "output_type": "pyout",
       "prompt_number": 24,
       "text": [
        "[1, 2, 3]"
       ]
      }
     ],
     "prompt_number": 24
    },
    {
     "cell_type": "code",
     "collapsed": false,
     "input": [
      "m = [1, \"WAT!\", None]\n",
      "m"
     ],
     "language": "python",
     "metadata": {},
     "outputs": [
      {
       "metadata": {},
       "output_type": "pyout",
       "prompt_number": 25,
       "text": [
        "[1, 'WAT!', None]"
       ]
      }
     ],
     "prompt_number": 25
    },
    {
     "cell_type": "markdown",
     "metadata": {},
     "source": [
      "And the same slicing and length rules apply to list in order to access their elements."
     ]
    },
    {
     "cell_type": "code",
     "collapsed": false,
     "input": [
      "m[1]"
     ],
     "language": "python",
     "metadata": {},
     "outputs": [
      {
       "metadata": {},
       "output_type": "pyout",
       "prompt_number": 26,
       "text": [
        "'WAT!'"
       ]
      }
     ],
     "prompt_number": 26
    },
    {
     "cell_type": "code",
     "collapsed": false,
     "input": [
      "len(l) + len(m)"
     ],
     "language": "python",
     "metadata": {},
     "outputs": [
      {
       "metadata": {},
       "output_type": "pyout",
       "prompt_number": 28,
       "text": [
        "6"
       ]
      }
     ],
     "prompt_number": 28
    },
    {
     "cell_type": "code",
     "collapsed": false,
     "input": [
      "l[8]  # Well, this list is not that long"
     ],
     "language": "python",
     "metadata": {},
     "outputs": [
      {
       "ename": "IndexError",
       "evalue": "list index out of range",
       "output_type": "pyerr",
       "traceback": [
        "\u001b[1;31m---------------------------------------------------------------------------\u001b[0m\n\u001b[1;31mIndexError\u001b[0m                                Traceback (most recent call last)",
        "\u001b[1;32m<ipython-input-29-02fa24aba1e7>\u001b[0m in \u001b[0;36m<module>\u001b[1;34m()\u001b[0m\n\u001b[1;32m----> 1\u001b[1;33m \u001b[0ml\u001b[0m\u001b[1;33m[\u001b[0m\u001b[1;36m8\u001b[0m\u001b[1;33m]\u001b[0m  \u001b[1;31m# Well, this list is not that long\u001b[0m\u001b[1;33m\u001b[0m\u001b[0m\n\u001b[0m",
        "\u001b[1;31mIndexError\u001b[0m: list index out of range"
       ]
      }
     ],
     "prompt_number": 29
    },
    {
     "cell_type": "markdown",
     "metadata": {},
     "source": [
      "One difference here, unlike strings, lists are **mutable**, that means that once defined, we can change its values. Let's see how to delete eleents using `del`."
     ]
    },
    {
     "cell_type": "code",
     "collapsed": false,
     "input": [
      "l = [1, 2, 3, 4, 5, 6, 7, 8]\n",
      "del l[3:6]\n",
      "del l[0]\n",
      "l"
     ],
     "language": "python",
     "metadata": {},
     "outputs": [
      {
       "metadata": {},
       "output_type": "pyout",
       "prompt_number": 30,
       "text": [
        "[2, 3, 7, 8]"
       ]
      }
     ],
     "prompt_number": 30
    },
    {
     "cell_type": "markdown",
     "metadata": {},
     "source": [
      "Lists, like almost everything in Python, are **objects**, and objects have **methods**. Methods are functions that only **operate over the same object that are invoked from**. Better with an example.\n",
      "\n",
      "The list method `append()` adds an element to the end of the list."
     ]
    },
    {
     "cell_type": "code",
     "collapsed": false,
     "input": [
      "l.append(\"I see it now!\")\n",
      "l"
     ],
     "language": "python",
     "metadata": {},
     "outputs": [
      {
       "metadata": {},
       "output_type": "pyout",
       "prompt_number": 31,
       "text": [
        "[2, 3, 7, 8, 'I see it now!']"
       ]
      }
     ],
     "prompt_number": 31
    },
    {
     "cell_type": "markdown",
     "metadata": {},
     "source": [
      "The method `pop()` removes and returns the last item in the list. If an index is specified, it removes the item at the given position in the list, and return it."
     ]
    },
    {
     "cell_type": "code",
     "collapsed": false,
     "input": [
      "l.pop()"
     ],
     "language": "python",
     "metadata": {},
     "outputs": [
      {
       "metadata": {},
       "output_type": "pyout",
       "prompt_number": 32,
       "text": [
        "'I see it now!'"
       ]
      }
     ],
     "prompt_number": 32
    },
    {
     "cell_type": "markdown",
     "metadata": {},
     "source": [
      "<div align=\"center\">\n",
      "<img src=\"files/images/poppop.gif\" width=\"350\">\n",
      "<br>\n",
      "*Pop! Pop!*\n",
      "</div>"
     ]
    },
    {
     "cell_type": "markdown",
     "metadata": {},
     "source": [
      "And `index()` gives you the position of an element, if the element is member of the list. And remember, the **first position is 0, not 1**. In Python we start counting at zero, so the first element is the one that is in the position 0, the second in the position 1, and so no."
     ]
    },
    {
     "cell_type": "code",
     "collapsed": false,
     "input": [
      "l.index(8)"
     ],
     "language": "python",
     "metadata": {},
     "outputs": [
      {
       "metadata": {},
       "output_type": "pyout",
       "prompt_number": 33,
       "text": [
        "3"
       ]
      }
     ],
     "prompt_number": 33
    },
    {
     "cell_type": "markdown",
     "metadata": {},
     "source": [
      "Checking for membership is as expected."
     ]
    },
    {
     "cell_type": "code",
     "collapsed": false,
     "input": [
      "1 in m"
     ],
     "language": "python",
     "metadata": {},
     "outputs": [
      {
       "metadata": {},
       "output_type": "pyout",
       "prompt_number": 34,
       "text": [
        "True"
       ]
      }
     ],
     "prompt_number": 34
    },
    {
     "cell_type": "markdown",
     "metadata": {},
     "source": [
      "And `remove()` removes the element from the list, again, if it's already a member."
     ]
    },
    {
     "cell_type": "code",
     "collapsed": false,
     "input": [
      "l.remove(2)\n",
      "l"
     ],
     "language": "python",
     "metadata": {},
     "outputs": [
      {
       "metadata": {},
       "output_type": "pyout",
       "prompt_number": 35,
       "text": [
        "[3, 7, 8]"
       ]
      }
     ],
     "prompt_number": 35
    },
    {
     "cell_type": "code",
     "collapsed": false,
     "input": [
      "l.remove(\"not in the list\")"
     ],
     "language": "python",
     "metadata": {},
     "outputs": [
      {
       "ename": "ValueError",
       "evalue": "list.remove(x): x not in list",
       "output_type": "pyerr",
       "traceback": [
        "\u001b[1;31m---------------------------------------------------------------------------\u001b[0m\n\u001b[1;31mValueError\u001b[0m                                Traceback (most recent call last)",
        "\u001b[1;32m<ipython-input-36-75d84370031e>\u001b[0m in \u001b[0;36m<module>\u001b[1;34m()\u001b[0m\n\u001b[1;32m----> 1\u001b[1;33m \u001b[0ml\u001b[0m\u001b[1;33m.\u001b[0m\u001b[0mremove\u001b[0m\u001b[1;33m(\u001b[0m\u001b[1;34m\"not in the list\"\u001b[0m\u001b[1;33m)\u001b[0m\u001b[1;33m\u001b[0m\u001b[0m\n\u001b[0m",
        "\u001b[1;31mValueError\u001b[0m: list.remove(x): x not in list"
       ]
      }
     ],
     "prompt_number": 36
    },
    {
     "cell_type": "markdown",
     "metadata": {},
     "source": [
      "The `+` operator concatenates lists."
     ]
    },
    {
     "cell_type": "code",
     "collapsed": false,
     "input": [
      "a = [1, 2, 3]\n",
      "b = [4, 5, 6]\n",
      "c = a + b\n",
      "c"
     ],
     "language": "python",
     "metadata": {},
     "outputs": [
      {
       "metadata": {},
       "output_type": "pyout",
       "prompt_number": 37,
       "text": [
        "[1, 2, 3, 4, 5, 6]"
       ]
      }
     ],
     "prompt_number": 37
    },
    {
     "cell_type": "markdown",
     "metadata": {},
     "source": [
      "Similarly, the `*` operator repeats a list a given number of times."
     ]
    },
    {
     "cell_type": "code",
     "collapsed": false,
     "input": [
      "[0] * 4"
     ],
     "language": "python",
     "metadata": {},
     "outputs": [
      {
       "metadata": {},
       "output_type": "pyout",
       "prompt_number": 38,
       "text": [
        "[0, 0, 0, 0]"
       ]
      }
     ],
     "prompt_number": 38
    },
    {
     "cell_type": "code",
     "collapsed": false,
     "input": [
      "[1, 2, 3] * 3"
     ],
     "language": "python",
     "metadata": {},
     "outputs": [
      {
       "metadata": {},
       "output_type": "pyout",
       "prompt_number": 39,
       "text": [
        "[1, 2, 3, 1, 2, 3, 1, 2, 3]"
       ]
      }
     ],
     "prompt_number": 39
    },
    {
     "cell_type": "markdown",
     "metadata": {},
     "source": [
      "And as I promised, more `for` loops! Analyze carefully the output of the next cell."
     ]
    },
    {
     "cell_type": "code",
     "collapsed": false,
     "input": [
      "lst = [1, 1.6, False, None, \"sup, yo!\", [\"WAT!\", 4]]\n",
      "for item in lst:\n",
      "    print(item)"
     ],
     "language": "python",
     "metadata": {},
     "outputs": [
      {
       "output_type": "stream",
       "stream": "stdout",
       "text": [
        "1\n",
        "1.6\n",
        "False\n",
        "None\n",
        "sup, yo!\n",
        "['WAT!', 4]\n"
       ]
      }
     ],
     "prompt_number": 40
    },
    {
     "cell_type": "markdown",
     "metadata": {},
     "source": [
      "And one last important thing. When you *assign* lists, the **content is not copied**. Actually, what you are doing is creating another name for the same value."
     ]
    },
    {
     "cell_type": "code",
     "collapsed": false,
     "input": [
      "l1 = [1, 2, 3]\n",
      "l2 = l1\n",
      "l2[1] = \"OMG!\"  # This is how you can edit an element, remember\n",
      "# We print l1 and... OMG!\n",
      "l1"
     ],
     "language": "python",
     "metadata": {},
     "outputs": [
      {
       "metadata": {},
       "output_type": "pyout",
       "prompt_number": 41,
       "text": [
        "[1, 'OMG!', 3]"
       ]
      }
     ],
     "prompt_number": 41
    },
    {
     "cell_type": "markdown",
     "metadata": {},
     "source": [
      "But Python provides you with a way to copy the whole thing, a method for lists called, suprise surprise, `copy()`"
     ]
    },
    {
     "cell_type": "code",
     "collapsed": false,
     "input": [
      "l1 = [1, 2, 3]\n",
      "l2 = l1.copy()  # An equivalent way would be to use l1[:]\n",
      "l2[1] = \"OMG!\"\n",
      "# Print now l1 and... voil\u00e1!\n",
      "l1"
     ],
     "language": "python",
     "metadata": {},
     "outputs": [
      {
       "metadata": {},
       "output_type": "pyout",
       "prompt_number": 42,
       "text": [
        "[1, 2, 3]"
       ]
      }
     ],
     "prompt_number": 42
    },
    {
     "cell_type": "markdown",
     "metadata": {},
     "source": [
      "<div style=\"font-size: 1em; margin: 1em 0 1em 0; border: 1px solid #86989B; background-color: #f7f7f7; padding: 0;\">\n",
      "<p style=\"margin: 0; padding: 0.1em 0 0.1em 0.5em; color: white; border-bottom: 1px solid #86989B; font-weight: bold; background-color: #AFC1C4;\">\n",
      "Activity\n",
      "</p>\n",
      "<p style=\"margin: 0.5em 1em 0.5em 1em; padding: 0;\">\n",
      "Python `list`s have a method called `join()` that does exactly the opposite that `str`'s method `split()`. Play around to discover what they do.\n",
      "<p>\n",
      "</div>"
     ]
    },
    {
     "cell_type": "heading",
     "level": 2,
     "metadata": {},
     "source": [
      "The `range` function"
     ]
    },
    {
     "cell_type": "markdown",
     "metadata": {},
     "source": [
      "In programming, there is the need for simple integer lists so that we can count things. In Python this is made easy through the `range()` built-in function."
     ]
    },
    {
     "cell_type": "code",
     "collapsed": false,
     "input": [
      "for i in range(10):\n",
      "    print(i)"
     ],
     "language": "python",
     "metadata": {},
     "outputs": [
      {
       "output_type": "stream",
       "stream": "stdout",
       "text": [
        "0\n",
        "1\n",
        "2\n",
        "3\n",
        "4\n",
        "5\n",
        "6\n",
        "7\n",
        "8\n",
        "9\n"
       ]
      }
     ],
     "prompt_number": 43
    },
    {
     "cell_type": "markdown",
     "metadata": {},
     "source": [
      "Depending on Python version, may or may not return a list. But anyhow, it always returns something that you can iterate over. It also supports parameters, so you can count up or down, in steps, and starting and ending in specific values. For more, read the docs on [`range()`](https://docs.python.org/3/library/functions.html#func-range)."
     ]
    },
    {
     "cell_type": "code",
     "collapsed": false,
     "input": [
      "for i in range(10, -10, -2):\n",
      "    print(i)"
     ],
     "language": "python",
     "metadata": {},
     "outputs": [
      {
       "output_type": "stream",
       "stream": "stdout",
       "text": [
        "10\n",
        "8\n",
        "6\n",
        "4\n",
        "2\n",
        "0\n",
        "-2\n",
        "-4\n",
        "-6\n",
        "-8\n"
       ]
      }
     ],
     "prompt_number": 44
    },
    {
     "cell_type": "code",
     "collapsed": false,
     "input": [
      "for i in range(-10, 10, 2):\n",
      "    print(i)"
     ],
     "language": "python",
     "metadata": {},
     "outputs": [
      {
       "output_type": "stream",
       "stream": "stdout",
       "text": [
        "-10\n",
        "-8\n",
        "-6\n",
        "-4\n",
        "-2\n",
        "0\n",
        "2\n",
        "4\n",
        "6\n",
        "8\n"
       ]
      }
     ],
     "prompt_number": 45
    },
    {
     "cell_type": "markdown",
     "metadata": {},
     "source": [
      "Notice that while the first argument in taken into account, the second is not, so the resulting list/iterable won't included it."
     ]
    },
    {
     "cell_type": "heading",
     "level": 2,
     "metadata": {},
     "source": [
      "Tuples"
     ]
    },
    {
     "cell_type": "markdown",
     "metadata": {},
     "source": [
      "We have seen that lists can be modified at any time. But what if you want your list to be the same all the time? That means that you want an **immutable** list, which is called a `tuple()`."
     ]
    },
    {
     "cell_type": "code",
     "collapsed": false,
     "input": [
      "t = (1, 2, \"cats\")"
     ],
     "language": "python",
     "metadata": {},
     "outputs": [],
     "prompt_number": 46
    },
    {
     "cell_type": "code",
     "collapsed": false,
     "input": [
      "t[0]"
     ],
     "language": "python",
     "metadata": {},
     "outputs": [
      {
       "metadata": {},
       "output_type": "pyout",
       "prompt_number": 47,
       "text": [
        "1"
       ]
      }
     ],
     "prompt_number": 47
    },
    {
     "cell_type": "code",
     "collapsed": false,
     "input": [
      "t[0] = 56  # Nah, nah, nah"
     ],
     "language": "python",
     "metadata": {},
     "outputs": [
      {
       "ename": "TypeError",
       "evalue": "'tuple' object does not support item assignment",
       "output_type": "pyerr",
       "traceback": [
        "\u001b[1;31m---------------------------------------------------------------------------\u001b[0m\n\u001b[1;31mTypeError\u001b[0m                                 Traceback (most recent call last)",
        "\u001b[1;32m<ipython-input-48-ac4a9f68cc76>\u001b[0m in \u001b[0;36m<module>\u001b[1;34m()\u001b[0m\n\u001b[1;32m----> 1\u001b[1;33m \u001b[0mt\u001b[0m\u001b[1;33m[\u001b[0m\u001b[1;36m0\u001b[0m\u001b[1;33m]\u001b[0m \u001b[1;33m=\u001b[0m \u001b[1;36m56\u001b[0m  \u001b[1;31m# Nah, nah, nah\u001b[0m\u001b[1;33m\u001b[0m\u001b[0m\n\u001b[0m",
        "\u001b[1;31mTypeError\u001b[0m: 'tuple' object does not support item assignment"
       ]
      }
     ],
     "prompt_number": 48
    },
    {
     "cell_type": "markdown",
     "metadata": {},
     "source": [
      "So, besides the operations to modify lists, the rest of them are also applicable to tuples. And as a side-effect, tuples are way more efficient in memory than lists.\n",
      "\n",
      "You can even convert tuples into list and back"
     ]
    },
    {
     "cell_type": "code",
     "collapsed": false,
     "input": [
      "tuple([1, 2, 3])"
     ],
     "language": "python",
     "metadata": {},
     "outputs": [
      {
       "metadata": {},
       "output_type": "pyout",
       "prompt_number": 49,
       "text": [
        "(1, 2, 3)"
       ]
      }
     ],
     "prompt_number": 49
    },
    {
     "cell_type": "code",
     "collapsed": false,
     "input": [
      "list((1, 2, 3))"
     ],
     "language": "python",
     "metadata": {},
     "outputs": [
      {
       "metadata": {},
       "output_type": "pyout",
       "prompt_number": 50,
       "text": [
        "[1, 2, 3]"
       ]
      }
     ],
     "prompt_number": 50
    },
    {
     "cell_type": "code",
     "collapsed": false,
     "input": [
      "print(type(tuple()), type(list()))"
     ],
     "language": "python",
     "metadata": {},
     "outputs": [
      {
       "output_type": "stream",
       "stream": "stdout",
       "text": [
        "<class 'tuple'> <class 'list'>\n"
       ]
      }
     ],
     "prompt_number": 51
    },
    {
     "cell_type": "markdown",
     "metadata": {},
     "source": [
      "<div style=\"font-size: 1em; margin: 1em 0 1em 0; border: 1px solid #86989B; background-color: #f7f7f7; padding: 0;\">\n",
      "<p style=\"margin: 0; padding: 0.1em 0 0.1em 0.5em; color: white; border-bottom: 1px solid #86989B; font-weight: bold; background-color: #AFC1C4;\">\n",
      "Activity\n",
      "</p>\n",
      "<p style=\"margin: 0.5em 1em 0.5em 1em; padding: 0;\">\n",
      "Write a function, `count_char(stringm char)`, that counts the number of aparitions of the character `char` in the string `string`, and returns it.\n",
      "<br>\n",
      "<br>\n",
      "For example, if we call `count_char(\"Mississippi\", \"s\")`, the result must be `4`.\n",
      "<p>\n",
      "</div>"
     ]
    },
    {
     "cell_type": "heading",
     "level": 2,
     "metadata": {},
     "source": [
      "Dictionaries"
     ]
    },
    {
     "cell_type": "markdown",
     "metadata": {},
     "source": [
      "All of this takes us to last built-in data type in Python: the dictionary. It's the most complex data structure we've seen so far, yet very powerful and useful.\n",
      "\n",
      "You can think of a dictionary as a list in which the indices can be any (immutable) value, not just integer numbers, and **map** other values."
     ]
    },
    {
     "cell_type": "markdown",
     "metadata": {},
     "source": [
      "One way to create a dictionary is to start with the empty dictionary and add key-value pairs. The empty dictionary is denoted `{}`, or we can also use the type `dict()`. To add new **key-value pairs**, we use the `[]` notation, as in lists."
     ]
    },
    {
     "cell_type": "code",
     "collapsed": false,
     "input": [
      "d = {}\n",
      "d[0] = 'a'\n",
      "d[1] = 'b'\n",
      "d"
     ],
     "language": "python",
     "metadata": {},
     "outputs": [
      {
       "metadata": {},
       "output_type": "pyout",
       "prompt_number": 52,
       "text": [
        "{0: 'a', 1: 'b'}"
       ]
      }
     ],
     "prompt_number": 52
    },
    {
     "cell_type": "markdown",
     "metadata": {},
     "source": [
      "Or we can build the dictionary at once, as we do with lists or tuples, by separating each key from the value with a colon, `:`, and then the pairs with commas, `,`."
     ]
    },
    {
     "cell_type": "code",
     "collapsed": false,
     "input": [
      "d = {0: 'a', 1: 'b'}\n",
      "d"
     ],
     "language": "python",
     "metadata": {},
     "outputs": [
      {
       "metadata": {},
       "output_type": "pyout",
       "prompt_number": 53,
       "text": [
        "{0: 'a', 1: 'b'}"
       ]
      }
     ],
     "prompt_number": 53
    },
    {
     "cell_type": "markdown",
     "metadata": {},
     "source": [
      "Let's create an example dictionary that we can use to translate numbers from English to Spanish."
     ]
    },
    {
     "cell_type": "code",
     "collapsed": false,
     "input": [
      "trans = {\n",
      "    \"one\": \"uno\",\n",
      "    \"two\": \"dos\",\n",
      "    \"three\": \"tres\",\n",
      "    \"four\": \"cuatro\",\n",
      "    \"five\": \"cinco\",\n",
      "}"
     ],
     "language": "python",
     "metadata": {},
     "outputs": [],
     "prompt_number": 54
    },
    {
     "cell_type": "code",
     "collapsed": false,
     "input": [
      "trans[\"one\"]"
     ],
     "language": "python",
     "metadata": {},
     "outputs": [
      {
       "metadata": {},
       "output_type": "pyout",
       "prompt_number": 55,
       "text": [
        "'uno'"
       ]
      }
     ],
     "prompt_number": 55
    },
    {
     "cell_type": "code",
     "collapsed": false,
     "input": [
      "\"Yo quiero {number} hamburguesas\".format(number=trans[\"three\"])"
     ],
     "language": "python",
     "metadata": {},
     "outputs": [
      {
       "metadata": {},
       "output_type": "pyout",
       "prompt_number": 56,
       "text": [
        "'Yo quiero tres hamburguesas'"
       ]
      }
     ],
     "prompt_number": 56
    },
    {
     "cell_type": "markdown",
     "metadata": {},
     "source": [
      "Dictionaries have some useful methods.\n",
      "\n",
      "- Get the list of keys."
     ]
    },
    {
     "cell_type": "code",
     "collapsed": false,
     "input": [
      "for key in d.keys():\n",
      "    print(key)"
     ],
     "language": "python",
     "metadata": {},
     "outputs": [
      {
       "output_type": "stream",
       "stream": "stdout",
       "text": [
        "0\n",
        "1\n"
       ]
      }
     ],
     "prompt_number": 57
    },
    {
     "cell_type": "markdown",
     "metadata": {},
     "source": [
      "- Get the list of values."
     ]
    },
    {
     "cell_type": "code",
     "collapsed": false,
     "input": [
      "for value in d.values():\n",
      "    print(value)"
     ],
     "language": "python",
     "metadata": {},
     "outputs": [
      {
       "output_type": "stream",
       "stream": "stdout",
       "text": [
        "a\n",
        "b\n"
       ]
      }
     ],
     "prompt_number": 58
    },
    {
     "cell_type": "markdown",
     "metadata": {},
     "source": [
      "- Get the list of pairs or items."
     ]
    },
    {
     "cell_type": "code",
     "collapsed": false,
     "input": [
      "for pair in d.items():\n",
      "    print(pair)"
     ],
     "language": "python",
     "metadata": {},
     "outputs": [
      {
       "output_type": "stream",
       "stream": "stdout",
       "text": [
        "(0, 'a')\n",
        "(1, 'b')\n"
       ]
      }
     ],
     "prompt_number": 59
    },
    {
     "cell_type": "code",
     "collapsed": false,
     "input": [
      "# Althougg is usually more useful if we split the key and the value\n",
      "for key, value in d.items():\n",
      "    print(key, value)"
     ],
     "language": "python",
     "metadata": {},
     "outputs": [
      {
       "output_type": "stream",
       "stream": "stdout",
       "text": [
        "0 a\n",
        "1 b\n"
       ]
      }
     ],
     "prompt_number": 60
    },
    {
     "cell_type": "markdown",
     "metadata": {},
     "source": [
      "- Check if a dictionary has something indexed under a certain key."
     ]
    },
    {
     "cell_type": "markdown",
     "metadata": {},
     "source": [
      "Usually, if you try to retrieve the value associted to a key that doesn't exist in the dictionary, you'll see an error."
     ]
    },
    {
     "cell_type": "code",
     "collapsed": false,
     "input": [
      "d[\"key\"]"
     ],
     "language": "python",
     "metadata": {},
     "outputs": [
      {
       "ename": "KeyError",
       "evalue": "'key'",
       "output_type": "pyerr",
       "traceback": [
        "\u001b[1;31m---------------------------------------------------------------------------\u001b[0m\n\u001b[1;31mKeyError\u001b[0m                                  Traceback (most recent call last)",
        "\u001b[1;32m<ipython-input-61-7add22e82fd1>\u001b[0m in \u001b[0;36m<module>\u001b[1;34m()\u001b[0m\n\u001b[1;32m----> 1\u001b[1;33m \u001b[0md\u001b[0m\u001b[1;33m[\u001b[0m\u001b[1;34m\"key\"\u001b[0m\u001b[1;33m]\u001b[0m\u001b[1;33m\u001b[0m\u001b[0m\n\u001b[0m",
        "\u001b[1;31mKeyError\u001b[0m: 'key'"
       ]
      }
     ],
     "prompt_number": 61
    },
    {
     "cell_type": "markdown",
     "metadata": {},
     "source": [
      "To avoid this, you could firts ask if the key already exists in the dictionary, and in that key, just return the value associated with."
     ]
    },
    {
     "cell_type": "code",
     "collapsed": false,
     "input": [
      "\"key\" in d"
     ],
     "language": "python",
     "metadata": {},
     "outputs": [
      {
       "metadata": {},
       "output_type": "pyout",
       "prompt_number": 62,
       "text": [
        "False"
       ]
      }
     ],
     "prompt_number": 62
    },
    {
     "cell_type": "code",
     "collapsed": false,
     "input": [
      "key = 0\n",
      "if key in d:\n",
      "    print(d[key])\n",
      "else:\n",
      "    print(\"Not here!\")"
     ],
     "language": "python",
     "metadata": {},
     "outputs": [
      {
       "output_type": "stream",
       "stream": "stdout",
       "text": [
        "a\n"
       ]
      }
     ],
     "prompt_number": 63
    },
    {
     "cell_type": "markdown",
     "metadata": {},
     "source": [
      "The last pattern is so common that Python includes a shorthand for that."
     ]
    },
    {
     "cell_type": "code",
     "collapsed": false,
     "input": [
      "key = 1\n",
      "d.get(key, \"value if d doesn't contain the key\")"
     ],
     "language": "python",
     "metadata": {},
     "outputs": [
      {
       "metadata": {},
       "output_type": "pyout",
       "prompt_number": 64,
       "text": [
        "'b'"
       ]
      }
     ],
     "prompt_number": 64
    },
    {
     "cell_type": "code",
     "collapsed": false,
     "input": [
      "key = \"nope\"\n",
      "d.get(key, \"value if d doesn't contain the key\")"
     ],
     "language": "python",
     "metadata": {},
     "outputs": [
      {
       "metadata": {},
       "output_type": "pyout",
       "prompt_number": 65,
       "text": [
        "\"value if d doesn't contain the key\""
       ]
      }
     ],
     "prompt_number": 65
    },
    {
     "cell_type": "markdown",
     "metadata": {},
     "source": [
      "<div style=\"font-size: 1em; margin: 1em 0 1em 0; border: 1px solid #86989B; background-color: #f7f7f7; padding: 0;\">\n",
      "<p style=\"margin: 0; padding: 0.1em 0 0.1em 0.5em; color: white; border-bottom: 1px solid #86989B; font-weight: bold; background-color: #AFC1C4;\">\n",
      "Activity\n",
      "</p>\n",
      "<p style=\"margin: 0.5em 1em 0.5em 1em; padding: 0;\">\n",
      "Write a function, `freq_dict(string)`, that counts the number of aparitions of each letter in the string `string`, and returns a dictionary with letters as keys and their frequencies as values.\n",
      "<br>\n",
      "<br>\n",
      "For example, if we call `freq_dict(\"Mississippi\")`, the result must be `{'M': 1, 's': 4, 'p': 2, 'i': 4}`\n",
      "<p>\n",
      "</div>"
     ]
    },
    {
     "cell_type": "heading",
     "level": 2,
     "metadata": {},
     "source": [
      "For the [next class](class05.ipynb)"
     ]
    },
    {
     "cell_type": "markdown",
     "metadata": {},
     "source": [
      "- Section [1.3. NumPy: creating and manipulating numerical data, from Scipy lecture notes](http://scipy-lectures.github.io/intro/numpy/index.html).\n",
      "- Section [1.5.6. Statistics and random numbers: scipy.stats, from Scipy lecture notes](http://scipy-lectures.github.io/intro/scipy.html#statistics-and-random-numbers-scipy-stats)."
     ]
    }
   ],
   "metadata": {}
  }
 ]
}