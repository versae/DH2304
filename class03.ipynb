{
 "metadata": {
  "name": "",
  "signature": "sha256:e592e9f858b3b6567b1497488dcfa6ba682c35fe9d714b49cfec0d20826be703"
 },
 "nbformat": 3,
 "nbformat_minor": 0,
 "worksheets": [
  {
   "cells": [
    {
     "cell_type": "markdown",
     "metadata": {},
     "source": [
      "<div align=\"center\">\n",
      "<h1>[Data, the Humanist's New Best Friend](index.ipynb)<br/>*Class 03*</h1>\n",
      "</div>"
     ]
    },
    {
     "cell_type": "markdown",
     "metadata": {},
     "source": [
      "In this class you are expected to learn:\n",
      "\n",
      "1. Boolean logic\n",
      "2. Define functions\n",
      "3. Debug problems\n",
      "4. Get data from the keyboard"
     ]
    },
    {
     "cell_type": "markdown",
     "metadata": {},
     "source": [
      "<div align=\"center\">\n",
      "<img src=\"files/images/dumbledore_logic.jpg\" width=\"350\">\n",
      "<br>\n",
      "*Dumbledore's logic*\n",
      "</div>"
     ]
    },
    {
     "cell_type": "heading",
     "level": 2,
     "metadata": {},
     "source": [
      "Comparisions and Logical Operators"
     ]
    },
    {
     "cell_type": "code",
     "collapsed": false,
     "input": [
      "if someone is unicorn_killer:\n",
      "    send_kids_to_catch(someone)\n",
      "# Doesn't sound like a good idea"
     ],
     "language": "python",
     "metadata": {},
     "outputs": [
      {
       "ename": "NameError",
       "evalue": "name 'someone' is not defined",
       "output_type": "pyerr",
       "traceback": [
        "\u001b[1;31m---------------------------------------------------------------------------\u001b[0m\n\u001b[1;31mNameError\u001b[0m                                 Traceback (most recent call last)",
        "\u001b[1;32m<ipython-input-1-5a0d376a018c>\u001b[0m in \u001b[0;36m<module>\u001b[1;34m()\u001b[0m\n\u001b[1;32m----> 1\u001b[1;33m \u001b[1;32mif\u001b[0m \u001b[0msomeone\u001b[0m \u001b[1;32mis\u001b[0m \u001b[0municorn_killer\u001b[0m\u001b[1;33m:\u001b[0m\u001b[1;33m\u001b[0m\u001b[0m\n\u001b[0m\u001b[0;32m      2\u001b[0m     \u001b[0msend_kids_to_catch\u001b[0m\u001b[1;33m(\u001b[0m\u001b[0msomeone\u001b[0m\u001b[1;33m)\u001b[0m\u001b[1;33m\u001b[0m\u001b[0m\n\u001b[0;32m      3\u001b[0m \u001b[1;31m# Doesn't sound like a good idea\u001b[0m\u001b[1;33m\u001b[0m\u001b[1;33m\u001b[0m\u001b[0m\n",
        "\u001b[1;31mNameError\u001b[0m: name 'someone' is not defined"
       ]
      }
     ],
     "prompt_number": 1
    },
    {
     "cell_type": "markdown",
     "metadata": {},
     "source": [
      "Numerical operators are kind of intuitive. String operators just a bit less. But for logical operators we need to know some rules in advance on how those are evaluated.\n",
      "\n",
      "First we have comparisions, that are just evaluated to the true or false, in Python `True` or `False`\n",
      "\n",
      "- Greater than"
     ]
    },
    {
     "cell_type": "code",
     "collapsed": false,
     "input": [
      "4 > 7"
     ],
     "language": "python",
     "metadata": {},
     "outputs": [
      {
       "metadata": {},
       "output_type": "pyout",
       "prompt_number": 2,
       "text": [
        "False"
       ]
      }
     ],
     "prompt_number": 2
    },
    {
     "cell_type": "markdown",
     "metadata": {},
     "source": [
      "- Greater than or equal to"
     ]
    },
    {
     "cell_type": "code",
     "collapsed": false,
     "input": [
      "10 >= 6"
     ],
     "language": "python",
     "metadata": {},
     "outputs": [
      {
       "metadata": {},
       "output_type": "pyout",
       "prompt_number": 3,
       "text": [
        "True"
       ]
      }
     ],
     "prompt_number": 3
    },
    {
     "cell_type": "code",
     "collapsed": false,
     "input": [
      "2 => 3  # That '=>' doesn't exist in Python!"
     ],
     "language": "python",
     "metadata": {},
     "outputs": [
      {
       "ename": "SyntaxError",
       "evalue": "invalid syntax (<ipython-input-5-4d26c315c03c>, line 1)",
       "output_type": "pyerr",
       "traceback": [
        "\u001b[1;36m  File \u001b[1;32m\"<ipython-input-5-4d26c315c03c>\"\u001b[1;36m, line \u001b[1;32m1\u001b[0m\n\u001b[1;33m    2 => 3  # That '=>' doesn't exist in Python!\u001b[0m\n\u001b[1;37m       ^\u001b[0m\n\u001b[1;31mSyntaxError\u001b[0m\u001b[1;31m:\u001b[0m invalid syntax\n"
       ]
      }
     ],
     "prompt_number": 5
    },
    {
     "cell_type": "markdown",
     "metadata": {},
     "source": [
      "- Less than"
     ]
    },
    {
     "cell_type": "code",
     "collapsed": false,
     "input": [
      "78 < 5"
     ],
     "language": "python",
     "metadata": {},
     "outputs": [
      {
       "metadata": {},
       "output_type": "pyout",
       "prompt_number": 6,
       "text": [
        "False"
       ]
      }
     ],
     "prompt_number": 6
    },
    {
     "cell_type": "markdown",
     "metadata": {},
     "source": [
      "- Less than or equal to"
     ]
    },
    {
     "cell_type": "code",
     "collapsed": false,
     "input": [
      "5 <= 78"
     ],
     "language": "python",
     "metadata": {},
     "outputs": [
      {
       "metadata": {},
       "output_type": "pyout",
       "prompt_number": 8,
       "text": [
        "True"
       ]
      }
     ],
     "prompt_number": 8
    },
    {
     "cell_type": "markdown",
     "metadata": {},
     "source": [
      "- Equals"
     ]
    },
    {
     "cell_type": "code",
     "collapsed": false,
     "input": [
      "a = 3\n",
      "a == 3  # We use '==' to check if two things are equal"
     ],
     "language": "python",
     "metadata": {},
     "outputs": [
      {
       "metadata": {},
       "output_type": "pyout",
       "prompt_number": 9,
       "text": [
        "True"
       ]
      }
     ],
     "prompt_number": 9
    },
    {
     "cell_type": "code",
     "collapsed": false,
     "input": [
      "5 == \"5\"  # Comparing numbers with strings"
     ],
     "language": "python",
     "metadata": {},
     "outputs": [
      {
       "metadata": {},
       "output_type": "pyout",
       "prompt_number": 10,
       "text": [
        "False"
       ]
      }
     ],
     "prompt_number": 10
    },
    {
     "cell_type": "markdown",
     "metadata": {},
     "source": [
      "- Distinct"
     ]
    },
    {
     "cell_type": "code",
     "collapsed": false,
     "input": [
      "23 != \"23\""
     ],
     "language": "python",
     "metadata": {},
     "outputs": [
      {
       "metadata": {},
       "output_type": "pyout",
       "prompt_number": 11,
       "text": [
        "True"
       ]
      }
     ],
     "prompt_number": 11
    },
    {
     "cell_type": "code",
     "collapsed": false,
     "input": [
      "5 != 5.0  # Automatic casting here!"
     ],
     "language": "python",
     "metadata": {},
     "outputs": [
      {
       "metadata": {},
       "output_type": "pyout",
       "prompt_number": 12,
       "text": [
        "False"
       ]
      }
     ],
     "prompt_number": 12
    },
    {
     "cell_type": "markdown",
     "metadata": {},
     "source": [
      "So once we have logical values, this is, values that are evaluated as true or false, we can start using the logical operators.\n",
      "\n",
      "The basic rules are shown below. Other than that, it's just using precedence rules.\n",
      "\n",
      "- The `and` operator, basically makes the whole expression `True` if all the parts are also `True`"
     ]
    },
    {
     "cell_type": "code",
     "collapsed": false,
     "input": [
      "True and True"
     ],
     "language": "python",
     "metadata": {},
     "outputs": [
      {
       "metadata": {},
       "output_type": "pyout",
       "prompt_number": 13,
       "text": [
        "True"
       ]
      }
     ],
     "prompt_number": 13
    },
    {
     "cell_type": "code",
     "collapsed": false,
     "input": [
      "True and False"
     ],
     "language": "python",
     "metadata": {},
     "outputs": [
      {
       "metadata": {},
       "output_type": "pyout",
       "prompt_number": 14,
       "text": [
        "False"
       ]
      }
     ],
     "prompt_number": 14
    },
    {
     "cell_type": "code",
     "collapsed": false,
     "input": [
      "False and True"
     ],
     "language": "python",
     "metadata": {},
     "outputs": [
      {
       "metadata": {},
       "output_type": "pyout",
       "prompt_number": 15,
       "text": [
        "False"
       ]
      }
     ],
     "prompt_number": 15
    },
    {
     "cell_type": "code",
     "collapsed": false,
     "input": [
      "False and False"
     ],
     "language": "python",
     "metadata": {},
     "outputs": [
      {
       "metadata": {},
       "output_type": "pyout",
       "prompt_number": 16,
       "text": [
        "False"
       ]
      }
     ],
     "prompt_number": 16
    },
    {
     "cell_type": "markdown",
     "metadata": {},
     "source": [
      "- The `or` operator, on the other hand, makes the whole expression `True` if any of the parts is also `True`"
     ]
    },
    {
     "cell_type": "code",
     "collapsed": false,
     "input": [
      "True or True"
     ],
     "language": "python",
     "metadata": {},
     "outputs": [
      {
       "metadata": {},
       "output_type": "pyout",
       "prompt_number": 15,
       "text": [
        "True"
       ]
      }
     ],
     "prompt_number": 15
    },
    {
     "cell_type": "code",
     "collapsed": false,
     "input": [
      "True or False"
     ],
     "language": "python",
     "metadata": {},
     "outputs": [
      {
       "metadata": {},
       "output_type": "pyout",
       "prompt_number": 16,
       "text": [
        "True"
       ]
      }
     ],
     "prompt_number": 16
    },
    {
     "cell_type": "code",
     "collapsed": false,
     "input": [
      "False or True"
     ],
     "language": "python",
     "metadata": {},
     "outputs": [
      {
       "metadata": {},
       "output_type": "pyout",
       "prompt_number": 17,
       "text": [
        "True"
       ]
      }
     ],
     "prompt_number": 17
    },
    {
     "cell_type": "code",
     "collapsed": false,
     "input": [
      "False or False"
     ],
     "language": "python",
     "metadata": {},
     "outputs": [
      {
       "metadata": {},
       "output_type": "pyout",
       "prompt_number": 18,
       "text": [
        "False"
       ]
      }
     ],
     "prompt_number": 18
    },
    {
     "cell_type": "markdown",
     "metadata": {},
     "source": [
      "- The `not` operator gives the opposite logical value"
     ]
    },
    {
     "cell_type": "code",
     "collapsed": false,
     "input": [
      "not True"
     ],
     "language": "python",
     "metadata": {},
     "outputs": [
      {
       "metadata": {},
       "output_type": "pyout",
       "prompt_number": 19,
       "text": [
        "False"
       ]
      }
     ],
     "prompt_number": 19
    },
    {
     "cell_type": "code",
     "collapsed": false,
     "input": [
      "not False"
     ],
     "language": "python",
     "metadata": {},
     "outputs": [
      {
       "metadata": {},
       "output_type": "pyout",
       "prompt_number": 20,
       "text": [
        "True"
       ]
      }
     ],
     "prompt_number": 20
    },
    {
     "cell_type": "markdown",
     "metadata": {},
     "source": [
      "And how for something a little bit more complicated, are you ready? Before hitting Shif-Enter, think about what the outcome will be."
     ]
    },
    {
     "cell_type": "code",
     "collapsed": false,
     "input": [
      "a = 2\n",
      "b = 10\n",
      "(a / b <= 5) and not (b ** a > b * b)"
     ],
     "language": "python",
     "metadata": {},
     "outputs": [
      {
       "metadata": {},
       "output_type": "pyout",
       "prompt_number": 17,
       "text": [
        "True"
       ]
      }
     ],
     "prompt_number": 17
    },
    {
     "cell_type": "markdown",
     "metadata": {},
     "source": [
      "<div style=\"font-size: 1em; margin: 1em 0 1em 0; border: 1px solid #86989B; background-color: #f7f7f7; padding: 0;\">\n",
      "<p style=\"margin: 0; padding: 0.1em 0 0.1em 0.5em; color: white; border-bottom: 1px solid #86989B; font-weight: bold; background-color: #AFC1C4;\">\n",
      "Activity\n",
      "</p>\n",
      "<p style=\"margin: 0.5em 1em 0.5em 1em; padding: 0;\">\n",
      "Write an expression that evaluates to `True` if the a number in the variable `x` is even, and `False` otherwise.\n",
      "<br>\n",
      "*Hint*: The operator modulo, `%`, gives the reminder of a division. So `5 % 2` returns `1`.\n",
      "</p>\n",
      "</div>"
     ]
    },
    {
     "cell_type": "code",
     "collapsed": false,
     "input": [
      "x = 29\n",
      "x % 2 == 0"
     ],
     "language": "python",
     "metadata": {},
     "outputs": [
      {
       "metadata": {},
       "output_type": "pyout",
       "prompt_number": 27,
       "text": [
        "False"
       ]
      }
     ],
     "prompt_number": 27
    },
    {
     "cell_type": "heading",
     "level": 2,
     "metadata": {},
     "source": [
      "Errors"
     ]
    },
    {
     "cell_type": "markdown",
     "metadata": {},
     "source": [
      "Curious about that `SyntaxError` a few examples above? Every time Python doesn't understand something, it shouts it out pretty clearly in the form of `Exception`s and `Error`s.\n",
      "\n",
      "There are many kinds of errors and exceptions, so you can have a clue on what is going on in your code. The difference between errors and exceptions is so subtle, that for our purposes they are all the same. That means that if you see something is not working, is your turn to fix it! That fixing process is what we call **debugging**.\n",
      "\n",
      "<div align=\"center\">\n",
      "<img src=\"files/images/bug_vs_feature.jpg\" width=\"350\">\n",
      "<br>\n",
      "*It's not a bug, it's a feature!*\n",
      "</div>"
     ]
    },
    {
     "cell_type": "heading",
     "level": 2,
     "metadata": {},
     "source": [
      "Functions"
     ]
    },
    {
     "cell_type": "markdown",
     "metadata": {},
     "source": [
      "You will eventually find yourself writing the same series of statements over and over (or cutting and pasting in your editor). Surely there is a cleaner way to do this? We want a way to group together sequence of statements that we frequently reuse.\n",
      "\n",
      "In Python, we do this with a **function**. Here\u2019s one now:"
     ]
    },
    {
     "cell_type": "code",
     "collapsed": false,
     "input": [
      "def my_function(a_parameter):\n",
      "        b = a_parameter * 2\n",
      "        print(b)"
     ],
     "language": "python",
     "metadata": {},
     "outputs": [],
     "prompt_number": 34
    },
    {
     "cell_type": "markdown",
     "metadata": {},
     "source": [
      "Once you've defined a function, you can **call it** or invoke it from the Python interpreter or from IPython in exactly the same way you'd call a built-in function like `print`.\n",
      "\n",
      "So let\u2019s use our function:"
     ]
    },
    {
     "cell_type": "code",
     "collapsed": false,
     "input": [
      "my_function(2)"
     ],
     "language": "python",
     "metadata": {},
     "outputs": [
      {
       "output_type": "stream",
       "stream": "stdout",
       "text": [
        "4\n"
       ]
      }
     ],
     "prompt_number": 35
    },
    {
     "cell_type": "code",
     "collapsed": false,
     "input": [
      "my_function(\"hi \")"
     ],
     "language": "python",
     "metadata": {},
     "outputs": [
      {
       "output_type": "stream",
       "stream": "stdout",
       "text": [
        "hi hi \n"
       ]
      }
     ],
     "prompt_number": 37
    },
    {
     "cell_type": "code",
     "collapsed": false,
     "input": [
      "my_function(a_parameter=7)  # Call that uses the name of the argument"
     ],
     "language": "python",
     "metadata": {},
     "outputs": [
      {
       "output_type": "stream",
       "stream": "stdout",
       "text": [
        "14\n"
       ]
      }
     ],
     "prompt_number": 26
    },
    {
     "cell_type": "markdown",
     "metadata": {},
     "source": [
      "When we call `my_function`, the Python interpreter executes the statements that make up the function, in order.\n",
      "\n",
      "Functions make code easy to reuse, and easy to read. More importantly they facilitate *abstraction*.\n",
      "The general format for defining a function is:\n",
      "\n",
      "```python\n",
      "def function_name(p1,p2,p3,p4, ... ):\n",
      "        statement 1\n",
      "        statement 2\n",
      "        ...\n",
      "        statement m\n",
      "```\n",
      "\n",
      "- `function_name` is... the name of the function, duh!\n",
      "- `p1`, `p2`, etc. are called the **parameters**, you can have as many as you like.\n",
      "\n",
      "You tell Python which statements make up the body of the function by using **indentation** (our magic tabs!)."
     ]
    },
    {
     "cell_type": "markdown",
     "metadata": {},
     "source": [
      "<div align=\"center\">\n",
      "<img src=\"files/images/function_all_the_things.jpg\" width=\"350\">\n",
      "<br>\n",
      "*$f(x)$*\n",
      "</div>"
     ]
    },
    {
     "cell_type": "markdown",
     "metadata": {},
     "source": [
      "Furthermore, you can call a function inside a function."
     ]
    },
    {
     "cell_type": "code",
     "collapsed": false,
     "input": [
      "def my_2nd_function(param):\n",
      "    my_function(param)\n",
      "    my_function(param)\n",
      "    \n",
      "my_2nd_function(5)"
     ],
     "language": "python",
     "metadata": {},
     "outputs": [
      {
       "output_type": "stream",
       "stream": "stdout",
       "text": [
        "10\n",
        "10\n"
       ]
      }
     ],
     "prompt_number": 40
    },
    {
     "cell_type": "markdown",
     "metadata": {},
     "source": [
      "Probably, the most useful thing about functions is that they can **return values**. To do so, we just need to add one or several `return` statements, but every time a function reaches a `return` statement, **it returns whatever expression is accompanying and quits que function**, leaving the rest of the statements without executing."
     ]
    },
    {
     "cell_type": "code",
     "collapsed": false,
     "input": [
      "def another_function(a):\n",
      "    b = a + 5\n",
      "    return b\n",
      "    c = b + 5\n",
      "    return c"
     ],
     "language": "python",
     "metadata": {},
     "outputs": [],
     "prompt_number": 28
    },
    {
     "cell_type": "code",
     "collapsed": false,
     "input": [
      "another_function(0)"
     ],
     "language": "python",
     "metadata": {},
     "outputs": [
      {
       "metadata": {},
       "output_type": "pyout",
       "prompt_number": 29,
       "text": [
        "5"
       ]
      }
     ],
     "prompt_number": 29
    },
    {
     "cell_type": "markdown",
     "metadata": {},
     "source": [
      "In a function definition, the keyword in the header is `def`, which is followed by the name of the function (following snake_case naming) and a list of **parameters** enclosed in parentheses. These parameters become variables inside the function, and exist only there. Whatever you define inside a function, is local to that function and therefore not accesible from the outside. Thats what we call **scope**."
     ]
    },
    {
     "cell_type": "code",
     "collapsed": false,
     "input": [
      "variable = 20\n",
      "def func1(a):\n",
      "    value = a + 10\n",
      "\n",
      "func1(10)\n",
      "print(value)"
     ],
     "language": "python",
     "metadata": {},
     "outputs": [
      {
       "ename": "NameError",
       "evalue": "name 'value' is not defined",
       "output_type": "pyerr",
       "traceback": [
        "\u001b[1;31m---------------------------------------------------------------------------\u001b[0m\n\u001b[1;31mNameError\u001b[0m                                 Traceback (most recent call last)",
        "\u001b[1;32m<ipython-input-30-4527bd0c7321>\u001b[0m in \u001b[0;36m<module>\u001b[1;34m()\u001b[0m\n\u001b[0;32m      4\u001b[0m \u001b[1;33m\u001b[0m\u001b[0m\n\u001b[0;32m      5\u001b[0m \u001b[0mfunc1\u001b[0m\u001b[1;33m(\u001b[0m\u001b[1;36m10\u001b[0m\u001b[1;33m)\u001b[0m\u001b[1;33m\u001b[0m\u001b[0m\n\u001b[1;32m----> 6\u001b[1;33m \u001b[0mprint\u001b[0m\u001b[1;33m(\u001b[0m\u001b[0mvalue\u001b[0m\u001b[1;33m)\u001b[0m\u001b[1;33m\u001b[0m\u001b[0m\n\u001b[0m",
        "\u001b[1;31mNameError\u001b[0m: name 'value' is not defined"
       ]
      }
     ],
     "prompt_number": 30
    },
    {
     "cell_type": "markdown",
     "metadata": {},
     "source": [
      "Instead, you want to use the `return` statement and compound new expressions. This is called **composition**, no surprise here. So you can even have functions that are called using another function invokation as a paremeter, and so on..."
     ]
    },
    {
     "cell_type": "code",
     "collapsed": false,
     "input": [
      "def mind_blowing(param):\n",
      "    return \"Mind, \" + param\n",
      "\n",
      "mind_blowing(mind_blowing(mind_blowing(mind_blowing(mind_blowing(\"blowing!\")))))"
     ],
     "language": "python",
     "metadata": {},
     "outputs": [
      {
       "metadata": {},
       "output_type": "pyout",
       "prompt_number": 31,
       "text": [
        "'Mind, Mind, Mind, Mind, Mind, blowing!'"
       ]
      }
     ],
     "prompt_number": 31
    },
    {
     "cell_type": "markdown",
     "metadata": {},
     "source": [
      "<div align=\"center\">\n",
      "<img src=\"files/images/mind_blowing.gif\" width=\"350\">\n",
      "<br>\n",
      "*Careful! It's not that easy!*\n",
      "</div>"
     ]
    },
    {
     "cell_type": "markdown",
     "metadata": {},
     "source": [
      "The parameter list may be empty, or it may contain any number of parameters. In either case, the parentheses are required.\n",
      "\n",
      "Paremeters can be optional, so they can have default values, in which case they must put in the end of the list of parameters."
     ]
    },
    {
     "cell_type": "code",
     "collapsed": false,
     "input": [
      "def func_defaults(optional=5):\n",
      "    return optional + 10"
     ],
     "language": "python",
     "metadata": {},
     "outputs": [],
     "prompt_number": 32
    },
    {
     "cell_type": "code",
     "collapsed": false,
     "input": [
      "func_defaults(10)"
     ],
     "language": "python",
     "metadata": {},
     "outputs": [
      {
       "metadata": {},
       "output_type": "pyout",
       "prompt_number": 33,
       "text": [
        "20"
       ]
      }
     ],
     "prompt_number": 33
    },
    {
     "cell_type": "code",
     "collapsed": false,
     "input": [
      "func_defaults()"
     ],
     "language": "python",
     "metadata": {},
     "outputs": [
      {
       "metadata": {},
       "output_type": "pyout",
       "prompt_number": 34,
       "text": [
        "15"
       ]
      }
     ],
     "prompt_number": 34
    },
    {
     "cell_type": "code",
     "collapsed": false,
     "input": [
      "func_defaults() == func_defaults(5)"
     ],
     "language": "python",
     "metadata": {},
     "outputs": [
      {
       "metadata": {},
       "output_type": "pyout",
       "prompt_number": 35,
       "text": [
        "True"
       ]
      }
     ],
     "prompt_number": 35
    },
    {
     "cell_type": "markdown",
     "metadata": {},
     "source": [
      "<div style=\"font-size: 1em; margin: 1em 0 1em 0; border: 1px solid #86989B; background-color: #f7f7f7; padding: 0;\">\n",
      "<p style=\"margin: 0; padding: 0.1em 0 0.1em 0.5em; color: white; border-bottom: 1px solid #86989B; font-weight: bold; background-color: #AFC1C4;\">\n",
      "Activity\n",
      "</p>\n",
      "<p style=\"margin: 0.5em 1em 0.5em 1em; padding: 0;\">\n",
      "Write a function, `grade(number)`, that receives an number between 0.0 and 100.0 and returns the proper grading following the [Smith College numerology](http://cs.smith.edu/~orourke/Grading.html). For values outside the range, just print \"N/A\".\n",
      "<br>\n",
      "For example, `grade(88.75)` returns `B+`.\n",
      "</p>\n",
      "</div>"
     ]
    },
    {
     "cell_type": "heading",
     "level": 2,
     "metadata": {},
     "source": [
      "Inputs"
     ]
    },
    {
     "cell_type": "markdown",
     "metadata": {},
     "source": [
      "There is one (two in older versions of Python) *built-in* function in Python for getting keyboard input (we say built-in and we mean included in the Python standard library):"
     ]
    },
    {
     "cell_type": "code",
     "collapsed": false,
     "input": [
      "n = input(\"Enter something: \")\n",
      "print(n)"
     ],
     "language": "python",
     "metadata": {},
     "outputs": []
    },
    {
     "cell_type": "markdown",
     "metadata": {},
     "source": [
      "<div style=\"font-size: 1em; margin: 1em 0 1em 0; border: 1px solid #86989B; background-color: #f7f7f7; padding: 0;\">\n",
      "<p style=\"margin: 0; padding: 0.1em 0 0.1em 0.5em; color: white; border-bottom: 1px solid #86989B; font-weight: bold; background-color: #AFC1C4;\">\n",
      "Activity\n",
      "</p>\n",
      "<p style=\"margin: 0.5em 1em 0.5em 1em; padding: 0;\">\n",
      "Why the next code doesn't work? Do the needed modifications to make it work.\n",
      "</div>"
     ]
    },
    {
     "cell_type": "code",
     "collapsed": false,
     "input": [
      "age = input(\"Please enter your age: \")\n",
      "print(\"You were born in \", 2014 - age)"
     ],
     "language": "python",
     "metadata": {},
     "outputs": []
    },
    {
     "cell_type": "heading",
     "level": 2,
     "metadata": {},
     "source": [
      "For the [next class](class04.ipynb)"
     ]
    },
    {
     "cell_type": "markdown",
     "metadata": {},
     "source": [
      "- Read [chapter 5 (up to section 5.8) of *How to Think Like a Computer Scientist*](http://openbookproject.net/thinkcs/python/english2e/ch05.html)\n",
      "- Read [sections 6.1-6.3, 6.5-6.6, and 6.9-6.13 of chapter 5 of *How to Think Like a Computer Scientist*](http://openbookproject.net/thinkcs/python/english2e/ch06.html)\n",
      "- Read [chapter 7 of *How to Think Like a Computer Scientist*](http://openbookproject.net/thinkcs/python/english2e/ch07.html)\n",
      "- Read [chapter 9 of *How to Think Like a Computer Scientist*](http://openbookproject.net/thinkcs/python/english2e/ch09.html)\n",
      "- Read [chapter 12 of *How to Think Like a Computer Scientist*](http://openbookproject.net/thinkcs/python/english2e/ch12.html)\n"
     ]
    }
   ],
   "metadata": {}
  }
 ]
}