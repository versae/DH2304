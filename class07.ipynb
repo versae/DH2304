{
 "metadata": {
  "name": "",
  "signature": "sha256:10fc29b07f7221b11c0a3d7fe2e935936f8c731d86a9e0eb1d814f145d035a1f"
 },
 "nbformat": 3,
 "nbformat_minor": 0,
 "worksheets": [
  {
   "cells": [
    {
     "cell_type": "markdown",
     "metadata": {},
     "source": [
      "<div align=\"center\">\n",
      "<h1>[Data, the Humanist's New Best Friend](index.ipynb)<br/>*Class 07*</h1>\n",
      "</div>"
     ]
    },
    {
     "cell_type": "markdown",
     "metadata": {},
     "source": [
      "In this class you are expected to learn:\n",
      "\n",
      "1. Split-Apply-Combine\n",
      "2. String manipulation\n",
      "3. Cross-tabulation and pivoting\n",
      "5. Visualizations (matplotlib)\n",
      "6. Histograms"
     ]
    },
    {
     "cell_type": "markdown",
     "metadata": {},
     "source": [
      "<div align=\"center\">\n",
      "<img src=\"files/images/plotting.jpg\" width=\"350\">\n",
      "*We won't need Excel anymore... hopefully*\n",
      "</div>"
     ]
    },
    {
     "cell_type": "heading",
     "level": 2,
     "metadata": {},
     "source": [
      "Group By: Split-Apply-Combine"
     ]
    },
    {
     "cell_type": "markdown",
     "metadata": {},
     "source": [
      "Many data analysis problems involve the application of a split-apply-combine strategy, where you break up a big problem into manageable pieces, operate on each piece independently and then put all the pieces back together.\n",
      "\n",
      "In pandas, those operation are carried out by the `.groupby()` method of `DataFrames` and `Series`, but the meaning is the same. From the [documentation](http://pandas.pydata.org/pandas-docs/stable/groupby.html), by \"group by\" we are referring to a process involving one or more of the following steps:\n",
      "- **Splitting** the data into groups based on some criteria\n",
      "- **Applying** a function to each group independently\n",
      "- **Combining** the results into a data structure\n",
      "\n",
      "<div align=\"center\">\n",
      "<img src=\"files/images/split_apply_combine.png\" width=\"350\">\n",
      "<br>\n",
      "*Split by column `x`, apply average of `y` values per each category of x, and combine the results.*\n",
      "<br>\n",
      "Source: [Hadley Wickham's Data Science in R slides](http://courses.had.co.nz/12-oscon/)\n",
      "</div>\n",
      "\n",
      "Of these, the split step is the most straightforward. In fact, in many situations you may wish to split the data set into groups and do something with those groups yourself. In the apply step, we might wish to one of the following:\n",
      "- **Aggregation**: computing a summary statistic (or statistics) about each group. Some examples:\n",
      "    - Compute group sums or means\n",
      "    - Compute group sizes / counts\n",
      "- **Transformation**: perform some group-specific computations and return a like-indexed. Some examples:\n",
      "    - Standardizing data within group\n",
      "    - Filling NAs within groups with a value derived from each group\n",
      "- **Filtration**: discard some groups, according to a group-wise computation that evaluates `True` or `False`. Some examples:\n",
      "    - Discarding data that belongs to groups with only a few members\n",
      "    - Filtering out data based on the group sum or mean\n",
      "- Some combination of the above: `.groupby()` will examine the results of the apply step and try to return a sensibly combined result if it doesn\u2019t fit into either of the above two categories\n",
      "\n",
      "Since the set of object instance method on pandas data structures are generally rich and expressive, we often simply want to invoke, say, a DataFrame function on each group. The name `.groupby()` should be quite familiar to those who have used a SQL-based tool (or `itertools`), in which you can write code like:\n",
      "\n",
      "```sql\n",
      "SELECT Column1, Column2, mean(Column3), sum(Column4)\n",
      "FROM SomeTable\n",
      "GROUP BY Column1, Column2\n",
      "```\n",
      "\n",
      "We aim to make operations like this natural and easy to express using pandas. We\u2019ll address each area of GroupBy functionality then provide some non-trivial examples / use cases.\n",
      "\n",
      "To illustrate these operatoinsoperations, we will use the [City of Chicago salaries CSV](data/city-of-chicago-salaries.csv)"
     ]
    },
    {
     "cell_type": "code",
     "collapsed": false,
     "input": [
      "import numpy as np\n",
      "import pandas as pd\n",
      "!head data/city-of-chicago-salaries.csv"
     ],
     "language": "python",
     "metadata": {},
     "outputs": [
      {
       "output_type": "stream",
       "stream": "stdout",
       "text": [
        "Name,Position Title,Department,Employee Annual Salary\r\n",
        "\"AARON,  ELVIA J\",WATER RATE TAKER,WATER MGMNT,$85512.00\r\n",
        "\"AARON,  JEFFERY M\",POLICE OFFICER,POLICE,$75372.00\r\n",
        "\"AARON,  KIMBERLEI R\",CHIEF CONTRACT EXPEDITER,GENERAL SERVICES,$80916.00\r\n",
        "\"ABAD JR,  VICENTE M\",CIVIL ENGINEER IV,WATER MGMNT,$99648.00\r\n",
        "\"ABBATACOLA,  ROBERT J\",ELECTRICAL MECHANIC,AVIATION,$89440.00\r\n",
        "\"ABBATEMARCO,  JAMES J\",FIREFIGHTER,FIRE,$78012.00\r\n",
        "\"ABBATE,  TERRY M\",POLICE OFFICER,POLICE,$80724.00\r\n",
        "\"ABBOTT,  BETTY L\",FOSTER GRANDPARENT,FAMILY & SUPPORT,$2756.00\r\n",
        "\"ABBOTT,  LYNISE M\",CLERK III,POLICE,$41784.00\r\n"
       ]
      }
     ],
     "prompt_number": 1
    },
    {
     "cell_type": "code",
     "collapsed": false,
     "input": [
      "chicago = pd.read_csv('data/city-of-chicago-salaries.csv')\n",
      "chicago.head()"
     ],
     "language": "python",
     "metadata": {},
     "outputs": [
      {
       "html": [
        "<div style=\"max-height:1000px;max-width:1500px;overflow:auto;\">\n",
        "<table border=\"1\" class=\"dataframe\">\n",
        "  <thead>\n",
        "    <tr style=\"text-align: right;\">\n",
        "      <th></th>\n",
        "      <th>Name</th>\n",
        "      <th>Position Title</th>\n",
        "      <th>Department</th>\n",
        "      <th>Employee Annual Salary</th>\n",
        "    </tr>\n",
        "  </thead>\n",
        "  <tbody>\n",
        "    <tr>\n",
        "      <th>0</th>\n",
        "      <td>       AARON,  ELVIA J</td>\n",
        "      <td>         WATER RATE TAKER</td>\n",
        "      <td>      WATER MGMNT</td>\n",
        "      <td> $85512.00</td>\n",
        "    </tr>\n",
        "    <tr>\n",
        "      <th>1</th>\n",
        "      <td>     AARON,  JEFFERY M</td>\n",
        "      <td>           POLICE OFFICER</td>\n",
        "      <td>           POLICE</td>\n",
        "      <td> $75372.00</td>\n",
        "    </tr>\n",
        "    <tr>\n",
        "      <th>2</th>\n",
        "      <td>   AARON,  KIMBERLEI R</td>\n",
        "      <td> CHIEF CONTRACT EXPEDITER</td>\n",
        "      <td> GENERAL SERVICES</td>\n",
        "      <td> $80916.00</td>\n",
        "    </tr>\n",
        "    <tr>\n",
        "      <th>3</th>\n",
        "      <td>   ABAD JR,  VICENTE M</td>\n",
        "      <td>        CIVIL ENGINEER IV</td>\n",
        "      <td>      WATER MGMNT</td>\n",
        "      <td> $99648.00</td>\n",
        "    </tr>\n",
        "    <tr>\n",
        "      <th>4</th>\n",
        "      <td> ABBATACOLA,  ROBERT J</td>\n",
        "      <td>      ELECTRICAL MECHANIC</td>\n",
        "      <td>         AVIATION</td>\n",
        "      <td> $89440.00</td>\n",
        "    </tr>\n",
        "  </tbody>\n",
        "</table>\n",
        "</div>"
       ],
       "metadata": {},
       "output_type": "pyout",
       "prompt_number": 2,
       "text": [
        "                    Name            Position Title        Department  \\\n",
        "0        AARON,  ELVIA J          WATER RATE TAKER       WATER MGMNT   \n",
        "1      AARON,  JEFFERY M            POLICE OFFICER            POLICE   \n",
        "2    AARON,  KIMBERLEI R  CHIEF CONTRACT EXPEDITER  GENERAL SERVICES   \n",
        "3    ABAD JR,  VICENTE M         CIVIL ENGINEER IV       WATER MGMNT   \n",
        "4  ABBATACOLA,  ROBERT J       ELECTRICAL MECHANIC          AVIATION   \n",
        "\n",
        "  Employee Annual Salary  \n",
        "0              $85512.00  \n",
        "1              $75372.00  \n",
        "2              $80916.00  \n",
        "3              $99648.00  \n",
        "4              $89440.00  "
       ]
      }
     ],
     "prompt_number": 2
    },
    {
     "cell_type": "markdown",
     "metadata": {},
     "source": [
      "So far, we have seen how to manipulate data once is loaded, but pandas provides with some basic modifications, the `converters`, as well as a way to rename the columns. Since it seems that the salaries have a `$` symbol preceding the figure, let's create a converter for that column that removes the symbole and convert the string into a float."
     ]
    },
    {
     "cell_type": "code",
     "collapsed": false,
     "input": [
      "headers = ['name', 'title', 'department', 'salary']\n",
      "chicago = pd.read_csv('data/city-of-chicago-salaries.csv',\n",
      "                      header=False,\n",
      "                      names=headers,\n",
      "                      converters={'salary': lambda x: float(x.replace('$', ''))})  # yes, lambda functions!\n",
      "print(\"salary\", chicago[\"salary\"].dtype)\n",
      "chicago.head()"
     ],
     "language": "python",
     "metadata": {},
     "outputs": [
      {
       "output_type": "stream",
       "stream": "stdout",
       "text": [
        "salary float64\n"
       ]
      },
      {
       "html": [
        "<div style=\"max-height:1000px;max-width:1500px;overflow:auto;\">\n",
        "<table border=\"1\" class=\"dataframe\">\n",
        "  <thead>\n",
        "    <tr style=\"text-align: right;\">\n",
        "      <th></th>\n",
        "      <th>name</th>\n",
        "      <th>title</th>\n",
        "      <th>department</th>\n",
        "      <th>salary</th>\n",
        "    </tr>\n",
        "  </thead>\n",
        "  <tbody>\n",
        "    <tr>\n",
        "      <th>0</th>\n",
        "      <td>       AARON,  ELVIA J</td>\n",
        "      <td>         WATER RATE TAKER</td>\n",
        "      <td>      WATER MGMNT</td>\n",
        "      <td> 85512</td>\n",
        "    </tr>\n",
        "    <tr>\n",
        "      <th>1</th>\n",
        "      <td>     AARON,  JEFFERY M</td>\n",
        "      <td>           POLICE OFFICER</td>\n",
        "      <td>           POLICE</td>\n",
        "      <td> 75372</td>\n",
        "    </tr>\n",
        "    <tr>\n",
        "      <th>2</th>\n",
        "      <td>   AARON,  KIMBERLEI R</td>\n",
        "      <td> CHIEF CONTRACT EXPEDITER</td>\n",
        "      <td> GENERAL SERVICES</td>\n",
        "      <td> 80916</td>\n",
        "    </tr>\n",
        "    <tr>\n",
        "      <th>3</th>\n",
        "      <td>   ABAD JR,  VICENTE M</td>\n",
        "      <td>        CIVIL ENGINEER IV</td>\n",
        "      <td>      WATER MGMNT</td>\n",
        "      <td> 99648</td>\n",
        "    </tr>\n",
        "    <tr>\n",
        "      <th>4</th>\n",
        "      <td> ABBATACOLA,  ROBERT J</td>\n",
        "      <td>      ELECTRICAL MECHANIC</td>\n",
        "      <td>         AVIATION</td>\n",
        "      <td> 89440</td>\n",
        "    </tr>\n",
        "  </tbody>\n",
        "</table>\n",
        "</div>"
       ],
       "metadata": {},
       "output_type": "pyout",
       "prompt_number": 3,
       "text": [
        "                    name                     title        department  salary\n",
        "0        AARON,  ELVIA J          WATER RATE TAKER       WATER MGMNT   85512\n",
        "1      AARON,  JEFFERY M            POLICE OFFICER            POLICE   75372\n",
        "2    AARON,  KIMBERLEI R  CHIEF CONTRACT EXPEDITER  GENERAL SERVICES   80916\n",
        "3    ABAD JR,  VICENTE M         CIVIL ENGINEER IV       WATER MGMNT   99648\n",
        "4  ABBATACOLA,  ROBERT J       ELECTRICAL MECHANIC          AVIATION   89440"
       ]
      }
     ],
     "prompt_number": 3
    },
    {
     "cell_type": "markdown",
     "metadata": {},
     "source": [
      "Pandas `.groupby()` returns a `DataFrameGroupBy` object which has a variety of methods, many of which are similar to standard SQL aggregate functions."
     ]
    },
    {
     "cell_type": "code",
     "collapsed": false,
     "input": [
      "by_dept = chicago.groupby('department')\n",
      "by_dept"
     ],
     "language": "python",
     "metadata": {},
     "outputs": [
      {
       "metadata": {},
       "output_type": "pyout",
       "prompt_number": 4,
       "text": [
        "<pandas.core.groupby.DataFrameGroupBy object at 0x7f93427e5940>"
       ]
      }
     ],
     "prompt_number": 4
    },
    {
     "cell_type": "markdown",
     "metadata": {},
     "source": [
      "Calling `.count()` returns the total number of **not null** values within each column. If we were interested in the total number of records in each group, we could use `.size()`."
     ]
    },
    {
     "cell_type": "code",
     "collapsed": false,
     "input": [
      "by_dept.count().head(5)  # Not null records within each column"
     ],
     "language": "python",
     "metadata": {},
     "outputs": [
      {
       "html": [
        "<div style=\"max-height:1000px;max-width:1500px;overflow:auto;\">\n",
        "<table border=\"1\" class=\"dataframe\">\n",
        "  <thead>\n",
        "    <tr style=\"text-align: right;\">\n",
        "      <th></th>\n",
        "      <th>name</th>\n",
        "      <th>title</th>\n",
        "      <th>salary</th>\n",
        "    </tr>\n",
        "    <tr>\n",
        "      <th>department</th>\n",
        "      <th></th>\n",
        "      <th></th>\n",
        "      <th></th>\n",
        "    </tr>\n",
        "  </thead>\n",
        "  <tbody>\n",
        "    <tr>\n",
        "      <th>ADMIN HEARNG</th>\n",
        "      <td>   42</td>\n",
        "      <td>   42</td>\n",
        "      <td>   42</td>\n",
        "    </tr>\n",
        "    <tr>\n",
        "      <th>ANIMAL CONTRL</th>\n",
        "      <td>   61</td>\n",
        "      <td>   61</td>\n",
        "      <td>   61</td>\n",
        "    </tr>\n",
        "    <tr>\n",
        "      <th>AVIATION</th>\n",
        "      <td> 1218</td>\n",
        "      <td> 1218</td>\n",
        "      <td> 1218</td>\n",
        "    </tr>\n",
        "    <tr>\n",
        "      <th>BOARD OF ELECTION</th>\n",
        "      <td>  110</td>\n",
        "      <td>  110</td>\n",
        "      <td>  110</td>\n",
        "    </tr>\n",
        "    <tr>\n",
        "      <th>BOARD OF ETHICS</th>\n",
        "      <td>    9</td>\n",
        "      <td>    9</td>\n",
        "      <td>    9</td>\n",
        "    </tr>\n",
        "  </tbody>\n",
        "</table>\n",
        "</div>"
       ],
       "metadata": {},
       "output_type": "pyout",
       "prompt_number": 5,
       "text": [
        "                   name  title  salary\n",
        "department                            \n",
        "ADMIN HEARNG         42     42      42\n",
        "ANIMAL CONTRL        61     61      61\n",
        "AVIATION           1218   1218    1218\n",
        "BOARD OF ELECTION   110    110     110\n",
        "BOARD OF ETHICS       9      9       9"
       ]
      }
     ],
     "prompt_number": 5
    },
    {
     "cell_type": "code",
     "collapsed": false,
     "input": [
      "by_dept.size().tail()  # total records for each department"
     ],
     "language": "python",
     "metadata": {},
     "outputs": [
      {
       "metadata": {},
       "output_type": "pyout",
       "prompt_number": 6,
       "text": [
        "department\n",
        "PUBLIC LIBRARY     926\n",
        "STREETS & SAN     2070\n",
        "TRANSPORTN        1168\n",
        "TREASURER           25\n",
        "WATER MGMNT       1857\n",
        "dtype: int64"
       ]
      }
     ],
     "prompt_number": 6
    },
    {
     "cell_type": "markdown",
     "metadata": {},
     "source": [
      "Summation can be done via `.sum()`, averaging by `.mean()`, etc. (if it's a SQL function, chances are it exists in pandas). Oh, and there's `.median()` too, something not available in most databases."
     ]
    },
    {
     "cell_type": "code",
     "collapsed": false,
     "input": [
      "by_dept.sum()[20:25]  # total salaries of each department"
     ],
     "language": "python",
     "metadata": {},
     "outputs": [
      {
       "html": [
        "<div style=\"max-height:1000px;max-width:1500px;overflow:auto;\">\n",
        "<table border=\"1\" class=\"dataframe\">\n",
        "  <thead>\n",
        "    <tr style=\"text-align: right;\">\n",
        "      <th></th>\n",
        "      <th>salary</th>\n",
        "    </tr>\n",
        "    <tr>\n",
        "      <th>department</th>\n",
        "      <th></th>\n",
        "    </tr>\n",
        "  </thead>\n",
        "  <tbody>\n",
        "    <tr>\n",
        "      <th>HUMAN RESOURCES</th>\n",
        "      <td>  4850928.0</td>\n",
        "    </tr>\n",
        "    <tr>\n",
        "      <th>INSPECTOR GEN</th>\n",
        "      <td>  4035150.0</td>\n",
        "    </tr>\n",
        "    <tr>\n",
        "      <th>IPRA</th>\n",
        "      <td>  7006128.0</td>\n",
        "    </tr>\n",
        "    <tr>\n",
        "      <th>LAW</th>\n",
        "      <td> 31883920.2</td>\n",
        "    </tr>\n",
        "    <tr>\n",
        "      <th>LICENSE APPL COMM</th>\n",
        "      <td>    65436.0</td>\n",
        "    </tr>\n",
        "  </tbody>\n",
        "</table>\n",
        "</div>"
       ],
       "metadata": {},
       "output_type": "pyout",
       "prompt_number": 7,
       "text": [
        "                       salary\n",
        "department                   \n",
        "HUMAN RESOURCES     4850928.0\n",
        "INSPECTOR GEN       4035150.0\n",
        "IPRA                7006128.0\n",
        "LAW                31883920.2\n",
        "LICENSE APPL COMM     65436.0"
       ]
      }
     ],
     "prompt_number": 7
    },
    {
     "cell_type": "code",
     "collapsed": false,
     "input": [
      "by_dept.mean().head(5)  # average salary of each department"
     ],
     "language": "python",
     "metadata": {},
     "outputs": [
      {
       "html": [
        "<div style=\"max-height:1000px;max-width:1500px;overflow:auto;\">\n",
        "<table border=\"1\" class=\"dataframe\">\n",
        "  <thead>\n",
        "    <tr style=\"text-align: right;\">\n",
        "      <th></th>\n",
        "      <th>salary</th>\n",
        "    </tr>\n",
        "    <tr>\n",
        "      <th>department</th>\n",
        "      <th></th>\n",
        "    </tr>\n",
        "  </thead>\n",
        "  <tbody>\n",
        "    <tr>\n",
        "      <th>ADMIN HEARNG</th>\n",
        "      <td> 70336.857143</td>\n",
        "    </tr>\n",
        "    <tr>\n",
        "      <th>ANIMAL CONTRL</th>\n",
        "      <td> 57121.455738</td>\n",
        "    </tr>\n",
        "    <tr>\n",
        "      <th>AVIATION</th>\n",
        "      <td> 70638.249130</td>\n",
        "    </tr>\n",
        "    <tr>\n",
        "      <th>BOARD OF ELECTION</th>\n",
        "      <td> 55728.872727</td>\n",
        "    </tr>\n",
        "    <tr>\n",
        "      <th>BOARD OF ETHICS</th>\n",
        "      <td> 81650.666667</td>\n",
        "    </tr>\n",
        "  </tbody>\n",
        "</table>\n",
        "</div>"
       ],
       "metadata": {},
       "output_type": "pyout",
       "prompt_number": 8,
       "text": [
        "                         salary\n",
        "department                     \n",
        "ADMIN HEARNG       70336.857143\n",
        "ANIMAL CONTRL      57121.455738\n",
        "AVIATION           70638.249130\n",
        "BOARD OF ELECTION  55728.872727\n",
        "BOARD OF ETHICS    81650.666667"
       ]
      }
     ],
     "prompt_number": 8
    },
    {
     "cell_type": "code",
     "collapsed": false,
     "input": [
      "by_dept.median()[20:25]  # take that, RDBMS!"
     ],
     "language": "python",
     "metadata": {},
     "outputs": [
      {
       "html": [
        "<div style=\"max-height:1000px;max-width:1500px;overflow:auto;\">\n",
        "<table border=\"1\" class=\"dataframe\">\n",
        "  <thead>\n",
        "    <tr style=\"text-align: right;\">\n",
        "      <th></th>\n",
        "      <th>salary</th>\n",
        "    </tr>\n",
        "    <tr>\n",
        "      <th>department</th>\n",
        "      <th></th>\n",
        "    </tr>\n",
        "  </thead>\n",
        "  <tbody>\n",
        "    <tr>\n",
        "      <th>HUMAN RESOURCES</th>\n",
        "      <td> 68496</td>\n",
        "    </tr>\n",
        "    <tr>\n",
        "      <th>INSPECTOR GEN</th>\n",
        "      <td> 76116</td>\n",
        "    </tr>\n",
        "    <tr>\n",
        "      <th>IPRA</th>\n",
        "      <td> 82524</td>\n",
        "    </tr>\n",
        "    <tr>\n",
        "      <th>LAW</th>\n",
        "      <td> 66492</td>\n",
        "    </tr>\n",
        "    <tr>\n",
        "      <th>LICENSE APPL COMM</th>\n",
        "      <td> 65436</td>\n",
        "    </tr>\n",
        "  </tbody>\n",
        "</table>\n",
        "</div>"
       ],
       "metadata": {},
       "output_type": "pyout",
       "prompt_number": 9,
       "text": [
        "                   salary\n",
        "department               \n",
        "HUMAN RESOURCES     68496\n",
        "INSPECTOR GEN       76116\n",
        "IPRA                82524\n",
        "LAW                 66492\n",
        "LICENSE APPL COMM   65436"
       ]
      }
     ],
     "prompt_number": 9
    },
    {
     "cell_type": "markdown",
     "metadata": {},
     "source": [
      "Operations can also be done on an individual `Series` within a grouped object. Say we were curious about the five departments with the most distinct titles."
     ]
    },
    {
     "cell_type": "code",
     "collapsed": false,
     "input": [
      "by_dept.title.nunique().order(ascending=False)[:5]"
     ],
     "language": "python",
     "metadata": {},
     "outputs": [
      {
       "metadata": {},
       "output_type": "pyout",
       "prompt_number": 10,
       "text": [
        "department\n",
        "WATER MGMNT    153\n",
        "TRANSPORTN     150\n",
        "POLICE         130\n",
        "AVIATION       125\n",
        "HEALTH         118\n",
        "Name: title, dtype: int64"
       ]
      }
     ],
     "prompt_number": 10
    },
    {
     "cell_type": "heading",
     "level": 2,
     "metadata": {},
     "source": [
      "Split-Apply-Combine"
     ]
    },
    {
     "cell_type": "markdown",
     "metadata": {},
     "source": [
      "The real power of `.groupby()` comes from its split-apply-combine ability.\n",
      "\n",
      "What if we wanted to see the highest paid employee within each department? Using `.groupby()` we can define a function (which we'll call `ranker()`) that will label each record from 1 to N, where N is the number of employees within the department. We can then call apply to, well, apply that function to each group (in this case, each department)."
     ]
    },
    {
     "cell_type": "code",
     "collapsed": false,
     "input": [
      "def ranker(df):\n",
      "    \"\"\"Assigns a rank to each employee based on salary, with 1 being the highest paid.\n",
      "    Assumes the data is DESC sorted.\"\"\"\n",
      "    df['dept_rank'] = np.arange(len(df)) + 1\n",
      "    return df"
     ],
     "language": "python",
     "metadata": {},
     "outputs": [],
     "prompt_number": 11
    },
    {
     "cell_type": "code",
     "collapsed": false,
     "input": [
      "chicago.sort('salary', ascending=False, inplace=True)\n",
      "chicago = chicago.groupby('department').apply(ranker)\n",
      "chicago.head()"
     ],
     "language": "python",
     "metadata": {},
     "outputs": [
      {
       "html": [
        "<div style=\"max-height:1000px;max-width:1500px;overflow:auto;\">\n",
        "<table border=\"1\" class=\"dataframe\">\n",
        "  <thead>\n",
        "    <tr style=\"text-align: right;\">\n",
        "      <th></th>\n",
        "      <th>name</th>\n",
        "      <th>title</th>\n",
        "      <th>department</th>\n",
        "      <th>salary</th>\n",
        "      <th>dept_rank</th>\n",
        "    </tr>\n",
        "  </thead>\n",
        "  <tbody>\n",
        "    <tr>\n",
        "      <th>18039</th>\n",
        "      <td>   MC CARTHY,  GARRY F</td>\n",
        "      <td>       SUPERINTENDENT OF POLICE</td>\n",
        "      <td>         POLICE</td>\n",
        "      <td> 260004</td>\n",
        "      <td> 1</td>\n",
        "    </tr>\n",
        "    <tr>\n",
        "      <th>8004 </th>\n",
        "      <td>        EMANUEL,  RAHM</td>\n",
        "      <td>                          MAYOR</td>\n",
        "      <td> MAYOR'S OFFICE</td>\n",
        "      <td> 216210</td>\n",
        "      <td> 1</td>\n",
        "    </tr>\n",
        "    <tr>\n",
        "      <th>25588</th>\n",
        "      <td>     SANTIAGO,  JOSE A</td>\n",
        "      <td>              FIRE COMMISSIONER</td>\n",
        "      <td>           FIRE</td>\n",
        "      <td> 202728</td>\n",
        "      <td> 1</td>\n",
        "    </tr>\n",
        "    <tr>\n",
        "      <th>27594</th>\n",
        "      <td> STEWART III,  CHARLES</td>\n",
        "      <td> FIRST DEPUTY FIRE COMMISSIONER</td>\n",
        "      <td>           FIRE</td>\n",
        "      <td> 188316</td>\n",
        "      <td> 2</td>\n",
        "    </tr>\n",
        "    <tr>\n",
        "      <th>31587</th>\n",
        "      <td>    WYSINGER,  ALFONZA</td>\n",
        "      <td>    FIRST DEPUTY SUPERINTENDENT</td>\n",
        "      <td>         POLICE</td>\n",
        "      <td> 188316</td>\n",
        "      <td> 2</td>\n",
        "    </tr>\n",
        "  </tbody>\n",
        "</table>\n",
        "</div>"
       ],
       "metadata": {},
       "output_type": "pyout",
       "prompt_number": 12,
       "text": [
        "                        name                           title      department  \\\n",
        "18039    MC CARTHY,  GARRY F        SUPERINTENDENT OF POLICE          POLICE   \n",
        "8004          EMANUEL,  RAHM                           MAYOR  MAYOR'S OFFICE   \n",
        "25588      SANTIAGO,  JOSE A               FIRE COMMISSIONER            FIRE   \n",
        "27594  STEWART III,  CHARLES  FIRST DEPUTY FIRE COMMISSIONER            FIRE   \n",
        "31587     WYSINGER,  ALFONZA     FIRST DEPUTY SUPERINTENDENT          POLICE   \n",
        "\n",
        "       salary  dept_rank  \n",
        "18039  260004          1  \n",
        "8004   216210          1  \n",
        "25588  202728          1  \n",
        "27594  188316          2  \n",
        "31587  188316          2  "
       ]
      }
     ],
     "prompt_number": 12
    },
    {
     "cell_type": "code",
     "collapsed": false,
     "input": [
      "chicago[chicago.dept_rank == 1].head(7)"
     ],
     "language": "python",
     "metadata": {},
     "outputs": [
      {
       "html": [
        "<div style=\"max-height:1000px;max-width:1500px;overflow:auto;\">\n",
        "<table border=\"1\" class=\"dataframe\">\n",
        "  <thead>\n",
        "    <tr style=\"text-align: right;\">\n",
        "      <th></th>\n",
        "      <th>name</th>\n",
        "      <th>title</th>\n",
        "      <th>department</th>\n",
        "      <th>salary</th>\n",
        "      <th>dept_rank</th>\n",
        "    </tr>\n",
        "  </thead>\n",
        "  <tbody>\n",
        "    <tr>\n",
        "      <th>18039</th>\n",
        "      <td>    MC CARTHY,  GARRY F</td>\n",
        "      <td> SUPERINTENDENT OF POLICE</td>\n",
        "      <td>         POLICE</td>\n",
        "      <td> 260004</td>\n",
        "      <td> 1</td>\n",
        "    </tr>\n",
        "    <tr>\n",
        "      <th>8004 </th>\n",
        "      <td>         EMANUEL,  RAHM</td>\n",
        "      <td>                    MAYOR</td>\n",
        "      <td> MAYOR'S OFFICE</td>\n",
        "      <td> 216210</td>\n",
        "      <td> 1</td>\n",
        "    </tr>\n",
        "    <tr>\n",
        "      <th>25588</th>\n",
        "      <td>      SANTIAGO,  JOSE A</td>\n",
        "      <td>        FIRE COMMISSIONER</td>\n",
        "      <td>           FIRE</td>\n",
        "      <td> 202728</td>\n",
        "      <td> 1</td>\n",
        "    </tr>\n",
        "    <tr>\n",
        "      <th>763  </th>\n",
        "      <td> ANDOLINO,  ROSEMARIE S</td>\n",
        "      <td> COMMISSIONER OF AVIATION</td>\n",
        "      <td>       AVIATION</td>\n",
        "      <td> 186576</td>\n",
        "      <td> 1</td>\n",
        "    </tr>\n",
        "    <tr>\n",
        "      <th>4697 </th>\n",
        "      <td>   CHOUCAIR,  BECHARA N</td>\n",
        "      <td>   COMMISSIONER OF HEALTH</td>\n",
        "      <td>         HEALTH</td>\n",
        "      <td> 177156</td>\n",
        "      <td> 1</td>\n",
        "    </tr>\n",
        "    <tr>\n",
        "      <th>21971</th>\n",
        "      <td>     PATTON,  STEPHEN R</td>\n",
        "      <td>      CORPORATION COUNSEL</td>\n",
        "      <td>            LAW</td>\n",
        "      <td> 173664</td>\n",
        "      <td> 1</td>\n",
        "    </tr>\n",
        "    <tr>\n",
        "      <th>12635</th>\n",
        "      <td>     HOLT,  ALEXANDRA D</td>\n",
        "      <td>               BUDGET DIR</td>\n",
        "      <td>  BUDGET &amp; MGMT</td>\n",
        "      <td> 169992</td>\n",
        "      <td> 1</td>\n",
        "    </tr>\n",
        "  </tbody>\n",
        "</table>\n",
        "</div>"
       ],
       "metadata": {},
       "output_type": "pyout",
       "prompt_number": 13,
       "text": [
        "                         name                     title      department  \\\n",
        "18039     MC CARTHY,  GARRY F  SUPERINTENDENT OF POLICE          POLICE   \n",
        "8004           EMANUEL,  RAHM                     MAYOR  MAYOR'S OFFICE   \n",
        "25588       SANTIAGO,  JOSE A         FIRE COMMISSIONER            FIRE   \n",
        "763    ANDOLINO,  ROSEMARIE S  COMMISSIONER OF AVIATION        AVIATION   \n",
        "4697     CHOUCAIR,  BECHARA N    COMMISSIONER OF HEALTH          HEALTH   \n",
        "21971      PATTON,  STEPHEN R       CORPORATION COUNSEL             LAW   \n",
        "12635      HOLT,  ALEXANDRA D                BUDGET DIR   BUDGET & MGMT   \n",
        "\n",
        "       salary  dept_rank  \n",
        "18039  260004          1  \n",
        "8004   216210          1  \n",
        "25588  202728          1  \n",
        "763    186576          1  \n",
        "4697   177156          1  \n",
        "21971  173664          1  \n",
        "12635  169992          1  "
       ]
      }
     ],
     "prompt_number": 13
    },
    {
     "cell_type": "code",
     "collapsed": false,
     "input": [
      "chicago[chicago.department == \"LAW\"][:5]"
     ],
     "language": "python",
     "metadata": {},
     "outputs": [
      {
       "html": [
        "<div style=\"max-height:1000px;max-width:1500px;overflow:auto;\">\n",
        "<table border=\"1\" class=\"dataframe\">\n",
        "  <thead>\n",
        "    <tr style=\"text-align: right;\">\n",
        "      <th></th>\n",
        "      <th>name</th>\n",
        "      <th>title</th>\n",
        "      <th>department</th>\n",
        "      <th>salary</th>\n",
        "      <th>dept_rank</th>\n",
        "    </tr>\n",
        "  </thead>\n",
        "  <tbody>\n",
        "    <tr>\n",
        "      <th>21971</th>\n",
        "      <td>   PATTON,  STEPHEN R</td>\n",
        "      <td>            CORPORATION COUNSEL</td>\n",
        "      <td> LAW</td>\n",
        "      <td> 173664</td>\n",
        "      <td> 1</td>\n",
        "    </tr>\n",
        "    <tr>\n",
        "      <th>6311 </th>\n",
        "      <td>   DARLING,  LESLIE M</td>\n",
        "      <td> FIRST ASST CORPORATION COUNSEL</td>\n",
        "      <td> LAW</td>\n",
        "      <td> 149160</td>\n",
        "      <td> 2</td>\n",
        "    </tr>\n",
        "    <tr>\n",
        "      <th>17680</th>\n",
        "      <td> MARTINICO,  JOSEPH P</td>\n",
        "      <td>         CHIEF LABOR NEGOTIATOR</td>\n",
        "      <td> LAW</td>\n",
        "      <td> 144036</td>\n",
        "      <td> 3</td>\n",
        "    </tr>\n",
        "    <tr>\n",
        "      <th>22357</th>\n",
        "      <td>     PETERS,  LYNDA A</td>\n",
        "      <td>                CITY PROSECUTOR</td>\n",
        "      <td> LAW</td>\n",
        "      <td> 139932</td>\n",
        "      <td> 4</td>\n",
        "    </tr>\n",
        "    <tr>\n",
        "      <th>31383</th>\n",
        "      <td>   WONG JR,  EDWARD J</td>\n",
        "      <td>     DEPUTY CORPORATION COUNSEL</td>\n",
        "      <td> LAW</td>\n",
        "      <td> 137076</td>\n",
        "      <td> 5</td>\n",
        "    </tr>\n",
        "  </tbody>\n",
        "</table>\n",
        "</div>"
       ],
       "metadata": {},
       "output_type": "pyout",
       "prompt_number": 14,
       "text": [
        "                       name                           title department  \\\n",
        "21971    PATTON,  STEPHEN R             CORPORATION COUNSEL        LAW   \n",
        "6311     DARLING,  LESLIE M  FIRST ASST CORPORATION COUNSEL        LAW   \n",
        "17680  MARTINICO,  JOSEPH P          CHIEF LABOR NEGOTIATOR        LAW   \n",
        "22357      PETERS,  LYNDA A                 CITY PROSECUTOR        LAW   \n",
        "31383    WONG JR,  EDWARD J      DEPUTY CORPORATION COUNSEL        LAW   \n",
        "\n",
        "       salary  dept_rank  \n",
        "21971  173664          1  \n",
        "6311   149160          2  \n",
        "17680  144036          3  \n",
        "22357  139932          4  \n",
        "31383  137076          5  "
       ]
      }
     ],
     "prompt_number": 14
    },
    {
     "cell_type": "markdown",
     "metadata": {},
     "source": [
      "We can now see where each employee ranks within their department based on salary."
     ]
    },
    {
     "cell_type": "heading",
     "level": 2,
     "metadata": {},
     "source": [
      "String manipulations"
     ]
    },
    {
     "cell_type": "markdown",
     "metadata": {},
     "source": [
      "<div align=\"center\">\n",
      "<img src=\"images/regular_expressions.png\" width=\"450\">\n",
      "*[I got 99 problems. So I used regular expressions. Now I have 100 problems.](http://xkcd.com/1171/)*\n",
      "</div>"
     ]
    },
    {
     "cell_type": "markdown",
     "metadata": {},
     "source": [
      "Regular expressions are a powerful language for matching text patterns. The Python `re` module provides regular expression support."
     ]
    },
    {
     "cell_type": "code",
     "collapsed": false,
     "input": [
      "import re"
     ],
     "language": "python",
     "metadata": {},
     "outputs": [],
     "prompt_number": 33
    },
    {
     "cell_type": "markdown",
     "metadata": {},
     "source": [
      "In Python a regular expression search is typically written as:\n",
      "```python\n",
      "match = re.search(pat, str)\n",
      "```\n",
      "The `re.search()` method takes a regular expression pattern and a string and searches for that pattern within the string. If the search is successful, `search()` returns a match object or `None` otherwise. Therefore, the search is usually immediately followed by an if-statement to test if the search succeeded, as shown in the following example which searches for the pattern `'word:'` followed by a 3 letter word:"
     ]
    },
    {
     "cell_type": "code",
     "collapsed": false,
     "input": [
      "string = \"\"\"\n",
      "    My phone is 519 456-1234, call me, maybe. Oh., wait, this is my real number 226 456 1234\n",
      "\"\"\"\n",
      "match = re.findall(r'\\d{3}\\s\\d{3}[\\s-]?\\d{4}', string)\n",
      "# If-statement after search() tests if it succeeded\n",
      "match"
     ],
     "language": "python",
     "metadata": {},
     "outputs": [
      {
       "metadata": {},
       "output_type": "pyout",
       "prompt_number": 54,
       "text": [
        "['519 456-1234', '226 456 1234']"
       ]
      }
     ],
     "prompt_number": 54
    },
    {
     "cell_type": "code",
     "collapsed": false,
     "input": [
      "string = 'an example word:cat!!'\n",
      "match = re.search(r'word:\\w\\w\\w', string)\n",
      "# If-statement after search() tests if it succeeded\n",
      "if match:                      \n",
      "    print('found', match.group()) ## 'found word:cat'\n",
      "else:\n",
      "    print('did not find')"
     ],
     "language": "python",
     "metadata": {},
     "outputs": [
      {
       "output_type": "stream",
       "stream": "stdout",
       "text": [
        "found word:cat\n"
       ]
      }
     ],
     "prompt_number": 16
    },
    {
     "cell_type": "markdown",
     "metadata": {},
     "source": [
      "The code `match = re.search(pattern, string)` stores the search result in a variable named `match`. Then the if-statement tests the match -- if true the search succeeded and `match.group()` is the matching text (e.g. `'word:cat'`). Otherwise if the match is false (`None` to be more specific), then the search did not succeed, and there is no matching text.\n",
      "\n",
      "The `'r'` at the start of the pattern string designates a python *raw* string which passes through backslashes without change which is very handy for regular expressions. I recommend that you always write pattern strings with the `'r'` just as a habit."
     ]
    },
    {
     "cell_type": "heading",
     "level": 3,
     "metadata": {},
     "source": [
      "Basic Patterns"
     ]
    },
    {
     "cell_type": "markdown",
     "metadata": {},
     "source": [
      "The power of regular expressions is that they can specify patterns, not just fixed characters. Here are the most basic patterns which match single chars:\n",
      "- `a`, `X`, `9` -- ordinary characters just match themselves exactly. The meta-characters which do not match themselves because they have special meanings are: `.` `^` `$` `*` `+` `?` `{` `[` `]` `\\` `|` `(` `)`\n",
      "- `.` (a period) -- matches any single character except newline `\\n`\n",
      "- `\\w` (lowercase w) -- matches a *word* character: a letter or digit or underbar `[a-zA-Z0-9_]`. Note that although \"word\" is the mnemonic for this, it only matches a single word char, not a whole word. \\W (upper case W) matches any non-word character.\n",
      "- `\\b` -- boundary between word and non-word\n",
      "- `\\s` -- (lowercase s) matches a single whitespace character -- space, newline, return, tab, form `[ \\n\\r\\t\\f]`. `\\S` (upper case S) matches any non-whitespace character.\n",
      "- `\\t`, `\\n`, `\\r` -- tab, newline, return\n",
      "- `\\d` -- decimal digit `[0-9]` (some older regex utilities do not support but `\\d`, but they all support `\\w` and `\\s`)\n",
      "- `^` = start, `$` = end -- match the start or end of the string\n",
      "- `\\` -- inhibit the \"specialness\" of a character. So, for example, use `\\.` to match a period or `\\\\` to match a slash. If you are unsure if a character has special meaning, such as `@`, you can put a slash in front of it, `\\@`, to make sure it is treated just as a character."
     ]
    },
    {
     "cell_type": "heading",
     "level": 3,
     "metadata": {},
     "source": [
      "Basic Examples"
     ]
    },
    {
     "cell_type": "markdown",
     "metadata": {},
     "source": [
      "    Joke: what do you call a pig with three eyes? piiig!\n",
      "\n",
      "The basic rules of regular expression search for a pattern within a string are:\n",
      "\n",
      "- The search proceeds through the string from start to end, stopping at the first match found\n",
      "- All of the pattern must be matched, but not all of the string\n",
      "- If match = re.search(pat, str) is successful, match is not None and in particular match.group() is the matching text"
     ]
    },
    {
     "cell_type": "code",
     "collapsed": false,
     "input": [
      "## Search for pattern 'iii' in string 'piiig'.\n",
      "## All of the pattern must match, but it may appear anywhere.\n",
      "## On success, match.group() is matched text.\n",
      "match = re.search(r'iii', 'piiig')\n",
      "print(match)  #  found, match.group() == \"iii\"\n",
      "match = re.search(r'igs', 'piiig')\n",
      "print(match)  #  not found, match == None"
     ],
     "language": "python",
     "metadata": {},
     "outputs": [
      {
       "output_type": "stream",
       "stream": "stdout",
       "text": [
        "<_sre.SRE_Match object; span=(1, 4), match='iii'>\n",
        "None\n"
       ]
      }
     ],
     "prompt_number": 17
    },
    {
     "cell_type": "code",
     "collapsed": false,
     "input": [
      "## . = any char but \\n\n",
      "match = re.search(r'..g', 'piiig')\n",
      "print(match)  #  found, match.group() == \"iig\""
     ],
     "language": "python",
     "metadata": {},
     "outputs": [
      {
       "output_type": "stream",
       "stream": "stdout",
       "text": [
        "<_sre.SRE_Match object; span=(2, 5), match='iig'>\n"
       ]
      }
     ],
     "prompt_number": 18
    },
    {
     "cell_type": "code",
     "collapsed": false,
     "input": [
      "## \\d = digit char, \\w = word char\n",
      "match = re.search(r'\\d\\d\\d', 'p123g')\n",
      "print(match)  #  found, match.group() == \"123\"\n",
      "match = re.search(r'\\w\\w\\w', '@@abcd!!')\n",
      "print(match)  #  found, match.group() == \"abc\""
     ],
     "language": "python",
     "metadata": {},
     "outputs": [
      {
       "output_type": "stream",
       "stream": "stdout",
       "text": [
        "<_sre.SRE_Match object; span=(1, 4), match='123'>\n",
        "<_sre.SRE_Match object; span=(2, 5), match='abc'>\n"
       ]
      }
     ],
     "prompt_number": 19
    },
    {
     "cell_type": "heading",
     "level": 3,
     "metadata": {},
     "source": [
      "Repetition"
     ]
    },
    {
     "cell_type": "markdown",
     "metadata": {},
     "source": [
      "Things get more interesting when you use `+` and `*` to specify repetition in the pattern\n",
      "- `+` -- 1 or more occurrences of the pattern to its left, e.g. `i+` = one or more i's\n",
      "- `*` -- 0 or more occurrences of the pattern to its left\n",
      "- `?` -- match 0 or 1 occurrences of the pattern to its left\n",
      "\n",
      "First the search finds the leftmost match for the pattern, and second it tries to use up as much of the string as possible -- i.e. `+` and `*` go as far as possible (the `+` and `*` are said to be \"greedy\")."
     ]
    },
    {
     "cell_type": "code",
     "collapsed": false,
     "input": [
      "## i+ = one or more i's, as many as possible.\n",
      "match = re.search(r'pi+', 'piiig')\n",
      "print(match)  #  found, match.group() == \"piii\""
     ],
     "language": "python",
     "metadata": {},
     "outputs": [
      {
       "output_type": "stream",
       "stream": "stdout",
       "text": [
        "<_sre.SRE_Match object; span=(0, 4), match='piii'>\n"
       ]
      }
     ],
     "prompt_number": 20
    },
    {
     "cell_type": "code",
     "collapsed": false,
     "input": [
      "## Finds the first/leftmost solution, and within it drives the +\n",
      "## as far as possible (aka 'leftmost and largest').\n",
      "## In this example, note that it does not get to the second set of i's.\n",
      "match = re.search(r'i+', 'piigiiii')\n",
      "print(match)  #  found, match.group() == \"ii\""
     ],
     "language": "python",
     "metadata": {},
     "outputs": [
      {
       "output_type": "stream",
       "stream": "stdout",
       "text": [
        "<_sre.SRE_Match object; span=(1, 3), match='ii'>\n"
       ]
      }
     ],
     "prompt_number": 21
    },
    {
     "cell_type": "code",
     "collapsed": false,
     "input": [
      "## \\s* = zero or more whitespace chars\n",
      "## Here look for 3 digits, possibly separated by whitespace.\n",
      "match = re.search(r'\\d\\s*\\d\\s*\\d', 'xx1 2   3xx')\n",
      "print(match)  #  found, match.group() == \"1 2   3\"\n",
      "match = re.search(r'\\d\\s*\\d\\s*\\d', 'xx12  3xx')\n",
      "print(match)  #  found, match.group() == \"12  3\"\n",
      "match = re.search(r'\\d\\s*\\d\\s*\\d', 'xx123xx')\n",
      "print(match)  #  found, match.group() == \"123\""
     ],
     "language": "python",
     "metadata": {},
     "outputs": [
      {
       "output_type": "stream",
       "stream": "stdout",
       "text": [
        "<_sre.SRE_Match object; span=(2, 9), match='1 2   3'>\n",
        "<_sre.SRE_Match object; span=(2, 7), match='12  3'>\n",
        "<_sre.SRE_Match object; span=(2, 5), match='123'>\n"
       ]
      }
     ],
     "prompt_number": 22
    },
    {
     "cell_type": "code",
     "collapsed": false,
     "input": [
      "## ^ = matches the start of string, so this fails:\n",
      "match = re.search(r'^b\\w+', 'foobar')\n",
      "print(match)  # not found, match == None\n",
      "## but without the ^ it succeeds:\n",
      "match = re.search(r'b\\w+', 'foobar')\n",
      "print(match)  #  found, match.group() == \"bar\""
     ],
     "language": "python",
     "metadata": {},
     "outputs": [
      {
       "output_type": "stream",
       "stream": "stdout",
       "text": [
        "None\n",
        "<_sre.SRE_Match object; span=(3, 6), match='bar'>\n"
       ]
      }
     ],
     "prompt_number": 23
    },
    {
     "cell_type": "heading",
     "level": 3,
     "metadata": {},
     "source": [
      "The Eternal Emails Example"
     ]
    },
    {
     "cell_type": "markdown",
     "metadata": {},
     "source": [
      "Suppose you want to find the email address inside the string `'xyz alice-b@google.com purple monkey'`. We'll use this as a running example to demonstrate more regular expression features. Here's an attempt using the pattern `r'\\w+@\\w+'`:"
     ]
    },
    {
     "cell_type": "code",
     "collapsed": false,
     "input": [
      "string = 'purple alice-b@google.com monkey dishwasher'\n",
      "match = re.search(r'\\w+@\\w+', string)\n",
      "if match:\n",
      "    print(match.group())"
     ],
     "language": "python",
     "metadata": {},
     "outputs": [
      {
       "output_type": "stream",
       "stream": "stdout",
       "text": [
        "b@google\n"
       ]
      }
     ],
     "prompt_number": 24
    },
    {
     "cell_type": "markdown",
     "metadata": {},
     "source": [
      "The search does not get the whole email address in this case because the `\\w` does not match the `'-'` or `'.'` in the address. We'll fix this using the regular expression features below."
     ]
    },
    {
     "cell_type": "heading",
     "level": 3,
     "metadata": {},
     "source": [
      "Square Brackets"
     ]
    },
    {
     "cell_type": "markdown",
     "metadata": {},
     "source": [
      "Square brackets can be used to indicate a set of chars, so `[abc]` matches `a` or `b` or `c`. The codes `\\w`, `\\s` etc. work inside square brackets too with the one exception that dot (`.`) just means a literal dot. For the emails problem, the square brackets are an easy way to add `.` and `-` to the set of chars which can appear around the `@` with the pattern `r'[\\w.-]+@[\\w.-]+'` to get the whole email address:"
     ]
    },
    {
     "cell_type": "code",
     "collapsed": false,
     "input": [
      "match = re.search(r'[\\w.-]+@[\\w.-]+', string)\n",
      "if match:\n",
      "    print(match.group())  ## 'alice-b@google.com'"
     ],
     "language": "python",
     "metadata": {},
     "outputs": [
      {
       "output_type": "stream",
       "stream": "stdout",
       "text": [
        "alice-b@google.com\n"
       ]
      }
     ],
     "prompt_number": 25
    },
    {
     "cell_type": "markdown",
     "metadata": {},
     "source": [
      "You can also use a dash to indicate a range, so `[a-z]` matches all lowercase letters. To use a dash without indicating a range, put the dash last, e.g. `[abc-]`. An up-hat (`^`) at the start of a square-bracket set inverts it, so [`^ab`] means any char except `'a'` or `'b'`."
     ]
    },
    {
     "cell_type": "heading",
     "level": 3,
     "metadata": {},
     "source": [
      "Group Extraction"
     ]
    },
    {
     "cell_type": "markdown",
     "metadata": {},
     "source": [
      "The *group* feature of a regular expression allows you to pick out parts of the matching text. Suppose for the emails problem that we want to extract the username and host separately. To do this, add parenthesis `(` `)` around the username and host in the pattern, like this: `r'([\\w.-]+)@([\\w.-]+)'`. In this case, the parenthesis do not change what the pattern will match, instead they establish logical \"groups\" inside of the match text. On a successful search, `match.group(1)` is the match text corresponding to the 1st left parenthesis, and `match.group(2)` is the text corresponding to the 2nd left parenthesis. The plain `match.group()` is still the whole match text as usual."
     ]
    },
    {
     "cell_type": "code",
     "collapsed": false,
     "input": [
      "string = 'purple alice-b@google.com monkey dishwasher'\n",
      "match = re.search('([\\w.-]+)@([\\w.-]+)', string)\n",
      "if match:\n",
      "    print(match.group())  ## 'alice-b@google.com' (the whole match)\n",
      "    print(match.group(1))  ## 'alice-b' (the username, group 1)\n",
      "    print(match.group(2))  ## 'google.com' (the host, group 2)"
     ],
     "language": "python",
     "metadata": {},
     "outputs": [
      {
       "output_type": "stream",
       "stream": "stdout",
       "text": [
        "alice-b@google.com\n",
        "alice-b\n",
        "google.com\n"
       ]
      }
     ],
     "prompt_number": 26
    },
    {
     "cell_type": "markdown",
     "metadata": {},
     "source": [
      "A common workflow with regular expressions is that you write a pattern for the thing you are looking for, adding parenthesis groups to extract the parts you want."
     ]
    },
    {
     "cell_type": "heading",
     "level": 3,
     "metadata": {},
     "source": [
      "`findall`"
     ]
    },
    {
     "cell_type": "markdown",
     "metadata": {},
     "source": [
      "`findall()` is probably the single most powerful function in the re module. Above we used `re.search()` to find the first match for a pattern. `findall()` finds *all* the matches and returns them as a list of strings, with each string representing one match."
     ]
    },
    {
     "cell_type": "code",
     "collapsed": false,
     "input": [
      "## Suppose we have a text with many email addresses\n",
      "string = 'purple alice@google.com, blah monkey bob@abc.com blah dishwasher'\n",
      "## Here re.findall() returns a list of all the found email strings\n",
      "emails = re.findall(r'[\\w\\.-]+@[\\w\\.-]+', string) ## ['alice@google.com', 'bob@abc.com']\n",
      "for email in emails:\n",
      "    # do something with each found email string\n",
      "    print(email)"
     ],
     "language": "python",
     "metadata": {},
     "outputs": [
      {
       "output_type": "stream",
       "stream": "stdout",
       "text": [
        "alice@google.com\n",
        "bob@abc.com\n"
       ]
      }
     ],
     "prompt_number": 27
    },
    {
     "cell_type": "heading",
     "level": 3,
     "metadata": {},
     "source": [
      "`findall` and Groups"
     ]
    },
    {
     "cell_type": "markdown",
     "metadata": {},
     "source": [
      "The parenthesis `(` `)` group mechanism can be combined with `findall()`. If the pattern includes 2 or more parenthesis groups, then instead of returning a list of strings, `findall()` returns a list of *tuples*. Each tuple represents one match of the pattern, and inside the tuple is the `group(1)`, `group(2)` data. So if 2 parenthesis groups are added to the email pattern, then `findall()` returns a list of tuples, each length 2 containing the username and host, e.g. (`'alice'`, `'google.com'`)."
     ]
    },
    {
     "cell_type": "code",
     "collapsed": false,
     "input": [
      "string = 'purple alice@google.com, blah monkey bob@abc.com blah dishwasher'\n",
      "tuples = re.findall(r'([\\w\\.-]+)@([\\w\\.-]+)', string)\n",
      "print(tuples)  ## [('alice', 'google.com'), ('bob', 'abc.com')]\n",
      "for pair in tuples:\n",
      "    print(pair[0])  ## username\n",
      "    print(pair[1])  ## host"
     ],
     "language": "python",
     "metadata": {},
     "outputs": [
      {
       "output_type": "stream",
       "stream": "stdout",
       "text": [
        "[('alice', 'google.com'), ('bob', 'abc.com')]\n",
        "alice\n",
        "google.com\n",
        "bob\n",
        "abc.com\n"
       ]
      }
     ],
     "prompt_number": 28
    },
    {
     "cell_type": "markdown",
     "metadata": {},
     "source": [
      "Once you have the list of tuples, you can loop over it to do some computation for each tuple. If the pattern includes no parenthesis, then `findall()` returns a list of found strings as in earlier examples. If the pattern includes a single set of parenthesis, then `findall()` returns a list of strings corresponding to that single group. (Obscure optional feature: Sometimes you have paren `(` `)` groupings in the pattern, but which you do not want to extract. In that case, write the parens with a `?`: at the start, e.g. `(?: )` and that left paren will not count as a group result.)"
     ]
    },
    {
     "cell_type": "heading",
     "level": 3,
     "metadata": {},
     "source": [
      "RE Workflow and Debug"
     ]
    },
    {
     "cell_type": "markdown",
     "metadata": {},
     "source": [
      "Regular expression patterns pack a lot of meaning into just a few characters , but they are so dense, you can spend a lot of time debugging your patterns. Set up your runtime so you can run a pattern and print what it matches easily, for example by running it on a small test text and printing the result of `findall()`. If the pattern matches nothing, try weakening the pattern, removing parts of it so you get too many matches. When it's matching nothing, you can't make any progress since there's nothing concrete to look at. Once it's matching too much, then you can work on tightening it up incrementally to hit just what you want."
     ]
    },
    {
     "cell_type": "heading",
     "level": 4,
     "metadata": {},
     "source": [
      "Options"
     ]
    },
    {
     "cell_type": "markdown",
     "metadata": {},
     "source": [
      "The re functions take options to modify the behavior of the pattern match. The option flag is added as an extra argument to the `search()` or `findall()` etc., e.g. `re.search(pat, str, re.IGNORECASE)`.\n",
      "\n",
      "- **`IGNORECASE`** -- ignore upper/lowercase differences for matching, so `'a'` matches both 'a' and `'A'`.\n",
      "- **`DOTALL`** -- allow dot (`.`) to match newline -- normally it matches anything but newline. This can trip you up -- you think `.*` matches everything, but by default it does not go past the end of a line. Note that `\\s` (whitespace) includes newlines, so if you want to match a run of whitespace that may include a newline, you can just use `\\s*`\n",
      "- **`MULTILINE`** -- Within a string made of many lines, allow `^` and `$` to match the start and end of each line. Normally ^/$ would just match the start and end of the whole string.\n",
      "Greedy vs. Non-Greedy (optional)\n",
      "\n",
      "This is optional section which shows a more advanced regular expression technique not needed for the exercises.\n",
      "\n",
      "Suppose you have text with tags in it: `<b>foo</b>` and `<i>so on</i>`\n",
      "\n",
      "Suppose you are trying to match each tag with the pattern `'(<.*>)'` -- what does it match first?\n",
      "\n",
      "The result is a little surprising, but the greedy aspect of the `.*` causes it to match the whole `'<b>foo</b>` and `<i>so on</i>'` as one big match. The problem is that the `.*` goes as far as is it can, instead of stopping at the first `>` (aka it is \"greedy\").\n",
      "\n",
      "There is an extension to regular expression where you add a `?` at the end, such as `.*?` or `.+?`, changing them to be non-greedy. Now they stop as soon as they can. So the pattern `'(<.*?>)'` will get just `'<b>'` as the first match, and `'</b>'` as the second match, and so on getting each `<..>` pair in turn. The style is typically that you use a `.*?`, and then immediately its right look for some concrete marker (`>` in this case) that forces the end of the `.*?` run.\n",
      "\n",
      "The `*?` extension originated in Perl, and regular expressions that include Perl's extensions are known as Perl Compatible Regular Expressions -- pcre. Python includes pcre support. Many command line utils etc. have a flag where they accept pcre patterns.\n",
      "\n",
      "An older but widely used technique to code this idea of \"all of these chars except stopping at X\" uses the square-bracket style. For the above you could write the pattern, but instead of `.*` to get all the chars, use `[^>]*` which skips over all characters which are not `>` (the leading `^` \"inverts\" the square bracket set, so it matches any char not in the brackets)."
     ]
    },
    {
     "cell_type": "heading",
     "level": 3,
     "metadata": {},
     "source": [
      "Substitution"
     ]
    },
    {
     "cell_type": "markdown",
     "metadata": {},
     "source": [
      "The `re.sub(pat, replacement, str)` function searches for all the instances of pattern in the given string, and replaces them. The replacement string can include `'\\1'`, `'\\2'` which refer to the text from `group(1)`, `group(2)`, and so on from the original matching text.\n",
      "\n",
      "Here's an example which searches for all the email addresses, and changes them to keep the user (`\\1`) but have `yo-yo-dyne.com` as the host."
     ]
    },
    {
     "cell_type": "code",
     "collapsed": false,
     "input": [
      "string = 'purple alice@google.com, blah monkey bob@abc.com blah dishwasher'\n",
      "## re.sub(pat, replacement, string) -- returns new string with all replacements,\n",
      "## \\1 is group(1), \\2 group(2) in the replacement\n",
      "print(re.sub(r'([\\w\\.-]+)@([\\w\\.-]+)', r'\\1@yo-yo-dyne.com', string))\n",
      "## purple alice@yo-yo-dyne.com, blah monkey bob@yo-yo-dyne.com blah dishwasher"
     ],
     "language": "python",
     "metadata": {},
     "outputs": [
      {
       "output_type": "stream",
       "stream": "stdout",
       "text": [
        "purple alice@yo-yo-dyne.com, blah monkey bob@yo-yo-dyne.com blah dishwasher\n"
       ]
      }
     ],
     "prompt_number": 29
    },
    {
     "cell_type": "markdown",
     "metadata": {},
     "source": [
      "<div style=\"font-size: 1em; margin: 1em 0 1em 0; border: 1px solid #86989B; background-color: #f7f7f7; padding: 0;\">\n",
      "<p style=\"margin: 0; padding: 0.1em 0 0.1em 0.5em; color: white; border-bottom: 1px solid #86989B; font-weight: bold; background-color: #AFC1C4;\">\n",
      "Activity\n",
      "</p>\n",
      "<p style=\"margin: 0.5em 1em 0.5em 1em; padding: 0;\">\n",
      "Given the `arts` data frame, try to do the next:\n",
      "<span><ol><li>\n",
      "Clean the dates so you only see numbers by using string manipulations. If a year is lower than 100, then is referred to 1900. For example, 78 is actually 1978, and that needs to be fixed too.\n",
      "</li><li>\n",
      "Get the average execution year per artist.\n",
      "</li><li>\n",
      "Get the average execution year per category.\n",
      "</li><li>\n",
      "Get the number of artworks per artist. Which artist is the most prolific?\n",
      "</li><li>\n",
      "Get the number of artworks per category. Which category has the highest number?\n",
      "</li><li>\n",
      "Get the average length of artworks titles per category and artist.\n",
      "</li><li>\n",
      "Get the year with the highest production.\n",
      "</li><li>\n",
      "Get the approximate period of production for each artist. If an artist painted from 1970 to 1990, the period is 20.\n",
      "<!-- </li><li>\n",
      "BONUS: Is there any correlation between the periods of production and the number of artworks per artist?  -->\n",
      "</li></ol></span>\n",
      "<!-- <small style=\"float: right; position: relative;\">[Solution](data/arts.py)</small> -->\n",
      "</p>\n",
      "</div>"
     ]
    },
    {
     "cell_type": "code",
     "collapsed": false,
     "input": [
      "string = \"\u00a91977-1979, CARCC\"\n",
      "finds = re.findall(r\"\\d+\", string)\n",
      "first_find = finds[-1]\n",
      "int(first_find)"
     ],
     "language": "python",
     "metadata": {},
     "outputs": [
      {
       "metadata": {},
       "output_type": "pyout",
       "prompt_number": 65,
       "text": [
        "1979"
       ]
      }
     ],
     "prompt_number": 65
    },
    {
     "cell_type": "code",
     "collapsed": false,
     "input": [
      "arts = pd.read_csv(\"data/arts.csv\")\n",
      "arts.head()"
     ],
     "language": "python",
     "metadata": {},
     "outputs": [
      {
       "html": [
        "<div style=\"max-height:1000px;max-width:1500px;overflow:auto;\">\n",
        "<table border=\"1\" class=\"dataframe\">\n",
        "  <thead>\n",
        "    <tr style=\"text-align: right;\">\n",
        "      <th></th>\n",
        "      <th>artist_name</th>\n",
        "      <th>title</th>\n",
        "      <th>execution_date</th>\n",
        "      <th>category</th>\n",
        "      <th>id</th>\n",
        "    </tr>\n",
        "  </thead>\n",
        "  <tbody>\n",
        "    <tr>\n",
        "      <th>0</th>\n",
        "      <td>      Wright, Don</td>\n",
        "      <td>                                       Turf-Arm</td>\n",
        "      <td>         1984</td>\n",
        "      <td> Work on paper</td>\n",
        "      <td>  85/6-0174</td>\n",
        "    </tr>\n",
        "    <tr>\n",
        "      <th>1</th>\n",
        "      <td>      Hansen, Jim</td>\n",
        "      <td>                             Nfld. album no. 99</td>\n",
        "      <td> \u00a91977, CARCC</td>\n",
        "      <td> Work on paper</td>\n",
        "      <td> 79/80-0510</td>\n",
        "    </tr>\n",
        "    <tr>\n",
        "      <th>2</th>\n",
        "      <td> Creates, Marlene</td>\n",
        "      <td> A Stone Placed in Gathered Water, Newfoundland</td>\n",
        "      <td> \u00a91982, CARCC</td>\n",
        "      <td>    Photograph</td>\n",
        "      <td>  92/3-0221</td>\n",
        "    </tr>\n",
        "    <tr>\n",
        "      <th>3</th>\n",
        "      <td>    Walker, Peter</td>\n",
        "      <td>                                        1.25.79</td>\n",
        "      <td> \u00a91979, CARCC</td>\n",
        "      <td> Work on paper</td>\n",
        "      <td> 79/80-0529</td>\n",
        "    </tr>\n",
        "    <tr>\n",
        "      <th>4</th>\n",
        "      <td> Bretzloff, Carol</td>\n",
        "      <td>                             Under Heaven, Wind</td>\n",
        "      <td>         1983</td>\n",
        "      <td> Work on paper</td>\n",
        "      <td>  13/4-0007</td>\n",
        "    </tr>\n",
        "  </tbody>\n",
        "</table>\n",
        "</div>"
       ],
       "metadata": {},
       "output_type": "pyout",
       "prompt_number": 76,
       "text": [
        "        artist_name                                           title  \\\n",
        "0       Wright, Don                                        Turf-Arm   \n",
        "1       Hansen, Jim                              Nfld. album no. 99   \n",
        "2  Creates, Marlene  A Stone Placed in Gathered Water, Newfoundland   \n",
        "3     Walker, Peter                                         1.25.79   \n",
        "4  Bretzloff, Carol                              Under Heaven, Wind   \n",
        "\n",
        "  execution_date       category          id  \n",
        "0           1984  Work on paper   85/6-0174  \n",
        "1   \u00a91977, CARCC  Work on paper  79/80-0510  \n",
        "2   \u00a91982, CARCC     Photograph   92/3-0221  \n",
        "3   \u00a91979, CARCC  Work on paper  79/80-0529  \n",
        "4           1983  Work on paper   13/4-0007  "
       ]
      }
     ],
     "prompt_number": 76
    },
    {
     "cell_type": "code",
     "collapsed": false,
     "input": [
      "arts[\"execution_date\"] = arts[\"execution_date\"].str.findall(r\"(\\d+)\").str[0]\n",
      "arts[\"execution_date\"].head()"
     ],
     "language": "python",
     "metadata": {},
     "outputs": [
      {
       "metadata": {},
       "output_type": "pyout",
       "prompt_number": 83,
       "text": [
        "0    1984\n",
        "1    1977\n",
        "2    1982\n",
        "3    1979\n",
        "4    1983\n",
        "Name: execution_date, dtype: object"
       ]
      }
     ],
     "prompt_number": 83
    },
    {
     "cell_type": "code",
     "collapsed": false,
     "input": [
      "# 1. If a year is lower than 100, then is referred to 1900. For example, 78 is actually 1978, and that needs to be fixed too.\n",
      "arts[\"execution_date\"] = arts[\"execution_date\"].astype(float)\n",
      "arts[\"execution_date\"] = arts[\"execution_date\"].apply(lambda value: 1900 + value if value < 100 else value)\n",
      "arts.head()"
     ],
     "language": "python",
     "metadata": {},
     "outputs": [
      {
       "html": [
        "<div style=\"max-height:1000px;max-width:1500px;overflow:auto;\">\n",
        "<table border=\"1\" class=\"dataframe\">\n",
        "  <thead>\n",
        "    <tr style=\"text-align: right;\">\n",
        "      <th></th>\n",
        "      <th>artist_name</th>\n",
        "      <th>title</th>\n",
        "      <th>execution_date</th>\n",
        "      <th>category</th>\n",
        "      <th>id</th>\n",
        "    </tr>\n",
        "  </thead>\n",
        "  <tbody>\n",
        "    <tr>\n",
        "      <th>0</th>\n",
        "      <td>      Wright, Don</td>\n",
        "      <td>                                       Turf-Arm</td>\n",
        "      <td> 1984</td>\n",
        "      <td> Work on paper</td>\n",
        "      <td>  85/6-0174</td>\n",
        "    </tr>\n",
        "    <tr>\n",
        "      <th>1</th>\n",
        "      <td>      Hansen, Jim</td>\n",
        "      <td>                             Nfld. album no. 99</td>\n",
        "      <td> 1977</td>\n",
        "      <td> Work on paper</td>\n",
        "      <td> 79/80-0510</td>\n",
        "    </tr>\n",
        "    <tr>\n",
        "      <th>2</th>\n",
        "      <td> Creates, Marlene</td>\n",
        "      <td> A Stone Placed in Gathered Water, Newfoundland</td>\n",
        "      <td> 1982</td>\n",
        "      <td>    Photograph</td>\n",
        "      <td>  92/3-0221</td>\n",
        "    </tr>\n",
        "    <tr>\n",
        "      <th>3</th>\n",
        "      <td>    Walker, Peter</td>\n",
        "      <td>                                        1.25.79</td>\n",
        "      <td> 1979</td>\n",
        "      <td> Work on paper</td>\n",
        "      <td> 79/80-0529</td>\n",
        "    </tr>\n",
        "    <tr>\n",
        "      <th>4</th>\n",
        "      <td> Bretzloff, Carol</td>\n",
        "      <td>                             Under Heaven, Wind</td>\n",
        "      <td> 1983</td>\n",
        "      <td> Work on paper</td>\n",
        "      <td>  13/4-0007</td>\n",
        "    </tr>\n",
        "  </tbody>\n",
        "</table>\n",
        "</div>"
       ],
       "metadata": {},
       "output_type": "pyout",
       "prompt_number": 84,
       "text": [
        "        artist_name                                           title  \\\n",
        "0       Wright, Don                                        Turf-Arm   \n",
        "1       Hansen, Jim                              Nfld. album no. 99   \n",
        "2  Creates, Marlene  A Stone Placed in Gathered Water, Newfoundland   \n",
        "3     Walker, Peter                                         1.25.79   \n",
        "4  Bretzloff, Carol                              Under Heaven, Wind   \n",
        "\n",
        "   execution_date       category          id  \n",
        "0            1984  Work on paper   85/6-0174  \n",
        "1            1977  Work on paper  79/80-0510  \n",
        "2            1982     Photograph   92/3-0221  \n",
        "3            1979  Work on paper  79/80-0529  \n",
        "4            1983  Work on paper   13/4-0007  "
       ]
      }
     ],
     "prompt_number": 84
    },
    {
     "cell_type": "code",
     "collapsed": false,
     "input": [
      "# 2. Get the average execution year per artist.\n",
      "arts.groupby(\"artist_name\").mean().head()"
     ],
     "language": "python",
     "metadata": {},
     "outputs": [
      {
       "html": [
        "<div style=\"max-height:1000px;max-width:1500px;overflow:auto;\">\n",
        "<table border=\"1\" class=\"dataframe\">\n",
        "  <thead>\n",
        "    <tr style=\"text-align: right;\">\n",
        "      <th></th>\n",
        "      <th>execution_date</th>\n",
        "    </tr>\n",
        "    <tr>\n",
        "      <th>artist_name</th>\n",
        "      <th></th>\n",
        "    </tr>\n",
        "  </thead>\n",
        "  <tbody>\n",
        "    <tr>\n",
        "      <th>A &amp; B Associ\u00e9s</th>\n",
        "      <td> 1982.500000</td>\n",
        "    </tr>\n",
        "    <tr>\n",
        "      <th>Aalto, Harri</th>\n",
        "      <td> 1976.000000</td>\n",
        "    </tr>\n",
        "    <tr>\n",
        "      <th>Aaluk, Paul</th>\n",
        "      <td> 1990.000000</td>\n",
        "    </tr>\n",
        "    <tr>\n",
        "      <th>Abbott, Louise</th>\n",
        "      <td> 1978.666667</td>\n",
        "    </tr>\n",
        "    <tr>\n",
        "      <th>Abdilla, Alex</th>\n",
        "      <td> 2001.000000</td>\n",
        "    </tr>\n",
        "  </tbody>\n",
        "</table>\n",
        "</div>"
       ],
       "metadata": {},
       "output_type": "pyout",
       "prompt_number": 21,
       "text": [
        "                execution_date\n",
        "artist_name                   \n",
        "A & B Associ\u00e9s     1982.500000\n",
        "Aalto, Harri       1976.000000\n",
        "Aaluk, Paul        1990.000000\n",
        "Abbott, Louise     1978.666667\n",
        "Abdilla, Alex      2001.000000"
       ]
      }
     ],
     "prompt_number": 21
    },
    {
     "cell_type": "code",
     "collapsed": false,
     "input": [
      "# 3. Get the average execution year per category.\n",
      "arts.groupby(\"category\")[[\"execution_date\"]].mean()"
     ],
     "language": "python",
     "metadata": {},
     "outputs": [
      {
       "html": [
        "<div style=\"max-height:1000px;max-width:1500px;overflow:auto;\">\n",
        "<table border=\"1\" class=\"dataframe\">\n",
        "  <thead>\n",
        "    <tr style=\"text-align: right;\">\n",
        "      <th></th>\n",
        "      <th>execution_date</th>\n",
        "    </tr>\n",
        "    <tr>\n",
        "      <th>category</th>\n",
        "      <th></th>\n",
        "    </tr>\n",
        "  </thead>\n",
        "  <tbody>\n",
        "    <tr>\n",
        "      <th>Fibre</th>\n",
        "      <td> 1986.359477</td>\n",
        "    </tr>\n",
        "    <tr>\n",
        "      <th>Installation</th>\n",
        "      <td> 1984.782609</td>\n",
        "    </tr>\n",
        "    <tr>\n",
        "      <th>Media</th>\n",
        "      <td> 1987.400000</td>\n",
        "    </tr>\n",
        "    <tr>\n",
        "      <th>Other</th>\n",
        "      <td> 1982.879913</td>\n",
        "    </tr>\n",
        "    <tr>\n",
        "      <th>Painting</th>\n",
        "      <td> 1980.401022</td>\n",
        "    </tr>\n",
        "    <tr>\n",
        "      <th>Photograph</th>\n",
        "      <td> 1984.697286</td>\n",
        "    </tr>\n",
        "    <tr>\n",
        "      <th>Sculpture</th>\n",
        "      <td> 1984.349899</td>\n",
        "    </tr>\n",
        "    <tr>\n",
        "      <th>Work on paper</th>\n",
        "      <td> 1979.075829</td>\n",
        "    </tr>\n",
        "  </tbody>\n",
        "</table>\n",
        "</div>"
       ],
       "metadata": {},
       "output_type": "pyout",
       "prompt_number": 25,
       "text": [
        "               execution_date\n",
        "category                     \n",
        "Fibre             1986.359477\n",
        "Installation      1984.782609\n",
        "Media             1987.400000\n",
        "Other             1982.879913\n",
        "Painting          1980.401022\n",
        "Photograph        1984.697286\n",
        "Sculpture         1984.349899\n",
        "Work on paper     1979.075829"
       ]
      }
     ],
     "prompt_number": 25
    },
    {
     "cell_type": "code",
     "collapsed": false,
     "input": [
      "# 4. Get the number of artworks per artist. Which artist is the most prolific?\n",
      "artworks_by_artist = arts.groupby(\"artist_name\")[[\"title\"]].aggregate(np.count_nonzero)\n",
      "artworks_by_artist.sort(\"title\", ascending=False).head()"
     ],
     "language": "python",
     "metadata": {},
     "outputs": [
      {
       "html": [
        "<div style=\"max-height:1000px;max-width:1500px;overflow:auto;\">\n",
        "<table border=\"1\" class=\"dataframe\">\n",
        "  <thead>\n",
        "    <tr style=\"text-align: right;\">\n",
        "      <th></th>\n",
        "      <th>title</th>\n",
        "    </tr>\n",
        "    <tr>\n",
        "      <th>artist_name</th>\n",
        "      <th></th>\n",
        "    </tr>\n",
        "  </thead>\n",
        "  <tbody>\n",
        "    <tr>\n",
        "      <th>Smith, Gordon</th>\n",
        "      <td> 137</td>\n",
        "    </tr>\n",
        "    <tr>\n",
        "      <th>Onley, Toni</th>\n",
        "      <td> 130</td>\n",
        "    </tr>\n",
        "    <tr>\n",
        "      <th>Kipling, Ann</th>\n",
        "      <td> 122</td>\n",
        "    </tr>\n",
        "    <tr>\n",
        "      <th>Hurtubise, Jacques</th>\n",
        "      <td> 113</td>\n",
        "    </tr>\n",
        "    <tr>\n",
        "      <th>Laing, William (Bill)</th>\n",
        "      <td> 111</td>\n",
        "    </tr>\n",
        "  </tbody>\n",
        "</table>\n",
        "</div>"
       ],
       "metadata": {},
       "output_type": "pyout",
       "prompt_number": 26,
       "text": [
        "                       title\n",
        "artist_name                 \n",
        "Smith, Gordon            137\n",
        "Onley, Toni              130\n",
        "Kipling, Ann             122\n",
        "Hurtubise, Jacques       113\n",
        "Laing, William (Bill)    111"
       ]
      }
     ],
     "prompt_number": 26
    },
    {
     "cell_type": "code",
     "collapsed": false,
     "input": [
      "# 5. Get the number of artworks per category. Which category has the highest number?\n",
      "artworks_by_category = arts.groupby(\"category\")[[\"title\"]].aggregate(np.count_nonzero)\n",
      "artworks_by_category.sort(\"title\", ascending=False).head()"
     ],
     "language": "python",
     "metadata": {},
     "outputs": [
      {
       "html": [
        "<div style=\"max-height:1000px;max-width:1500px;overflow:auto;\">\n",
        "<table border=\"1\" class=\"dataframe\">\n",
        "  <thead>\n",
        "    <tr style=\"text-align: right;\">\n",
        "      <th></th>\n",
        "      <th>title</th>\n",
        "    </tr>\n",
        "    <tr>\n",
        "      <th>category</th>\n",
        "      <th></th>\n",
        "    </tr>\n",
        "  </thead>\n",
        "  <tbody>\n",
        "    <tr>\n",
        "      <th>Work on paper</th>\n",
        "      <td> 10637</td>\n",
        "    </tr>\n",
        "    <tr>\n",
        "      <th>Photograph</th>\n",
        "      <td>  2874</td>\n",
        "    </tr>\n",
        "    <tr>\n",
        "      <th>Painting</th>\n",
        "      <td>  2351</td>\n",
        "    </tr>\n",
        "    <tr>\n",
        "      <th>Sculpture</th>\n",
        "      <td>   988</td>\n",
        "    </tr>\n",
        "    <tr>\n",
        "      <th>Other</th>\n",
        "      <td>   459</td>\n",
        "    </tr>\n",
        "  </tbody>\n",
        "</table>\n",
        "</div>"
       ],
       "metadata": {},
       "output_type": "pyout",
       "prompt_number": 27,
       "text": [
        "               title\n",
        "category            \n",
        "Work on paper  10637\n",
        "Photograph      2874\n",
        "Painting        2351\n",
        "Sculpture        988\n",
        "Other            459"
       ]
      }
     ],
     "prompt_number": 27
    },
    {
     "cell_type": "code",
     "collapsed": false,
     "input": [
      "arts['title_len'] = arts['title'].apply(len)\n",
      "arts.head()"
     ],
     "language": "python",
     "metadata": {},
     "outputs": [
      {
       "html": [
        "<div style=\"max-height:1000px;max-width:1500px;overflow:auto;\">\n",
        "<table border=\"1\" class=\"dataframe\">\n",
        "  <thead>\n",
        "    <tr style=\"text-align: right;\">\n",
        "      <th></th>\n",
        "      <th>artist_name</th>\n",
        "      <th>title</th>\n",
        "      <th>execution_date</th>\n",
        "      <th>category</th>\n",
        "      <th>id</th>\n",
        "      <th>title_len</th>\n",
        "    </tr>\n",
        "  </thead>\n",
        "  <tbody>\n",
        "    <tr>\n",
        "      <th>0</th>\n",
        "      <td>      Wright, Don</td>\n",
        "      <td>                                       Turf-Arm</td>\n",
        "      <td> 1984</td>\n",
        "      <td> Work on paper</td>\n",
        "      <td>  85/6-0174</td>\n",
        "      <td>  8</td>\n",
        "    </tr>\n",
        "    <tr>\n",
        "      <th>1</th>\n",
        "      <td>      Hansen, Jim</td>\n",
        "      <td>                             Nfld. album no. 99</td>\n",
        "      <td> 1977</td>\n",
        "      <td> Work on paper</td>\n",
        "      <td> 79/80-0510</td>\n",
        "      <td> 18</td>\n",
        "    </tr>\n",
        "    <tr>\n",
        "      <th>2</th>\n",
        "      <td> Creates, Marlene</td>\n",
        "      <td> A Stone Placed in Gathered Water, Newfoundland</td>\n",
        "      <td> 1982</td>\n",
        "      <td>    Photograph</td>\n",
        "      <td>  92/3-0221</td>\n",
        "      <td> 46</td>\n",
        "    </tr>\n",
        "    <tr>\n",
        "      <th>3</th>\n",
        "      <td>    Walker, Peter</td>\n",
        "      <td>                                        1.25.79</td>\n",
        "      <td> 1979</td>\n",
        "      <td> Work on paper</td>\n",
        "      <td> 79/80-0529</td>\n",
        "      <td>  7</td>\n",
        "    </tr>\n",
        "    <tr>\n",
        "      <th>4</th>\n",
        "      <td> Bretzloff, Carol</td>\n",
        "      <td>                             Under Heaven, Wind</td>\n",
        "      <td> 1983</td>\n",
        "      <td> Work on paper</td>\n",
        "      <td>  13/4-0007</td>\n",
        "      <td> 18</td>\n",
        "    </tr>\n",
        "  </tbody>\n",
        "</table>\n",
        "</div>"
       ],
       "metadata": {},
       "output_type": "pyout",
       "prompt_number": 97,
       "text": [
        "        artist_name                                           title  \\\n",
        "0       Wright, Don                                        Turf-Arm   \n",
        "1       Hansen, Jim                              Nfld. album no. 99   \n",
        "2  Creates, Marlene  A Stone Placed in Gathered Water, Newfoundland   \n",
        "3     Walker, Peter                                         1.25.79   \n",
        "4  Bretzloff, Carol                              Under Heaven, Wind   \n",
        "\n",
        "   execution_date       category          id  title_len  \n",
        "0            1984  Work on paper   85/6-0174          8  \n",
        "1            1977  Work on paper  79/80-0510         18  \n",
        "2            1982     Photograph   92/3-0221         46  \n",
        "3            1979  Work on paper  79/80-0529          7  \n",
        "4            1983  Work on paper   13/4-0007         18  "
       ]
      }
     ],
     "prompt_number": 97
    },
    {
     "cell_type": "code",
     "collapsed": false,
     "input": [
      "# 6. Get the average length of artworks titles per category and artist.\n",
      "arts['title_length'] = arts['title'].apply(len)\n",
      "length_by_category = arts.groupby(\"category\")[[\"title_len\"]].aggregate(np.mean)\n",
      "length_by_category.sort(\"title_len\")"
     ],
     "language": "python",
     "metadata": {},
     "outputs": [
      {
       "html": [
        "<div style=\"max-height:1000px;max-width:1500px;overflow:auto;\">\n",
        "<table border=\"1\" class=\"dataframe\">\n",
        "  <thead>\n",
        "    <tr style=\"text-align: right;\">\n",
        "      <th></th>\n",
        "      <th>title_len</th>\n",
        "    </tr>\n",
        "    <tr>\n",
        "      <th>category</th>\n",
        "      <th></th>\n",
        "    </tr>\n",
        "  </thead>\n",
        "  <tbody>\n",
        "    <tr>\n",
        "      <th>Media</th>\n",
        "      <td> 12.400000</td>\n",
        "    </tr>\n",
        "    <tr>\n",
        "      <th>Sculpture</th>\n",
        "      <td> 16.527328</td>\n",
        "    </tr>\n",
        "    <tr>\n",
        "      <th>Painting</th>\n",
        "      <td> 17.075287</td>\n",
        "    </tr>\n",
        "    <tr>\n",
        "      <th>Other</th>\n",
        "      <td> 18.389978</td>\n",
        "    </tr>\n",
        "    <tr>\n",
        "      <th>Work on paper</th>\n",
        "      <td> 18.432265</td>\n",
        "    </tr>\n",
        "    <tr>\n",
        "      <th>Fibre</th>\n",
        "      <td> 20.681818</td>\n",
        "    </tr>\n",
        "    <tr>\n",
        "      <th>Installation</th>\n",
        "      <td> 25.144928</td>\n",
        "    </tr>\n",
        "    <tr>\n",
        "      <th>Photograph</th>\n",
        "      <td> 28.188935</td>\n",
        "    </tr>\n",
        "  </tbody>\n",
        "</table>\n",
        "</div>"
       ],
       "metadata": {},
       "output_type": "pyout",
       "prompt_number": 100,
       "text": [
        "               title_len\n",
        "category                \n",
        "Media          12.400000\n",
        "Sculpture      16.527328\n",
        "Painting       17.075287\n",
        "Other          18.389978\n",
        "Work on paper  18.432265\n",
        "Fibre          20.681818\n",
        "Installation   25.144928\n",
        "Photograph     28.188935"
       ]
      }
     ],
     "prompt_number": 100
    },
    {
     "cell_type": "code",
     "collapsed": false,
     "input": [
      "# 7. Get the year with the highest production.\n",
      "artworks_by_year = arts.groupby(\"execution_date\")[[\"title\"]].aggregate(np.count_nonzero)\n",
      "artworks_by_year.sort(\"title\", ascending=False).head(3)"
     ],
     "language": "python",
     "metadata": {},
     "outputs": [
      {
       "html": [
        "<div style=\"max-height:1000px;max-width:1500px;overflow:auto;\">\n",
        "<table border=\"1\" class=\"dataframe\">\n",
        "  <thead>\n",
        "    <tr style=\"text-align: right;\">\n",
        "      <th></th>\n",
        "      <th>title</th>\n",
        "    </tr>\n",
        "    <tr>\n",
        "      <th>execution_date</th>\n",
        "      <th></th>\n",
        "    </tr>\n",
        "  </thead>\n",
        "  <tbody>\n",
        "    <tr>\n",
        "      <th>1973</th>\n",
        "      <td> 1625</td>\n",
        "    </tr>\n",
        "    <tr>\n",
        "      <th>1972</th>\n",
        "      <td> 1087</td>\n",
        "    </tr>\n",
        "    <tr>\n",
        "      <th>1974</th>\n",
        "      <td> 1041</td>\n",
        "    </tr>\n",
        "  </tbody>\n",
        "</table>\n",
        "</div>"
       ],
       "metadata": {},
       "output_type": "pyout",
       "prompt_number": 116,
       "text": [
        "                title\n",
        "execution_date       \n",
        "1973             1625\n",
        "1972             1087\n",
        "1974             1041"
       ]
      }
     ],
     "prompt_number": 116
    },
    {
     "cell_type": "code",
     "collapsed": false,
     "input": [
      "# 8. Get the approximate period of production for each artist. If an artist painted from 1970 to 1990, the period is 20.\n",
      "period_min = arts.groupby(\"artist_name\")[[\"execution_date\"]].aggregate(np.min)\n",
      "period_max = arts.groupby(\"artist_name\")[[\"execution_date\"]].aggregate(np.max)\n",
      "(period_max - period_min + 1).sort(\"execution_date\", ascending=False).head(5)"
     ],
     "language": "python",
     "metadata": {},
     "outputs": [
      {
       "html": [
        "<div style=\"max-height:1000px;max-width:1500px;overflow:auto;\">\n",
        "<table border=\"1\" class=\"dataframe\">\n",
        "  <thead>\n",
        "    <tr style=\"text-align: right;\">\n",
        "      <th></th>\n",
        "      <th>execution_date</th>\n",
        "    </tr>\n",
        "    <tr>\n",
        "      <th>artist_name</th>\n",
        "      <th></th>\n",
        "    </tr>\n",
        "  </thead>\n",
        "  <tbody>\n",
        "    <tr>\n",
        "      <th>Tousignant, Serge</th>\n",
        "      <td> 47</td>\n",
        "    </tr>\n",
        "    <tr>\n",
        "      <th>Pellan, Alfred</th>\n",
        "      <td> 43</td>\n",
        "    </tr>\n",
        "    <tr>\n",
        "      <th>Ashevak, Kenojuak</th>\n",
        "      <td> 40</td>\n",
        "    </tr>\n",
        "    <tr>\n",
        "      <th>Morris, Michael</th>\n",
        "      <td> 37</td>\n",
        "    </tr>\n",
        "    <tr>\n",
        "      <th>Haeseker, Alexandra</th>\n",
        "      <td> 37</td>\n",
        "    </tr>\n",
        "  </tbody>\n",
        "</table>\n",
        "</div>"
       ],
       "metadata": {},
       "output_type": "pyout",
       "prompt_number": 122,
       "text": [
        "                     execution_date\n",
        "artist_name                        \n",
        "Tousignant, Serge                47\n",
        "Pellan, Alfred                   43\n",
        "Ashevak, Kenojuak                40\n",
        "Morris, Michael                  37\n",
        "Haeseker, Alexandra              37"
       ]
      }
     ],
     "prompt_number": 122
    },
    {
     "cell_type": "heading",
     "level": 1,
     "metadata": {},
     "source": [
      "Pivot tables"
     ]
    },
    {
     "cell_type": "markdown",
     "metadata": {},
     "source": [
      "Once we know the concept behind `.groupby()`, the next natural step is to think about doing a lot of groupings so we can see the data aggregated in many different ways. And this is very the problem that pivot tables are designed to solve.\n",
      "\n",
      "Let's consider a new dataset, [`books`](data/books-funnel.xlsx), from an editorial and the number of copies of books they have, and say that we want to know things like:\n",
      "- How many copies are already published?\n",
      "- How many copies are in the pipeline?\n",
      "- How many copies per book and in what stage?\n",
      "\n",
      "Let's set up our environment first with a new dataset from an editorial and the number of copies of books they have."
     ]
    },
    {
     "cell_type": "code",
     "collapsed": false,
     "input": [
      "import pandas as pd\n",
      "import numpy as np\n",
      "\n",
      "df = pd.read_excel(\"data/books-funnel.xlsx\")\n",
      "df.head()"
     ],
     "language": "python",
     "metadata": {},
     "outputs": [
      {
       "html": [
        "<div style=\"max-height:1000px;max-width:1500px;overflow:auto;\">\n",
        "<table border=\"1\" class=\"dataframe\">\n",
        "  <thead>\n",
        "    <tr style=\"text-align: right;\">\n",
        "      <th></th>\n",
        "      <th>Identifier</th>\n",
        "      <th>Book</th>\n",
        "      <th>Author</th>\n",
        "      <th>Editor</th>\n",
        "      <th>Edition</th>\n",
        "      <th>Copies</th>\n",
        "      <th>Price</th>\n",
        "      <th>Status</th>\n",
        "    </tr>\n",
        "  </thead>\n",
        "  <tbody>\n",
        "    <tr>\n",
        "      <th>0</th>\n",
        "      <td> 714466</td>\n",
        "      <td> Adventures of Trantow-Barrows</td>\n",
        "      <td>  Craig Booker</td>\n",
        "      <td> Debra Henley</td>\n",
        "      <td>  Premiun</td>\n",
        "      <td> 100</td>\n",
        "      <td> 30</td>\n",
        "      <td>  In-print</td>\n",
        "    </tr>\n",
        "    <tr>\n",
        "      <th>1</th>\n",
        "      <td> 714466</td>\n",
        "      <td> Adventures of Trantow-Barrows</td>\n",
        "      <td>  Craig Booker</td>\n",
        "      <td> Debra Henley</td>\n",
        "      <td> Standard</td>\n",
        "      <td> 100</td>\n",
        "      <td> 10</td>\n",
        "      <td>  In-print</td>\n",
        "    </tr>\n",
        "    <tr>\n",
        "      <th>2</th>\n",
        "      <td> 714466</td>\n",
        "      <td> Adventures of Trantow-Barrows</td>\n",
        "      <td>  Craig Booker</td>\n",
        "      <td> Debra Henley</td>\n",
        "      <td>   Pocket</td>\n",
        "      <td> 200</td>\n",
        "      <td>  5</td>\n",
        "      <td>   pending</td>\n",
        "    </tr>\n",
        "    <tr>\n",
        "      <th>3</th>\n",
        "      <td> 737550</td>\n",
        "      <td>            The Russel Paradox</td>\n",
        "      <td>  Craig Booker</td>\n",
        "      <td> Debra Henley</td>\n",
        "      <td>  Premiun</td>\n",
        "      <td> 100</td>\n",
        "      <td> 35</td>\n",
        "      <td>  rejected</td>\n",
        "    </tr>\n",
        "    <tr>\n",
        "      <th>4</th>\n",
        "      <td> 146832</td>\n",
        "      <td>               Theory of Kiehn</td>\n",
        "      <td> Daniel Hilton</td>\n",
        "      <td> Debra Henley</td>\n",
        "      <td>  Premiun</td>\n",
        "      <td> 200</td>\n",
        "      <td> 65</td>\n",
        "      <td> published</td>\n",
        "    </tr>\n",
        "  </tbody>\n",
        "</table>\n",
        "</div>"
       ],
       "metadata": {},
       "output_type": "pyout",
       "prompt_number": 38,
       "text": [
        "   Identifier                           Book         Author        Editor  \\\n",
        "0      714466  Adventures of Trantow-Barrows   Craig Booker  Debra Henley   \n",
        "1      714466  Adventures of Trantow-Barrows   Craig Booker  Debra Henley   \n",
        "2      714466  Adventures of Trantow-Barrows   Craig Booker  Debra Henley   \n",
        "3      737550             The Russel Paradox   Craig Booker  Debra Henley   \n",
        "4      146832                Theory of Kiehn  Daniel Hilton  Debra Henley   \n",
        "\n",
        "    Edition  Copies  Price     Status  \n",
        "0   Premiun     100     30   In-print  \n",
        "1  Standard     100     10   In-print  \n",
        "2    Pocket     200      5    pending  \n",
        "3   Premiun     100     35   rejected  \n",
        "4   Premiun     200     65  published  "
       ]
      }
     ],
     "prompt_number": 38
    },
    {
     "cell_type": "heading",
     "level": 3,
     "metadata": {},
     "source": [
      "Pivot the data"
     ]
    },
    {
     "cell_type": "markdown",
     "metadata": {},
     "source": [
      "As we build up the pivot table, it's easier to take it one step at a time. Add items and check each step to verify you are getting the results you expect. Don't be afraid to play with the order and the variables to see what presentation makes the most sense for your needs.\n",
      "\n",
      "The simplest pivot table must have a dataframe and an index. In this case, let's use the book title `Book` as our index."
     ]
    },
    {
     "cell_type": "code",
     "collapsed": false,
     "input": [
      "pd.pivot_table(df, index=[\"Book\"])"
     ],
     "language": "python",
     "metadata": {},
     "outputs": [
      {
       "html": [
        "<div style=\"max-height:1000px;max-width:1500px;overflow:auto;\">\n",
        "<table border=\"1\" class=\"dataframe\">\n",
        "  <thead>\n",
        "    <tr style=\"text-align: right;\">\n",
        "      <th></th>\n",
        "      <th>Copies</th>\n",
        "      <th>Identifier</th>\n",
        "      <th>Price</th>\n",
        "    </tr>\n",
        "    <tr>\n",
        "      <th>Book</th>\n",
        "      <th></th>\n",
        "      <th></th>\n",
        "      <th></th>\n",
        "    </tr>\n",
        "  </thead>\n",
        "  <tbody>\n",
        "    <tr>\n",
        "      <th>A brave warrior</th>\n",
        "      <td> 200.000000</td>\n",
        "      <td> 412290</td>\n",
        "      <td>   5.0</td>\n",
        "    </tr>\n",
        "    <tr>\n",
        "      <th>Adventures of Trantow-Barrows</th>\n",
        "      <td> 133.333333</td>\n",
        "      <td> 714466</td>\n",
        "      <td>  15.0</td>\n",
        "    </tr>\n",
        "    <tr>\n",
        "      <th>Barton Fink</th>\n",
        "      <td> 100.000000</td>\n",
        "      <td> 740150</td>\n",
        "      <td>  35.0</td>\n",
        "    </tr>\n",
        "    <tr>\n",
        "      <th>Kassulke from Tokyo</th>\n",
        "      <td> 300.000000</td>\n",
        "      <td> 307599</td>\n",
        "      <td>   7.0</td>\n",
        "    </tr>\n",
        "    <tr>\n",
        "      <th>Kulas</th>\n",
        "      <td> 150.000000</td>\n",
        "      <td> 218895</td>\n",
        "      <td>  25.0</td>\n",
        "    </tr>\n",
        "    <tr>\n",
        "      <th>Lords of the Baltic</th>\n",
        "      <td> 200.000000</td>\n",
        "      <td> 729833</td>\n",
        "      <td>  35.0</td>\n",
        "    </tr>\n",
        "    <tr>\n",
        "      <th>Purdy &amp; Kunde</th>\n",
        "      <td> 100.000000</td>\n",
        "      <td> 163416</td>\n",
        "      <td>  30.0</td>\n",
        "    </tr>\n",
        "    <tr>\n",
        "      <th>Skin</th>\n",
        "      <td> 500.000000</td>\n",
        "      <td> 688981</td>\n",
        "      <td> 100.0</td>\n",
        "    </tr>\n",
        "    <tr>\n",
        "      <th>Stokes the Vampire</th>\n",
        "      <td> 100.000000</td>\n",
        "      <td> 239344</td>\n",
        "      <td>   7.5</td>\n",
        "    </tr>\n",
        "    <tr>\n",
        "      <th>The Russel Paradox</th>\n",
        "      <td> 100.000000</td>\n",
        "      <td> 737550</td>\n",
        "      <td>  35.0</td>\n",
        "    </tr>\n",
        "    <tr>\n",
        "      <th>The Whale and the Hunter</th>\n",
        "      <td> 200.000000</td>\n",
        "      <td> 141962</td>\n",
        "      <td>  65.0</td>\n",
        "    </tr>\n",
        "    <tr>\n",
        "      <th>Theory of Kiehn</th>\n",
        "      <td> 200.000000</td>\n",
        "      <td> 146832</td>\n",
        "      <td>  65.0</td>\n",
        "    </tr>\n",
        "  </tbody>\n",
        "</table>\n",
        "</div>"
       ],
       "metadata": {},
       "output_type": "pyout",
       "prompt_number": 39,
       "text": [
        "                                   Copies  Identifier  Price\n",
        "Book                                                        \n",
        "A brave warrior                200.000000      412290    5.0\n",
        "Adventures of Trantow-Barrows  133.333333      714466   15.0\n",
        "Barton Fink                    100.000000      740150   35.0\n",
        "Kassulke from Tokyo            300.000000      307599    7.0\n",
        "Kulas                          150.000000      218895   25.0\n",
        "Lords of the Baltic            200.000000      729833   35.0\n",
        "Purdy & Kunde                  100.000000      163416   30.0\n",
        "Skin                           500.000000      688981  100.0\n",
        "Stokes the Vampire             100.000000      239344    7.5\n",
        "The Russel Paradox             100.000000      737550   35.0\n",
        "The Whale and the Hunter       200.000000      141962   65.0\n",
        "Theory of Kiehn                200.000000      146832   65.0"
       ]
      }
     ],
     "prompt_number": 39
    },
    {
     "cell_type": "markdown",
     "metadata": {},
     "source": [
      "You can have multiple indexes as well. In fact, most of the pivot_table args can take multiple values via a list."
     ]
    },
    {
     "cell_type": "code",
     "collapsed": false,
     "input": [
      "pd.pivot_table(df, index=[\"Book\",\"Author\",\"Editor\"])"
     ],
     "language": "python",
     "metadata": {},
     "outputs": [
      {
       "html": [
        "<div style=\"max-height:1000px;max-width:1500px;overflow:auto;\">\n",
        "<table border=\"1\" class=\"dataframe\">\n",
        "  <thead>\n",
        "    <tr style=\"text-align: right;\">\n",
        "      <th></th>\n",
        "      <th></th>\n",
        "      <th></th>\n",
        "      <th>Copies</th>\n",
        "      <th>Identifier</th>\n",
        "      <th>Price</th>\n",
        "    </tr>\n",
        "    <tr>\n",
        "      <th>Book</th>\n",
        "      <th>Author</th>\n",
        "      <th>Editor</th>\n",
        "      <th></th>\n",
        "      <th></th>\n",
        "      <th></th>\n",
        "    </tr>\n",
        "  </thead>\n",
        "  <tbody>\n",
        "    <tr>\n",
        "      <th>A brave warrior</th>\n",
        "      <th>John Smith</th>\n",
        "      <th>Debra Henley</th>\n",
        "      <td> 200.000000</td>\n",
        "      <td> 412290</td>\n",
        "      <td>   5.0</td>\n",
        "    </tr>\n",
        "    <tr>\n",
        "      <th>Adventures of Trantow-Barrows</th>\n",
        "      <th>Craig Booker</th>\n",
        "      <th>Debra Henley</th>\n",
        "      <td> 133.333333</td>\n",
        "      <td> 714466</td>\n",
        "      <td>  15.0</td>\n",
        "    </tr>\n",
        "    <tr>\n",
        "      <th>Barton Fink</th>\n",
        "      <th>John Smith</th>\n",
        "      <th>Debra Henley</th>\n",
        "      <td> 100.000000</td>\n",
        "      <td> 740150</td>\n",
        "      <td>  35.0</td>\n",
        "    </tr>\n",
        "    <tr>\n",
        "      <th>Kassulke from Tokyo</th>\n",
        "      <th>Wendy Yule</th>\n",
        "      <th>Fred Anderson</th>\n",
        "      <td> 300.000000</td>\n",
        "      <td> 307599</td>\n",
        "      <td>   7.0</td>\n",
        "    </tr>\n",
        "    <tr>\n",
        "      <th>Kulas</th>\n",
        "      <th>Daniel Hilton</th>\n",
        "      <th>Debra Henley</th>\n",
        "      <td> 150.000000</td>\n",
        "      <td> 218895</td>\n",
        "      <td>  25.0</td>\n",
        "    </tr>\n",
        "    <tr>\n",
        "      <th>Lords of the Baltic</th>\n",
        "      <th>Wendy Yule</th>\n",
        "      <th>Fred Anderson</th>\n",
        "      <td> 200.000000</td>\n",
        "      <td> 729833</td>\n",
        "      <td>  35.0</td>\n",
        "    </tr>\n",
        "    <tr>\n",
        "      <th>Purdy &amp; Kunde</th>\n",
        "      <th>Cedric Moss</th>\n",
        "      <th>Fred Anderson</th>\n",
        "      <td> 100.000000</td>\n",
        "      <td> 163416</td>\n",
        "      <td>  30.0</td>\n",
        "    </tr>\n",
        "    <tr>\n",
        "      <th>Skin</th>\n",
        "      <th>Wendy Yule</th>\n",
        "      <th>Fred Anderson</th>\n",
        "      <td> 500.000000</td>\n",
        "      <td> 688981</td>\n",
        "      <td> 100.0</td>\n",
        "    </tr>\n",
        "    <tr>\n",
        "      <th>Stokes the Vampire</th>\n",
        "      <th>Cedric Moss</th>\n",
        "      <th>Fred Anderson</th>\n",
        "      <td> 100.000000</td>\n",
        "      <td> 239344</td>\n",
        "      <td>   7.5</td>\n",
        "    </tr>\n",
        "    <tr>\n",
        "      <th>The Russel Paradox</th>\n",
        "      <th>Craig Booker</th>\n",
        "      <th>Debra Henley</th>\n",
        "      <td> 100.000000</td>\n",
        "      <td> 737550</td>\n",
        "      <td>  35.0</td>\n",
        "    </tr>\n",
        "    <tr>\n",
        "      <th>The Whale and the Hunter</th>\n",
        "      <th>Cedric Moss</th>\n",
        "      <th>Fred Anderson</th>\n",
        "      <td> 200.000000</td>\n",
        "      <td> 141962</td>\n",
        "      <td>  65.0</td>\n",
        "    </tr>\n",
        "    <tr>\n",
        "      <th>Theory of Kiehn</th>\n",
        "      <th>Daniel Hilton</th>\n",
        "      <th>Debra Henley</th>\n",
        "      <td> 200.000000</td>\n",
        "      <td> 146832</td>\n",
        "      <td>  65.0</td>\n",
        "    </tr>\n",
        "  </tbody>\n",
        "</table>\n",
        "</div>"
       ],
       "metadata": {},
       "output_type": "pyout",
       "prompt_number": 41,
       "text": [
        "                                                               Copies  \\\n",
        "Book                          Author        Editor                      \n",
        "A brave warrior               John Smith    Debra Henley   200.000000   \n",
        "Adventures of Trantow-Barrows Craig Booker  Debra Henley   133.333333   \n",
        "Barton Fink                   John Smith    Debra Henley   100.000000   \n",
        "Kassulke from Tokyo           Wendy Yule    Fred Anderson  300.000000   \n",
        "Kulas                         Daniel Hilton Debra Henley   150.000000   \n",
        "Lords of the Baltic           Wendy Yule    Fred Anderson  200.000000   \n",
        "Purdy & Kunde                 Cedric Moss   Fred Anderson  100.000000   \n",
        "Skin                          Wendy Yule    Fred Anderson  500.000000   \n",
        "Stokes the Vampire            Cedric Moss   Fred Anderson  100.000000   \n",
        "The Russel Paradox            Craig Booker  Debra Henley   100.000000   \n",
        "The Whale and the Hunter      Cedric Moss   Fred Anderson  200.000000   \n",
        "Theory of Kiehn               Daniel Hilton Debra Henley   200.000000   \n",
        "\n",
        "                                                           Identifier  Price  \n",
        "Book                          Author        Editor                            \n",
        "A brave warrior               John Smith    Debra Henley       412290    5.0  \n",
        "Adventures of Trantow-Barrows Craig Booker  Debra Henley       714466   15.0  \n",
        "Barton Fink                   John Smith    Debra Henley       740150   35.0  \n",
        "Kassulke from Tokyo           Wendy Yule    Fred Anderson      307599    7.0  \n",
        "Kulas                         Daniel Hilton Debra Henley       218895   25.0  \n",
        "Lords of the Baltic           Wendy Yule    Fred Anderson      729833   35.0  \n",
        "Purdy & Kunde                 Cedric Moss   Fred Anderson      163416   30.0  \n",
        "Skin                          Wendy Yule    Fred Anderson      688981  100.0  \n",
        "Stokes the Vampire            Cedric Moss   Fred Anderson      239344    7.5  \n",
        "The Russel Paradox            Craig Booker  Debra Henley       737550   35.0  \n",
        "The Whale and the Hunter      Cedric Moss   Fred Anderson      141962   65.0  \n",
        "Theory of Kiehn               Daniel Hilton Debra Henley       146832   65.0  "
       ]
      }
     ],
     "prompt_number": 41
    },
    {
     "cell_type": "markdown",
     "metadata": {},
     "source": [
      "This is interesting but not particularly useful. What we probably want to do is look at this by Manager and Rep. It\u2019s easy enough to do by changing the index."
     ]
    },
    {
     "cell_type": "code",
     "collapsed": false,
     "input": [
      "pd.pivot_table(df,index=[\"Editor\", \"Author\"])"
     ],
     "language": "python",
     "metadata": {},
     "outputs": [
      {
       "html": [
        "<div style=\"max-height:1000px;max-width:1500px;overflow:auto;\">\n",
        "<table border=\"1\" class=\"dataframe\">\n",
        "  <thead>\n",
        "    <tr style=\"text-align: right;\">\n",
        "      <th></th>\n",
        "      <th></th>\n",
        "      <th>Copies</th>\n",
        "      <th>Identifier</th>\n",
        "      <th>Price</th>\n",
        "    </tr>\n",
        "    <tr>\n",
        "      <th>Editor</th>\n",
        "      <th>Author</th>\n",
        "      <th></th>\n",
        "      <th></th>\n",
        "      <th></th>\n",
        "    </tr>\n",
        "  </thead>\n",
        "  <tbody>\n",
        "    <tr>\n",
        "      <th rowspan=\"3\" valign=\"top\">Debra Henley</th>\n",
        "      <th>Craig Booker</th>\n",
        "      <td> 125.000000</td>\n",
        "      <td> 720237.0</td>\n",
        "      <td> 20.000000</td>\n",
        "    </tr>\n",
        "    <tr>\n",
        "      <th>Daniel Hilton</th>\n",
        "      <td> 166.666667</td>\n",
        "      <td> 194874.0</td>\n",
        "      <td> 38.333333</td>\n",
        "    </tr>\n",
        "    <tr>\n",
        "      <th>John Smith</th>\n",
        "      <td> 150.000000</td>\n",
        "      <td> 576220.0</td>\n",
        "      <td> 20.000000</td>\n",
        "    </tr>\n",
        "    <tr>\n",
        "      <th rowspan=\"2\" valign=\"top\">Fred Anderson</th>\n",
        "      <th>Cedric Moss</th>\n",
        "      <td> 125.000000</td>\n",
        "      <td> 196016.5</td>\n",
        "      <td> 27.500000</td>\n",
        "    </tr>\n",
        "    <tr>\n",
        "      <th>Wendy Yule</th>\n",
        "      <td> 300.000000</td>\n",
        "      <td> 614061.5</td>\n",
        "      <td> 44.250000</td>\n",
        "    </tr>\n",
        "  </tbody>\n",
        "</table>\n",
        "</div>"
       ],
       "metadata": {},
       "output_type": "pyout",
       "prompt_number": 42,
       "text": [
        "                                 Copies  Identifier      Price\n",
        "Editor        Author                                          \n",
        "Debra Henley  Craig Booker   125.000000    720237.0  20.000000\n",
        "              Daniel Hilton  166.666667    194874.0  38.333333\n",
        "              John Smith     150.000000    576220.0  20.000000\n",
        "Fred Anderson Cedric Moss    125.000000    196016.5  27.500000\n",
        "              Wendy Yule     300.000000    614061.5  44.250000"
       ]
      }
     ],
     "prompt_number": 42
    },
    {
     "cell_type": "markdown",
     "metadata": {},
     "source": [
      "You can see that the pivot table is smart enough to start aggregating the data and summarizing it by grouping the authors with their editors. Now we start to get a glimpse of what a pivot table can do for us.\n",
      "\n",
      "For this purpose, the `Identifier` and `Price` columns aren\u2019t really useful. Let\u2019s remove it by explicitly defining the columns we care about using the values field."
     ]
    },
    {
     "cell_type": "code",
     "collapsed": false,
     "input": [
      "pd.pivot_table(df,index=[\"Editor\", \"Author\"],values=[\"Copies\"])"
     ],
     "language": "python",
     "metadata": {},
     "outputs": [
      {
       "html": [
        "<div style=\"max-height:1000px;max-width:1500px;overflow:auto;\">\n",
        "<table border=\"1\" class=\"dataframe\">\n",
        "  <thead>\n",
        "    <tr style=\"text-align: right;\">\n",
        "      <th></th>\n",
        "      <th></th>\n",
        "      <th>Copies</th>\n",
        "    </tr>\n",
        "    <tr>\n",
        "      <th>Editor</th>\n",
        "      <th>Author</th>\n",
        "      <th></th>\n",
        "    </tr>\n",
        "  </thead>\n",
        "  <tbody>\n",
        "    <tr>\n",
        "      <th rowspan=\"3\" valign=\"top\">Debra Henley</th>\n",
        "      <th>Craig Booker</th>\n",
        "      <td> 125.000000</td>\n",
        "    </tr>\n",
        "    <tr>\n",
        "      <th>Daniel Hilton</th>\n",
        "      <td> 166.666667</td>\n",
        "    </tr>\n",
        "    <tr>\n",
        "      <th>John Smith</th>\n",
        "      <td> 150.000000</td>\n",
        "    </tr>\n",
        "    <tr>\n",
        "      <th rowspan=\"2\" valign=\"top\">Fred Anderson</th>\n",
        "      <th>Cedric Moss</th>\n",
        "      <td> 125.000000</td>\n",
        "    </tr>\n",
        "    <tr>\n",
        "      <th>Wendy Yule</th>\n",
        "      <td> 300.000000</td>\n",
        "    </tr>\n",
        "  </tbody>\n",
        "</table>\n",
        "</div>"
       ],
       "metadata": {},
       "output_type": "pyout",
       "prompt_number": 45,
       "text": [
        "                                 Copies\n",
        "Editor        Author                   \n",
        "Debra Henley  Craig Booker   125.000000\n",
        "              Daniel Hilton  166.666667\n",
        "              John Smith     150.000000\n",
        "Fred Anderson Cedric Moss    125.000000\n",
        "              Wendy Yule     300.000000"
       ]
      }
     ],
     "prompt_number": 45
    },
    {
     "cell_type": "markdown",
     "metadata": {},
     "source": [
      "The price column automatically averages the data but we can do a count or a sum. Adding them is simple using `aggfunc` and `np.sum`."
     ]
    },
    {
     "cell_type": "code",
     "collapsed": false,
     "input": [
      "pd.pivot_table(df,index=[\"Editor\", \"Author\"], values=[\"Copies\"], aggfunc=np.sum)"
     ],
     "language": "python",
     "metadata": {},
     "outputs": [
      {
       "html": [
        "<div style=\"max-height:1000px;max-width:1500px;overflow:auto;\">\n",
        "<table border=\"1\" class=\"dataframe\">\n",
        "  <thead>\n",
        "    <tr style=\"text-align: right;\">\n",
        "      <th></th>\n",
        "      <th></th>\n",
        "      <th>Copies</th>\n",
        "    </tr>\n",
        "    <tr>\n",
        "      <th>Editor</th>\n",
        "      <th>Author</th>\n",
        "      <th></th>\n",
        "    </tr>\n",
        "  </thead>\n",
        "  <tbody>\n",
        "    <tr>\n",
        "      <th rowspan=\"3\" valign=\"top\">Debra Henley</th>\n",
        "      <th>Craig Booker</th>\n",
        "      <td>  500</td>\n",
        "    </tr>\n",
        "    <tr>\n",
        "      <th>Daniel Hilton</th>\n",
        "      <td>  500</td>\n",
        "    </tr>\n",
        "    <tr>\n",
        "      <th>John Smith</th>\n",
        "      <td>  300</td>\n",
        "    </tr>\n",
        "    <tr>\n",
        "      <th rowspan=\"2\" valign=\"top\">Fred Anderson</th>\n",
        "      <th>Cedric Moss</th>\n",
        "      <td>  500</td>\n",
        "    </tr>\n",
        "    <tr>\n",
        "      <th>Wendy Yule</th>\n",
        "      <td> 1200</td>\n",
        "    </tr>\n",
        "  </tbody>\n",
        "</table>\n",
        "</div>"
       ],
       "metadata": {},
       "output_type": "pyout",
       "prompt_number": 47,
       "text": [
        "                             Copies\n",
        "Editor        Author               \n",
        "Debra Henley  Craig Booker      500\n",
        "              Daniel Hilton     500\n",
        "              John Smith        300\n",
        "Fred Anderson Cedric Moss       500\n",
        "              Wendy Yule       1200"
       ]
      }
     ],
     "prompt_number": 47
    },
    {
     "cell_type": "markdown",
     "metadata": {},
     "source": [
      "`aggfunc()` can take a list of functions. Let\u2019s try a mean using the numpy mean function and len to get a count."
     ]
    },
    {
     "cell_type": "code",
     "collapsed": false,
     "input": [
      "pd.pivot_table(df, index=[\"Editor\", \"Author\"], values=[\"Copies\"], aggfunc=[np.sum, len])"
     ],
     "language": "python",
     "metadata": {},
     "outputs": [
      {
       "html": [
        "<div style=\"max-height:1000px;max-width:1500px;overflow:auto;\">\n",
        "<table border=\"1\" class=\"dataframe\">\n",
        "  <thead>\n",
        "    <tr>\n",
        "      <th></th>\n",
        "      <th></th>\n",
        "      <th>sum</th>\n",
        "      <th>len</th>\n",
        "    </tr>\n",
        "    <tr>\n",
        "      <th></th>\n",
        "      <th></th>\n",
        "      <th>Copies</th>\n",
        "      <th>Copies</th>\n",
        "    </tr>\n",
        "    <tr>\n",
        "      <th>Editor</th>\n",
        "      <th>Author</th>\n",
        "      <th></th>\n",
        "      <th></th>\n",
        "    </tr>\n",
        "  </thead>\n",
        "  <tbody>\n",
        "    <tr>\n",
        "      <th rowspan=\"3\" valign=\"top\">Debra Henley</th>\n",
        "      <th>Craig Booker</th>\n",
        "      <td>  500</td>\n",
        "      <td> 4</td>\n",
        "    </tr>\n",
        "    <tr>\n",
        "      <th>Daniel Hilton</th>\n",
        "      <td>  500</td>\n",
        "      <td> 3</td>\n",
        "    </tr>\n",
        "    <tr>\n",
        "      <th>John Smith</th>\n",
        "      <td>  300</td>\n",
        "      <td> 2</td>\n",
        "    </tr>\n",
        "    <tr>\n",
        "      <th rowspan=\"2\" valign=\"top\">Fred Anderson</th>\n",
        "      <th>Cedric Moss</th>\n",
        "      <td>  500</td>\n",
        "      <td> 4</td>\n",
        "    </tr>\n",
        "    <tr>\n",
        "      <th>Wendy Yule</th>\n",
        "      <td> 1200</td>\n",
        "      <td> 4</td>\n",
        "    </tr>\n",
        "  </tbody>\n",
        "</table>\n",
        "</div>"
       ],
       "metadata": {},
       "output_type": "pyout",
       "prompt_number": 49,
       "text": [
        "                               sum    len\n",
        "                            Copies Copies\n",
        "Editor        Author                     \n",
        "Debra Henley  Craig Booker     500      4\n",
        "              Daniel Hilton    500      3\n",
        "              John Smith       300      2\n",
        "Fred Anderson Cedric Moss      500      4\n",
        "              Wendy Yule      1200      4"
       ]
      }
     ],
     "prompt_number": 49
    },
    {
     "cell_type": "markdown",
     "metadata": {},
     "source": [
      "If we want to see copies broken down by the edition, the columns variable allows us to define one or more columns."
     ]
    },
    {
     "cell_type": "heading",
     "level": 4,
     "metadata": {},
     "source": [
      "Columns vs. Values"
     ]
    },
    {
     "cell_type": "markdown",
     "metadata": {},
     "source": [
      "I think one of the confusing points with the pivot_table is the use of columns and values. Remember, columns are optional - they provide an additional way to segment the actual values you care about. The aggregation functions are applied to the values you list."
     ]
    },
    {
     "cell_type": "code",
     "collapsed": false,
     "input": [
      "pd.pivot_table(df,index=[\"Editor\", \"Author\"], values=[\"Copies\"],\n",
      "               columns=[\"Edition\"], aggfunc=[np.sum])"
     ],
     "language": "python",
     "metadata": {},
     "outputs": [
      {
       "html": [
        "<div style=\"max-height:1000px;max-width:1500px;overflow:auto;\">\n",
        "<table border=\"1\" class=\"dataframe\">\n",
        "  <thead>\n",
        "    <tr>\n",
        "      <th></th>\n",
        "      <th></th>\n",
        "      <th colspan=\"3\" halign=\"left\">sum</th>\n",
        "    </tr>\n",
        "    <tr>\n",
        "      <th></th>\n",
        "      <th></th>\n",
        "      <th colspan=\"3\" halign=\"left\">Copies</th>\n",
        "    </tr>\n",
        "    <tr>\n",
        "      <th></th>\n",
        "      <th>Edition</th>\n",
        "      <th>Pocket</th>\n",
        "      <th>Premiun</th>\n",
        "      <th>Standard</th>\n",
        "    </tr>\n",
        "    <tr>\n",
        "      <th>Editor</th>\n",
        "      <th>Author</th>\n",
        "      <th></th>\n",
        "      <th></th>\n",
        "      <th></th>\n",
        "    </tr>\n",
        "  </thead>\n",
        "  <tbody>\n",
        "    <tr>\n",
        "      <th rowspan=\"3\" valign=\"top\">Debra Henley</th>\n",
        "      <th>Craig Booker</th>\n",
        "      <td> 200</td>\n",
        "      <td> 200</td>\n",
        "      <td> 100</td>\n",
        "    </tr>\n",
        "    <tr>\n",
        "      <th>Daniel Hilton</th>\n",
        "      <td> NaN</td>\n",
        "      <td> 400</td>\n",
        "      <td> 100</td>\n",
        "    </tr>\n",
        "    <tr>\n",
        "      <th>John Smith</th>\n",
        "      <td> 200</td>\n",
        "      <td> 100</td>\n",
        "      <td> NaN</td>\n",
        "    </tr>\n",
        "    <tr>\n",
        "      <th rowspan=\"2\" valign=\"top\">Fred Anderson</th>\n",
        "      <th>Cedric Moss</th>\n",
        "      <td> 100</td>\n",
        "      <td> 300</td>\n",
        "      <td> 100</td>\n",
        "    </tr>\n",
        "    <tr>\n",
        "      <th>Wendy Yule</th>\n",
        "      <td> 300</td>\n",
        "      <td> 700</td>\n",
        "      <td> 200</td>\n",
        "    </tr>\n",
        "  </tbody>\n",
        "</table>\n",
        "</div>"
       ],
       "metadata": {},
       "output_type": "pyout",
       "prompt_number": 50,
       "text": [
        "                               sum                 \n",
        "                            Copies                 \n",
        "Edition                     Pocket Premiun Standard\n",
        "Editor        Author                               \n",
        "Debra Henley  Craig Booker     200     200      100\n",
        "              Daniel Hilton    NaN     400      100\n",
        "              John Smith       200     100      NaN\n",
        "Fred Anderson Cedric Moss      100     300      100\n",
        "              Wendy Yule       300     700      200"
       ]
      }
     ],
     "prompt_number": 50
    },
    {
     "cell_type": "markdown",
     "metadata": {},
     "source": [
      "The NaN\u2019s are a bit distracting. If we want to remove them, we could use fill_value to set them to 0."
     ]
    },
    {
     "cell_type": "code",
     "collapsed": false,
     "input": [
      "pd.pivot_table(df,index=[\"Editor\", \"Author\"], values=[\"Copies\"],\n",
      "               columns=[\"Edition\"], aggfunc=[np.sum], fill_value=0)"
     ],
     "language": "python",
     "metadata": {},
     "outputs": [
      {
       "html": [
        "<div style=\"max-height:1000px;max-width:1500px;overflow:auto;\">\n",
        "<table border=\"1\" class=\"dataframe\">\n",
        "  <thead>\n",
        "    <tr>\n",
        "      <th></th>\n",
        "      <th></th>\n",
        "      <th colspan=\"3\" halign=\"left\">sum</th>\n",
        "    </tr>\n",
        "    <tr>\n",
        "      <th></th>\n",
        "      <th></th>\n",
        "      <th colspan=\"3\" halign=\"left\">Copies</th>\n",
        "    </tr>\n",
        "    <tr>\n",
        "      <th></th>\n",
        "      <th>Edition</th>\n",
        "      <th>Pocket</th>\n",
        "      <th>Premiun</th>\n",
        "      <th>Standard</th>\n",
        "    </tr>\n",
        "    <tr>\n",
        "      <th>Editor</th>\n",
        "      <th>Author</th>\n",
        "      <th></th>\n",
        "      <th></th>\n",
        "      <th></th>\n",
        "    </tr>\n",
        "  </thead>\n",
        "  <tbody>\n",
        "    <tr>\n",
        "      <th rowspan=\"3\" valign=\"top\">Debra Henley</th>\n",
        "      <th>Craig Booker</th>\n",
        "      <td> 200</td>\n",
        "      <td> 200</td>\n",
        "      <td> 100</td>\n",
        "    </tr>\n",
        "    <tr>\n",
        "      <th>Daniel Hilton</th>\n",
        "      <td>   0</td>\n",
        "      <td> 400</td>\n",
        "      <td> 100</td>\n",
        "    </tr>\n",
        "    <tr>\n",
        "      <th>John Smith</th>\n",
        "      <td> 200</td>\n",
        "      <td> 100</td>\n",
        "      <td>   0</td>\n",
        "    </tr>\n",
        "    <tr>\n",
        "      <th rowspan=\"2\" valign=\"top\">Fred Anderson</th>\n",
        "      <th>Cedric Moss</th>\n",
        "      <td> 100</td>\n",
        "      <td> 300</td>\n",
        "      <td> 100</td>\n",
        "    </tr>\n",
        "    <tr>\n",
        "      <th>Wendy Yule</th>\n",
        "      <td> 300</td>\n",
        "      <td> 700</td>\n",
        "      <td> 200</td>\n",
        "    </tr>\n",
        "  </tbody>\n",
        "</table>\n",
        "</div>"
       ],
       "metadata": {},
       "output_type": "pyout",
       "prompt_number": 52,
       "text": [
        "                               sum                 \n",
        "                            Copies                 \n",
        "Edition                     Pocket Premiun Standard\n",
        "Editor        Author                               \n",
        "Debra Henley  Craig Booker     200     200      100\n",
        "              Daniel Hilton      0     400      100\n",
        "              John Smith       200     100        0\n",
        "Fred Anderson Cedric Moss      100     300      100\n",
        "              Wendy Yule       300     700      200"
       ]
      }
     ],
     "prompt_number": 52
    },
    {
     "cell_type": "markdown",
     "metadata": {},
     "source": [
      "It would be useful to add the average price as well. Add `Price` to the values list."
     ]
    },
    {
     "cell_type": "code",
     "collapsed": false,
     "input": [
      "pd.pivot_table(df,index=[\"Editor\", \"Author\"], values=[\"Copies\", \"Price\"],\n",
      "               columns=[\"Edition\"], aggfunc={\"Copies\": np.sum, \"Price\": np.mean}, fill_value=0)"
     ],
     "language": "python",
     "metadata": {},
     "outputs": [
      {
       "html": [
        "<div style=\"max-height:1000px;max-width:1500px;overflow:auto;\">\n",
        "<table border=\"1\" class=\"dataframe\">\n",
        "  <thead>\n",
        "    <tr>\n",
        "      <th></th>\n",
        "      <th></th>\n",
        "      <th colspan=\"3\" halign=\"left\">Copies</th>\n",
        "      <th colspan=\"3\" halign=\"left\">Price</th>\n",
        "    </tr>\n",
        "    <tr>\n",
        "      <th></th>\n",
        "      <th>Edition</th>\n",
        "      <th>Pocket</th>\n",
        "      <th>Premiun</th>\n",
        "      <th>Standard</th>\n",
        "      <th>Pocket</th>\n",
        "      <th>Premiun</th>\n",
        "      <th>Standard</th>\n",
        "    </tr>\n",
        "    <tr>\n",
        "      <th>Editor</th>\n",
        "      <th>Author</th>\n",
        "      <th></th>\n",
        "      <th></th>\n",
        "      <th></th>\n",
        "      <th></th>\n",
        "      <th></th>\n",
        "      <th></th>\n",
        "    </tr>\n",
        "  </thead>\n",
        "  <tbody>\n",
        "    <tr>\n",
        "      <th rowspan=\"3\" valign=\"top\">Debra Henley</th>\n",
        "      <th>Craig Booker</th>\n",
        "      <td> 200</td>\n",
        "      <td> 200</td>\n",
        "      <td> 100</td>\n",
        "      <td> 5</td>\n",
        "      <td> 32.5</td>\n",
        "      <td> 10</td>\n",
        "    </tr>\n",
        "    <tr>\n",
        "      <th>Daniel Hilton</th>\n",
        "      <td>   0</td>\n",
        "      <td> 400</td>\n",
        "      <td> 100</td>\n",
        "      <td> 0</td>\n",
        "      <td> 52.5</td>\n",
        "      <td> 10</td>\n",
        "    </tr>\n",
        "    <tr>\n",
        "      <th>John Smith</th>\n",
        "      <td> 200</td>\n",
        "      <td> 100</td>\n",
        "      <td>   0</td>\n",
        "      <td> 5</td>\n",
        "      <td> 35.0</td>\n",
        "      <td>  0</td>\n",
        "    </tr>\n",
        "    <tr>\n",
        "      <th rowspan=\"2\" valign=\"top\">Fred Anderson</th>\n",
        "      <th>Cedric Moss</th>\n",
        "      <td> 100</td>\n",
        "      <td> 300</td>\n",
        "      <td> 100</td>\n",
        "      <td> 5</td>\n",
        "      <td> 47.5</td>\n",
        "      <td> 10</td>\n",
        "    </tr>\n",
        "    <tr>\n",
        "      <th>Wendy Yule</th>\n",
        "      <td> 300</td>\n",
        "      <td> 700</td>\n",
        "      <td> 200</td>\n",
        "      <td> 7</td>\n",
        "      <td> 82.5</td>\n",
        "      <td>  5</td>\n",
        "    </tr>\n",
        "  </tbody>\n",
        "</table>\n",
        "</div>"
       ],
       "metadata": {},
       "output_type": "pyout",
       "prompt_number": 54,
       "text": [
        "                            Copies                   Price                 \n",
        "Edition                     Pocket Premiun Standard Pocket Premiun Standard\n",
        "Editor        Author                                                       \n",
        "Debra Henley  Craig Booker     200     200      100      5    32.5       10\n",
        "              Daniel Hilton      0     400      100      0    52.5       10\n",
        "              John Smith       200     100        0      5    35.0        0\n",
        "Fred Anderson Cedric Moss      100     300      100      5    47.5       10\n",
        "              Wendy Yule       300     700      200      7    82.5        5"
       ]
      }
     ],
     "prompt_number": 54
    },
    {
     "cell_type": "markdown",
     "metadata": {},
     "source": [
      "What's interesting is that you can move items to the index to get a different visual representation. Remove `Edition` from the columns and add to the index."
     ]
    },
    {
     "cell_type": "code",
     "collapsed": false,
     "input": [
      "pd.pivot_table(df,index=[\"Editor\", \"Author\", \"Edition\"], values=[\"Copies\", \"Price\"],\n",
      "               aggfunc={\"Copies\": np.sum, \"Price\": np.mean}, fill_value=0)"
     ],
     "language": "python",
     "metadata": {},
     "outputs": [
      {
       "html": [
        "<div style=\"max-height:1000px;max-width:1500px;overflow:auto;\">\n",
        "<table border=\"1\" class=\"dataframe\">\n",
        "  <thead>\n",
        "    <tr style=\"text-align: right;\">\n",
        "      <th></th>\n",
        "      <th></th>\n",
        "      <th></th>\n",
        "      <th>Copies</th>\n",
        "      <th>Price</th>\n",
        "    </tr>\n",
        "    <tr>\n",
        "      <th>Editor</th>\n",
        "      <th>Author</th>\n",
        "      <th>Edition</th>\n",
        "      <th></th>\n",
        "      <th></th>\n",
        "    </tr>\n",
        "  </thead>\n",
        "  <tbody>\n",
        "    <tr>\n",
        "      <th rowspan=\"7\" valign=\"top\">Debra Henley</th>\n",
        "      <th rowspan=\"3\" valign=\"top\">Craig Booker</th>\n",
        "      <th>Pocket</th>\n",
        "      <td> 200</td>\n",
        "      <td>  5.0</td>\n",
        "    </tr>\n",
        "    <tr>\n",
        "      <th>Premiun</th>\n",
        "      <td> 200</td>\n",
        "      <td> 32.5</td>\n",
        "    </tr>\n",
        "    <tr>\n",
        "      <th>Standard</th>\n",
        "      <td> 100</td>\n",
        "      <td> 10.0</td>\n",
        "    </tr>\n",
        "    <tr>\n",
        "      <th rowspan=\"2\" valign=\"top\">Daniel Hilton</th>\n",
        "      <th>Premiun</th>\n",
        "      <td> 400</td>\n",
        "      <td> 52.5</td>\n",
        "    </tr>\n",
        "    <tr>\n",
        "      <th>Standard</th>\n",
        "      <td> 100</td>\n",
        "      <td> 10.0</td>\n",
        "    </tr>\n",
        "    <tr>\n",
        "      <th rowspan=\"2\" valign=\"top\">John Smith</th>\n",
        "      <th>Pocket</th>\n",
        "      <td> 200</td>\n",
        "      <td>  5.0</td>\n",
        "    </tr>\n",
        "    <tr>\n",
        "      <th>Premiun</th>\n",
        "      <td> 100</td>\n",
        "      <td> 35.0</td>\n",
        "    </tr>\n",
        "    <tr>\n",
        "      <th rowspan=\"6\" valign=\"top\">Fred Anderson</th>\n",
        "      <th rowspan=\"3\" valign=\"top\">Cedric Moss</th>\n",
        "      <th>Pocket</th>\n",
        "      <td> 100</td>\n",
        "      <td>  5.0</td>\n",
        "    </tr>\n",
        "    <tr>\n",
        "      <th>Premiun</th>\n",
        "      <td> 300</td>\n",
        "      <td> 47.5</td>\n",
        "    </tr>\n",
        "    <tr>\n",
        "      <th>Standard</th>\n",
        "      <td> 100</td>\n",
        "      <td> 10.0</td>\n",
        "    </tr>\n",
        "    <tr>\n",
        "      <th rowspan=\"3\" valign=\"top\">Wendy Yule</th>\n",
        "      <th>Pocket</th>\n",
        "      <td> 300</td>\n",
        "      <td>  7.0</td>\n",
        "    </tr>\n",
        "    <tr>\n",
        "      <th>Premiun</th>\n",
        "      <td> 700</td>\n",
        "      <td> 82.5</td>\n",
        "    </tr>\n",
        "    <tr>\n",
        "      <th>Standard</th>\n",
        "      <td> 200</td>\n",
        "      <td>  5.0</td>\n",
        "    </tr>\n",
        "  </tbody>\n",
        "</table>\n",
        "</div>"
       ],
       "metadata": {},
       "output_type": "pyout",
       "prompt_number": 56,
       "text": [
        "                                      Copies  Price\n",
        "Editor        Author        Edition                \n",
        "Debra Henley  Craig Booker  Pocket       200    5.0\n",
        "                            Premiun      200   32.5\n",
        "                            Standard     100   10.0\n",
        "              Daniel Hilton Premiun      400   52.5\n",
        "                            Standard     100   10.0\n",
        "              John Smith    Pocket       200    5.0\n",
        "                            Premiun      100   35.0\n",
        "Fred Anderson Cedric Moss   Pocket       100    5.0\n",
        "                            Premiun      300   47.5\n",
        "                            Standard     100   10.0\n",
        "              Wendy Yule    Pocket       300    7.0\n",
        "                            Premiun      700   82.5\n",
        "                            Standard     200    5.0"
       ]
      }
     ],
     "prompt_number": 56
    },
    {
     "cell_type": "markdown",
     "metadata": {},
     "source": [
      "For this data set, this representation makes more sense. Now, what if I want to see some totals? `margins=True` does that for us. Also, a really handy feature is the ability to pass a dictionary to the aggfunc so you can perform different functions on each of the values you select. This has a side-effect of making the labels a little cleaner."
     ]
    },
    {
     "cell_type": "code",
     "collapsed": false,
     "input": [
      "pd.pivot_table(df,index=[\"Editor\", \"Author\", \"Edition\"], values=[\"Copies\", \"Price\"],\n",
      "               aggfunc={\"Copies\": np.sum, \"Price\": np.mean}, fill_value=0, margins=True)"
     ],
     "language": "python",
     "metadata": {},
     "outputs": [
      {
       "html": [
        "<div style=\"max-height:1000px;max-width:1500px;overflow:auto;\">\n",
        "<table border=\"1\" class=\"dataframe\">\n",
        "  <thead>\n",
        "    <tr style=\"text-align: right;\">\n",
        "      <th></th>\n",
        "      <th></th>\n",
        "      <th></th>\n",
        "      <th>Copies</th>\n",
        "      <th>Price</th>\n",
        "    </tr>\n",
        "    <tr>\n",
        "      <th>Editor</th>\n",
        "      <th>Author</th>\n",
        "      <th>Edition</th>\n",
        "      <th></th>\n",
        "      <th></th>\n",
        "    </tr>\n",
        "  </thead>\n",
        "  <tbody>\n",
        "    <tr>\n",
        "      <th rowspan=\"7\" valign=\"top\">Debra Henley</th>\n",
        "      <th rowspan=\"3\" valign=\"top\">Craig Booker</th>\n",
        "      <th>Pocket</th>\n",
        "      <td>  200</td>\n",
        "      <td>  5.000000</td>\n",
        "    </tr>\n",
        "    <tr>\n",
        "      <th>Premiun</th>\n",
        "      <td>  200</td>\n",
        "      <td> 32.500000</td>\n",
        "    </tr>\n",
        "    <tr>\n",
        "      <th>Standard</th>\n",
        "      <td>  100</td>\n",
        "      <td> 10.000000</td>\n",
        "    </tr>\n",
        "    <tr>\n",
        "      <th rowspan=\"2\" valign=\"top\">Daniel Hilton</th>\n",
        "      <th>Premiun</th>\n",
        "      <td>  400</td>\n",
        "      <td> 52.500000</td>\n",
        "    </tr>\n",
        "    <tr>\n",
        "      <th>Standard</th>\n",
        "      <td>  100</td>\n",
        "      <td> 10.000000</td>\n",
        "    </tr>\n",
        "    <tr>\n",
        "      <th rowspan=\"2\" valign=\"top\">John Smith</th>\n",
        "      <th>Pocket</th>\n",
        "      <td>  200</td>\n",
        "      <td>  5.000000</td>\n",
        "    </tr>\n",
        "    <tr>\n",
        "      <th>Premiun</th>\n",
        "      <td>  100</td>\n",
        "      <td> 35.000000</td>\n",
        "    </tr>\n",
        "    <tr>\n",
        "      <th rowspan=\"6\" valign=\"top\">Fred Anderson</th>\n",
        "      <th rowspan=\"3\" valign=\"top\">Cedric Moss</th>\n",
        "      <th>Pocket</th>\n",
        "      <td>  100</td>\n",
        "      <td>  5.000000</td>\n",
        "    </tr>\n",
        "    <tr>\n",
        "      <th>Premiun</th>\n",
        "      <td>  300</td>\n",
        "      <td> 47.500000</td>\n",
        "    </tr>\n",
        "    <tr>\n",
        "      <th>Standard</th>\n",
        "      <td>  100</td>\n",
        "      <td> 10.000000</td>\n",
        "    </tr>\n",
        "    <tr>\n",
        "      <th rowspan=\"3\" valign=\"top\">Wendy Yule</th>\n",
        "      <th>Pocket</th>\n",
        "      <td>  300</td>\n",
        "      <td>  7.000000</td>\n",
        "    </tr>\n",
        "    <tr>\n",
        "      <th>Premiun</th>\n",
        "      <td>  700</td>\n",
        "      <td> 82.500000</td>\n",
        "    </tr>\n",
        "    <tr>\n",
        "      <th>Standard</th>\n",
        "      <td>  200</td>\n",
        "      <td>  5.000000</td>\n",
        "    </tr>\n",
        "    <tr>\n",
        "      <th>All</th>\n",
        "      <th></th>\n",
        "      <th></th>\n",
        "      <td> 3000</td>\n",
        "      <td> 30.705882</td>\n",
        "    </tr>\n",
        "  </tbody>\n",
        "</table>\n",
        "</div>"
       ],
       "metadata": {},
       "output_type": "pyout",
       "prompt_number": 58,
       "text": [
        "                                      Copies      Price\n",
        "Editor        Author        Edition                    \n",
        "Debra Henley  Craig Booker  Pocket       200   5.000000\n",
        "                            Premiun      200  32.500000\n",
        "                            Standard     100  10.000000\n",
        "              Daniel Hilton Premiun      400  52.500000\n",
        "                            Standard     100  10.000000\n",
        "              John Smith    Pocket       200   5.000000\n",
        "                            Premiun      100  35.000000\n",
        "Fred Anderson Cedric Moss   Pocket       100   5.000000\n",
        "                            Premiun      300  47.500000\n",
        "                            Standard     100  10.000000\n",
        "              Wendy Yule    Pocket       300   7.000000\n",
        "                            Premiun      700  82.500000\n",
        "                            Standard     200   5.000000\n",
        "All                                     3000  30.705882"
       ]
      }
     ],
     "prompt_number": 58
    },
    {
     "cell_type": "markdown",
     "metadata": {},
     "source": [
      "<div align=\"center\">\n",
      "<img src=\"images/aahwell.gif\" width=\"350\">\n",
      "*Eeeeeh, well...*\n",
      "</div>"
     ]
    },
    {
     "cell_type": "markdown",
     "metadata": {},
     "source": [
      "Let\u2019s move the analysis up a level and look at our pipeline at the editor level."
     ]
    },
    {
     "cell_type": "code",
     "collapsed": false,
     "input": [
      "pd.pivot_table(df,index=[\"Editor\", \"Status\"],values=[\"Copies\"],\n",
      "               aggfunc=[np.sum], fill_value=0, margins=True)"
     ],
     "language": "python",
     "metadata": {},
     "outputs": [
      {
       "html": [
        "<div style=\"max-height:1000px;max-width:1500px;overflow:auto;\">\n",
        "<table border=\"1\" class=\"dataframe\">\n",
        "  <thead>\n",
        "    <tr>\n",
        "      <th></th>\n",
        "      <th></th>\n",
        "      <th>sum</th>\n",
        "    </tr>\n",
        "    <tr>\n",
        "      <th></th>\n",
        "      <th></th>\n",
        "      <th>Copies</th>\n",
        "    </tr>\n",
        "    <tr>\n",
        "      <th>Editor</th>\n",
        "      <th>Status</th>\n",
        "      <th></th>\n",
        "    </tr>\n",
        "  </thead>\n",
        "  <tbody>\n",
        "    <tr>\n",
        "      <th rowspan=\"4\" valign=\"top\">Debra Henley</th>\n",
        "      <th>In-print</th>\n",
        "      <td>  300</td>\n",
        "    </tr>\n",
        "    <tr>\n",
        "      <th>pending</th>\n",
        "      <td>  600</td>\n",
        "    </tr>\n",
        "    <tr>\n",
        "      <th>published</th>\n",
        "      <td>  200</td>\n",
        "    </tr>\n",
        "    <tr>\n",
        "      <th>rejected</th>\n",
        "      <td>  200</td>\n",
        "    </tr>\n",
        "    <tr>\n",
        "      <th rowspan=\"4\" valign=\"top\">Fred Anderson</th>\n",
        "      <th>In-print</th>\n",
        "      <td>  400</td>\n",
        "    </tr>\n",
        "    <tr>\n",
        "      <th>pending</th>\n",
        "      <td>  100</td>\n",
        "    </tr>\n",
        "    <tr>\n",
        "      <th>published</th>\n",
        "      <td> 1000</td>\n",
        "    </tr>\n",
        "    <tr>\n",
        "      <th>rejected</th>\n",
        "      <td>  200</td>\n",
        "    </tr>\n",
        "    <tr>\n",
        "      <th>All</th>\n",
        "      <th></th>\n",
        "      <td> 3000</td>\n",
        "    </tr>\n",
        "  </tbody>\n",
        "</table>\n",
        "</div>"
       ],
       "metadata": {},
       "output_type": "pyout",
       "prompt_number": 59,
       "text": [
        "                           sum\n",
        "                        Copies\n",
        "Editor        Status          \n",
        "Debra Henley  In-print     300\n",
        "              pending      600\n",
        "              published    200\n",
        "              rejected     200\n",
        "Fred Anderson In-print     400\n",
        "              pending      100\n",
        "              published   1000\n",
        "              rejected     200\n",
        "All                       3000"
       ]
      }
     ],
     "prompt_number": 59
    },
    {
     "cell_type": "markdown",
     "metadata": {},
     "source": [
      "You can provide a list of aggfunctions to apply to each value too:"
     ]
    },
    {
     "cell_type": "code",
     "collapsed": false,
     "input": [
      "table = pd.pivot_table(df,index=[\"Editor\", \"Status\"], columns=[\"Edition\"], values=[\"Copies\", \"Price\"],\n",
      "               aggfunc={\"Copies\": np.sum, \"Price\":[np.sum, np.mean]}, fill_value=0)\n",
      "table"
     ],
     "language": "python",
     "metadata": {},
     "outputs": [
      {
       "html": [
        "<div style=\"max-height:1000px;max-width:1500px;overflow:auto;\">\n",
        "<table border=\"1\" class=\"dataframe\">\n",
        "  <thead>\n",
        "    <tr>\n",
        "      <th></th>\n",
        "      <th></th>\n",
        "      <th colspan=\"3\" halign=\"left\">Copies</th>\n",
        "      <th colspan=\"6\" halign=\"left\">Price</th>\n",
        "    </tr>\n",
        "    <tr>\n",
        "      <th></th>\n",
        "      <th></th>\n",
        "      <th colspan=\"3\" halign=\"left\">sum</th>\n",
        "      <th colspan=\"3\" halign=\"left\">mean</th>\n",
        "      <th colspan=\"3\" halign=\"left\">sum</th>\n",
        "    </tr>\n",
        "    <tr>\n",
        "      <th></th>\n",
        "      <th>Edition</th>\n",
        "      <th>Pocket</th>\n",
        "      <th>Premiun</th>\n",
        "      <th>Standard</th>\n",
        "      <th>Pocket</th>\n",
        "      <th>Premiun</th>\n",
        "      <th>Standard</th>\n",
        "      <th>Pocket</th>\n",
        "      <th>Premiun</th>\n",
        "      <th>Standard</th>\n",
        "    </tr>\n",
        "    <tr>\n",
        "      <th>Editor</th>\n",
        "      <th>Status</th>\n",
        "      <th></th>\n",
        "      <th></th>\n",
        "      <th></th>\n",
        "      <th></th>\n",
        "      <th></th>\n",
        "      <th></th>\n",
        "      <th></th>\n",
        "      <th></th>\n",
        "      <th></th>\n",
        "    </tr>\n",
        "  </thead>\n",
        "  <tbody>\n",
        "    <tr>\n",
        "      <th rowspan=\"4\" valign=\"top\">Debra Henley</th>\n",
        "      <th>In-print</th>\n",
        "      <td>   0</td>\n",
        "      <td> 100</td>\n",
        "      <td> 200</td>\n",
        "      <td> 0</td>\n",
        "      <td> 30.0</td>\n",
        "      <td> 10.0</td>\n",
        "      <td>  0</td>\n",
        "      <td>  30</td>\n",
        "      <td> 20</td>\n",
        "    </tr>\n",
        "    <tr>\n",
        "      <th>pending</th>\n",
        "      <td> 400</td>\n",
        "      <td> 200</td>\n",
        "      <td>   0</td>\n",
        "      <td> 5</td>\n",
        "      <td> 40.0</td>\n",
        "      <td>  0.0</td>\n",
        "      <td> 10</td>\n",
        "      <td>  40</td>\n",
        "      <td>  0</td>\n",
        "    </tr>\n",
        "    <tr>\n",
        "      <th>published</th>\n",
        "      <td>   0</td>\n",
        "      <td> 200</td>\n",
        "      <td>   0</td>\n",
        "      <td> 0</td>\n",
        "      <td> 65.0</td>\n",
        "      <td>  0.0</td>\n",
        "      <td>  0</td>\n",
        "      <td>  65</td>\n",
        "      <td>  0</td>\n",
        "    </tr>\n",
        "    <tr>\n",
        "      <th>rejected</th>\n",
        "      <td>   0</td>\n",
        "      <td> 200</td>\n",
        "      <td>   0</td>\n",
        "      <td> 0</td>\n",
        "      <td> 35.0</td>\n",
        "      <td>  0.0</td>\n",
        "      <td>  0</td>\n",
        "      <td>  70</td>\n",
        "      <td>  0</td>\n",
        "    </tr>\n",
        "    <tr>\n",
        "      <th rowspan=\"4\" valign=\"top\">Fred Anderson</th>\n",
        "      <th>In-print</th>\n",
        "      <td>   0</td>\n",
        "      <td> 100</td>\n",
        "      <td> 300</td>\n",
        "      <td> 0</td>\n",
        "      <td> 30.0</td>\n",
        "      <td>  7.5</td>\n",
        "      <td>  0</td>\n",
        "      <td>  30</td>\n",
        "      <td> 15</td>\n",
        "    </tr>\n",
        "    <tr>\n",
        "      <th>pending</th>\n",
        "      <td> 100</td>\n",
        "      <td>   0</td>\n",
        "      <td>   0</td>\n",
        "      <td> 5</td>\n",
        "      <td>  0.0</td>\n",
        "      <td>  0.0</td>\n",
        "      <td>  5</td>\n",
        "      <td>   0</td>\n",
        "      <td>  0</td>\n",
        "    </tr>\n",
        "    <tr>\n",
        "      <th>published</th>\n",
        "      <td> 300</td>\n",
        "      <td> 700</td>\n",
        "      <td>   0</td>\n",
        "      <td> 7</td>\n",
        "      <td> 82.5</td>\n",
        "      <td>  0.0</td>\n",
        "      <td>  7</td>\n",
        "      <td> 165</td>\n",
        "      <td>  0</td>\n",
        "    </tr>\n",
        "    <tr>\n",
        "      <th>rejected</th>\n",
        "      <td>   0</td>\n",
        "      <td> 200</td>\n",
        "      <td>   0</td>\n",
        "      <td> 0</td>\n",
        "      <td> 65.0</td>\n",
        "      <td>  0.0</td>\n",
        "      <td>  0</td>\n",
        "      <td>  65</td>\n",
        "      <td>  0</td>\n",
        "    </tr>\n",
        "  </tbody>\n",
        "</table>\n",
        "</div>"
       ],
       "metadata": {},
       "output_type": "pyout",
       "prompt_number": 60,
       "text": [
        "                        Copies                   Price                   \\\n",
        "                           sum                    mean                    \n",
        "Edition                 Pocket Premiun Standard Pocket Premiun Standard   \n",
        "Editor        Status                                                      \n",
        "Debra Henley  In-print       0     100      200      0    30.0     10.0   \n",
        "              pending      400     200        0      5    40.0      0.0   \n",
        "              published      0     200        0      0    65.0      0.0   \n",
        "              rejected       0     200        0      0    35.0      0.0   \n",
        "Fred Anderson In-print       0     100      300      0    30.0      7.5   \n",
        "              pending      100       0        0      5     0.0      0.0   \n",
        "              published    300     700        0      7    82.5      0.0   \n",
        "              rejected       0     200        0      0    65.0      0.0   \n",
        "\n",
        "                                                 \n",
        "                           sum                   \n",
        "Edition                 Pocket Premiun Standard  \n",
        "Editor        Status                             \n",
        "Debra Henley  In-print       0      30       20  \n",
        "              pending       10      40        0  \n",
        "              published      0      65        0  \n",
        "              rejected       0      70        0  \n",
        "Fred Anderson In-print       0      30       15  \n",
        "              pending        5       0        0  \n",
        "              published      7     165        0  \n",
        "              rejected       0      65        0  "
       ]
      }
     ],
     "prompt_number": 60
    },
    {
     "cell_type": "markdown",
     "metadata": {},
     "source": [
      "It can look daunting to try to pull this all together at one time but as soon as you start playing with the data and slowly add the items, you can get a feel for how it works. As a general rule of thumb is, once you use multiple `grouby()` you should evaluate whether a pivot table is a useful approach."
     ]
    },
    {
     "cell_type": "heading",
     "level": 4,
     "metadata": {},
     "source": [
      "Advanced Pivot Table Filtering"
     ]
    },
    {
     "cell_type": "markdown",
     "metadata": {},
     "source": [
      "Once you have generated your data, it is in a `DataFrame` so you can filter on it using your standard `DataFrame` functions.\n",
      "\n",
      "If you want to look at just one editor:"
     ]
    },
    {
     "cell_type": "code",
     "collapsed": false,
     "input": [
      "table.query('Editor == [\"Debra Henley\"]')  # you might nedd to install numexpr"
     ],
     "language": "python",
     "metadata": {},
     "outputs": [
      {
       "html": [
        "<div style=\"max-height:1000px;max-width:1500px;overflow:auto;\">\n",
        "<table border=\"1\" class=\"dataframe\">\n",
        "  <thead>\n",
        "    <tr>\n",
        "      <th></th>\n",
        "      <th></th>\n",
        "      <th colspan=\"3\" halign=\"left\">Copies</th>\n",
        "      <th colspan=\"6\" halign=\"left\">Price</th>\n",
        "    </tr>\n",
        "    <tr>\n",
        "      <th></th>\n",
        "      <th></th>\n",
        "      <th colspan=\"3\" halign=\"left\">sum</th>\n",
        "      <th colspan=\"3\" halign=\"left\">mean</th>\n",
        "      <th colspan=\"3\" halign=\"left\">sum</th>\n",
        "    </tr>\n",
        "    <tr>\n",
        "      <th></th>\n",
        "      <th>Edition</th>\n",
        "      <th>Pocket</th>\n",
        "      <th>Premiun</th>\n",
        "      <th>Standard</th>\n",
        "      <th>Pocket</th>\n",
        "      <th>Premiun</th>\n",
        "      <th>Standard</th>\n",
        "      <th>Pocket</th>\n",
        "      <th>Premiun</th>\n",
        "      <th>Standard</th>\n",
        "    </tr>\n",
        "    <tr>\n",
        "      <th>Editor</th>\n",
        "      <th>Status</th>\n",
        "      <th></th>\n",
        "      <th></th>\n",
        "      <th></th>\n",
        "      <th></th>\n",
        "      <th></th>\n",
        "      <th></th>\n",
        "      <th></th>\n",
        "      <th></th>\n",
        "      <th></th>\n",
        "    </tr>\n",
        "  </thead>\n",
        "  <tbody>\n",
        "    <tr>\n",
        "      <th rowspan=\"4\" valign=\"top\">Debra Henley</th>\n",
        "      <th>In-print</th>\n",
        "      <td>   0</td>\n",
        "      <td> 100</td>\n",
        "      <td> 200</td>\n",
        "      <td> 0</td>\n",
        "      <td> 30</td>\n",
        "      <td> 10</td>\n",
        "      <td>  0</td>\n",
        "      <td> 30</td>\n",
        "      <td> 20</td>\n",
        "    </tr>\n",
        "    <tr>\n",
        "      <th>pending</th>\n",
        "      <td> 400</td>\n",
        "      <td> 200</td>\n",
        "      <td>   0</td>\n",
        "      <td> 5</td>\n",
        "      <td> 40</td>\n",
        "      <td>  0</td>\n",
        "      <td> 10</td>\n",
        "      <td> 40</td>\n",
        "      <td>  0</td>\n",
        "    </tr>\n",
        "    <tr>\n",
        "      <th>published</th>\n",
        "      <td>   0</td>\n",
        "      <td> 200</td>\n",
        "      <td>   0</td>\n",
        "      <td> 0</td>\n",
        "      <td> 65</td>\n",
        "      <td>  0</td>\n",
        "      <td>  0</td>\n",
        "      <td> 65</td>\n",
        "      <td>  0</td>\n",
        "    </tr>\n",
        "    <tr>\n",
        "      <th>rejected</th>\n",
        "      <td>   0</td>\n",
        "      <td> 200</td>\n",
        "      <td>   0</td>\n",
        "      <td> 0</td>\n",
        "      <td> 35</td>\n",
        "      <td>  0</td>\n",
        "      <td>  0</td>\n",
        "      <td> 70</td>\n",
        "      <td>  0</td>\n",
        "    </tr>\n",
        "  </tbody>\n",
        "</table>\n",
        "</div>"
       ],
       "metadata": {},
       "output_type": "pyout",
       "prompt_number": 64,
       "text": [
        "                       Copies                   Price                          \\\n",
        "                          sum                    mean                     sum   \n",
        "Edition                Pocket Premiun Standard Pocket Premiun Standard Pocket   \n",
        "Editor       Status                                                             \n",
        "Debra Henley In-print       0     100      200      0      30       10      0   \n",
        "             pending      400     200        0      5      40        0     10   \n",
        "             published      0     200        0      0      65        0      0   \n",
        "             rejected       0     200        0      0      35        0      0   \n",
        "\n",
        "                                         \n",
        "                                         \n",
        "Edition                Premiun Standard  \n",
        "Editor       Status                      \n",
        "Debra Henley In-print       30       20  \n",
        "             pending        40        0  \n",
        "             published      65        0  \n",
        "             rejected       70        0  "
       ]
      }
     ],
     "prompt_number": 64
    },
    {
     "cell_type": "markdown",
     "metadata": {},
     "source": [
      "We can look at all of our pending and in-print books."
     ]
    },
    {
     "cell_type": "code",
     "collapsed": false,
     "input": [
      "table.query('Status == [\"pending\", \"in-print\"]')"
     ],
     "language": "python",
     "metadata": {},
     "outputs": [
      {
       "html": [
        "<div style=\"max-height:1000px;max-width:1500px;overflow:auto;\">\n",
        "<table border=\"1\" class=\"dataframe\">\n",
        "  <thead>\n",
        "    <tr>\n",
        "      <th></th>\n",
        "      <th></th>\n",
        "      <th colspan=\"3\" halign=\"left\">Copies</th>\n",
        "      <th colspan=\"6\" halign=\"left\">Price</th>\n",
        "    </tr>\n",
        "    <tr>\n",
        "      <th></th>\n",
        "      <th></th>\n",
        "      <th colspan=\"3\" halign=\"left\">sum</th>\n",
        "      <th colspan=\"3\" halign=\"left\">mean</th>\n",
        "      <th colspan=\"3\" halign=\"left\">sum</th>\n",
        "    </tr>\n",
        "    <tr>\n",
        "      <th></th>\n",
        "      <th>Edition</th>\n",
        "      <th>Pocket</th>\n",
        "      <th>Premiun</th>\n",
        "      <th>Standard</th>\n",
        "      <th>Pocket</th>\n",
        "      <th>Premiun</th>\n",
        "      <th>Standard</th>\n",
        "      <th>Pocket</th>\n",
        "      <th>Premiun</th>\n",
        "      <th>Standard</th>\n",
        "    </tr>\n",
        "    <tr>\n",
        "      <th>Editor</th>\n",
        "      <th>Status</th>\n",
        "      <th></th>\n",
        "      <th></th>\n",
        "      <th></th>\n",
        "      <th></th>\n",
        "      <th></th>\n",
        "      <th></th>\n",
        "      <th></th>\n",
        "      <th></th>\n",
        "      <th></th>\n",
        "    </tr>\n",
        "  </thead>\n",
        "  <tbody>\n",
        "    <tr>\n",
        "      <th>Debra Henley</th>\n",
        "      <th>pending</th>\n",
        "      <td> 400</td>\n",
        "      <td> 200</td>\n",
        "      <td> 0</td>\n",
        "      <td> 5</td>\n",
        "      <td> 40</td>\n",
        "      <td> 0</td>\n",
        "      <td> 10</td>\n",
        "      <td> 40</td>\n",
        "      <td> 0</td>\n",
        "    </tr>\n",
        "    <tr>\n",
        "      <th>Fred Anderson</th>\n",
        "      <th>pending</th>\n",
        "      <td> 100</td>\n",
        "      <td>   0</td>\n",
        "      <td> 0</td>\n",
        "      <td> 5</td>\n",
        "      <td>  0</td>\n",
        "      <td> 0</td>\n",
        "      <td>  5</td>\n",
        "      <td>  0</td>\n",
        "      <td> 0</td>\n",
        "    </tr>\n",
        "  </tbody>\n",
        "</table>\n",
        "</div>"
       ],
       "metadata": {},
       "output_type": "pyout",
       "prompt_number": 65,
       "text": [
        "                      Copies                   Price                          \\\n",
        "                         sum                    mean                     sum   \n",
        "Edition               Pocket Premiun Standard Pocket Premiun Standard Pocket   \n",
        "Editor        Status                                                           \n",
        "Debra Henley  pending    400     200        0      5      40        0     10   \n",
        "Fred Anderson pending    100       0        0      5       0        0      5   \n",
        "\n",
        "                                        \n",
        "                                        \n",
        "Edition               Premiun Standard  \n",
        "Editor        Status                    \n",
        "Debra Henley  pending      40        0  \n",
        "Fred Anderson pending       0        0  "
       ]
      }
     ],
     "prompt_number": 65
    },
    {
     "cell_type": "markdown",
     "metadata": {},
     "source": [
      "This a poweful feature of the pivot_table so do not forget that you have the full power of pandas once you get your data into the `pivot_table` format you need."
     ]
    },
    {
     "cell_type": "heading",
     "level": 2,
     "metadata": {},
     "source": [
      "Cross-tabulation"
     ]
    },
    {
     "cell_type": "markdown",
     "metadata": {},
     "source": [
      "Some times, the only operation you want to do in a pivot talbe is to count. In those cases, when frequency tables with multi indices are required, a crosstabulated version of the data might come in handy. In Pandas, that kind of tables have their own function, so you don-t have to call pivot table with all the parameters."
     ]
    },
    {
     "cell_type": "code",
     "collapsed": false,
     "input": [
      "df = pd.DataFrame({'a' : np.random.randint(0, 2, size=20),\n",
      "                'b' : np.random.randint(0, 5, size=20),\n",
      "                'c' : np.random.randint(0, 3, size=20)})\n",
      " \n",
      "df"
     ],
     "language": "python",
     "metadata": {},
     "outputs": [
      {
       "html": [
        "<div style=\"max-height:1000px;max-width:1500px;overflow:auto;\">\n",
        "<table border=\"1\" class=\"dataframe\">\n",
        "  <thead>\n",
        "    <tr style=\"text-align: right;\">\n",
        "      <th></th>\n",
        "      <th>a</th>\n",
        "      <th>b</th>\n",
        "      <th>c</th>\n",
        "    </tr>\n",
        "  </thead>\n",
        "  <tbody>\n",
        "    <tr>\n",
        "      <th>0 </th>\n",
        "      <td> 1</td>\n",
        "      <td> 1</td>\n",
        "      <td> 0</td>\n",
        "    </tr>\n",
        "    <tr>\n",
        "      <th>1 </th>\n",
        "      <td> 1</td>\n",
        "      <td> 2</td>\n",
        "      <td> 2</td>\n",
        "    </tr>\n",
        "    <tr>\n",
        "      <th>2 </th>\n",
        "      <td> 1</td>\n",
        "      <td> 0</td>\n",
        "      <td> 1</td>\n",
        "    </tr>\n",
        "    <tr>\n",
        "      <th>3 </th>\n",
        "      <td> 1</td>\n",
        "      <td> 0</td>\n",
        "      <td> 2</td>\n",
        "    </tr>\n",
        "    <tr>\n",
        "      <th>4 </th>\n",
        "      <td> 1</td>\n",
        "      <td> 1</td>\n",
        "      <td> 1</td>\n",
        "    </tr>\n",
        "    <tr>\n",
        "      <th>5 </th>\n",
        "      <td> 0</td>\n",
        "      <td> 4</td>\n",
        "      <td> 1</td>\n",
        "    </tr>\n",
        "    <tr>\n",
        "      <th>6 </th>\n",
        "      <td> 1</td>\n",
        "      <td> 3</td>\n",
        "      <td> 0</td>\n",
        "    </tr>\n",
        "    <tr>\n",
        "      <th>7 </th>\n",
        "      <td> 1</td>\n",
        "      <td> 0</td>\n",
        "      <td> 0</td>\n",
        "    </tr>\n",
        "    <tr>\n",
        "      <th>8 </th>\n",
        "      <td> 0</td>\n",
        "      <td> 3</td>\n",
        "      <td> 1</td>\n",
        "    </tr>\n",
        "    <tr>\n",
        "      <th>9 </th>\n",
        "      <td> 0</td>\n",
        "      <td> 1</td>\n",
        "      <td> 1</td>\n",
        "    </tr>\n",
        "    <tr>\n",
        "      <th>10</th>\n",
        "      <td> 1</td>\n",
        "      <td> 4</td>\n",
        "      <td> 0</td>\n",
        "    </tr>\n",
        "    <tr>\n",
        "      <th>11</th>\n",
        "      <td> 0</td>\n",
        "      <td> 0</td>\n",
        "      <td> 2</td>\n",
        "    </tr>\n",
        "    <tr>\n",
        "      <th>12</th>\n",
        "      <td> 1</td>\n",
        "      <td> 1</td>\n",
        "      <td> 1</td>\n",
        "    </tr>\n",
        "    <tr>\n",
        "      <th>13</th>\n",
        "      <td> 1</td>\n",
        "      <td> 1</td>\n",
        "      <td> 2</td>\n",
        "    </tr>\n",
        "    <tr>\n",
        "      <th>14</th>\n",
        "      <td> 0</td>\n",
        "      <td> 2</td>\n",
        "      <td> 0</td>\n",
        "    </tr>\n",
        "    <tr>\n",
        "      <th>15</th>\n",
        "      <td> 1</td>\n",
        "      <td> 1</td>\n",
        "      <td> 2</td>\n",
        "    </tr>\n",
        "    <tr>\n",
        "      <th>16</th>\n",
        "      <td> 1</td>\n",
        "      <td> 0</td>\n",
        "      <td> 0</td>\n",
        "    </tr>\n",
        "    <tr>\n",
        "      <th>17</th>\n",
        "      <td> 0</td>\n",
        "      <td> 1</td>\n",
        "      <td> 0</td>\n",
        "    </tr>\n",
        "    <tr>\n",
        "      <th>18</th>\n",
        "      <td> 0</td>\n",
        "      <td> 4</td>\n",
        "      <td> 1</td>\n",
        "    </tr>\n",
        "    <tr>\n",
        "      <th>19</th>\n",
        "      <td> 1</td>\n",
        "      <td> 0</td>\n",
        "      <td> 1</td>\n",
        "    </tr>\n",
        "  </tbody>\n",
        "</table>\n",
        "</div>"
       ],
       "metadata": {},
       "output_type": "pyout",
       "prompt_number": 67,
       "text": [
        "    a  b  c\n",
        "0   1  1  0\n",
        "1   1  2  2\n",
        "2   1  0  1\n",
        "3   1  0  2\n",
        "4   1  1  1\n",
        "5   0  4  1\n",
        "6   1  3  0\n",
        "7   1  0  0\n",
        "8   0  3  1\n",
        "9   0  1  1\n",
        "10  1  4  0\n",
        "11  0  0  2\n",
        "12  1  1  1\n",
        "13  1  1  2\n",
        "14  0  2  0\n",
        "15  1  1  2\n",
        "16  1  0  0\n",
        "17  0  1  0\n",
        "18  0  4  1\n",
        "19  1  0  1"
       ]
      }
     ],
     "prompt_number": 67
    },
    {
     "cell_type": "code",
     "collapsed": false,
     "input": [
      "pd.crosstab(df['b'], [df['a'], df['c']])"
     ],
     "language": "python",
     "metadata": {},
     "outputs": [
      {
       "html": [
        "<div style=\"max-height:1000px;max-width:1500px;overflow:auto;\">\n",
        "<table border=\"1\" class=\"dataframe\">\n",
        "  <thead>\n",
        "    <tr>\n",
        "      <th>a</th>\n",
        "      <th colspan=\"3\" halign=\"left\">0</th>\n",
        "      <th colspan=\"3\" halign=\"left\">1</th>\n",
        "    </tr>\n",
        "    <tr>\n",
        "      <th>c</th>\n",
        "      <th>0</th>\n",
        "      <th>1</th>\n",
        "      <th>2</th>\n",
        "      <th>0</th>\n",
        "      <th>1</th>\n",
        "      <th>2</th>\n",
        "    </tr>\n",
        "    <tr>\n",
        "      <th>b</th>\n",
        "      <th></th>\n",
        "      <th></th>\n",
        "      <th></th>\n",
        "      <th></th>\n",
        "      <th></th>\n",
        "      <th></th>\n",
        "    </tr>\n",
        "  </thead>\n",
        "  <tbody>\n",
        "    <tr>\n",
        "      <th>0</th>\n",
        "      <td> 0</td>\n",
        "      <td> 0</td>\n",
        "      <td> 1</td>\n",
        "      <td> 2</td>\n",
        "      <td> 2</td>\n",
        "      <td> 1</td>\n",
        "    </tr>\n",
        "    <tr>\n",
        "      <th>1</th>\n",
        "      <td> 1</td>\n",
        "      <td> 1</td>\n",
        "      <td> 0</td>\n",
        "      <td> 1</td>\n",
        "      <td> 2</td>\n",
        "      <td> 2</td>\n",
        "    </tr>\n",
        "    <tr>\n",
        "      <th>2</th>\n",
        "      <td> 1</td>\n",
        "      <td> 0</td>\n",
        "      <td> 0</td>\n",
        "      <td> 0</td>\n",
        "      <td> 0</td>\n",
        "      <td> 1</td>\n",
        "    </tr>\n",
        "    <tr>\n",
        "      <th>3</th>\n",
        "      <td> 0</td>\n",
        "      <td> 1</td>\n",
        "      <td> 0</td>\n",
        "      <td> 1</td>\n",
        "      <td> 0</td>\n",
        "      <td> 0</td>\n",
        "    </tr>\n",
        "    <tr>\n",
        "      <th>4</th>\n",
        "      <td> 0</td>\n",
        "      <td> 2</td>\n",
        "      <td> 0</td>\n",
        "      <td> 1</td>\n",
        "      <td> 0</td>\n",
        "      <td> 0</td>\n",
        "    </tr>\n",
        "  </tbody>\n",
        "</table>\n",
        "</div>"
       ],
       "metadata": {},
       "output_type": "pyout",
       "prompt_number": 68,
       "text": [
        "a  0        1      \n",
        "c  0  1  2  0  1  2\n",
        "b                  \n",
        "0  0  0  1  2  2  1\n",
        "1  1  1  0  1  2  2\n",
        "2  1  0  0  0  0  1\n",
        "3  0  1  0  1  0  0\n",
        "4  0  2  0  1  0  0"
       ]
      }
     ],
     "prompt_number": 68
    },
    {
     "cell_type": "heading",
     "level": 2,
     "metadata": {},
     "source": [
      "Plotting and Visualization"
     ]
    },
    {
     "cell_type": "markdown",
     "metadata": {},
     "source": [
      "There are a handful of third-party Python packages that are suitable for creating scientific plots and visualizations. These include packages like:\n",
      "\n",
      "- matplotlib\n",
      "- Chaco\n",
      "- PyX\n",
      "- Bokeh\n",
      "\n",
      "Here, we will focus excelusively on matplotlib and the high-level plotting availabel within pandas. It is currently the most robust and feature-rich package available."
     ]
    },
    {
     "cell_type": "heading",
     "level": 2,
     "metadata": {},
     "source": [
      "Visual representation of data"
     ]
    },
    {
     "cell_type": "markdown",
     "metadata": {},
     "source": [
      "We require plots, charts and other statistical graphics for the written communication of quantitative ideas.\n",
      "They allow us to more easily convey relationships and reveal deviations from patterns.\n",
      "\n",
      "Gelman and Unwin 2011.\n",
      "\n",
      ">A well-designed graph can display more information than a table of the same size, and more information than numbers embedded in text. Graphical displays allow and encourage direct visual comparisons."
     ]
    },
    {
     "cell_type": "heading",
     "level": 2,
     "metadata": {},
     "source": [
      "Matplotlib"
     ]
    },
    {
     "cell_type": "markdown",
     "metadata": {},
     "source": [
      "The easiest way to interact with matplotlib is via pylab in iPython. By starting iPython (or iPython notebook) in \"pylab mode\", both matplotlib and numpy are pre-loaded into the iPython session:\n",
      "\n",
      "    ipython notebook --pylab\n",
      "\n",
      "You can specify a custom graphical backend (e.g. qt, gtk, osx), but iPython generally does a good job of auto-selecting. Now matplotlib is ready to go, and you can access the matplotlib API via plt. If you do not start iPython in pylab mode, you can do this manually with the following convention:"
     ]
    },
    {
     "cell_type": "code",
     "collapsed": false,
     "input": [
      "%matplotlib inline\n",
      "import matplotlib.pyplot as plt\n",
      "plt.plot(np.random.normal(size=100), np.random.normal(size=100), 'ro')"
     ],
     "language": "python",
     "metadata": {},
     "outputs": [
      {
       "metadata": {},
       "output_type": "pyout",
       "prompt_number": 31,
       "text": [
        "[<matplotlib.lines.Line2D at 0x7f9341385d30>]"
       ]
      },
      {
       "metadata": {},
       "output_type": "display_data",
       "png": "[encoded data removed]",
       "text": [
        "<matplotlib.figure.Figure at 0x7f9341411f98>"
       ]
      }
     ],
     "prompt_number": 31
    },
    {
     "cell_type": "markdown",
     "metadata": {},
     "source": [
      "<div style=\"font-size: 1em; margin: 1em 0 1em 0; border: 1px solid #86989B; background-color: #f7f7f7; padding: 0;\">\n",
      "<p style=\"margin: 0; padding: 0.1em 0 0.1em 0.5em; color: white; border-bottom: 1px solid #86989B; font-weight: bold; background-color: #AFC1C4;\">\n",
      "Activity\n",
      "</p>\n",
      "<p style=\"margin: 0.5em 1em 0.5em 1em; padding: 0;\">\n",
      "Given the `arts` data frame, plot a histogram of the number of artworks per year.\n",
      "<!-- <small style=\"float: right; position: relative;\">[Solution](data/solution.py)</small> -->\n",
      "</p>\n",
      "</div>"
     ]
    },
    {
     "cell_type": "heading",
     "level": 2,
     "metadata": {},
     "source": [
      "For the [next class](class08.ipynb)"
     ]
    },
    {
     "cell_type": "markdown",
     "metadata": {},
     "source": [
      "- Read [Chapters 7-9 and 13-14, from Statistics for Humanities](http://statisticsforhumanities.net/).\n",
      "- Read [Ordinary Least Squares in Python, from datarobot](http://www.datarobot.com/blog/ordinary-least-squares-in-python/).\n"
     ]
    }
   ],
   "metadata": {}
  }
 ]
}