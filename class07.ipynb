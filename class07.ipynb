{
 "metadata": {
  "name": "",
  "signature": "sha256:50f34003a829740eb4489467c6d7e5cc998df6204cb1b1f0ab1360e1fd672b0d"
 },
 "nbformat": 3,
 "nbformat_minor": 0,
 "worksheets": [
  {
   "cells": [
    {
     "cell_type": "markdown",
     "metadata": {},
     "source": [
      "<div align=\"center\">\n",
      "<h1>[Data, the Humanist's New Best Friend](index.ipynb)<br/>*Class 07*</h1>\n",
      "</div>"
     ]
    },
    {
     "cell_type": "markdown",
     "metadata": {},
     "source": [
      "In this class you are expected to learn:\n",
      "\n",
      "1. Split-Apply-Combine\n",
      "2. String manipulation\n",
      "3. Cross-tabulation and pivoting\n",
      "5. Visualizations (matplotlib)\n",
      "6. Histograms"
     ]
    },
    {
     "cell_type": "markdown",
     "metadata": {},
     "source": [
      "<div align=\"center\">\n",
      "<img src=\"files/images/plotting.jpg\" width=\"350\">\n",
      "*We won't need Excel anymore... hopefully*\n",
      "</div>"
     ]
    },
    {
     "cell_type": "heading",
     "level": 2,
     "metadata": {},
     "source": [
      "Group By: Split-Apply-Combine"
     ]
    },
    {
     "cell_type": "markdown",
     "metadata": {},
     "source": [
      "Many data analysis problems involve the application of a split-apply-combine strategy, where you break up a big problem into manageable pieces, operate on each piece independently and then put all the pieces back together.\n",
      "\n",
      "In pandas, those operation are carried out by the `.groupby()` method of `DataFrames` and `Series`, but the meaning is the same. From the [documentation](http://pandas.pydata.org/pandas-docs/stable/groupby.html), by \"group by\" we are referring to a process involving one or more of the following steps:\n",
      "- **Splitting** the data into groups based on some criteria\n",
      "- **Applying** a function to each group independently\n",
      "- **Combining** the results into a data structure\n",
      "\n",
      "<div align=\"center\">\n",
      "<img src=\"files/images/split_apply_combine.png\" width=\"350\">\n",
      "<br>\n",
      "*Split by column `x`, apply average of `y` values per each category of x, and combine the results.*\n",
      "<br>\n",
      "Source: [Hadley Wickham's Data Science in R slides](http://courses.had.co.nz/12-oscon/)\n",
      "</div>\n",
      "\n",
      "Of these, the split step is the most straightforward. In fact, in many situations you may wish to split the data set into groups and do something with those groups yourself. In the apply step, we might wish to one of the following:\n",
      "- **Aggregation**: computing a summary statistic (or statistics) about each group. Some examples:\n",
      "    - Compute group sums or means\n",
      "    - Compute group sizes / counts\n",
      "- **Transformation**: perform some group-specific computations and return a like-indexed. Some examples:\n",
      "    - Standardizing data within group\n",
      "    - Filling NAs within groups with a value derived from each group\n",
      "- **Filtration**: discard some groups, according to a group-wise computation that evaluates `True` or `False`. Some examples:\n",
      "    - Discarding data that belongs to groups with only a few members\n",
      "    - Filtering out data based on the group sum or mean\n",
      "- Some combination of the above: `.groupby()` will examine the results of the apply step and try to return a sensibly combined result if it doesn\u2019t fit into either of the above two categories\n",
      "\n",
      "Since the set of object instance method on pandas data structures are generally rich and expressive, we often simply want to invoke, say, a DataFrame function on each group. The name `.groupby()` should be quite familiar to those who have used a SQL-based tool (or `itertools`), in which you can write code like:\n",
      "\n",
      "```sql\n",
      "SELECT Column1, Column2, mean(Column3), sum(Column4)\n",
      "FROM SomeTable\n",
      "GROUP BY Column1, Column2\n",
      "```\n",
      "\n",
      "We aim to make operations like this natural and easy to express using pandas. We\u2019ll address each area of GroupBy functionality then provide some non-trivial examples / use cases.\n",
      "\n",
      "To illustrate these operatoinsoperations, we will use the [City of Chicago salaries CSV](data/city-of-chicago-salaries.csv)"
     ]
    },
    {
     "cell_type": "code",
     "collapsed": false,
     "input": [
      "import numpy as np\n",
      "import pandas as pd\n",
      "!head data/city-of-chicago-salaries.csv"
     ],
     "language": "python",
     "metadata": {},
     "outputs": [
      {
       "output_type": "stream",
       "stream": "stdout",
       "text": [
        "Name,Position Title,Department,Employee Annual Salary\r\n",
        "\"AARON,  ELVIA J\",WATER RATE TAKER,WATER MGMNT,$85512.00\r\n",
        "\"AARON,  JEFFERY M\",POLICE OFFICER,POLICE,$75372.00\r\n",
        "\"AARON,  KIMBERLEI R\",CHIEF CONTRACT EXPEDITER,GENERAL SERVICES,$80916.00\r\n",
        "\"ABAD JR,  VICENTE M\",CIVIL ENGINEER IV,WATER MGMNT,$99648.00\r\n",
        "\"ABBATACOLA,  ROBERT J\",ELECTRICAL MECHANIC,AVIATION,$89440.00\r\n",
        "\"ABBATEMARCO,  JAMES J\",FIREFIGHTER,FIRE,$78012.00\r\n",
        "\"ABBATE,  TERRY M\",POLICE OFFICER,POLICE,$80724.00\r\n",
        "\"ABBOTT,  BETTY L\",FOSTER GRANDPARENT,FAMILY & SUPPORT,$2756.00\r\n",
        "\"ABBOTT,  LYNISE M\",CLERK III,POLICE,$41784.00\r\n"
       ]
      }
     ],
     "prompt_number": 1
    },
    {
     "cell_type": "code",
     "collapsed": false,
     "input": [
      "chicago = pd.read_csv('data/city-of-chicago-salaries.csv')\n",
      "chicago.head()"
     ],
     "language": "python",
     "metadata": {},
     "outputs": [
      {
       "html": [
        "<div style=\"max-height:1000px;max-width:1500px;overflow:auto;\">\n",
        "<table border=\"1\" class=\"dataframe\">\n",
        "  <thead>\n",
        "    <tr style=\"text-align: right;\">\n",
        "      <th></th>\n",
        "      <th>Name</th>\n",
        "      <th>Position Title</th>\n",
        "      <th>Department</th>\n",
        "      <th>Employee Annual Salary</th>\n",
        "    </tr>\n",
        "  </thead>\n",
        "  <tbody>\n",
        "    <tr>\n",
        "      <th>0</th>\n",
        "      <td>       AARON,  ELVIA J</td>\n",
        "      <td>         WATER RATE TAKER</td>\n",
        "      <td>      WATER MGMNT</td>\n",
        "      <td> $85512.00</td>\n",
        "    </tr>\n",
        "    <tr>\n",
        "      <th>1</th>\n",
        "      <td>     AARON,  JEFFERY M</td>\n",
        "      <td>           POLICE OFFICER</td>\n",
        "      <td>           POLICE</td>\n",
        "      <td> $75372.00</td>\n",
        "    </tr>\n",
        "    <tr>\n",
        "      <th>2</th>\n",
        "      <td>   AARON,  KIMBERLEI R</td>\n",
        "      <td> CHIEF CONTRACT EXPEDITER</td>\n",
        "      <td> GENERAL SERVICES</td>\n",
        "      <td> $80916.00</td>\n",
        "    </tr>\n",
        "    <tr>\n",
        "      <th>3</th>\n",
        "      <td>   ABAD JR,  VICENTE M</td>\n",
        "      <td>        CIVIL ENGINEER IV</td>\n",
        "      <td>      WATER MGMNT</td>\n",
        "      <td> $99648.00</td>\n",
        "    </tr>\n",
        "    <tr>\n",
        "      <th>4</th>\n",
        "      <td> ABBATACOLA,  ROBERT J</td>\n",
        "      <td>      ELECTRICAL MECHANIC</td>\n",
        "      <td>         AVIATION</td>\n",
        "      <td> $89440.00</td>\n",
        "    </tr>\n",
        "  </tbody>\n",
        "</table>\n",
        "</div>"
       ],
       "metadata": {},
       "output_type": "pyout",
       "prompt_number": 2,
       "text": [
        "                    Name            Position Title        Department  \\\n",
        "0        AARON,  ELVIA J          WATER RATE TAKER       WATER MGMNT   \n",
        "1      AARON,  JEFFERY M            POLICE OFFICER            POLICE   \n",
        "2    AARON,  KIMBERLEI R  CHIEF CONTRACT EXPEDITER  GENERAL SERVICES   \n",
        "3    ABAD JR,  VICENTE M         CIVIL ENGINEER IV       WATER MGMNT   \n",
        "4  ABBATACOLA,  ROBERT J       ELECTRICAL MECHANIC          AVIATION   \n",
        "\n",
        "  Employee Annual Salary  \n",
        "0              $85512.00  \n",
        "1              $75372.00  \n",
        "2              $80916.00  \n",
        "3              $99648.00  \n",
        "4              $89440.00  "
       ]
      }
     ],
     "prompt_number": 2
    },
    {
     "cell_type": "markdown",
     "metadata": {},
     "source": [
      "So far, we have seen how to manipulate data once is loaded, but pandas provides with some basic modifications, the `converters`, as well as a way to rename the columns. Since it seems that the salaries have a `$` symbol preceding the figure, let's create a converter for that column that removes the symbole and convert the string into a float."
     ]
    },
    {
     "cell_type": "code",
     "collapsed": false,
     "input": [
      "headers = ['name', 'title', 'department', 'salary']\n",
      "chicago = pd.read_csv('data/city-of-chicago-salaries.csv',\n",
      "                      header=False,\n",
      "                      names=headers,\n",
      "                      converters={'salary': lambda x: float(x.replace('$', ''))})  # yes, lambda functions!\n",
      "print(\"salary\", chicago[\"salary\"].dtype)\n",
      "chicago.head()"
     ],
     "language": "python",
     "metadata": {},
     "outputs": [
      {
       "output_type": "stream",
       "stream": "stdout",
       "text": [
        "salary float64\n"
       ]
      },
      {
       "html": [
        "<div style=\"max-height:1000px;max-width:1500px;overflow:auto;\">\n",
        "<table border=\"1\" class=\"dataframe\">\n",
        "  <thead>\n",
        "    <tr style=\"text-align: right;\">\n",
        "      <th></th>\n",
        "      <th>name</th>\n",
        "      <th>title</th>\n",
        "      <th>department</th>\n",
        "      <th>salary</th>\n",
        "    </tr>\n",
        "  </thead>\n",
        "  <tbody>\n",
        "    <tr>\n",
        "      <th>0</th>\n",
        "      <td>       AARON,  ELVIA J</td>\n",
        "      <td>         WATER RATE TAKER</td>\n",
        "      <td>      WATER MGMNT</td>\n",
        "      <td> 85512</td>\n",
        "    </tr>\n",
        "    <tr>\n",
        "      <th>1</th>\n",
        "      <td>     AARON,  JEFFERY M</td>\n",
        "      <td>           POLICE OFFICER</td>\n",
        "      <td>           POLICE</td>\n",
        "      <td> 75372</td>\n",
        "    </tr>\n",
        "    <tr>\n",
        "      <th>2</th>\n",
        "      <td>   AARON,  KIMBERLEI R</td>\n",
        "      <td> CHIEF CONTRACT EXPEDITER</td>\n",
        "      <td> GENERAL SERVICES</td>\n",
        "      <td> 80916</td>\n",
        "    </tr>\n",
        "    <tr>\n",
        "      <th>3</th>\n",
        "      <td>   ABAD JR,  VICENTE M</td>\n",
        "      <td>        CIVIL ENGINEER IV</td>\n",
        "      <td>      WATER MGMNT</td>\n",
        "      <td> 99648</td>\n",
        "    </tr>\n",
        "    <tr>\n",
        "      <th>4</th>\n",
        "      <td> ABBATACOLA,  ROBERT J</td>\n",
        "      <td>      ELECTRICAL MECHANIC</td>\n",
        "      <td>         AVIATION</td>\n",
        "      <td> 89440</td>\n",
        "    </tr>\n",
        "  </tbody>\n",
        "</table>\n",
        "</div>"
       ],
       "metadata": {},
       "output_type": "pyout",
       "prompt_number": 3,
       "text": [
        "                    name                     title        department  salary\n",
        "0        AARON,  ELVIA J          WATER RATE TAKER       WATER MGMNT   85512\n",
        "1      AARON,  JEFFERY M            POLICE OFFICER            POLICE   75372\n",
        "2    AARON,  KIMBERLEI R  CHIEF CONTRACT EXPEDITER  GENERAL SERVICES   80916\n",
        "3    ABAD JR,  VICENTE M         CIVIL ENGINEER IV       WATER MGMNT   99648\n",
        "4  ABBATACOLA,  ROBERT J       ELECTRICAL MECHANIC          AVIATION   89440"
       ]
      }
     ],
     "prompt_number": 3
    },
    {
     "cell_type": "markdown",
     "metadata": {},
     "source": [
      "Pandas `.groupby()` returns a `DataFrameGroupBy` object which has a variety of methods, many of which are similar to standard SQL aggregate functions."
     ]
    },
    {
     "cell_type": "code",
     "collapsed": false,
     "input": [
      "by_dept = chicago.groupby('department')\n",
      "by_dept"
     ],
     "language": "python",
     "metadata": {},
     "outputs": [
      {
       "metadata": {},
       "output_type": "pyout",
       "prompt_number": 4,
       "text": [
        "<pandas.core.groupby.DataFrameGroupBy object at 0x7f4d5b465400>"
       ]
      }
     ],
     "prompt_number": 4
    },
    {
     "cell_type": "markdown",
     "metadata": {},
     "source": [
      "Calling `.count()` returns the total number of **not null** values within each column. If we were interested in the total number of records in each group, we could use `.size()`."
     ]
    },
    {
     "cell_type": "code",
     "collapsed": false,
     "input": [
      "by_dept.count().head(5)  # Not null records within each column"
     ],
     "language": "python",
     "metadata": {},
     "outputs": [
      {
       "html": [
        "<div style=\"max-height:1000px;max-width:1500px;overflow:auto;\">\n",
        "<table border=\"1\" class=\"dataframe\">\n",
        "  <thead>\n",
        "    <tr style=\"text-align: right;\">\n",
        "      <th></th>\n",
        "      <th>name</th>\n",
        "      <th>title</th>\n",
        "      <th>salary</th>\n",
        "    </tr>\n",
        "    <tr>\n",
        "      <th>department</th>\n",
        "      <th></th>\n",
        "      <th></th>\n",
        "      <th></th>\n",
        "    </tr>\n",
        "  </thead>\n",
        "  <tbody>\n",
        "    <tr>\n",
        "      <th>ADMIN HEARNG</th>\n",
        "      <td>   42</td>\n",
        "      <td>   42</td>\n",
        "      <td>   42</td>\n",
        "    </tr>\n",
        "    <tr>\n",
        "      <th>ANIMAL CONTRL</th>\n",
        "      <td>   61</td>\n",
        "      <td>   61</td>\n",
        "      <td>   61</td>\n",
        "    </tr>\n",
        "    <tr>\n",
        "      <th>AVIATION</th>\n",
        "      <td> 1218</td>\n",
        "      <td> 1218</td>\n",
        "      <td> 1218</td>\n",
        "    </tr>\n",
        "    <tr>\n",
        "      <th>BOARD OF ELECTION</th>\n",
        "      <td>  110</td>\n",
        "      <td>  110</td>\n",
        "      <td>  110</td>\n",
        "    </tr>\n",
        "    <tr>\n",
        "      <th>BOARD OF ETHICS</th>\n",
        "      <td>    9</td>\n",
        "      <td>    9</td>\n",
        "      <td>    9</td>\n",
        "    </tr>\n",
        "  </tbody>\n",
        "</table>\n",
        "</div>"
       ],
       "metadata": {},
       "output_type": "pyout",
       "prompt_number": 5,
       "text": [
        "                   name  title  salary\n",
        "department                            \n",
        "ADMIN HEARNG         42     42      42\n",
        "ANIMAL CONTRL        61     61      61\n",
        "AVIATION           1218   1218    1218\n",
        "BOARD OF ELECTION   110    110     110\n",
        "BOARD OF ETHICS       9      9       9"
       ]
      }
     ],
     "prompt_number": 5
    },
    {
     "cell_type": "code",
     "collapsed": false,
     "input": [
      "by_dept.size().tail()  # total records for each department"
     ],
     "language": "python",
     "metadata": {},
     "outputs": [
      {
       "metadata": {},
       "output_type": "pyout",
       "prompt_number": 6,
       "text": [
        "department\n",
        "PUBLIC LIBRARY     926\n",
        "STREETS & SAN     2070\n",
        "TRANSPORTN        1168\n",
        "TREASURER           25\n",
        "WATER MGMNT       1857\n",
        "dtype: int64"
       ]
      }
     ],
     "prompt_number": 6
    },
    {
     "cell_type": "markdown",
     "metadata": {},
     "source": [
      "Summation can be done via `.sum()`, averaging by `.mean()`, etc. (if it's a SQL function, chances are it exists in pandas). Oh, and there's `.median()` too, something not available in most databases."
     ]
    },
    {
     "cell_type": "code",
     "collapsed": false,
     "input": [
      "by_dept.sum()[20:25]  # total salaries of each department"
     ],
     "language": "python",
     "metadata": {},
     "outputs": [
      {
       "html": [
        "<div style=\"max-height:1000px;max-width:1500px;overflow:auto;\">\n",
        "<table border=\"1\" class=\"dataframe\">\n",
        "  <thead>\n",
        "    <tr style=\"text-align: right;\">\n",
        "      <th></th>\n",
        "      <th>salary</th>\n",
        "    </tr>\n",
        "    <tr>\n",
        "      <th>department</th>\n",
        "      <th></th>\n",
        "    </tr>\n",
        "  </thead>\n",
        "  <tbody>\n",
        "    <tr>\n",
        "      <th>HUMAN RESOURCES</th>\n",
        "      <td>  4850928.0</td>\n",
        "    </tr>\n",
        "    <tr>\n",
        "      <th>INSPECTOR GEN</th>\n",
        "      <td>  4035150.0</td>\n",
        "    </tr>\n",
        "    <tr>\n",
        "      <th>IPRA</th>\n",
        "      <td>  7006128.0</td>\n",
        "    </tr>\n",
        "    <tr>\n",
        "      <th>LAW</th>\n",
        "      <td> 31883920.2</td>\n",
        "    </tr>\n",
        "    <tr>\n",
        "      <th>LICENSE APPL COMM</th>\n",
        "      <td>    65436.0</td>\n",
        "    </tr>\n",
        "  </tbody>\n",
        "</table>\n",
        "</div>"
       ],
       "metadata": {},
       "output_type": "pyout",
       "prompt_number": 7,
       "text": [
        "                       salary\n",
        "department                   \n",
        "HUMAN RESOURCES     4850928.0\n",
        "INSPECTOR GEN       4035150.0\n",
        "IPRA                7006128.0\n",
        "LAW                31883920.2\n",
        "LICENSE APPL COMM     65436.0"
       ]
      }
     ],
     "prompt_number": 7
    },
    {
     "cell_type": "code",
     "collapsed": false,
     "input": [
      "by_dept.mean().head(5)  # average salary of each department"
     ],
     "language": "python",
     "metadata": {},
     "outputs": [
      {
       "html": [
        "<div style=\"max-height:1000px;max-width:1500px;overflow:auto;\">\n",
        "<table border=\"1\" class=\"dataframe\">\n",
        "  <thead>\n",
        "    <tr style=\"text-align: right;\">\n",
        "      <th></th>\n",
        "      <th>salary</th>\n",
        "    </tr>\n",
        "    <tr>\n",
        "      <th>department</th>\n",
        "      <th></th>\n",
        "    </tr>\n",
        "  </thead>\n",
        "  <tbody>\n",
        "    <tr>\n",
        "      <th>ADMIN HEARNG</th>\n",
        "      <td> 70336.857143</td>\n",
        "    </tr>\n",
        "    <tr>\n",
        "      <th>ANIMAL CONTRL</th>\n",
        "      <td> 57121.455738</td>\n",
        "    </tr>\n",
        "    <tr>\n",
        "      <th>AVIATION</th>\n",
        "      <td> 70638.249130</td>\n",
        "    </tr>\n",
        "    <tr>\n",
        "      <th>BOARD OF ELECTION</th>\n",
        "      <td> 55728.872727</td>\n",
        "    </tr>\n",
        "    <tr>\n",
        "      <th>BOARD OF ETHICS</th>\n",
        "      <td> 81650.666667</td>\n",
        "    </tr>\n",
        "  </tbody>\n",
        "</table>\n",
        "</div>"
       ],
       "metadata": {},
       "output_type": "pyout",
       "prompt_number": 8,
       "text": [
        "                         salary\n",
        "department                     \n",
        "ADMIN HEARNG       70336.857143\n",
        "ANIMAL CONTRL      57121.455738\n",
        "AVIATION           70638.249130\n",
        "BOARD OF ELECTION  55728.872727\n",
        "BOARD OF ETHICS    81650.666667"
       ]
      }
     ],
     "prompt_number": 8
    },
    {
     "cell_type": "code",
     "collapsed": false,
     "input": [
      "by_dept.median()[20:25]  # take that, RDBMS!"
     ],
     "language": "python",
     "metadata": {},
     "outputs": [
      {
       "html": [
        "<div style=\"max-height:1000px;max-width:1500px;overflow:auto;\">\n",
        "<table border=\"1\" class=\"dataframe\">\n",
        "  <thead>\n",
        "    <tr style=\"text-align: right;\">\n",
        "      <th></th>\n",
        "      <th>salary</th>\n",
        "    </tr>\n",
        "    <tr>\n",
        "      <th>department</th>\n",
        "      <th></th>\n",
        "    </tr>\n",
        "  </thead>\n",
        "  <tbody>\n",
        "    <tr>\n",
        "      <th>HUMAN RESOURCES</th>\n",
        "      <td> 68496</td>\n",
        "    </tr>\n",
        "    <tr>\n",
        "      <th>INSPECTOR GEN</th>\n",
        "      <td> 76116</td>\n",
        "    </tr>\n",
        "    <tr>\n",
        "      <th>IPRA</th>\n",
        "      <td> 82524</td>\n",
        "    </tr>\n",
        "    <tr>\n",
        "      <th>LAW</th>\n",
        "      <td> 66492</td>\n",
        "    </tr>\n",
        "    <tr>\n",
        "      <th>LICENSE APPL COMM</th>\n",
        "      <td> 65436</td>\n",
        "    </tr>\n",
        "  </tbody>\n",
        "</table>\n",
        "</div>"
       ],
       "metadata": {},
       "output_type": "pyout",
       "prompt_number": 9,
       "text": [
        "                   salary\n",
        "department               \n",
        "HUMAN RESOURCES     68496\n",
        "INSPECTOR GEN       76116\n",
        "IPRA                82524\n",
        "LAW                 66492\n",
        "LICENSE APPL COMM   65436"
       ]
      }
     ],
     "prompt_number": 9
    },
    {
     "cell_type": "markdown",
     "metadata": {},
     "source": [
      "Operations can also be done on an individual `Series` within a grouped object. Say we were curious about the five departments with the most distinct titles."
     ]
    },
    {
     "cell_type": "code",
     "collapsed": false,
     "input": [
      "by_dept.title.nunique().order(ascending=False)[:5]"
     ],
     "language": "python",
     "metadata": {},
     "outputs": [
      {
       "metadata": {},
       "output_type": "pyout",
       "prompt_number": 10,
       "text": [
        "department\n",
        "WATER MGMNT    153\n",
        "TRANSPORTN     150\n",
        "POLICE         130\n",
        "AVIATION       125\n",
        "HEALTH         118\n",
        "Name: title, dtype: int64"
       ]
      }
     ],
     "prompt_number": 10
    },
    {
     "cell_type": "heading",
     "level": 2,
     "metadata": {},
     "source": [
      "Split-Apply-Combine"
     ]
    },
    {
     "cell_type": "markdown",
     "metadata": {},
     "source": [
      "The real power of `.groupby()` comes from its split-apply-combine ability.\n",
      "\n",
      "What if we wanted to see the highest paid employee within each department? Using `.groupby()` we can define a function (which we'll call `ranker()`) that will label each record from 1 to N, where N is the number of employees within the department. We can then call apply to, well, apply that function to each group (in this case, each department)."
     ]
    },
    {
     "cell_type": "code",
     "collapsed": false,
     "input": [
      "def ranker(df):\n",
      "    \"\"\"Assigns a rank to each employee based on salary, with 1 being the highest paid.\n",
      "    Assumes the data is DESC sorted.\"\"\"\n",
      "    df['dept_rank'] = np.arange(len(df)) + 1\n",
      "    return df"
     ],
     "language": "python",
     "metadata": {},
     "outputs": [],
     "prompt_number": 11
    },
    {
     "cell_type": "code",
     "collapsed": false,
     "input": [
      "chicago.sort('salary', ascending=False, inplace=True)\n",
      "chicago = chicago.groupby('department').apply(ranker)\n",
      "chicago.head()"
     ],
     "language": "python",
     "metadata": {},
     "outputs": [
      {
       "html": [
        "<div style=\"max-height:1000px;max-width:1500px;overflow:auto;\">\n",
        "<table border=\"1\" class=\"dataframe\">\n",
        "  <thead>\n",
        "    <tr style=\"text-align: right;\">\n",
        "      <th></th>\n",
        "      <th>name</th>\n",
        "      <th>title</th>\n",
        "      <th>department</th>\n",
        "      <th>salary</th>\n",
        "      <th>dept_rank</th>\n",
        "    </tr>\n",
        "  </thead>\n",
        "  <tbody>\n",
        "    <tr>\n",
        "      <th>18039</th>\n",
        "      <td>   MC CARTHY,  GARRY F</td>\n",
        "      <td>       SUPERINTENDENT OF POLICE</td>\n",
        "      <td>         POLICE</td>\n",
        "      <td> 260004</td>\n",
        "      <td> 1</td>\n",
        "    </tr>\n",
        "    <tr>\n",
        "      <th>8004 </th>\n",
        "      <td>        EMANUEL,  RAHM</td>\n",
        "      <td>                          MAYOR</td>\n",
        "      <td> MAYOR'S OFFICE</td>\n",
        "      <td> 216210</td>\n",
        "      <td> 1</td>\n",
        "    </tr>\n",
        "    <tr>\n",
        "      <th>25588</th>\n",
        "      <td>     SANTIAGO,  JOSE A</td>\n",
        "      <td>              FIRE COMMISSIONER</td>\n",
        "      <td>           FIRE</td>\n",
        "      <td> 202728</td>\n",
        "      <td> 1</td>\n",
        "    </tr>\n",
        "    <tr>\n",
        "      <th>27594</th>\n",
        "      <td> STEWART III,  CHARLES</td>\n",
        "      <td> FIRST DEPUTY FIRE COMMISSIONER</td>\n",
        "      <td>           FIRE</td>\n",
        "      <td> 188316</td>\n",
        "      <td> 2</td>\n",
        "    </tr>\n",
        "    <tr>\n",
        "      <th>31587</th>\n",
        "      <td>    WYSINGER,  ALFONZA</td>\n",
        "      <td>    FIRST DEPUTY SUPERINTENDENT</td>\n",
        "      <td>         POLICE</td>\n",
        "      <td> 188316</td>\n",
        "      <td> 2</td>\n",
        "    </tr>\n",
        "  </tbody>\n",
        "</table>\n",
        "</div>"
       ],
       "metadata": {},
       "output_type": "pyout",
       "prompt_number": 12,
       "text": [
        "                        name                           title      department  \\\n",
        "18039    MC CARTHY,  GARRY F        SUPERINTENDENT OF POLICE          POLICE   \n",
        "8004          EMANUEL,  RAHM                           MAYOR  MAYOR'S OFFICE   \n",
        "25588      SANTIAGO,  JOSE A               FIRE COMMISSIONER            FIRE   \n",
        "27594  STEWART III,  CHARLES  FIRST DEPUTY FIRE COMMISSIONER            FIRE   \n",
        "31587     WYSINGER,  ALFONZA     FIRST DEPUTY SUPERINTENDENT          POLICE   \n",
        "\n",
        "       salary  dept_rank  \n",
        "18039  260004          1  \n",
        "8004   216210          1  \n",
        "25588  202728          1  \n",
        "27594  188316          2  \n",
        "31587  188316          2  "
       ]
      }
     ],
     "prompt_number": 12
    },
    {
     "cell_type": "code",
     "collapsed": false,
     "input": [
      "chicago[chicago.dept_rank == 1].head(7)"
     ],
     "language": "python",
     "metadata": {},
     "outputs": [
      {
       "html": [
        "<div style=\"max-height:1000px;max-width:1500px;overflow:auto;\">\n",
        "<table border=\"1\" class=\"dataframe\">\n",
        "  <thead>\n",
        "    <tr style=\"text-align: right;\">\n",
        "      <th></th>\n",
        "      <th>name</th>\n",
        "      <th>title</th>\n",
        "      <th>department</th>\n",
        "      <th>salary</th>\n",
        "      <th>dept_rank</th>\n",
        "    </tr>\n",
        "  </thead>\n",
        "  <tbody>\n",
        "    <tr>\n",
        "      <th>18039</th>\n",
        "      <td>    MC CARTHY,  GARRY F</td>\n",
        "      <td> SUPERINTENDENT OF POLICE</td>\n",
        "      <td>         POLICE</td>\n",
        "      <td> 260004</td>\n",
        "      <td> 1</td>\n",
        "    </tr>\n",
        "    <tr>\n",
        "      <th>8004 </th>\n",
        "      <td>         EMANUEL,  RAHM</td>\n",
        "      <td>                    MAYOR</td>\n",
        "      <td> MAYOR'S OFFICE</td>\n",
        "      <td> 216210</td>\n",
        "      <td> 1</td>\n",
        "    </tr>\n",
        "    <tr>\n",
        "      <th>25588</th>\n",
        "      <td>      SANTIAGO,  JOSE A</td>\n",
        "      <td>        FIRE COMMISSIONER</td>\n",
        "      <td>           FIRE</td>\n",
        "      <td> 202728</td>\n",
        "      <td> 1</td>\n",
        "    </tr>\n",
        "    <tr>\n",
        "      <th>763  </th>\n",
        "      <td> ANDOLINO,  ROSEMARIE S</td>\n",
        "      <td> COMMISSIONER OF AVIATION</td>\n",
        "      <td>       AVIATION</td>\n",
        "      <td> 186576</td>\n",
        "      <td> 1</td>\n",
        "    </tr>\n",
        "    <tr>\n",
        "      <th>4697 </th>\n",
        "      <td>   CHOUCAIR,  BECHARA N</td>\n",
        "      <td>   COMMISSIONER OF HEALTH</td>\n",
        "      <td>         HEALTH</td>\n",
        "      <td> 177156</td>\n",
        "      <td> 1</td>\n",
        "    </tr>\n",
        "    <tr>\n",
        "      <th>21971</th>\n",
        "      <td>     PATTON,  STEPHEN R</td>\n",
        "      <td>      CORPORATION COUNSEL</td>\n",
        "      <td>            LAW</td>\n",
        "      <td> 173664</td>\n",
        "      <td> 1</td>\n",
        "    </tr>\n",
        "    <tr>\n",
        "      <th>12635</th>\n",
        "      <td>     HOLT,  ALEXANDRA D</td>\n",
        "      <td>               BUDGET DIR</td>\n",
        "      <td>  BUDGET &amp; MGMT</td>\n",
        "      <td> 169992</td>\n",
        "      <td> 1</td>\n",
        "    </tr>\n",
        "  </tbody>\n",
        "</table>\n",
        "</div>"
       ],
       "metadata": {},
       "output_type": "pyout",
       "prompt_number": 13,
       "text": [
        "                         name                     title      department  \\\n",
        "18039     MC CARTHY,  GARRY F  SUPERINTENDENT OF POLICE          POLICE   \n",
        "8004           EMANUEL,  RAHM                     MAYOR  MAYOR'S OFFICE   \n",
        "25588       SANTIAGO,  JOSE A         FIRE COMMISSIONER            FIRE   \n",
        "763    ANDOLINO,  ROSEMARIE S  COMMISSIONER OF AVIATION        AVIATION   \n",
        "4697     CHOUCAIR,  BECHARA N    COMMISSIONER OF HEALTH          HEALTH   \n",
        "21971      PATTON,  STEPHEN R       CORPORATION COUNSEL             LAW   \n",
        "12635      HOLT,  ALEXANDRA D                BUDGET DIR   BUDGET & MGMT   \n",
        "\n",
        "       salary  dept_rank  \n",
        "18039  260004          1  \n",
        "8004   216210          1  \n",
        "25588  202728          1  \n",
        "763    186576          1  \n",
        "4697   177156          1  \n",
        "21971  173664          1  \n",
        "12635  169992          1  "
       ]
      }
     ],
     "prompt_number": 13
    },
    {
     "cell_type": "code",
     "collapsed": false,
     "input": [
      "chicago[chicago.department == \"LAW\"][:5]"
     ],
     "language": "python",
     "metadata": {},
     "outputs": [
      {
       "html": [
        "<div style=\"max-height:1000px;max-width:1500px;overflow:auto;\">\n",
        "<table border=\"1\" class=\"dataframe\">\n",
        "  <thead>\n",
        "    <tr style=\"text-align: right;\">\n",
        "      <th></th>\n",
        "      <th>name</th>\n",
        "      <th>title</th>\n",
        "      <th>department</th>\n",
        "      <th>salary</th>\n",
        "      <th>dept_rank</th>\n",
        "    </tr>\n",
        "  </thead>\n",
        "  <tbody>\n",
        "    <tr>\n",
        "      <th>21971</th>\n",
        "      <td>   PATTON,  STEPHEN R</td>\n",
        "      <td>            CORPORATION COUNSEL</td>\n",
        "      <td> LAW</td>\n",
        "      <td> 173664</td>\n",
        "      <td> 1</td>\n",
        "    </tr>\n",
        "    <tr>\n",
        "      <th>6311 </th>\n",
        "      <td>   DARLING,  LESLIE M</td>\n",
        "      <td> FIRST ASST CORPORATION COUNSEL</td>\n",
        "      <td> LAW</td>\n",
        "      <td> 149160</td>\n",
        "      <td> 2</td>\n",
        "    </tr>\n",
        "    <tr>\n",
        "      <th>17680</th>\n",
        "      <td> MARTINICO,  JOSEPH P</td>\n",
        "      <td>         CHIEF LABOR NEGOTIATOR</td>\n",
        "      <td> LAW</td>\n",
        "      <td> 144036</td>\n",
        "      <td> 3</td>\n",
        "    </tr>\n",
        "    <tr>\n",
        "      <th>22357</th>\n",
        "      <td>     PETERS,  LYNDA A</td>\n",
        "      <td>                CITY PROSECUTOR</td>\n",
        "      <td> LAW</td>\n",
        "      <td> 139932</td>\n",
        "      <td> 4</td>\n",
        "    </tr>\n",
        "    <tr>\n",
        "      <th>31383</th>\n",
        "      <td>   WONG JR,  EDWARD J</td>\n",
        "      <td>     DEPUTY CORPORATION COUNSEL</td>\n",
        "      <td> LAW</td>\n",
        "      <td> 137076</td>\n",
        "      <td> 5</td>\n",
        "    </tr>\n",
        "  </tbody>\n",
        "</table>\n",
        "</div>"
       ],
       "metadata": {},
       "output_type": "pyout",
       "prompt_number": 14,
       "text": [
        "                       name                           title department  \\\n",
        "21971    PATTON,  STEPHEN R             CORPORATION COUNSEL        LAW   \n",
        "6311     DARLING,  LESLIE M  FIRST ASST CORPORATION COUNSEL        LAW   \n",
        "17680  MARTINICO,  JOSEPH P          CHIEF LABOR NEGOTIATOR        LAW   \n",
        "22357      PETERS,  LYNDA A                 CITY PROSECUTOR        LAW   \n",
        "31383    WONG JR,  EDWARD J      DEPUTY CORPORATION COUNSEL        LAW   \n",
        "\n",
        "       salary  dept_rank  \n",
        "21971  173664          1  \n",
        "6311   149160          2  \n",
        "17680  144036          3  \n",
        "22357  139932          4  \n",
        "31383  137076          5  "
       ]
      }
     ],
     "prompt_number": 14
    },
    {
     "cell_type": "markdown",
     "metadata": {},
     "source": [
      "We can now see where each employee ranks within their department based on salary."
     ]
    },
    {
     "cell_type": "heading",
     "level": 2,
     "metadata": {},
     "source": [
      "String manipulations"
     ]
    },
    {
     "cell_type": "markdown",
     "metadata": {},
     "source": [
      "<div align=\"center\">\n",
      "<img src=\"images/regular_expressions.png\" width=\"450\">\n",
      "*[I got 99 problems. So I used regular expressions. Now I have 100 problems.](http://xkcd.com/1171/)*\n",
      "</div>"
     ]
    },
    {
     "cell_type": "markdown",
     "metadata": {},
     "source": [
      "Regular expressions are a powerful language for matching text patterns. The Python `re` module provides regular expression support."
     ]
    },
    {
     "cell_type": "code",
     "collapsed": false,
     "input": [
      "import re"
     ],
     "language": "python",
     "metadata": {},
     "outputs": [],
     "prompt_number": 15
    },
    {
     "cell_type": "markdown",
     "metadata": {},
     "source": [
      "In Python a regular expression search is typically written as:\n",
      "```python\n",
      "match = re.search(pat, str)\n",
      "```\n",
      "The `re.search()` method takes a regular expression pattern and a string and searches for that pattern within the string. If the search is successful, `search()` returns a match object or `None` otherwise. Therefore, the search is usually immediately followed by an if-statement to test if the search succeeded, as shown in the following example which searches for the pattern `'word:'` followed by a 3 letter word:"
     ]
    },
    {
     "cell_type": "code",
     "collapsed": false,
     "input": [
      "string = \"\"\"\n",
      "    My phone is 519 456-1234, call me, maybe. Oh., wait, this is my real number 226 456 1234\n",
      "\"\"\"\n",
      "match = re.findall(r'\\d{3}\\s\\d{3}[\\s-]?\\d{4}', string)\n",
      "# If-statement after search() tests if it succeeded\n",
      "match"
     ],
     "language": "python",
     "metadata": {},
     "outputs": [
      {
       "metadata": {},
       "output_type": "pyout",
       "prompt_number": 16,
       "text": [
        "['519 456-1234', '226 456 1234']"
       ]
      }
     ],
     "prompt_number": 16
    },
    {
     "cell_type": "code",
     "collapsed": false,
     "input": [
      "string = 'an example word:cat!!'\n",
      "match = re.search(r'word:\\w\\w\\w', string)\n",
      "# If-statement after search() tests if it succeeded\n",
      "if match:                      \n",
      "    print('found', match.group()) ## 'found word:cat'\n",
      "else:\n",
      "    print('did not find')"
     ],
     "language": "python",
     "metadata": {},
     "outputs": [
      {
       "output_type": "stream",
       "stream": "stdout",
       "text": [
        "found word:cat\n"
       ]
      }
     ],
     "prompt_number": 17
    },
    {
     "cell_type": "markdown",
     "metadata": {},
     "source": [
      "The code `match = re.search(pattern, string)` stores the search result in a variable named `match`. Then the if-statement tests the match -- if true the search succeeded and `match.group()` is the matching text (e.g. `'word:cat'`). Otherwise if the match is false (`None` to be more specific), then the search did not succeed, and there is no matching text.\n",
      "\n",
      "The `'r'` at the start of the pattern string designates a python *raw* string which passes through backslashes without change which is very handy for regular expressions. I recommend that you always write pattern strings with the `'r'` just as a habit."
     ]
    },
    {
     "cell_type": "heading",
     "level": 3,
     "metadata": {},
     "source": [
      "Basic Patterns"
     ]
    },
    {
     "cell_type": "markdown",
     "metadata": {},
     "source": [
      "The power of regular expressions is that they can specify patterns, not just fixed characters. Here are the most basic patterns which match single chars:\n",
      "- `a`, `X`, `9` -- ordinary characters just match themselves exactly. The meta-characters which do not match themselves because they have special meanings are: `.` `^` `$` `*` `+` `?` `{` `[` `]` `\\` `|` `(` `)`\n",
      "- `.` (a period) -- matches any single character except newline `\\n`\n",
      "- `\\w` (lowercase w) -- matches a *word* character: a letter or digit or underbar `[a-zA-Z0-9_]`. Note that although \"word\" is the mnemonic for this, it only matches a single word char, not a whole word. \\W (upper case W) matches any non-word character.\n",
      "- `\\b` -- boundary between word and non-word\n",
      "- `\\s` -- (lowercase s) matches a single whitespace character -- space, newline, return, tab, form `[ \\n\\r\\t\\f]`. `\\S` (upper case S) matches any non-whitespace character.\n",
      "- `\\t`, `\\n`, `\\r` -- tab, newline, return\n",
      "- `\\d` -- decimal digit `[0-9]` (some older regex utilities do not support but `\\d`, but they all support `\\w` and `\\s`)\n",
      "- `^` = start, `$` = end -- match the start or end of the string\n",
      "- `\\` -- inhibit the \"specialness\" of a character. So, for example, use `\\.` to match a period or `\\\\` to match a slash. If you are unsure if a character has special meaning, such as `@`, you can put a slash in front of it, `\\@`, to make sure it is treated just as a character."
     ]
    },
    {
     "cell_type": "heading",
     "level": 3,
     "metadata": {},
     "source": [
      "Basic Examples"
     ]
    },
    {
     "cell_type": "markdown",
     "metadata": {},
     "source": [
      "    Joke: what do you call a pig with three eyes? piiig!\n",
      "\n",
      "The basic rules of regular expression search for a pattern within a string are:\n",
      "\n",
      "- The search proceeds through the string from start to end, stopping at the first match found\n",
      "- All of the pattern must be matched, but not all of the string\n",
      "- If match = re.search(pat, str) is successful, match is not None and in particular match.group() is the matching text"
     ]
    },
    {
     "cell_type": "code",
     "collapsed": false,
     "input": [
      "## Search for pattern 'iii' in string 'piiig'.\n",
      "## All of the pattern must match, but it may appear anywhere.\n",
      "## On success, match.group() is matched text.\n",
      "match = re.search(r'iii', 'piiig')\n",
      "print(match)  #  found, match.group() == \"iii\"\n",
      "match = re.search(r'igs', 'piiig')\n",
      "print(match)  #  not found, match == None"
     ],
     "language": "python",
     "metadata": {},
     "outputs": [
      {
       "output_type": "stream",
       "stream": "stdout",
       "text": [
        "<_sre.SRE_Match object; span=(1, 4), match='iii'>\n",
        "None\n"
       ]
      }
     ],
     "prompt_number": 18
    },
    {
     "cell_type": "code",
     "collapsed": false,
     "input": [
      "## . = any char but \\n\n",
      "match = re.search(r'..g', 'piiig')\n",
      "print(match)  #  found, match.group() == \"iig\""
     ],
     "language": "python",
     "metadata": {},
     "outputs": [
      {
       "output_type": "stream",
       "stream": "stdout",
       "text": [
        "<_sre.SRE_Match object; span=(2, 5), match='iig'>\n"
       ]
      }
     ],
     "prompt_number": 19
    },
    {
     "cell_type": "code",
     "collapsed": false,
     "input": [
      "## \\d = digit char, \\w = word char\n",
      "match = re.search(r'\\d\\d\\d', 'p123g')\n",
      "print(match)  #  found, match.group() == \"123\"\n",
      "match = re.search(r'\\w\\w\\w', '@@abcd!!')\n",
      "print(match)  #  found, match.group() == \"abc\""
     ],
     "language": "python",
     "metadata": {},
     "outputs": [
      {
       "output_type": "stream",
       "stream": "stdout",
       "text": [
        "<_sre.SRE_Match object; span=(1, 4), match='123'>\n",
        "<_sre.SRE_Match object; span=(2, 5), match='abc'>\n"
       ]
      }
     ],
     "prompt_number": 20
    },
    {
     "cell_type": "heading",
     "level": 3,
     "metadata": {},
     "source": [
      "Repetition"
     ]
    },
    {
     "cell_type": "markdown",
     "metadata": {},
     "source": [
      "Things get more interesting when you use `+` and `*` to specify repetition in the pattern\n",
      "- `+` -- 1 or more occurrences of the pattern to its left, e.g. `i+` = one or more i's\n",
      "- `*` -- 0 or more occurrences of the pattern to its left\n",
      "- `?` -- match 0 or 1 occurrences of the pattern to its left\n",
      "\n",
      "First the search finds the leftmost match for the pattern, and second it tries to use up as much of the string as possible -- i.e. `+` and `*` go as far as possible (the `+` and `*` are said to be \"greedy\")."
     ]
    },
    {
     "cell_type": "code",
     "collapsed": false,
     "input": [
      "## i+ = one or more i's, as many as possible.\n",
      "match = re.search(r'pi+', 'piiig')\n",
      "print(match)  #  found, match.group() == \"piii\""
     ],
     "language": "python",
     "metadata": {},
     "outputs": [
      {
       "output_type": "stream",
       "stream": "stdout",
       "text": [
        "<_sre.SRE_Match object; span=(0, 4), match='piii'>\n"
       ]
      }
     ],
     "prompt_number": 21
    },
    {
     "cell_type": "code",
     "collapsed": false,
     "input": [
      "## Finds the first/leftmost solution, and within it drives the +\n",
      "## as far as possible (aka 'leftmost and largest').\n",
      "## In this example, note that it does not get to the second set of i's.\n",
      "match = re.search(r'i+', 'piigiiii')\n",
      "print(match)  #  found, match.group() == \"ii\""
     ],
     "language": "python",
     "metadata": {},
     "outputs": [
      {
       "output_type": "stream",
       "stream": "stdout",
       "text": [
        "<_sre.SRE_Match object; span=(1, 3), match='ii'>\n"
       ]
      }
     ],
     "prompt_number": 22
    },
    {
     "cell_type": "code",
     "collapsed": false,
     "input": [
      "## \\s* = zero or more whitespace chars\n",
      "## Here look for 3 digits, possibly separated by whitespace.\n",
      "match = re.search(r'\\d\\s*\\d\\s*\\d', 'xx1 2   3xx')\n",
      "print(match)  #  found, match.group() == \"1 2   3\"\n",
      "match = re.search(r'\\d\\s*\\d\\s*\\d', 'xx12  3xx')\n",
      "print(match)  #  found, match.group() == \"12  3\"\n",
      "match = re.search(r'\\d\\s*\\d\\s*\\d', 'xx123xx')\n",
      "print(match)  #  found, match.group() == \"123\""
     ],
     "language": "python",
     "metadata": {},
     "outputs": [
      {
       "output_type": "stream",
       "stream": "stdout",
       "text": [
        "<_sre.SRE_Match object; span=(2, 9), match='1 2   3'>\n",
        "<_sre.SRE_Match object; span=(2, 7), match='12  3'>\n",
        "<_sre.SRE_Match object; span=(2, 5), match='123'>\n"
       ]
      }
     ],
     "prompt_number": 23
    },
    {
     "cell_type": "code",
     "collapsed": false,
     "input": [
      "## ^ = matches the start of string, so this fails:\n",
      "match = re.search(r'^b\\w+', 'foobar')\n",
      "print(match)  # not found, match == None\n",
      "## but without the ^ it succeeds:\n",
      "match = re.search(r'b\\w+', 'foobar')\n",
      "print(match)  #  found, match.group() == \"bar\""
     ],
     "language": "python",
     "metadata": {},
     "outputs": [
      {
       "output_type": "stream",
       "stream": "stdout",
       "text": [
        "None\n",
        "<_sre.SRE_Match object; span=(3, 6), match='bar'>\n"
       ]
      }
     ],
     "prompt_number": 24
    },
    {
     "cell_type": "heading",
     "level": 3,
     "metadata": {},
     "source": [
      "The Eternal Emails Example"
     ]
    },
    {
     "cell_type": "markdown",
     "metadata": {},
     "source": [
      "Suppose you want to find the email address inside the string `'xyz alice-b@google.com purple monkey'`. We'll use this as a running example to demonstrate more regular expression features. Here's an attempt using the pattern `r'\\w+@\\w+'`:"
     ]
    },
    {
     "cell_type": "code",
     "collapsed": false,
     "input": [
      "string = 'purple alice-b@google.com monkey dishwasher'\n",
      "match = re.search(r'\\w+@\\w+', string)\n",
      "if match:\n",
      "    print(match.group())"
     ],
     "language": "python",
     "metadata": {},
     "outputs": [
      {
       "output_type": "stream",
       "stream": "stdout",
       "text": [
        "b@google\n"
       ]
      }
     ],
     "prompt_number": 25
    },
    {
     "cell_type": "markdown",
     "metadata": {},
     "source": [
      "The search does not get the whole email address in this case because the `\\w` does not match the `'-'` or `'.'` in the address. We'll fix this using the regular expression features below."
     ]
    },
    {
     "cell_type": "heading",
     "level": 3,
     "metadata": {},
     "source": [
      "Square Brackets"
     ]
    },
    {
     "cell_type": "markdown",
     "metadata": {},
     "source": [
      "Square brackets can be used to indicate a set of chars, so `[abc]` matches `a` or `b` or `c`. The codes `\\w`, `\\s` etc. work inside square brackets too with the one exception that dot (`.`) just means a literal dot. For the emails problem, the square brackets are an easy way to add `.` and `-` to the set of chars which can appear around the `@` with the pattern `r'[\\w.-]+@[\\w.-]+'` to get the whole email address:"
     ]
    },
    {
     "cell_type": "code",
     "collapsed": false,
     "input": [
      "match = re.search(r'[\\w.-]+@[\\w.-]+', string)\n",
      "if match:\n",
      "    print(match.group())  ## 'alice-b@google.com'"
     ],
     "language": "python",
     "metadata": {},
     "outputs": [
      {
       "output_type": "stream",
       "stream": "stdout",
       "text": [
        "alice-b@google.com\n"
       ]
      }
     ],
     "prompt_number": 26
    },
    {
     "cell_type": "markdown",
     "metadata": {},
     "source": [
      "You can also use a dash to indicate a range, so `[a-z]` matches all lowercase letters. To use a dash without indicating a range, put the dash last, e.g. `[abc-]`. An up-hat (`^`) at the start of a square-bracket set inverts it, so [`^ab`] means any char except `'a'` or `'b'`."
     ]
    },
    {
     "cell_type": "heading",
     "level": 3,
     "metadata": {},
     "source": [
      "Group Extraction"
     ]
    },
    {
     "cell_type": "markdown",
     "metadata": {},
     "source": [
      "The *group* feature of a regular expression allows you to pick out parts of the matching text. Suppose for the emails problem that we want to extract the username and host separately. To do this, add parenthesis `(` `)` around the username and host in the pattern, like this: `r'([\\w.-]+)@([\\w.-]+)'`. In this case, the parenthesis do not change what the pattern will match, instead they establish logical \"groups\" inside of the match text. On a successful search, `match.group(1)` is the match text corresponding to the 1st left parenthesis, and `match.group(2)` is the text corresponding to the 2nd left parenthesis. The plain `match.group()` is still the whole match text as usual."
     ]
    },
    {
     "cell_type": "code",
     "collapsed": false,
     "input": [
      "string = 'purple alice-b@google.com monkey dishwasher'\n",
      "match = re.search('([\\w.-]+)@([\\w.-]+)', string)\n",
      "if match:\n",
      "    print(match.group())  ## 'alice-b@google.com' (the whole match)\n",
      "    print(match.group(1))  ## 'alice-b' (the username, group 1)\n",
      "    print(match.group(2))  ## 'google.com' (the host, group 2)"
     ],
     "language": "python",
     "metadata": {},
     "outputs": [
      {
       "output_type": "stream",
       "stream": "stdout",
       "text": [
        "alice-b@google.com\n",
        "alice-b\n",
        "google.com\n"
       ]
      }
     ],
     "prompt_number": 27
    },
    {
     "cell_type": "markdown",
     "metadata": {},
     "source": [
      "A common workflow with regular expressions is that you write a pattern for the thing you are looking for, adding parenthesis groups to extract the parts you want."
     ]
    },
    {
     "cell_type": "heading",
     "level": 3,
     "metadata": {},
     "source": [
      "`findall`"
     ]
    },
    {
     "cell_type": "markdown",
     "metadata": {},
     "source": [
      "`findall()` is probably the single most powerful function in the re module. Above we used `re.search()` to find the first match for a pattern. `findall()` finds *all* the matches and returns them as a list of strings, with each string representing one match."
     ]
    },
    {
     "cell_type": "code",
     "collapsed": false,
     "input": [
      "## Suppose we have a text with many email addresses\n",
      "string = 'purple alice@google.com, blah monkey bob@abc.com blah dishwasher'\n",
      "## Here re.findall() returns a list of all the found email strings\n",
      "emails = re.findall(r'[\\w\\.-]+@[\\w\\.-]+', string) ## ['alice@google.com', 'bob@abc.com']\n",
      "for email in emails:\n",
      "    # do something with each found email string\n",
      "    print(email)"
     ],
     "language": "python",
     "metadata": {},
     "outputs": [
      {
       "output_type": "stream",
       "stream": "stdout",
       "text": [
        "alice@google.com\n",
        "bob@abc.com\n"
       ]
      }
     ],
     "prompt_number": 28
    },
    {
     "cell_type": "heading",
     "level": 3,
     "metadata": {},
     "source": [
      "`findall` and Groups"
     ]
    },
    {
     "cell_type": "markdown",
     "metadata": {},
     "source": [
      "The parenthesis `(` `)` group mechanism can be combined with `findall()`. If the pattern includes 2 or more parenthesis groups, then instead of returning a list of strings, `findall()` returns a list of *tuples*. Each tuple represents one match of the pattern, and inside the tuple is the `group(1)`, `group(2)` data. So if 2 parenthesis groups are added to the email pattern, then `findall()` returns a list of tuples, each length 2 containing the username and host, e.g. (`'alice'`, `'google.com'`)."
     ]
    },
    {
     "cell_type": "code",
     "collapsed": false,
     "input": [
      "string = 'purple alice@google.com, blah monkey bob@abc.com blah dishwasher'\n",
      "tuples = re.findall(r'([\\w\\.-]+)@([\\w\\.-]+)', string)\n",
      "print(tuples)  ## [('alice', 'google.com'), ('bob', 'abc.com')]\n",
      "for pair in tuples:\n",
      "    print(pair[0])  ## username\n",
      "    print(pair[1])  ## host"
     ],
     "language": "python",
     "metadata": {},
     "outputs": [
      {
       "output_type": "stream",
       "stream": "stdout",
       "text": [
        "[('alice', 'google.com'), ('bob', 'abc.com')]\n",
        "alice\n",
        "google.com\n",
        "bob\n",
        "abc.com\n"
       ]
      }
     ],
     "prompt_number": 29
    },
    {
     "cell_type": "markdown",
     "metadata": {},
     "source": [
      "Once you have the list of tuples, you can loop over it to do some computation for each tuple. If the pattern includes no parenthesis, then `findall()` returns a list of found strings as in earlier examples. If the pattern includes a single set of parenthesis, then `findall()` returns a list of strings corresponding to that single group. (Obscure optional feature: Sometimes you have paren `(` `)` groupings in the pattern, but which you do not want to extract. In that case, write the parens with a `?`: at the start, e.g. `(?: )` and that left paren will not count as a group result.)"
     ]
    },
    {
     "cell_type": "heading",
     "level": 3,
     "metadata": {},
     "source": [
      "RE Workflow and Debug"
     ]
    },
    {
     "cell_type": "markdown",
     "metadata": {},
     "source": [
      "Regular expression patterns pack a lot of meaning into just a few characters , but they are so dense, you can spend a lot of time debugging your patterns. Set up your runtime so you can run a pattern and print what it matches easily, for example by running it on a small test text and printing the result of `findall()`. If the pattern matches nothing, try weakening the pattern, removing parts of it so you get too many matches. When it's matching nothing, you can't make any progress since there's nothing concrete to look at. Once it's matching too much, then you can work on tightening it up incrementally to hit just what you want."
     ]
    },
    {
     "cell_type": "heading",
     "level": 4,
     "metadata": {},
     "source": [
      "Options"
     ]
    },
    {
     "cell_type": "markdown",
     "metadata": {},
     "source": [
      "The re functions take options to modify the behavior of the pattern match. The option flag is added as an extra argument to the `search()` or `findall()` etc., e.g. `re.search(pat, str, re.IGNORECASE)`.\n",
      "\n",
      "- **`IGNORECASE`** -- ignore upper/lowercase differences for matching, so `'a'` matches both 'a' and `'A'`.\n",
      "- **`DOTALL`** -- allow dot (`.`) to match newline -- normally it matches anything but newline. This can trip you up -- you think `.*` matches everything, but by default it does not go past the end of a line. Note that `\\s` (whitespace) includes newlines, so if you want to match a run of whitespace that may include a newline, you can just use `\\s*`\n",
      "- **`MULTILINE`** -- Within a string made of many lines, allow `^` and `$` to match the start and end of each line. Normally ^/$ would just match the start and end of the whole string.\n",
      "Greedy vs. Non-Greedy (optional)\n",
      "\n",
      "This is optional section which shows a more advanced regular expression technique not needed for the exercises.\n",
      "\n",
      "Suppose you have text with tags in it: `<b>foo</b>` and `<i>so on</i>`\n",
      "\n",
      "Suppose you are trying to match each tag with the pattern `'(<.*>)'` -- what does it match first?\n",
      "\n",
      "The result is a little surprising, but the greedy aspect of the `.*` causes it to match the whole `'<b>foo</b>` and `<i>so on</i>'` as one big match. The problem is that the `.*` goes as far as is it can, instead of stopping at the first `>` (aka it is \"greedy\").\n",
      "\n",
      "There is an extension to regular expression where you add a `?` at the end, such as `.*?` or `.+?`, changing them to be non-greedy. Now they stop as soon as they can. So the pattern `'(<.*?>)'` will get just `'<b>'` as the first match, and `'</b>'` as the second match, and so on getting each `<..>` pair in turn. The style is typically that you use a `.*?`, and then immediately its right look for some concrete marker (`>` in this case) that forces the end of the `.*?` run.\n",
      "\n",
      "The `*?` extension originated in Perl, and regular expressions that include Perl's extensions are known as Perl Compatible Regular Expressions -- pcre. Python includes pcre support. Many command line utils etc. have a flag where they accept pcre patterns.\n",
      "\n",
      "An older but widely used technique to code this idea of \"all of these chars except stopping at X\" uses the square-bracket style. For the above you could write the pattern, but instead of `.*` to get all the chars, use `[^>]*` which skips over all characters which are not `>` (the leading `^` \"inverts\" the square bracket set, so it matches any char not in the brackets)."
     ]
    },
    {
     "cell_type": "heading",
     "level": 3,
     "metadata": {},
     "source": [
      "Substitution"
     ]
    },
    {
     "cell_type": "markdown",
     "metadata": {},
     "source": [
      "The `re.sub(pat, replacement, str)` function searches for all the instances of pattern in the given string, and replaces them. The replacement string can include `'\\1'`, `'\\2'` which refer to the text from `group(1)`, `group(2)`, and so on from the original matching text.\n",
      "\n",
      "Here's an example which searches for all the email addresses, and changes them to keep the user (`\\1`) but have `yo-yo-dyne.com` as the host."
     ]
    },
    {
     "cell_type": "code",
     "collapsed": false,
     "input": [
      "string = 'purple alice@google.com, blah monkey bob@abc.com blah dishwasher'\n",
      "## re.sub(pat, replacement, string) -- returns new string with all replacements,\n",
      "## \\1 is group(1), \\2 group(2) in the replacement\n",
      "print(re.sub(r'([\\w\\.-]+)@([\\w\\.-]+)', r'\\1@yo-yo-dyne.com', string))\n",
      "## purple alice@yo-yo-dyne.com, blah monkey bob@yo-yo-dyne.com blah dishwasher"
     ],
     "language": "python",
     "metadata": {},
     "outputs": [
      {
       "output_type": "stream",
       "stream": "stdout",
       "text": [
        "purple alice@yo-yo-dyne.com, blah monkey bob@yo-yo-dyne.com blah dishwasher\n"
       ]
      }
     ],
     "prompt_number": 30
    },
    {
     "cell_type": "markdown",
     "metadata": {},
     "source": [
      "<div style=\"font-size: 1em; margin: 1em 0 1em 0; border: 1px solid #86989B; background-color: #f7f7f7; padding: 0;\">\n",
      "<p style=\"margin: 0; padding: 0.1em 0 0.1em 0.5em; color: white; border-bottom: 1px solid #86989B; font-weight: bold; background-color: #AFC1C4;\">\n",
      "Activity\n",
      "</p>\n",
      "<p style=\"margin: 0.5em 1em 0.5em 1em; padding: 0;\">\n",
      "Given the `arts` data frame, try to do the next:\n",
      "<span><ol><li>\n",
      "Clean the dates so you only see numbers by using string manipulations. If a year is lower than 100, then is referred to 1900. For example, 78 is actually 1978, and that needs to be fixed too.\n",
      "</li><li>\n",
      "Get the average execution year per artist.\n",
      "</li><li>\n",
      "Get the average execution year per category.\n",
      "</li><li>\n",
      "Get the number of artworks per artist. Which artist is the most prolific?\n",
      "</li><li>\n",
      "Get the number of artworks per category. Which category has the highest number?\n",
      "</li><li>\n",
      "Get the average length of artworks titles per category and artist.\n",
      "</li><li>\n",
      "Get the year with the highest production.\n",
      "</li><li>\n",
      "Get the approximate period of production for each artist. If an artist painted from 1970 to 1990, the period is 20.\n",
      "<!-- </li><li>\n",
      "BONUS: Is there any correlation between the periods of production and the number of artworks per artist?  -->\n",
      "</li></ol></span>\n",
      "<!-- <small style=\"float: right; position: relative;\">[Solution](data/arts.py)</small> -->\n",
      "</p>\n",
      "</div>"
     ]
    },
    {
     "cell_type": "code",
     "collapsed": false,
     "input": [
      "string = \"\u00a91977-1979, CARCC\"\n",
      "finds = re.findall(r\"\\d+\", string)\n",
      "first_find = finds[-1]\n",
      "int(first_find)"
     ],
     "language": "python",
     "metadata": {},
     "outputs": [
      {
       "metadata": {},
       "output_type": "pyout",
       "prompt_number": 31,
       "text": [
        "1979"
       ]
      }
     ],
     "prompt_number": 31
    },
    {
     "cell_type": "code",
     "collapsed": false,
     "input": [
      "arts = pd.read_csv(\"data/arts.csv\")\n",
      "arts.head()"
     ],
     "language": "python",
     "metadata": {},
     "outputs": [
      {
       "html": [
        "<div style=\"max-height:1000px;max-width:1500px;overflow:auto;\">\n",
        "<table border=\"1\" class=\"dataframe\">\n",
        "  <thead>\n",
        "    <tr style=\"text-align: right;\">\n",
        "      <th></th>\n",
        "      <th>artist_name</th>\n",
        "      <th>title</th>\n",
        "      <th>execution_date</th>\n",
        "      <th>category</th>\n",
        "      <th>id</th>\n",
        "    </tr>\n",
        "  </thead>\n",
        "  <tbody>\n",
        "    <tr>\n",
        "      <th>0</th>\n",
        "      <td>      Wright, Don</td>\n",
        "      <td>                                       Turf-Arm</td>\n",
        "      <td>         1984</td>\n",
        "      <td> Work on paper</td>\n",
        "      <td>  85/6-0174</td>\n",
        "    </tr>\n",
        "    <tr>\n",
        "      <th>1</th>\n",
        "      <td>      Hansen, Jim</td>\n",
        "      <td>                             Nfld. album no. 99</td>\n",
        "      <td> \u00a91977, CARCC</td>\n",
        "      <td> Work on paper</td>\n",
        "      <td> 79/80-0510</td>\n",
        "    </tr>\n",
        "    <tr>\n",
        "      <th>2</th>\n",
        "      <td> Creates, Marlene</td>\n",
        "      <td> A Stone Placed in Gathered Water, Newfoundland</td>\n",
        "      <td> \u00a91982, CARCC</td>\n",
        "      <td>    Photograph</td>\n",
        "      <td>  92/3-0221</td>\n",
        "    </tr>\n",
        "    <tr>\n",
        "      <th>3</th>\n",
        "      <td>    Walker, Peter</td>\n",
        "      <td>                                        1.25.79</td>\n",
        "      <td> \u00a91979, CARCC</td>\n",
        "      <td> Work on paper</td>\n",
        "      <td> 79/80-0529</td>\n",
        "    </tr>\n",
        "    <tr>\n",
        "      <th>4</th>\n",
        "      <td> Bretzloff, Carol</td>\n",
        "      <td>                             Under Heaven, Wind</td>\n",
        "      <td>         1983</td>\n",
        "      <td> Work on paper</td>\n",
        "      <td>  13/4-0007</td>\n",
        "    </tr>\n",
        "  </tbody>\n",
        "</table>\n",
        "</div>"
       ],
       "metadata": {},
       "output_type": "pyout",
       "prompt_number": 36,
       "text": [
        "        artist_name                                           title  \\\n",
        "0       Wright, Don                                        Turf-Arm   \n",
        "1       Hansen, Jim                              Nfld. album no. 99   \n",
        "2  Creates, Marlene  A Stone Placed in Gathered Water, Newfoundland   \n",
        "3     Walker, Peter                                         1.25.79   \n",
        "4  Bretzloff, Carol                              Under Heaven, Wind   \n",
        "\n",
        "  execution_date       category          id  \n",
        "0           1984  Work on paper   85/6-0174  \n",
        "1   \u00a91977, CARCC  Work on paper  79/80-0510  \n",
        "2   \u00a91982, CARCC     Photograph   92/3-0221  \n",
        "3   \u00a91979, CARCC  Work on paper  79/80-0529  \n",
        "4           1983  Work on paper   13/4-0007  "
       ]
      }
     ],
     "prompt_number": 36
    },
    {
     "cell_type": "code",
     "collapsed": false,
     "input": [
      "arts[\"execution_date\"] = arts[\"execution_date\"].str.findall(r\"(\\d+)\").str[0]\n",
      "arts[\"execution_date\"].head()"
     ],
     "language": "python",
     "metadata": {},
     "outputs": [
      {
       "metadata": {},
       "output_type": "pyout",
       "prompt_number": 37,
       "text": [
        "0    1984\n",
        "1    1977\n",
        "2    1982\n",
        "3    1979\n",
        "4    1983\n",
        "Name: execution_date, dtype: object"
       ]
      }
     ],
     "prompt_number": 37
    },
    {
     "cell_type": "code",
     "collapsed": false,
     "input": [
      "# 1. If a year is lower than 100, then is referred to 1900. For example, 78 is actually 1978, and that needs to be fixed too.\n",
      "arts[\"execution_date\"] = arts[\"execution_date\"].astype(float)\n",
      "arts[\"execution_date\"] = arts[\"execution_date\"].apply(lambda value: 1900 + value if value < 100 else value)\n",
      "arts.head()"
     ],
     "language": "python",
     "metadata": {},
     "outputs": [
      {
       "html": [
        "<div style=\"max-height:1000px;max-width:1500px;overflow:auto;\">\n",
        "<table border=\"1\" class=\"dataframe\">\n",
        "  <thead>\n",
        "    <tr style=\"text-align: right;\">\n",
        "      <th></th>\n",
        "      <th>artist_name</th>\n",
        "      <th>title</th>\n",
        "      <th>execution_date</th>\n",
        "      <th>category</th>\n",
        "      <th>id</th>\n",
        "    </tr>\n",
        "  </thead>\n",
        "  <tbody>\n",
        "    <tr>\n",
        "      <th>0</th>\n",
        "      <td>      Wright, Don</td>\n",
        "      <td>                                       Turf-Arm</td>\n",
        "      <td> 1984</td>\n",
        "      <td> Work on paper</td>\n",
        "      <td>  85/6-0174</td>\n",
        "    </tr>\n",
        "    <tr>\n",
        "      <th>1</th>\n",
        "      <td>      Hansen, Jim</td>\n",
        "      <td>                             Nfld. album no. 99</td>\n",
        "      <td> 1977</td>\n",
        "      <td> Work on paper</td>\n",
        "      <td> 79/80-0510</td>\n",
        "    </tr>\n",
        "    <tr>\n",
        "      <th>2</th>\n",
        "      <td> Creates, Marlene</td>\n",
        "      <td> A Stone Placed in Gathered Water, Newfoundland</td>\n",
        "      <td> 1982</td>\n",
        "      <td>    Photograph</td>\n",
        "      <td>  92/3-0221</td>\n",
        "    </tr>\n",
        "    <tr>\n",
        "      <th>3</th>\n",
        "      <td>    Walker, Peter</td>\n",
        "      <td>                                        1.25.79</td>\n",
        "      <td> 1979</td>\n",
        "      <td> Work on paper</td>\n",
        "      <td> 79/80-0529</td>\n",
        "    </tr>\n",
        "    <tr>\n",
        "      <th>4</th>\n",
        "      <td> Bretzloff, Carol</td>\n",
        "      <td>                             Under Heaven, Wind</td>\n",
        "      <td> 1983</td>\n",
        "      <td> Work on paper</td>\n",
        "      <td>  13/4-0007</td>\n",
        "    </tr>\n",
        "  </tbody>\n",
        "</table>\n",
        "</div>"
       ],
       "metadata": {},
       "output_type": "pyout",
       "prompt_number": 38,
       "text": [
        "        artist_name                                           title  \\\n",
        "0       Wright, Don                                        Turf-Arm   \n",
        "1       Hansen, Jim                              Nfld. album no. 99   \n",
        "2  Creates, Marlene  A Stone Placed in Gathered Water, Newfoundland   \n",
        "3     Walker, Peter                                         1.25.79   \n",
        "4  Bretzloff, Carol                              Under Heaven, Wind   \n",
        "\n",
        "   execution_date       category          id  \n",
        "0            1984  Work on paper   85/6-0174  \n",
        "1            1977  Work on paper  79/80-0510  \n",
        "2            1982     Photograph   92/3-0221  \n",
        "3            1979  Work on paper  79/80-0529  \n",
        "4            1983  Work on paper   13/4-0007  "
       ]
      }
     ],
     "prompt_number": 38
    },
    {
     "cell_type": "code",
     "collapsed": false,
     "input": [
      "# 2. Get the average execution year per artist.\n",
      "arts.groupby(\"artist_name\").mean().head()"
     ],
     "language": "python",
     "metadata": {},
     "outputs": [
      {
       "html": [
        "<div style=\"max-height:1000px;max-width:1500px;overflow:auto;\">\n",
        "<table border=\"1\" class=\"dataframe\">\n",
        "  <thead>\n",
        "    <tr style=\"text-align: right;\">\n",
        "      <th></th>\n",
        "      <th>execution_date</th>\n",
        "    </tr>\n",
        "    <tr>\n",
        "      <th>artist_name</th>\n",
        "      <th></th>\n",
        "    </tr>\n",
        "  </thead>\n",
        "  <tbody>\n",
        "    <tr>\n",
        "      <th>A &amp; B Associ\u00e9s</th>\n",
        "      <td> 1982.250000</td>\n",
        "    </tr>\n",
        "    <tr>\n",
        "      <th>Aalto, Harri</th>\n",
        "      <td> 1976.000000</td>\n",
        "    </tr>\n",
        "    <tr>\n",
        "      <th>Aaluk, Paul</th>\n",
        "      <td> 1990.000000</td>\n",
        "    </tr>\n",
        "    <tr>\n",
        "      <th>Abbott, Louise</th>\n",
        "      <td> 1978.666667</td>\n",
        "    </tr>\n",
        "    <tr>\n",
        "      <th>Abdilla, Alex</th>\n",
        "      <td> 2001.000000</td>\n",
        "    </tr>\n",
        "  </tbody>\n",
        "</table>\n",
        "</div>"
       ],
       "metadata": {},
       "output_type": "pyout",
       "prompt_number": 39,
       "text": [
        "                execution_date\n",
        "artist_name                   \n",
        "A & B Associ\u00e9s     1982.250000\n",
        "Aalto, Harri       1976.000000\n",
        "Aaluk, Paul        1990.000000\n",
        "Abbott, Louise     1978.666667\n",
        "Abdilla, Alex      2001.000000"
       ]
      }
     ],
     "prompt_number": 39
    },
    {
     "cell_type": "code",
     "collapsed": false,
     "input": [
      "# 3. Get the average execution year per category.\n",
      "arts.groupby(\"category\")[[\"execution_date\"]].mean()"
     ],
     "language": "python",
     "metadata": {},
     "outputs": [
      {
       "html": [
        "<div style=\"max-height:1000px;max-width:1500px;overflow:auto;\">\n",
        "<table border=\"1\" class=\"dataframe\">\n",
        "  <thead>\n",
        "    <tr style=\"text-align: right;\">\n",
        "      <th></th>\n",
        "      <th>execution_date</th>\n",
        "    </tr>\n",
        "    <tr>\n",
        "      <th>category</th>\n",
        "      <th></th>\n",
        "    </tr>\n",
        "  </thead>\n",
        "  <tbody>\n",
        "    <tr>\n",
        "      <th>Fibre</th>\n",
        "      <td> 1986.183007</td>\n",
        "    </tr>\n",
        "    <tr>\n",
        "      <th>Installation</th>\n",
        "      <td> 1984.579710</td>\n",
        "    </tr>\n",
        "    <tr>\n",
        "      <th>Media</th>\n",
        "      <td> 1987.400000</td>\n",
        "    </tr>\n",
        "    <tr>\n",
        "      <th>Other</th>\n",
        "      <td> 1982.707424</td>\n",
        "    </tr>\n",
        "    <tr>\n",
        "      <th>Painting</th>\n",
        "      <td> 1980.344828</td>\n",
        "    </tr>\n",
        "    <tr>\n",
        "      <th>Photograph</th>\n",
        "      <td> 1984.550800</td>\n",
        "    </tr>\n",
        "    <tr>\n",
        "      <th>Sculpture</th>\n",
        "      <td> 1984.260649</td>\n",
        "    </tr>\n",
        "    <tr>\n",
        "      <th>Work on paper</th>\n",
        "      <td> 1979.037114</td>\n",
        "    </tr>\n",
        "  </tbody>\n",
        "</table>\n",
        "</div>"
       ],
       "metadata": {},
       "output_type": "pyout",
       "prompt_number": 40,
       "text": [
        "               execution_date\n",
        "category                     \n",
        "Fibre             1986.183007\n",
        "Installation      1984.579710\n",
        "Media             1987.400000\n",
        "Other             1982.707424\n",
        "Painting          1980.344828\n",
        "Photograph        1984.550800\n",
        "Sculpture         1984.260649\n",
        "Work on paper     1979.037114"
       ]
      }
     ],
     "prompt_number": 40
    },
    {
     "cell_type": "code",
     "collapsed": false,
     "input": [
      "# 4. Get the number of artworks per artist. Which artist is the most prolific?\n",
      "artworks_by_artist = arts.groupby(\"artist_name\")[[\"title\"]].aggregate(np.count_nonzero)\n",
      "artworks_by_artist.sort(\"title\", ascending=False).head()"
     ],
     "language": "python",
     "metadata": {},
     "outputs": [
      {
       "html": [
        "<div style=\"max-height:1000px;max-width:1500px;overflow:auto;\">\n",
        "<table border=\"1\" class=\"dataframe\">\n",
        "  <thead>\n",
        "    <tr style=\"text-align: right;\">\n",
        "      <th></th>\n",
        "      <th>title</th>\n",
        "    </tr>\n",
        "    <tr>\n",
        "      <th>artist_name</th>\n",
        "      <th></th>\n",
        "    </tr>\n",
        "  </thead>\n",
        "  <tbody>\n",
        "    <tr>\n",
        "      <th>Smith, Gordon</th>\n",
        "      <td> 137</td>\n",
        "    </tr>\n",
        "    <tr>\n",
        "      <th>Onley, Toni</th>\n",
        "      <td> 130</td>\n",
        "    </tr>\n",
        "    <tr>\n",
        "      <th>Kipling, Ann</th>\n",
        "      <td> 122</td>\n",
        "    </tr>\n",
        "    <tr>\n",
        "      <th>Hurtubise, Jacques</th>\n",
        "      <td> 113</td>\n",
        "    </tr>\n",
        "    <tr>\n",
        "      <th>Laing, William (Bill)</th>\n",
        "      <td> 111</td>\n",
        "    </tr>\n",
        "  </tbody>\n",
        "</table>\n",
        "</div>"
       ],
       "metadata": {},
       "output_type": "pyout",
       "prompt_number": 41,
       "text": [
        "                       title\n",
        "artist_name                 \n",
        "Smith, Gordon            137\n",
        "Onley, Toni              130\n",
        "Kipling, Ann             122\n",
        "Hurtubise, Jacques       113\n",
        "Laing, William (Bill)    111"
       ]
      }
     ],
     "prompt_number": 41
    },
    {
     "cell_type": "code",
     "collapsed": false,
     "input": [
      "# 5. Get the number of artworks per category. Which category has the highest number?\n",
      "artworks_by_category = arts.groupby(\"category\")[[\"title\"]].aggregate(np.count_nonzero)\n",
      "artworks_by_category.sort(\"title\", ascending=False).head()"
     ],
     "language": "python",
     "metadata": {},
     "outputs": [
      {
       "html": [
        "<div style=\"max-height:1000px;max-width:1500px;overflow:auto;\">\n",
        "<table border=\"1\" class=\"dataframe\">\n",
        "  <thead>\n",
        "    <tr style=\"text-align: right;\">\n",
        "      <th></th>\n",
        "      <th>title</th>\n",
        "    </tr>\n",
        "    <tr>\n",
        "      <th>category</th>\n",
        "      <th></th>\n",
        "    </tr>\n",
        "  </thead>\n",
        "  <tbody>\n",
        "    <tr>\n",
        "      <th>Work on paper</th>\n",
        "      <td> 10637</td>\n",
        "    </tr>\n",
        "    <tr>\n",
        "      <th>Photograph</th>\n",
        "      <td>  2874</td>\n",
        "    </tr>\n",
        "    <tr>\n",
        "      <th>Painting</th>\n",
        "      <td>  2351</td>\n",
        "    </tr>\n",
        "    <tr>\n",
        "      <th>Sculpture</th>\n",
        "      <td>   988</td>\n",
        "    </tr>\n",
        "    <tr>\n",
        "      <th>Other</th>\n",
        "      <td>   459</td>\n",
        "    </tr>\n",
        "  </tbody>\n",
        "</table>\n",
        "</div>"
       ],
       "metadata": {},
       "output_type": "pyout",
       "prompt_number": 42,
       "text": [
        "               title\n",
        "category            \n",
        "Work on paper  10637\n",
        "Photograph      2874\n",
        "Painting        2351\n",
        "Sculpture        988\n",
        "Other            459"
       ]
      }
     ],
     "prompt_number": 42
    },
    {
     "cell_type": "code",
     "collapsed": false,
     "input": [
      "arts['title_len'] = arts['title'].apply(len)\n",
      "arts.head()"
     ],
     "language": "python",
     "metadata": {},
     "outputs": [
      {
       "html": [
        "<div style=\"max-height:1000px;max-width:1500px;overflow:auto;\">\n",
        "<table border=\"1\" class=\"dataframe\">\n",
        "  <thead>\n",
        "    <tr style=\"text-align: right;\">\n",
        "      <th></th>\n",
        "      <th>artist_name</th>\n",
        "      <th>title</th>\n",
        "      <th>execution_date</th>\n",
        "      <th>category</th>\n",
        "      <th>id</th>\n",
        "      <th>title_len</th>\n",
        "    </tr>\n",
        "  </thead>\n",
        "  <tbody>\n",
        "    <tr>\n",
        "      <th>0</th>\n",
        "      <td>      Wright, Don</td>\n",
        "      <td>                                       Turf-Arm</td>\n",
        "      <td> 1984</td>\n",
        "      <td> Work on paper</td>\n",
        "      <td>  85/6-0174</td>\n",
        "      <td>  8</td>\n",
        "    </tr>\n",
        "    <tr>\n",
        "      <th>1</th>\n",
        "      <td>      Hansen, Jim</td>\n",
        "      <td>                             Nfld. album no. 99</td>\n",
        "      <td> 1977</td>\n",
        "      <td> Work on paper</td>\n",
        "      <td> 79/80-0510</td>\n",
        "      <td> 18</td>\n",
        "    </tr>\n",
        "    <tr>\n",
        "      <th>2</th>\n",
        "      <td> Creates, Marlene</td>\n",
        "      <td> A Stone Placed in Gathered Water, Newfoundland</td>\n",
        "      <td> 1982</td>\n",
        "      <td>    Photograph</td>\n",
        "      <td>  92/3-0221</td>\n",
        "      <td> 46</td>\n",
        "    </tr>\n",
        "    <tr>\n",
        "      <th>3</th>\n",
        "      <td>    Walker, Peter</td>\n",
        "      <td>                                        1.25.79</td>\n",
        "      <td> 1979</td>\n",
        "      <td> Work on paper</td>\n",
        "      <td> 79/80-0529</td>\n",
        "      <td>  7</td>\n",
        "    </tr>\n",
        "    <tr>\n",
        "      <th>4</th>\n",
        "      <td> Bretzloff, Carol</td>\n",
        "      <td>                             Under Heaven, Wind</td>\n",
        "      <td> 1983</td>\n",
        "      <td> Work on paper</td>\n",
        "      <td>  13/4-0007</td>\n",
        "      <td> 18</td>\n",
        "    </tr>\n",
        "  </tbody>\n",
        "</table>\n",
        "</div>"
       ],
       "metadata": {},
       "output_type": "pyout",
       "prompt_number": 43,
       "text": [
        "        artist_name                                           title  \\\n",
        "0       Wright, Don                                        Turf-Arm   \n",
        "1       Hansen, Jim                              Nfld. album no. 99   \n",
        "2  Creates, Marlene  A Stone Placed in Gathered Water, Newfoundland   \n",
        "3     Walker, Peter                                         1.25.79   \n",
        "4  Bretzloff, Carol                              Under Heaven, Wind   \n",
        "\n",
        "   execution_date       category          id  title_len  \n",
        "0            1984  Work on paper   85/6-0174          8  \n",
        "1            1977  Work on paper  79/80-0510         18  \n",
        "2            1982     Photograph   92/3-0221         46  \n",
        "3            1979  Work on paper  79/80-0529          7  \n",
        "4            1983  Work on paper   13/4-0007         18  "
       ]
      }
     ],
     "prompt_number": 43
    },
    {
     "cell_type": "code",
     "collapsed": false,
     "input": [
      "# 6. Get the average length of artworks titles per category and artist.\n",
      "arts['title_length'] = arts['title'].apply(len)\n",
      "length_by_category = arts.groupby(\"category\")[[\"title_len\"]].aggregate(np.mean)\n",
      "length_by_category.sort(\"title_len\")"
     ],
     "language": "python",
     "metadata": {},
     "outputs": [
      {
       "html": [
        "<div style=\"max-height:1000px;max-width:1500px;overflow:auto;\">\n",
        "<table border=\"1\" class=\"dataframe\">\n",
        "  <thead>\n",
        "    <tr style=\"text-align: right;\">\n",
        "      <th></th>\n",
        "      <th>title_len</th>\n",
        "    </tr>\n",
        "    <tr>\n",
        "      <th>category</th>\n",
        "      <th></th>\n",
        "    </tr>\n",
        "  </thead>\n",
        "  <tbody>\n",
        "    <tr>\n",
        "      <th>Media</th>\n",
        "      <td> 12.400000</td>\n",
        "    </tr>\n",
        "    <tr>\n",
        "      <th>Sculpture</th>\n",
        "      <td> 16.527328</td>\n",
        "    </tr>\n",
        "    <tr>\n",
        "      <th>Painting</th>\n",
        "      <td> 17.075287</td>\n",
        "    </tr>\n",
        "    <tr>\n",
        "      <th>Other</th>\n",
        "      <td> 18.389978</td>\n",
        "    </tr>\n",
        "    <tr>\n",
        "      <th>Work on paper</th>\n",
        "      <td> 18.432265</td>\n",
        "    </tr>\n",
        "    <tr>\n",
        "      <th>Fibre</th>\n",
        "      <td> 20.681818</td>\n",
        "    </tr>\n",
        "    <tr>\n",
        "      <th>Installation</th>\n",
        "      <td> 25.144928</td>\n",
        "    </tr>\n",
        "    <tr>\n",
        "      <th>Photograph</th>\n",
        "      <td> 28.188935</td>\n",
        "    </tr>\n",
        "  </tbody>\n",
        "</table>\n",
        "</div>"
       ],
       "metadata": {},
       "output_type": "pyout",
       "prompt_number": 44,
       "text": [
        "               title_len\n",
        "category                \n",
        "Media          12.400000\n",
        "Sculpture      16.527328\n",
        "Painting       17.075287\n",
        "Other          18.389978\n",
        "Work on paper  18.432265\n",
        "Fibre          20.681818\n",
        "Installation   25.144928\n",
        "Photograph     28.188935"
       ]
      }
     ],
     "prompt_number": 44
    },
    {
     "cell_type": "code",
     "collapsed": false,
     "input": [
      "# 7. Get the year with the highest production.\n",
      "artworks_by_year = arts.groupby(\"execution_date\")[[\"title\"]].aggregate(np.count_nonzero)\n",
      "artworks_by_year.sort(\"title\", ascending=False).head(3)"
     ],
     "language": "python",
     "metadata": {},
     "outputs": [
      {
       "html": [
        "<div style=\"max-height:1000px;max-width:1500px;overflow:auto;\">\n",
        "<table border=\"1\" class=\"dataframe\">\n",
        "  <thead>\n",
        "    <tr style=\"text-align: right;\">\n",
        "      <th></th>\n",
        "      <th>title</th>\n",
        "    </tr>\n",
        "    <tr>\n",
        "      <th>execution_date</th>\n",
        "      <th></th>\n",
        "    </tr>\n",
        "  </thead>\n",
        "  <tbody>\n",
        "    <tr>\n",
        "      <th>1973</th>\n",
        "      <td> 1625</td>\n",
        "    </tr>\n",
        "    <tr>\n",
        "      <th>1972</th>\n",
        "      <td> 1087</td>\n",
        "    </tr>\n",
        "    <tr>\n",
        "      <th>1974</th>\n",
        "      <td> 1041</td>\n",
        "    </tr>\n",
        "  </tbody>\n",
        "</table>\n",
        "</div>"
       ],
       "metadata": {},
       "output_type": "pyout",
       "prompt_number": 45,
       "text": [
        "                title\n",
        "execution_date       \n",
        "1973             1625\n",
        "1972             1087\n",
        "1974             1041"
       ]
      }
     ],
     "prompt_number": 45
    },
    {
     "cell_type": "code",
     "collapsed": false,
     "input": [
      "# 8. Get the approximate period of production for each artist. If an artist painted from 1970 to 1990, the period is 20.\n",
      "period_min = arts.groupby(\"artist_name\")[[\"execution_date\"]].aggregate(np.min)\n",
      "period_max = arts.groupby(\"artist_name\")[[\"execution_date\"]].aggregate(np.max)\n",
      "(period_max - period_min + 1).sort(\"execution_date\", ascending=False).head(5)"
     ],
     "language": "python",
     "metadata": {},
     "outputs": [
      {
       "html": [
        "<div style=\"max-height:1000px;max-width:1500px;overflow:auto;\">\n",
        "<table border=\"1\" class=\"dataframe\">\n",
        "  <thead>\n",
        "    <tr style=\"text-align: right;\">\n",
        "      <th></th>\n",
        "      <th>execution_date</th>\n",
        "    </tr>\n",
        "    <tr>\n",
        "      <th>artist_name</th>\n",
        "      <th></th>\n",
        "    </tr>\n",
        "  </thead>\n",
        "  <tbody>\n",
        "    <tr>\n",
        "      <th>Tousignant, Serge</th>\n",
        "      <td> 47</td>\n",
        "    </tr>\n",
        "    <tr>\n",
        "      <th>Pellan, Alfred</th>\n",
        "      <td> 43</td>\n",
        "    </tr>\n",
        "    <tr>\n",
        "      <th>Ashevak, Kenojuak</th>\n",
        "      <td> 40</td>\n",
        "    </tr>\n",
        "    <tr>\n",
        "      <th>Morris, Michael</th>\n",
        "      <td> 37</td>\n",
        "    </tr>\n",
        "    <tr>\n",
        "      <th>Haeseker, Alexandra</th>\n",
        "      <td> 37</td>\n",
        "    </tr>\n",
        "  </tbody>\n",
        "</table>\n",
        "</div>"
       ],
       "metadata": {},
       "output_type": "pyout",
       "prompt_number": 46,
       "text": [
        "                     execution_date\n",
        "artist_name                        \n",
        "Tousignant, Serge                47\n",
        "Pellan, Alfred                   43\n",
        "Ashevak, Kenojuak                40\n",
        "Morris, Michael                  37\n",
        "Haeseker, Alexandra              37"
       ]
      }
     ],
     "prompt_number": 46
    },
    {
     "cell_type": "code",
     "collapsed": false,
     "input": [
      "arts.to_csv(\"data/arts_clean.csv\")"
     ],
     "language": "python",
     "metadata": {},
     "outputs": [],
     "prompt_number": 47
    },
    {
     "cell_type": "heading",
     "level": 1,
     "metadata": {},
     "source": [
      "Pivot tables"
     ]
    },
    {
     "cell_type": "markdown",
     "metadata": {},
     "source": [
      "Once we know the concept behind `.groupby()`, the next natural step is to think about doing a lot of groupings so we can see the data aggregated in many different ways. And this is very the problem that pivot tables are designed to solve.\n",
      "\n",
      "Let's consider a new dataset, [`books`](data/books-funnel.xlsx) (adapted from [here](http://pbpython.com/pandas-pivot-table-explained.html)), from an editorial and the number of copies of books they have, and say that we want to know things like:\n",
      "- How many copies are already published?\n",
      "- How many copies are in the pipeline?\n",
      "- How many copies per book and in what stage?\n",
      "\n",
      "Let's set up our environment first with a new dataset from an editorial and the number of copies of books they have."
     ]
    },
    {
     "cell_type": "code",
     "collapsed": false,
     "input": [
      "import pandas as pd\n",
      "import numpy as np\n",
      "\n",
      "books = pd.read_excel(\"data/books-funnel.xlsx\")\n",
      "books.head()"
     ],
     "language": "python",
     "metadata": {},
     "outputs": [
      {
       "html": [
        "<div style=\"max-height:1000px;max-width:1500px;overflow:auto;\">\n",
        "<table border=\"1\" class=\"dataframe\">\n",
        "  <thead>\n",
        "    <tr style=\"text-align: right;\">\n",
        "      <th></th>\n",
        "      <th>Identifier</th>\n",
        "      <th>Book</th>\n",
        "      <th>Author</th>\n",
        "      <th>Editor</th>\n",
        "      <th>Edition</th>\n",
        "      <th>Copies</th>\n",
        "      <th>Price</th>\n",
        "      <th>Status</th>\n",
        "    </tr>\n",
        "  </thead>\n",
        "  <tbody>\n",
        "    <tr>\n",
        "      <th>0</th>\n",
        "      <td> 714466</td>\n",
        "      <td> Adventures of Trantow-Barrows</td>\n",
        "      <td>  Craig Booker</td>\n",
        "      <td> Debra Henley</td>\n",
        "      <td>  Premiun</td>\n",
        "      <td> 100</td>\n",
        "      <td> 30</td>\n",
        "      <td>  In-print</td>\n",
        "    </tr>\n",
        "    <tr>\n",
        "      <th>1</th>\n",
        "      <td> 714466</td>\n",
        "      <td> Adventures of Trantow-Barrows</td>\n",
        "      <td>  Craig Booker</td>\n",
        "      <td> Debra Henley</td>\n",
        "      <td> Standard</td>\n",
        "      <td> 100</td>\n",
        "      <td> 10</td>\n",
        "      <td>  In-print</td>\n",
        "    </tr>\n",
        "    <tr>\n",
        "      <th>2</th>\n",
        "      <td> 714466</td>\n",
        "      <td> Adventures of Trantow-Barrows</td>\n",
        "      <td>  Craig Booker</td>\n",
        "      <td> Debra Henley</td>\n",
        "      <td>   Pocket</td>\n",
        "      <td> 200</td>\n",
        "      <td>  5</td>\n",
        "      <td>   pending</td>\n",
        "    </tr>\n",
        "    <tr>\n",
        "      <th>3</th>\n",
        "      <td> 737550</td>\n",
        "      <td>            The Russel Paradox</td>\n",
        "      <td>  Craig Booker</td>\n",
        "      <td> Debra Henley</td>\n",
        "      <td>  Premiun</td>\n",
        "      <td> 100</td>\n",
        "      <td> 35</td>\n",
        "      <td>  rejected</td>\n",
        "    </tr>\n",
        "    <tr>\n",
        "      <th>4</th>\n",
        "      <td> 146832</td>\n",
        "      <td>               Theory of Kiehn</td>\n",
        "      <td> Daniel Hilton</td>\n",
        "      <td> Debra Henley</td>\n",
        "      <td>  Premiun</td>\n",
        "      <td> 200</td>\n",
        "      <td> 65</td>\n",
        "      <td> published</td>\n",
        "    </tr>\n",
        "  </tbody>\n",
        "</table>\n",
        "</div>"
       ],
       "metadata": {},
       "output_type": "pyout",
       "prompt_number": 2,
       "text": [
        "   Identifier                           Book         Author        Editor  \\\n",
        "0      714466  Adventures of Trantow-Barrows   Craig Booker  Debra Henley   \n",
        "1      714466  Adventures of Trantow-Barrows   Craig Booker  Debra Henley   \n",
        "2      714466  Adventures of Trantow-Barrows   Craig Booker  Debra Henley   \n",
        "3      737550             The Russel Paradox   Craig Booker  Debra Henley   \n",
        "4      146832                Theory of Kiehn  Daniel Hilton  Debra Henley   \n",
        "\n",
        "    Edition  Copies  Price     Status  \n",
        "0   Premiun     100     30   In-print  \n",
        "1  Standard     100     10   In-print  \n",
        "2    Pocket     200      5    pending  \n",
        "3   Premiun     100     35   rejected  \n",
        "4   Premiun     200     65  published  "
       ]
      }
     ],
     "prompt_number": 2
    },
    {
     "cell_type": "code",
     "collapsed": false,
     "input": [
      "# How many copies are already published?\n",
      "books[books[\"Status\"] == \"published\"][\"Copies\"].sum()"
     ],
     "language": "python",
     "metadata": {},
     "outputs": [
      {
       "metadata": {},
       "output_type": "pyout",
       "prompt_number": 8,
       "text": [
        "1200"
       ]
      }
     ],
     "prompt_number": 8
    },
    {
     "cell_type": "code",
     "collapsed": false,
     "input": [
      "# How many copies are in the pipeline?\n",
      "books[books[\"Status\"].isin([\"In-print\", \"pending\"])][\"Copies\"].sum()"
     ],
     "language": "python",
     "metadata": {},
     "outputs": [
      {
       "metadata": {},
       "output_type": "pyout",
       "prompt_number": 16,
       "text": [
        "1400"
       ]
      }
     ],
     "prompt_number": 16
    },
    {
     "cell_type": "code",
     "collapsed": false,
     "input": [
      "books.groupby([\"Book\", \"Status\"])[[\"Copies\"]].aggregate(np.sum)"
     ],
     "language": "python",
     "metadata": {},
     "outputs": [
      {
       "html": [
        "<div style=\"max-height:1000px;max-width:1500px;overflow:auto;\">\n",
        "<table border=\"1\" class=\"dataframe\">\n",
        "  <thead>\n",
        "    <tr style=\"text-align: right;\">\n",
        "      <th></th>\n",
        "      <th></th>\n",
        "      <th>Copies</th>\n",
        "    </tr>\n",
        "    <tr>\n",
        "      <th>Book</th>\n",
        "      <th>Status</th>\n",
        "      <th></th>\n",
        "    </tr>\n",
        "  </thead>\n",
        "  <tbody>\n",
        "    <tr>\n",
        "      <th>A brave warrior</th>\n",
        "      <th>pending</th>\n",
        "      <td> 200</td>\n",
        "    </tr>\n",
        "    <tr>\n",
        "      <th rowspan=\"2\" valign=\"top\">Adventures of Trantow-Barrows</th>\n",
        "      <th>In-print</th>\n",
        "      <td> 200</td>\n",
        "    </tr>\n",
        "    <tr>\n",
        "      <th>pending</th>\n",
        "      <td> 200</td>\n",
        "    </tr>\n",
        "    <tr>\n",
        "      <th>Barton Fink</th>\n",
        "      <th>rejected</th>\n",
        "      <td> 100</td>\n",
        "    </tr>\n",
        "    <tr>\n",
        "      <th>Kassulke from Tokyo</th>\n",
        "      <th>published</th>\n",
        "      <td> 300</td>\n",
        "    </tr>\n",
        "    <tr>\n",
        "      <th rowspan=\"2\" valign=\"top\">Kulas</th>\n",
        "      <th>In-print</th>\n",
        "      <td> 100</td>\n",
        "    </tr>\n",
        "    <tr>\n",
        "      <th>pending</th>\n",
        "      <td> 200</td>\n",
        "    </tr>\n",
        "    <tr>\n",
        "      <th rowspan=\"2\" valign=\"top\">Lords of the Baltic</th>\n",
        "      <th>In-print</th>\n",
        "      <td> 200</td>\n",
        "    </tr>\n",
        "    <tr>\n",
        "      <th>rejected</th>\n",
        "      <td> 200</td>\n",
        "    </tr>\n",
        "    <tr>\n",
        "      <th>Purdy &amp; Kunde</th>\n",
        "      <th>In-print</th>\n",
        "      <td> 100</td>\n",
        "    </tr>\n",
        "    <tr>\n",
        "      <th>Skin</th>\n",
        "      <th>published</th>\n",
        "      <td> 500</td>\n",
        "    </tr>\n",
        "    <tr>\n",
        "      <th rowspan=\"2\" valign=\"top\">Stokes the Vampire</th>\n",
        "      <th>In-print</th>\n",
        "      <td> 100</td>\n",
        "    </tr>\n",
        "    <tr>\n",
        "      <th>pending</th>\n",
        "      <td> 100</td>\n",
        "    </tr>\n",
        "    <tr>\n",
        "      <th>The Russel Paradox</th>\n",
        "      <th>rejected</th>\n",
        "      <td> 100</td>\n",
        "    </tr>\n",
        "    <tr>\n",
        "      <th>The Whale and the Hunter</th>\n",
        "      <th>published</th>\n",
        "      <td> 200</td>\n",
        "    </tr>\n",
        "    <tr>\n",
        "      <th>Theory of Kiehn</th>\n",
        "      <th>published</th>\n",
        "      <td> 200</td>\n",
        "    </tr>\n",
        "  </tbody>\n",
        "</table>\n",
        "</div>"
       ],
       "metadata": {},
       "output_type": "pyout",
       "prompt_number": 18,
       "text": [
        "                                         Copies\n",
        "Book                          Status           \n",
        "A brave warrior               pending       200\n",
        "Adventures of Trantow-Barrows In-print      200\n",
        "                              pending       200\n",
        "Barton Fink                   rejected      100\n",
        "Kassulke from Tokyo           published     300\n",
        "Kulas                         In-print      100\n",
        "                              pending       200\n",
        "Lords of the Baltic           In-print      200\n",
        "                              rejected      200\n",
        "Purdy & Kunde                 In-print      100\n",
        "Skin                          published     500\n",
        "Stokes the Vampire            In-print      100\n",
        "                              pending       100\n",
        "The Russel Paradox            rejected      100\n",
        "The Whale and the Hunter      published     200\n",
        "Theory of Kiehn               published     200"
       ]
      }
     ],
     "prompt_number": 18
    },
    {
     "cell_type": "heading",
     "level": 3,
     "metadata": {},
     "source": [
      "Pivot the data"
     ]
    },
    {
     "cell_type": "markdown",
     "metadata": {},
     "source": [
      "As we build up the pivot table, it's easier to take it one step at a time. Add items and check each step to verify you are getting the results you expect. Don't be afraid to play with the order and the variables to see what presentation makes the most sense for your needs.\n",
      "\n",
      "The simplest pivot table must have a dataframe and an index. In this case, let's use the book title `Book` as our index."
     ]
    },
    {
     "cell_type": "code",
     "collapsed": false,
     "input": [
      "pd.pivot_table(books, index=[\"Book\"])"
     ],
     "language": "python",
     "metadata": {},
     "outputs": [
      {
       "html": [
        "<div style=\"max-height:1000px;max-width:1500px;overflow:auto;\">\n",
        "<table border=\"1\" class=\"dataframe\">\n",
        "  <thead>\n",
        "    <tr style=\"text-align: right;\">\n",
        "      <th></th>\n",
        "      <th>Copies</th>\n",
        "      <th>Identifier</th>\n",
        "      <th>Price</th>\n",
        "    </tr>\n",
        "    <tr>\n",
        "      <th>Book</th>\n",
        "      <th></th>\n",
        "      <th></th>\n",
        "      <th></th>\n",
        "    </tr>\n",
        "  </thead>\n",
        "  <tbody>\n",
        "    <tr>\n",
        "      <th>A brave warrior</th>\n",
        "      <td> 200.000000</td>\n",
        "      <td> 412290</td>\n",
        "      <td>   5.0</td>\n",
        "    </tr>\n",
        "    <tr>\n",
        "      <th>Adventures of Trantow-Barrows</th>\n",
        "      <td> 133.333333</td>\n",
        "      <td> 714466</td>\n",
        "      <td>  15.0</td>\n",
        "    </tr>\n",
        "    <tr>\n",
        "      <th>Barton Fink</th>\n",
        "      <td> 100.000000</td>\n",
        "      <td> 740150</td>\n",
        "      <td>  35.0</td>\n",
        "    </tr>\n",
        "    <tr>\n",
        "      <th>Kassulke from Tokyo</th>\n",
        "      <td> 300.000000</td>\n",
        "      <td> 307599</td>\n",
        "      <td>   7.0</td>\n",
        "    </tr>\n",
        "    <tr>\n",
        "      <th>Kulas</th>\n",
        "      <td> 150.000000</td>\n",
        "      <td> 218895</td>\n",
        "      <td>  25.0</td>\n",
        "    </tr>\n",
        "    <tr>\n",
        "      <th>Lords of the Baltic</th>\n",
        "      <td> 200.000000</td>\n",
        "      <td> 729833</td>\n",
        "      <td>  35.0</td>\n",
        "    </tr>\n",
        "    <tr>\n",
        "      <th>Purdy &amp; Kunde</th>\n",
        "      <td> 100.000000</td>\n",
        "      <td> 163416</td>\n",
        "      <td>  30.0</td>\n",
        "    </tr>\n",
        "    <tr>\n",
        "      <th>Skin</th>\n",
        "      <td> 500.000000</td>\n",
        "      <td> 688981</td>\n",
        "      <td> 100.0</td>\n",
        "    </tr>\n",
        "    <tr>\n",
        "      <th>Stokes the Vampire</th>\n",
        "      <td> 100.000000</td>\n",
        "      <td> 239344</td>\n",
        "      <td>   7.5</td>\n",
        "    </tr>\n",
        "    <tr>\n",
        "      <th>The Russel Paradox</th>\n",
        "      <td> 100.000000</td>\n",
        "      <td> 737550</td>\n",
        "      <td>  35.0</td>\n",
        "    </tr>\n",
        "    <tr>\n",
        "      <th>The Whale and the Hunter</th>\n",
        "      <td> 200.000000</td>\n",
        "      <td> 141962</td>\n",
        "      <td>  65.0</td>\n",
        "    </tr>\n",
        "    <tr>\n",
        "      <th>Theory of Kiehn</th>\n",
        "      <td> 200.000000</td>\n",
        "      <td> 146832</td>\n",
        "      <td>  65.0</td>\n",
        "    </tr>\n",
        "  </tbody>\n",
        "</table>\n",
        "</div>"
       ],
       "metadata": {},
       "output_type": "pyout",
       "prompt_number": 91,
       "text": [
        "                                   Copies  Identifier  Price\n",
        "Book                                                        \n",
        "A brave warrior                200.000000      412290    5.0\n",
        "Adventures of Trantow-Barrows  133.333333      714466   15.0\n",
        "Barton Fink                    100.000000      740150   35.0\n",
        "Kassulke from Tokyo            300.000000      307599    7.0\n",
        "Kulas                          150.000000      218895   25.0\n",
        "Lords of the Baltic            200.000000      729833   35.0\n",
        "Purdy & Kunde                  100.000000      163416   30.0\n",
        "Skin                           500.000000      688981  100.0\n",
        "Stokes the Vampire             100.000000      239344    7.5\n",
        "The Russel Paradox             100.000000      737550   35.0\n",
        "The Whale and the Hunter       200.000000      141962   65.0\n",
        "Theory of Kiehn                200.000000      146832   65.0"
       ]
      }
     ],
     "prompt_number": 91
    },
    {
     "cell_type": "markdown",
     "metadata": {},
     "source": [
      "You can have multiple indexes as well. In fact, most of the pivot_table args can take multiple values via a list."
     ]
    },
    {
     "cell_type": "code",
     "collapsed": false,
     "input": [
      "pd.pivot_table(books, index=[\"Book\", \"Author\", \"Editor\"])"
     ],
     "language": "python",
     "metadata": {},
     "outputs": [
      {
       "html": [
        "<div style=\"max-height:1000px;max-width:1500px;overflow:auto;\">\n",
        "<table border=\"1\" class=\"dataframe\">\n",
        "  <thead>\n",
        "    <tr style=\"text-align: right;\">\n",
        "      <th></th>\n",
        "      <th></th>\n",
        "      <th></th>\n",
        "      <th>Copies</th>\n",
        "      <th>Identifier</th>\n",
        "      <th>Price</th>\n",
        "    </tr>\n",
        "    <tr>\n",
        "      <th>Book</th>\n",
        "      <th>Author</th>\n",
        "      <th>Editor</th>\n",
        "      <th></th>\n",
        "      <th></th>\n",
        "      <th></th>\n",
        "    </tr>\n",
        "  </thead>\n",
        "  <tbody>\n",
        "    <tr>\n",
        "      <th>A brave warrior</th>\n",
        "      <th>John Smith</th>\n",
        "      <th>Debra Henley</th>\n",
        "      <td> 200.000000</td>\n",
        "      <td> 412290</td>\n",
        "      <td>   5.0</td>\n",
        "    </tr>\n",
        "    <tr>\n",
        "      <th>Adventures of Trantow-Barrows</th>\n",
        "      <th>Craig Booker</th>\n",
        "      <th>Debra Henley</th>\n",
        "      <td> 133.333333</td>\n",
        "      <td> 714466</td>\n",
        "      <td>  15.0</td>\n",
        "    </tr>\n",
        "    <tr>\n",
        "      <th>Barton Fink</th>\n",
        "      <th>John Smith</th>\n",
        "      <th>Debra Henley</th>\n",
        "      <td> 100.000000</td>\n",
        "      <td> 740150</td>\n",
        "      <td>  35.0</td>\n",
        "    </tr>\n",
        "    <tr>\n",
        "      <th>Kassulke from Tokyo</th>\n",
        "      <th>Wendy Yule</th>\n",
        "      <th>Fred Anderson</th>\n",
        "      <td> 300.000000</td>\n",
        "      <td> 307599</td>\n",
        "      <td>   7.0</td>\n",
        "    </tr>\n",
        "    <tr>\n",
        "      <th>Kulas</th>\n",
        "      <th>Daniel Hilton</th>\n",
        "      <th>Debra Henley</th>\n",
        "      <td> 150.000000</td>\n",
        "      <td> 218895</td>\n",
        "      <td>  25.0</td>\n",
        "    </tr>\n",
        "    <tr>\n",
        "      <th>Lords of the Baltic</th>\n",
        "      <th>Wendy Yule</th>\n",
        "      <th>Fred Anderson</th>\n",
        "      <td> 200.000000</td>\n",
        "      <td> 729833</td>\n",
        "      <td>  35.0</td>\n",
        "    </tr>\n",
        "    <tr>\n",
        "      <th>Purdy &amp; Kunde</th>\n",
        "      <th>Cedric Moss</th>\n",
        "      <th>Fred Anderson</th>\n",
        "      <td> 100.000000</td>\n",
        "      <td> 163416</td>\n",
        "      <td>  30.0</td>\n",
        "    </tr>\n",
        "    <tr>\n",
        "      <th>Skin</th>\n",
        "      <th>Wendy Yule</th>\n",
        "      <th>Fred Anderson</th>\n",
        "      <td> 500.000000</td>\n",
        "      <td> 688981</td>\n",
        "      <td> 100.0</td>\n",
        "    </tr>\n",
        "    <tr>\n",
        "      <th>Stokes the Vampire</th>\n",
        "      <th>Cedric Moss</th>\n",
        "      <th>Fred Anderson</th>\n",
        "      <td> 100.000000</td>\n",
        "      <td> 239344</td>\n",
        "      <td>   7.5</td>\n",
        "    </tr>\n",
        "    <tr>\n",
        "      <th>The Russel Paradox</th>\n",
        "      <th>Craig Booker</th>\n",
        "      <th>Debra Henley</th>\n",
        "      <td> 100.000000</td>\n",
        "      <td> 737550</td>\n",
        "      <td>  35.0</td>\n",
        "    </tr>\n",
        "    <tr>\n",
        "      <th>The Whale and the Hunter</th>\n",
        "      <th>Cedric Moss</th>\n",
        "      <th>Fred Anderson</th>\n",
        "      <td> 200.000000</td>\n",
        "      <td> 141962</td>\n",
        "      <td>  65.0</td>\n",
        "    </tr>\n",
        "    <tr>\n",
        "      <th>Theory of Kiehn</th>\n",
        "      <th>Daniel Hilton</th>\n",
        "      <th>Debra Henley</th>\n",
        "      <td> 200.000000</td>\n",
        "      <td> 146832</td>\n",
        "      <td>  65.0</td>\n",
        "    </tr>\n",
        "  </tbody>\n",
        "</table>\n",
        "</div>"
       ],
       "metadata": {},
       "output_type": "pyout",
       "prompt_number": 19,
       "text": [
        "                                                               Copies  \\\n",
        "Book                          Author        Editor                      \n",
        "A brave warrior               John Smith    Debra Henley   200.000000   \n",
        "Adventures of Trantow-Barrows Craig Booker  Debra Henley   133.333333   \n",
        "Barton Fink                   John Smith    Debra Henley   100.000000   \n",
        "Kassulke from Tokyo           Wendy Yule    Fred Anderson  300.000000   \n",
        "Kulas                         Daniel Hilton Debra Henley   150.000000   \n",
        "Lords of the Baltic           Wendy Yule    Fred Anderson  200.000000   \n",
        "Purdy & Kunde                 Cedric Moss   Fred Anderson  100.000000   \n",
        "Skin                          Wendy Yule    Fred Anderson  500.000000   \n",
        "Stokes the Vampire            Cedric Moss   Fred Anderson  100.000000   \n",
        "The Russel Paradox            Craig Booker  Debra Henley   100.000000   \n",
        "The Whale and the Hunter      Cedric Moss   Fred Anderson  200.000000   \n",
        "Theory of Kiehn               Daniel Hilton Debra Henley   200.000000   \n",
        "\n",
        "                                                           Identifier  Price  \n",
        "Book                          Author        Editor                            \n",
        "A brave warrior               John Smith    Debra Henley       412290    5.0  \n",
        "Adventures of Trantow-Barrows Craig Booker  Debra Henley       714466   15.0  \n",
        "Barton Fink                   John Smith    Debra Henley       740150   35.0  \n",
        "Kassulke from Tokyo           Wendy Yule    Fred Anderson      307599    7.0  \n",
        "Kulas                         Daniel Hilton Debra Henley       218895   25.0  \n",
        "Lords of the Baltic           Wendy Yule    Fred Anderson      729833   35.0  \n",
        "Purdy & Kunde                 Cedric Moss   Fred Anderson      163416   30.0  \n",
        "Skin                          Wendy Yule    Fred Anderson      688981  100.0  \n",
        "Stokes the Vampire            Cedric Moss   Fred Anderson      239344    7.5  \n",
        "The Russel Paradox            Craig Booker  Debra Henley       737550   35.0  \n",
        "The Whale and the Hunter      Cedric Moss   Fred Anderson      141962   65.0  \n",
        "Theory of Kiehn               Daniel Hilton Debra Henley       146832   65.0  "
       ]
      }
     ],
     "prompt_number": 19
    },
    {
     "cell_type": "markdown",
     "metadata": {},
     "source": [
      "This is interesting but not particularly useful. What we probably want to do is look at this by `Editor` and `Author`. It\u2019s easy enough to do by changing the index."
     ]
    },
    {
     "cell_type": "code",
     "collapsed": false,
     "input": [
      "pd.pivot_table(books, index=[\"Editor\", \"Author\"])"
     ],
     "language": "python",
     "metadata": {},
     "outputs": [
      {
       "html": [
        "<div style=\"max-height:1000px;max-width:1500px;overflow:auto;\">\n",
        "<table border=\"1\" class=\"dataframe\">\n",
        "  <thead>\n",
        "    <tr style=\"text-align: right;\">\n",
        "      <th></th>\n",
        "      <th></th>\n",
        "      <th>Copies</th>\n",
        "      <th>Identifier</th>\n",
        "      <th>Price</th>\n",
        "    </tr>\n",
        "    <tr>\n",
        "      <th>Editor</th>\n",
        "      <th>Author</th>\n",
        "      <th></th>\n",
        "      <th></th>\n",
        "      <th></th>\n",
        "    </tr>\n",
        "  </thead>\n",
        "  <tbody>\n",
        "    <tr>\n",
        "      <th rowspan=\"3\" valign=\"top\">Debra Henley</th>\n",
        "      <th>Craig Booker</th>\n",
        "      <td> 125.000000</td>\n",
        "      <td> 720237.0</td>\n",
        "      <td> 20.000000</td>\n",
        "    </tr>\n",
        "    <tr>\n",
        "      <th>Daniel Hilton</th>\n",
        "      <td> 166.666667</td>\n",
        "      <td> 194874.0</td>\n",
        "      <td> 38.333333</td>\n",
        "    </tr>\n",
        "    <tr>\n",
        "      <th>John Smith</th>\n",
        "      <td> 150.000000</td>\n",
        "      <td> 576220.0</td>\n",
        "      <td> 20.000000</td>\n",
        "    </tr>\n",
        "    <tr>\n",
        "      <th rowspan=\"2\" valign=\"top\">Fred Anderson</th>\n",
        "      <th>Cedric Moss</th>\n",
        "      <td> 125.000000</td>\n",
        "      <td> 196016.5</td>\n",
        "      <td> 27.500000</td>\n",
        "    </tr>\n",
        "    <tr>\n",
        "      <th>Wendy Yule</th>\n",
        "      <td> 300.000000</td>\n",
        "      <td> 614061.5</td>\n",
        "      <td> 44.250000</td>\n",
        "    </tr>\n",
        "  </tbody>\n",
        "</table>\n",
        "</div>"
       ],
       "metadata": {},
       "output_type": "pyout",
       "prompt_number": 21,
       "text": [
        "                                 Copies  Identifier      Price\n",
        "Editor        Author                                          \n",
        "Debra Henley  Craig Booker   125.000000    720237.0  20.000000\n",
        "              Daniel Hilton  166.666667    194874.0  38.333333\n",
        "              John Smith     150.000000    576220.0  20.000000\n",
        "Fred Anderson Cedric Moss    125.000000    196016.5  27.500000\n",
        "              Wendy Yule     300.000000    614061.5  44.250000"
       ]
      }
     ],
     "prompt_number": 21
    },
    {
     "cell_type": "markdown",
     "metadata": {},
     "source": [
      "You can see that the pivot table is smart enough to start aggregating the data and summarizing it by grouping the authors with their editors. Now we start to get a glimpse of what a pivot table can do for us.\n",
      "\n",
      "For this purpose, the `Identifier` and `Price` columns aren\u2019t really useful. Let\u2019s remove it by explicitly defining the columns we care about using the values field."
     ]
    },
    {
     "cell_type": "code",
     "collapsed": false,
     "input": [
      "pd.pivot_table(books, index=[\"Editor\", \"Author\"], values=[\"Copies\"])"
     ],
     "language": "python",
     "metadata": {},
     "outputs": [
      {
       "html": [
        "<div style=\"max-height:1000px;max-width:1500px;overflow:auto;\">\n",
        "<table border=\"1\" class=\"dataframe\">\n",
        "  <thead>\n",
        "    <tr style=\"text-align: right;\">\n",
        "      <th></th>\n",
        "      <th></th>\n",
        "      <th>Copies</th>\n",
        "    </tr>\n",
        "    <tr>\n",
        "      <th>Editor</th>\n",
        "      <th>Author</th>\n",
        "      <th></th>\n",
        "    </tr>\n",
        "  </thead>\n",
        "  <tbody>\n",
        "    <tr>\n",
        "      <th rowspan=\"3\" valign=\"top\">Debra Henley</th>\n",
        "      <th>Craig Booker</th>\n",
        "      <td> 125.000000</td>\n",
        "    </tr>\n",
        "    <tr>\n",
        "      <th>Daniel Hilton</th>\n",
        "      <td> 166.666667</td>\n",
        "    </tr>\n",
        "    <tr>\n",
        "      <th>John Smith</th>\n",
        "      <td> 150.000000</td>\n",
        "    </tr>\n",
        "    <tr>\n",
        "      <th rowspan=\"2\" valign=\"top\">Fred Anderson</th>\n",
        "      <th>Cedric Moss</th>\n",
        "      <td> 125.000000</td>\n",
        "    </tr>\n",
        "    <tr>\n",
        "      <th>Wendy Yule</th>\n",
        "      <td> 300.000000</td>\n",
        "    </tr>\n",
        "  </tbody>\n",
        "</table>\n",
        "</div>"
       ],
       "metadata": {},
       "output_type": "pyout",
       "prompt_number": 22,
       "text": [
        "                                 Copies\n",
        "Editor        Author                   \n",
        "Debra Henley  Craig Booker   125.000000\n",
        "              Daniel Hilton  166.666667\n",
        "              John Smith     150.000000\n",
        "Fred Anderson Cedric Moss    125.000000\n",
        "              Wendy Yule     300.000000"
       ]
      }
     ],
     "prompt_number": 22
    },
    {
     "cell_type": "markdown",
     "metadata": {},
     "source": [
      "The price column automatically averages the data but we can do a count or a sum. Adding them is simple using `aggfunc` and `np.sum`."
     ]
    },
    {
     "cell_type": "code",
     "collapsed": false,
     "input": [
      "pd.pivot_table(books, index=[\"Editor\", \"Author\"], values=[\"Copies\"], aggfunc=np.sum)"
     ],
     "language": "python",
     "metadata": {},
     "outputs": [
      {
       "html": [
        "<div style=\"max-height:1000px;max-width:1500px;overflow:auto;\">\n",
        "<table border=\"1\" class=\"dataframe\">\n",
        "  <thead>\n",
        "    <tr style=\"text-align: right;\">\n",
        "      <th></th>\n",
        "      <th></th>\n",
        "      <th>Copies</th>\n",
        "    </tr>\n",
        "    <tr>\n",
        "      <th>Editor</th>\n",
        "      <th>Author</th>\n",
        "      <th></th>\n",
        "    </tr>\n",
        "  </thead>\n",
        "  <tbody>\n",
        "    <tr>\n",
        "      <th rowspan=\"3\" valign=\"top\">Debra Henley</th>\n",
        "      <th>Craig Booker</th>\n",
        "      <td>  500</td>\n",
        "    </tr>\n",
        "    <tr>\n",
        "      <th>Daniel Hilton</th>\n",
        "      <td>  500</td>\n",
        "    </tr>\n",
        "    <tr>\n",
        "      <th>John Smith</th>\n",
        "      <td>  300</td>\n",
        "    </tr>\n",
        "    <tr>\n",
        "      <th rowspan=\"2\" valign=\"top\">Fred Anderson</th>\n",
        "      <th>Cedric Moss</th>\n",
        "      <td>  500</td>\n",
        "    </tr>\n",
        "    <tr>\n",
        "      <th>Wendy Yule</th>\n",
        "      <td> 1200</td>\n",
        "    </tr>\n",
        "  </tbody>\n",
        "</table>\n",
        "</div>"
       ],
       "metadata": {},
       "output_type": "pyout",
       "prompt_number": 23,
       "text": [
        "                             Copies\n",
        "Editor        Author               \n",
        "Debra Henley  Craig Booker      500\n",
        "              Daniel Hilton     500\n",
        "              John Smith        300\n",
        "Fred Anderson Cedric Moss       500\n",
        "              Wendy Yule       1200"
       ]
      }
     ],
     "prompt_number": 23
    },
    {
     "cell_type": "markdown",
     "metadata": {},
     "source": [
      "`aggfunc()` can take a list of functions. Let\u2019s try a mean using the numpy mean function and len to get a count."
     ]
    },
    {
     "cell_type": "code",
     "collapsed": false,
     "input": [
      "pd.pivot_table(books, index=[\"Editor\", \"Author\"], values=[\"Copies\"], aggfunc=[np.sum, len])"
     ],
     "language": "python",
     "metadata": {},
     "outputs": [
      {
       "html": [
        "<div style=\"max-height:1000px;max-width:1500px;overflow:auto;\">\n",
        "<table border=\"1\" class=\"dataframe\">\n",
        "  <thead>\n",
        "    <tr>\n",
        "      <th></th>\n",
        "      <th></th>\n",
        "      <th>sum</th>\n",
        "      <th>len</th>\n",
        "    </tr>\n",
        "    <tr>\n",
        "      <th></th>\n",
        "      <th></th>\n",
        "      <th>Copies</th>\n",
        "      <th>Copies</th>\n",
        "    </tr>\n",
        "    <tr>\n",
        "      <th>Editor</th>\n",
        "      <th>Author</th>\n",
        "      <th></th>\n",
        "      <th></th>\n",
        "    </tr>\n",
        "  </thead>\n",
        "  <tbody>\n",
        "    <tr>\n",
        "      <th rowspan=\"3\" valign=\"top\">Debra Henley</th>\n",
        "      <th>Craig Booker</th>\n",
        "      <td>  500</td>\n",
        "      <td> 4</td>\n",
        "    </tr>\n",
        "    <tr>\n",
        "      <th>Daniel Hilton</th>\n",
        "      <td>  500</td>\n",
        "      <td> 3</td>\n",
        "    </tr>\n",
        "    <tr>\n",
        "      <th>John Smith</th>\n",
        "      <td>  300</td>\n",
        "      <td> 2</td>\n",
        "    </tr>\n",
        "    <tr>\n",
        "      <th rowspan=\"2\" valign=\"top\">Fred Anderson</th>\n",
        "      <th>Cedric Moss</th>\n",
        "      <td>  500</td>\n",
        "      <td> 4</td>\n",
        "    </tr>\n",
        "    <tr>\n",
        "      <th>Wendy Yule</th>\n",
        "      <td> 1200</td>\n",
        "      <td> 4</td>\n",
        "    </tr>\n",
        "  </tbody>\n",
        "</table>\n",
        "</div>"
       ],
       "metadata": {},
       "output_type": "pyout",
       "prompt_number": 98,
       "text": [
        "                               sum    len\n",
        "                            Copies Copies\n",
        "Editor        Author                     \n",
        "Debra Henley  Craig Booker     500      4\n",
        "              Daniel Hilton    500      3\n",
        "              John Smith       300      2\n",
        "Fred Anderson Cedric Moss      500      4\n",
        "              Wendy Yule      1200      4"
       ]
      }
     ],
     "prompt_number": 98
    },
    {
     "cell_type": "markdown",
     "metadata": {},
     "source": [
      "If we want to see copies broken down by the edition, the columns variable allows us to define one or more columns."
     ]
    },
    {
     "cell_type": "heading",
     "level": 4,
     "metadata": {},
     "source": [
      "Columns vs. Values"
     ]
    },
    {
     "cell_type": "markdown",
     "metadata": {},
     "source": [
      "One of the confusing points with the pivot_table is the use of columns and values. Remember, columns are optional - they provide an additional way to segment the actual values you care about. The aggregation functions are applied to the values you list."
     ]
    },
    {
     "cell_type": "code",
     "collapsed": false,
     "input": [
      "pd.pivot_table(books, index=[\"Editor\", \"Author\"], values=[\"Copies\"],\n",
      "               columns=[\"Edition\"], aggfunc=[np.sum])"
     ],
     "language": "python",
     "metadata": {},
     "outputs": [
      {
       "html": [
        "<div style=\"max-height:1000px;max-width:1500px;overflow:auto;\">\n",
        "<table border=\"1\" class=\"dataframe\">\n",
        "  <thead>\n",
        "    <tr>\n",
        "      <th></th>\n",
        "      <th></th>\n",
        "      <th colspan=\"3\" halign=\"left\">sum</th>\n",
        "    </tr>\n",
        "    <tr>\n",
        "      <th></th>\n",
        "      <th></th>\n",
        "      <th colspan=\"3\" halign=\"left\">Copies</th>\n",
        "    </tr>\n",
        "    <tr>\n",
        "      <th></th>\n",
        "      <th>Edition</th>\n",
        "      <th>Pocket</th>\n",
        "      <th>Premiun</th>\n",
        "      <th>Standard</th>\n",
        "    </tr>\n",
        "    <tr>\n",
        "      <th>Editor</th>\n",
        "      <th>Author</th>\n",
        "      <th></th>\n",
        "      <th></th>\n",
        "      <th></th>\n",
        "    </tr>\n",
        "  </thead>\n",
        "  <tbody>\n",
        "    <tr>\n",
        "      <th rowspan=\"3\" valign=\"top\">Debra Henley</th>\n",
        "      <th>Craig Booker</th>\n",
        "      <td> 200</td>\n",
        "      <td> 200</td>\n",
        "      <td> 100</td>\n",
        "    </tr>\n",
        "    <tr>\n",
        "      <th>Daniel Hilton</th>\n",
        "      <td> NaN</td>\n",
        "      <td> 400</td>\n",
        "      <td> 100</td>\n",
        "    </tr>\n",
        "    <tr>\n",
        "      <th>John Smith</th>\n",
        "      <td> 200</td>\n",
        "      <td> 100</td>\n",
        "      <td> NaN</td>\n",
        "    </tr>\n",
        "    <tr>\n",
        "      <th rowspan=\"2\" valign=\"top\">Fred Anderson</th>\n",
        "      <th>Cedric Moss</th>\n",
        "      <td> 100</td>\n",
        "      <td> 300</td>\n",
        "      <td> 100</td>\n",
        "    </tr>\n",
        "    <tr>\n",
        "      <th>Wendy Yule</th>\n",
        "      <td> 300</td>\n",
        "      <td> 700</td>\n",
        "      <td> 200</td>\n",
        "    </tr>\n",
        "  </tbody>\n",
        "</table>\n",
        "</div>"
       ],
       "metadata": {},
       "output_type": "pyout",
       "prompt_number": 99,
       "text": [
        "                               sum                 \n",
        "                            Copies                 \n",
        "Edition                     Pocket Premiun Standard\n",
        "Editor        Author                               \n",
        "Debra Henley  Craig Booker     200     200      100\n",
        "              Daniel Hilton    NaN     400      100\n",
        "              John Smith       200     100      NaN\n",
        "Fred Anderson Cedric Moss      100     300      100\n",
        "              Wendy Yule       300     700      200"
       ]
      }
     ],
     "prompt_number": 99
    },
    {
     "cell_type": "markdown",
     "metadata": {},
     "source": [
      "The `NaN`\u2019s are a bit distracting. If we want to remove them, we could use `fill_value` to set them to 0."
     ]
    },
    {
     "cell_type": "code",
     "collapsed": false,
     "input": [
      "pd.pivot_table(books, index=[\"Editor\", \"Author\"], values=[\"Copies\"],\n",
      "               columns=[\"Edition\"], aggfunc=[np.sum], fill_value=0)"
     ],
     "language": "python",
     "metadata": {},
     "outputs": [
      {
       "html": [
        "<div style=\"max-height:1000px;max-width:1500px;overflow:auto;\">\n",
        "<table border=\"1\" class=\"dataframe\">\n",
        "  <thead>\n",
        "    <tr>\n",
        "      <th></th>\n",
        "      <th></th>\n",
        "      <th colspan=\"3\" halign=\"left\">sum</th>\n",
        "    </tr>\n",
        "    <tr>\n",
        "      <th></th>\n",
        "      <th></th>\n",
        "      <th colspan=\"3\" halign=\"left\">Copies</th>\n",
        "    </tr>\n",
        "    <tr>\n",
        "      <th></th>\n",
        "      <th>Edition</th>\n",
        "      <th>Pocket</th>\n",
        "      <th>Premiun</th>\n",
        "      <th>Standard</th>\n",
        "    </tr>\n",
        "    <tr>\n",
        "      <th>Editor</th>\n",
        "      <th>Author</th>\n",
        "      <th></th>\n",
        "      <th></th>\n",
        "      <th></th>\n",
        "    </tr>\n",
        "  </thead>\n",
        "  <tbody>\n",
        "    <tr>\n",
        "      <th rowspan=\"3\" valign=\"top\">Debra Henley</th>\n",
        "      <th>Craig Booker</th>\n",
        "      <td> 200</td>\n",
        "      <td> 200</td>\n",
        "      <td> 100</td>\n",
        "    </tr>\n",
        "    <tr>\n",
        "      <th>Daniel Hilton</th>\n",
        "      <td>   0</td>\n",
        "      <td> 400</td>\n",
        "      <td> 100</td>\n",
        "    </tr>\n",
        "    <tr>\n",
        "      <th>John Smith</th>\n",
        "      <td> 200</td>\n",
        "      <td> 100</td>\n",
        "      <td>   0</td>\n",
        "    </tr>\n",
        "    <tr>\n",
        "      <th rowspan=\"2\" valign=\"top\">Fred Anderson</th>\n",
        "      <th>Cedric Moss</th>\n",
        "      <td> 100</td>\n",
        "      <td> 300</td>\n",
        "      <td> 100</td>\n",
        "    </tr>\n",
        "    <tr>\n",
        "      <th>Wendy Yule</th>\n",
        "      <td> 300</td>\n",
        "      <td> 700</td>\n",
        "      <td> 200</td>\n",
        "    </tr>\n",
        "  </tbody>\n",
        "</table>\n",
        "</div>"
       ],
       "metadata": {},
       "output_type": "pyout",
       "prompt_number": 24,
       "text": [
        "                               sum                 \n",
        "                            Copies                 \n",
        "Edition                     Pocket Premiun Standard\n",
        "Editor        Author                               \n",
        "Debra Henley  Craig Booker     200     200      100\n",
        "              Daniel Hilton      0     400      100\n",
        "              John Smith       200     100        0\n",
        "Fred Anderson Cedric Moss      100     300      100\n",
        "              Wendy Yule       300     700      200"
       ]
      }
     ],
     "prompt_number": 24
    },
    {
     "cell_type": "markdown",
     "metadata": {},
     "source": [
      "It would be useful to add the average price as well. Add `Price` to the values list."
     ]
    },
    {
     "cell_type": "code",
     "collapsed": false,
     "input": [
      "pd.pivot_table(books, index=[\"Editor\", \"Author\"], values=[\"Copies\", \"Price\"],\n",
      "               columns=[\"Edition\"], aggfunc={\"Copies\": np.sum, \"Price\": np.mean}, fill_value=0)"
     ],
     "language": "python",
     "metadata": {},
     "outputs": [
      {
       "html": [
        "<div style=\"max-height:1000px;max-width:1500px;overflow:auto;\">\n",
        "<table border=\"1\" class=\"dataframe\">\n",
        "  <thead>\n",
        "    <tr>\n",
        "      <th></th>\n",
        "      <th colspan=\"3\" halign=\"left\">Copies</th>\n",
        "    </tr>\n",
        "    <tr>\n",
        "      <th>Edition</th>\n",
        "      <th>Pocket</th>\n",
        "      <th>Premiun</th>\n",
        "      <th>Standard</th>\n",
        "    </tr>\n",
        "    <tr>\n",
        "      <th>Author</th>\n",
        "      <th></th>\n",
        "      <th></th>\n",
        "      <th></th>\n",
        "    </tr>\n",
        "  </thead>\n",
        "  <tbody>\n",
        "    <tr>\n",
        "      <th>Cedric Moss</th>\n",
        "      <td> 100</td>\n",
        "      <td> 300</td>\n",
        "      <td> 100</td>\n",
        "    </tr>\n",
        "    <tr>\n",
        "      <th>Craig Booker</th>\n",
        "      <td> 200</td>\n",
        "      <td> 200</td>\n",
        "      <td> 100</td>\n",
        "    </tr>\n",
        "    <tr>\n",
        "      <th>Daniel Hilton</th>\n",
        "      <td>   0</td>\n",
        "      <td> 400</td>\n",
        "      <td> 100</td>\n",
        "    </tr>\n",
        "    <tr>\n",
        "      <th>John Smith</th>\n",
        "      <td> 200</td>\n",
        "      <td> 100</td>\n",
        "      <td>   0</td>\n",
        "    </tr>\n",
        "    <tr>\n",
        "      <th>Wendy Yule</th>\n",
        "      <td> 300</td>\n",
        "      <td> 700</td>\n",
        "      <td> 200</td>\n",
        "    </tr>\n",
        "  </tbody>\n",
        "</table>\n",
        "</div>"
       ],
       "metadata": {},
       "output_type": "pyout",
       "prompt_number": 26,
       "text": [
        "              Copies                 \n",
        "Edition       Pocket Premiun Standard\n",
        "Author                               \n",
        "Cedric Moss      100     300      100\n",
        "Craig Booker     200     200      100\n",
        "Daniel Hilton      0     400      100\n",
        "John Smith       200     100        0\n",
        "Wendy Yule       300     700      200"
       ]
      }
     ],
     "prompt_number": 26
    },
    {
     "cell_type": "markdown",
     "metadata": {},
     "source": [
      "What's interesting is that you can move items to the index to get a different visual representation. Remove `Edition` from the columns and add to the index."
     ]
    },
    {
     "cell_type": "code",
     "collapsed": false,
     "input": [
      "pd.pivot_table(books, index=[\"Editor\", \"Author\", \"Edition\"], values=[\"Copies\", \"Price\"],\n",
      "               aggfunc={\"Copies\": np.sum, \"Price\": np.mean}, fill_value=0)"
     ],
     "language": "python",
     "metadata": {},
     "outputs": [
      {
       "html": [
        "<div style=\"max-height:1000px;max-width:1500px;overflow:auto;\">\n",
        "<table border=\"1\" class=\"dataframe\">\n",
        "  <thead>\n",
        "    <tr style=\"text-align: right;\">\n",
        "      <th></th>\n",
        "      <th></th>\n",
        "      <th></th>\n",
        "      <th>Copies</th>\n",
        "      <th>Price</th>\n",
        "    </tr>\n",
        "    <tr>\n",
        "      <th>Editor</th>\n",
        "      <th>Author</th>\n",
        "      <th>Edition</th>\n",
        "      <th></th>\n",
        "      <th></th>\n",
        "    </tr>\n",
        "  </thead>\n",
        "  <tbody>\n",
        "    <tr>\n",
        "      <th rowspan=\"7\" valign=\"top\">Debra Henley</th>\n",
        "      <th rowspan=\"3\" valign=\"top\">Craig Booker</th>\n",
        "      <th>Pocket</th>\n",
        "      <td> 200</td>\n",
        "      <td>  5.0</td>\n",
        "    </tr>\n",
        "    <tr>\n",
        "      <th>Premiun</th>\n",
        "      <td> 200</td>\n",
        "      <td> 32.5</td>\n",
        "    </tr>\n",
        "    <tr>\n",
        "      <th>Standard</th>\n",
        "      <td> 100</td>\n",
        "      <td> 10.0</td>\n",
        "    </tr>\n",
        "    <tr>\n",
        "      <th rowspan=\"2\" valign=\"top\">Daniel Hilton</th>\n",
        "      <th>Premiun</th>\n",
        "      <td> 400</td>\n",
        "      <td> 52.5</td>\n",
        "    </tr>\n",
        "    <tr>\n",
        "      <th>Standard</th>\n",
        "      <td> 100</td>\n",
        "      <td> 10.0</td>\n",
        "    </tr>\n",
        "    <tr>\n",
        "      <th rowspan=\"2\" valign=\"top\">John Smith</th>\n",
        "      <th>Pocket</th>\n",
        "      <td> 200</td>\n",
        "      <td>  5.0</td>\n",
        "    </tr>\n",
        "    <tr>\n",
        "      <th>Premiun</th>\n",
        "      <td> 100</td>\n",
        "      <td> 35.0</td>\n",
        "    </tr>\n",
        "    <tr>\n",
        "      <th rowspan=\"6\" valign=\"top\">Fred Anderson</th>\n",
        "      <th rowspan=\"3\" valign=\"top\">Cedric Moss</th>\n",
        "      <th>Pocket</th>\n",
        "      <td> 100</td>\n",
        "      <td>  5.0</td>\n",
        "    </tr>\n",
        "    <tr>\n",
        "      <th>Premiun</th>\n",
        "      <td> 300</td>\n",
        "      <td> 47.5</td>\n",
        "    </tr>\n",
        "    <tr>\n",
        "      <th>Standard</th>\n",
        "      <td> 100</td>\n",
        "      <td> 10.0</td>\n",
        "    </tr>\n",
        "    <tr>\n",
        "      <th rowspan=\"3\" valign=\"top\">Wendy Yule</th>\n",
        "      <th>Pocket</th>\n",
        "      <td> 300</td>\n",
        "      <td>  7.0</td>\n",
        "    </tr>\n",
        "    <tr>\n",
        "      <th>Premiun</th>\n",
        "      <td> 700</td>\n",
        "      <td> 82.5</td>\n",
        "    </tr>\n",
        "    <tr>\n",
        "      <th>Standard</th>\n",
        "      <td> 200</td>\n",
        "      <td>  5.0</td>\n",
        "    </tr>\n",
        "  </tbody>\n",
        "</table>\n",
        "</div>"
       ],
       "metadata": {},
       "output_type": "pyout",
       "prompt_number": 27,
       "text": [
        "                                      Copies  Price\n",
        "Editor        Author        Edition                \n",
        "Debra Henley  Craig Booker  Pocket       200    5.0\n",
        "                            Premiun      200   32.5\n",
        "                            Standard     100   10.0\n",
        "              Daniel Hilton Premiun      400   52.5\n",
        "                            Standard     100   10.0\n",
        "              John Smith    Pocket       200    5.0\n",
        "                            Premiun      100   35.0\n",
        "Fred Anderson Cedric Moss   Pocket       100    5.0\n",
        "                            Premiun      300   47.5\n",
        "                            Standard     100   10.0\n",
        "              Wendy Yule    Pocket       300    7.0\n",
        "                            Premiun      700   82.5\n",
        "                            Standard     200    5.0"
       ]
      }
     ],
     "prompt_number": 27
    },
    {
     "cell_type": "markdown",
     "metadata": {},
     "source": [
      "For this data set, this representation makes more sense. Now, what if I want to see some totals? `margins=True` does that for us. Also, a really handy feature is the ability to pass a dictionary to the aggfunc so you can perform different functions on each of the values you select. This has a side-effect of making the labels a little cleaner."
     ]
    },
    {
     "cell_type": "code",
     "collapsed": false,
     "input": [
      "pd.pivot_table(books, rows=[\"Editor\", \"Author\", \"Edition\"], values=[\"Copies\", \"Price\"],\n",
      "               aggfunc={\"Copies\": np.sum, \"Price\": np.mean}, fill_value=0, margins=True)"
     ],
     "language": "python",
     "metadata": {},
     "outputs": [
      {
       "html": [
        "<div style=\"max-height:1000px;max-width:1500px;overflow:auto;\">\n",
        "<table border=\"1\" class=\"dataframe\">\n",
        "  <thead>\n",
        "    <tr style=\"text-align: right;\">\n",
        "      <th></th>\n",
        "      <th></th>\n",
        "      <th></th>\n",
        "      <th>Copies</th>\n",
        "      <th>Price</th>\n",
        "    </tr>\n",
        "    <tr>\n",
        "      <th>Editor</th>\n",
        "      <th>Author</th>\n",
        "      <th>Edition</th>\n",
        "      <th></th>\n",
        "      <th></th>\n",
        "    </tr>\n",
        "  </thead>\n",
        "  <tbody>\n",
        "    <tr>\n",
        "      <th rowspan=\"7\" valign=\"top\">Debra Henley</th>\n",
        "      <th rowspan=\"3\" valign=\"top\">Craig Booker</th>\n",
        "      <th>Pocket</th>\n",
        "      <td>  200</td>\n",
        "      <td>  5.000000</td>\n",
        "    </tr>\n",
        "    <tr>\n",
        "      <th>Premiun</th>\n",
        "      <td>  200</td>\n",
        "      <td> 32.500000</td>\n",
        "    </tr>\n",
        "    <tr>\n",
        "      <th>Standard</th>\n",
        "      <td>  100</td>\n",
        "      <td> 10.000000</td>\n",
        "    </tr>\n",
        "    <tr>\n",
        "      <th rowspan=\"2\" valign=\"top\">Daniel Hilton</th>\n",
        "      <th>Premiun</th>\n",
        "      <td>  400</td>\n",
        "      <td> 52.500000</td>\n",
        "    </tr>\n",
        "    <tr>\n",
        "      <th>Standard</th>\n",
        "      <td>  100</td>\n",
        "      <td> 10.000000</td>\n",
        "    </tr>\n",
        "    <tr>\n",
        "      <th rowspan=\"2\" valign=\"top\">John Smith</th>\n",
        "      <th>Pocket</th>\n",
        "      <td>  200</td>\n",
        "      <td>  5.000000</td>\n",
        "    </tr>\n",
        "    <tr>\n",
        "      <th>Premiun</th>\n",
        "      <td>  100</td>\n",
        "      <td> 35.000000</td>\n",
        "    </tr>\n",
        "    <tr>\n",
        "      <th rowspan=\"6\" valign=\"top\">Fred Anderson</th>\n",
        "      <th rowspan=\"3\" valign=\"top\">Cedric Moss</th>\n",
        "      <th>Pocket</th>\n",
        "      <td>  100</td>\n",
        "      <td>  5.000000</td>\n",
        "    </tr>\n",
        "    <tr>\n",
        "      <th>Premiun</th>\n",
        "      <td>  300</td>\n",
        "      <td> 47.500000</td>\n",
        "    </tr>\n",
        "    <tr>\n",
        "      <th>Standard</th>\n",
        "      <td>  100</td>\n",
        "      <td> 10.000000</td>\n",
        "    </tr>\n",
        "    <tr>\n",
        "      <th rowspan=\"3\" valign=\"top\">Wendy Yule</th>\n",
        "      <th>Pocket</th>\n",
        "      <td>  300</td>\n",
        "      <td>  7.000000</td>\n",
        "    </tr>\n",
        "    <tr>\n",
        "      <th>Premiun</th>\n",
        "      <td>  700</td>\n",
        "      <td> 82.500000</td>\n",
        "    </tr>\n",
        "    <tr>\n",
        "      <th>Standard</th>\n",
        "      <td>  200</td>\n",
        "      <td>  5.000000</td>\n",
        "    </tr>\n",
        "    <tr>\n",
        "      <th>All</th>\n",
        "      <th></th>\n",
        "      <th></th>\n",
        "      <td> 3000</td>\n",
        "      <td> 30.705882</td>\n",
        "    </tr>\n",
        "  </tbody>\n",
        "</table>\n",
        "</div>"
       ],
       "metadata": {},
       "output_type": "pyout",
       "prompt_number": 29,
       "text": [
        "                                      Copies      Price\n",
        "Editor        Author        Edition                    \n",
        "Debra Henley  Craig Booker  Pocket       200   5.000000\n",
        "                            Premiun      200  32.500000\n",
        "                            Standard     100  10.000000\n",
        "              Daniel Hilton Premiun      400  52.500000\n",
        "                            Standard     100  10.000000\n",
        "              John Smith    Pocket       200   5.000000\n",
        "                            Premiun      100  35.000000\n",
        "Fred Anderson Cedric Moss   Pocket       100   5.000000\n",
        "                            Premiun      300  47.500000\n",
        "                            Standard     100  10.000000\n",
        "              Wendy Yule    Pocket       300   7.000000\n",
        "                            Premiun      700  82.500000\n",
        "                            Standard     200   5.000000\n",
        "All                                     3000  30.705882"
       ]
      }
     ],
     "prompt_number": 29
    },
    {
     "cell_type": "markdown",
     "metadata": {},
     "source": [
      "<div align=\"center\">\n",
      "<img src=\"images/aahwell.gif\" width=\"350\">\n",
      "*Eeeeeh, well...*\n",
      "</div>"
     ]
    },
    {
     "cell_type": "markdown",
     "metadata": {},
     "source": [
      "Let\u2019s move the analysis up a level and look at our pipeline at the editor level."
     ]
    },
    {
     "cell_type": "code",
     "collapsed": false,
     "input": [
      "pd.pivot_table(books, index=[\"Editor\", \"Status\"], values=[\"Copies\"],\n",
      "               aggfunc=[np.sum], fill_value=0, margins=True)"
     ],
     "language": "python",
     "metadata": {},
     "outputs": [
      {
       "html": [
        "<div style=\"max-height:1000px;max-width:1500px;overflow:auto;\">\n",
        "<table border=\"1\" class=\"dataframe\">\n",
        "  <thead>\n",
        "    <tr>\n",
        "      <th></th>\n",
        "      <th></th>\n",
        "      <th>sum</th>\n",
        "    </tr>\n",
        "    <tr>\n",
        "      <th></th>\n",
        "      <th></th>\n",
        "      <th>Copies</th>\n",
        "    </tr>\n",
        "    <tr>\n",
        "      <th>Editor</th>\n",
        "      <th>Status</th>\n",
        "      <th></th>\n",
        "    </tr>\n",
        "  </thead>\n",
        "  <tbody>\n",
        "    <tr>\n",
        "      <th rowspan=\"4\" valign=\"top\">Debra Henley</th>\n",
        "      <th>In-print</th>\n",
        "      <td>  300</td>\n",
        "    </tr>\n",
        "    <tr>\n",
        "      <th>pending</th>\n",
        "      <td>  600</td>\n",
        "    </tr>\n",
        "    <tr>\n",
        "      <th>published</th>\n",
        "      <td>  200</td>\n",
        "    </tr>\n",
        "    <tr>\n",
        "      <th>rejected</th>\n",
        "      <td>  200</td>\n",
        "    </tr>\n",
        "    <tr>\n",
        "      <th rowspan=\"4\" valign=\"top\">Fred Anderson</th>\n",
        "      <th>In-print</th>\n",
        "      <td>  400</td>\n",
        "    </tr>\n",
        "    <tr>\n",
        "      <th>pending</th>\n",
        "      <td>  100</td>\n",
        "    </tr>\n",
        "    <tr>\n",
        "      <th>published</th>\n",
        "      <td> 1000</td>\n",
        "    </tr>\n",
        "    <tr>\n",
        "      <th>rejected</th>\n",
        "      <td>  200</td>\n",
        "    </tr>\n",
        "    <tr>\n",
        "      <th>All</th>\n",
        "      <th></th>\n",
        "      <td> 3000</td>\n",
        "    </tr>\n",
        "  </tbody>\n",
        "</table>\n",
        "</div>"
       ],
       "metadata": {},
       "output_type": "pyout",
       "prompt_number": 30,
       "text": [
        "                           sum\n",
        "                        Copies\n",
        "Editor        Status          \n",
        "Debra Henley  In-print     300\n",
        "              pending      600\n",
        "              published    200\n",
        "              rejected     200\n",
        "Fred Anderson In-print     400\n",
        "              pending      100\n",
        "              published   1000\n",
        "              rejected     200\n",
        "All                       3000"
       ]
      }
     ],
     "prompt_number": 30
    },
    {
     "cell_type": "markdown",
     "metadata": {},
     "source": [
      "You can provide a list of aggfunctions to apply to each value too:"
     ]
    },
    {
     "cell_type": "code",
     "collapsed": false,
     "input": [
      "table = pd.pivot_table(books, index=[\"Editor\", \"Status\"], columns=[\"Edition\"], values=[\"Copies\", \"Price\"],\n",
      "               aggfunc={\"Copies\": np.sum, \"Price\":[np.sum, np.mean]}, fill_value=0)\n",
      "table"
     ],
     "language": "python",
     "metadata": {},
     "outputs": [
      {
       "html": [
        "<div style=\"max-height:1000px;max-width:1500px;overflow:auto;\">\n",
        "<table border=\"1\" class=\"dataframe\">\n",
        "  <thead>\n",
        "    <tr>\n",
        "      <th></th>\n",
        "      <th></th>\n",
        "      <th colspan=\"3\" halign=\"left\">Copies</th>\n",
        "      <th colspan=\"6\" halign=\"left\">Price</th>\n",
        "    </tr>\n",
        "    <tr>\n",
        "      <th></th>\n",
        "      <th></th>\n",
        "      <th colspan=\"3\" halign=\"left\">sum</th>\n",
        "      <th colspan=\"3\" halign=\"left\">mean</th>\n",
        "      <th colspan=\"3\" halign=\"left\">sum</th>\n",
        "    </tr>\n",
        "    <tr>\n",
        "      <th></th>\n",
        "      <th>Edition</th>\n",
        "      <th>Pocket</th>\n",
        "      <th>Premiun</th>\n",
        "      <th>Standard</th>\n",
        "      <th>Pocket</th>\n",
        "      <th>Premiun</th>\n",
        "      <th>Standard</th>\n",
        "      <th>Pocket</th>\n",
        "      <th>Premiun</th>\n",
        "      <th>Standard</th>\n",
        "    </tr>\n",
        "    <tr>\n",
        "      <th>Editor</th>\n",
        "      <th>Status</th>\n",
        "      <th></th>\n",
        "      <th></th>\n",
        "      <th></th>\n",
        "      <th></th>\n",
        "      <th></th>\n",
        "      <th></th>\n",
        "      <th></th>\n",
        "      <th></th>\n",
        "      <th></th>\n",
        "    </tr>\n",
        "  </thead>\n",
        "  <tbody>\n",
        "    <tr>\n",
        "      <th rowspan=\"4\" valign=\"top\">Debra Henley</th>\n",
        "      <th>In-print</th>\n",
        "      <td>   0</td>\n",
        "      <td> 100</td>\n",
        "      <td> 200</td>\n",
        "      <td> 0</td>\n",
        "      <td> 30.0</td>\n",
        "      <td> 10.0</td>\n",
        "      <td>  0</td>\n",
        "      <td>  30</td>\n",
        "      <td> 20</td>\n",
        "    </tr>\n",
        "    <tr>\n",
        "      <th>pending</th>\n",
        "      <td> 400</td>\n",
        "      <td> 200</td>\n",
        "      <td>   0</td>\n",
        "      <td> 5</td>\n",
        "      <td> 40.0</td>\n",
        "      <td>  0.0</td>\n",
        "      <td> 10</td>\n",
        "      <td>  40</td>\n",
        "      <td>  0</td>\n",
        "    </tr>\n",
        "    <tr>\n",
        "      <th>published</th>\n",
        "      <td>   0</td>\n",
        "      <td> 200</td>\n",
        "      <td>   0</td>\n",
        "      <td> 0</td>\n",
        "      <td> 65.0</td>\n",
        "      <td>  0.0</td>\n",
        "      <td>  0</td>\n",
        "      <td>  65</td>\n",
        "      <td>  0</td>\n",
        "    </tr>\n",
        "    <tr>\n",
        "      <th>rejected</th>\n",
        "      <td>   0</td>\n",
        "      <td> 200</td>\n",
        "      <td>   0</td>\n",
        "      <td> 0</td>\n",
        "      <td> 35.0</td>\n",
        "      <td>  0.0</td>\n",
        "      <td>  0</td>\n",
        "      <td>  70</td>\n",
        "      <td>  0</td>\n",
        "    </tr>\n",
        "    <tr>\n",
        "      <th rowspan=\"4\" valign=\"top\">Fred Anderson</th>\n",
        "      <th>In-print</th>\n",
        "      <td>   0</td>\n",
        "      <td> 100</td>\n",
        "      <td> 300</td>\n",
        "      <td> 0</td>\n",
        "      <td> 30.0</td>\n",
        "      <td>  7.5</td>\n",
        "      <td>  0</td>\n",
        "      <td>  30</td>\n",
        "      <td> 15</td>\n",
        "    </tr>\n",
        "    <tr>\n",
        "      <th>pending</th>\n",
        "      <td> 100</td>\n",
        "      <td>   0</td>\n",
        "      <td>   0</td>\n",
        "      <td> 5</td>\n",
        "      <td>  0.0</td>\n",
        "      <td>  0.0</td>\n",
        "      <td>  5</td>\n",
        "      <td>   0</td>\n",
        "      <td>  0</td>\n",
        "    </tr>\n",
        "    <tr>\n",
        "      <th>published</th>\n",
        "      <td> 300</td>\n",
        "      <td> 700</td>\n",
        "      <td>   0</td>\n",
        "      <td> 7</td>\n",
        "      <td> 82.5</td>\n",
        "      <td>  0.0</td>\n",
        "      <td>  7</td>\n",
        "      <td> 165</td>\n",
        "      <td>  0</td>\n",
        "    </tr>\n",
        "    <tr>\n",
        "      <th>rejected</th>\n",
        "      <td>   0</td>\n",
        "      <td> 200</td>\n",
        "      <td>   0</td>\n",
        "      <td> 0</td>\n",
        "      <td> 65.0</td>\n",
        "      <td>  0.0</td>\n",
        "      <td>  0</td>\n",
        "      <td>  65</td>\n",
        "      <td>  0</td>\n",
        "    </tr>\n",
        "  </tbody>\n",
        "</table>\n",
        "</div>"
       ],
       "metadata": {},
       "output_type": "pyout",
       "prompt_number": 31,
       "text": [
        "                        Copies                   Price                   \\\n",
        "                           sum                    mean                    \n",
        "Edition                 Pocket Premiun Standard Pocket Premiun Standard   \n",
        "Editor        Status                                                      \n",
        "Debra Henley  In-print       0     100      200      0    30.0     10.0   \n",
        "              pending      400     200        0      5    40.0      0.0   \n",
        "              published      0     200        0      0    65.0      0.0   \n",
        "              rejected       0     200        0      0    35.0      0.0   \n",
        "Fred Anderson In-print       0     100      300      0    30.0      7.5   \n",
        "              pending      100       0        0      5     0.0      0.0   \n",
        "              published    300     700        0      7    82.5      0.0   \n",
        "              rejected       0     200        0      0    65.0      0.0   \n",
        "\n",
        "                                                 \n",
        "                           sum                   \n",
        "Edition                 Pocket Premiun Standard  \n",
        "Editor        Status                             \n",
        "Debra Henley  In-print       0      30       20  \n",
        "              pending       10      40        0  \n",
        "              published      0      65        0  \n",
        "              rejected       0      70        0  \n",
        "Fred Anderson In-print       0      30       15  \n",
        "              pending        5       0        0  \n",
        "              published      7     165        0  \n",
        "              rejected       0      65        0  "
       ]
      }
     ],
     "prompt_number": 31
    },
    {
     "cell_type": "markdown",
     "metadata": {},
     "source": [
      "It can look daunting to try to pull this all together at one time but as soon as you start playing with the data and slowly add the items, you can get a feel for how it works. As a general rule of thumb is, once you use multiple `grouby()` you should evaluate whether a pivot table is a useful approach."
     ]
    },
    {
     "cell_type": "heading",
     "level": 4,
     "metadata": {},
     "source": [
      "Advanced Pivot Table Filtering"
     ]
    },
    {
     "cell_type": "markdown",
     "metadata": {},
     "source": [
      "Once you have generated your data, it is in a `DataFrame` so you can filter on it using your standard `DataFrame` functions.\n",
      "\n",
      "If you want to look at just one editor:"
     ]
    },
    {
     "cell_type": "code",
     "collapsed": false,
     "input": [
      "table.query('Editor == [\"Debra Henley\"]')  # you might nedd to pip install numexpr"
     ],
     "language": "python",
     "metadata": {},
     "outputs": [
      {
       "html": [
        "<div style=\"max-height:1000px;max-width:1500px;overflow:auto;\">\n",
        "<table border=\"1\" class=\"dataframe\">\n",
        "  <thead>\n",
        "    <tr>\n",
        "      <th></th>\n",
        "      <th></th>\n",
        "      <th colspan=\"3\" halign=\"left\">Copies</th>\n",
        "      <th colspan=\"6\" halign=\"left\">Price</th>\n",
        "    </tr>\n",
        "    <tr>\n",
        "      <th></th>\n",
        "      <th></th>\n",
        "      <th colspan=\"3\" halign=\"left\">sum</th>\n",
        "      <th colspan=\"3\" halign=\"left\">mean</th>\n",
        "      <th colspan=\"3\" halign=\"left\">sum</th>\n",
        "    </tr>\n",
        "    <tr>\n",
        "      <th></th>\n",
        "      <th>Edition</th>\n",
        "      <th>Pocket</th>\n",
        "      <th>Premiun</th>\n",
        "      <th>Standard</th>\n",
        "      <th>Pocket</th>\n",
        "      <th>Premiun</th>\n",
        "      <th>Standard</th>\n",
        "      <th>Pocket</th>\n",
        "      <th>Premiun</th>\n",
        "      <th>Standard</th>\n",
        "    </tr>\n",
        "    <tr>\n",
        "      <th>Editor</th>\n",
        "      <th>Status</th>\n",
        "      <th></th>\n",
        "      <th></th>\n",
        "      <th></th>\n",
        "      <th></th>\n",
        "      <th></th>\n",
        "      <th></th>\n",
        "      <th></th>\n",
        "      <th></th>\n",
        "      <th></th>\n",
        "    </tr>\n",
        "  </thead>\n",
        "  <tbody>\n",
        "    <tr>\n",
        "      <th rowspan=\"4\" valign=\"top\">Debra Henley</th>\n",
        "      <th>In-print</th>\n",
        "      <td>   0</td>\n",
        "      <td> 100</td>\n",
        "      <td> 200</td>\n",
        "      <td> 0</td>\n",
        "      <td> 30</td>\n",
        "      <td> 10</td>\n",
        "      <td>  0</td>\n",
        "      <td> 30</td>\n",
        "      <td> 20</td>\n",
        "    </tr>\n",
        "    <tr>\n",
        "      <th>pending</th>\n",
        "      <td> 400</td>\n",
        "      <td> 200</td>\n",
        "      <td>   0</td>\n",
        "      <td> 5</td>\n",
        "      <td> 40</td>\n",
        "      <td>  0</td>\n",
        "      <td> 10</td>\n",
        "      <td> 40</td>\n",
        "      <td>  0</td>\n",
        "    </tr>\n",
        "    <tr>\n",
        "      <th>published</th>\n",
        "      <td>   0</td>\n",
        "      <td> 200</td>\n",
        "      <td>   0</td>\n",
        "      <td> 0</td>\n",
        "      <td> 65</td>\n",
        "      <td>  0</td>\n",
        "      <td>  0</td>\n",
        "      <td> 65</td>\n",
        "      <td>  0</td>\n",
        "    </tr>\n",
        "    <tr>\n",
        "      <th>rejected</th>\n",
        "      <td>   0</td>\n",
        "      <td> 200</td>\n",
        "      <td>   0</td>\n",
        "      <td> 0</td>\n",
        "      <td> 35</td>\n",
        "      <td>  0</td>\n",
        "      <td>  0</td>\n",
        "      <td> 70</td>\n",
        "      <td>  0</td>\n",
        "    </tr>\n",
        "  </tbody>\n",
        "</table>\n",
        "</div>"
       ],
       "metadata": {},
       "output_type": "pyout",
       "prompt_number": 32,
       "text": [
        "                       Copies                   Price                          \\\n",
        "                          sum                    mean                     sum   \n",
        "Edition                Pocket Premiun Standard Pocket Premiun Standard Pocket   \n",
        "Editor       Status                                                             \n",
        "Debra Henley In-print       0     100      200      0      30       10      0   \n",
        "             pending      400     200        0      5      40        0     10   \n",
        "             published      0     200        0      0      65        0      0   \n",
        "             rejected       0     200        0      0      35        0      0   \n",
        "\n",
        "                                         \n",
        "                                         \n",
        "Edition                Premiun Standard  \n",
        "Editor       Status                      \n",
        "Debra Henley In-print       30       20  \n",
        "             pending        40        0  \n",
        "             published      65        0  \n",
        "             rejected       70        0  "
       ]
      }
     ],
     "prompt_number": 32
    },
    {
     "cell_type": "markdown",
     "metadata": {},
     "source": [
      "We can look at all of our pending and in-print books."
     ]
    },
    {
     "cell_type": "code",
     "collapsed": false,
     "input": [
      "table.query('Status == [\"pending\", \"in-print\"]')"
     ],
     "language": "python",
     "metadata": {},
     "outputs": [
      {
       "html": [
        "<div style=\"max-height:1000px;max-width:1500px;overflow:auto;\">\n",
        "<table border=\"1\" class=\"dataframe\">\n",
        "  <thead>\n",
        "    <tr>\n",
        "      <th></th>\n",
        "      <th></th>\n",
        "      <th colspan=\"3\" halign=\"left\">Copies</th>\n",
        "      <th colspan=\"6\" halign=\"left\">Price</th>\n",
        "    </tr>\n",
        "    <tr>\n",
        "      <th></th>\n",
        "      <th></th>\n",
        "      <th colspan=\"3\" halign=\"left\">sum</th>\n",
        "      <th colspan=\"3\" halign=\"left\">mean</th>\n",
        "      <th colspan=\"3\" halign=\"left\">sum</th>\n",
        "    </tr>\n",
        "    <tr>\n",
        "      <th></th>\n",
        "      <th>Edition</th>\n",
        "      <th>Pocket</th>\n",
        "      <th>Premiun</th>\n",
        "      <th>Standard</th>\n",
        "      <th>Pocket</th>\n",
        "      <th>Premiun</th>\n",
        "      <th>Standard</th>\n",
        "      <th>Pocket</th>\n",
        "      <th>Premiun</th>\n",
        "      <th>Standard</th>\n",
        "    </tr>\n",
        "    <tr>\n",
        "      <th>Editor</th>\n",
        "      <th>Status</th>\n",
        "      <th></th>\n",
        "      <th></th>\n",
        "      <th></th>\n",
        "      <th></th>\n",
        "      <th></th>\n",
        "      <th></th>\n",
        "      <th></th>\n",
        "      <th></th>\n",
        "      <th></th>\n",
        "    </tr>\n",
        "  </thead>\n",
        "  <tbody>\n",
        "    <tr>\n",
        "      <th>Debra Henley</th>\n",
        "      <th>pending</th>\n",
        "      <td> 400</td>\n",
        "      <td> 200</td>\n",
        "      <td> 0</td>\n",
        "      <td> 5</td>\n",
        "      <td> 40</td>\n",
        "      <td> 0</td>\n",
        "      <td> 10</td>\n",
        "      <td> 40</td>\n",
        "      <td> 0</td>\n",
        "    </tr>\n",
        "    <tr>\n",
        "      <th>Fred Anderson</th>\n",
        "      <th>pending</th>\n",
        "      <td> 100</td>\n",
        "      <td>   0</td>\n",
        "      <td> 0</td>\n",
        "      <td> 5</td>\n",
        "      <td>  0</td>\n",
        "      <td> 0</td>\n",
        "      <td>  5</td>\n",
        "      <td>  0</td>\n",
        "      <td> 0</td>\n",
        "    </tr>\n",
        "  </tbody>\n",
        "</table>\n",
        "</div>"
       ],
       "metadata": {},
       "output_type": "pyout",
       "prompt_number": 33,
       "text": [
        "                      Copies                   Price                          \\\n",
        "                         sum                    mean                     sum   \n",
        "Edition               Pocket Premiun Standard Pocket Premiun Standard Pocket   \n",
        "Editor        Status                                                           \n",
        "Debra Henley  pending    400     200        0      5      40        0     10   \n",
        "Fred Anderson pending    100       0        0      5       0        0      5   \n",
        "\n",
        "                                        \n",
        "                                        \n",
        "Edition               Premiun Standard  \n",
        "Editor        Status                    \n",
        "Debra Henley  pending      40        0  \n",
        "Fred Anderson pending       0        0  "
       ]
      }
     ],
     "prompt_number": 33
    },
    {
     "cell_type": "markdown",
     "metadata": {},
     "source": [
      "This a poweful feature of the pivot_table so do not forget that you have the full power of pandas once you get your data into the `pivot_table` format you need."
     ]
    },
    {
     "cell_type": "heading",
     "level": 2,
     "metadata": {},
     "source": [
      "Cross-tabulation"
     ]
    },
    {
     "cell_type": "markdown",
     "metadata": {},
     "source": [
      "Some times, the only operation you want to do in a pivot talbe is to count. In those cases, when frequency tables with multi indices are required, a crosstabulated version of the data might come in handy. In Pandas, that kind of tables have their own function, so you don-t have to call pivot table with all the parameters."
     ]
    },
    {
     "cell_type": "code",
     "collapsed": false,
     "input": [
      "df = pd.DataFrame({'a' : np.random.randint(0, 2, size=20),\n",
      "                   'b' : np.random.randint(0, 5, size=20),\n",
      "                   'c' : np.random.randint(0, 3, size=20)})\n",
      " \n",
      "df"
     ],
     "language": "python",
     "metadata": {},
     "outputs": [
      {
       "html": [
        "<div style=\"max-height:1000px;max-width:1500px;overflow:auto;\">\n",
        "<table border=\"1\" class=\"dataframe\">\n",
        "  <thead>\n",
        "    <tr style=\"text-align: right;\">\n",
        "      <th></th>\n",
        "      <th>a</th>\n",
        "      <th>b</th>\n",
        "      <th>c</th>\n",
        "    </tr>\n",
        "  </thead>\n",
        "  <tbody>\n",
        "    <tr>\n",
        "      <th>0 </th>\n",
        "      <td> 1</td>\n",
        "      <td> 2</td>\n",
        "      <td> 0</td>\n",
        "    </tr>\n",
        "    <tr>\n",
        "      <th>1 </th>\n",
        "      <td> 0</td>\n",
        "      <td> 4</td>\n",
        "      <td> 2</td>\n",
        "    </tr>\n",
        "    <tr>\n",
        "      <th>2 </th>\n",
        "      <td> 0</td>\n",
        "      <td> 1</td>\n",
        "      <td> 1</td>\n",
        "    </tr>\n",
        "    <tr>\n",
        "      <th>3 </th>\n",
        "      <td> 1</td>\n",
        "      <td> 0</td>\n",
        "      <td> 2</td>\n",
        "    </tr>\n",
        "    <tr>\n",
        "      <th>4 </th>\n",
        "      <td> 0</td>\n",
        "      <td> 3</td>\n",
        "      <td> 2</td>\n",
        "    </tr>\n",
        "    <tr>\n",
        "      <th>5 </th>\n",
        "      <td> 0</td>\n",
        "      <td> 0</td>\n",
        "      <td> 0</td>\n",
        "    </tr>\n",
        "    <tr>\n",
        "      <th>6 </th>\n",
        "      <td> 0</td>\n",
        "      <td> 3</td>\n",
        "      <td> 0</td>\n",
        "    </tr>\n",
        "    <tr>\n",
        "      <th>7 </th>\n",
        "      <td> 1</td>\n",
        "      <td> 2</td>\n",
        "      <td> 2</td>\n",
        "    </tr>\n",
        "    <tr>\n",
        "      <th>8 </th>\n",
        "      <td> 0</td>\n",
        "      <td> 1</td>\n",
        "      <td> 2</td>\n",
        "    </tr>\n",
        "    <tr>\n",
        "      <th>9 </th>\n",
        "      <td> 1</td>\n",
        "      <td> 4</td>\n",
        "      <td> 0</td>\n",
        "    </tr>\n",
        "    <tr>\n",
        "      <th>10</th>\n",
        "      <td> 1</td>\n",
        "      <td> 3</td>\n",
        "      <td> 1</td>\n",
        "    </tr>\n",
        "    <tr>\n",
        "      <th>11</th>\n",
        "      <td> 1</td>\n",
        "      <td> 0</td>\n",
        "      <td> 1</td>\n",
        "    </tr>\n",
        "    <tr>\n",
        "      <th>12</th>\n",
        "      <td> 0</td>\n",
        "      <td> 3</td>\n",
        "      <td> 0</td>\n",
        "    </tr>\n",
        "    <tr>\n",
        "      <th>13</th>\n",
        "      <td> 0</td>\n",
        "      <td> 4</td>\n",
        "      <td> 2</td>\n",
        "    </tr>\n",
        "    <tr>\n",
        "      <th>14</th>\n",
        "      <td> 1</td>\n",
        "      <td> 2</td>\n",
        "      <td> 2</td>\n",
        "    </tr>\n",
        "    <tr>\n",
        "      <th>15</th>\n",
        "      <td> 0</td>\n",
        "      <td> 3</td>\n",
        "      <td> 0</td>\n",
        "    </tr>\n",
        "    <tr>\n",
        "      <th>16</th>\n",
        "      <td> 0</td>\n",
        "      <td> 1</td>\n",
        "      <td> 1</td>\n",
        "    </tr>\n",
        "    <tr>\n",
        "      <th>17</th>\n",
        "      <td> 0</td>\n",
        "      <td> 4</td>\n",
        "      <td> 0</td>\n",
        "    </tr>\n",
        "    <tr>\n",
        "      <th>18</th>\n",
        "      <td> 0</td>\n",
        "      <td> 1</td>\n",
        "      <td> 2</td>\n",
        "    </tr>\n",
        "    <tr>\n",
        "      <th>19</th>\n",
        "      <td> 1</td>\n",
        "      <td> 4</td>\n",
        "      <td> 0</td>\n",
        "    </tr>\n",
        "  </tbody>\n",
        "</table>\n",
        "</div>"
       ],
       "metadata": {},
       "output_type": "pyout",
       "prompt_number": 34,
       "text": [
        "    a  b  c\n",
        "0   1  2  0\n",
        "1   0  4  2\n",
        "2   0  1  1\n",
        "3   1  0  2\n",
        "4   0  3  2\n",
        "5   0  0  0\n",
        "6   0  3  0\n",
        "7   1  2  2\n",
        "8   0  1  2\n",
        "9   1  4  0\n",
        "10  1  3  1\n",
        "11  1  0  1\n",
        "12  0  3  0\n",
        "13  0  4  2\n",
        "14  1  2  2\n",
        "15  0  3  0\n",
        "16  0  1  1\n",
        "17  0  4  0\n",
        "18  0  1  2\n",
        "19  1  4  0"
       ]
      }
     ],
     "prompt_number": 34
    },
    {
     "cell_type": "code",
     "collapsed": false,
     "input": [
      "pd.crosstab(df['b'], [df['a'], df['c']])"
     ],
     "language": "python",
     "metadata": {},
     "outputs": [
      {
       "html": [
        "<div style=\"max-height:1000px;max-width:1500px;overflow:auto;\">\n",
        "<table border=\"1\" class=\"dataframe\">\n",
        "  <thead>\n",
        "    <tr>\n",
        "      <th>a</th>\n",
        "      <th colspan=\"3\" halign=\"left\">0</th>\n",
        "      <th colspan=\"3\" halign=\"left\">1</th>\n",
        "    </tr>\n",
        "    <tr>\n",
        "      <th>c</th>\n",
        "      <th>0</th>\n",
        "      <th>1</th>\n",
        "      <th>2</th>\n",
        "      <th>0</th>\n",
        "      <th>1</th>\n",
        "      <th>2</th>\n",
        "    </tr>\n",
        "    <tr>\n",
        "      <th>b</th>\n",
        "      <th></th>\n",
        "      <th></th>\n",
        "      <th></th>\n",
        "      <th></th>\n",
        "      <th></th>\n",
        "      <th></th>\n",
        "    </tr>\n",
        "  </thead>\n",
        "  <tbody>\n",
        "    <tr>\n",
        "      <th>0</th>\n",
        "      <td> 1</td>\n",
        "      <td> 0</td>\n",
        "      <td> 0</td>\n",
        "      <td> 0</td>\n",
        "      <td> 1</td>\n",
        "      <td> 1</td>\n",
        "    </tr>\n",
        "    <tr>\n",
        "      <th>1</th>\n",
        "      <td> 0</td>\n",
        "      <td> 2</td>\n",
        "      <td> 2</td>\n",
        "      <td> 0</td>\n",
        "      <td> 0</td>\n",
        "      <td> 0</td>\n",
        "    </tr>\n",
        "    <tr>\n",
        "      <th>2</th>\n",
        "      <td> 0</td>\n",
        "      <td> 0</td>\n",
        "      <td> 0</td>\n",
        "      <td> 1</td>\n",
        "      <td> 0</td>\n",
        "      <td> 2</td>\n",
        "    </tr>\n",
        "    <tr>\n",
        "      <th>3</th>\n",
        "      <td> 3</td>\n",
        "      <td> 0</td>\n",
        "      <td> 1</td>\n",
        "      <td> 0</td>\n",
        "      <td> 1</td>\n",
        "      <td> 0</td>\n",
        "    </tr>\n",
        "    <tr>\n",
        "      <th>4</th>\n",
        "      <td> 1</td>\n",
        "      <td> 0</td>\n",
        "      <td> 2</td>\n",
        "      <td> 2</td>\n",
        "      <td> 0</td>\n",
        "      <td> 0</td>\n",
        "    </tr>\n",
        "  </tbody>\n",
        "</table>\n",
        "</div>"
       ],
       "metadata": {},
       "output_type": "pyout",
       "prompt_number": 35,
       "text": [
        "a  0        1      \n",
        "c  0  1  2  0  1  2\n",
        "b                  \n",
        "0  1  0  0  0  1  1\n",
        "1  0  2  2  0  0  0\n",
        "2  0  0  0  1  0  2\n",
        "3  3  0  1  0  1  0\n",
        "4  1  0  2  2  0  0"
       ]
      }
     ],
     "prompt_number": 35
    },
    {
     "cell_type": "markdown",
     "metadata": {},
     "source": [
      "<div style=\"font-size: 1em; margin: 1em 0 1em 0; border: 1px solid #86989B; background-color: #f7f7f7; padding: 0;\">\n",
      "<p style=\"margin: 0; padding: 0.1em 0 0.1em 0.5em; color: white; border-bottom: 1px solid #86989B; font-weight: bold; background-color: #AFC1C4;\">\n",
      "Activity\n",
      "</p>\n",
      "<p style=\"margin: 0.5em 1em 0.5em 1em; padding: 0;\">\n",
      "Given the `arts` data frame, create a pivot table by spliting the table into categories per year, and counting the number of artworks for each. Add marginal results and fill the `NaN` values.\n",
      "<!-- <small style=\"float: right; position: relative;\">[Solution](data/solution.py)</small> -->\n",
      "</p>\n",
      "</div>"
     ]
    },
    {
     "cell_type": "code",
     "collapsed": false,
     "input": [
      "pd.pivot_table(arts, index=[], columns=[],\n",
      "               values=[], aggfunc={}, )"
     ],
     "language": "python",
     "metadata": {},
     "outputs": [
      {
       "html": [
        "<div style=\"max-height:1000px;max-width:1500px;overflow:auto;\">\n",
        "<table border=\"1\" class=\"dataframe\">\n",
        "  <thead>\n",
        "    <tr>\n",
        "      <th></th>\n",
        "      <th colspan=\"9\" halign=\"left\">title</th>\n",
        "    </tr>\n",
        "    <tr>\n",
        "      <th>category</th>\n",
        "      <th>Fibre</th>\n",
        "      <th>Installation</th>\n",
        "      <th>Media</th>\n",
        "      <th>Other</th>\n",
        "      <th>Painting</th>\n",
        "      <th>Photograph</th>\n",
        "      <th>Sculpture</th>\n",
        "      <th>Work on paper</th>\n",
        "      <th>All</th>\n",
        "    </tr>\n",
        "    <tr>\n",
        "      <th>execution_date</th>\n",
        "      <th></th>\n",
        "      <th></th>\n",
        "      <th></th>\n",
        "      <th></th>\n",
        "      <th></th>\n",
        "      <th></th>\n",
        "      <th></th>\n",
        "      <th></th>\n",
        "      <th></th>\n",
        "    </tr>\n",
        "  </thead>\n",
        "  <tbody>\n",
        "    <tr>\n",
        "      <th>1940.0</th>\n",
        "      <td>   0</td>\n",
        "      <td>  0</td>\n",
        "      <td>  0</td>\n",
        "      <td>   0</td>\n",
        "      <td>    0</td>\n",
        "      <td>    0</td>\n",
        "      <td>   0</td>\n",
        "      <td>     1</td>\n",
        "      <td>     1</td>\n",
        "    </tr>\n",
        "    <tr>\n",
        "      <th>1943.0</th>\n",
        "      <td>   0</td>\n",
        "      <td>  0</td>\n",
        "      <td>  0</td>\n",
        "      <td>   0</td>\n",
        "      <td>    1</td>\n",
        "      <td>    0</td>\n",
        "      <td>   0</td>\n",
        "      <td>     0</td>\n",
        "      <td>     1</td>\n",
        "    </tr>\n",
        "    <tr>\n",
        "      <th>1945.0</th>\n",
        "      <td>   0</td>\n",
        "      <td>  0</td>\n",
        "      <td>  0</td>\n",
        "      <td>   0</td>\n",
        "      <td>    0</td>\n",
        "      <td>    0</td>\n",
        "      <td>   0</td>\n",
        "      <td>     1</td>\n",
        "      <td>     1</td>\n",
        "    </tr>\n",
        "    <tr>\n",
        "      <th>1948.0</th>\n",
        "      <td>   0</td>\n",
        "      <td>  0</td>\n",
        "      <td>  0</td>\n",
        "      <td>   0</td>\n",
        "      <td>    0</td>\n",
        "      <td>    0</td>\n",
        "      <td>   0</td>\n",
        "      <td>     2</td>\n",
        "      <td>     2</td>\n",
        "    </tr>\n",
        "    <tr>\n",
        "      <th>1949.0</th>\n",
        "      <td>   0</td>\n",
        "      <td>  0</td>\n",
        "      <td>  0</td>\n",
        "      <td>   0</td>\n",
        "      <td>    0</td>\n",
        "      <td>    1</td>\n",
        "      <td>   0</td>\n",
        "      <td>     0</td>\n",
        "      <td>     1</td>\n",
        "    </tr>\n",
        "    <tr>\n",
        "      <th>1950.0</th>\n",
        "      <td>   0</td>\n",
        "      <td>  0</td>\n",
        "      <td>  0</td>\n",
        "      <td>   0</td>\n",
        "      <td>    0</td>\n",
        "      <td>    0</td>\n",
        "      <td>   0</td>\n",
        "      <td>     1</td>\n",
        "      <td>     1</td>\n",
        "    </tr>\n",
        "    <tr>\n",
        "      <th>1951.0</th>\n",
        "      <td>   0</td>\n",
        "      <td>  0</td>\n",
        "      <td>  0</td>\n",
        "      <td>   0</td>\n",
        "      <td>    1</td>\n",
        "      <td>    1</td>\n",
        "      <td>   0</td>\n",
        "      <td>     0</td>\n",
        "      <td>     2</td>\n",
        "    </tr>\n",
        "    <tr>\n",
        "      <th>1952.0</th>\n",
        "      <td>   0</td>\n",
        "      <td>  0</td>\n",
        "      <td>  0</td>\n",
        "      <td>   0</td>\n",
        "      <td>    0</td>\n",
        "      <td>    1</td>\n",
        "      <td>   0</td>\n",
        "      <td>     0</td>\n",
        "      <td>     1</td>\n",
        "    </tr>\n",
        "    <tr>\n",
        "      <th>1953.0</th>\n",
        "      <td>   0</td>\n",
        "      <td>  0</td>\n",
        "      <td>  0</td>\n",
        "      <td>   0</td>\n",
        "      <td>    1</td>\n",
        "      <td>    0</td>\n",
        "      <td>   0</td>\n",
        "      <td>     0</td>\n",
        "      <td>     1</td>\n",
        "    </tr>\n",
        "    <tr>\n",
        "      <th>1954.0</th>\n",
        "      <td>   0</td>\n",
        "      <td>  0</td>\n",
        "      <td>  0</td>\n",
        "      <td>   0</td>\n",
        "      <td>    2</td>\n",
        "      <td>    1</td>\n",
        "      <td>   0</td>\n",
        "      <td>     3</td>\n",
        "      <td>     6</td>\n",
        "    </tr>\n",
        "    <tr>\n",
        "      <th>1955.0</th>\n",
        "      <td>   0</td>\n",
        "      <td>  0</td>\n",
        "      <td>  0</td>\n",
        "      <td>   0</td>\n",
        "      <td>    1</td>\n",
        "      <td>    3</td>\n",
        "      <td>   0</td>\n",
        "      <td>     6</td>\n",
        "      <td>    10</td>\n",
        "    </tr>\n",
        "    <tr>\n",
        "      <th>1956.0</th>\n",
        "      <td>   0</td>\n",
        "      <td>  0</td>\n",
        "      <td>  0</td>\n",
        "      <td>   0</td>\n",
        "      <td>    2</td>\n",
        "      <td>    3</td>\n",
        "      <td>   0</td>\n",
        "      <td>     2</td>\n",
        "      <td>     7</td>\n",
        "    </tr>\n",
        "    <tr>\n",
        "      <th>1957.0</th>\n",
        "      <td>   0</td>\n",
        "      <td>  0</td>\n",
        "      <td>  0</td>\n",
        "      <td>   0</td>\n",
        "      <td>    0</td>\n",
        "      <td>    0</td>\n",
        "      <td>   0</td>\n",
        "      <td>     5</td>\n",
        "      <td>     5</td>\n",
        "    </tr>\n",
        "    <tr>\n",
        "      <th>1958.0</th>\n",
        "      <td>   0</td>\n",
        "      <td>  0</td>\n",
        "      <td>  0</td>\n",
        "      <td>   0</td>\n",
        "      <td>    4</td>\n",
        "      <td>    4</td>\n",
        "      <td>   0</td>\n",
        "      <td>     2</td>\n",
        "      <td>    10</td>\n",
        "    </tr>\n",
        "    <tr>\n",
        "      <th>1959.0</th>\n",
        "      <td>   0</td>\n",
        "      <td>  0</td>\n",
        "      <td>  0</td>\n",
        "      <td>   0</td>\n",
        "      <td>    4</td>\n",
        "      <td>    3</td>\n",
        "      <td>   0</td>\n",
        "      <td>     3</td>\n",
        "      <td>    10</td>\n",
        "    </tr>\n",
        "    <tr>\n",
        "      <th>1960.0</th>\n",
        "      <td>   0</td>\n",
        "      <td>  0</td>\n",
        "      <td>  0</td>\n",
        "      <td>   0</td>\n",
        "      <td>   13</td>\n",
        "      <td>    4</td>\n",
        "      <td>   0</td>\n",
        "      <td>     5</td>\n",
        "      <td>    22</td>\n",
        "    </tr>\n",
        "    <tr>\n",
        "      <th>1961.0</th>\n",
        "      <td>   0</td>\n",
        "      <td>  0</td>\n",
        "      <td>  0</td>\n",
        "      <td>   0</td>\n",
        "      <td>   10</td>\n",
        "      <td>    2</td>\n",
        "      <td>   0</td>\n",
        "      <td>    11</td>\n",
        "      <td>    23</td>\n",
        "    </tr>\n",
        "    <tr>\n",
        "      <th>1962.0</th>\n",
        "      <td>   0</td>\n",
        "      <td>  0</td>\n",
        "      <td>  0</td>\n",
        "      <td>   0</td>\n",
        "      <td>   11</td>\n",
        "      <td>    2</td>\n",
        "      <td>   0</td>\n",
        "      <td>     8</td>\n",
        "      <td>    21</td>\n",
        "    </tr>\n",
        "    <tr>\n",
        "      <th>1963.0</th>\n",
        "      <td>   0</td>\n",
        "      <td>  0</td>\n",
        "      <td>  0</td>\n",
        "      <td>   0</td>\n",
        "      <td>   10</td>\n",
        "      <td>    0</td>\n",
        "      <td>   0</td>\n",
        "      <td>    12</td>\n",
        "      <td>    22</td>\n",
        "    </tr>\n",
        "    <tr>\n",
        "      <th>1964.0</th>\n",
        "      <td>   0</td>\n",
        "      <td>  0</td>\n",
        "      <td>  0</td>\n",
        "      <td>   1</td>\n",
        "      <td>   23</td>\n",
        "      <td>    0</td>\n",
        "      <td>   0</td>\n",
        "      <td>    35</td>\n",
        "      <td>    59</td>\n",
        "    </tr>\n",
        "    <tr>\n",
        "      <th>1965.0</th>\n",
        "      <td>   0</td>\n",
        "      <td>  0</td>\n",
        "      <td>  0</td>\n",
        "      <td>   7</td>\n",
        "      <td>   17</td>\n",
        "      <td>    5</td>\n",
        "      <td>   1</td>\n",
        "      <td>    72</td>\n",
        "      <td>   102</td>\n",
        "    </tr>\n",
        "    <tr>\n",
        "      <th>1966.0</th>\n",
        "      <td>   0</td>\n",
        "      <td>  0</td>\n",
        "      <td>  0</td>\n",
        "      <td>   1</td>\n",
        "      <td>   35</td>\n",
        "      <td>    1</td>\n",
        "      <td>   5</td>\n",
        "      <td>    99</td>\n",
        "      <td>   141</td>\n",
        "    </tr>\n",
        "    <tr>\n",
        "      <th>1967.0</th>\n",
        "      <td>   0</td>\n",
        "      <td>  0</td>\n",
        "      <td>  0</td>\n",
        "      <td>   1</td>\n",
        "      <td>   26</td>\n",
        "      <td>    9</td>\n",
        "      <td>   3</td>\n",
        "      <td>    93</td>\n",
        "      <td>   132</td>\n",
        "    </tr>\n",
        "    <tr>\n",
        "      <th>1968.0</th>\n",
        "      <td>   1</td>\n",
        "      <td>  0</td>\n",
        "      <td>  0</td>\n",
        "      <td>   7</td>\n",
        "      <td>   29</td>\n",
        "      <td>    8</td>\n",
        "      <td>  15</td>\n",
        "      <td>   109</td>\n",
        "      <td>   169</td>\n",
        "    </tr>\n",
        "    <tr>\n",
        "      <th>1969.0</th>\n",
        "      <td>   2</td>\n",
        "      <td>  0</td>\n",
        "      <td>  0</td>\n",
        "      <td>   8</td>\n",
        "      <td>   33</td>\n",
        "      <td>    9</td>\n",
        "      <td>  22</td>\n",
        "      <td>   153</td>\n",
        "      <td>   227</td>\n",
        "    </tr>\n",
        "    <tr>\n",
        "      <th>1970.0</th>\n",
        "      <td>   3</td>\n",
        "      <td>  1</td>\n",
        "      <td>  0</td>\n",
        "      <td>   1</td>\n",
        "      <td>   40</td>\n",
        "      <td>   11</td>\n",
        "      <td>  16</td>\n",
        "      <td>   196</td>\n",
        "      <td>   268</td>\n",
        "    </tr>\n",
        "    <tr>\n",
        "      <th>1971.0</th>\n",
        "      <td>   2</td>\n",
        "      <td>  0</td>\n",
        "      <td>  0</td>\n",
        "      <td>   6</td>\n",
        "      <td>   56</td>\n",
        "      <td>   31</td>\n",
        "      <td>  19</td>\n",
        "      <td>   422</td>\n",
        "      <td>   536</td>\n",
        "    </tr>\n",
        "    <tr>\n",
        "      <th>1972.0</th>\n",
        "      <td>   2</td>\n",
        "      <td>  1</td>\n",
        "      <td>  0</td>\n",
        "      <td>  16</td>\n",
        "      <td>  195</td>\n",
        "      <td>   59</td>\n",
        "      <td>  47</td>\n",
        "      <td>   767</td>\n",
        "      <td>  1087</td>\n",
        "    </tr>\n",
        "    <tr>\n",
        "      <th>1973.0</th>\n",
        "      <td>  10</td>\n",
        "      <td>  1</td>\n",
        "      <td>  0</td>\n",
        "      <td>  20</td>\n",
        "      <td>  164</td>\n",
        "      <td>   85</td>\n",
        "      <td>  45</td>\n",
        "      <td>  1300</td>\n",
        "      <td>  1625</td>\n",
        "    </tr>\n",
        "    <tr>\n",
        "      <th>1974.0</th>\n",
        "      <td>   7</td>\n",
        "      <td>  2</td>\n",
        "      <td>  0</td>\n",
        "      <td>  13</td>\n",
        "      <td>  100</td>\n",
        "      <td>  102</td>\n",
        "      <td>  46</td>\n",
        "      <td>   771</td>\n",
        "      <td>  1041</td>\n",
        "    </tr>\n",
        "    <tr>\n",
        "      <th>...</th>\n",
        "      <td>...</td>\n",
        "      <td>...</td>\n",
        "      <td>...</td>\n",
        "      <td>...</td>\n",
        "      <td>...</td>\n",
        "      <td>...</td>\n",
        "      <td>...</td>\n",
        "      <td>...</td>\n",
        "      <td>...</td>\n",
        "    </tr>\n",
        "    <tr>\n",
        "      <th>1985.0</th>\n",
        "      <td>   4</td>\n",
        "      <td> 11</td>\n",
        "      <td>  0</td>\n",
        "      <td>  12</td>\n",
        "      <td>   65</td>\n",
        "      <td>  171</td>\n",
        "      <td>  26</td>\n",
        "      <td>   313</td>\n",
        "      <td>   602</td>\n",
        "    </tr>\n",
        "    <tr>\n",
        "      <th>1986.0</th>\n",
        "      <td>   4</td>\n",
        "      <td>  0</td>\n",
        "      <td>  2</td>\n",
        "      <td>  21</td>\n",
        "      <td>   73</td>\n",
        "      <td>   89</td>\n",
        "      <td>  23</td>\n",
        "      <td>   364</td>\n",
        "      <td>   576</td>\n",
        "    </tr>\n",
        "    <tr>\n",
        "      <th>1987.0</th>\n",
        "      <td>   2</td>\n",
        "      <td>  3</td>\n",
        "      <td>  0</td>\n",
        "      <td>  16</td>\n",
        "      <td>   56</td>\n",
        "      <td>  124</td>\n",
        "      <td>  25</td>\n",
        "      <td>   297</td>\n",
        "      <td>   523</td>\n",
        "    </tr>\n",
        "    <tr>\n",
        "      <th>1988.0</th>\n",
        "      <td>  11</td>\n",
        "      <td>  0</td>\n",
        "      <td>  0</td>\n",
        "      <td>  19</td>\n",
        "      <td>   60</td>\n",
        "      <td>  111</td>\n",
        "      <td>  27</td>\n",
        "      <td>   239</td>\n",
        "      <td>   467</td>\n",
        "    </tr>\n",
        "    <tr>\n",
        "      <th>1989.0</th>\n",
        "      <td>   8</td>\n",
        "      <td>  5</td>\n",
        "      <td>  1</td>\n",
        "      <td>  19</td>\n",
        "      <td>   55</td>\n",
        "      <td>  116</td>\n",
        "      <td>  56</td>\n",
        "      <td>   350</td>\n",
        "      <td>   610</td>\n",
        "    </tr>\n",
        "    <tr>\n",
        "      <th>1990.0</th>\n",
        "      <td>   4</td>\n",
        "      <td>  5</td>\n",
        "      <td>  0</td>\n",
        "      <td>  22</td>\n",
        "      <td>   57</td>\n",
        "      <td>  120</td>\n",
        "      <td>  33</td>\n",
        "      <td>   298</td>\n",
        "      <td>   539</td>\n",
        "    </tr>\n",
        "    <tr>\n",
        "      <th>1991.0</th>\n",
        "      <td>   2</td>\n",
        "      <td>  4</td>\n",
        "      <td>  2</td>\n",
        "      <td>  23</td>\n",
        "      <td>   56</td>\n",
        "      <td>   98</td>\n",
        "      <td>  32</td>\n",
        "      <td>   301</td>\n",
        "      <td>   518</td>\n",
        "    </tr>\n",
        "    <tr>\n",
        "      <th>1992.0</th>\n",
        "      <td>  14</td>\n",
        "      <td>  2</td>\n",
        "      <td>  2</td>\n",
        "      <td>  38</td>\n",
        "      <td>   90</td>\n",
        "      <td>   92</td>\n",
        "      <td>  54</td>\n",
        "      <td>   309</td>\n",
        "      <td>   601</td>\n",
        "    </tr>\n",
        "    <tr>\n",
        "      <th>1993.0</th>\n",
        "      <td>   4</td>\n",
        "      <td>  5</td>\n",
        "      <td>  0</td>\n",
        "      <td>  11</td>\n",
        "      <td>   43</td>\n",
        "      <td>   32</td>\n",
        "      <td>  22</td>\n",
        "      <td>    91</td>\n",
        "      <td>   208</td>\n",
        "    </tr>\n",
        "    <tr>\n",
        "      <th>1994.0</th>\n",
        "      <td>   8</td>\n",
        "      <td>  1</td>\n",
        "      <td>  0</td>\n",
        "      <td>   6</td>\n",
        "      <td>   15</td>\n",
        "      <td>   27</td>\n",
        "      <td>  18</td>\n",
        "      <td>    59</td>\n",
        "      <td>   134</td>\n",
        "    </tr>\n",
        "    <tr>\n",
        "      <th>1995.0</th>\n",
        "      <td>   0</td>\n",
        "      <td>  0</td>\n",
        "      <td>  0</td>\n",
        "      <td>   0</td>\n",
        "      <td>    3</td>\n",
        "      <td>    4</td>\n",
        "      <td>   0</td>\n",
        "      <td>     1</td>\n",
        "      <td>     8</td>\n",
        "    </tr>\n",
        "    <tr>\n",
        "      <th>1996.0</th>\n",
        "      <td>   0</td>\n",
        "      <td>  0</td>\n",
        "      <td>  0</td>\n",
        "      <td>   1</td>\n",
        "      <td>    1</td>\n",
        "      <td>    7</td>\n",
        "      <td>   0</td>\n",
        "      <td>     1</td>\n",
        "      <td>    10</td>\n",
        "    </tr>\n",
        "    <tr>\n",
        "      <th>1997.0</th>\n",
        "      <td>   0</td>\n",
        "      <td>  0</td>\n",
        "      <td>  0</td>\n",
        "      <td>   1</td>\n",
        "      <td>    2</td>\n",
        "      <td>    6</td>\n",
        "      <td>   0</td>\n",
        "      <td>     5</td>\n",
        "      <td>    14</td>\n",
        "    </tr>\n",
        "    <tr>\n",
        "      <th>1998.0</th>\n",
        "      <td>   1</td>\n",
        "      <td>  0</td>\n",
        "      <td>  0</td>\n",
        "      <td>   0</td>\n",
        "      <td>   18</td>\n",
        "      <td>    6</td>\n",
        "      <td>   2</td>\n",
        "      <td>     7</td>\n",
        "      <td>    34</td>\n",
        "    </tr>\n",
        "    <tr>\n",
        "      <th>1999.0</th>\n",
        "      <td>   0</td>\n",
        "      <td>  0</td>\n",
        "      <td>  0</td>\n",
        "      <td>   0</td>\n",
        "      <td>    7</td>\n",
        "      <td>   13</td>\n",
        "      <td>   5</td>\n",
        "      <td>     3</td>\n",
        "      <td>    28</td>\n",
        "    </tr>\n",
        "    <tr>\n",
        "      <th>2000.0</th>\n",
        "      <td>   2</td>\n",
        "      <td>  0</td>\n",
        "      <td>  0</td>\n",
        "      <td>   2</td>\n",
        "      <td>   14</td>\n",
        "      <td>   13</td>\n",
        "      <td>   8</td>\n",
        "      <td>    14</td>\n",
        "      <td>    53</td>\n",
        "    </tr>\n",
        "    <tr>\n",
        "      <th>2001.0</th>\n",
        "      <td>   4</td>\n",
        "      <td>  0</td>\n",
        "      <td>  0</td>\n",
        "      <td>   0</td>\n",
        "      <td>   11</td>\n",
        "      <td>   17</td>\n",
        "      <td>   5</td>\n",
        "      <td>    20</td>\n",
        "      <td>    57</td>\n",
        "    </tr>\n",
        "    <tr>\n",
        "      <th>2002.0</th>\n",
        "      <td>   5</td>\n",
        "      <td>  0</td>\n",
        "      <td>  0</td>\n",
        "      <td>   3</td>\n",
        "      <td>   17</td>\n",
        "      <td>   10</td>\n",
        "      <td>  18</td>\n",
        "      <td>    31</td>\n",
        "      <td>    84</td>\n",
        "    </tr>\n",
        "    <tr>\n",
        "      <th>2003.0</th>\n",
        "      <td>   2</td>\n",
        "      <td>  0</td>\n",
        "      <td>  0</td>\n",
        "      <td>   0</td>\n",
        "      <td>   15</td>\n",
        "      <td>   12</td>\n",
        "      <td>  18</td>\n",
        "      <td>     8</td>\n",
        "      <td>    55</td>\n",
        "    </tr>\n",
        "    <tr>\n",
        "      <th>2004.0</th>\n",
        "      <td>   2</td>\n",
        "      <td>  0</td>\n",
        "      <td>  0</td>\n",
        "      <td>   1</td>\n",
        "      <td>   15</td>\n",
        "      <td>   21</td>\n",
        "      <td>   7</td>\n",
        "      <td>    12</td>\n",
        "      <td>    58</td>\n",
        "    </tr>\n",
        "    <tr>\n",
        "      <th>2005.0</th>\n",
        "      <td>   4</td>\n",
        "      <td>  0</td>\n",
        "      <td>  0</td>\n",
        "      <td>   1</td>\n",
        "      <td>   11</td>\n",
        "      <td>   21</td>\n",
        "      <td>   9</td>\n",
        "      <td>    18</td>\n",
        "      <td>    64</td>\n",
        "    </tr>\n",
        "    <tr>\n",
        "      <th>2006.0</th>\n",
        "      <td>   1</td>\n",
        "      <td>  0</td>\n",
        "      <td>  0</td>\n",
        "      <td>   2</td>\n",
        "      <td>    9</td>\n",
        "      <td>   23</td>\n",
        "      <td>   8</td>\n",
        "      <td>    13</td>\n",
        "      <td>    56</td>\n",
        "    </tr>\n",
        "    <tr>\n",
        "      <th>2007.0</th>\n",
        "      <td>   0</td>\n",
        "      <td>  0</td>\n",
        "      <td>  0</td>\n",
        "      <td>   0</td>\n",
        "      <td>   17</td>\n",
        "      <td>   24</td>\n",
        "      <td>  12</td>\n",
        "      <td>    14</td>\n",
        "      <td>    67</td>\n",
        "    </tr>\n",
        "    <tr>\n",
        "      <th>2008.0</th>\n",
        "      <td>   0</td>\n",
        "      <td>  0</td>\n",
        "      <td>  0</td>\n",
        "      <td>   0</td>\n",
        "      <td>   13</td>\n",
        "      <td>   13</td>\n",
        "      <td>  11</td>\n",
        "      <td>    14</td>\n",
        "      <td>    51</td>\n",
        "    </tr>\n",
        "    <tr>\n",
        "      <th>2009.0</th>\n",
        "      <td>   1</td>\n",
        "      <td>  0</td>\n",
        "      <td>  0</td>\n",
        "      <td>   0</td>\n",
        "      <td>   17</td>\n",
        "      <td>   96</td>\n",
        "      <td>  10</td>\n",
        "      <td>     8</td>\n",
        "      <td>   132</td>\n",
        "    </tr>\n",
        "    <tr>\n",
        "      <th>2010.0</th>\n",
        "      <td>   2</td>\n",
        "      <td>  0</td>\n",
        "      <td>  0</td>\n",
        "      <td>   0</td>\n",
        "      <td>    8</td>\n",
        "      <td>   10</td>\n",
        "      <td>  18</td>\n",
        "      <td>     2</td>\n",
        "      <td>    40</td>\n",
        "    </tr>\n",
        "    <tr>\n",
        "      <th>2011.0</th>\n",
        "      <td>   0</td>\n",
        "      <td>  0</td>\n",
        "      <td>  0</td>\n",
        "      <td>   0</td>\n",
        "      <td>    4</td>\n",
        "      <td>    1</td>\n",
        "      <td>   1</td>\n",
        "      <td>     2</td>\n",
        "      <td>     8</td>\n",
        "    </tr>\n",
        "    <tr>\n",
        "      <th>2012.0</th>\n",
        "      <td>   0</td>\n",
        "      <td>  0</td>\n",
        "      <td>  0</td>\n",
        "      <td>   1</td>\n",
        "      <td>    0</td>\n",
        "      <td>    2</td>\n",
        "      <td>   0</td>\n",
        "      <td>     0</td>\n",
        "      <td>     3</td>\n",
        "    </tr>\n",
        "    <tr>\n",
        "      <th>2013.0</th>\n",
        "      <td>   0</td>\n",
        "      <td>  0</td>\n",
        "      <td>  0</td>\n",
        "      <td>   0</td>\n",
        "      <td>    0</td>\n",
        "      <td>    0</td>\n",
        "      <td>   0</td>\n",
        "      <td>     2</td>\n",
        "      <td>     2</td>\n",
        "    </tr>\n",
        "    <tr>\n",
        "      <th>All</th>\n",
        "      <td> 154</td>\n",
        "      <td> 69</td>\n",
        "      <td> 10</td>\n",
        "      <td> 459</td>\n",
        "      <td> 2351</td>\n",
        "      <td> 2874</td>\n",
        "      <td> 988</td>\n",
        "      <td> 10637</td>\n",
        "      <td> 17542</td>\n",
        "    </tr>\n",
        "  </tbody>\n",
        "</table>\n",
        "<p>70 rows \u00d7 9 columns</p>\n",
        "</div>"
       ],
       "metadata": {},
       "output_type": "pyout",
       "prompt_number": 68,
       "text": [
        "               title                                                         \\\n",
        "category       Fibre Installation Media Other Painting Photograph Sculpture   \n",
        "execution_date                                                                \n",
        "1940.0             0            0     0     0        0          0         0   \n",
        "1943.0             0            0     0     0        1          0         0   \n",
        "1945.0             0            0     0     0        0          0         0   \n",
        "1948.0             0            0     0     0        0          0         0   \n",
        "1949.0             0            0     0     0        0          1         0   \n",
        "1950.0             0            0     0     0        0          0         0   \n",
        "1951.0             0            0     0     0        1          1         0   \n",
        "1952.0             0            0     0     0        0          1         0   \n",
        "1953.0             0            0     0     0        1          0         0   \n",
        "1954.0             0            0     0     0        2          1         0   \n",
        "1955.0             0            0     0     0        1          3         0   \n",
        "1956.0             0            0     0     0        2          3         0   \n",
        "1957.0             0            0     0     0        0          0         0   \n",
        "1958.0             0            0     0     0        4          4         0   \n",
        "1959.0             0            0     0     0        4          3         0   \n",
        "1960.0             0            0     0     0       13          4         0   \n",
        "1961.0             0            0     0     0       10          2         0   \n",
        "1962.0             0            0     0     0       11          2         0   \n",
        "1963.0             0            0     0     0       10          0         0   \n",
        "1964.0             0            0     0     1       23          0         0   \n",
        "1965.0             0            0     0     7       17          5         1   \n",
        "1966.0             0            0     0     1       35          1         5   \n",
        "1967.0             0            0     0     1       26          9         3   \n",
        "1968.0             1            0     0     7       29          8        15   \n",
        "1969.0             2            0     0     8       33          9        22   \n",
        "1970.0             3            1     0     1       40         11        16   \n",
        "1971.0             2            0     0     6       56         31        19   \n",
        "1972.0             2            1     0    16      195         59        47   \n",
        "1973.0            10            1     0    20      164         85        45   \n",
        "1974.0             7            2     0    13      100        102        46   \n",
        "...              ...          ...   ...   ...      ...        ...       ...   \n",
        "1985.0             4           11     0    12       65        171        26   \n",
        "1986.0             4            0     2    21       73         89        23   \n",
        "1987.0             2            3     0    16       56        124        25   \n",
        "1988.0            11            0     0    19       60        111        27   \n",
        "1989.0             8            5     1    19       55        116        56   \n",
        "1990.0             4            5     0    22       57        120        33   \n",
        "1991.0             2            4     2    23       56         98        32   \n",
        "1992.0            14            2     2    38       90         92        54   \n",
        "1993.0             4            5     0    11       43         32        22   \n",
        "1994.0             8            1     0     6       15         27        18   \n",
        "1995.0             0            0     0     0        3          4         0   \n",
        "1996.0             0            0     0     1        1          7         0   \n",
        "1997.0             0            0     0     1        2          6         0   \n",
        "1998.0             1            0     0     0       18          6         2   \n",
        "1999.0             0            0     0     0        7         13         5   \n",
        "2000.0             2            0     0     2       14         13         8   \n",
        "2001.0             4            0     0     0       11         17         5   \n",
        "2002.0             5            0     0     3       17         10        18   \n",
        "2003.0             2            0     0     0       15         12        18   \n",
        "2004.0             2            0     0     1       15         21         7   \n",
        "2005.0             4            0     0     1       11         21         9   \n",
        "2006.0             1            0     0     2        9         23         8   \n",
        "2007.0             0            0     0     0       17         24        12   \n",
        "2008.0             0            0     0     0       13         13        11   \n",
        "2009.0             1            0     0     0       17         96        10   \n",
        "2010.0             2            0     0     0        8         10        18   \n",
        "2011.0             0            0     0     0        4          1         1   \n",
        "2012.0             0            0     0     1        0          2         0   \n",
        "2013.0             0            0     0     0        0          0         0   \n",
        "All              154           69    10   459     2351       2874       988   \n",
        "\n",
        "                                     \n",
        "category       Work on paper    All  \n",
        "execution_date                       \n",
        "1940.0                     1      1  \n",
        "1943.0                     0      1  \n",
        "1945.0                     1      1  \n",
        "1948.0                     2      2  \n",
        "1949.0                     0      1  \n",
        "1950.0                     1      1  \n",
        "1951.0                     0      2  \n",
        "1952.0                     0      1  \n",
        "1953.0                     0      1  \n",
        "1954.0                     3      6  \n",
        "1955.0                     6     10  \n",
        "1956.0                     2      7  \n",
        "1957.0                     5      5  \n",
        "1958.0                     2     10  \n",
        "1959.0                     3     10  \n",
        "1960.0                     5     22  \n",
        "1961.0                    11     23  \n",
        "1962.0                     8     21  \n",
        "1963.0                    12     22  \n",
        "1964.0                    35     59  \n",
        "1965.0                    72    102  \n",
        "1966.0                    99    141  \n",
        "1967.0                    93    132  \n",
        "1968.0                   109    169  \n",
        "1969.0                   153    227  \n",
        "1970.0                   196    268  \n",
        "1971.0                   422    536  \n",
        "1972.0                   767   1087  \n",
        "1973.0                  1300   1625  \n",
        "1974.0                   771   1041  \n",
        "...                      ...    ...  \n",
        "1985.0                   313    602  \n",
        "1986.0                   364    576  \n",
        "1987.0                   297    523  \n",
        "1988.0                   239    467  \n",
        "1989.0                   350    610  \n",
        "1990.0                   298    539  \n",
        "1991.0                   301    518  \n",
        "1992.0                   309    601  \n",
        "1993.0                    91    208  \n",
        "1994.0                    59    134  \n",
        "1995.0                     1      8  \n",
        "1996.0                     1     10  \n",
        "1997.0                     5     14  \n",
        "1998.0                     7     34  \n",
        "1999.0                     3     28  \n",
        "2000.0                    14     53  \n",
        "2001.0                    20     57  \n",
        "2002.0                    31     84  \n",
        "2003.0                     8     55  \n",
        "2004.0                    12     58  \n",
        "2005.0                    18     64  \n",
        "2006.0                    13     56  \n",
        "2007.0                    14     67  \n",
        "2008.0                    14     51  \n",
        "2009.0                     8    132  \n",
        "2010.0                     2     40  \n",
        "2011.0                     2      8  \n",
        "2012.0                     0      3  \n",
        "2013.0                     2      2  \n",
        "All                    10637  17542  \n",
        "\n",
        "[70 rows x 9 columns]"
       ]
      }
     ],
     "prompt_number": 68
    },
    {
     "cell_type": "heading",
     "level": 2,
     "metadata": {},
     "source": [
      "Plotting and Visualization"
     ]
    },
    {
     "cell_type": "markdown",
     "metadata": {},
     "source": [
      "There are a handful of third-party Python packages that are suitable for creating scientific plots and visualizations. These include packages like:\n",
      "\n",
      "- matplotlib\n",
      "- Chaco\n",
      "- PyX\n",
      "- Bokeh\n",
      "\n",
      "Here, we will focus excelusively on matplotlib and the high-level plotting availabel within pandas. It is currently the most robust and feature-rich package available."
     ]
    },
    {
     "cell_type": "heading",
     "level": 2,
     "metadata": {},
     "source": [
      "Visual representation of data"
     ]
    },
    {
     "cell_type": "markdown",
     "metadata": {},
     "source": [
      "We require plots, charts and other statistical graphics for the written communication of quantitative ideas.\n",
      "They allow us to more easily convey relationships and reveal deviations from patterns.\n",
      "\n",
      "Gelman and Unwin 2011.\n",
      "\n",
      ">A well-designed graph can display more information than a table of the same size, and more information than numbers embedded in text. Graphical displays allow and encourage direct visual comparisons."
     ]
    },
    {
     "cell_type": "heading",
     "level": 2,
     "metadata": {},
     "source": [
      "Matplotlib"
     ]
    },
    {
     "cell_type": "markdown",
     "metadata": {},
     "source": [
      "The easiest way to interact with matplotlib is via pylab in iPython. By starting iPython (or iPython notebook) in \"pylab mode\", both matplotlib and numpy are pre-loaded into the iPython session. But that is deprecated and the way now is just using the `%matplotlib` cell magic. For loading numpy we just use the regular imports."
     ]
    },
    {
     "cell_type": "code",
     "collapsed": false,
     "input": [
      "%matplotlib inline"
     ],
     "language": "python",
     "metadata": {},
     "outputs": [],
     "prompt_number": 107
    },
    {
     "cell_type": "markdown",
     "metadata": {},
     "source": [
      "You can specify a custom graphical backend (e.g. qt, gtk, osx), but iPython generally does a good job of auto-selecting. Now matplotlib is ready to go, and you can access the matplotlib API via plt. If you do not start iPython in pylab mode, you can do this manually with the following convention:"
     ]
    },
    {
     "cell_type": "code",
     "collapsed": false,
     "input": [
      "import matplotlib.pyplot as plt\n",
      "plt.plot(np.random.normal(size=100), np.random.normal(size=100), 'ro')"
     ],
     "language": "python",
     "metadata": {},
     "outputs": [
      {
       "metadata": {},
       "output_type": "pyout",
       "prompt_number": 106,
       "text": [
        "[<matplotlib.lines.Line2D at 0x7f4d5869deb8>]"
       ]
      },
      {
       "metadata": {},
       "output_type": "display_data",
       "png": "[encoded data removed]",
       "text": [
        "<matplotlib.figure.Figure at 0x7f4d58afaf28>"
       ]
      }
     ],
     "prompt_number": 106
    },
    {
     "cell_type": "markdown",
     "metadata": {},
     "source": [
      "Matplotlib: Scripted vs. Object Oriented\n",
      "----------------------------------------\n",
      "Matplotlib provides two flavors of interface. One is the scripted interface, designed to feel like Matlab. To enable this, matplotlib maintains a pointer to the current figure, current axis, etc. and directs top-level commands to those places:"
     ]
    },
    {
     "cell_type": "code",
     "collapsed": false,
     "input": [
      "# create a figure using the matlab-like interface\n",
      "x = np.linspace(0, 10, 1000)\n",
      "plt.subplot(2, 1, 1)  # 2x1 grid, first plot\n",
      "plt.plot(x, np.sin(x))\n",
      "plt.title('Trig is easy.')\n",
      "\n",
      "plt.subplot(2, 1, 2)  # 2x1 grid, second plot\n",
      "plt.plot(x, np.cos(x))\n",
      "plt.xlabel('x')"
     ],
     "language": "python",
     "metadata": {},
     "outputs": [
      {
       "metadata": {},
       "output_type": "pyout",
       "prompt_number": 160,
       "text": [
        "<matplotlib.text.Text at 0x7f4d4bf54cc0>"
       ]
      },
      {
       "metadata": {},
       "output_type": "display_data",
       "png": "[encoded data removed]",
       "text": [
        "<matplotlib.figure.Figure at 0x7f4d4bfb0ac8>"
       ]
      }
     ],
     "prompt_number": 160
    },
    {
     "cell_type": "markdown",
     "metadata": {},
     "source": [
      "The other interface is an object-oriented interface, where we expliticly pass around references to the plot elements we want to work with:"
     ]
    },
    {
     "cell_type": "code",
     "collapsed": false,
     "input": [
      "# create the same figure using the object-oriented interface\n",
      "fig = plt.figure(figsize=(10, 4))\n",
      "\n",
      "ax1 = fig.add_subplot(2, 1, 1)\n",
      "ax1.plot(x, np.sin(x))\n",
      "ax1.set_title(\"Trig is easy\")\n",
      "\n",
      "ax2 = fig.add_subplot(2, 1, 2)\n",
      "ax2.plot(x, np.cos(x))\n",
      "ax2.set_xlabel('x')"
     ],
     "language": "python",
     "metadata": {},
     "outputs": [
      {
       "metadata": {},
       "output_type": "pyout",
       "prompt_number": 183,
       "text": [
        "<matplotlib.text.Text at 0x7f4d48f24828>"
       ]
      },
      {
       "metadata": {},
       "output_type": "display_data",
       "png": "[encoded data removed]",
       "text": [
        "<matplotlib.figure.Figure at 0x7f4d4916aac8>"
       ]
      }
     ],
     "prompt_number": 183
    },
    {
     "cell_type": "markdown",
     "metadata": {},
     "source": [
      "Why use one interface vs another?\n",
      "--------------------------------\n",
      "These two interfaces are convenient for different circumstances. I find that for doing quick, simple plots, the scripted interface is often easiest. On the other hand, when I want more sophisticated plots, the object-oriented interface is simpler and more powerful. In fact, the scripted interface has several distinct limitations.\n",
      "It's good practice to use the object-oriented interface. That is, you should get in the habit of never using the plt.<command> when you can reference a specific axes or figure object instead."
     ]
    },
    {
     "cell_type": "markdown",
     "metadata": {},
     "source": [
      "Multi-panel plots\n",
      "-----------------\n",
      "There are four main ways to create multi-panel plots in matplotlib. From lowest to highest-level they are (roughly):\n",
      "\n",
      "### 1. `fig.add_axes()`\n",
      "**Useful for creating inset plots.** The add_axes method allows you to create an axes instance by specifying the size relative to the figure edges.\n",
      "The argument is [`left`, `bottom`, `width`, `height`] which specifies the axes extent in fractions of the figure size (i.e. between 0 and 1):"
     ]
    },
    {
     "cell_type": "code",
     "collapsed": false,
     "input": [
      "fig = plt.figure()\n",
      "main_ax = fig.add_axes([0.1, 0.1, 0.8, 0.8])"
     ],
     "language": "python",
     "metadata": {},
     "outputs": [
      {
       "metadata": {},
       "output_type": "display_data",
       "png": "[encoded data removed]",
       "text": [
        "<matplotlib.figure.Figure at 0x7f4d4bf79668>"
       ]
      }
     ],
     "prompt_number": 162
    },
    {
     "cell_type": "code",
     "collapsed": false,
     "input": [
      "inset_ax = fig.add_axes([0.6, 0.6, 0.25, 0.25])\n",
      "fig"
     ],
     "language": "python",
     "metadata": {},
     "outputs": [
      {
       "metadata": {},
       "output_type": "pyout",
       "png": "[encoded data removed]",
       "prompt_number": 163,
       "text": [
        "<matplotlib.figure.Figure at 0x7f4d4bf79668>"
       ]
      }
     ],
     "prompt_number": 163
    },
    {
     "cell_type": "code",
     "collapsed": false,
     "input": [
      "main_ax.plot(np.random.rand(100), color='gray')\n",
      "inset_ax.plot(np.random.rand(20), color='black')\n",
      "fig"
     ],
     "language": "python",
     "metadata": {},
     "outputs": [
      {
       "metadata": {},
       "output_type": "pyout",
       "png": "[encoded data removed]",
       "prompt_number": 164,
       "text": [
        "<matplotlib.figure.Figure at 0x7f4d4bf79668>"
       ]
      }
     ],
     "prompt_number": 164
    },
    {
     "cell_type": "markdown",
     "metadata": {},
     "source": [
      "### 2. fig.add_subplot()\n",
      "\n",
      "**Useful for simple multi-panel plots.** If you're trying to create multiple axes in a grid, you might use `.add_axes()` repeatedly, but calculating the extent for each axes is not trivial. The .`add_subplot()` method can streamline this.\n",
      "    The arguments are of the form `N_vertical`, `N_horizontal`, `Plot_number`, and the indices start at 1:"
     ]
    },
    {
     "cell_type": "code",
     "collapsed": false,
     "input": [
      "fig = plt.figure()\n",
      "for i in range(1, 7):\n",
      "    ax = fig.add_subplot(2, 3, i)\n",
      "    ax.text(0.45, 0.45, str(i), fontsize=24)"
     ],
     "language": "python",
     "metadata": {},
     "outputs": [
      {
       "metadata": {},
       "output_type": "display_data",
       "png": "[encoded data removed]",
       "text": [
        "<matplotlib.figure.Figure at 0x7f4d4bd870f0>"
       ]
      }
     ],
     "prompt_number": 165
    },
    {
     "cell_type": "markdown",
     "metadata": {},
     "source": [
      "If you desire, you can adjust the spacing using `fig.subplots_adjust()`, with units relative to the figure size (i.e. between 0 and 1)"
     ]
    },
    {
     "cell_type": "code",
     "collapsed": false,
     "input": [
      "fig.subplots_adjust(left=0.1, right=0.9,\n",
      "                    bottom=0.1, top=0.9,\n",
      "                    hspace=0.4, wspace=0.4)\n",
      "fig"
     ],
     "language": "python",
     "metadata": {},
     "outputs": [
      {
       "metadata": {},
       "output_type": "pyout",
       "png": "[encoded data removed]",
       "prompt_number": 166,
       "text": [
        "<matplotlib.figure.Figure at 0x7f4d4bd870f0>"
       ]
      }
     ],
     "prompt_number": 166
    },
    {
     "cell_type": "markdown",
     "metadata": {},
     "source": [
      "### 3. `plt.subplots()`\n",
      "**Convenience function to create multiple subplots.**\n",
      "Because creating a full grid of subplots is such a common task, matplotlib recently added the `plt.subplots()` command which creates the figure and axes in one go.\n",
      "The arguments are `N_vertical`, `N_horizontal`, and the axes are returned within a Numpy array:"
     ]
    },
    {
     "cell_type": "code",
     "collapsed": false,
     "input": [
      "fig, ax = plt.subplots(2, 3)\n",
      "for i in range(2):\n",
      "    for j in range(3):\n",
      "        ax[i, j].text(0.2, 0.45, str((i, j)), fontsize=20)"
     ],
     "language": "python",
     "metadata": {},
     "outputs": [
      {
       "metadata": {},
       "output_type": "display_data",
       "png": "[encoded data removed]",
       "text": [
        "<matplotlib.figure.Figure at 0x7f4d4bcb6198>"
       ]
      }
     ],
     "prompt_number": 167
    },
    {
     "cell_type": "code",
     "collapsed": false,
     "input": [
      "print(type(ax))\n",
      "print(ax.shape)\n",
      "print(ax.dtype)"
     ],
     "language": "python",
     "metadata": {},
     "outputs": [
      {
       "output_type": "stream",
       "stream": "stdout",
       "text": [
        "<class 'numpy.ndarray'>\n",
        "(2, 3)\n",
        "object\n"
       ]
      }
     ],
     "prompt_number": 168
    },
    {
     "cell_type": "markdown",
     "metadata": {},
     "source": [
      "An additional nice piece of this routine is the ability to specify that the subplots have a shared x or y axis: this ties together the axis limits and removes redundant tick labels:"
     ]
    },
    {
     "cell_type": "code",
     "collapsed": false,
     "input": [
      "fig, ax = plt.subplots(2, 3, sharex=True, sharey=True)\n",
      "x = np.linspace(0, 10, 1000)\n",
      "for i in range(2):\n",
      "    for j in range(3):\n",
      "        ax[i, j].plot(x, (j + 1) * np.sin((i + 1) * x))"
     ],
     "language": "python",
     "metadata": {},
     "outputs": [
      {
       "metadata": {},
       "output_type": "display_data",
       "png": "[encoded data removed]",
       "text": [
        "<matplotlib.figure.Figure at 0x7f4d4b926d68>"
       ]
      }
     ],
     "prompt_number": 169
    },
    {
     "cell_type": "markdown",
     "metadata": {},
     "source": [
      "### 4. plt.GridSpec()\n",
      "**Useful for more involved layouts.**\n",
      "GridSpec is the highest-level routine for creating subplots. It's an abstract object that allows the creation of multi-row or multi-column subplots via an intuitive slicing interface:"
     ]
    },
    {
     "cell_type": "code",
     "collapsed": false,
     "input": [
      "gs = plt.GridSpec(3, 3)  # a 3x3 grid\n",
      "fig = plt.figure(figsize=(6, 6))  # figure size in inches\n",
      "\n",
      "fig.add_subplot(gs[:, :])\n",
      "fig.add_subplot(gs[1, 1])"
     ],
     "language": "python",
     "metadata": {},
     "outputs": [
      {
       "metadata": {},
       "output_type": "pyout",
       "prompt_number": 170,
       "text": [
        "<matplotlib.axes._subplots.AxesSubplot at 0x7f4d4b6cd320>"
       ]
      },
      {
       "metadata": {},
       "output_type": "display_data",
       "png": "[encoded data removed]",
       "text": [
        "<matplotlib.figure.Figure at 0x7f4d4bd63c88>"
       ]
      }
     ],
     "prompt_number": 170
    },
    {
     "cell_type": "code",
     "collapsed": false,
     "input": [
      "gs = plt.GridSpec(3, 3, wspace=0.4, hspace=0.4)\n",
      "fig = plt.figure(figsize=(6, 6))\n",
      "\n",
      "fig.add_subplot(gs[1, :2])\n",
      "fig.add_subplot(gs[0, :2])\n",
      "fig.add_subplot(gs[2, 0])\n",
      "fig.add_subplot(gs[:2, 2])\n",
      "fig.add_subplot(gs[2, 1:])"
     ],
     "language": "python",
     "metadata": {},
     "outputs": [
      {
       "metadata": {},
       "output_type": "pyout",
       "prompt_number": 171,
       "text": [
        "<matplotlib.axes._subplots.AxesSubplot at 0x7f4d4b54ccf8>"
       ]
      },
      {
       "metadata": {},
       "output_type": "display_data",
       "png": "[encoded data removed]",
       "text": [
        "<matplotlib.figure.Figure at 0x7f4d4b6dc5f8>"
       ]
      }
     ],
     "prompt_number": 171
    },
    {
     "cell_type": "markdown",
     "metadata": {},
     "source": [
      "Check out the documentation of `plt.GridSpec` for information on adjusting the subplot parameters. The keyword arguments are similar to those of `plt.subplots_adjust()`."
     ]
    },
    {
     "cell_type": "markdown",
     "metadata": {},
     "source": [
      "Plotting in Pandas\n",
      "------------------\n",
      "On the other hand, Pandas includes methods for `DataFrame` and `Series` objects that are relatively high-level, and that make reasonable assumptions about how the plot should look."
     ]
    },
    {
     "cell_type": "code",
     "collapsed": false,
     "input": [
      "normals = pd.Series(np.random.normal(size=10))\n",
      "normals.plot()"
     ],
     "language": "python",
     "metadata": {},
     "outputs": [
      {
       "metadata": {},
       "output_type": "pyout",
       "prompt_number": 75,
       "text": [
        "<matplotlib.axes._subplots.AxesSubplot at 0x7f4d5b083198>"
       ]
      },
      {
       "metadata": {},
       "output_type": "display_data",
       "png": "[encoded data removed]",
       "text": [
        "<matplotlib.figure.Figure at 0x7f4d5945cc50>"
       ]
      }
     ],
     "prompt_number": 75
    },
    {
     "cell_type": "markdown",
     "metadata": {},
     "source": [
      "Notice that by default a line plot is drawn, and a light grid is included. All of this can be changed, however:"
     ]
    },
    {
     "cell_type": "code",
     "collapsed": false,
     "input": [
      "normals.cumsum().plot(grid=False)"
     ],
     "language": "python",
     "metadata": {},
     "outputs": [
      {
       "metadata": {},
       "output_type": "pyout",
       "prompt_number": 76,
       "text": [
        "<matplotlib.axes._subplots.AxesSubplot at 0x7f4d593ab2e8>"
       ]
      },
      {
       "metadata": {},
       "output_type": "display_data",
       "png": "[encoded data removed]",
       "text": [
        "<matplotlib.figure.Figure at 0x7f4d593b9198>"
       ]
      }
     ],
     "prompt_number": 76
    },
    {
     "cell_type": "markdown",
     "metadata": {},
     "source": [
      "Similarly, for a `DataFrame`:"
     ]
    },
    {
     "cell_type": "code",
     "collapsed": false,
     "input": [
      "variables = pd.DataFrame({'normal': np.random.normal(size=100), \n",
      "                       'gamma': np.random.gamma(1, size=100), \n",
      "                       'poisson': np.random.poisson(size=100)})\n",
      "variables.cumsum(0).plot()"
     ],
     "language": "python",
     "metadata": {},
     "outputs": [
      {
       "metadata": {},
       "output_type": "pyout",
       "prompt_number": 77,
       "text": [
        "<matplotlib.axes._subplots.AxesSubplot at 0x7f4d5931dda0>"
       ]
      },
      {
       "metadata": {},
       "output_type": "display_data",
       "png": "[encoded data removed]",
       "text": [
        "<matplotlib.figure.Figure at 0x7f4d593c1588>"
       ]
      }
     ],
     "prompt_number": 77
    },
    {
     "cell_type": "markdown",
     "metadata": {},
     "source": [
      "As an illustration of the high-level nature of Pandas plots, we can split multiple series into subplots with a single argument for plot:"
     ]
    },
    {
     "cell_type": "code",
     "collapsed": false,
     "input": [
      "variables.cumsum(0).plot(subplots=True)"
     ],
     "language": "python",
     "metadata": {},
     "outputs": [
      {
       "metadata": {},
       "output_type": "pyout",
       "prompt_number": 78,
       "text": [
        "array([<matplotlib.axes._subplots.AxesSubplot object at 0x7f4d592d7978>,\n",
        "       <matplotlib.axes._subplots.AxesSubplot object at 0x7f4d591fd588>,\n",
        "       <matplotlib.axes._subplots.AxesSubplot object at 0x7f4d591c6f60>], dtype=object)"
       ]
      },
      {
       "metadata": {},
       "output_type": "display_data",
       "png": "[encoded data removed]",
       "text": [
        "<matplotlib.figure.Figure at 0x7f4d593a30f0>"
       ]
      }
     ],
     "prompt_number": 78
    },
    {
     "cell_type": "markdown",
     "metadata": {},
     "source": [
      "Or, we may want to have some series displayed on the secondary y-axis, which can allow for greater detail and less empty space:"
     ]
    },
    {
     "cell_type": "code",
     "collapsed": false,
     "input": [
      "variables.cumsum(0).plot(secondary_y='normal')"
     ],
     "language": "python",
     "metadata": {},
     "outputs": [
      {
       "metadata": {},
       "output_type": "pyout",
       "prompt_number": 79,
       "text": [
        "<matplotlib.axes._subplots.AxesSubplot at 0x7f4d5914fa90>"
       ]
      },
      {
       "metadata": {},
       "output_type": "display_data",
       "png": "[encoded data removed]",
       "text": [
        "<matplotlib.figure.Figure at 0x7f4d5933be48>"
       ]
      }
     ],
     "prompt_number": 79
    },
    {
     "cell_type": "markdown",
     "metadata": {},
     "source": [
      "Of course, each plot returned is an object with some methods and attributes to modify the aspect of your chart."
     ]
    },
    {
     "cell_type": "code",
     "collapsed": false,
     "input": [
      "ax = variables.cumsum(0).plot()\n",
      "ax.set_xlabel('Radius')\n",
      "ax.set_ylabel('Area')\n",
      "ax.set_title('Area of a Circle')"
     ],
     "language": "python",
     "metadata": {},
     "outputs": [
      {
       "metadata": {},
       "output_type": "pyout",
       "prompt_number": 159,
       "text": [
        "<matplotlib.text.Text at 0x7f4d4bfb9358>"
       ]
      },
      {
       "metadata": {},
       "output_type": "display_data",
       "png": "[encoded data removed]",
       "text": [
        "<matplotlib.figure.Figure at 0x7f4d4c00b048>"
       ]
      }
     ],
     "prompt_number": 159
    },
    {
     "cell_type": "markdown",
     "metadata": {},
     "source": [
      "If we would like a little more control, we can use `matplotlib`'s subplots function directly, and manually assign plots to its axes:"
     ]
    },
    {
     "cell_type": "code",
     "collapsed": false,
     "input": [
      "fig, axes = plt.subplots(nrows=1, ncols=3, figsize=(12, 4))\n",
      "for i, var in enumerate(['normal','gamma','poisson']):\n",
      "    variables[var].cumsum(0).plot(ax=axes[i], title=var)\n",
      "axes[0].set_ylabel('cumulative sum')"
     ],
     "language": "python",
     "metadata": {},
     "outputs": [
      {
       "metadata": {},
       "output_type": "pyout",
       "prompt_number": 80,
       "text": [
        "<matplotlib.text.Text at 0x7f4d590459b0>"
       ]
      },
      {
       "metadata": {},
       "output_type": "display_data",
       "png": "[encoded data removed]",
       "text": [
        "<matplotlib.figure.Figure at 0x7f4d590960f0>"
       ]
      }
     ],
     "prompt_number": 80
    },
    {
     "cell_type": "markdown",
     "metadata": {},
     "source": [
      "Bar plots\n",
      "---------\n",
      "\n",
      "<div align=\"center\">\n",
      "<img src=\"images/bear_grylls.png\">\n",
      "*Thanks, Bear Grylls!*\n",
      "</div>\n",
      "\n",
      "Bar plots are useful for displaying and comparing measurable quantities, such as counts or volumes. In Pandas, we just use the plot method with a `kind='bar'` argument.\n",
      "\n",
      "For this series of examples, let's use our `arts` and `books` datasets:"
     ]
    },
    {
     "cell_type": "code",
     "collapsed": false,
     "input": [
      "arts.groupby('category')[[\"title\"]].count().plot(kind='bar')"
     ],
     "language": "python",
     "metadata": {},
     "outputs": [
      {
       "metadata": {},
       "output_type": "pyout",
       "prompt_number": 108,
       "text": [
        "<matplotlib.axes._subplots.AxesSubplot at 0x7f4d58662dd8>"
       ]
      },
      {
       "metadata": {},
       "output_type": "display_data",
       "png": "[encoded data removed]",
       "text": [
        "<matplotlib.figure.Figure at 0x7f4d5850edd8>"
       ]
      }
     ],
     "prompt_number": 108
    },
    {
     "cell_type": "code",
     "collapsed": false,
     "input": [
      "books.groupby(['Editor', 'Author'])[[\"Copies\"]].aggregate(np.sum).plot(kind='barh')"
     ],
     "language": "python",
     "metadata": {},
     "outputs": [
      {
       "metadata": {},
       "output_type": "pyout",
       "prompt_number": 111,
       "text": [
        "<matplotlib.axes._subplots.AxesSubplot at 0x7f4d584af780>"
       ]
      },
      {
       "metadata": {},
       "output_type": "display_data",
       "png": "[encoded data removed]",
       "text": [
        "<matplotlib.figure.Figure at 0x7f4d58440f98>"
       ]
      }
     ],
     "prompt_number": 111
    },
    {
     "cell_type": "code",
     "collapsed": false,
     "input": [
      "counts = pd.crosstab(books[\"Edition\"], books[\"Status\"])\n",
      "counts.plot(kind='bar', stacked=True, grid=False)"
     ],
     "language": "python",
     "metadata": {},
     "outputs": [
      {
       "metadata": {},
       "output_type": "pyout",
       "prompt_number": 122,
       "text": [
        "<matplotlib.axes._subplots.AxesSubplot at 0x7f4d522a4fd0>"
       ]
      },
      {
       "metadata": {},
       "output_type": "display_data",
       "png": "[encoded data removed]",
       "text": [
        "<matplotlib.figure.Figure at 0x7f4d524fb780>"
       ]
      }
     ],
     "prompt_number": 122
    },
    {
     "cell_type": "markdown",
     "metadata": {},
     "source": [
      "<div style=\"font-size: 1em; margin: 1em 0 1em 0; border: 1px solid #86989B; background-color: #f7f7f7; padding: 0;\">\n",
      "<p style=\"margin: 0; padding: 0.1em 0 0.1em 0.5em; color: white; border-bottom: 1px solid #86989B; font-weight: bold; background-color: #AFC1C4;\">\n",
      "Activity\n",
      "</p>\n",
      "<p style=\"margin: 0.5em 1em 0.5em 1em; padding: 0;\">\n",
      "Given the `arts` data frame, plot a chart for each category with the number of artworks per year.\n",
      "<!-- <small style=\"float: right; position: relative;\">[Solution](data/solution.py)</small> -->\n",
      "</p>\n",
      "</div>"
     ]
    },
    {
     "cell_type": "markdown",
     "metadata": {},
     "source": [
      "Histograms\n",
      "----------\n",
      "Frequenfly it is useful to look at the distribution of data before you analyze it. Histograms are a sort of bar graph that displays relative frequencies of data values; hence, the y-axis is always some measure of frequency. This can either be raw counts of values or scaled proportions.\n",
      "\n",
      "For example, we might want to see how the artworks are distributed cross time:"
     ]
    },
    {
     "cell_type": "code",
     "collapsed": false,
     "input": [
      "arts[\"execution_date\"].hist(grid=False)"
     ],
     "language": "python",
     "metadata": {},
     "outputs": [
      {
       "metadata": {},
       "output_type": "pyout",
       "prompt_number": 123,
       "text": [
        "<matplotlib.axes._subplots.AxesSubplot at 0x7f4d52223c50>"
       ]
      },
      {
       "metadata": {},
       "output_type": "display_data",
       "png": "[encoded data removed]",
       "text": [
        "<matplotlib.figure.Figure at 0x7f4d5708b780>"
       ]
      }
     ],
     "prompt_number": 123
    },
    {
     "cell_type": "markdown",
     "metadata": {},
     "source": [
      "The hist method puts the continuous years values into bins, trying to make a sensible decision about how many bins to use (or equivalently, how wide the bins are). We can override the default value (10):"
     ]
    },
    {
     "cell_type": "code",
     "collapsed": false,
     "input": [
      "arts[\"execution_date\"].hist(grid=False, bins=30)"
     ],
     "language": "python",
     "metadata": {},
     "outputs": [
      {
       "metadata": {},
       "output_type": "pyout",
       "prompt_number": 127,
       "text": [
        "<matplotlib.axes._subplots.AxesSubplot at 0x7f4d5216f160>"
       ]
      },
      {
       "metadata": {},
       "output_type": "display_data",
       "png": "[encoded data removed]",
       "text": [
        "<matplotlib.figure.Figure at 0x7f4d52172ef0>"
       ]
      }
     ],
     "prompt_number": 127
    },
    {
     "cell_type": "markdown",
     "metadata": {},
     "source": [
      "There are algorithms for determining an \"optimal\" number of bins, each of which varies somehow with the number of observations in the data series."
     ]
    },
    {
     "cell_type": "code",
     "collapsed": false,
     "input": [
      "sturges = lambda n: int(np.log2(n) + 1)\n",
      "square_root = lambda n: int(np.sqrt(n))\n",
      "from scipy.stats import kurtosis\n",
      "doanes = lambda data: int(1 + np.log(len(data)) + np.log(1 + kurtosis(data) * (len(data) / 6.) ** 0.5))\n",
      "\n",
      "n = len(arts[\"execution_date\"])\n",
      "sturges(n), square_root(n), doanes(arts[\"execution_date\"].dropna())"
     ],
     "language": "python",
     "metadata": {},
     "outputs": [
      {
       "metadata": {},
       "output_type": "pyout",
       "prompt_number": 131,
       "text": [
        "(15, 132, 14)"
       ]
      }
     ],
     "prompt_number": 131
    },
    {
     "cell_type": "code",
     "collapsed": false,
     "input": [
      "arts[\"execution_date\"].hist(bins=doanes(arts[\"execution_date\"].dropna()))"
     ],
     "language": "python",
     "metadata": {},
     "outputs": [
      {
       "metadata": {},
       "output_type": "pyout",
       "prompt_number": 132,
       "text": [
        "<matplotlib.axes._subplots.AxesSubplot at 0x7f4d4d3879e8>"
       ]
      },
      {
       "metadata": {},
       "output_type": "display_data",
       "png": "[encoded data removed]",
       "text": [
        "<matplotlib.figure.Figure at 0x7f4d58afa9e8>"
       ]
      }
     ],
     "prompt_number": 132
    },
    {
     "cell_type": "markdown",
     "metadata": {},
     "source": [
      "A density plot is similar to a histogram in that it describes the distribution of the underlying data, but rather than being a pure empirical representation, it is an estimate of the underlying \"true\" distribution. As a result, it is smoothed into a continuous line plot. We create them in Pandas using the plot method with `kind='kde'`, where `kde` stands for kernel density estimate."
     ]
    },
    {
     "cell_type": "code",
     "collapsed": false,
     "input": [
      "arts[\"execution_date\"].dropna().plot(kind='kde', xlim=(1940, 2020))"
     ],
     "language": "python",
     "metadata": {},
     "outputs": [
      {
       "metadata": {},
       "output_type": "pyout",
       "prompt_number": 178,
       "text": [
        "<matplotlib.axes._subplots.AxesSubplot at 0x7f4d4914a240>"
       ]
      },
      {
       "metadata": {},
       "output_type": "display_data",
       "png": "[encoded data removed]",
       "text": [
        "<matplotlib.figure.Figure at 0x7f4d49153860>"
       ]
      }
     ],
     "prompt_number": 178
    },
    {
     "cell_type": "markdown",
     "metadata": {},
     "source": [
      "We can even make it look funny by using the XKCD style!"
     ]
    },
    {
     "cell_type": "code",
     "collapsed": false,
     "input": [
      "with plt.xkcd():\n",
      "    arts[\"execution_date\"].dropna().plot(kind='kde', xlim=(1940, 2020))"
     ],
     "language": "python",
     "metadata": {},
     "outputs": [
      {
       "metadata": {},
       "output_type": "display_data",
       "png": "[encoded data removed]",
       "text": [
        "<matplotlib.figure.Figure at 0x7f4d490e8978>"
       ]
      }
     ],
     "prompt_number": 179
    },
    {
     "cell_type": "markdown",
     "metadata": {},
     "source": [
      "Often, histograms and density plots are shown together:"
     ]
    },
    {
     "cell_type": "code",
     "collapsed": false,
     "input": [
      "arts[\"execution_date\"].hist(bins=doanes(arts[\"execution_date\"].dropna()), normed=True, color='lightseagreen')\n",
      "arts[\"execution_date\"].dropna().plot(kind='kde', xlim=(1940, 2020), style='r--')"
     ],
     "language": "python",
     "metadata": {},
     "outputs": [
      {
       "metadata": {},
       "output_type": "pyout",
       "prompt_number": 136,
       "text": [
        "<matplotlib.axes._subplots.AxesSubplot at 0x7f4d4c938358>"
       ]
      },
      {
       "metadata": {},
       "output_type": "display_data",
       "png": "[encoded data removed]",
       "text": [
        "<matplotlib.figure.Figure at 0x7f4d52e67eb8>"
       ]
      }
     ],
     "prompt_number": 136
    },
    {
     "cell_type": "markdown",
     "metadata": {},
     "source": [
      "Here, we had to normalize the histogram (`normed=True`), since the kernel density is normalized by definition (it is a probability distribution)."
     ]
    },
    {
     "cell_type": "markdown",
     "metadata": {},
     "source": [
      "Boxplots\n",
      "--------\n",
      "A different way of visualizing the distribution of data is the boxplot, which is a display of common quantiles; these are typically the quartiles and the lower and upper 5 percent values."
     ]
    },
    {
     "cell_type": "code",
     "collapsed": false,
     "input": [
      "arts.boxplot(column=\"execution_date\", by=\"category\", grid=False)"
     ],
     "language": "python",
     "metadata": {},
     "outputs": [
      {
       "metadata": {},
       "output_type": "pyout",
       "prompt_number": 138,
       "text": [
        "<matplotlib.axes._subplots.AxesSubplot at 0x7f4d4caaa518>"
       ]
      },
      {
       "metadata": {},
       "output_type": "display_data",
       "png": "[encoded data removed]",
       "text": [
        "<matplotlib.figure.Figure at 0x7f4d4c803a90>"
       ]
      }
     ],
     "prompt_number": 138
    },
    {
     "cell_type": "markdown",
     "metadata": {},
     "source": [
      "You can think of the box plot as viewing the distribution from above. The blue crosses are \"outlier\" points that occur outside the extreme quantiles.\n",
      "\n",
      "One way to add additional information to a boxplot is to overlay the actual data; this is generally most suitable with small- or moderate-sized data series."
     ]
    },
    {
     "cell_type": "code",
     "collapsed": false,
     "input": [
      "bp = arts.boxplot(column=\"execution_date\", by=\"category\", grid=False)\n",
      "for i, index in enumerate(arts[\"category\"].unique()):\n",
      "    y = arts[\"execution_date\"][arts[\"category\"]==index].dropna()\n",
      "    # Add some random \"jitter\" to the x-axis\n",
      "    x = np.random.normal(i, 0.04, size=len(y))\n",
      "    plt.plot(x, y, 'r.', alpha=0.2)"
     ],
     "language": "python",
     "metadata": {},
     "outputs": [
      {
       "metadata": {},
       "output_type": "display_data",
       "png": "[encoded data removed]",
       "text": [
        "<matplotlib.figure.Figure at 0x7f4d4c318240>"
       ]
      }
     ],
     "prompt_number": 143
    },
    {
     "cell_type": "markdown",
     "metadata": {},
     "source": [
      "When data are dense, a couple of tricks used above help the visualization:\n",
      "- Reducing the alpha level to make the points partially transparent\n",
      "- Adding random \"jitter\" along the x-axis to avoid overstriking"
     ]
    },
    {
     "cell_type": "markdown",
     "metadata": {},
     "source": [
      "Scatterplots\n",
      "------------\n",
      "To look at how Pandas does scatterplots, let's load the [`baseball`](data/baseball.csv) sample dataset."
     ]
    },
    {
     "cell_type": "code",
     "collapsed": false,
     "input": [
      "baseball = pd.read_csv(\"data/baseball.csv\")\n",
      "baseball.head()"
     ],
     "language": "python",
     "metadata": {},
     "outputs": [
      {
       "html": [
        "<div style=\"max-height:1000px;max-width:1500px;overflow:auto;\">\n",
        "<table border=\"1\" class=\"dataframe\">\n",
        "  <thead>\n",
        "    <tr style=\"text-align: right;\">\n",
        "      <th></th>\n",
        "      <th>id</th>\n",
        "      <th>player</th>\n",
        "      <th>year</th>\n",
        "      <th>stint</th>\n",
        "      <th>team</th>\n",
        "      <th>lg</th>\n",
        "      <th>g</th>\n",
        "      <th>ab</th>\n",
        "      <th>r</th>\n",
        "      <th>h</th>\n",
        "      <th>...</th>\n",
        "      <th>rbi</th>\n",
        "      <th>sb</th>\n",
        "      <th>cs</th>\n",
        "      <th>bb</th>\n",
        "      <th>so</th>\n",
        "      <th>ibb</th>\n",
        "      <th>hbp</th>\n",
        "      <th>sh</th>\n",
        "      <th>sf</th>\n",
        "      <th>gidp</th>\n",
        "    </tr>\n",
        "  </thead>\n",
        "  <tbody>\n",
        "    <tr>\n",
        "      <th>0</th>\n",
        "      <td> 88641</td>\n",
        "      <td> womacto01</td>\n",
        "      <td> 2006</td>\n",
        "      <td> 2</td>\n",
        "      <td> CHN</td>\n",
        "      <td> NL</td>\n",
        "      <td> 19</td>\n",
        "      <td> 50</td>\n",
        "      <td> 6</td>\n",
        "      <td> 14</td>\n",
        "      <td>...</td>\n",
        "      <td> 2</td>\n",
        "      <td> 1</td>\n",
        "      <td> 1</td>\n",
        "      <td> 4</td>\n",
        "      <td> 4</td>\n",
        "      <td> 0</td>\n",
        "      <td> 0</td>\n",
        "      <td> 3</td>\n",
        "      <td> 0</td>\n",
        "      <td> 0</td>\n",
        "    </tr>\n",
        "    <tr>\n",
        "      <th>1</th>\n",
        "      <td> 88643</td>\n",
        "      <td> schilcu01</td>\n",
        "      <td> 2006</td>\n",
        "      <td> 1</td>\n",
        "      <td> BOS</td>\n",
        "      <td> AL</td>\n",
        "      <td> 31</td>\n",
        "      <td>  2</td>\n",
        "      <td> 0</td>\n",
        "      <td>  1</td>\n",
        "      <td>...</td>\n",
        "      <td> 0</td>\n",
        "      <td> 0</td>\n",
        "      <td> 0</td>\n",
        "      <td> 0</td>\n",
        "      <td> 1</td>\n",
        "      <td> 0</td>\n",
        "      <td> 0</td>\n",
        "      <td> 0</td>\n",
        "      <td> 0</td>\n",
        "      <td> 0</td>\n",
        "    </tr>\n",
        "    <tr>\n",
        "      <th>2</th>\n",
        "      <td> 88645</td>\n",
        "      <td> myersmi01</td>\n",
        "      <td> 2006</td>\n",
        "      <td> 1</td>\n",
        "      <td> NYA</td>\n",
        "      <td> AL</td>\n",
        "      <td> 62</td>\n",
        "      <td>  0</td>\n",
        "      <td> 0</td>\n",
        "      <td>  0</td>\n",
        "      <td>...</td>\n",
        "      <td> 0</td>\n",
        "      <td> 0</td>\n",
        "      <td> 0</td>\n",
        "      <td> 0</td>\n",
        "      <td> 0</td>\n",
        "      <td> 0</td>\n",
        "      <td> 0</td>\n",
        "      <td> 0</td>\n",
        "      <td> 0</td>\n",
        "      <td> 0</td>\n",
        "    </tr>\n",
        "    <tr>\n",
        "      <th>3</th>\n",
        "      <td> 88649</td>\n",
        "      <td> helliri01</td>\n",
        "      <td> 2006</td>\n",
        "      <td> 1</td>\n",
        "      <td> MIL</td>\n",
        "      <td> NL</td>\n",
        "      <td> 20</td>\n",
        "      <td>  3</td>\n",
        "      <td> 0</td>\n",
        "      <td>  0</td>\n",
        "      <td>...</td>\n",
        "      <td> 0</td>\n",
        "      <td> 0</td>\n",
        "      <td> 0</td>\n",
        "      <td> 0</td>\n",
        "      <td> 2</td>\n",
        "      <td> 0</td>\n",
        "      <td> 0</td>\n",
        "      <td> 0</td>\n",
        "      <td> 0</td>\n",
        "      <td> 0</td>\n",
        "    </tr>\n",
        "    <tr>\n",
        "      <th>4</th>\n",
        "      <td> 88650</td>\n",
        "      <td> johnsra05</td>\n",
        "      <td> 2006</td>\n",
        "      <td> 1</td>\n",
        "      <td> NYA</td>\n",
        "      <td> AL</td>\n",
        "      <td> 33</td>\n",
        "      <td>  6</td>\n",
        "      <td> 0</td>\n",
        "      <td>  1</td>\n",
        "      <td>...</td>\n",
        "      <td> 0</td>\n",
        "      <td> 0</td>\n",
        "      <td> 0</td>\n",
        "      <td> 0</td>\n",
        "      <td> 4</td>\n",
        "      <td> 0</td>\n",
        "      <td> 0</td>\n",
        "      <td> 0</td>\n",
        "      <td> 0</td>\n",
        "      <td> 0</td>\n",
        "    </tr>\n",
        "  </tbody>\n",
        "</table>\n",
        "<p>5 rows \u00d7 23 columns</p>\n",
        "</div>"
       ],
       "metadata": {},
       "output_type": "pyout",
       "prompt_number": 144,
       "text": [
        "      id     player  year  stint team  lg   g  ab  r   h  ...   rbi  sb  cs  \\\n",
        "0  88641  womacto01  2006      2  CHN  NL  19  50  6  14  ...     2   1   1   \n",
        "1  88643  schilcu01  2006      1  BOS  AL  31   2  0   1  ...     0   0   0   \n",
        "2  88645  myersmi01  2006      1  NYA  AL  62   0  0   0  ...     0   0   0   \n",
        "3  88649  helliri01  2006      1  MIL  NL  20   3  0   0  ...     0   0   0   \n",
        "4  88650  johnsra05  2006      1  NYA  AL  33   6  0   1  ...     0   0   0   \n",
        "\n",
        "   bb  so  ibb  hbp  sh  sf  gidp  \n",
        "0   4   4    0    0   3   0     0  \n",
        "1   0   1    0    0   0   0     0  \n",
        "2   0   0    0    0   0   0     0  \n",
        "3   0   2    0    0   0   0     0  \n",
        "4   0   4    0    0   0   0     0  \n",
        "\n",
        "[5 rows x 23 columns]"
       ]
      }
     ],
     "prompt_number": 144
    },
    {
     "cell_type": "markdown",
     "metadata": {},
     "source": [
      "Scatterplots are useful for data exploration, where we seek to uncover relationships among variables. There are no scatterplot methods for Series or DataFrame objects; we must instead use the matplotlib function scatter."
     ]
    },
    {
     "cell_type": "code",
     "collapsed": false,
     "input": [
      "fig = plt.scatter(baseball.ab, baseball.h)\n",
      "fig.axes.set_xlim(0, 700)\n",
      "fig.axes.set_ylim(0, 200)"
     ],
     "language": "python",
     "metadata": {},
     "outputs": [
      {
       "metadata": {},
       "output_type": "pyout",
       "prompt_number": 201,
       "text": [
        "(0, 200)"
       ]
      },
      {
       "metadata": {},
       "output_type": "display_data",
       "png": "[encoded data removed]",
       "text": [
        "<matplotlib.figure.Figure at 0x7f4d4869c940>"
       ]
      }
     ],
     "prompt_number": 201
    },
    {
     "cell_type": "markdown",
     "metadata": {},
     "source": [
      "We can add additional information to scatterplots by assigning variables to either the size of the symbols or their colors."
     ]
    },
    {
     "cell_type": "code",
     "collapsed": false,
     "input": [
      "fig = plt.scatter(baseball.ab, baseball.h, s=baseball.hr*10, alpha=0.5)  # s for size\n",
      "fig.axes.set_xlim(0, 700)\n",
      "fig.axes.set_ylim(0, 200)"
     ],
     "language": "python",
     "metadata": {},
     "outputs": [
      {
       "metadata": {},
       "output_type": "pyout",
       "prompt_number": 199,
       "text": [
        "(0, 200)"
       ]
      },
      {
       "metadata": {},
       "output_type": "display_data",
       "png": "[encoded data removed]",
       "text": [
        "<matplotlib.figure.Figure at 0x7f4d486b7278>"
       ]
      }
     ],
     "prompt_number": 199
    },
    {
     "cell_type": "code",
     "collapsed": false,
     "input": [
      "fig = plt.scatter(baseball.ab, baseball.h, c=baseball.hr, s=40, cmap='hot')  # c for color\n",
      "fig.axes.set_xlim(0, 700)\n",
      "fig.axes.set_ylim(0, 200)"
     ],
     "language": "python",
     "metadata": {},
     "outputs": [
      {
       "metadata": {},
       "output_type": "pyout",
       "prompt_number": 202,
       "text": [
        "(0, 200)"
       ]
      },
      {
       "metadata": {},
       "output_type": "display_data",
       "png": "[encoded data removed]",
       "text": [
        "<matplotlib.figure.Figure at 0x7f4d48606f28>"
       ]
      }
     ],
     "prompt_number": 202
    },
    {
     "cell_type": "markdown",
     "metadata": {},
     "source": [
      "To view scatterplots of a large numbers of variables simultaneously, we can use the scatter_matrix function that was recently added to Pandas. It generates a matrix of pair-wise scatterplots, optiorally with histograms or kernel density estimates on the diagonal."
     ]
    },
    {
     "cell_type": "code",
     "collapsed": false,
     "input": [
      "pd.scatter_matrix(baseball.loc[:,'r':'sb'], figsize=(12,8), diagonal='kde')"
     ],
     "language": "python",
     "metadata": {},
     "outputs": [
      {
       "metadata": {},
       "output_type": "pyout",
       "prompt_number": 176,
       "text": [
        "array([[<matplotlib.axes._subplots.AxesSubplot object at 0x7f4d4b2fa278>,\n",
        "        <matplotlib.axes._subplots.AxesSubplot object at 0x7f4d4b2cf278>,\n",
        "        <matplotlib.axes._subplots.AxesSubplot object at 0x7f4d4b296dd8>,\n",
        "        <matplotlib.axes._subplots.AxesSubplot object at 0x7f4d4b2529e8>,\n",
        "        <matplotlib.axes._subplots.AxesSubplot object at 0x7f4d4b218da0>,\n",
        "        <matplotlib.axes._subplots.AxesSubplot object at 0x7f4d4b1d4710>,\n",
        "        <matplotlib.axes._subplots.AxesSubplot object at 0x7f4d4b19b9e8>],\n",
        "       [<matplotlib.axes._subplots.AxesSubplot object at 0x7f4d4b0e5ba8>,\n",
        "        <matplotlib.axes._subplots.AxesSubplot object at 0x7f4d4b0a5cf8>,\n",
        "        <matplotlib.axes._subplots.AxesSubplot object at 0x7f4d4b06ceb8>,\n",
        "        <matplotlib.axes._subplots.AxesSubplot object at 0x7f4d4b027da0>,\n",
        "        <matplotlib.axes._subplots.AxesSubplot object at 0x7f4d4aff50b8>,\n",
        "        <matplotlib.axes._subplots.AxesSubplot object at 0x7f4d4afaaac8>,\n",
        "        <matplotlib.axes._subplots.AxesSubplot object at 0x7f4d4af7d160>],\n",
        "       [<matplotlib.axes._subplots.AxesSubplot object at 0x7f4d4af45320>,\n",
        "        <matplotlib.axes._subplots.AxesSubplot object at 0x7f4d4aefeb00>,\n",
        "        <matplotlib.axes._subplots.AxesSubplot object at 0x7f4d4aec7dd8>,\n",
        "        <matplotlib.axes._subplots.AxesSubplot object at 0x7f4d4ae839e8>,\n",
        "        <matplotlib.axes._subplots.AxesSubplot object at 0x7f4d4ae49cc0>,\n",
        "        <matplotlib.axes._subplots.AxesSubplot object at 0x7f4d4ae13e80>,\n",
        "        <matplotlib.axes._subplots.AxesSubplot object at 0x7f4d4add1fd0>],\n",
        "       [<matplotlib.axes._subplots.AxesSubplot object at 0x7f4d4ad1f1d0>,\n",
        "        <matplotlib.axes._subplots.AxesSubplot object at 0x7f4d4ad5b0b8>,\n",
        "        <matplotlib.axes._subplots.AxesSubplot object at 0x7f4d4aca1390>,\n",
        "        <matplotlib.axes._subplots.AxesSubplot object at 0x7f4d4acd9dd8>,\n",
        "        <matplotlib.axes._subplots.AxesSubplot object at 0x7f4d4ac2b2b0>,\n",
        "        <matplotlib.axes._subplots.AxesSubplot object at 0x7f4d4abf4470>,\n",
        "        <matplotlib.axes._subplots.AxesSubplot object at 0x7f4d4abb46d8>],\n",
        "       [<matplotlib.axes._subplots.AxesSubplot object at 0x7f4d4ab82080>,\n",
        "        <matplotlib.axes._subplots.AxesSubplot object at 0x7f4d4ab38940>,\n",
        "        <matplotlib.axes._subplots.AxesSubplot object at 0x7f4d4aaffb00>,\n",
        "        <matplotlib.axes._subplots.AxesSubplot object at 0x7f4d4aabf6a0>,\n",
        "        <matplotlib.axes._subplots.AxesSubplot object at 0x7f4d4b364cc0>,\n",
        "        <matplotlib.axes._subplots.AxesSubplot object at 0x7f4d4b5a85f8>,\n",
        "        <matplotlib.axes._subplots.AxesSubplot object at 0x7f4d4b44cd68>],\n",
        "       [<matplotlib.axes._subplots.AxesSubplot object at 0x7f4d4b881b00>,\n",
        "        <matplotlib.axes._subplots.AxesSubplot object at 0x7f4d4b9fa320>,\n",
        "        <matplotlib.axes._subplots.AxesSubplot object at 0x7f4d4b961908>,\n",
        "        <matplotlib.axes._subplots.AxesSubplot object at 0x7f4d4b957128>,\n",
        "        <matplotlib.axes._subplots.AxesSubplot object at 0x7f4d4b967a90>,\n",
        "        <matplotlib.axes._subplots.AxesSubplot object at 0x7f4d4c0e8828>,\n",
        "        <matplotlib.axes._subplots.AxesSubplot object at 0x7f4d4c49c9e8>],\n",
        "       [<matplotlib.axes._subplots.AxesSubplot object at 0x7f4d4c5ddd68>,\n",
        "        <matplotlib.axes._subplots.AxesSubplot object at 0x7f4d4c4adef0>,\n",
        "        <matplotlib.axes._subplots.AxesSubplot object at 0x7f4d4c44cb00>,\n",
        "        <matplotlib.axes._subplots.AxesSubplot object at 0x7f4d4c420d30>,\n",
        "        <matplotlib.axes._subplots.AxesSubplot object at 0x7f4d4c64cc88>,\n",
        "        <matplotlib.axes._subplots.AxesSubplot object at 0x7f4d4c8caeb8>,\n",
        "        <matplotlib.axes._subplots.AxesSubplot object at 0x7f4d4c63bbe0>]], dtype=object)"
       ]
      },
      {
       "metadata": {},
       "output_type": "display_data",
       "png": "[encoded data removed]",
       "text": [
        "<matplotlib.figure.Figure at 0x7f4d4b481128>"
       ]
      }
     ],
     "prompt_number": 176
    },
    {
     "cell_type": "heading",
     "level": 2,
     "metadata": {},
     "source": [
      "For the [next class](class08.ipynb)"
     ]
    },
    {
     "cell_type": "markdown",
     "metadata": {},
     "source": [
      "- Read [Chapters 7-9 and 13-14, from Statistics for Humanities](http://statisticsforhumanities.net/).\n",
      "- Read [Ordinary Least Squares in Python, from datarobot](http://www.datarobot.com/blog/ordinary-least-squares-in-python/).\n"
     ]
    }
   ],
   "metadata": {}
  }
 ]
}