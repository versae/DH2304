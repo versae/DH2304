{
 "metadata": {
  "name": "",
  "signature": "sha256:af3bd23b890270d6d9e0038778c4c8b3d442764e7ed166f0105c9826eec9f697"
 },
 "nbformat": 3,
 "nbformat_minor": 0,
 "worksheets": [
  {
   "cells": [
    {
     "cell_type": "markdown",
     "metadata": {},
     "source": [
      "<div align=\"center\">\n",
      "<h1>[Data, the Humanist's New Best Friend](index.ipynb)<br/>*Syllabus*</h1>\n",
      "</div>"
     ]
    },
    {
     "cell_type": "markdown",
     "metadata": {},
     "source": [
      "<div align=\"center\">\n",
      "<img src=\"files/images/data.jpg\" width=\"350\">\n",
      "<h4>\n",
      "    Western University<br/>\n",
      "    Department of Modern Languages and Literatures<br/>\n",
      "    Digital Humanities \u2013 DH 2304B\n",
      "</h4>\n",
      "</div>"
     ]
    },
    {
     "cell_type": "markdown",
     "metadata": {},
     "source": [
      "**Meets**: Winter 2015, Tuesdays 4:30pm-6:00pm, Thursdays 4:30pm-6:00pm<br/>\n",
      "**Room**: UC 207<br/>\n",
      "**Instructor**: Javier de la Rosa<br/>\n",
      "**E-mail**: [jdelaro@uwo.ca](mailto:jdelaro@uwo.ca)<br/>\n",
      "**Office**: AHB 1R14<br/>\n",
      "**Office Hours**: Tuesdays 2:30pm-4:30pm<br/>"
     ]
    },
    {
     "cell_type": "heading",
     "level": 2,
     "metadata": {},
     "source": [
      "Description"
     ]
    },
    {
     "cell_type": "markdown",
     "metadata": {},
     "source": [
      "This course is a hands-on and pragmatic introduction to computer tools and theoretical aspects of the use of data by humanists in a variety of academic pursuits. Furthermore, it will serve as an introduction to the techniques and methods used today to make sense of data from a Humanities point if view.\n",
      "\n",
      "*Data, the Humanist's New Best Friend* is divided into three blocks, plus an introductory review of the Python programming languge:\n",
      "\n",
      "- Data Mining, explaining the past and predicting the future by means of data analysis.\n",
      "- Text Analysis, producing valuable information from text sources.\n",
      "- Networks Science, understanding complex structures by analyzing the relationships among their entities."
     ]
    },
    {
     "cell_type": "heading",
     "level": 2,
     "metadata": {},
     "source": [
      "Pre-requisites"
     ]
    },
    {
     "cell_type": "markdown",
     "metadata": {},
     "source": [
      "This course is intended for last year undergraduate students. Since it uses the [Python](https://www.python.org/) progamming language very heavily, students must have mastered the fundamental concepts of programing. There are two different vias to fulfill the requisites:\n",
      "\n",
      "- *Via 1*. Student must have completed **Computer Sciences CS 2120: Computing for Life Scientists**, with a minimum standing of 60%. This course teaches the core concepts of algorithms and data structures leading to the ability to write simple programs and scripts in Python.\n",
      "- *Via 2*. Student must have completed **Digital Humanities DH 2220A/B: Computing and Informatics for the Humanities I** and **Digital Humanities DH 2221A/B: Computing and Informatics for the Humanities II**, with a minimum standing of 60%. The former includes an introduction to programming, using Python, in order to create programs and scripts to address problems that arise in applied research. The latter introduces methods to deal with data.\n",
      "\n",
      "The course will include three review classes on Python at the beginning of the term."
     ]
    },
    {
     "cell_type": "heading",
     "level": 2,
     "metadata": {},
     "source": [
      "Course Aims"
     ]
    },
    {
     "cell_type": "markdown",
     "metadata": {},
     "source": [
      "* Highlight the importance of being able to handle data as an integral part of digital humanists' tasks.\n",
      "\n",
      "* Connect students to cutting-edge reasearch in Digital Humanities.\n",
      "\n",
      "* Make the student aware of the possibilities and boundaries of the current personal computers and how certain things can be done easier than they thought.\n",
      "\n",
      "* Foster independence and self-sufficiency during research, as well as develop a critical analysis skill.\n",
      "\n",
      "* Expose students to a new ways of thinking while providing them with the tools they need to further explore other computational tools."
     ]
    },
    {
     "cell_type": "heading",
     "level": 2,
     "metadata": {},
     "source": [
      "Learning Outcomes"
     ]
    },
    {
     "cell_type": "markdown",
     "metadata": {},
     "source": [
      "Upon completing this course successfully, the students will be able to accomplish the following:\n",
      "\n",
      "- Solve problems in terms of the workflow that a program should follow in order to produce an adequate solution.\n",
      "- Write actual programming code that does what the student wants it to do, and helps the student to automate tasks.\n",
      "- Be aware of the wide variety set of tools, libraries and applications already available and ready to use, so the student does not have to write everything from scratch.\n",
      "- Analyze data, extract value out of it, and generate beautiful visualizations that highlights information that is almost invisible when using traditional grids and spreadsheets.\n",
      "- Efficiently manipulate data of different nature, such as text sources, networks, or tables.\n",
      "- Apply the knowledge acquired in this course to reflect on their own experience and needs as a future researcher."
     ]
    },
    {
     "cell_type": "heading",
     "level": 2,
     "metadata": {},
     "source": [
      "Course Materials"
     ]
    },
    {
     "cell_type": "markdown",
     "metadata": {},
     "source": [
      "The course is based on micro-lectures, class activities, and recommended readings available on the calendar. \n",
      "\n",
      "Micro-lectures are given in the format of interactive Python notebooks, that can be viewed as regular HTML pages in a browser by navigating to the [course website](index.ipynb). However, in order to fully take advantage of the materials and their interactivity, the student is expected to setup the IPython environment, download the notebooks and run them in her own computer.\n",
      "\n",
      "All readings are recommended, although not required, and will be listed and linked (when available) in the class notebooks.\n",
      "\n",
      "The OWL website will be used solely to send the assignments and the final project."
     ]
    },
    {
     "cell_type": "heading",
     "level": 2,
     "metadata": {},
     "source": [
      "Texts"
     ]
    },
    {
     "cell_type": "markdown",
     "metadata": {},
     "source": [
      "There is no required textbook for this course. However, the following books may help in general terms:\n",
      "\n",
      "* Downey, Allen, Chris Meyers, and Jeffrey Elkner. *[How to think like a computer scientist](http://www.openbookproject.net/thinkcs/python/english3e/index.html)*. Green Tea Press, 1999.\n",
      "  * Covers the basics of the Python language. It also has an [interactive version](http://interactivepython.org/courselib/static/thinkcspy/toc.html) with multiple choice tests and online programming.\n",
      "* McKinney, Wes. *[Python for Data Analysis: Data Wrangling with Pandas, NumPy, and IPython](http://shop.oreilly.com/product/0636920023784.do)*. O'Reilly Media, 2012.\n",
      "  * Introduces the numerical arsenal of Python.\n",
      "* Bird, Steven, Ewan Klein, and Edward Loper. *[Natural language processing with Python](https://sites.google.com/site/naturallanguagetoolkit/book)*. O'Reilly Media, Inc., 2009.\n",
      "  * Describes the NLTK Python package and it is written by the developers of this nice language processing toolkit.\n",
      "* Tsvetovat, Maksim, and Alexander Kouznetsov. *[Social Network Analysis for Startups: Finding connections on the social web](http://shop.oreilly.com/product/0636920020424.do)*. O'Reilly Media, Inc., 2011.\n",
      "  * Introduces graphs and netwoks and the NetworkX Python package.\n",
      "\n",
      "Any extra material or readings will be uploaded or linked, and will be available for downloading and printing (if needed) for each student."
     ]
    },
    {
     "cell_type": "heading",
     "level": 2,
     "metadata": {},
     "source": [
      "Topics"
     ]
    },
    {
     "cell_type": "markdown",
     "metadata": {},
     "source": [
      "Due to the way the class is being taught, the material covered and listed below will adapt to the interests, and abilities, of the class:\n",
      "\n",
      "- Block 1: How to Think Like a Computer Scientist (Review)\n",
      " - Python syntax, variables and values\n",
      " - Statements and expressions\n",
      " - Functions\n",
      " - Control flow execution\n",
      " - Data types\n",
      "- Block 2: Dealing with Data\n",
      " - Arrays and Matrices\n",
      " - Cleaning data\n",
      " - Summary statistics\n",
      " - Statistical modeling\n",
      " - Visualizations\n",
      " - Correlations\n",
      " - Machine Learning\n",
      "- Block 3: Text Analysis\n",
      " - Tokenization\n",
      " - Word and phrase frequencies\n",
      " - Co-Occurrence and similarity\n",
      " - Word inflection and lemmatization\n",
      " - n-grams\n",
      " - Information extraction\n",
      " - Sentiment Analysis\n",
      " - Generative Writing\n",
      "- Block 4: Network Science\n",
      " - Graph Theory and Networks\n",
      " - Centrality Measures\n",
      " - Assortativity and Degree Correlations\n",
      " - Modularity and Community Structure\n",
      " - Small Worlds\n",
      " - Network Dynamics\n",
      " - Social Network Analysis\n",
      " - Plot Analysis"
     ]
    },
    {
     "cell_type": "heading",
     "level": 2,
     "metadata": {},
     "source": [
      "Evaluation"
     ]
    },
    {
     "cell_type": "markdown",
     "metadata": {},
     "source": [
      "Evaluation is calculated as follows:\n",
      "\n",
      "* Attendance: 10% (more than 3 unjustified absences means a zero)\n",
      "* Participation: 15% (including activities done during the lectures)\n",
      "* Assignments: 36% (3 assignments, 12% each one)\n",
      "* Final Project: 39% (5% Proposal, 20% Essay, 14% Oral Presentation)"
     ]
    },
    {
     "cell_type": "heading",
     "level": 4,
     "metadata": {},
     "source": [
      "Attendance (10%)"
     ]
    },
    {
     "cell_type": "markdown",
     "metadata": {},
     "source": [
      "Class attendance plays an important role in the successful completion of this course. Students are expected to come to class regularly and those missing four or more classes will automatically lose their attendance grade."
     ]
    },
    {
     "cell_type": "heading",
     "level": 4,
     "metadata": {},
     "source": [
      "Participation (15%)"
     ]
    },
    {
     "cell_type": "markdown",
     "metadata": {},
     "source": [
      "In-class participation: students are expected to come to class prepared to participate actively. During the theoretical explanation, a set of activities related to the content of the class will be proposed for students to be solved in situ.  These activities are meant to give students the opportunity to apply the knowledge they have acquired in the course. Students will work in groups, or with a partner, depending on the number of students enrolled in the course.\n",
      "\n",
      "The different criteria to evaluate the participation will be the following:\n",
      "\n",
      "- Questions and comments during the explanations.\n",
      "- Activities made in class. Some may be requested as take home activities and to be sent to the teacher."
     ]
    },
    {
     "cell_type": "heading",
     "level": 4,
     "metadata": {},
     "source": [
      "Assignments (36%)"
     ]
    },
    {
     "cell_type": "markdown",
     "metadata": {},
     "source": [
      "There will be three different assignments based on the three main practical blocks of contents, excluding introduction and programming review. Each of which will cover a real use case in Digital Humanities.\n",
      "\n",
      "- Data Mining (12%).\n",
      "- Text Analysis (12%).\n",
      "- Network Science (12%)."
     ]
    },
    {
     "cell_type": "heading",
     "level": 4,
     "metadata": {},
     "source": [
      "Final Project (39%)"
     ]
    },
    {
     "cell_type": "markdown",
     "metadata": {},
     "source": [
      "Students must take into account the different theoretical approaches analyzed in class when evaluating the chosen method/program of language teaching, and choose a problem, phenomenon, dataset or topic of interest for him or her, and use at least two of the three blocks to write a Notebook about it. There is no minimal extension for the Notebook, as long as the project covers all the aspects. The final project is divided in three parts:\n",
      "\n",
      "- **Proposal (5%)**. One page that clearly outlines what the student has in mind for the final project. A preliminary bibliography must be provided.\n",
      "- **Notebook (20%)**. The project itself bill be an IPython Notebook, since that is the best way to evaluate the acquired skills in exploratory programming.\n",
      "- **Presentation (14%)**. Oral presentations will be made in class, at the end of the course, and the format is totally up to the student.\n",
      "\n",
      "*Note*: Depending on the number of students, final projects might be carried out in groups, since there is only **2 classes** for all the oral presentations."
     ]
    },
    {
     "cell_type": "heading",
     "level": 2,
     "metadata": {},
     "source": [
      "Plagiarism"
     ]
    },
    {
     "cell_type": "markdown",
     "metadata": {},
     "source": [
      "Plagiarism is a major academic offence (see [Scholastic Offense Policy in the Western Academic Calendar](http://www.westerncalendar.uwo.ca/2013/pg113.html)).  Plagiarism is the inclusion of someone else\u2019s verbatim or paraphrased text in one\u2019s own written work without immediate reference.  Verbatim text must be surrounded by quotation marks or identified if it is no longer that four lines.  A reference must follow right after borrowed material (usually the author\u2019s name and page number).  Without immediate reference to borrowed material, a list of courses at the end of a written assignment does not protect a writer against the possible charge of plagiarism.  Western University Ontario uses a plagiarism-checking service called [Turnitin](http://turnitin.com/)."
     ]
    },
    {
     "cell_type": "heading",
     "level": 2,
     "metadata": {},
     "source": [
      "Absenteeism"
     ]
    },
    {
     "cell_type": "markdown",
     "metadata": {},
     "source": [
      "Students seeking academic accommodation on medical grounds for any missed tests, exams, participation components and/or assignments must apply to the Academic Counselling office of their home faculty and provide documentation.  Academic accommodation cannot be granted by the instructor or department.\n",
      "\n",
      "- [UWO\u2019s Policy on Accomodation for medical illness](https://studentservices.uwo.ca/secure/index/cfm).\n",
      "- Downloadable [Student Medical Certificate (SMC)](https://studentservices.uwo.ca),  under the Medical Documentation heading. "
     ]
    },
    {
     "cell_type": "heading",
     "level": 2,
     "metadata": {},
     "source": [
      "Accessibility Statement"
     ]
    },
    {
     "cell_type": "markdown",
     "metadata": {},
     "source": [
      "Please contact the course instructor if you require material in an alternate format or if you require any other arrangements to make this course more accessible to you. You may also wish to contact Services for Students with Disabilities (SSD) at 661-2111 x 82147 for any specific question regarding an accommodation"
     ]
    },
    {
     "cell_type": "heading",
     "level": 2,
     "metadata": {},
     "source": [
      "Calendar"
     ]
    },
    {
     "cell_type": "markdown",
     "metadata": {},
     "source": [
      "The schedule of classes and deadlines for assignments can be consulted in the [course calendar](calendar.ipynb)."
     ]
    }
   ],
   "metadata": {}
  }
 ]
}
