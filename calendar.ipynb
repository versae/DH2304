{
 "metadata": {
  "name": "",
  "signature": "sha256:d41e443be40967822fafdf82cb78475db6bd29059fe969dc6d24e63dc3a4945b"
 },
 "nbformat": 3,
 "nbformat_minor": 0,
 "worksheets": [
  {
   "cells": [
    {
     "cell_type": "markdown",
     "metadata": {},
     "source": [
      "<div align=\"center\">\n",
      "<h1>[Data, the Humanist's New Best Friend](index.ipynb)<br/>*Calendar*</h1>\n",
      "</div>"
     ]
    },
    {
     "cell_type": "markdown",
     "metadata": {},
     "source": [
      "**Instructor**: Javier de la Rosa<br/>\n",
      "**E-mail**: [jdelaro@uwo.ca](mailto:jdelaro@uwo.ca)<br/>\n",
      "**Office**: AHB 1R14<br/>\n",
      "**Office Hours**: Tuesdays 2:30pm-4:30pm<br/>\n",
      "**Meets**: Winter 2015, Tuesdays 4:30pm-6:00pm, Thurdays 4:30pm-6:00pm<br/>\n",
      "**Room**: UC 207<br/>"
     ]
    },
    {
     "cell_type": "heading",
     "level": 3,
     "metadata": {},
     "source": [
      "Block 0: What is This Course About?"
     ]
    },
    {
     "cell_type": "markdown",
     "metadata": {},
     "source": [
      "* **January $6^{th}$**: [Class 01](class01.ipynb).\n",
      " * Presentation\n",
      " * Initial setup"
     ]
    },
    {
     "cell_type": "heading",
     "level": 3,
     "metadata": {},
     "source": [
      "Block 1: How to Think Like a Computer Scientist (Review)"
     ]
    },
    {
     "cell_type": "markdown",
     "metadata": {},
     "source": [
      "* **January $8^{th}$**: [Class 02](class02.ipynb).\n",
      " * Topics:\n",
      "   - Python syntax\n",
      "   - Variables and values\n",
      "   - Statements and expressions\n",
      " * Readings:\n",
      "   - [Chapter 1 of *How to Think Like a Computer Scientist*](http://openbookproject.net/thinkcs/python/english2e/ch01.html)\n",
      "   - [Sections 2.1-2.9 of chapter 2 of *How to Think Like a Computer Scientist*](http://openbookproject.net/thinkcs/python/english2e/ch02.html)\n",
      "* **January $8^{th}$, $13^{th}$**: [Class 03](class03.ipynb).\n",
      " * Topics:\n",
      "   - Boolean logic\n",
      "   - Define functions\n",
      "   - Debug problems\n",
      "   - Get data from the keyboard\n",
      " * Readings:\n",
      "   - [Rest of chapter 2 of *How to Think Like a Computer Scientist*](http://openbookproject.net/thinkcs/python/english2e/ch02.html)\n",
      "   - [Chapter 3 of *How to Think Like a Computer Scientist*](http://openbookproject.net/thinkcs/python/english2e/ch03.html)\n",
      "   - [Chapter 4 (up to section 4.10) of *How to Think Like a Computer Scientist*](http://openbookproject.net/thinkcs/python/english2e/ch04.html)\n",
      "* **January $13^{th}$, $15^{th}$, $20^{th}$**: [Class 04](class04.ipynb).\n",
      " * Topics:\n",
      "   - Import and reuse code\n",
      "   - Format, comment and document your code\n",
      "   - Control flow execution\n",
      "   - Complex data types like lists and dictionaries\n",
      " * Readings:\n",
      "   - [Chapter 5 (up to section 5.8) of *How to Think Like a Computer Scientist*](http://openbookproject.net/thinkcs/python/english2e/ch05.html)\n",
      "   - [Sections 6.1-6.3, 6.5-6.6, and 6.9-6.13 of chapter 5 of *How to Think Like a Computer Scientist*](http://openbookproject.net/thinkcs/python/english2e/ch06.html)\n",
      "   - [Chapter 7 of *How to Think Like a Computer Scientist*](http://openbookproject.net/thinkcs/python/english2e/ch07.html)\n",
      "   - [Chapter 9 of *How to Think Like a Computer Scientist*](http://openbookproject.net/thinkcs/python/english2e/ch09.html)\n",
      "   - [Chapter 12 of *How to Think Like a Computer Scientist*](http://openbookproject.net/thinkcs/python/english2e/ch12.html)"
     ]
    },
    {
     "cell_type": "heading",
     "level": 3,
     "metadata": {},
     "source": [
      "Block 2: Dealing with Data"
     ]
    },
    {
     "cell_type": "markdown",
     "metadata": {},
     "source": [
      "* **January $20^{th}$**: [Class 05](class05.ipynb).\n",
      " * Topics:\n",
      "   - Getting data into Python\n",
      "   - Objects\n",
      "   - NumPy\n",
      "   - Arrays and Matrices\n",
      "   - SciPy\n",
      " * Readings:\n",
      "   - Section [1.3. NumPy: creating and manipulating numerical data, from Scipy lecture notes](http://scipy-lectures.github.io/intro/numpy/index.html).\n",
      "   - Section [1.5.6. Statistics and random numbers: scipy.stats, from Scipy lecture notes](http://scipy-lectures.github.io/intro/scipy.html#statistics-and-random-numbers-scipy-stats).\n",
      "\n",
      "* **January $22^{nd}$**: [Class 06](class06.ipynb).\n",
      " * Topics:\n",
      "   - Pandas\n",
      "   - Cleaning data\n",
      "   - Summary statistics\n",
      "   - Indexing\n",
      "   - Merging, joining\n",
      "   - Group-by\n",
      " * Readings:\n",
      "   - Read [10 Minutes to Pandas, from pydata](http://pandas.pydata.org/pandas-docs/stable/10min.html).\n",
      "   - Read [Series, from pydata](http://pandas.pydata.org/pandas-docs/stable/dsintro.html#series).\n",
      "   - Read [DataFrame, from pydata](http://pandas.pydata.org/pandas-docs/stable/dsintro.html#dataframe).\n",
      "   - Read [Chapters 1-5, from Julia Evans pandas-cookbok](https://github.com/jvns/pandas-cookbook).\n",
      "\n",
      "* **January $27^{th}$, $29^{th}$, February $3^{rd}$**: [Class 07](class07.ipynb).\n",
      " * Topics:\n",
      "   - Split-Apply-Combine\n",
      "   - Cross-tabulation and pivoting\n",
      "   - String manipulation\n",
      "   - matplotlib\n",
      "   - Visualizations\n",
      "   - Histograms\n",
      " * Readings:\n",
      "   - Read [The Split-Apply-Combine Strategy for Data Analysis](http://www.jstatsoft.org/v40/i01/paper)\n",
      "   - Read Section [String Manipulation, 205-212, from Python for Data Analysis](http://shop.oreilly.com/product/0636920023784.do).\n",
      "   - Read Section [Pivot Tables and Cross-Tabulation, 275-278, from Python for Data Analysis](http://shop.oreilly.com/product/0636920023784.do).\n",
      "   - Read [Section 1.4. Matplotlib: plotting, from Scipy lecture notes](http://scipy-lectures.github.io/intro/matplotlib/matplotlib.html)\n",
      "\n",
      "* **February $5^{th}$, $10^{th}$**: [Class 08](class08.ipynb).\n",
      " * Topics:\n",
      "   - Statistical modeling\n",
      "   - statmodels\n",
      "   - Correlation\n",
      "   - Regression\n",
      "   - Distributions\n",
      " * Rreadings:\n",
      "   - Read [Chapters 7-9 and 13-14, from Statistics for Humanities](http://statisticsforhumanities.net/).\n",
      "   - Read [Ordinary Least Squares in Python, from datarobot](http://www.datarobot.com/blog/ordinary-least-squares-in-python/).\n",
      "\n",
      "* ~~Class 09~~ (Canceled).\n",
      " * Topics:\n",
      "   - Machine Learning\n",
      "   - scikit-learn\n",
      "   - Supervised learning: kNN\n",
      "   - Unsupervised learning: K-means\n",
      "   - Cross-validation\n",
      " * Readings:\n",
      "   - Read [Chapter 1, from Introduction to Machine Learning](http://alex.smola.org/drafts/thebook.pdf\u200e).\n",
      "   - Read [Chapters 1-3, from A Course in Machine Learning](http://ciml.info/).\n",
      "   - Read [Supervised learning: predicting an output variable from high-dimensional observations](http://scikit-learn.org/stable/tutorial/statistical_inference/supervised_learning.html).\n",
      "   - Read [Unsupervised learning: seeking representations of the data, from scikit-learn](http://scikit-learn.org/stable/tutorial/statistical_inference/unsupervised_learning.html).\n",
      "\n",
      "* **February $12^{th}$**: Class 10.\n",
      "  * Work on Assignment 1."
     ]
    },
    {
     "cell_type": "heading",
     "level": 3,
     "metadata": {},
     "source": [
      "Block 3: Text Analysis"
     ]
    },
    {
     "cell_type": "markdown",
     "metadata": {},
     "source": [
      "* **February $24^{th}$, $26^{th}$**: [Class 11](class11.ipynb).\n",
      "  * Topics:\n",
      "   - NLTK\n",
      "   - Tokenization\n",
      "   - Concordance\n",
      "   - Co-Occurrence and similarity\n",
      "   - Word and phrase frequencies\n",
      "   - Dispersion plots\n",
      "   - TextBlob\n",
      "  * Readings:\n",
      "   - Read [Chapter 1, from Natural Language Processing with Python](http://www.nltk.org/book3/).\n",
      "  * Deadlines:\n",
      "   - Assignment 1. *Note*: Re-submissions are allowed until this day.\n",
      "* **March $3^{rd}$**: [Class 12](class12.ipynb).\n",
      "  * Topics:\n",
      "   - Corpora\n",
      "   - Conditional Frequency Distributions\n",
      "   - Sources of data\n",
      "   - Language detection\n",
      "   - Machine translation\n",
      "  * Readings:\n",
      "   - Read [Chapters 2-3, from Natural Language Processing with Python](http://www.nltk.org/book3/).\n",
      "* **March $5^{th}$**: [Class 13](class13.ipynb).\n",
      "  * Topics:\n",
      "   - Regular expressions\n",
      "   - Word inflection and lemmatization\n",
      "   - Parsing\n",
      "   - n-grams\n",
      "   - Part-of-speech Tagging\n",
      "  * Readings:\n",
      "   - Read [Chapter 5, from Natural Language Processing with Python](http://www.nltk.org/book3/).\n",
      "* **March $10^{th}$**: [Class 14](class14.ipynb).\n",
      "  * Topics\n",
      "   - Information extraction\n",
      "   - Trees\n",
      "   - Named Entity Recognition\n",
      "   - Mining HTML, Twitter and Facebook\n",
      "   - Basic Sentiment Analysis\n",
      "  * Readings:\n",
      "   - Read [Chapter 7, from Natural Language Processing with Python](http://www.nltk.org/book3/).\n",
      "   - Read [Chapters 1 and 5, from Mining the Social Web](https://github.com/ptwobrussell/Mining-the-Social-Web-2nd-Edition).\n",
      "* ~~Class 15~~ (Canceled).\n",
      "  * Topics:\n",
      "   - Sentiment Analysis\n",
      "   - Classifiers\n",
      "   - Generative Writing\n",
      "  * Readings:\n",
      "   - Read [Chapters 6-7, from Natural Language Processing with Python](http://www.nltk.org/book3/).\n",
      "* **March $12^{th}$**: Class 16.\n",
      "  * Work on Assignment 2."
     ]
    },
    {
     "cell_type": "heading",
     "level": 3,
     "metadata": {},
     "source": [
      "Block 4: Network Science"
     ]
    },
    {
     "cell_type": "markdown",
     "metadata": {},
     "source": [
      "* **March $17^{th}$**: [Class 17](class17.ipynb).\n",
      "  * Topics:\n",
      "   - Graph Theory\n",
      "   - Vertices and relationships\n",
      "   - Networks\n",
      "   - Network Analysis\n",
      "   - NetworkX\n",
      "  * Readings:\n",
      "   - Read [Sections 2.1-2.3, from Networks, Crowds, and Markets: Reasoning About a Highly Connected World](https://www.cs.cornell.edu/home/kleinber/networks-book/networks-book-ch02.pdf).\n",
      "   - Read [Chapter 3](http://www.cs.berkeley.edu/~vazirani/algorithms/chap3.pdf) and [4](http://www.cs.berkeley.edu/~vazirani/algorithms/chap4.pdf), from Algorithms.\n",
      "  * Deadlines:\n",
      "   - Assignment 2. *Note*: Re-submissions are allowed until this day.\n",
      "* **March $19^{th}$**: [Class 18](class18.ipynb). \n",
      "  * Topics:\n",
      "   - Centrality\n",
      "   - Degree\n",
      "   - Betweenness\n",
      "   - Closeness\n",
      "   - Eigenvector\n",
      "   - Current flow betweenness\n",
      "   - Ego networks\n",
      "  * Readings:\n",
      "   - Read [Chapter 3, from Networks, Crowds, and Markets: Reasoning About a Highly Connected World](https://www.cs.cornell.edu/home/kleinber/networks-book/networks-book-ch03.pdf).\n",
      "* **March $24^{th}$**: Class 19.\n",
      "  * Topics:\n",
      "   - Random vs Scale Free\n",
      "   - Small Worlds\n",
      "   - Network Dynamics\n",
      "   - Social Network Analysis\n",
      "   - Modularity and Community Structure\n",
      "  * Readings:\n",
      "   - Read [Python for Social Science](http://www-rohan.sdsu.edu/~gawron/python_for_ss/course_core/book_draft/Social_Networks/Social_Networks.html#social-networks).\n",
      "   - Read Chapter 4, from [Social Networks for Startups](http://shop.oreilly.com/product/0636920020424.do).\n",
      "* **March $26^{th}$**: Class 20.\n",
      "  * Topics:\n",
      "   - Multi-partite networks\n",
      "   - Meta-networks\n",
      "   - Modeling\n",
      "   - The Property Graph\n",
      "  * Readings:\n",
      "   - Read [Sections 3.1-3.2 and Chapter 7, from Graph Databases](http://graphdatabases.com/).\n",
      "* ~~Class 21~~ (Canceled).\n",
      "  * Topics:\n",
      "   - Network Content Analysis\n",
      "   - Plot Analysis\n",
      "  * Readings:\n",
      "   - [On Social Networks in Plays and Novels](http://porto.polito.it/2517294/1/V220131010_social.networks.pdf), from The International Journal of Sciences.\n",
      "   - [Network Theory, Plot Analysis](http://litlab.stanford.edu/LiteraryLabPamphlet2.pdf\u200e).\n",
      "  * Deadlines:\n",
      "   - Final Project proposal.\n",
      "* **March $31^{st}$**: Class 22.\n",
      "  * Work on Assignment 3."
     ]
    },
    {
     "cell_type": "heading",
     "level": 3,
     "metadata": {},
     "source": [
      "Block 5: Final Projects"
     ]
    },
    {
     "cell_type": "markdown",
     "metadata": {},
     "source": [
      "* **April $2^{nd}$**: Class 23.\n",
      "  * Work on Final Projects.\n",
      "  * Deadlines:\n",
      "   - Assignment 3. *Note*: Re-submissions are allowed until this day.\n",
      "* **April $6^{th}$**: Class 24. **Last day of class**.\n",
      "  * Final Project presentations"
     ]
    },
    {
     "cell_type": "heading",
     "level": 3,
     "metadata": {},
     "source": [
      "Classes End"
     ]
    },
    {
     "cell_type": "markdown",
     "metadata": {},
     "source": [
      "* **April $16^{th}$**:\n",
      "  * **All** asignments and **final project** must be handed in by this date.\n",
      "  * It is not allowed to re-submit graded assignments.\n",
      "  * Deadlines:\n",
      "   - Assignment 1.\n",
      "   - Assignment 2.\n",
      "   - Assignment 3.\n",
      "   - Final Project."
     ]
    }
   ],
   "metadata": {}
  }
 ]
}