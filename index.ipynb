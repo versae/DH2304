{
 "metadata": {
  "name": "",
  "signature": "sha256:98de857434a09fc125a9dde7e8b6131c9d0b5a50a2493beed32cc105558d9078"
 },
 "nbformat": 3,
 "nbformat_minor": 0,
 "worksheets": [
  {
   "cells": [
    {
     "cell_type": "markdown",
     "metadata": {},
     "source": [
      "<div align=\"center\">\n",
      "<h1>Data, the Humanist's New Best Friend<br/>*Table of Contents*</h1>\n",
      "</div>"
     ]
    },
    {
     "cell_type": "markdown",
     "metadata": {},
     "source": [
      "<div>\n",
      "<h4>\n",
      "Javier de la Rosa<br/>\n",
      "[jdelaro@uwo.ca](mailto:jdelaro@uwo.ca)<br/>\n",
      "<br/>\n",
      "Western University<br/>\n",
      "Department of Modern Languages and Literatures<br/>\n",
      "Digital Humanities \u2013 DH 2304B<br/>\n",
      "</h4>\n",
      "</div>\n",
      "\n",
      "Welcome to the course *Data, the Humanist's New Best Friend*.\n",
      "\n",
      "- [Syllabus](syllabus.ipynb)\n",
      " - [Course Description](syllabus.ipynb#Description)\n",
      " - [Pre-requisites](syllabus.ipynb#Pre-requisites)\n",
      " - [Course Aims](syllabus.ipynb#Course-Aims)\n",
      " - [Learning Outcomes](syllabus.ipynb#Learning-Outcomes)\n",
      " - [Course Materials](syllabus.ipynb#Course-Materials)\n",
      " - [Texts](syllabus.ipynb#Texts)\n",
      " - [Topics](syllabus.ipynb#Topics)\n",
      " - [Evaluation](syllabus.ipynb#Evaluation)\n",
      " - [Plagiarism](syllabus.ipynb#Plagiarism)\n",
      " - [Absenteeism](syllabus.ipynb#Absenteeism)\n",
      "- [Calendar](calendar.ipynb)\n",
      " - **January $6^{th}$**: [Class 01](class01.ipynb).\n",
      " - **January $8^{th}$**: [Class 02](class02.ipynb), [Class 03](class03.ipynb).\n",
      " - **January $13^{th}$**: [Class 03](class03.ipynb), [Class 04](class04.ipynb).\n",
      "- [Bibliography](bibliography.ipynb)\n",
      "- [Resources](resources.ipynb)\n",
      "\n",
      "Extended description of the course.\n",
      "- [Description](description.ipynb)\n",
      " - [About](description.ipynb#About)\n",
      " - [Justification](description.ipynb#Justification)\n",
      " - [Philosophy of Teaching](description.ipynb#Philosophy-of-Teaching)\n",
      " - [Methodology](description.ipynb#Methodology)\n",
      " - [Evaluation](description.ipynb#Evaluation)\n",
      " - [Course Plan](description.ipynb#Course-Plan)\n",
      "   - [Block 0: What is This Course About?](description.ipynb#Block-0:-What-is-This-Course-About?)\n",
      "   - [Block 1: How to Think Like a Computer Scientist (Review)](description.ipynb#Block-1:-How-to-Think-Like-a-Computer-Scientist-[Review])\n",
      "   - [Block 2: Data Mining](description.ipynb#Block-2:-Data-Mining)\n",
      "   - [Block 3: Text Analysis](description.ipynb#Block-3:-Text-Analysis)\n",
      "   - [Block 4: Network Science](description.ipynb#Block-4:-Network-Science)"
     ]
    }
   ],
   "metadata": {}
  }
 ]
}