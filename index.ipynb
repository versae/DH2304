{
 "metadata": {
  "name": "",
  "signature": "sha256:78dc54f9729c77bfeae7b7563be4efb124d8b96c95af9ca194812c201299071d"
 },
 "nbformat": 3,
 "nbformat_minor": 0,
 "worksheets": [
  {
   "cells": [
    {
     "cell_type": "markdown",
     "metadata": {},
     "source": [
      "<div align=\"center\">\n",
      "<h1>Data, the Humanist's New Best Friend<br/>*Table of Contents*</h1>\n",
      "</div>"
     ]
    },
    {
     "cell_type": "markdown",
     "metadata": {},
     "source": [
      "<div>\n",
      "<h4>\n",
      "Javier de la Rosa<br/>\n",
      "[jdelaro@uwo.ca](mailto:jdelaro@uwo.ca)<br/>\n",
      "<br/>\n",
      "Western University<br/>\n",
      "Department of Modern Languages and Literatures<br/>\n",
      "Digital Humanities \u2013 DH 2304B<br/>\n",
      "</h4>\n",
      "</div>\n",
      "\n",
      "Welcome to the course *Data, the Humanist's New Best Friend*.\n",
      "\n",
      "- [Syllabus](syllabus.ipynb)\n",
      " - [Course Description](syllabus.ipynb#Description)\n",
      " - [Pre-requisites](syllabus.ipynb#Pre-requisites)\n",
      " - [Course Aims](syllabus.ipynb#Course-Aims)\n",
      " - [Learning Outcomes](syllabus.ipynb#Learning-Outcomes)\n",
      " - [Course Materials](syllabus.ipynb#Course-Materials)\n",
      " - [Texts](syllabus.ipynb#Texts)\n",
      " - [Topics](syllabus.ipynb#Topics)\n",
      " - [Evaluation](syllabus.ipynb#Evaluation)\n",
      " - [Plagiarism](syllabus.ipynb#Plagiarism)\n",
      " - [Absenteeism](syllabus.ipynb#Absenteeism)\n",
      "- [Calendar](calendar.ipynb)\n",
      " - **January $6^{th}$**: [Class 01](class01.ipynb).\n",
      " - **January $8^{th}$**: [Class 02](class02.ipynb), [Class 03](class03.ipynb).\n",
      " - **January $13^{th}$**: [Class 03](class03.ipynb), [Class 04](class04.ipynb).\n",
      " - **January $14^{th}$**: [Class 04](class04.ipynb).\n",
      " - **January $20^{th}$**: [Class 04](class04.ipynb), [Class 05](class05.ipynb).\n",
      " - **January $22^{nd}$**: [Class 06](class06.ipynb).\n",
      " - **January $27^{th}$**: [Class 06](class06.ipynb), [Class 07](class07.ipynb).\n",
      " - **January $29^{th}$**: [Class 07](class07.ipynb).\n",
      " - **February $3^{rd}$**: [Class 07](class07.ipynb).\n",
      " - **February $5^{th}$**: [Class 08](class08.ipynb).\n",
      " - **February $10^{th}$**: [Class 08](class08.ipynb).\n",
      " - **February $12^{th}$**: ~~Class 09~~ (canceled), Class 10 (work on [assignment 1](assignment1.ipynb))\n",
      " - **February $24^{th}$**: [Class 11](class11.ipynb).\n",
      " - **February $26^{th}$**: [Class 11](class11.ipynb).\n",
      " - **March $3^{rd}$**: [Class 12](class12.ipynb).\n",
      " - **March $5^{th}$**: [Class 13](class13.ipynb).\n",
      " - **March $10^{th}$**: [Class 14](class14.ipynb).\n",
      " - **March $12^{th}$**: ~~Class 15~~ (canceled), Class 16 (work on [assignment 2](assignment2.ipynb))\n",
      "- [Deadlines](calendar.ipynb)\n",
      " - **February $24^{th}$**: [Assignment 1. Titanic: Women and Children First](assignment1.ipynb).\n",
      " - **March $20^{th}$**: [Assignment 2. Apple Keynote Perception](assignment2.ipynb).\n",
      " - **March $31^{th}$**: Assignment 3.\n",
      " - **April $16^{th}$**: **Final Project**.\n",
      "- [Bibliography](bibliography.ipynb)\n",
      "- [Resources](resources.ipynb)\n",
      "\n",
      "Extended description of the course.\n",
      "- [Description](description.ipynb)\n",
      " - [About](description.ipynb#About)\n",
      " - [Justification](description.ipynb#Justification)\n",
      " - [Philosophy of Teaching](description.ipynb#Philosophy-of-Teaching)\n",
      " - [Methodology](description.ipynb#Methodology)\n",
      " - [Evaluation](description.ipynb#Evaluation)\n",
      " - [Course Plan](description.ipynb#Course-Plan)\n",
      "   - [Block 0: What is This Course About?](description.ipynb#Block-0:-What-is-This-Course-About?)\n",
      "   - [Block 1: How to Think Like a Computer Scientist (Review)](description.ipynb#Block-1:-How-to-Think-Like-a-Computer-Scientist-[Review])\n",
      "   - [Block 2: Data Mining](description.ipynb#Block-2:-Data-Mining)\n",
      "   - [Block 3: Text Analysis](description.ipynb#Block-3:-Text-Analysis)\n",
      "   - [Block 4: Network Science](description.ipynb#Block-4:-Network-Science)"
     ]
    }
   ],
   "metadata": {}
  }
 ]
}