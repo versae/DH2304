{
 "metadata": {
  "name": "",
  "signature": "sha256:cc673ee551a9bfd1cf22d29f035900aebe25e5071c0be21bfdc6d678c2ebae2c"
 },
 "nbformat": 3,
 "nbformat_minor": 0,
 "worksheets": [
  {
   "cells": [
    {
     "cell_type": "markdown",
     "metadata": {},
     "source": [
      "<div align=\"center\">\n",
      "<h1>[Data, the Humanist's New Best Friend](index.ipynb)<br/>*Class 06*</h1>\n",
      "</div>"
     ]
    },
    {
     "cell_type": "markdown",
     "metadata": {},
     "source": [
      "In this class you are expected to learn:\n",
      "\n",
      "1. Pandas\n",
      "2. Cleaning data\n",
      "3. Summary statistics\n",
      "4. Indexing\n",
      "5. Merging, joining\n",
      "6. Group by"
     ]
    },
    {
     "cell_type": "markdown",
     "metadata": {},
     "source": [
      "<div align=\"center\">\n",
      "<img src=\"files/images/pandas.jpg\" width=\"350\">\n",
      "`import pandas as pd`\n",
      "</div>"
     ]
    },
    {
     "cell_type": "heading",
     "level": 2,
     "metadata": {},
     "source": [
      "Pandas"
     ]
    },
    {
     "cell_type": "markdown",
     "metadata": {},
     "source": [
      "For any of you that have heard about R, a statistics-oriented language, Pandas is the *R for Python*. It provides easy to use data structures and a ton of useful helper functions for data cleanup and transformations. It's fast because is backed by Numpy arrays, and integrates pretty well with other Python libraries such as `scikit-learn` for statistical learning, or `matplotlib` for plotting.\n",
      "\n",
      "Pandas provides a key data structure: the `pandas.DataFrame`; which is like a super rich 2D array that addresses three deficiencies of arrays:\n",
      "- They hold heterogenous data; each column can have its own `numpy.dtype`, so can have, in the same row, numbers, strings, and dates.\n",
      "- The axes of a `DataFrame` are labeled with column names and row indices, what makes easier slicing and indexing.\n",
      "- They account for missing values, which is not directly supported by arrays, in the form or `pandas.na` or `NaN`, that stands for \"not a number\".\n",
      "\n",
      "Data frames are extremely useful for data munging. They provide a large range of operations such as filter, join, and group-by aggregation. Furthermore, `pandas.Series` is to an 1D array what `pandas.DataFrame` is to a 2d array."
     ]
    },
    {
     "cell_type": "code",
     "collapsed": false,
     "input": [
      "import numpy as np  # we will need it\n",
      "import pandas as pd"
     ],
     "language": "python",
     "metadata": {},
     "outputs": [],
     "prompt_number": 1
    },
    {
     "cell_type": "heading",
     "level": 2,
     "metadata": {},
     "source": [
      "Read data with Pandas"
     ]
    },
    {
     "cell_type": "markdown",
     "metadata": {},
     "source": [
      "Pandas is able to read data from a bunch of different data formats: CSV, TSV, Excel, HDFS, JSON, etc. The whole list is in the [online documentation](http://pandas.pydata.org/pandas-docs/version/0.13.1/io.html). In order to read data from a CSV file, we use the `read_csv()` function that returns a data frame. By default, it assumes that the fields are comma-separated, but it has parameters to tune the behaviour of the importer.\n",
      "\n",
      "We're going to use some datasets from [Julia Evans' Pandas Cookbok](https://github.com/jvns/pandas-cookbook). The first one is about cyclist data from Montr\u00e9al in 2012.\n",
      "\n",
      "This [bikes dataset](data/bikes.csv) is a list of how many people were on 7 different bike paths in Montr\u00e9al, each day."
     ]
    },
    {
     "cell_type": "code",
     "collapsed": false,
     "input": [
      "bikes_df = pd.read_csv('data/bikes.csv')  # We add _df 'cause it's a data frame"
     ],
     "language": "python",
     "metadata": {},
     "outputs": [
      {
       "ename": "UnicodeDecodeError",
       "evalue": "'utf-8' codec can't decode byte 0xe9 in position 15: invalid continuation byte",
       "output_type": "pyerr",
       "traceback": [
        "\u001b[1;31m---------------------------------------------------------------------------\u001b[0m\n\u001b[1;31mUnicodeDecodeError\u001b[0m                        Traceback (most recent call last)",
        "\u001b[1;32m<ipython-input-2-e54169c3d1a7>\u001b[0m in \u001b[0;36m<module>\u001b[1;34m()\u001b[0m\n\u001b[1;32m----> 1\u001b[1;33m \u001b[0mbikes_df\u001b[0m \u001b[1;33m=\u001b[0m \u001b[0mpd\u001b[0m\u001b[1;33m.\u001b[0m\u001b[0mread_csv\u001b[0m\u001b[1;33m(\u001b[0m\u001b[1;34m'data/bikes.csv'\u001b[0m\u001b[1;33m)\u001b[0m  \u001b[1;31m# We add _df 'cause it's a data frame\u001b[0m\u001b[1;33m\u001b[0m\u001b[0m\n\u001b[0m",
        "\u001b[1;32m/home/versae/.venvs/data/lib/python3.3/site-packages/pandas/io/parsers.py\u001b[0m in \u001b[0;36mparser_f\u001b[1;34m(filepath_or_buffer, sep, dialect, compression, doublequote, escapechar, quotechar, quoting, skipinitialspace, lineterminator, header, index_col, names, prefix, skiprows, skipfooter, skip_footer, na_values, na_fvalues, true_values, false_values, delimiter, converters, dtype, usecols, engine, delim_whitespace, as_recarray, na_filter, compact_ints, use_unsigned, low_memory, buffer_lines, warn_bad_lines, error_bad_lines, keep_default_na, thousands, comment, decimal, parse_dates, keep_date_col, dayfirst, date_parser, memory_map, nrows, iterator, chunksize, verbose, encoding, squeeze, mangle_dupe_cols, tupleize_cols, infer_datetime_format)\u001b[0m\n\u001b[0;32m    418\u001b[0m                     infer_datetime_format=infer_datetime_format)\n\u001b[0;32m    419\u001b[0m \u001b[1;33m\u001b[0m\u001b[0m\n\u001b[1;32m--> 420\u001b[1;33m         \u001b[1;32mreturn\u001b[0m \u001b[0m_read\u001b[0m\u001b[1;33m(\u001b[0m\u001b[0mfilepath_or_buffer\u001b[0m\u001b[1;33m,\u001b[0m \u001b[0mkwds\u001b[0m\u001b[1;33m)\u001b[0m\u001b[1;33m\u001b[0m\u001b[0m\n\u001b[0m\u001b[0;32m    421\u001b[0m \u001b[1;33m\u001b[0m\u001b[0m\n\u001b[0;32m    422\u001b[0m     \u001b[0mparser_f\u001b[0m\u001b[1;33m.\u001b[0m\u001b[0m__name__\u001b[0m \u001b[1;33m=\u001b[0m \u001b[0mname\u001b[0m\u001b[1;33m\u001b[0m\u001b[0m\n",
        "\u001b[1;32m/home/versae/.venvs/data/lib/python3.3/site-packages/pandas/io/parsers.py\u001b[0m in \u001b[0;36m_read\u001b[1;34m(filepath_or_buffer, kwds)\u001b[0m\n\u001b[0;32m    216\u001b[0m \u001b[1;33m\u001b[0m\u001b[0m\n\u001b[0;32m    217\u001b[0m     \u001b[1;31m# Create the parser.\u001b[0m\u001b[1;33m\u001b[0m\u001b[1;33m\u001b[0m\u001b[0m\n\u001b[1;32m--> 218\u001b[1;33m     \u001b[0mparser\u001b[0m \u001b[1;33m=\u001b[0m \u001b[0mTextFileReader\u001b[0m\u001b[1;33m(\u001b[0m\u001b[0mfilepath_or_buffer\u001b[0m\u001b[1;33m,\u001b[0m \u001b[1;33m**\u001b[0m\u001b[0mkwds\u001b[0m\u001b[1;33m)\u001b[0m\u001b[1;33m\u001b[0m\u001b[0m\n\u001b[0m\u001b[0;32m    219\u001b[0m \u001b[1;33m\u001b[0m\u001b[0m\n\u001b[0;32m    220\u001b[0m     \u001b[1;32mif\u001b[0m \u001b[0mnrows\u001b[0m \u001b[1;32mis\u001b[0m \u001b[1;32mnot\u001b[0m \u001b[1;32mNone\u001b[0m\u001b[1;33m:\u001b[0m\u001b[1;33m\u001b[0m\u001b[0m\n",
        "\u001b[1;32m/home/versae/.venvs/data/lib/python3.3/site-packages/pandas/io/parsers.py\u001b[0m in \u001b[0;36m__init__\u001b[1;34m(self, f, engine, **kwds)\u001b[0m\n\u001b[0;32m    500\u001b[0m             \u001b[0mself\u001b[0m\u001b[1;33m.\u001b[0m\u001b[0moptions\u001b[0m\u001b[1;33m[\u001b[0m\u001b[1;34m'has_index_names'\u001b[0m\u001b[1;33m]\u001b[0m \u001b[1;33m=\u001b[0m \u001b[0mkwds\u001b[0m\u001b[1;33m[\u001b[0m\u001b[1;34m'has_index_names'\u001b[0m\u001b[1;33m]\u001b[0m\u001b[1;33m\u001b[0m\u001b[0m\n\u001b[0;32m    501\u001b[0m \u001b[1;33m\u001b[0m\u001b[0m\n\u001b[1;32m--> 502\u001b[1;33m         \u001b[0mself\u001b[0m\u001b[1;33m.\u001b[0m\u001b[0m_make_engine\u001b[0m\u001b[1;33m(\u001b[0m\u001b[0mself\u001b[0m\u001b[1;33m.\u001b[0m\u001b[0mengine\u001b[0m\u001b[1;33m)\u001b[0m\u001b[1;33m\u001b[0m\u001b[0m\n\u001b[0m\u001b[0;32m    503\u001b[0m \u001b[1;33m\u001b[0m\u001b[0m\n\u001b[0;32m    504\u001b[0m     \u001b[1;32mdef\u001b[0m \u001b[0m_get_options_with_defaults\u001b[0m\u001b[1;33m(\u001b[0m\u001b[0mself\u001b[0m\u001b[1;33m,\u001b[0m \u001b[0mengine\u001b[0m\u001b[1;33m)\u001b[0m\u001b[1;33m:\u001b[0m\u001b[1;33m\u001b[0m\u001b[0m\n",
        "\u001b[1;32m/home/versae/.venvs/data/lib/python3.3/site-packages/pandas/io/parsers.py\u001b[0m in \u001b[0;36m_make_engine\u001b[1;34m(self, engine)\u001b[0m\n\u001b[0;32m    608\u001b[0m     \u001b[1;32mdef\u001b[0m \u001b[0m_make_engine\u001b[0m\u001b[1;33m(\u001b[0m\u001b[0mself\u001b[0m\u001b[1;33m,\u001b[0m \u001b[0mengine\u001b[0m\u001b[1;33m=\u001b[0m\u001b[1;34m'c'\u001b[0m\u001b[1;33m)\u001b[0m\u001b[1;33m:\u001b[0m\u001b[1;33m\u001b[0m\u001b[0m\n\u001b[0;32m    609\u001b[0m         \u001b[1;32mif\u001b[0m \u001b[0mengine\u001b[0m \u001b[1;33m==\u001b[0m \u001b[1;34m'c'\u001b[0m\u001b[1;33m:\u001b[0m\u001b[1;33m\u001b[0m\u001b[0m\n\u001b[1;32m--> 610\u001b[1;33m             \u001b[0mself\u001b[0m\u001b[1;33m.\u001b[0m\u001b[0m_engine\u001b[0m \u001b[1;33m=\u001b[0m \u001b[0mCParserWrapper\u001b[0m\u001b[1;33m(\u001b[0m\u001b[0mself\u001b[0m\u001b[1;33m.\u001b[0m\u001b[0mf\u001b[0m\u001b[1;33m,\u001b[0m \u001b[1;33m**\u001b[0m\u001b[0mself\u001b[0m\u001b[1;33m.\u001b[0m\u001b[0moptions\u001b[0m\u001b[1;33m)\u001b[0m\u001b[1;33m\u001b[0m\u001b[0m\n\u001b[0m\u001b[0;32m    611\u001b[0m         \u001b[1;32melse\u001b[0m\u001b[1;33m:\u001b[0m\u001b[1;33m\u001b[0m\u001b[0m\n\u001b[0;32m    612\u001b[0m             \u001b[1;32mif\u001b[0m \u001b[0mengine\u001b[0m \u001b[1;33m==\u001b[0m \u001b[1;34m'python'\u001b[0m\u001b[1;33m:\u001b[0m\u001b[1;33m\u001b[0m\u001b[0m\n",
        "\u001b[1;32m/home/versae/.venvs/data/lib/python3.3/site-packages/pandas/io/parsers.py\u001b[0m in \u001b[0;36m__init__\u001b[1;34m(self, src, **kwds)\u001b[0m\n\u001b[0;32m    970\u001b[0m         \u001b[0mkwds\u001b[0m\u001b[1;33m[\u001b[0m\u001b[1;34m'allow_leading_cols'\u001b[0m\u001b[1;33m]\u001b[0m \u001b[1;33m=\u001b[0m \u001b[0mself\u001b[0m\u001b[1;33m.\u001b[0m\u001b[0mindex_col\u001b[0m \u001b[1;32mis\u001b[0m \u001b[1;32mnot\u001b[0m \u001b[1;32mFalse\u001b[0m\u001b[1;33m\u001b[0m\u001b[0m\n\u001b[0;32m    971\u001b[0m \u001b[1;33m\u001b[0m\u001b[0m\n\u001b[1;32m--> 972\u001b[1;33m         \u001b[0mself\u001b[0m\u001b[1;33m.\u001b[0m\u001b[0m_reader\u001b[0m \u001b[1;33m=\u001b[0m \u001b[0m_parser\u001b[0m\u001b[1;33m.\u001b[0m\u001b[0mTextReader\u001b[0m\u001b[1;33m(\u001b[0m\u001b[0msrc\u001b[0m\u001b[1;33m,\u001b[0m \u001b[1;33m**\u001b[0m\u001b[0mkwds\u001b[0m\u001b[1;33m)\u001b[0m\u001b[1;33m\u001b[0m\u001b[0m\n\u001b[0m\u001b[0;32m    973\u001b[0m \u001b[1;33m\u001b[0m\u001b[0m\n\u001b[0;32m    974\u001b[0m         \u001b[1;31m# XXX\u001b[0m\u001b[1;33m\u001b[0m\u001b[1;33m\u001b[0m\u001b[0m\n",
        "\u001b[1;32m/home/versae/.venvs/data/lib/python3.3/site-packages/pandas/parser.cpython-33m.so\u001b[0m in \u001b[0;36mpandas.parser.TextReader.__cinit__ (pandas/parser.c:4412)\u001b[1;34m()\u001b[0m\n",
        "\u001b[1;32m/home/versae/.venvs/data/lib/python3.3/site-packages/pandas/parser.cpython-33m.so\u001b[0m in \u001b[0;36mpandas.parser.TextReader._get_header (pandas/parser.c:5924)\u001b[1;34m()\u001b[0m\n",
        "\u001b[1;31mUnicodeDecodeError\u001b[0m: 'utf-8' codec can't decode byte 0xe9 in position 15: invalid continuation byte"
       ]
      }
     ],
     "prompt_number": 2
    },
    {
     "cell_type": "markdown",
     "metadata": {},
     "source": [
      "Hey! We know that error! It's an encoding error probably caused by French accents. Fortunately, `read_csv()` allows to pass the encoding as an argument."
     ]
    },
    {
     "cell_type": "code",
     "collapsed": false,
     "input": [
      "bikes_df = pd.read_csv('data/bikes.csv', encoding=\"latin1\")\n",
      "bikes_df"
     ],
     "language": "python",
     "metadata": {},
     "outputs": [
      {
       "html": [
        "<div style=\"max-height:1000px;max-width:1500px;overflow:auto;\">\n",
        "<table border=\"1\" class=\"dataframe\">\n",
        "  <thead>\n",
        "    <tr style=\"text-align: right;\">\n",
        "      <th></th>\n",
        "      <th>Date;Berri 1;Br\u00e9beuf (donn\u00e9es non disponibles);C\u00f4te-Sainte-Catherine;Maisonneuve 1;Maisonneuve 2;du Parc;Pierre-Dupuy;Rachel1;St-Urbain (donn\u00e9es non disponibles)</th>\n",
        "    </tr>\n",
        "  </thead>\n",
        "  <tbody>\n",
        "    <tr>\n",
        "      <th>0</th>\n",
        "      <td>    01/01/2012;35;;0;38;51;26;10;16;</td>\n",
        "    </tr>\n",
        "    <tr>\n",
        "      <th>1</th>\n",
        "      <td>    02/01/2012;83;;1;68;153;53;6;43;</td>\n",
        "    </tr>\n",
        "    <tr>\n",
        "      <th>2</th>\n",
        "      <td>  03/01/2012;135;;2;104;248;89;3;58;</td>\n",
        "    </tr>\n",
        "    <tr>\n",
        "      <th>3</th>\n",
        "      <td> 04/01/2012;144;;1;116;318;111;8;61;</td>\n",
        "    </tr>\n",
        "    <tr>\n",
        "      <th>4</th>\n",
        "      <td> 05/01/2012;197;;2;124;330;97;13;95;</td>\n",
        "    </tr>\n",
        "  </tbody>\n",
        "</table>\n",
        "<p>5 rows \u00d7 1 columns</p>\n",
        "</div>"
       ],
       "metadata": {},
       "output_type": "pyout",
       "prompt_number": 3,
       "text": [
        "  Date;Berri 1;Br\u00e9beuf (donn\u00e9es non disponibles);C\u00f4te-Sainte-Catherine;Maisonneuve 1;Maisonneuve 2;du Parc;Pierre-Dupuy;Rachel1;St-Urbain (donn\u00e9es non disponibles)\n",
        "0                   01/01/2012;35;;0;38;51;26;10;16;                                                                                                               \n",
        "1                   02/01/2012;83;;1;68;153;53;6;43;                                                                                                               \n",
        "2                 03/01/2012;135;;2;104;248;89;3;58;                                                                                                               \n",
        "3                04/01/2012;144;;1;116;318;111;8;61;                                                                                                               \n",
        "4                05/01/2012;197;;2;124;330;97;13;95;                                                                                                               \n",
        "\n",
        "[5 rows x 1 columns]"
       ]
      }
     ],
     "prompt_number": 3
    },
    {
     "cell_type": "markdown",
     "metadata": {},
     "source": [
      "You'll notice that this is totally broken! Fortunately, `read_csv()` has a bunch of more options that will let us fix that, though. Here we'll:\n",
      "- Change the column separator to a `;`\n",
      "- Parse the dates in the `Date` column\n",
      "- Tell it that our dates have the date first instead of the month first\n",
      "- Set the index to be the `Date` column"
     ]
    },
    {
     "cell_type": "code",
     "collapsed": false,
     "input": [
      "bikes_df = pd.read_csv(\n",
      "    'data/bikes.csv',\n",
      "    sep=';',\n",
      "    encoding='latin1',\n",
      "    parse_dates=['Date'],\n",
      "    dayfirst=True,\n",
      "    index_col='Date'\n",
      ")\n",
      "bikes_df"
     ],
     "language": "python",
     "metadata": {},
     "outputs": [
      {
       "html": [
        "<div style=\"max-height:1000px;max-width:1500px;overflow:auto;\">\n",
        "<table border=\"1\" class=\"dataframe\">\n",
        "  <thead>\n",
        "    <tr style=\"text-align: right;\">\n",
        "      <th></th>\n",
        "      <th>Berri 1</th>\n",
        "      <th>Br\u00e9beuf (donn\u00e9es non disponibles)</th>\n",
        "      <th>C\u00f4te-Sainte-Catherine</th>\n",
        "      <th>Maisonneuve 1</th>\n",
        "      <th>Maisonneuve 2</th>\n",
        "      <th>du Parc</th>\n",
        "      <th>Pierre-Dupuy</th>\n",
        "      <th>Rachel1</th>\n",
        "      <th>St-Urbain (donn\u00e9es non disponibles)</th>\n",
        "    </tr>\n",
        "    <tr>\n",
        "      <th>Date</th>\n",
        "      <th></th>\n",
        "      <th></th>\n",
        "      <th></th>\n",
        "      <th></th>\n",
        "      <th></th>\n",
        "      <th></th>\n",
        "      <th></th>\n",
        "      <th></th>\n",
        "      <th></th>\n",
        "    </tr>\n",
        "  </thead>\n",
        "  <tbody>\n",
        "    <tr>\n",
        "      <th>2012-01-01</th>\n",
        "      <td>  35</td>\n",
        "      <td>NaN</td>\n",
        "      <td> 0</td>\n",
        "      <td>  38</td>\n",
        "      <td>  51</td>\n",
        "      <td>  26</td>\n",
        "      <td> 10</td>\n",
        "      <td> 16</td>\n",
        "      <td>NaN</td>\n",
        "    </tr>\n",
        "    <tr>\n",
        "      <th>2012-01-02</th>\n",
        "      <td>  83</td>\n",
        "      <td>NaN</td>\n",
        "      <td> 1</td>\n",
        "      <td>  68</td>\n",
        "      <td> 153</td>\n",
        "      <td>  53</td>\n",
        "      <td>  6</td>\n",
        "      <td> 43</td>\n",
        "      <td>NaN</td>\n",
        "    </tr>\n",
        "    <tr>\n",
        "      <th>2012-01-03</th>\n",
        "      <td> 135</td>\n",
        "      <td>NaN</td>\n",
        "      <td> 2</td>\n",
        "      <td> 104</td>\n",
        "      <td> 248</td>\n",
        "      <td>  89</td>\n",
        "      <td>  3</td>\n",
        "      <td> 58</td>\n",
        "      <td>NaN</td>\n",
        "    </tr>\n",
        "    <tr>\n",
        "      <th>2012-01-04</th>\n",
        "      <td> 144</td>\n",
        "      <td>NaN</td>\n",
        "      <td> 1</td>\n",
        "      <td> 116</td>\n",
        "      <td> 318</td>\n",
        "      <td> 111</td>\n",
        "      <td>  8</td>\n",
        "      <td> 61</td>\n",
        "      <td>NaN</td>\n",
        "    </tr>\n",
        "    <tr>\n",
        "      <th>2012-01-05</th>\n",
        "      <td> 197</td>\n",
        "      <td>NaN</td>\n",
        "      <td> 2</td>\n",
        "      <td> 124</td>\n",
        "      <td> 330</td>\n",
        "      <td>  97</td>\n",
        "      <td> 13</td>\n",
        "      <td> 95</td>\n",
        "      <td>NaN</td>\n",
        "    </tr>\n",
        "  </tbody>\n",
        "</table>\n",
        "<p>5 rows \u00d7 9 columns</p>\n",
        "</div>"
       ],
       "metadata": {},
       "output_type": "pyout",
       "prompt_number": 4,
       "text": [
        "            Berri 1  Br\u00e9beuf (donn\u00e9es non disponibles)  C\u00f4te-Sainte-Catherine  \\\n",
        "Date                                                                            \n",
        "2012-01-01       35                                NaN                      0   \n",
        "2012-01-02       83                                NaN                      1   \n",
        "2012-01-03      135                                NaN                      2   \n",
        "2012-01-04      144                                NaN                      1   \n",
        "2012-01-05      197                                NaN                      2   \n",
        "\n",
        "            Maisonneuve 1  Maisonneuve 2  du Parc  Pierre-Dupuy  Rachel1  \\\n",
        "Date                                                                       \n",
        "2012-01-01             38             51       26            10       16   \n",
        "2012-01-02             68            153       53             6       43   \n",
        "2012-01-03            104            248       89             3       58   \n",
        "2012-01-04            116            318      111             8       61   \n",
        "2012-01-05            124            330       97            13       95   \n",
        "\n",
        "            St-Urbain (donn\u00e9es non disponibles)  \n",
        "Date                                             \n",
        "2012-01-01                                  NaN  \n",
        "2012-01-02                                  NaN  \n",
        "2012-01-03                                  NaN  \n",
        "2012-01-04                                  NaN  \n",
        "2012-01-05                                  NaN  \n",
        "\n",
        "[5 rows x 9 columns]"
       ]
      }
     ],
     "prompt_number": 4
    },
    {
     "cell_type": "markdown",
     "metadata": {},
     "source": [
      "And now let's just remove missing columns"
     ]
    },
    {
     "cell_type": "code",
     "collapsed": false,
     "input": [
      "# Get rid of missing columns, don't worry, you'll see more on .dropna() later\n",
      "bikes_df = bikes_df.dropna(axis=1)\n",
      "bikes_df.head()"
     ],
     "language": "python",
     "metadata": {},
     "outputs": [
      {
       "html": [
        "<div style=\"max-height:1000px;max-width:1500px;overflow:auto;\">\n",
        "<table border=\"1\" class=\"dataframe\">\n",
        "  <thead>\n",
        "    <tr style=\"text-align: right;\">\n",
        "      <th></th>\n",
        "      <th>Berri 1</th>\n",
        "      <th>C\u00f4te-Sainte-Catherine</th>\n",
        "      <th>Maisonneuve 1</th>\n",
        "      <th>Maisonneuve 2</th>\n",
        "      <th>du Parc</th>\n",
        "      <th>Pierre-Dupuy</th>\n",
        "      <th>Rachel1</th>\n",
        "    </tr>\n",
        "    <tr>\n",
        "      <th>Date</th>\n",
        "      <th></th>\n",
        "      <th></th>\n",
        "      <th></th>\n",
        "      <th></th>\n",
        "      <th></th>\n",
        "      <th></th>\n",
        "      <th></th>\n",
        "    </tr>\n",
        "  </thead>\n",
        "  <tbody>\n",
        "    <tr>\n",
        "      <th>2012-01-01</th>\n",
        "      <td>  35</td>\n",
        "      <td> 0</td>\n",
        "      <td>  38</td>\n",
        "      <td>  51</td>\n",
        "      <td>  26</td>\n",
        "      <td> 10</td>\n",
        "      <td> 16</td>\n",
        "    </tr>\n",
        "    <tr>\n",
        "      <th>2012-01-02</th>\n",
        "      <td>  83</td>\n",
        "      <td> 1</td>\n",
        "      <td>  68</td>\n",
        "      <td> 153</td>\n",
        "      <td>  53</td>\n",
        "      <td>  6</td>\n",
        "      <td> 43</td>\n",
        "    </tr>\n",
        "    <tr>\n",
        "      <th>2012-01-03</th>\n",
        "      <td> 135</td>\n",
        "      <td> 2</td>\n",
        "      <td> 104</td>\n",
        "      <td> 248</td>\n",
        "      <td>  89</td>\n",
        "      <td>  3</td>\n",
        "      <td> 58</td>\n",
        "    </tr>\n",
        "    <tr>\n",
        "      <th>2012-01-04</th>\n",
        "      <td> 144</td>\n",
        "      <td> 1</td>\n",
        "      <td> 116</td>\n",
        "      <td> 318</td>\n",
        "      <td> 111</td>\n",
        "      <td>  8</td>\n",
        "      <td> 61</td>\n",
        "    </tr>\n",
        "    <tr>\n",
        "      <th>2012-01-05</th>\n",
        "      <td> 197</td>\n",
        "      <td> 2</td>\n",
        "      <td> 124</td>\n",
        "      <td> 330</td>\n",
        "      <td>  97</td>\n",
        "      <td> 13</td>\n",
        "      <td> 95</td>\n",
        "    </tr>\n",
        "  </tbody>\n",
        "</table>\n",
        "<p>5 rows \u00d7 7 columns</p>\n",
        "</div>"
       ],
       "metadata": {},
       "output_type": "pyout",
       "prompt_number": 5,
       "text": [
        "            Berri 1  C\u00f4te-Sainte-Catherine  Maisonneuve 1  Maisonneuve 2  \\\n",
        "Date                                                                       \n",
        "2012-01-01       35                      0             38             51   \n",
        "2012-01-02       83                      1             68            153   \n",
        "2012-01-03      135                      2            104            248   \n",
        "2012-01-04      144                      1            116            318   \n",
        "2012-01-05      197                      2            124            330   \n",
        "\n",
        "            du Parc  Pierre-Dupuy  Rachel1  \n",
        "Date                                        \n",
        "2012-01-01       26            10       16  \n",
        "2012-01-02       53             6       43  \n",
        "2012-01-03       89             3       58  \n",
        "2012-01-04      111             8       61  \n",
        "2012-01-05       97            13       95  \n",
        "\n",
        "[5 rows x 7 columns]"
       ]
      }
     ],
     "prompt_number": 5
    },
    {
     "cell_type": "markdown",
     "metadata": {},
     "source": [
      "Way better!\n",
      "\n",
      "In the last example we added `head()` to show just the first rows. If you want the last ones, use the `tail()` function. Both can receive the number of rows to show, but defaults to 5.\n",
      "\n",
      "Pandas is also able to get data from the Internet without even batting an eye. The excellent book [*Introduction to Statistical Learning*](http://www-bcf.usc.edu/~gareth/ISL/) has one of its data sets available to download."
     ]
    },
    {
     "cell_type": "code",
     "collapsed": false,
     "input": [
      "autos_df = pd.read_csv(\"http://www-bcf.usc.edu/~gareth/ISL/Auto.csv\")\n",
      "autos_df.head()  # print the first lines"
     ],
     "language": "python",
     "metadata": {},
     "outputs": [
      {
       "html": [
        "<div style=\"max-height:1000px;max-width:1500px;overflow:auto;\">\n",
        "<table border=\"1\" class=\"dataframe\">\n",
        "  <thead>\n",
        "    <tr style=\"text-align: right;\">\n",
        "      <th></th>\n",
        "      <th>mpg</th>\n",
        "      <th>cylinders</th>\n",
        "      <th>displacement</th>\n",
        "      <th>horsepower</th>\n",
        "      <th>weight</th>\n",
        "      <th>acceleration</th>\n",
        "      <th>year</th>\n",
        "      <th>origin</th>\n",
        "      <th>name</th>\n",
        "    </tr>\n",
        "  </thead>\n",
        "  <tbody>\n",
        "    <tr>\n",
        "      <th>0</th>\n",
        "      <td> 18</td>\n",
        "      <td> 8</td>\n",
        "      <td> 307</td>\n",
        "      <td> 130</td>\n",
        "      <td> 3504</td>\n",
        "      <td> 12.0</td>\n",
        "      <td> 70</td>\n",
        "      <td> 1</td>\n",
        "      <td> chevrolet chevelle malibu</td>\n",
        "    </tr>\n",
        "    <tr>\n",
        "      <th>1</th>\n",
        "      <td> 15</td>\n",
        "      <td> 8</td>\n",
        "      <td> 350</td>\n",
        "      <td> 165</td>\n",
        "      <td> 3693</td>\n",
        "      <td> 11.5</td>\n",
        "      <td> 70</td>\n",
        "      <td> 1</td>\n",
        "      <td>         buick skylark 320</td>\n",
        "    </tr>\n",
        "    <tr>\n",
        "      <th>2</th>\n",
        "      <td> 18</td>\n",
        "      <td> 8</td>\n",
        "      <td> 318</td>\n",
        "      <td> 150</td>\n",
        "      <td> 3436</td>\n",
        "      <td> 11.0</td>\n",
        "      <td> 70</td>\n",
        "      <td> 1</td>\n",
        "      <td>        plymouth satellite</td>\n",
        "    </tr>\n",
        "    <tr>\n",
        "      <th>3</th>\n",
        "      <td> 16</td>\n",
        "      <td> 8</td>\n",
        "      <td> 304</td>\n",
        "      <td> 150</td>\n",
        "      <td> 3433</td>\n",
        "      <td> 12.0</td>\n",
        "      <td> 70</td>\n",
        "      <td> 1</td>\n",
        "      <td>             amc rebel sst</td>\n",
        "    </tr>\n",
        "    <tr>\n",
        "      <th>4</th>\n",
        "      <td> 17</td>\n",
        "      <td> 8</td>\n",
        "      <td> 302</td>\n",
        "      <td> 140</td>\n",
        "      <td> 3449</td>\n",
        "      <td> 10.5</td>\n",
        "      <td> 70</td>\n",
        "      <td> 1</td>\n",
        "      <td>               ford torino</td>\n",
        "    </tr>\n",
        "  </tbody>\n",
        "</table>\n",
        "<p>5 rows \u00d7 9 columns</p>\n",
        "</div>"
       ],
       "metadata": {},
       "output_type": "pyout",
       "prompt_number": 6,
       "text": [
        "   mpg  cylinders  displacement horsepower  weight  acceleration  year  \\\n",
        "0   18          8           307        130    3504          12.0    70   \n",
        "1   15          8           350        165    3693          11.5    70   \n",
        "2   18          8           318        150    3436          11.0    70   \n",
        "3   16          8           304        150    3433          12.0    70   \n",
        "4   17          8           302        140    3449          10.5    70   \n",
        "\n",
        "   origin                       name  \n",
        "0       1  chevrolet chevelle malibu  \n",
        "1       1          buick skylark 320  \n",
        "2       1         plymouth satellite  \n",
        "3       1              amc rebel sst  \n",
        "4       1                ford torino  \n",
        "\n",
        "[5 rows x 9 columns]"
       ]
      }
     ],
     "prompt_number": 6
    },
    {
     "cell_type": "heading",
     "level": 2,
     "metadata": {},
     "source": [
      "Slicing"
     ]
    },
    {
     "cell_type": "markdown",
     "metadata": {},
     "source": [
      "A `DataFrame` is made up of rows and columns. You get columns out of a `DataFrame` the same way you get elements out of a dictionary.\n",
      "\n",
      "Here's an example:"
     ]
    },
    {
     "cell_type": "code",
     "collapsed": false,
     "input": [
      "bikes_df['Berri 1'].head()"
     ],
     "language": "python",
     "metadata": {},
     "outputs": [
      {
       "metadata": {},
       "output_type": "pyout",
       "prompt_number": 7,
       "text": [
        "Date\n",
        "2012-01-01     35\n",
        "2012-01-02     83\n",
        "2012-01-03    135\n",
        "2012-01-04    144\n",
        "2012-01-05    197\n",
        "Name: Berri 1, dtype: int64"
       ]
      }
     ],
     "prompt_number": 7
    },
    {
     "cell_type": "markdown",
     "metadata": {},
     "source": [
      "For selecting several columns we use the same fancy indexing that we saw for Numpy"
     ]
    },
    {
     "cell_type": "code",
     "collapsed": false,
     "input": [
      "fancy_index = ['Berri 1', 'Rachel1']\n",
      "bikes_df[fancy_index].head()"
     ],
     "language": "python",
     "metadata": {},
     "outputs": [
      {
       "html": [
        "<div style=\"max-height:1000px;max-width:1500px;overflow:auto;\">\n",
        "<table border=\"1\" class=\"dataframe\">\n",
        "  <thead>\n",
        "    <tr style=\"text-align: right;\">\n",
        "      <th></th>\n",
        "      <th>Berri 1</th>\n",
        "      <th>Rachel1</th>\n",
        "    </tr>\n",
        "    <tr>\n",
        "      <th>Date</th>\n",
        "      <th></th>\n",
        "      <th></th>\n",
        "    </tr>\n",
        "  </thead>\n",
        "  <tbody>\n",
        "    <tr>\n",
        "      <th>2012-01-01</th>\n",
        "      <td>  35</td>\n",
        "      <td> 16</td>\n",
        "    </tr>\n",
        "    <tr>\n",
        "      <th>2012-01-02</th>\n",
        "      <td>  83</td>\n",
        "      <td> 43</td>\n",
        "    </tr>\n",
        "    <tr>\n",
        "      <th>2012-01-03</th>\n",
        "      <td> 135</td>\n",
        "      <td> 58</td>\n",
        "    </tr>\n",
        "    <tr>\n",
        "      <th>2012-01-04</th>\n",
        "      <td> 144</td>\n",
        "      <td> 61</td>\n",
        "    </tr>\n",
        "    <tr>\n",
        "      <th>2012-01-05</th>\n",
        "      <td> 197</td>\n",
        "      <td> 95</td>\n",
        "    </tr>\n",
        "  </tbody>\n",
        "</table>\n",
        "<p>5 rows \u00d7 2 columns</p>\n",
        "</div>"
       ],
       "metadata": {},
       "output_type": "pyout",
       "prompt_number": 8,
       "text": [
        "            Berri 1  Rachel1\n",
        "Date                        \n",
        "2012-01-01       35       16\n",
        "2012-01-02       83       43\n",
        "2012-01-03      135       58\n",
        "2012-01-04      144       61\n",
        "2012-01-05      197       95\n",
        "\n",
        "[5 rows x 2 columns]"
       ]
      }
     ],
     "prompt_number": 8
    },
    {
     "cell_type": "markdown",
     "metadata": {},
     "source": [
      "But it's very common to just put the fancy index list as the key:"
     ]
    },
    {
     "cell_type": "code",
     "collapsed": false,
     "input": [
      "bikes_df[['Berri 1', 'Rachel1']].head()"
     ],
     "language": "python",
     "metadata": {},
     "outputs": [
      {
       "html": [
        "<div style=\"max-height:1000px;max-width:1500px;overflow:auto;\">\n",
        "<table border=\"1\" class=\"dataframe\">\n",
        "  <thead>\n",
        "    <tr style=\"text-align: right;\">\n",
        "      <th></th>\n",
        "      <th>Berri 1</th>\n",
        "      <th>Rachel1</th>\n",
        "    </tr>\n",
        "    <tr>\n",
        "      <th>Date</th>\n",
        "      <th></th>\n",
        "      <th></th>\n",
        "    </tr>\n",
        "  </thead>\n",
        "  <tbody>\n",
        "    <tr>\n",
        "      <th>2012-01-01</th>\n",
        "      <td>  35</td>\n",
        "      <td> 16</td>\n",
        "    </tr>\n",
        "    <tr>\n",
        "      <th>2012-01-02</th>\n",
        "      <td>  83</td>\n",
        "      <td> 43</td>\n",
        "    </tr>\n",
        "    <tr>\n",
        "      <th>2012-01-03</th>\n",
        "      <td> 135</td>\n",
        "      <td> 58</td>\n",
        "    </tr>\n",
        "    <tr>\n",
        "      <th>2012-01-04</th>\n",
        "      <td> 144</td>\n",
        "      <td> 61</td>\n",
        "    </tr>\n",
        "    <tr>\n",
        "      <th>2012-01-05</th>\n",
        "      <td> 197</td>\n",
        "      <td> 95</td>\n",
        "    </tr>\n",
        "  </tbody>\n",
        "</table>\n",
        "<p>5 rows \u00d7 2 columns</p>\n",
        "</div>"
       ],
       "metadata": {},
       "output_type": "pyout",
       "prompt_number": 9,
       "text": [
        "            Berri 1  Rachel1\n",
        "Date                        \n",
        "2012-01-01       35       16\n",
        "2012-01-02       83       43\n",
        "2012-01-03      135       58\n",
        "2012-01-04      144       61\n",
        "2012-01-05      197       95\n",
        "\n",
        "[5 rows x 2 columns]"
       ]
      }
     ],
     "prompt_number": 9
    },
    {
     "cell_type": "markdown",
     "metadata": {},
     "source": [
      "For slicing rows the syntax is just as expected: the same that we use for lists."
     ]
    },
    {
     "cell_type": "code",
     "collapsed": false,
     "input": [
      "bikes_df[['Berri 1', 'Rachel1']][:5]"
     ],
     "language": "python",
     "metadata": {},
     "outputs": [
      {
       "html": [
        "<div style=\"max-height:1000px;max-width:1500px;overflow:auto;\">\n",
        "<table border=\"1\" class=\"dataframe\">\n",
        "  <thead>\n",
        "    <tr style=\"text-align: right;\">\n",
        "      <th></th>\n",
        "      <th>Berri 1</th>\n",
        "      <th>Rachel1</th>\n",
        "    </tr>\n",
        "    <tr>\n",
        "      <th>Date</th>\n",
        "      <th></th>\n",
        "      <th></th>\n",
        "    </tr>\n",
        "  </thead>\n",
        "  <tbody>\n",
        "    <tr>\n",
        "      <th>2012-01-01</th>\n",
        "      <td>  35</td>\n",
        "      <td> 16</td>\n",
        "    </tr>\n",
        "    <tr>\n",
        "      <th>2012-01-02</th>\n",
        "      <td>  83</td>\n",
        "      <td> 43</td>\n",
        "    </tr>\n",
        "    <tr>\n",
        "      <th>2012-01-03</th>\n",
        "      <td> 135</td>\n",
        "      <td> 58</td>\n",
        "    </tr>\n",
        "    <tr>\n",
        "      <th>2012-01-04</th>\n",
        "      <td> 144</td>\n",
        "      <td> 61</td>\n",
        "    </tr>\n",
        "    <tr>\n",
        "      <th>2012-01-05</th>\n",
        "      <td> 197</td>\n",
        "      <td> 95</td>\n",
        "    </tr>\n",
        "  </tbody>\n",
        "</table>\n",
        "<p>5 rows \u00d7 2 columns</p>\n",
        "</div>"
       ],
       "metadata": {},
       "output_type": "pyout",
       "prompt_number": 10,
       "text": [
        "            Berri 1  Rachel1\n",
        "Date                        \n",
        "2012-01-01       35       16\n",
        "2012-01-02       83       43\n",
        "2012-01-03      135       58\n",
        "2012-01-04      144       61\n",
        "2012-01-05      197       95\n",
        "\n",
        "[5 rows x 2 columns]"
       ]
      }
     ],
     "prompt_number": 10
    },
    {
     "cell_type": "code",
     "collapsed": false,
     "input": [
      "bikes_df['Berri 1'][-5]"
     ],
     "language": "python",
     "metadata": {},
     "outputs": [
      {
       "metadata": {},
       "output_type": "pyout",
       "prompt_number": 11,
       "text": [
        "2405"
       ]
      }
     ],
     "prompt_number": 11
    },
    {
     "cell_type": "heading",
     "level": 2,
     "metadata": {},
     "source": [
      "Indexing"
     ]
    },
    {
     "cell_type": "markdown",
     "metadata": {},
     "source": [
      "In a `DataFrame` every column is a `Series`, so you can use the index to select specific items from the `Series`."
     ]
    },
    {
     "cell_type": "code",
     "collapsed": false,
     "input": [
      "berri = bikes_df[['Berri 1']]\n",
      "berri.head()"
     ],
     "language": "python",
     "metadata": {},
     "outputs": [
      {
       "html": [
        "<div style=\"max-height:1000px;max-width:1500px;overflow:auto;\">\n",
        "<table border=\"1\" class=\"dataframe\">\n",
        "  <thead>\n",
        "    <tr style=\"text-align: right;\">\n",
        "      <th></th>\n",
        "      <th>Berri 1</th>\n",
        "    </tr>\n",
        "    <tr>\n",
        "      <th>Date</th>\n",
        "      <th></th>\n",
        "    </tr>\n",
        "  </thead>\n",
        "  <tbody>\n",
        "    <tr>\n",
        "      <th>2012-01-01</th>\n",
        "      <td>  35</td>\n",
        "    </tr>\n",
        "    <tr>\n",
        "      <th>2012-01-02</th>\n",
        "      <td>  83</td>\n",
        "    </tr>\n",
        "    <tr>\n",
        "      <th>2012-01-03</th>\n",
        "      <td> 135</td>\n",
        "    </tr>\n",
        "    <tr>\n",
        "      <th>2012-01-04</th>\n",
        "      <td> 144</td>\n",
        "    </tr>\n",
        "    <tr>\n",
        "      <th>2012-01-05</th>\n",
        "      <td> 197</td>\n",
        "    </tr>\n",
        "  </tbody>\n",
        "</table>\n",
        "<p>5 rows \u00d7 1 columns</p>\n",
        "</div>"
       ],
       "metadata": {},
       "output_type": "pyout",
       "prompt_number": 12,
       "text": [
        "            Berri 1\n",
        "Date               \n",
        "2012-01-01       35\n",
        "2012-01-02       83\n",
        "2012-01-03      135\n",
        "2012-01-04      144\n",
        "2012-01-05      197\n",
        "\n",
        "[5 rows x 1 columns]"
       ]
      }
     ],
     "prompt_number": 12
    },
    {
     "cell_type": "markdown",
     "metadata": {},
     "source": [
      "Or you can use boolean indexing for selection."
     ]
    },
    {
     "cell_type": "code",
     "collapsed": false,
     "input": [
      "bikes_df[bikes_df['Berri 1'] < 40]"
     ],
     "language": "python",
     "metadata": {},
     "outputs": [
      {
       "html": [
        "<div style=\"max-height:1000px;max-width:1500px;overflow:auto;\">\n",
        "<table border=\"1\" class=\"dataframe\">\n",
        "  <thead>\n",
        "    <tr style=\"text-align: right;\">\n",
        "      <th></th>\n",
        "      <th>Berri 1</th>\n",
        "      <th>C\u00f4te-Sainte-Catherine</th>\n",
        "      <th>Maisonneuve 1</th>\n",
        "      <th>Maisonneuve 2</th>\n",
        "      <th>du Parc</th>\n",
        "      <th>Pierre-Dupuy</th>\n",
        "      <th>Rachel1</th>\n",
        "    </tr>\n",
        "    <tr>\n",
        "      <th>Date</th>\n",
        "      <th></th>\n",
        "      <th></th>\n",
        "      <th></th>\n",
        "      <th></th>\n",
        "      <th></th>\n",
        "      <th></th>\n",
        "      <th></th>\n",
        "    </tr>\n",
        "  </thead>\n",
        "  <tbody>\n",
        "    <tr>\n",
        "      <th>2012-01-01</th>\n",
        "      <td> 35</td>\n",
        "      <td> 0</td>\n",
        "      <td> 38</td>\n",
        "      <td> 51</td>\n",
        "      <td> 26</td>\n",
        "      <td> 10</td>\n",
        "      <td> 16</td>\n",
        "    </tr>\n",
        "    <tr>\n",
        "      <th>2012-01-14</th>\n",
        "      <td> 32</td>\n",
        "      <td> 0</td>\n",
        "      <td> 54</td>\n",
        "      <td> 56</td>\n",
        "      <td> 19</td>\n",
        "      <td>  0</td>\n",
        "      <td>  1</td>\n",
        "    </tr>\n",
        "  </tbody>\n",
        "</table>\n",
        "<p>2 rows \u00d7 7 columns</p>\n",
        "</div>"
       ],
       "metadata": {},
       "output_type": "pyout",
       "prompt_number": 13,
       "text": [
        "            Berri 1  C\u00f4te-Sainte-Catherine  Maisonneuve 1  Maisonneuve 2  \\\n",
        "Date                                                                       \n",
        "2012-01-01       35                      0             38             51   \n",
        "2012-01-14       32                      0             54             56   \n",
        "\n",
        "            du Parc  Pierre-Dupuy  Rachel1  \n",
        "Date                                        \n",
        "2012-01-01       26            10       16  \n",
        "2012-01-14       19             0        1  \n",
        "\n",
        "[2 rows x 7 columns]"
       ]
      }
     ],
     "prompt_number": 13
    },
    {
     "cell_type": "markdown",
     "metadata": {},
     "source": [
      "That last one might be a little weird, so let's make it more clear: `bikes_df['Berri 1'] < 40` returns a Series of `True`/`False` values, which we then pass to our DataFrame `bikes_df`, returning the corresponding `True` items."
     ]
    },
    {
     "cell_type": "code",
     "collapsed": false,
     "input": [
      "less_than_40 = bikes_df['Berri 1'] < 40\n",
      "print(less_than_40)\n",
      "bikes_df[less_than_40]"
     ],
     "language": "python",
     "metadata": {},
     "outputs": [
      {
       "output_type": "stream",
       "stream": "stdout",
       "text": [
        "Date\n",
        "2012-01-01     True\n",
        "2012-01-02    False\n",
        "2012-01-03    False\n",
        "2012-01-04    False\n",
        "2012-01-05    False\n",
        "2012-01-06    False\n",
        "2012-01-07    False\n",
        "2012-01-08    False\n",
        "2012-01-09    False\n",
        "2012-01-10    False\n",
        "2012-01-11    False\n",
        "2012-01-12    False\n",
        "2012-01-13    False\n",
        "2012-01-14     True\n",
        "2012-01-15    False\n",
        "...\n",
        "2012-10-22    False\n",
        "2012-10-23    False\n",
        "2012-10-24    False\n",
        "2012-10-25    False\n",
        "2012-10-26    False\n",
        "2012-10-27    False\n",
        "2012-10-28    False\n",
        "2012-10-29    False\n",
        "2012-10-30    False\n",
        "2012-10-31    False\n",
        "2012-11-01    False\n",
        "2012-11-02    False\n",
        "2012-11-03    False\n",
        "2012-11-04    False\n",
        "2012-11-05    False\n",
        "Name: Berri 1, Length: 310\n"
       ]
      },
      {
       "html": [
        "<div style=\"max-height:1000px;max-width:1500px;overflow:auto;\">\n",
        "<table border=\"1\" class=\"dataframe\">\n",
        "  <thead>\n",
        "    <tr style=\"text-align: right;\">\n",
        "      <th></th>\n",
        "      <th>Berri 1</th>\n",
        "      <th>C\u00f4te-Sainte-Catherine</th>\n",
        "      <th>Maisonneuve 1</th>\n",
        "      <th>Maisonneuve 2</th>\n",
        "      <th>du Parc</th>\n",
        "      <th>Pierre-Dupuy</th>\n",
        "      <th>Rachel1</th>\n",
        "    </tr>\n",
        "    <tr>\n",
        "      <th>Date</th>\n",
        "      <th></th>\n",
        "      <th></th>\n",
        "      <th></th>\n",
        "      <th></th>\n",
        "      <th></th>\n",
        "      <th></th>\n",
        "      <th></th>\n",
        "    </tr>\n",
        "  </thead>\n",
        "  <tbody>\n",
        "    <tr>\n",
        "      <th>2012-01-01</th>\n",
        "      <td> 35</td>\n",
        "      <td> 0</td>\n",
        "      <td> 38</td>\n",
        "      <td> 51</td>\n",
        "      <td> 26</td>\n",
        "      <td> 10</td>\n",
        "      <td> 16</td>\n",
        "    </tr>\n",
        "    <tr>\n",
        "      <th>2012-01-14</th>\n",
        "      <td> 32</td>\n",
        "      <td> 0</td>\n",
        "      <td> 54</td>\n",
        "      <td> 56</td>\n",
        "      <td> 19</td>\n",
        "      <td>  0</td>\n",
        "      <td>  1</td>\n",
        "    </tr>\n",
        "  </tbody>\n",
        "</table>\n",
        "<p>2 rows \u00d7 7 columns</p>\n",
        "</div>"
       ],
       "metadata": {},
       "output_type": "pyout",
       "prompt_number": 14,
       "text": [
        "            Berri 1  C\u00f4te-Sainte-Catherine  Maisonneuve 1  Maisonneuve 2  \\\n",
        "Date                                                                       \n",
        "2012-01-01       35                      0             38             51   \n",
        "2012-01-14       32                      0             54             56   \n",
        "\n",
        "            du Parc  Pierre-Dupuy  Rachel1  \n",
        "Date                                        \n",
        "2012-01-01       26            10       16  \n",
        "2012-01-14       19             0        1  \n",
        "\n",
        "[2 rows x 7 columns]"
       ]
      }
     ],
     "prompt_number": 14
    },
    {
     "cell_type": "markdown",
     "metadata": {},
     "source": [
      "\n",
      "\n",
      "`Series` and `DataFrame` share the same indexing, slicing and selecting operations. What if you aren't sure whether an item is in the `Series`? You can check using idiomatic Python.\n",
      "\n",
      "Let's first create a new `Series` from a dictionary."
     ]
    },
    {
     "cell_type": "code",
     "collapsed": false,
     "input": [
      "d = {'Chicago': 1000, 'New York': 1300, 'Portland': 900, 'San Francisco': 1100,\n",
      "     'Austin': 450, 'Boston': None}\n",
      "cities = pd.Series(d)\n",
      "cities"
     ],
     "language": "python",
     "metadata": {},
     "outputs": [
      {
       "metadata": {},
       "output_type": "pyout",
       "prompt_number": 15,
       "text": [
        "Austin            450\n",
        "Boston            NaN\n",
        "Chicago          1000\n",
        "New York         1300\n",
        "Portland          900\n",
        "San Francisco    1100\n",
        "dtype: float64"
       ]
      }
     ],
     "prompt_number": 15
    },
    {
     "cell_type": "code",
     "collapsed": false,
     "input": [
      "'Seattle' in cities"
     ],
     "language": "python",
     "metadata": {},
     "outputs": [
      {
       "metadata": {},
       "output_type": "pyout",
       "prompt_number": 16,
       "text": [
        "False"
       ]
      }
     ],
     "prompt_number": 16
    },
    {
     "cell_type": "code",
     "collapsed": false,
     "input": [
      "'San Francisco' in cities"
     ],
     "language": "python",
     "metadata": {},
     "outputs": [
      {
       "metadata": {},
       "output_type": "pyout",
       "prompt_number": 17,
       "text": [
        "True"
       ]
      }
     ],
     "prompt_number": 17
    },
    {
     "cell_type": "markdown",
     "metadata": {},
     "source": [
      "Finally, it's also possible to get a specific row by using the index value and the `ix` property."
     ]
    },
    {
     "cell_type": "code",
     "collapsed": false,
     "input": [
      "bikes_df.ix['2012-01-01']"
     ],
     "language": "python",
     "metadata": {},
     "outputs": [
      {
       "metadata": {},
       "output_type": "pyout",
       "prompt_number": 18,
       "text": [
        "Berri 1                  35\n",
        "C\u00f4te-Sainte-Catherine     0\n",
        "Maisonneuve 1            38\n",
        "Maisonneuve 2            51\n",
        "du Parc                  26\n",
        "Pierre-Dupuy             10\n",
        "Rachel1                  16\n",
        "Name: 2012-01-01 00:00:00, dtype: int64"
       ]
      }
     ],
     "prompt_number": 18
    },
    {
     "cell_type": "heading",
     "level": 2,
     "metadata": {},
     "source": [
      "Cleaning"
     ]
    },
    {
     "cell_type": "markdown",
     "metadata": {},
     "source": [
      "Mathematical operations can be done using scalars and functions."
     ]
    },
    {
     "cell_type": "code",
     "collapsed": false,
     "input": [
      "# divide city values by 3\n",
      "cities / 3"
     ],
     "language": "python",
     "metadata": {},
     "outputs": [
      {
       "metadata": {},
       "output_type": "pyout",
       "prompt_number": 19,
       "text": [
        "Austin           150.000000\n",
        "Boston                  NaN\n",
        "Chicago          333.333333\n",
        "New York         433.333333\n",
        "Portland         300.000000\n",
        "San Francisco    366.666667\n",
        "dtype: float64"
       ]
      }
     ],
     "prompt_number": 19
    },
    {
     "cell_type": "code",
     "collapsed": false,
     "input": [
      "# square city values\n",
      "np.square(cities)"
     ],
     "language": "python",
     "metadata": {},
     "outputs": [
      {
       "metadata": {},
       "output_type": "pyout",
       "prompt_number": 20,
       "text": [
        "Austin            202500\n",
        "Boston               NaN\n",
        "Chicago          1000000\n",
        "New York         1690000\n",
        "Portland          810000\n",
        "San Francisco    1210000\n",
        "dtype: float64"
       ]
      }
     ],
     "prompt_number": 20
    },
    {
     "cell_type": "markdown",
     "metadata": {},
     "source": [
      "But what can we do with that `NaN` value? The easiest way to get rid of it is by removing it."
     ]
    },
    {
     "cell_type": "code",
     "collapsed": false,
     "input": [
      "cities.dropna()"
     ],
     "language": "python",
     "metadata": {},
     "outputs": [
      {
       "metadata": {},
       "output_type": "pyout",
       "prompt_number": 21,
       "text": [
        "Austin            450\n",
        "Chicago          1000\n",
        "New York         1300\n",
        "Portland          900\n",
        "San Francisco    1100\n",
        "dtype: float64"
       ]
      }
     ],
     "prompt_number": 21
    },
    {
     "cell_type": "markdown",
     "metadata": {},
     "source": [
      "Which is equivalent to do:"
     ]
    },
    {
     "cell_type": "code",
     "collapsed": false,
     "input": [
      "cities[cities.notnull()]"
     ],
     "language": "python",
     "metadata": {},
     "outputs": [
      {
       "metadata": {},
       "output_type": "pyout",
       "prompt_number": 22,
       "text": [
        "Austin            450\n",
        "Chicago          1000\n",
        "New York         1300\n",
        "Portland          900\n",
        "San Francisco    1100\n",
        "dtype: float64"
       ]
      }
     ],
     "prompt_number": 22
    },
    {
     "cell_type": "markdown",
     "metadata": {},
     "source": [
      "We can also fill the null data or even interpolate its value from the rest of the `Series`."
     ]
    },
    {
     "cell_type": "code",
     "collapsed": false,
     "input": [
      "cities.fillna(0)"
     ],
     "language": "python",
     "metadata": {},
     "outputs": [
      {
       "metadata": {},
       "output_type": "pyout",
       "prompt_number": 23,
       "text": [
        "Austin            450\n",
        "Boston              0\n",
        "Chicago          1000\n",
        "New York         1300\n",
        "Portland          900\n",
        "San Francisco    1100\n",
        "dtype: float64"
       ]
      }
     ],
     "prompt_number": 23
    },
    {
     "cell_type": "code",
     "collapsed": false,
     "input": [
      "cities.interpolate()"
     ],
     "language": "python",
     "metadata": {},
     "outputs": [
      {
       "metadata": {},
       "output_type": "pyout",
       "prompt_number": 24,
       "text": [
        "Austin            450\n",
        "Boston            725\n",
        "Chicago          1000\n",
        "New York         1300\n",
        "Portland          900\n",
        "San Francisco    1100\n",
        "dtype: int64"
       ]
      }
     ],
     "prompt_number": 24
    },
    {
     "cell_type": "markdown",
     "metadata": {},
     "source": [
      "But null data might come in different ways. The next example illustrates the creation of a `DataFrame` from a dictionary. There are two blogs with a number of entries per tag. In this case, null data is represented by either the character `\"?\"` or the empty string `\"\"`."
     ]
    },
    {
     "cell_type": "code",
     "collapsed": false,
     "input": [
      "blogs = pd.DataFrame({0: {'blog': 1, 'tag': 'GIS', 'entries': '?'},\n",
      "                      1: {'blog': 1, 'tag': 'NLP', 'entries': 1638},\n",
      "                      2: {'blog': 1, 'tag': 'SNA', 'entries': 569},\n",
      "                      3: {'blog': 1, 'tag': 'DH', 'entries': 115},\n",
      "                      4: {'blog': 2, 'tag': 'GIS', 'entries': ''},\n",
      "                      5: {'blog': 2, 'tag': 'NLP', 'entries': 1130},\n",
      "                      6: {'blog': 2, 'tag': 'SNA', 'entries': 754},\n",
      "                      7: {'blog': 2, 'tag': 'DH', 'entries': 555}})"
     ],
     "language": "python",
     "metadata": {},
     "outputs": [],
     "prompt_number": 25
    },
    {
     "cell_type": "code",
     "collapsed": false,
     "input": [
      "blogs"
     ],
     "language": "python",
     "metadata": {},
     "outputs": [
      {
       "html": [
        "<div style=\"max-height:1000px;max-width:1500px;overflow:auto;\">\n",
        "<table border=\"1\" class=\"dataframe\">\n",
        "  <thead>\n",
        "    <tr style=\"text-align: right;\">\n",
        "      <th></th>\n",
        "      <th>0</th>\n",
        "      <th>1</th>\n",
        "      <th>2</th>\n",
        "      <th>3</th>\n",
        "      <th>4</th>\n",
        "      <th>5</th>\n",
        "      <th>6</th>\n",
        "      <th>7</th>\n",
        "    </tr>\n",
        "  </thead>\n",
        "  <tbody>\n",
        "    <tr>\n",
        "      <th>blog</th>\n",
        "      <td>   1</td>\n",
        "      <td>    1</td>\n",
        "      <td>   1</td>\n",
        "      <td>   1</td>\n",
        "      <td>   2</td>\n",
        "      <td>    2</td>\n",
        "      <td>   2</td>\n",
        "      <td>   2</td>\n",
        "    </tr>\n",
        "    <tr>\n",
        "      <th>entries</th>\n",
        "      <td>   ?</td>\n",
        "      <td> 1638</td>\n",
        "      <td> 569</td>\n",
        "      <td> 115</td>\n",
        "      <td>    </td>\n",
        "      <td> 1130</td>\n",
        "      <td> 754</td>\n",
        "      <td> 555</td>\n",
        "    </tr>\n",
        "    <tr>\n",
        "      <th>tag</th>\n",
        "      <td> GIS</td>\n",
        "      <td>  NLP</td>\n",
        "      <td> SNA</td>\n",
        "      <td>  DH</td>\n",
        "      <td> GIS</td>\n",
        "      <td>  NLP</td>\n",
        "      <td> SNA</td>\n",
        "      <td>  DH</td>\n",
        "    </tr>\n",
        "  </tbody>\n",
        "</table>\n",
        "<p>3 rows \u00d7 8 columns</p>\n",
        "</div>"
       ],
       "metadata": {},
       "output_type": "pyout",
       "prompt_number": 26,
       "text": [
        "           0     1    2    3    4     5    6    7\n",
        "blog       1     1    1    1    2     2    2    2\n",
        "entries    ?  1638  569  115       1130  754  555\n",
        "tag      GIS   NLP  SNA   DH  GIS   NLP  SNA   DH\n",
        "\n",
        "[3 rows x 8 columns]"
       ]
      }
     ],
     "prompt_number": 26
    },
    {
     "cell_type": "code",
     "collapsed": false,
     "input": [
      "blogs = blogs.T  # We transpose it to swap rows by columns\n",
      "blogs"
     ],
     "language": "python",
     "metadata": {},
     "outputs": [
      {
       "html": [
        "<div style=\"max-height:1000px;max-width:1500px;overflow:auto;\">\n",
        "<table border=\"1\" class=\"dataframe\">\n",
        "  <thead>\n",
        "    <tr style=\"text-align: right;\">\n",
        "      <th></th>\n",
        "      <th>blog</th>\n",
        "      <th>entries</th>\n",
        "      <th>tag</th>\n",
        "    </tr>\n",
        "  </thead>\n",
        "  <tbody>\n",
        "    <tr>\n",
        "      <th>0</th>\n",
        "      <td> 1</td>\n",
        "      <td>    ?</td>\n",
        "      <td> GIS</td>\n",
        "    </tr>\n",
        "    <tr>\n",
        "      <th>1</th>\n",
        "      <td> 1</td>\n",
        "      <td> 1638</td>\n",
        "      <td> NLP</td>\n",
        "    </tr>\n",
        "    <tr>\n",
        "      <th>2</th>\n",
        "      <td> 1</td>\n",
        "      <td>  569</td>\n",
        "      <td> SNA</td>\n",
        "    </tr>\n",
        "    <tr>\n",
        "      <th>3</th>\n",
        "      <td> 1</td>\n",
        "      <td>  115</td>\n",
        "      <td>  DH</td>\n",
        "    </tr>\n",
        "    <tr>\n",
        "      <th>4</th>\n",
        "      <td> 2</td>\n",
        "      <td>     </td>\n",
        "      <td> GIS</td>\n",
        "    </tr>\n",
        "    <tr>\n",
        "      <th>5</th>\n",
        "      <td> 2</td>\n",
        "      <td> 1130</td>\n",
        "      <td> NLP</td>\n",
        "    </tr>\n",
        "    <tr>\n",
        "      <th>6</th>\n",
        "      <td> 2</td>\n",
        "      <td>  754</td>\n",
        "      <td> SNA</td>\n",
        "    </tr>\n",
        "    <tr>\n",
        "      <th>7</th>\n",
        "      <td> 2</td>\n",
        "      <td>  555</td>\n",
        "      <td>  DH</td>\n",
        "    </tr>\n",
        "  </tbody>\n",
        "</table>\n",
        "<p>8 rows \u00d7 3 columns</p>\n",
        "</div>"
       ],
       "metadata": {},
       "output_type": "pyout",
       "prompt_number": 27,
       "text": [
        "  blog entries  tag\n",
        "0    1       ?  GIS\n",
        "1    1    1638  NLP\n",
        "2    1     569  SNA\n",
        "3    1     115   DH\n",
        "4    2          GIS\n",
        "5    2    1130  NLP\n",
        "6    2     754  SNA\n",
        "7    2     555   DH\n",
        "\n",
        "[8 rows x 3 columns]"
       ]
      }
     ],
     "prompt_number": 27
    },
    {
     "cell_type": "markdown",
     "metadata": {},
     "source": [
      "If we wanted to remove those rows with null values, we can use the `na_values` parameter when reading the data from a CSV. For `DataFrames` that we already have, the process is more manual. For now, let's just ignore the warning :-)"
     ]
    },
    {
     "cell_type": "code",
     "collapsed": false,
     "input": [
      "blogs[blogs.entries != \"?\"][blogs.entries != \"\"]"
     ],
     "language": "python",
     "metadata": {},
     "outputs": [
      {
       "output_type": "stream",
       "stream": "stderr",
       "text": [
        "/home/versae/.venvs/data/lib/python3.3/site-packages/pandas/core/frame.py:1686: UserWarning: Boolean Series key will be reindexed to match DataFrame index.\n",
        "  \"DataFrame index.\", UserWarning)\n"
       ]
      },
      {
       "html": [
        "<div style=\"max-height:1000px;max-width:1500px;overflow:auto;\">\n",
        "<table border=\"1\" class=\"dataframe\">\n",
        "  <thead>\n",
        "    <tr style=\"text-align: right;\">\n",
        "      <th></th>\n",
        "      <th>blog</th>\n",
        "      <th>entries</th>\n",
        "      <th>tag</th>\n",
        "    </tr>\n",
        "  </thead>\n",
        "  <tbody>\n",
        "    <tr>\n",
        "      <th>1</th>\n",
        "      <td> 1</td>\n",
        "      <td> 1638</td>\n",
        "      <td> NLP</td>\n",
        "    </tr>\n",
        "    <tr>\n",
        "      <th>2</th>\n",
        "      <td> 1</td>\n",
        "      <td>  569</td>\n",
        "      <td> SNA</td>\n",
        "    </tr>\n",
        "    <tr>\n",
        "      <th>3</th>\n",
        "      <td> 1</td>\n",
        "      <td>  115</td>\n",
        "      <td>  DH</td>\n",
        "    </tr>\n",
        "    <tr>\n",
        "      <th>5</th>\n",
        "      <td> 2</td>\n",
        "      <td> 1130</td>\n",
        "      <td> NLP</td>\n",
        "    </tr>\n",
        "    <tr>\n",
        "      <th>6</th>\n",
        "      <td> 2</td>\n",
        "      <td>  754</td>\n",
        "      <td> SNA</td>\n",
        "    </tr>\n",
        "    <tr>\n",
        "      <th>7</th>\n",
        "      <td> 2</td>\n",
        "      <td>  555</td>\n",
        "      <td>  DH</td>\n",
        "    </tr>\n",
        "  </tbody>\n",
        "</table>\n",
        "<p>6 rows \u00d7 3 columns</p>\n",
        "</div>"
       ],
       "metadata": {},
       "output_type": "pyout",
       "prompt_number": 28,
       "text": [
        "  blog entries  tag\n",
        "1    1    1638  NLP\n",
        "2    1     569  SNA\n",
        "3    1     115   DH\n",
        "5    2    1130  NLP\n",
        "6    2     754  SNA\n",
        "7    2     555   DH\n",
        "\n",
        "[6 rows x 3 columns]"
       ]
      }
     ],
     "prompt_number": 28
    },
    {
     "cell_type": "markdown",
     "metadata": {},
     "source": [
      "In some cases, we might want to keep the rows, but fill them with real null data."
     ]
    },
    {
     "cell_type": "code",
     "collapsed": false,
     "input": [
      "blogs['entries'] = blogs['entries'].replace(\"?\", np.NaN)\n",
      "blogs['entries'].replace(\"\", np.NaN, inplace=True)\n",
      "blogs"
     ],
     "language": "python",
     "metadata": {},
     "outputs": [
      {
       "html": [
        "<div style=\"max-height:1000px;max-width:1500px;overflow:auto;\">\n",
        "<table border=\"1\" class=\"dataframe\">\n",
        "  <thead>\n",
        "    <tr style=\"text-align: right;\">\n",
        "      <th></th>\n",
        "      <th>blog</th>\n",
        "      <th>entries</th>\n",
        "      <th>tag</th>\n",
        "    </tr>\n",
        "  </thead>\n",
        "  <tbody>\n",
        "    <tr>\n",
        "      <th>0</th>\n",
        "      <td> 1</td>\n",
        "      <td>  NaN</td>\n",
        "      <td> GIS</td>\n",
        "    </tr>\n",
        "    <tr>\n",
        "      <th>1</th>\n",
        "      <td> 1</td>\n",
        "      <td> 1638</td>\n",
        "      <td> NLP</td>\n",
        "    </tr>\n",
        "    <tr>\n",
        "      <th>2</th>\n",
        "      <td> 1</td>\n",
        "      <td>  569</td>\n",
        "      <td> SNA</td>\n",
        "    </tr>\n",
        "    <tr>\n",
        "      <th>3</th>\n",
        "      <td> 1</td>\n",
        "      <td>  115</td>\n",
        "      <td>  DH</td>\n",
        "    </tr>\n",
        "    <tr>\n",
        "      <th>4</th>\n",
        "      <td> 2</td>\n",
        "      <td>  NaN</td>\n",
        "      <td> GIS</td>\n",
        "    </tr>\n",
        "    <tr>\n",
        "      <th>5</th>\n",
        "      <td> 2</td>\n",
        "      <td> 1130</td>\n",
        "      <td> NLP</td>\n",
        "    </tr>\n",
        "    <tr>\n",
        "      <th>6</th>\n",
        "      <td> 2</td>\n",
        "      <td>  754</td>\n",
        "      <td> SNA</td>\n",
        "    </tr>\n",
        "    <tr>\n",
        "      <th>7</th>\n",
        "      <td> 2</td>\n",
        "      <td>  555</td>\n",
        "      <td>  DH</td>\n",
        "    </tr>\n",
        "  </tbody>\n",
        "</table>\n",
        "<p>8 rows \u00d7 3 columns</p>\n",
        "</div>"
       ],
       "metadata": {},
       "output_type": "pyout",
       "prompt_number": 29,
       "text": [
        "  blog  entries  tag\n",
        "0    1      NaN  GIS\n",
        "1    1     1638  NLP\n",
        "2    1      569  SNA\n",
        "3    1      115   DH\n",
        "4    2      NaN  GIS\n",
        "5    2     1130  NLP\n",
        "6    2      754  SNA\n",
        "7    2      555   DH\n",
        "\n",
        "[8 rows x 3 columns]"
       ]
      }
     ],
     "prompt_number": 29
    },
    {
     "cell_type": "markdown",
     "metadata": {},
     "source": [
      "<div style=\"font-size: 1em; margin: 1em 0 1em 0; border: 1px solid #86989B; background-color: #f7f7f7; padding: 0;\">\n",
      "<p style=\"margin: 0; padding: 0.1em 0 0.1em 0.5em; color: white; border-bottom: 1px solid #86989B; font-weight: bold; background-color: #AFC1C4;\">\n",
      "Activity\n",
      "</p>\n",
      "<p style=\"margin: 0.5em 1em 0.5em 1em; padding: 0;\">\n",
      "What do you think is the difference between these two lines?\n",
      "<br/>\n",
      "```\n",
      "blogs['entries'] = blogs['entries'].replace(\"?\", np.NaN)\n",
      "```\n",
      "<br/>\n",
      "```\n",
      "blogs['entries'].replace(\"\", np.NaN, inplace=True)\n",
      "```\n",
      "</p>\n",
      "</div>"
     ]
    },
    {
     "cell_type": "heading",
     "level": 2,
     "metadata": {},
     "source": [
      "Summary statistics"
     ]
    },
    {
     "cell_type": "markdown",
     "metadata": {},
     "source": [
      "Pandas provides nifty methods to understand your data. Let's look at the [describe, correlation, covariance, and correlation](http://pandas.pydata.org/pandas-docs/dev/computation.html) methods that you can use to quickly make sense of the data.\n",
      "\n",
      "The `describe()` method provides quick stats on all suitable columns."
     ]
    },
    {
     "cell_type": "code",
     "collapsed": false,
     "input": [
      "bikes_df.describe()"
     ],
     "language": "python",
     "metadata": {},
     "outputs": [
      {
       "html": [
        "<div style=\"max-height:1000px;max-width:1500px;overflow:auto;\">\n",
        "<table border=\"1\" class=\"dataframe\">\n",
        "  <thead>\n",
        "    <tr style=\"text-align: right;\">\n",
        "      <th></th>\n",
        "      <th>Berri 1</th>\n",
        "      <th>C\u00f4te-Sainte-Catherine</th>\n",
        "      <th>Maisonneuve 1</th>\n",
        "      <th>Maisonneuve 2</th>\n",
        "      <th>du Parc</th>\n",
        "      <th>Pierre-Dupuy</th>\n",
        "      <th>Rachel1</th>\n",
        "    </tr>\n",
        "  </thead>\n",
        "  <tbody>\n",
        "    <tr>\n",
        "      <th>count</th>\n",
        "      <td>  310.000000</td>\n",
        "      <td>  310.000000</td>\n",
        "      <td>  310.000000</td>\n",
        "      <td>  310.000000</td>\n",
        "      <td>  310.000000</td>\n",
        "      <td>  310.000000</td>\n",
        "      <td>  310.000000</td>\n",
        "    </tr>\n",
        "    <tr>\n",
        "      <th>mean</th>\n",
        "      <td> 2985.048387</td>\n",
        "      <td> 1233.351613</td>\n",
        "      <td> 1983.325806</td>\n",
        "      <td> 3510.261290</td>\n",
        "      <td> 1862.983871</td>\n",
        "      <td> 1054.306452</td>\n",
        "      <td> 2873.483871</td>\n",
        "    </tr>\n",
        "    <tr>\n",
        "      <th>std</th>\n",
        "      <td> 2169.271062</td>\n",
        "      <td>  944.643188</td>\n",
        "      <td> 1450.715170</td>\n",
        "      <td> 2484.959789</td>\n",
        "      <td> 1332.543266</td>\n",
        "      <td> 1064.029205</td>\n",
        "      <td> 2039.315504</td>\n",
        "    </tr>\n",
        "    <tr>\n",
        "      <th>min</th>\n",
        "      <td>   32.000000</td>\n",
        "      <td>    0.000000</td>\n",
        "      <td>   33.000000</td>\n",
        "      <td>   47.000000</td>\n",
        "      <td>   18.000000</td>\n",
        "      <td>    0.000000</td>\n",
        "      <td>    0.000000</td>\n",
        "    </tr>\n",
        "    <tr>\n",
        "      <th>25%</th>\n",
        "      <td>  596.000000</td>\n",
        "      <td>  243.250000</td>\n",
        "      <td>  427.000000</td>\n",
        "      <td>  831.000000</td>\n",
        "      <td>  474.750000</td>\n",
        "      <td>   53.250000</td>\n",
        "      <td>  731.000000</td>\n",
        "    </tr>\n",
        "    <tr>\n",
        "      <th>50%</th>\n",
        "      <td> 3128.000000</td>\n",
        "      <td> 1269.000000</td>\n",
        "      <td> 2019.500000</td>\n",
        "      <td> 3688.500000</td>\n",
        "      <td> 1822.500000</td>\n",
        "      <td>  704.000000</td>\n",
        "      <td> 3223.500000</td>\n",
        "    </tr>\n",
        "    <tr>\n",
        "      <th>75%</th>\n",
        "      <td> 4973.250000</td>\n",
        "      <td> 2003.000000</td>\n",
        "      <td> 3168.250000</td>\n",
        "      <td> 5731.750000</td>\n",
        "      <td> 3069.000000</td>\n",
        "      <td> 1818.500000</td>\n",
        "      <td> 4717.250000</td>\n",
        "    </tr>\n",
        "    <tr>\n",
        "      <th>max</th>\n",
        "      <td> 7077.000000</td>\n",
        "      <td> 3124.000000</td>\n",
        "      <td> 4999.000000</td>\n",
        "      <td> 8222.000000</td>\n",
        "      <td> 4510.000000</td>\n",
        "      <td> 4386.000000</td>\n",
        "      <td> 6595.000000</td>\n",
        "    </tr>\n",
        "  </tbody>\n",
        "</table>\n",
        "<p>8 rows \u00d7 7 columns</p>\n",
        "</div>"
       ],
       "metadata": {},
       "output_type": "pyout",
       "prompt_number": 30,
       "text": [
        "           Berri 1  C\u00f4te-Sainte-Catherine  Maisonneuve 1  Maisonneuve 2  \\\n",
        "count   310.000000             310.000000     310.000000     310.000000   \n",
        "mean   2985.048387            1233.351613    1983.325806    3510.261290   \n",
        "std    2169.271062             944.643188    1450.715170    2484.959789   \n",
        "min      32.000000               0.000000      33.000000      47.000000   \n",
        "25%     596.000000             243.250000     427.000000     831.000000   \n",
        "50%    3128.000000            1269.000000    2019.500000    3688.500000   \n",
        "75%    4973.250000            2003.000000    3168.250000    5731.750000   \n",
        "max    7077.000000            3124.000000    4999.000000    8222.000000   \n",
        "\n",
        "           du Parc  Pierre-Dupuy      Rachel1  \n",
        "count   310.000000    310.000000   310.000000  \n",
        "mean   1862.983871   1054.306452  2873.483871  \n",
        "std    1332.543266   1064.029205  2039.315504  \n",
        "min      18.000000      0.000000     0.000000  \n",
        "25%     474.750000     53.250000   731.000000  \n",
        "50%    1822.500000    704.000000  3223.500000  \n",
        "75%    3069.000000   1818.500000  4717.250000  \n",
        "max    4510.000000   4386.000000  6595.000000  \n",
        "\n",
        "[8 rows x 7 columns]"
       ]
      }
     ],
     "prompt_number": 30
    },
    {
     "cell_type": "code",
     "collapsed": false,
     "input": [
      "blogs.describe()"
     ],
     "language": "python",
     "metadata": {},
     "outputs": [
      {
       "html": [
        "<div style=\"max-height:1000px;max-width:1500px;overflow:auto;\">\n",
        "<table border=\"1\" class=\"dataframe\">\n",
        "  <thead>\n",
        "    <tr style=\"text-align: right;\">\n",
        "      <th></th>\n",
        "      <th>entries</th>\n",
        "    </tr>\n",
        "  </thead>\n",
        "  <tbody>\n",
        "    <tr>\n",
        "      <th>count</th>\n",
        "      <td>    6.000000</td>\n",
        "    </tr>\n",
        "    <tr>\n",
        "      <th>mean</th>\n",
        "      <td>  793.500000</td>\n",
        "    </tr>\n",
        "    <tr>\n",
        "      <th>std</th>\n",
        "      <td>  528.321398</td>\n",
        "    </tr>\n",
        "    <tr>\n",
        "      <th>min</th>\n",
        "      <td>  115.000000</td>\n",
        "    </tr>\n",
        "    <tr>\n",
        "      <th>25%</th>\n",
        "      <td>  558.500000</td>\n",
        "    </tr>\n",
        "    <tr>\n",
        "      <th>50%</th>\n",
        "      <td>  661.500000</td>\n",
        "    </tr>\n",
        "    <tr>\n",
        "      <th>75%</th>\n",
        "      <td> 1036.000000</td>\n",
        "    </tr>\n",
        "    <tr>\n",
        "      <th>max</th>\n",
        "      <td> 1638.000000</td>\n",
        "    </tr>\n",
        "  </tbody>\n",
        "</table>\n",
        "<p>8 rows \u00d7 1 columns</p>\n",
        "</div>"
       ],
       "metadata": {},
       "output_type": "pyout",
       "prompt_number": 31,
       "text": [
        "           entries\n",
        "count     6.000000\n",
        "mean    793.500000\n",
        "std     528.321398\n",
        "min     115.000000\n",
        "25%     558.500000\n",
        "50%     661.500000\n",
        "75%    1036.000000\n",
        "max    1638.000000\n",
        "\n",
        "[8 rows x 1 columns]"
       ]
      }
     ],
     "prompt_number": 31
    },
    {
     "cell_type": "code",
     "collapsed": false,
     "input": [
      "autos_df.describe()"
     ],
     "language": "python",
     "metadata": {},
     "outputs": [
      {
       "html": [
        "<div style=\"max-height:1000px;max-width:1500px;overflow:auto;\">\n",
        "<table border=\"1\" class=\"dataframe\">\n",
        "  <thead>\n",
        "    <tr style=\"text-align: right;\">\n",
        "      <th></th>\n",
        "      <th>mpg</th>\n",
        "      <th>cylinders</th>\n",
        "      <th>displacement</th>\n",
        "      <th>weight</th>\n",
        "      <th>acceleration</th>\n",
        "      <th>year</th>\n",
        "      <th>origin</th>\n",
        "    </tr>\n",
        "  </thead>\n",
        "  <tbody>\n",
        "    <tr>\n",
        "      <th>count</th>\n",
        "      <td> 397.000000</td>\n",
        "      <td> 397.000000</td>\n",
        "      <td> 397.000000</td>\n",
        "      <td>  397.000000</td>\n",
        "      <td> 397.000000</td>\n",
        "      <td> 397.000000</td>\n",
        "      <td> 397.000000</td>\n",
        "    </tr>\n",
        "    <tr>\n",
        "      <th>mean</th>\n",
        "      <td>  23.515869</td>\n",
        "      <td>   5.458438</td>\n",
        "      <td> 193.532746</td>\n",
        "      <td> 2970.261965</td>\n",
        "      <td>  15.555668</td>\n",
        "      <td>  75.994962</td>\n",
        "      <td>   1.574307</td>\n",
        "    </tr>\n",
        "    <tr>\n",
        "      <th>std</th>\n",
        "      <td>   7.825804</td>\n",
        "      <td>   1.701577</td>\n",
        "      <td> 104.379583</td>\n",
        "      <td>  847.904119</td>\n",
        "      <td>   2.749995</td>\n",
        "      <td>   3.690005</td>\n",
        "      <td>   0.802549</td>\n",
        "    </tr>\n",
        "    <tr>\n",
        "      <th>min</th>\n",
        "      <td>   9.000000</td>\n",
        "      <td>   3.000000</td>\n",
        "      <td>  68.000000</td>\n",
        "      <td> 1613.000000</td>\n",
        "      <td>   8.000000</td>\n",
        "      <td>  70.000000</td>\n",
        "      <td>   1.000000</td>\n",
        "    </tr>\n",
        "    <tr>\n",
        "      <th>25%</th>\n",
        "      <td>  17.500000</td>\n",
        "      <td>   4.000000</td>\n",
        "      <td> 104.000000</td>\n",
        "      <td> 2223.000000</td>\n",
        "      <td>  13.800000</td>\n",
        "      <td>  73.000000</td>\n",
        "      <td>   1.000000</td>\n",
        "    </tr>\n",
        "    <tr>\n",
        "      <th>50%</th>\n",
        "      <td>  23.000000</td>\n",
        "      <td>   4.000000</td>\n",
        "      <td> 146.000000</td>\n",
        "      <td> 2800.000000</td>\n",
        "      <td>  15.500000</td>\n",
        "      <td>  76.000000</td>\n",
        "      <td>   1.000000</td>\n",
        "    </tr>\n",
        "    <tr>\n",
        "      <th>75%</th>\n",
        "      <td>  29.000000</td>\n",
        "      <td>   8.000000</td>\n",
        "      <td> 262.000000</td>\n",
        "      <td> 3609.000000</td>\n",
        "      <td>  17.100000</td>\n",
        "      <td>  79.000000</td>\n",
        "      <td>   2.000000</td>\n",
        "    </tr>\n",
        "    <tr>\n",
        "      <th>max</th>\n",
        "      <td>  46.600000</td>\n",
        "      <td>   8.000000</td>\n",
        "      <td> 455.000000</td>\n",
        "      <td> 5140.000000</td>\n",
        "      <td>  24.800000</td>\n",
        "      <td>  82.000000</td>\n",
        "      <td>   3.000000</td>\n",
        "    </tr>\n",
        "  </tbody>\n",
        "</table>\n",
        "<p>8 rows \u00d7 7 columns</p>\n",
        "</div>"
       ],
       "metadata": {},
       "output_type": "pyout",
       "prompt_number": 32,
       "text": [
        "              mpg   cylinders  displacement       weight  acceleration  \\\n",
        "count  397.000000  397.000000    397.000000   397.000000    397.000000   \n",
        "mean    23.515869    5.458438    193.532746  2970.261965     15.555668   \n",
        "std      7.825804    1.701577    104.379583   847.904119      2.749995   \n",
        "min      9.000000    3.000000     68.000000  1613.000000      8.000000   \n",
        "25%     17.500000    4.000000    104.000000  2223.000000     13.800000   \n",
        "50%     23.000000    4.000000    146.000000  2800.000000     15.500000   \n",
        "75%     29.000000    8.000000    262.000000  3609.000000     17.100000   \n",
        "max     46.600000    8.000000    455.000000  5140.000000     24.800000   \n",
        "\n",
        "             year      origin  \n",
        "count  397.000000  397.000000  \n",
        "mean    75.994962    1.574307  \n",
        "std      3.690005    0.802549  \n",
        "min     70.000000    1.000000  \n",
        "25%     73.000000    1.000000  \n",
        "50%     76.000000    1.000000  \n",
        "75%     79.000000    2.000000  \n",
        "max     82.000000    3.000000  \n",
        "\n",
        "[8 rows x 7 columns]"
       ]
      }
     ],
     "prompt_number": 32
    },
    {
     "cell_type": "markdown",
     "metadata": {},
     "source": [
      "<div style=\"font-size: 1em; margin: 1em 0 1em 0; border: 1px solid #86989B; background-color: #f7f7f7; padding: 0;\">\n",
      "<p style=\"margin: 0; padding: 0.1em 0 0.1em 0.5em; color: white; border-bottom: 1px solid #86989B; font-weight: bold; background-color: #AFC1C4;\">\n",
      "Activity\n",
      "</p>\n",
      "<p style=\"margin: 0.5em 1em 0.5em 1em; padding: 0;\">\n",
      "Other summary statistics include: `count()`, `mean()`, `median()`, `quantile()`, `std()`, `var()`, `min()`, `max()`, etc. Play around a bit to see what they do in the `DataFrames` we already have.\n",
      "</p>\n",
      "</div>\n"
     ]
    },
    {
     "cell_type": "heading",
     "level": 2,
     "metadata": {},
     "source": [
      "Merging and joining"
     ]
    },
    {
     "cell_type": "markdown",
     "metadata": {},
     "source": [
      "Throughout an analysis, we'll often need to merge/join datasets as data is typically stored in a relational manner.\n",
      "\n",
      "Like [SQL's JOIN clause](https://en.wikipedia.org/wiki/Join_sql), `pandas.merge()` allows two `DataFrames` to be joined on one or more keys. The function provides a series of parameters (`on`, `how`, `left_on`, `right_on`, `left_index`, `right_index`) allowing you to specify the columns or indexes on which to join.\n",
      "\n",
      "By default, `pandas.merge()` operates as an inner join, which can be changed using the `how` parameter. The inner join joins the two `DataFrame` by a certain key, and when any of the columns has a `NaN` for a key, it's removed.\n",
      "\n",
      "This is always easiest to understand with examples."
     ]
    },
    {
     "cell_type": "code",
     "collapsed": false,
     "input": [
      "left_frame = pd.DataFrame({'key': range(5), \n",
      "                           'left_value': ['a', 'b', 'c', 'd', 'e']})\n",
      "right_frame = pd.DataFrame({'key': range(2, 7), \n",
      "                           'right_value': ['f', 'g', 'h', 'i', 'j']})\n",
      "print(left_frame)\n",
      "print(right_frame)"
     ],
     "language": "python",
     "metadata": {},
     "outputs": [
      {
       "output_type": "stream",
       "stream": "stdout",
       "text": [
        "   key left_value\n",
        "0    0          a\n",
        "1    1          b\n",
        "2    2          c\n",
        "3    3          d\n",
        "4    4          e\n",
        "\n",
        "[5 rows x 2 columns]\n",
        "   key right_value\n",
        "0    2           f\n",
        "1    3           g\n",
        "2    4           h\n",
        "3    5           i\n",
        "4    6           j\n",
        "\n",
        "[5 rows x 2 columns]\n"
       ]
      }
     ],
     "prompt_number": 35
    },
    {
     "cell_type": "heading",
     "level": 3,
     "metadata": {},
     "source": [
      "inner join (default)"
     ]
    },
    {
     "cell_type": "code",
     "collapsed": false,
     "input": [
      "pd.merge(left_frame, right_frame, on='key', how='inner')"
     ],
     "language": "python",
     "metadata": {},
     "outputs": [
      {
       "html": [
        "<div style=\"max-height:1000px;max-width:1500px;overflow:auto;\">\n",
        "<table border=\"1\" class=\"dataframe\">\n",
        "  <thead>\n",
        "    <tr style=\"text-align: right;\">\n",
        "      <th></th>\n",
        "      <th>key</th>\n",
        "      <th>left_value</th>\n",
        "      <th>right_value</th>\n",
        "    </tr>\n",
        "  </thead>\n",
        "  <tbody>\n",
        "    <tr>\n",
        "      <th>0</th>\n",
        "      <td> 2</td>\n",
        "      <td> c</td>\n",
        "      <td> f</td>\n",
        "    </tr>\n",
        "    <tr>\n",
        "      <th>1</th>\n",
        "      <td> 3</td>\n",
        "      <td> d</td>\n",
        "      <td> g</td>\n",
        "    </tr>\n",
        "    <tr>\n",
        "      <th>2</th>\n",
        "      <td> 4</td>\n",
        "      <td> e</td>\n",
        "      <td> h</td>\n",
        "    </tr>\n",
        "  </tbody>\n",
        "</table>\n",
        "<p>3 rows \u00d7 3 columns</p>\n",
        "</div>"
       ],
       "metadata": {},
       "output_type": "pyout",
       "prompt_number": 36,
       "text": [
        "   key left_value right_value\n",
        "0    2          c           f\n",
        "1    3          d           g\n",
        "2    4          e           h\n",
        "\n",
        "[3 rows x 3 columns]"
       ]
      }
     ],
     "prompt_number": 36
    },
    {
     "cell_type": "markdown",
     "metadata": {},
     "source": [
      "We lose values from both frames since certain keys do not match up. Because our key columns have different names, we could have used the `left_on` and `right_on` parameters to specify which fields to join from each frame.\n",
      "```python\n",
      "    pd.merge(left_frame, right_frame, left_on='left_key', right_on='right_key')\n",
      "```\n",
      "Alternatively, if our keys were indexes, we could use the `left_index` or `right_index` parameters, which accept a logical value. You can mix and match columns and indexes like this:\n",
      "```python\n",
      "    pd.merge(left_frame, right_frame, left_on='key', right_index=True)\n",
      "```"
     ]
    },
    {
     "cell_type": "heading",
     "level": 3,
     "metadata": {},
     "source": [
      "left outer join"
     ]
    },
    {
     "cell_type": "code",
     "collapsed": false,
     "input": [
      "pd.merge(left_frame, right_frame, on='key', how='left')"
     ],
     "language": "python",
     "metadata": {},
     "outputs": [
      {
       "html": [
        "<div style=\"max-height:1000px;max-width:1500px;overflow:auto;\">\n",
        "<table border=\"1\" class=\"dataframe\">\n",
        "  <thead>\n",
        "    <tr style=\"text-align: right;\">\n",
        "      <th></th>\n",
        "      <th>key</th>\n",
        "      <th>left_value</th>\n",
        "      <th>right_value</th>\n",
        "    </tr>\n",
        "  </thead>\n",
        "  <tbody>\n",
        "    <tr>\n",
        "      <th>0</th>\n",
        "      <td> 0</td>\n",
        "      <td> a</td>\n",
        "      <td> NaN</td>\n",
        "    </tr>\n",
        "    <tr>\n",
        "      <th>1</th>\n",
        "      <td> 1</td>\n",
        "      <td> b</td>\n",
        "      <td> NaN</td>\n",
        "    </tr>\n",
        "    <tr>\n",
        "      <th>2</th>\n",
        "      <td> 2</td>\n",
        "      <td> c</td>\n",
        "      <td>   f</td>\n",
        "    </tr>\n",
        "    <tr>\n",
        "      <th>3</th>\n",
        "      <td> 3</td>\n",
        "      <td> d</td>\n",
        "      <td>   g</td>\n",
        "    </tr>\n",
        "    <tr>\n",
        "      <th>4</th>\n",
        "      <td> 4</td>\n",
        "      <td> e</td>\n",
        "      <td>   h</td>\n",
        "    </tr>\n",
        "  </tbody>\n",
        "</table>\n",
        "<p>5 rows \u00d7 3 columns</p>\n",
        "</div>"
       ],
       "metadata": {},
       "output_type": "pyout",
       "prompt_number": 37,
       "text": [
        "   key left_value right_value\n",
        "0    0          a         NaN\n",
        "1    1          b         NaN\n",
        "2    2          c           f\n",
        "3    3          d           g\n",
        "4    4          e           h\n",
        "\n",
        "[5 rows x 3 columns]"
       ]
      }
     ],
     "prompt_number": 37
    },
    {
     "cell_type": "markdown",
     "metadata": {},
     "source": [
      "We keep everything from the left frame, pulling in the value from the right frame where the keys match up. The `right_value` is null where keys do not match (`NaN`)."
     ]
    },
    {
     "cell_type": "heading",
     "level": 3,
     "metadata": {},
     "source": [
      "right outer join"
     ]
    },
    {
     "cell_type": "code",
     "collapsed": false,
     "input": [
      "pd.merge(left_frame, right_frame, on='key', how='right')"
     ],
     "language": "python",
     "metadata": {},
     "outputs": [
      {
       "html": [
        "<div style=\"max-height:1000px;max-width:1500px;overflow:auto;\">\n",
        "<table border=\"1\" class=\"dataframe\">\n",
        "  <thead>\n",
        "    <tr style=\"text-align: right;\">\n",
        "      <th></th>\n",
        "      <th>key</th>\n",
        "      <th>left_value</th>\n",
        "      <th>right_value</th>\n",
        "    </tr>\n",
        "  </thead>\n",
        "  <tbody>\n",
        "    <tr>\n",
        "      <th>0</th>\n",
        "      <td> 2</td>\n",
        "      <td>   c</td>\n",
        "      <td> f</td>\n",
        "    </tr>\n",
        "    <tr>\n",
        "      <th>1</th>\n",
        "      <td> 3</td>\n",
        "      <td>   d</td>\n",
        "      <td> g</td>\n",
        "    </tr>\n",
        "    <tr>\n",
        "      <th>2</th>\n",
        "      <td> 4</td>\n",
        "      <td>   e</td>\n",
        "      <td> h</td>\n",
        "    </tr>\n",
        "    <tr>\n",
        "      <th>3</th>\n",
        "      <td> 5</td>\n",
        "      <td> NaN</td>\n",
        "      <td> i</td>\n",
        "    </tr>\n",
        "    <tr>\n",
        "      <th>4</th>\n",
        "      <td> 6</td>\n",
        "      <td> NaN</td>\n",
        "      <td> j</td>\n",
        "    </tr>\n",
        "  </tbody>\n",
        "</table>\n",
        "<p>5 rows \u00d7 3 columns</p>\n",
        "</div>"
       ],
       "metadata": {},
       "output_type": "pyout",
       "prompt_number": 38,
       "text": [
        "   key left_value right_value\n",
        "0    2          c           f\n",
        "1    3          d           g\n",
        "2    4          e           h\n",
        "3    5        NaN           i\n",
        "4    6        NaN           j\n",
        "\n",
        "[5 rows x 3 columns]"
       ]
      }
     ],
     "prompt_number": 38
    },
    {
     "cell_type": "markdown",
     "metadata": {},
     "source": [
      "This time we've kept everything from the right frame with the `left_value` being null where the right frame's key did not find a match."
     ]
    },
    {
     "cell_type": "heading",
     "level": 3,
     "metadata": {},
     "source": [
      "full outer join"
     ]
    },
    {
     "cell_type": "code",
     "collapsed": false,
     "input": [
      "pd.merge(left_frame, right_frame, on='key', how='outer')"
     ],
     "language": "python",
     "metadata": {},
     "outputs": [
      {
       "html": [
        "<div style=\"max-height:1000px;max-width:1500px;overflow:auto;\">\n",
        "<table border=\"1\" class=\"dataframe\">\n",
        "  <thead>\n",
        "    <tr style=\"text-align: right;\">\n",
        "      <th></th>\n",
        "      <th>key</th>\n",
        "      <th>left_value</th>\n",
        "      <th>right_value</th>\n",
        "    </tr>\n",
        "  </thead>\n",
        "  <tbody>\n",
        "    <tr>\n",
        "      <th>0</th>\n",
        "      <td> 0</td>\n",
        "      <td>   a</td>\n",
        "      <td> NaN</td>\n",
        "    </tr>\n",
        "    <tr>\n",
        "      <th>1</th>\n",
        "      <td> 1</td>\n",
        "      <td>   b</td>\n",
        "      <td> NaN</td>\n",
        "    </tr>\n",
        "    <tr>\n",
        "      <th>2</th>\n",
        "      <td> 2</td>\n",
        "      <td>   c</td>\n",
        "      <td>   f</td>\n",
        "    </tr>\n",
        "    <tr>\n",
        "      <th>3</th>\n",
        "      <td> 3</td>\n",
        "      <td>   d</td>\n",
        "      <td>   g</td>\n",
        "    </tr>\n",
        "    <tr>\n",
        "      <th>4</th>\n",
        "      <td> 4</td>\n",
        "      <td>   e</td>\n",
        "      <td>   h</td>\n",
        "    </tr>\n",
        "    <tr>\n",
        "      <th>5</th>\n",
        "      <td> 5</td>\n",
        "      <td> NaN</td>\n",
        "      <td>   i</td>\n",
        "    </tr>\n",
        "    <tr>\n",
        "      <th>6</th>\n",
        "      <td> 6</td>\n",
        "      <td> NaN</td>\n",
        "      <td>   j</td>\n",
        "    </tr>\n",
        "  </tbody>\n",
        "</table>\n",
        "<p>7 rows \u00d7 3 columns</p>\n",
        "</div>"
       ],
       "metadata": {},
       "output_type": "pyout",
       "prompt_number": 39,
       "text": [
        "   key left_value right_value\n",
        "0    0          a         NaN\n",
        "1    1          b         NaN\n",
        "2    2          c           f\n",
        "3    3          d           g\n",
        "4    4          e           h\n",
        "5    5        NaN           i\n",
        "6    6        NaN           j\n",
        "\n",
        "[7 rows x 3 columns]"
       ]
      }
     ],
     "prompt_number": 39
    },
    {
     "cell_type": "markdown",
     "metadata": {},
     "source": [
      "We've kept everything from both frames, regardless of whether or not there was a match on both sides. Where there was not a match, the values corresponding to that key are null."
     ]
    },
    {
     "cell_type": "heading",
     "level": 3,
     "metadata": {},
     "source": [
      "concat"
     ]
    },
    {
     "cell_type": "markdown",
     "metadata": {},
     "source": [
      "Pandas also provides a way to combine `DataFrames` along an axis: `pandas.concat()`. It takes a list of `Series` or `DataFrame`s and returns a `Series` or `DataFrame` of the concatenated objects. Note that because the function takes list, you can combine many objects at once."
     ]
    },
    {
     "cell_type": "code",
     "collapsed": false,
     "input": [
      "pd.concat([left_frame, right_frame])"
     ],
     "language": "python",
     "metadata": {},
     "outputs": [
      {
       "html": [
        "<div style=\"max-height:1000px;max-width:1500px;overflow:auto;\">\n",
        "<table border=\"1\" class=\"dataframe\">\n",
        "  <thead>\n",
        "    <tr style=\"text-align: right;\">\n",
        "      <th></th>\n",
        "      <th>key</th>\n",
        "      <th>left_value</th>\n",
        "      <th>right_value</th>\n",
        "    </tr>\n",
        "  </thead>\n",
        "  <tbody>\n",
        "    <tr>\n",
        "      <th>0</th>\n",
        "      <td> 0</td>\n",
        "      <td>   a</td>\n",
        "      <td> NaN</td>\n",
        "    </tr>\n",
        "    <tr>\n",
        "      <th>1</th>\n",
        "      <td> 1</td>\n",
        "      <td>   b</td>\n",
        "      <td> NaN</td>\n",
        "    </tr>\n",
        "    <tr>\n",
        "      <th>2</th>\n",
        "      <td> 2</td>\n",
        "      <td>   c</td>\n",
        "      <td> NaN</td>\n",
        "    </tr>\n",
        "    <tr>\n",
        "      <th>3</th>\n",
        "      <td> 3</td>\n",
        "      <td>   d</td>\n",
        "      <td> NaN</td>\n",
        "    </tr>\n",
        "    <tr>\n",
        "      <th>4</th>\n",
        "      <td> 4</td>\n",
        "      <td>   e</td>\n",
        "      <td> NaN</td>\n",
        "    </tr>\n",
        "    <tr>\n",
        "      <th>0</th>\n",
        "      <td> 2</td>\n",
        "      <td> NaN</td>\n",
        "      <td>   f</td>\n",
        "    </tr>\n",
        "    <tr>\n",
        "      <th>1</th>\n",
        "      <td> 3</td>\n",
        "      <td> NaN</td>\n",
        "      <td>   g</td>\n",
        "    </tr>\n",
        "    <tr>\n",
        "      <th>2</th>\n",
        "      <td> 4</td>\n",
        "      <td> NaN</td>\n",
        "      <td>   h</td>\n",
        "    </tr>\n",
        "    <tr>\n",
        "      <th>3</th>\n",
        "      <td> 5</td>\n",
        "      <td> NaN</td>\n",
        "      <td>   i</td>\n",
        "    </tr>\n",
        "    <tr>\n",
        "      <th>4</th>\n",
        "      <td> 6</td>\n",
        "      <td> NaN</td>\n",
        "      <td>   j</td>\n",
        "    </tr>\n",
        "  </tbody>\n",
        "</table>\n",
        "<p>10 rows \u00d7 3 columns</p>\n",
        "</div>"
       ],
       "metadata": {},
       "output_type": "pyout",
       "prompt_number": 40,
       "text": [
        "   key left_value right_value\n",
        "0    0          a         NaN\n",
        "1    1          b         NaN\n",
        "2    2          c         NaN\n",
        "3    3          d         NaN\n",
        "4    4          e         NaN\n",
        "0    2        NaN           f\n",
        "1    3        NaN           g\n",
        "2    4        NaN           h\n",
        "3    5        NaN           i\n",
        "4    6        NaN           j\n",
        "\n",
        "[10 rows x 3 columns]"
       ]
      }
     ],
     "prompt_number": 40
    },
    {
     "cell_type": "markdown",
     "metadata": {},
     "source": [
      "By default, the function will vertically append the objects to one another, combining columns with the same name. We can see above that values not matching up will be null.\n",
      "\n",
      "Additionally, objects can be concatentated side-by-side using the function's axis parameter. The axis labeling information in Pandas objects serves many purposes:\n",
      "\n",
      "- Identifies data (i.e. provides metadata) using known indicators, important for analysis, visualization, and interactive console display.\n",
      "- Enables automatic and explicit data alignment.\n",
      "- Allows intuitive getting and setting of subsets of the data set."
     ]
    },
    {
     "cell_type": "code",
     "collapsed": false,
     "input": [
      "pd.concat([left_frame, right_frame], axis=1)"
     ],
     "language": "python",
     "metadata": {},
     "outputs": [
      {
       "html": [
        "<div style=\"max-height:1000px;max-width:1500px;overflow:auto;\">\n",
        "<table border=\"1\" class=\"dataframe\">\n",
        "  <thead>\n",
        "    <tr style=\"text-align: right;\">\n",
        "      <th></th>\n",
        "      <th>key</th>\n",
        "      <th>left_value</th>\n",
        "      <th>key</th>\n",
        "      <th>right_value</th>\n",
        "    </tr>\n",
        "  </thead>\n",
        "  <tbody>\n",
        "    <tr>\n",
        "      <th>0</th>\n",
        "      <td> 0</td>\n",
        "      <td> a</td>\n",
        "      <td> 2</td>\n",
        "      <td> f</td>\n",
        "    </tr>\n",
        "    <tr>\n",
        "      <th>1</th>\n",
        "      <td> 1</td>\n",
        "      <td> b</td>\n",
        "      <td> 3</td>\n",
        "      <td> g</td>\n",
        "    </tr>\n",
        "    <tr>\n",
        "      <th>2</th>\n",
        "      <td> 2</td>\n",
        "      <td> c</td>\n",
        "      <td> 4</td>\n",
        "      <td> h</td>\n",
        "    </tr>\n",
        "    <tr>\n",
        "      <th>3</th>\n",
        "      <td> 3</td>\n",
        "      <td> d</td>\n",
        "      <td> 5</td>\n",
        "      <td> i</td>\n",
        "    </tr>\n",
        "    <tr>\n",
        "      <th>4</th>\n",
        "      <td> 4</td>\n",
        "      <td> e</td>\n",
        "      <td> 6</td>\n",
        "      <td> j</td>\n",
        "    </tr>\n",
        "  </tbody>\n",
        "</table>\n",
        "<p>5 rows \u00d7 4 columns</p>\n",
        "</div>"
       ],
       "metadata": {},
       "output_type": "pyout",
       "prompt_number": 41,
       "text": [
        "   key left_value  key right_value\n",
        "0    0          a    2           f\n",
        "1    1          b    3           g\n",
        "2    2          c    4           h\n",
        "3    3          d    5           i\n",
        "4    4          e    6           j\n",
        "\n",
        "[5 rows x 4 columns]"
       ]
      }
     ],
     "prompt_number": 41
    },
    {
     "cell_type": "heading",
     "level": 2,
     "metadata": {},
     "source": [
      "Group by"
     ]
    },
    {
     "cell_type": "markdown",
     "metadata": {},
     "source": [
      "The `groupby()` method lets you perform grouping operations. The example below shows a grouping operation performed with `blog` columns entries as keys. It is used to calculate the mean of the `entries` for each blog."
     ]
    },
    {
     "cell_type": "code",
     "collapsed": false,
     "input": [
      "blogs.groupby('blog').mean()"
     ],
     "language": "python",
     "metadata": {},
     "outputs": [
      {
       "html": [
        "<div style=\"max-height:1000px;max-width:1500px;overflow:auto;\">\n",
        "<table border=\"1\" class=\"dataframe\">\n",
        "  <thead>\n",
        "    <tr style=\"text-align: right;\">\n",
        "      <th></th>\n",
        "      <th>entries</th>\n",
        "    </tr>\n",
        "    <tr>\n",
        "      <th>blog</th>\n",
        "      <th></th>\n",
        "    </tr>\n",
        "  </thead>\n",
        "  <tbody>\n",
        "    <tr>\n",
        "      <th>1</th>\n",
        "      <td> 774</td>\n",
        "    </tr>\n",
        "    <tr>\n",
        "      <th>2</th>\n",
        "      <td> 813</td>\n",
        "    </tr>\n",
        "  </tbody>\n",
        "</table>\n",
        "<p>2 rows \u00d7 1 columns</p>\n",
        "</div>"
       ],
       "metadata": {},
       "output_type": "pyout",
       "prompt_number": 42,
       "text": [
        "      entries\n",
        "blog         \n",
        "1         774\n",
        "2         813\n",
        "\n",
        "[2 rows x 1 columns]"
       ]
      }
     ],
     "prompt_number": 42
    },
    {
     "cell_type": "markdown",
     "metadata": {},
     "source": [
      "And now for a more complex exmaple. From our `bikes_df` `DataFrame`, we want to know if people are more active on weekdays or on weekends. We are going to add a new column with the information about the `weekday`, and then sum all the values for each weekday. We do that by grouping by `weekday` and aggregating their values by simpe addition. In this case we use `np.sum()`, but any other operation, such as `np.max()` or `np.average()` can be used."
     ]
    },
    {
     "cell_type": "code",
     "collapsed": false,
     "input": [
      "bikes_df.index"
     ],
     "language": "python",
     "metadata": {},
     "outputs": [
      {
       "metadata": {},
       "output_type": "pyout",
       "prompt_number": 43,
       "text": [
        "<class 'pandas.tseries.index.DatetimeIndex'>\n",
        "[2012-01-01, ..., 2012-11-05]\n",
        "Length: 310, Freq: None, Timezone: None"
       ]
      }
     ],
     "prompt_number": 43
    },
    {
     "cell_type": "markdown",
     "metadata": {},
     "source": [
      "The data frame's index is of type `DateTimeIndex`, which allows us to extract information from the standard [`datetime`](https://docs.python.org/3/library/datetime.html) Python object."
     ]
    },
    {
     "cell_type": "code",
     "collapsed": false,
     "input": [
      "bikes_df.index.weekday"
     ],
     "language": "python",
     "metadata": {},
     "outputs": [
      {
       "metadata": {},
       "output_type": "pyout",
       "prompt_number": 44,
       "text": [
        "array([6, 0, 1, 2, 3, 4, 5, 6, 0, 1, 2, 3, 4, 5, 6, 0, 1, 2, 3, 4, 5, 6, 0,\n",
        "       1, 2, 3, 4, 5, 6, 0, 1, 2, 3, 4, 5, 6, 0, 1, 2, 3, 4, 5, 6, 0, 1, 2,\n",
        "       3, 4, 5, 6, 0, 1, 2, 3, 4, 5, 6, 0, 1, 2, 3, 4, 5, 6, 0, 1, 2, 3, 4,\n",
        "       5, 6, 0, 1, 2, 3, 4, 5, 6, 0, 1, 2, 3, 4, 5, 6, 0, 1, 2, 3, 4, 5, 6,\n",
        "       0, 1, 2, 3, 4, 5, 6, 0, 1, 2, 3, 4, 5, 6, 0, 1, 2, 3, 4, 5, 6, 0, 1,\n",
        "       2, 3, 4, 5, 6, 0, 1, 2, 3, 4, 5, 6, 0, 1, 2, 3, 4, 5, 6, 0, 1, 2, 3,\n",
        "       4, 5, 6, 0, 1, 2, 3, 4, 5, 6, 0, 1, 2, 3, 4, 5, 6, 0, 1, 2, 3, 4, 5,\n",
        "       6, 0, 1, 2, 3, 4, 5, 6, 0, 1, 2, 3, 4, 5, 6, 0, 1, 2, 3, 4, 5, 6, 0,\n",
        "       1, 2, 3, 4, 5, 6, 0, 1, 2, 3, 4, 5, 6, 0, 1, 2, 3, 4, 5, 6, 0, 1, 2,\n",
        "       3, 4, 5, 6, 0, 1, 2, 3, 4, 5, 6, 0, 1, 2, 3, 4, 5, 6, 0, 1, 2, 3, 4,\n",
        "       5, 6, 0, 1, 2, 3, 4, 5, 6, 0, 1, 2, 3, 4, 5, 6, 0, 1, 2, 3, 4, 5, 6,\n",
        "       0, 1, 2, 3, 4, 5, 6, 0, 1, 2, 3, 4, 5, 6, 0, 1, 2, 3, 4, 5, 6, 0, 1,\n",
        "       2, 3, 4, 5, 6, 0, 1, 2, 3, 4, 5, 6, 0, 1, 2, 3, 4, 5, 6, 0, 1, 2, 3,\n",
        "       4, 5, 6, 0, 1, 2, 3, 4, 5, 6, 0], dtype=int32)"
       ]
      }
     ],
     "prompt_number": 44
    },
    {
     "cell_type": "markdown",
     "metadata": {},
     "source": [
      "In order to create the new column we just need to pick a name and assign a `Series` value is it was a dictionary (remember that `DataFrame` and `Series` are labeled)."
     ]
    },
    {
     "cell_type": "code",
     "collapsed": false,
     "input": [
      "bikes_df['weekday'] = bikes_df.index.weekday\n",
      "bikes_df.head()"
     ],
     "language": "python",
     "metadata": {},
     "outputs": [
      {
       "html": [
        "<div style=\"max-height:1000px;max-width:1500px;overflow:auto;\">\n",
        "<table border=\"1\" class=\"dataframe\">\n",
        "  <thead>\n",
        "    <tr style=\"text-align: right;\">\n",
        "      <th></th>\n",
        "      <th>Berri 1</th>\n",
        "      <th>C\u00f4te-Sainte-Catherine</th>\n",
        "      <th>Maisonneuve 1</th>\n",
        "      <th>Maisonneuve 2</th>\n",
        "      <th>du Parc</th>\n",
        "      <th>Pierre-Dupuy</th>\n",
        "      <th>Rachel1</th>\n",
        "      <th>weekday</th>\n",
        "    </tr>\n",
        "    <tr>\n",
        "      <th>Date</th>\n",
        "      <th></th>\n",
        "      <th></th>\n",
        "      <th></th>\n",
        "      <th></th>\n",
        "      <th></th>\n",
        "      <th></th>\n",
        "      <th></th>\n",
        "      <th></th>\n",
        "    </tr>\n",
        "  </thead>\n",
        "  <tbody>\n",
        "    <tr>\n",
        "      <th>2012-01-01</th>\n",
        "      <td>  35</td>\n",
        "      <td> 0</td>\n",
        "      <td>  38</td>\n",
        "      <td>  51</td>\n",
        "      <td>  26</td>\n",
        "      <td> 10</td>\n",
        "      <td> 16</td>\n",
        "      <td> 6</td>\n",
        "    </tr>\n",
        "    <tr>\n",
        "      <th>2012-01-02</th>\n",
        "      <td>  83</td>\n",
        "      <td> 1</td>\n",
        "      <td>  68</td>\n",
        "      <td> 153</td>\n",
        "      <td>  53</td>\n",
        "      <td>  6</td>\n",
        "      <td> 43</td>\n",
        "      <td> 0</td>\n",
        "    </tr>\n",
        "    <tr>\n",
        "      <th>2012-01-03</th>\n",
        "      <td> 135</td>\n",
        "      <td> 2</td>\n",
        "      <td> 104</td>\n",
        "      <td> 248</td>\n",
        "      <td>  89</td>\n",
        "      <td>  3</td>\n",
        "      <td> 58</td>\n",
        "      <td> 1</td>\n",
        "    </tr>\n",
        "    <tr>\n",
        "      <th>2012-01-04</th>\n",
        "      <td> 144</td>\n",
        "      <td> 1</td>\n",
        "      <td> 116</td>\n",
        "      <td> 318</td>\n",
        "      <td> 111</td>\n",
        "      <td>  8</td>\n",
        "      <td> 61</td>\n",
        "      <td> 2</td>\n",
        "    </tr>\n",
        "    <tr>\n",
        "      <th>2012-01-05</th>\n",
        "      <td> 197</td>\n",
        "      <td> 2</td>\n",
        "      <td> 124</td>\n",
        "      <td> 330</td>\n",
        "      <td>  97</td>\n",
        "      <td> 13</td>\n",
        "      <td> 95</td>\n",
        "      <td> 3</td>\n",
        "    </tr>\n",
        "  </tbody>\n",
        "</table>\n",
        "<p>5 rows \u00d7 8 columns</p>\n",
        "</div>"
       ],
       "metadata": {},
       "output_type": "pyout",
       "prompt_number": 45,
       "text": [
        "            Berri 1  C\u00f4te-Sainte-Catherine  Maisonneuve 1  Maisonneuve 2  \\\n",
        "Date                                                                       \n",
        "2012-01-01       35                      0             38             51   \n",
        "2012-01-02       83                      1             68            153   \n",
        "2012-01-03      135                      2            104            248   \n",
        "2012-01-04      144                      1            116            318   \n",
        "2012-01-05      197                      2            124            330   \n",
        "\n",
        "            du Parc  Pierre-Dupuy  Rachel1  weekday  \n",
        "Date                                                 \n",
        "2012-01-01       26            10       16        6  \n",
        "2012-01-02       53             6       43        0  \n",
        "2012-01-03       89             3       58        1  \n",
        "2012-01-04      111             8       61        2  \n",
        "2012-01-05       97            13       95        3  \n",
        "\n",
        "[5 rows x 8 columns]"
       ]
      }
     ],
     "prompt_number": 45
    },
    {
     "cell_type": "code",
     "collapsed": false,
     "input": [
      "bikes_df.groupby('weekday')"
     ],
     "language": "python",
     "metadata": {},
     "outputs": [
      {
       "metadata": {},
       "output_type": "pyout",
       "prompt_number": 46,
       "text": [
        "<pandas.core.groupby.DataFrameGroupBy object at 0x7f403a9eed90>"
       ]
      }
     ],
     "prompt_number": 46
    },
    {
     "cell_type": "code",
     "collapsed": false,
     "input": [
      "counts_by_day = bikes_df.groupby('weekday').aggregate(np.sum)\n",
      "counts_by_day"
     ],
     "language": "python",
     "metadata": {},
     "outputs": [
      {
       "html": [
        "<div style=\"max-height:1000px;max-width:1500px;overflow:auto;\">\n",
        "<table border=\"1\" class=\"dataframe\">\n",
        "  <thead>\n",
        "    <tr style=\"text-align: right;\">\n",
        "      <th></th>\n",
        "      <th>Berri 1</th>\n",
        "      <th>C\u00f4te-Sainte-Catherine</th>\n",
        "      <th>Maisonneuve 1</th>\n",
        "      <th>Maisonneuve 2</th>\n",
        "      <th>du Parc</th>\n",
        "      <th>Pierre-Dupuy</th>\n",
        "      <th>Rachel1</th>\n",
        "    </tr>\n",
        "    <tr>\n",
        "      <th>weekday</th>\n",
        "      <th></th>\n",
        "      <th></th>\n",
        "      <th></th>\n",
        "      <th></th>\n",
        "      <th></th>\n",
        "      <th></th>\n",
        "      <th></th>\n",
        "    </tr>\n",
        "  </thead>\n",
        "  <tbody>\n",
        "    <tr>\n",
        "      <th>0</th>\n",
        "      <td> 134298</td>\n",
        "      <td> 60329</td>\n",
        "      <td>  90051</td>\n",
        "      <td> 163767</td>\n",
        "      <td>  90184</td>\n",
        "      <td> 46204</td>\n",
        "      <td> 130130</td>\n",
        "    </tr>\n",
        "    <tr>\n",
        "      <th>1</th>\n",
        "      <td> 135305</td>\n",
        "      <td> 58708</td>\n",
        "      <td>  92035</td>\n",
        "      <td> 165880</td>\n",
        "      <td>  91399</td>\n",
        "      <td> 35167</td>\n",
        "      <td> 120088</td>\n",
        "    </tr>\n",
        "    <tr>\n",
        "      <th>2</th>\n",
        "      <td> 152972</td>\n",
        "      <td> 67344</td>\n",
        "      <td> 104891</td>\n",
        "      <td> 186061</td>\n",
        "      <td> 102103</td>\n",
        "      <td> 43263</td>\n",
        "      <td> 133088</td>\n",
        "    </tr>\n",
        "    <tr>\n",
        "      <th>3</th>\n",
        "      <td> 160131</td>\n",
        "      <td> 69028</td>\n",
        "      <td> 111895</td>\n",
        "      <td> 196715</td>\n",
        "      <td> 105674</td>\n",
        "      <td> 45385</td>\n",
        "      <td> 140241</td>\n",
        "    </tr>\n",
        "    <tr>\n",
        "      <th>4</th>\n",
        "      <td> 141771</td>\n",
        "      <td> 56446</td>\n",
        "      <td>  98568</td>\n",
        "      <td> 172390</td>\n",
        "      <td>  89872</td>\n",
        "      <td> 42470</td>\n",
        "      <td> 137255</td>\n",
        "    </tr>\n",
        "    <tr>\n",
        "      <th>5</th>\n",
        "      <td> 101578</td>\n",
        "      <td> 34018</td>\n",
        "      <td>  62067</td>\n",
        "      <td> 105060</td>\n",
        "      <td>  48289</td>\n",
        "      <td> 52861</td>\n",
        "      <td> 112828</td>\n",
        "    </tr>\n",
        "    <tr>\n",
        "      <th>6</th>\n",
        "      <td>  99310</td>\n",
        "      <td> 36466</td>\n",
        "      <td>  55324</td>\n",
        "      <td>  98308</td>\n",
        "      <td>  50004</td>\n",
        "      <td> 61485</td>\n",
        "      <td> 117150</td>\n",
        "    </tr>\n",
        "  </tbody>\n",
        "</table>\n",
        "<p>7 rows \u00d7 7 columns</p>\n",
        "</div>"
       ],
       "metadata": {},
       "output_type": "pyout",
       "prompt_number": 47,
       "text": [
        "         Berri 1  C\u00f4te-Sainte-Catherine  Maisonneuve 1  Maisonneuve 2  \\\n",
        "weekday                                                                 \n",
        "0         134298                  60329          90051         163767   \n",
        "1         135305                  58708          92035         165880   \n",
        "2         152972                  67344         104891         186061   \n",
        "3         160131                  69028         111895         196715   \n",
        "4         141771                  56446          98568         172390   \n",
        "5         101578                  34018          62067         105060   \n",
        "6          99310                  36466          55324          98308   \n",
        "\n",
        "         du Parc  Pierre-Dupuy  Rachel1  \n",
        "weekday                                  \n",
        "0          90184         46204   130130  \n",
        "1          91399         35167   120088  \n",
        "2         102103         43263   133088  \n",
        "3         105674         45385   140241  \n",
        "4          89872         42470   137255  \n",
        "5          48289         52861   112828  \n",
        "6          50004         61485   117150  \n",
        "\n",
        "[7 rows x 7 columns]"
       ]
      }
     ],
     "prompt_number": 47
    },
    {
     "cell_type": "markdown",
     "metadata": {},
     "source": [
      "And finally a bit of `matplotlib + pandas` magic! But don't worry, you'll learn about plotting in the next class."
     ]
    },
    {
     "cell_type": "code",
     "collapsed": false,
     "input": [
      "import matplotlib\n",
      "# display graphs inline\n",
      "%matplotlib inline \n",
      "# Make the fonts bigger\n",
      "matplotlib.rc('figure', figsize=(14, 7))\n",
      "\n",
      "counts_by_day.plot()"
     ],
     "language": "python",
     "metadata": {},
     "outputs": [
      {
       "metadata": {},
       "output_type": "pyout",
       "prompt_number": 48,
       "text": [
        "<matplotlib.axes.AxesSubplot at 0x7f40389f9dd0>"
       ]
      },
      {
       "metadata": {},
       "output_type": "display_data",
       "png": "[encoded data removed]",
       "text": [
        "<matplotlib.figure.Figure at 0x7f403a0e6ed0>"
       ]
      }
     ],
     "prompt_number": 48
    },
    {
     "cell_type": "markdown",
     "metadata": {},
     "source": [
      "This is not, for sure, all we will see about grouping, but it's a good start if you are already understanding what's going on here."
     ]
    },
    {
     "cell_type": "heading",
     "level": 2,
     "metadata": {},
     "source": [
      "Art Bank collection"
     ]
    },
    {
     "cell_type": "markdown",
     "metadata": {},
     "source": [
      "The [Art Bank collection](http://data.gc.ca/data/en/dataset/bb905c07-36ba-4df7-ad46-2fd6e2c15b23) is a dataset provided by the [data.gc.ca](data.gc.ca), a key part of Canada\\u2019s Action Plan on Open Government to enhance transparency and accountability, that contains the art works in the Canada Council Art Bank collection. For 40 years, the Art Bank has been collecting work by the best Canadian artists of our times. The Art Bank is part of the Canada Council for the Arts, Canada's national arts funder. It's licenced under the terms of the [Open Government Licence - Canada](http://data.gc.ca/eng/open-government-licence-canada).\n",
      "\n",
      "And... it's in XML! XML, stands for eXtensible Markup Language, and if you want to see an example right now, just press `Ctrl.+u` and the browser will (likely) show you the HTML under this web page. Because yes, HTML is a subset of XML. So now you have an idea.\n",
      "\n",
      "XML is something that you should know about already. Very basically, XML defines a hierarchical structure in which concepts are enclosed in tags that might have properties.\n",
      "\n",
      "```xml\n",
      "<art_list>\n",
      "    <art_work title=\"Title of the artwork\" />\n",
      "</art_list>\n",
      "```\n",
      "\n",
      "In the last example, `art_list` is a tag, and `<art_list>...</art_list>` is how you enclose something in a tag. Sometimes tags might not have anything to enclose, as in `<art_work />`, so it's self-enclosed. Finally, properties are just like dictionaries.\n",
      "\n",
      "In Python, the fastest way to get all the concepts we need is usually by finding all the tags of a certain kind. The module `lxml.etree` is able to do that for us.\n",
      "\n",
      "First, let's see some lines of the dataset by using the special IPython command `!head`."
     ]
    },
    {
     "cell_type": "code",
     "collapsed": false,
     "input": [
      "!head data/art_listing.xml"
     ],
     "language": "python",
     "metadata": {},
     "outputs": [
      {
       "output_type": "stream",
       "stream": "stdout",
       "text": [
        "\ufeff<?xml version=\"1.0\" encoding=\"utf-8\"?>\r",
        "\r\n",
        "<Art_Listing>\r",
        "\r\n",
        "  <Art_Summary Artist_Name=\"Wright, Don\" Title=\"Turf-Arm\" Execution_Date=\"1984\" E_Category=\"Work on paper\" F_Category=\"Oeuvre sur papier\" ID=\"85/6-0174\" />\r",
        "\r\n",
        "  <Art_Summary Artist_Name=\"Hansen, Jim\" Title=\"Nfld. album no. 99\" Execution_Date=\"\u00a91977, CARCC\" E_Category=\"Work on paper\" F_Category=\"Oeuvre sur papier\" ID=\"79/80-0510\" />\r",
        "\r\n",
        "  <Art_Summary Artist_Name=\"Creates, Marlene\" Title=\"A Stone Placed in Gathered Water, Newfoundland\" Execution_Date=\"\u00a91982, CARCC\" E_Category=\"Photograph\" F_Category=\"Photographie\" ID=\"92/3-0221\" />\r",
        "\r\n",
        "  <Art_Summary Artist_Name=\"Walker, Peter\" Title=\"1.25.79\" Execution_Date=\"\u00a91979, CARCC\" E_Category=\"Work on paper\" F_Category=\"Oeuvre sur papier\" ID=\"79/80-0529\" />\r",
        "\r\n",
        "  <Art_Summary Artist_Name=\"Bretzloff, Carol\" Title=\"Under Heaven, Wind\" Execution_Date=\"1983\" E_Category=\"Work on paper\" F_Category=\"Oeuvre sur papier\" ID=\"13/4-0007\" />\r",
        "\r\n",
        "  <Art_Summary Artist_Name=\"Knight, Katherine\" Title=\"Bubble\" Execution_Date=\"2000\" E_Category=\"Photograph\" F_Category=\"Photographie\" ID=\"01/2-0083\" />\r",
        "\r\n",
        "  <Art_Summary Artist_Name=\"Pitseolak, Okpik\" Title=\"The one who became a Norwhal\" Execution_Date=\"2002\" E_Category=\"Work on paper\" F_Category=\"Oeuvre sur papier\" ID=\"03/4-0007\" />\r",
        "\r\n",
        "  <Art_Summary Artist_Name=\"Tang, Brendan Lee\" Title=\"Manga Ormolu ver. 4.0-g\" Execution_Date=\"2008\" E_Category=\"Sculpture\" F_Category=\"Sculpture\" ID=\"10/1-0067\" />\r",
        "\r\n"
       ]
      }
     ],
     "prompt_number": 49
    },
    {
     "cell_type": "markdown",
     "metadata": {},
     "source": [
      "From here, it's pretty obvious that what we want the `Art_Summary` elements and their properties.\n",
      "\n",
      "The function `etree.parse()` opens a file, parses it into a Python data structure and returns it as an object."
     ]
    },
    {
     "cell_type": "code",
     "collapsed": false,
     "input": [
      "from lxml import etree\n",
      "arts = etree.parse(\"data/art_listing.xml\")"
     ],
     "language": "python",
     "metadata": {},
     "outputs": [],
     "prompt_number": 50
    },
    {
     "cell_type": "markdown",
     "metadata": {},
     "source": [
      "To find all `Art_Summary` elements, we can call the method `.findall()`."
     ]
    },
    {
     "cell_type": "code",
     "collapsed": false,
     "input": [
      "summaries = arts.findall(\"Art_Summary\")\n",
      "summaries[:5]"
     ],
     "language": "python",
     "metadata": {},
     "outputs": [
      {
       "metadata": {},
       "output_type": "pyout",
       "prompt_number": 51,
       "text": [
        "[<Element Art_Summary at 0x7f4038a22200>,\n",
        " <Element Art_Summary at 0x7f40386ab3b0>,\n",
        " <Element Art_Summary at 0x7f403874f368>,\n",
        " <Element Art_Summary at 0x7f403870da70>,\n",
        " <Element Art_Summary at 0x7f403a9e9e60>]"
       ]
      }
     ],
     "prompt_number": 51
    },
    {
     "cell_type": "markdown",
     "metadata": {},
     "source": [
      "Each of those elements in the list behaves like a dictionary."
     ]
    },
    {
     "cell_type": "code",
     "collapsed": false,
     "input": [
      "summaries[0].keys()"
     ],
     "language": "python",
     "metadata": {},
     "outputs": [
      {
       "metadata": {},
       "output_type": "pyout",
       "prompt_number": 52,
       "text": [
        "['Artist_Name', 'Title', 'Execution_Date', 'E_Category', 'F_Category', 'ID']"
       ]
      }
     ],
     "prompt_number": 52
    },
    {
     "cell_type": "code",
     "collapsed": false,
     "input": [
      "summaries[0].values()"
     ],
     "language": "python",
     "metadata": {},
     "outputs": [
      {
       "metadata": {},
       "output_type": "pyout",
       "prompt_number": 53,
       "text": [
        "['Wright, Don',\n",
        " 'Turf-Arm',\n",
        " '1984',\n",
        " 'Work on paper',\n",
        " 'Oeuvre sur papier',\n",
        " '85/6-0174']"
       ]
      }
     ],
     "prompt_number": 53
    },
    {
     "cell_type": "markdown",
     "metadata": {},
     "source": [
      "Now we are ready to build a data frame from the `summaries` list."
     ]
    },
    {
     "cell_type": "code",
     "collapsed": false,
     "input": [
      "art_list = []\n",
      "for summary in summaries:\n",
      "    art_list.append(summary.values())\n",
      "arts = pd.DataFrame(\n",
      "    art_list,\n",
      "    columns=['artist_name', 'title', 'execution_date', 'category', 'category_french', 'id']\n",
      ")"
     ],
     "language": "python",
     "metadata": {},
     "outputs": [],
     "prompt_number": 54
    },
    {
     "cell_type": "markdown",
     "metadata": {},
     "source": [
      "Let's remove the category in French."
     ]
    },
    {
     "cell_type": "code",
     "collapsed": false,
     "input": [
      "del arts['category_french']"
     ],
     "language": "python",
     "metadata": {},
     "outputs": [],
     "prompt_number": 55
    },
    {
     "cell_type": "code",
     "collapsed": false,
     "input": [
      "arts.head()"
     ],
     "language": "python",
     "metadata": {},
     "outputs": [
      {
       "html": [
        "<div style=\"max-height:1000px;max-width:1500px;overflow:auto;\">\n",
        "<table border=\"1\" class=\"dataframe\">\n",
        "  <thead>\n",
        "    <tr style=\"text-align: right;\">\n",
        "      <th></th>\n",
        "      <th>artist_name</th>\n",
        "      <th>title</th>\n",
        "      <th>execution_date</th>\n",
        "      <th>category</th>\n",
        "      <th>id</th>\n",
        "    </tr>\n",
        "  </thead>\n",
        "  <tbody>\n",
        "    <tr>\n",
        "      <th>0</th>\n",
        "      <td>      Wright, Don</td>\n",
        "      <td>                                       Turf-Arm</td>\n",
        "      <td>         1984</td>\n",
        "      <td> Work on paper</td>\n",
        "      <td>  85/6-0174</td>\n",
        "    </tr>\n",
        "    <tr>\n",
        "      <th>1</th>\n",
        "      <td>      Hansen, Jim</td>\n",
        "      <td>                             Nfld. album no. 99</td>\n",
        "      <td> \u00a91977, CARCC</td>\n",
        "      <td> Work on paper</td>\n",
        "      <td> 79/80-0510</td>\n",
        "    </tr>\n",
        "    <tr>\n",
        "      <th>2</th>\n",
        "      <td> Creates, Marlene</td>\n",
        "      <td> A Stone Placed in Gathered Water, Newfoundland</td>\n",
        "      <td> \u00a91982, CARCC</td>\n",
        "      <td>    Photograph</td>\n",
        "      <td>  92/3-0221</td>\n",
        "    </tr>\n",
        "    <tr>\n",
        "      <th>3</th>\n",
        "      <td>    Walker, Peter</td>\n",
        "      <td>                                        1.25.79</td>\n",
        "      <td> \u00a91979, CARCC</td>\n",
        "      <td> Work on paper</td>\n",
        "      <td> 79/80-0529</td>\n",
        "    </tr>\n",
        "    <tr>\n",
        "      <th>4</th>\n",
        "      <td> Bretzloff, Carol</td>\n",
        "      <td>                             Under Heaven, Wind</td>\n",
        "      <td>         1983</td>\n",
        "      <td> Work on paper</td>\n",
        "      <td>  13/4-0007</td>\n",
        "    </tr>\n",
        "  </tbody>\n",
        "</table>\n",
        "<p>5 rows \u00d7 5 columns</p>\n",
        "</div>"
       ],
       "metadata": {},
       "output_type": "pyout",
       "prompt_number": 56,
       "text": [
        "        artist_name                                           title  \\\n",
        "0       Wright, Don                                        Turf-Arm   \n",
        "1       Hansen, Jim                              Nfld. album no. 99   \n",
        "2  Creates, Marlene  A Stone Placed in Gathered Water, Newfoundland   \n",
        "3     Walker, Peter                                         1.25.79   \n",
        "4  Bretzloff, Carol                              Under Heaven, Wind   \n",
        "\n",
        "  execution_date       category          id  \n",
        "0           1984  Work on paper   85/6-0174  \n",
        "1   \u00a91977, CARCC  Work on paper  79/80-0510  \n",
        "2   \u00a91982, CARCC     Photograph   92/3-0221  \n",
        "3   \u00a91979, CARCC  Work on paper  79/80-0529  \n",
        "4           1983  Work on paper   13/4-0007  \n",
        "\n",
        "[5 rows x 5 columns]"
       ]
      }
     ],
     "prompt_number": 56
    },
    {
     "cell_type": "markdown",
     "metadata": {},
     "source": [
      "Voil\u00e0! Ready for the fun."
     ]
    },
    {
     "cell_type": "markdown",
     "metadata": {},
     "source": [
      "<div style=\"font-size: 1em; margin: 1em 0 1em 0; border: 1px solid #86989B; background-color: #f7f7f7; padding: 0;\">\n",
      "<p style=\"margin: 0; padding: 0.1em 0 0.1em 0.5em; color: white; border-bottom: 1px solid #86989B; font-weight: bold; background-color: #AFC1C4;\">\n",
      "Activity\n",
      "</p>\n",
      "<p style=\"margin: 0.5em 1em 0.5em 1em; padding: 0;\">\n",
      "Given the `arts` data frame, try to do the next:\n",
      "</p>\n",
      "<ol><li>\n",
      "Clean the dates so you only see numbers.\n",
      "</li><li>\n",
      "Get the average execution year per artist.\n",
      "</li><li>\n",
      "Get the average execution year per category.\n",
      "</li><li>\n",
      "Get the number of artworks per artist. Which artist is the most prolific?\n",
      "</li><li>\n",
      "Get the number of artworks per category. Which category has the highest number?\n",
      "</li><li>\n",
      "Get the average length of artworks titles per category and artist.\n",
      "</li><li>\n",
      "Get the year with the highest production.\n",
      "</li><li>\n",
      "Get the approximate period of production for each artist.\n",
      "</li><li>\n",
      "Is there any correlation between the periods of production and the number of artworks per artist?\n",
      "</li></ol>\n",
      "</div>"
     ]
    },
    {
     "cell_type": "heading",
     "level": 2,
     "metadata": {},
     "source": [
      "For the [next class](class7.ipynb)"
     ]
    },
    {
     "cell_type": "markdown",
     "metadata": {},
     "source": [
      "* Read [The Split-Apply-Combine Strategy for Data Analysis](http://www.jstatsoft.org/v40/i01/paper)\n",
      "* Read Section [String Manipulation, 205-212, from Python for Data Analysis](http://shop.oreilly.com/product/0636920023784.do).\n",
      "* Read Section [Pivot Tables and Cross-Tabulation, 275-278, from Python for Data Analysis](http://shop.oreilly.com/product/0636920023784.do).\n",
      "* Read Section [1.4. Matplotlib: plotting, from Scipy lecture notes](http://scipy-lectures.github.io/intro/matplotlib/matplotlib.html)\n",
      "* Read [Plotting and Visualization Notebook](Plotting and Visualization)"
     ]
    }
   ],
   "metadata": {}
  }
 ]
}