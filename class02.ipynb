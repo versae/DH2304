{
 "metadata": {
  "name": "",
  "signature": "sha256:aa3a364068cf7fbf5be3163d8004fa4e4554f17afaff1dba4f1ba2c606902427"
 },
 "nbformat": 3,
 "nbformat_minor": 0,
 "worksheets": [
  {
   "cells": [
    {
     "cell_type": "markdown",
     "metadata": {},
     "source": [
      "<div align=\"center\">\n",
      "<h1>[Data, the Humanist's New Best Friend](index.ipynb)<br/>*Class 02*</h1>\n",
      "</div>"
     ]
    },
    {
     "cell_type": "markdown",
     "metadata": {},
     "source": [
      "In this class you are expected to learn:\n",
      "\n",
      "1. Python syntax\n",
      "2. Variables and values\n",
      "3. Statements and expressions\n",
      "4. Creating and using functions"
     ]
    },
    {
     "cell_type": "heading",
     "level": 2,
     "metadata": {},
     "source": [
      "The Magic of the Tab (the character, not the drink!)"
     ]
    },
    {
     "cell_type": "markdown",
     "metadata": {},
     "source": [
      "<div align=\"center\">\n",
      "<img src=\"files/images/tab.jpg\" width=\"350\">\n",
      "<br>\n",
      "*Not this tab we are talkin'bout*\n",
      "</div>"
     ]
    },
    {
     "cell_type": "markdown",
     "metadata": {},
     "source": [
      "One of the first things you need to know, is that Python is a *indented* language. Unlike other languages like C or Java, Python uses visual indentation to group statements in a block. And the most usual length for that indentation is **4 spaces**.\n",
      "\n",
      "Let's see an example of an if/else statement in a couple of popular programming languages.\n",
      "\n",
      "```javascript\n",
      "if(!value){console.log(\"No value\");}else{console.log(value);}\n",
      "```\n",
      "\n",
      "The code below is Javascript, but Javascript does not impose rules on indentation. Instead, blocks of statements need to be enclosed by curly braces, `{` and `}`. Therefore, the same code can be written in many different ways.\n",
      "\n",
      "```javascript\n",
      "if(!value) {\n",
      "console.log(\"No value\");\n",
      "} else {\n",
      "console.log(value);\n",
      "}\n",
      "```\n",
      "\n",
      "Or even\n",
      "\n",
      "```javascript\n",
      "if (!value)\n",
      "{\n",
      "    console.log(\"No value\");\n",
      "}\n",
      "else\n",
      "{\n",
      "    console.log(value);\n",
      "}\n",
      "```\n",
      "\n",
      "However, the (almost) **only** way to write the same *logic* in Python is like this:\n",
      "\n",
      "```python\n",
      "if value is None:\n",
      "    print \"No value\"\n",
      "else:\n",
      "    print value\n",
      "```\n",
      "\n",
      "And that is one of the principles of Python\n",
      "\n",
      "> There should be one-- and preferably only one --obvious way to do it.\n",
      "\n",
      "At the beginning, the use of the indented syntax can be seen as a burden, but eventually you will learn to love it and start to wonder why the rest of languages look so awful."
     ]
    },
    {
     "cell_type": "code",
     "collapsed": false,
     "input": [
      "import this"
     ],
     "language": "python",
     "metadata": {},
     "outputs": [
      {
       "output_type": "stream",
       "stream": "stdout",
       "text": [
        "The Zen of Python, by Tim Peters\n",
        "\n",
        "Beautiful is better than ugly.\n",
        "Explicit is better than implicit.\n",
        "Simple is better than complex.\n",
        "Complex is better than complicated.\n",
        "Flat is better than nested.\n",
        "Sparse is better than dense.\n",
        "Readability counts.\n",
        "Special cases aren't special enough to break the rules.\n",
        "Although practicality beats purity.\n",
        "Errors should never pass silently.\n",
        "Unless explicitly silenced.\n",
        "In the face of ambiguity, refuse the temptation to guess.\n",
        "There should be one-- and preferably only one --obvious way to do it.\n",
        "Although that way may not be obvious at first unless you're Dutch.\n",
        "Now is better than never.\n",
        "Although never is often better than *right* now.\n",
        "If the implementation is hard to explain, it's a bad idea.\n",
        "If the implementation is easy to explain, it may be a good idea.\n",
        "Namespaces are one honking great idea -- let's do more of those!\n"
       ]
      }
     ],
     "prompt_number": 2
    },
    {
     "cell_type": "heading",
     "level": 2,
     "metadata": {},
     "source": [
      "Source code"
     ]
    },
    {
     "cell_type": "markdown",
     "metadata": {},
     "source": [
      "A program is basically a set of instructions to produce an output from an input. We write programs in programming languages, like Python. And the code of those programs is usually called source code.\n",
      "\n",
      "Python code is usually stored in text files with the file ending `.py`:\n",
      "\n",
      "    myprogram.py\n",
      "\n",
      "Every line in a Python program file is assumed to be a Python statement, or part thereof.\n",
      "\n",
      "The only exception is comment lines, which start with the character `#` (optionally preceded by an arbitrary number of white-space characters, i.e., tabs or spaces). Comment lines are usually ignored by the Python interpreter.\n",
      "\n",
      "To run our Python program from the command line we use:\n",
      "\n",
      "    $ python myprogram.py\n",
      "\n",
      "Inside **IPython**, as we are right now, we use:\n",
      "\n",
      "    %run myprogram.py"
     ]
    },
    {
     "cell_type": "markdown",
     "metadata": {},
     "source": [
      "<div style=\"font-size: 1em; margin: 1em 0 1em 0; border: 1px solid #86989B; background-color: #f7f7f7; padding: 0;\">\n",
      "<p style=\"margin: 0; padding: 0.1em 0 0.1em 0.5em; color: white; border-bottom: 1px solid #86989B; font-weight: bold; background-color: #AFC1C4;\">\n",
      "Activity\n",
      "</p>\n",
      "<p style=\"margin: 0.5em 1em 0.5em 1em; padding: 0;\">\n",
      "Write a Python program that prints a message to the console.\n",
      "</p>\n",
      "</div>"
     ]
    },
    {
     "cell_type": "code",
     "collapsed": false,
     "input": [
      "# Write your code here and hit Shift+Enter"
     ],
     "language": "python",
     "metadata": {},
     "outputs": []
    },
    {
     "cell_type": "heading",
     "level": 2,
     "metadata": {},
     "source": [
      "Values"
     ]
    },
    {
     "cell_type": "markdown",
     "metadata": {},
     "source": [
      "Values are things that a program manipulates. There are different types of values:\n",
      "\n",
      "  - Strings, `str`: `\"abcdef\"`\n",
      "  - Integers, `int`: `7`, `42`, `97`\n",
      "  - Floating-point numbers, `float`: `3.792`, `0.00005`, `1.6e+9`\n",
      "  - Boolean, `bool`: `True`, `False`\n",
      "  - Nothing, `NoneType`: `None`\n",
      "\n",
      "To a computer, the integer 1 is not necessarily the same thing as the floating point number 1.0... because they have different types. Many of the errors you will make in programming result from mixing types inappropriately.\n",
      "Some languages (e.g., C, Fortran, Java) are very militant about types. You have to be totally explicit about them.\n",
      "Python is a little more relaxed. You can be explicit, but you don\u2019t have to be. Python will guess if you don\u2019t tell it. And you can ask Python to tell you its guess for the type of a value.\n",
      "\n",
      "```python\n",
      ">>> type(12)\n",
      "<type 'int'>\n",
      ">>> type('Witty remark')\n",
      "<type 'str'>\n",
      ">>> type(3.75)\n",
      "<type 'float'>\n",
      "```\n",
      "\n",
      "<div style=\"font-size: 1em; margin: 1em 0 1em 0; border: 1px solid #86989B; background-color: #f7f7f7; padding: 0;\">\n",
      "<p style=\"margin: 0; padding: 0.1em 0 0.1em 0.5em; color: white; border-bottom: 1px solid #86989B; font-weight: bold; background-color: #AFC1C4;\">\n",
      "Activity\n",
      "</p>\n",
      "<p style=\"margin: 0.5em 1em 0.5em 1em; padding: 0;\">\n",
      "\n",
      "Try to guess the result of these *cells* before running them.\n",
      "\n",
      "</p>\n",
      "</div>\n",
      "\n"
     ]
    },
    {
     "cell_type": "code",
     "collapsed": false,
     "input": [
      "type(50.8)"
     ],
     "language": "python",
     "metadata": {},
     "outputs": []
    },
    {
     "cell_type": "code",
     "collapsed": false,
     "input": [
      "type('Cool story, bro!')"
     ],
     "language": "python",
     "metadata": {},
     "outputs": []
    },
    {
     "cell_type": "code",
     "collapsed": false,
     "input": [
      "type(10 / 1.5)"
     ],
     "language": "python",
     "metadata": {},
     "outputs": []
    },
    {
     "cell_type": "markdown",
     "metadata": {},
     "source": [
      "It is also possible to convert between types, although some times this can produced unexpected outcomes. That's called [type conversion](https://en.wikipedia.org/wiki/Type_conversion) or type casting."
     ]
    },
    {
     "cell_type": "code",
     "collapsed": false,
     "input": [
      "str(\"45\")"
     ],
     "language": "python",
     "metadata": {},
     "outputs": [
      {
       "metadata": {},
       "output_type": "pyout",
       "prompt_number": 1,
       "text": [
        "'45'"
       ]
      }
     ],
     "prompt_number": 1
    },
    {
     "cell_type": "code",
     "collapsed": false,
     "input": [
      "int(\"45\")"
     ],
     "language": "python",
     "metadata": {},
     "outputs": [
      {
       "metadata": {},
       "output_type": "pyout",
       "prompt_number": 2,
       "text": [
        "45"
       ]
      }
     ],
     "prompt_number": 2
    },
    {
     "cell_type": "code",
     "collapsed": false,
     "input": [
      "bool(0)"
     ],
     "language": "python",
     "metadata": {},
     "outputs": [
      {
       "metadata": {},
       "output_type": "pyout",
       "prompt_number": 3,
       "text": [
        "False"
       ]
      }
     ],
     "prompt_number": 3
    },
    {
     "cell_type": "code",
     "collapsed": false,
     "input": [
      "float(\"1.98\")"
     ],
     "language": "python",
     "metadata": {},
     "outputs": [
      {
       "metadata": {},
       "output_type": "pyout",
       "prompt_number": 4,
       "text": [
        "1.98"
       ]
      }
     ],
     "prompt_number": 4
    },
    {
     "cell_type": "heading",
     "level": 2,
     "metadata": {},
     "source": [
      "Variables"
     ]
    },
    {
     "cell_type": "markdown",
     "metadata": {},
     "source": [
      "Variables are one the most importants concepts in programming.\n",
      "\n",
      "**Variables let you store values in a labelled location.**"
     ]
    },
    {
     "cell_type": "code",
     "collapsed": false,
     "input": [
      "a = 5\n",
      "b = 1\n",
      "c = a + b\n",
      "c"
     ],
     "language": "python",
     "metadata": {},
     "outputs": [
      {
       "metadata": {},
       "output_type": "pyout",
       "prompt_number": 9,
       "text": [
        "6"
       ]
      }
     ],
     "prompt_number": 9
    },
    {
     "cell_type": "markdown",
     "metadata": {},
     "source": [
      "As stated by the [Python library reference](http://docs.python.org/reference/simple_stmts.html#assignment-statements), assignment statements, using the symbol `=` are used to bind and rebind names to values.\n",
      "\n",
      "In short, it works as follows:\n",
      "\n",
      "  - An expression on the right hand side is evaluated, the corresponding object is created/obtained.\n",
      "  - A name on the left hand side is assigned, or bound, to the right hand side value (or object).\n",
      "\n",
      "Something to notice here is that a single object can have several names bound to it."
     ]
    },
    {
     "cell_type": "code",
     "collapsed": false,
     "input": [
      "a = 23\n",
      "b = a\n",
      "a"
     ],
     "language": "python",
     "metadata": {},
     "outputs": [
      {
       "metadata": {},
       "output_type": "pyout",
       "prompt_number": 5,
       "text": [
        "23"
       ]
      }
     ],
     "prompt_number": 5
    },
    {
     "cell_type": "code",
     "collapsed": false,
     "input": [
      "b"
     ],
     "language": "python",
     "metadata": {},
     "outputs": [
      {
       "metadata": {},
       "output_type": "pyout",
       "prompt_number": 6,
       "text": [
        "23"
       ]
      }
     ],
     "prompt_number": 6
    },
    {
     "cell_type": "code",
     "collapsed": false,
     "input": [
      "a is b"
     ],
     "language": "python",
     "metadata": {},
     "outputs": [
      {
       "metadata": {},
       "output_type": "pyout",
       "prompt_number": 7,
       "text": [
        "True"
       ]
      }
     ],
     "prompt_number": 7
    },
    {
     "cell_type": "markdown",
     "metadata": {},
     "source": [
      "The key concept here is **mutable vs. immutable**\n",
      "\n",
      "  - Mutable objects can be changed in place\n",
      "  - Immutable objects cannot be modified once created"
     ]
    },
    {
     "cell_type": "markdown",
     "metadata": {},
     "source": [
      "Try this next:"
     ]
    },
    {
     "cell_type": "code",
     "collapsed": false,
     "input": [
      "65 = m"
     ],
     "language": "python",
     "metadata": {},
     "outputs": []
    },
    {
     "cell_type": "heading",
     "level": 2,
     "metadata": {},
     "source": [
      "Variable names and keywords"
     ]
    },
    {
     "cell_type": "markdown",
     "metadata": {},
     "source": [
      "Generally, you want to choose names for your variables that are meaningful \u2014 they document **what the variable is used for** or **what kind of value they store**.\n",
      "\n",
      "You can use whatever name you want, within a few restrictions set by the language. Python wants variable names that **contain any combination of (English) letters and numbers** (and the character underscore, \"`_`\"), but **begin with a letter**. "
     ]
    },
    {
     "cell_type": "code",
     "collapsed": false,
     "input": [
      "my2ndvariable = \"lol\""
     ],
     "language": "python",
     "metadata": {},
     "outputs": [],
     "prompt_number": 13
    },
    {
     "cell_type": "code",
     "collapsed": false,
     "input": [
      "$invalidvar = 2"
     ],
     "language": "python",
     "metadata": {},
     "outputs": []
    },
    {
     "cell_type": "code",
     "collapsed": false,
     "input": [
      "class = \"DH 2121G\""
     ],
     "language": "python",
     "metadata": {},
     "outputs": []
    },
    {
     "cell_type": "markdown",
     "metadata": {},
     "source": [
      "In the last example, however, the variable `class` meet the requirements.\n",
      "\n",
      "The problem is that Python has a small set of keywords that cannot be **overwritten**.\n",
      "\n",
      "| | | | | | |\n",
      "|- | - | - | - | - | - |\n",
      "| `and` | `as` | `assert` | `break` | `class` | `continue` |\n",
      "| `def` | `del` | `elif` | `else` | `except` | `exec` |\n",
      "| `finally` | `for` | `from` | `global` | `if` | `import` |\n",
      "| `in` | `is` | `lambda` | `not` | `or` | `pass` |\n",
      "| `print` | `raise` | `return` | `try` | `while` | `with` |\n",
      "| `yield`\n",
      "> *Keywords in Python*\n",
      "\n",
      "Usually, if you need to use more than one word in a variable name, you use underscores to separate them. This improves the readability of your code."
     ]
    },
    {
     "cell_type": "code",
     "collapsed": false,
     "input": [
      "a_really_long_var_name = 9.99e+99"
     ],
     "language": "python",
     "metadata": {},
     "outputs": [],
     "prompt_number": 15
    },
    {
     "cell_type": "markdown",
     "metadata": {},
     "source": [
      "This way of naming variables is know as **snake_case**, for the resemblance with a snake (I know, you have to use your imagination), and it's used for variable names, and functions and methods.\n",
      "\n",
      "Nevertheless, Python also uses another naming scheme called **CamelCase** when defining classes.\n",
      "\n",
      "If you ever forget the difference between snake_case and CamelCase, use this mnemonic image."
     ]
    },
    {
     "cell_type": "markdown",
     "metadata": {},
     "source": [
      "<div align=\"center\">\n",
      "<img src=\"files/images/CamelCase.png\" width=\"350\">\n",
      "<br>\n",
      "*Remember the two humped CamelCase*\n",
      "</div>\n"
     ]
    },
    {
     "cell_type": "heading",
     "level": 2,
     "metadata": {},
     "source": [
      "Statements and expressions"
     ]
    },
    {
     "cell_type": "markdown",
     "metadata": {},
     "source": [
      "A **statement** is an order or instruction to Python to *do something*. Whatever the Python interpreter can execute is a statement. We have seen two kinds of statements: print and assignment.\n",
      "\n",
      "When you type a statement on the command line, or in a IPython cell, Python executes it and displays the result, if there is one. The result of a print statement is a value. Assignment statements don\u2019t produce a result.\n",
      "\n",
      "A script usually contains a sequence of statements. If there is more than one statement, the results appear one at a time as the statements execute.\n",
      "\n",
      "For example, the script\n",
      "```python\n",
      "print (1)\n",
      "x = 2\n",
      "print (x)\n",
      "```\n",
      "produces the output:\n",
      "```\n",
      "1\n",
      "2\n",
      "```\n",
      "Again, the assignment statement produces no output.\n",
      "\n",
      "Let's try it."
     ]
    },
    {
     "cell_type": "code",
     "collapsed": false,
     "input": [
      "print(\"many smart\")\n",
      "doge = 10\n",
      "print(doge)"
     ],
     "language": "python",
     "metadata": {},
     "outputs": []
    },
    {
     "cell_type": "markdown",
     "metadata": {},
     "source": [
      "An **expression** is, roughly, a combination of variables and values that can be crunched down to a value."
     ]
    },
    {
     "cell_type": "code",
     "collapsed": false,
     "input": [
      "doge / 5 + 10"
     ],
     "language": "python",
     "metadata": {},
     "outputs": []
    },
    {
     "cell_type": "markdown",
     "metadata": {},
     "source": [
      "And to make things better, evaluating an expression is not quite the same thing as printing a value."
     ]
    },
    {
     "cell_type": "code",
     "collapsed": false,
     "input": [
      "message = \"What's up, Doc?\"\n",
      "message"
     ],
     "language": "python",
     "metadata": {},
     "outputs": [
      {
       "metadata": {},
       "output_type": "pyout",
       "prompt_number": 6,
       "text": [
        "\"What's up, Doc?\""
       ]
      }
     ],
     "prompt_number": 6
    },
    {
     "cell_type": "code",
     "collapsed": false,
     "input": [
      "print(message)"
     ],
     "language": "python",
     "metadata": {},
     "outputs": [
      {
       "output_type": "stream",
       "stream": "stdout",
       "text": [
        "What's up, Doc?\n"
       ]
      }
     ],
     "prompt_number": 8
    },
    {
     "cell_type": "markdown",
     "metadata": {},
     "source": [
      "<div style=\"font-size: 1em; margin: 1em 0 1em 0; border: 1px solid #86989B; background-color: #f7f7f7; padding: 0;\">\n",
      "<p style=\"margin: 0; padding: 0.1em 0 0.1em 0.5em; color: white; border-bottom: 1px solid #86989B; font-weight: bold; background-color: #AFC1C4;\">\n",
      "Activity\n",
      "</p>\n",
      "<p style=\"margin: 0.5em 1em 0.5em 1em; padding: 0;\">\n",
      "\n",
      "Given the next code:\n",
      "\n",
      "```\n",
      "a = 10\n",
      "b = 50\n",
      "c = b + a\n",
      "```\n",
      "<br>\n",
      "How would you change it to display the final value?\n",
      "\n",
      "</p>\n",
      "</div>"
     ]
    },
    {
     "cell_type": "code",
     "collapsed": false,
     "input": [
      "# Write your code here"
     ],
     "language": "python",
     "metadata": {},
     "outputs": []
    },
    {
     "cell_type": "heading",
     "level": 2,
     "metadata": {},
     "source": [
      "Operators"
     ]
    },
    {
     "cell_type": "markdown",
     "metadata": {},
     "source": [
      "**Operators** are symbols (e.g., `+`, `-`, `*`, `/`, `and`, `or`, `**`) that tell Python to perform computations on expressions.\n",
      "\n",
      "Those computations or operations can be performed on any kind of value, although not all values support all operators. Sometimes this can be confusing.\n"
     ]
    },
    {
     "cell_type": "markdown",
     "metadata": {},
     "source": [
      "The following are all legal Python expressions whose meaning is more or less clear:"
     ]
    },
    {
     "cell_type": "raw",
     "metadata": {},
     "source": [
      "20+32   hour-1   hour*60+minute   minute/60   5**2   (5+9)*(15-7)"
     ]
    },
    {
     "cell_type": "markdown",
     "metadata": {},
     "source": [
      "When more than one operator appears in an expression, the order of evaluation depends on the **rules of precedence**. Python follows the same precedence rules for its mathematical operators that mathematics does. The acronym **PEMDAS**, although not the nicest, is a useful way to remember the order of operations:\n",
      "\n",
      "- **P**arentheses have the highest precedence.\n",
      "- **E**xponentiation has the next highest precedence.\n",
      "- **M**ultiplication and **D**ivision have the same precedence\n",
      "- **A**ddition and **S**ubtraction, which also have the same precedence, have the lowest precedence.\n",
      "\n",
      "Operators with the same precedence are evaluated from left to right.\n",
      "\n",
      "So in the expression `minute*100/60`, `minute` having the value `59`, the multiplication happens first, yielding `5900/60`, which in turn yields `98`. If the operations had been evaluated from right to left, the result would have been `59*1`, which is `59`, which is wrong."
     ]
    },
    {
     "cell_type": "markdown",
     "metadata": {},
     "source": [
      "<div style=\"font-size: 1em; margin: 1em 0 1em 0; border: 1px solid #86989B; background-color: #f7f7f7; padding: 0;\">\n",
      "<p style=\"margin: 0; padding: 0.1em 0 0.1em 0.5em; color: white; border-bottom: 1px solid #86989B; font-weight: bold; background-color: #AFC1C4;\">\n",
      "Activity\n",
      "</p>\n",
      "<p style=\"margin: 0.5em 1em 0.5em 1em; padding: 0;\">\n",
      "Experiment with the operators you know on strings (instead of just integers). Which ones work? What do they do? Try mixing strings and integers with various operators. What happens there?\n",
      "<br/>\n",
      "*Remember to put `# -- coding: utf-8 --` at the top if you use non-ASCII characters and get an encoding error.*\n",
      "</p>\n",
      "</div>"
     ]
    },
    {
     "cell_type": "code",
     "collapsed": false,
     "input": [
      "# For example\n",
      "\"lol\" * 40"
     ],
     "language": "python",
     "metadata": {},
     "outputs": []
    },
    {
     "cell_type": "code",
     "collapsed": false,
     "input": [
      "nobody = \"Nobody\"\n",
      "callsme = \"calls me\"\n",
      "chicken = \"chicken\"\n",
      "nobody + \"... \" + callsme + \"... \" + chicken + \"!\""
     ],
     "language": "python",
     "metadata": {},
     "outputs": []
    },
    {
     "cell_type": "markdown",
     "metadata": {},
     "source": [
      "<div align=\"center\">\n",
      "<img src=\"files/images/nobody.gif\" width=\"350\">\n",
      "<br>\n",
      "<img src=\"files/images/callsme.gif\" width=\"350\">\n",
      "<br>\n",
      "<img src=\"files/images/chicken.gif\" width=\"350\">\n",
      "</div>"
     ]
    },
    {
     "cell_type": "markdown",
     "metadata": {},
     "source": [
      "Execute the next cell and try to understand what is going on."
     ]
    },
    {
     "cell_type": "code",
     "collapsed": false,
     "input": [
      "print(\"I will now count my chickens:\")\n",
      "\n",
      "print(\"Hens\", 25 + 30 / 6)\n",
      "print(\"Roosters\", 100 - 25 * 3 % 4)\n",
      "\n",
      "print(\"Now I will count the eggs:\")\n",
      "\n",
      "print(3 + 2 + 1 - 5 + 4 % 2 - 1 / 4 + 6)\n",
      "\n",
      "print(\"Is it true that 3 + 2 < 5 - 7?\")\n",
      "\n",
      "print(3 + 2 < 5 - 7)\n",
      "\n",
      "print(\"What is 3 + 2?\", 3 + 2)\n",
      "print(\"What is 5 - 7?\", 5 - 7)\n",
      "\n",
      "print(\"Oh, that's why it's False.\")\n",
      "\n",
      "print(\"How about some more.\")\n",
      "\n",
      "print(\"Is it greater?\", 5 > -2)\n",
      "print(\"Is it greater or equal?\", 5 >= -2)\n",
      "print(\"Is it less or equal?\", 5 <= -2)"
     ],
     "language": "python",
     "metadata": {},
     "outputs": []
    },
    {
     "cell_type": "markdown",
     "metadata": {},
     "source": [
      "What is wrong with the next expression?"
     ]
    },
    {
     "cell_type": "code",
     "collapsed": false,
     "input": [
      "hour = 5\n",
      "hour * 60 = minute"
     ],
     "language": "python",
     "metadata": {},
     "outputs": []
    },
    {
     "cell_type": "markdown",
     "metadata": {},
     "source": [
      "And what do you think the value of `x` is going to be?"
     ]
    },
    {
     "cell_type": "code",
     "collapsed": false,
     "input": [
      "x = 3\n",
      "x = x + 7\n",
      "x = x * x\n",
      "x"
     ],
     "language": "python",
     "metadata": {},
     "outputs": []
    },
    {
     "cell_type": "markdown",
     "metadata": {},
     "source": [
      "Multiple assignement is also allowed, and that can be used for variable swapping."
     ]
    },
    {
     "cell_type": "code",
     "collapsed": false,
     "input": [
      "a, b, c = 1, 2, 3\n",
      "a, b = b, a\n",
      "b, c = c, b\n",
      "a, b, c"
     ],
     "language": "python",
     "metadata": {},
     "outputs": [],
     "prompt_number": 15
    },
    {
     "cell_type": "heading",
     "level": 2,
     "metadata": {},
     "source": [
      "For the [next class](class03.ipynb)"
     ]
    },
    {
     "cell_type": "markdown",
     "metadata": {},
     "source": [
      "- Read [rest of chapter 2 of *How to Think Like a Computer Scientist*](http://openbookproject.net/thinkcs/python/english2e/ch02.html)\n",
      "- Read [chapter 3 of *How to Think Like a Computer Scientist*](http://openbookproject.net/thinkcs/python/english2e/ch03.html)\n",
      "- Read [chapter 4 (up to section 4.10) of *How to Think Like a Computer Scientist*](http://openbookproject.net/thinkcs/python/english2e/ch04.html)"
     ]
    }
   ],
   "metadata": {}
  }
 ]
}