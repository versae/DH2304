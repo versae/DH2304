{
 "metadata": {
  "name": "",
  "signature": "sha256:0a4719491e1e8b616eef0cb5c4fa99548f7b3639c4372af57109b72965c8917b"
 },
 "nbformat": 3,
 "nbformat_minor": 0,
 "worksheets": [
  {
   "cells": [
    {
     "cell_type": "markdown",
     "metadata": {},
     "source": [
      "<div align=\"center\">\n",
      "<h1>[Data, the Humanist's New Best Friend](index.ipynb)<br/>*Class 14*</h1>\n",
      "</div>"
     ]
    },
    {
     "cell_type": "markdown",
     "metadata": {},
     "source": [
      "In this class you are expected to learn:\n",
      "\n",
      "- Information extraction\n",
      "- Named Entity Recognition\n",
      "- Mining HTML, Twitter and Facebook\n",
      "- Basic Sentiment Analysis"
     ]
    },
    {
     "cell_type": "markdown",
     "metadata": {},
     "source": [
      "<div align=\"center\">\n",
      "<img src=\"images/office.jpg\" width=\"350\">\n",
      "Although the approach is very rough\n",
      "</div>"
     ]
    },
    {
     "cell_type": "markdown",
     "metadata": {},
     "source": [
      "Information extraction\n",
      "----------------------\n",
      "From NLTK book: \"Information comes in many shapes and sizes. One important form is **structured data**, where there is a regular and predictable organization of entities and relationships. For example, we might be interested in the relation between companies and locations. Given a particular company, we would like to be able to identify the locations where it does business; conversely, given a location, we would like to discover which companies do business in that location. If our data is in tabular form [...] then answering these queries is straightforward.\"\n",
      "\n",
      "However, getting similar outcomes from text is a bit more tricky. For example, consider the following snippet (from `nltk.corpus.ieer`, for fileid `NYT19980315.0085`).\n",
      "\n",
      "    The fourth Wells account moving to another agency is the packaged paper-products division of Georgia-Pacific Corp., which arrived at Wells only last fall. Like Hertz and the History Channel, it is also leaving for an Omnicom-owned agency, the BBDO South unit of BBDO Worldwide. BBDO South in Atlanta, which handles corporate advertising for Georgia-Pacific, will assume additional duties for brands like Angel Soft toilet tissue and Sparkle paper towels, said Ken Haldin, a spokesman for Georgia-Pacific in Atlanta.\n",
      "\n",
      "After reading it, it wouldn't be very hard for you to answer a question like \"Which organizations operate in Atlanta?\" Making a machine understand the text and come up with the answer is a much harder task. This is because machines are not very good at dealing with non structured information, like the snippet above.\n",
      "\n",
      "One approach to this problem involves building a very general representation of meaning. In this chapter we take a different approach, deciding in advance that we will only look for very specific kinds of information in text, such as the relation between organizations and locations. Rather than trying to use text like (1) to answer the question directly, we first convert the unstructured data of natural language sentences into the structured data of 1.1. Then we reap the benefits of powerful query tools such as SQL. This method of getting meaning from text is called Information Extraction.\n",
      "\n",
      "Information Extraction has many applications, including business intelligence, resume harvesting, media analysis, sentiment detection, patent search, and email scanning. A particularly important area of current research involves the attempt to extract structured data out of electronically-available scientific literature, especially in the domain of biology and medicine.\n",
      "\n",
      "\n",
      "Named Entity Recognition\n",
      "------------------------\n",
      "\n",
      "http://www.nltk.org/api/nltk.tag.html#module-nltk.tag.stanford\n",
      "\n",
      "Mining HTML, Twitter and Facebook\n",
      "---------------------------------\n",
      "\n",
      "Basic Sentiment Analysis\n",
      "------------------------"
     ]
    },
    {
     "cell_type": "markdown",
     "metadata": {},
     "source": [
      "<div style=\"font-size: 1em; margin: 1em 0 1em 0; border: 1px solid #86989B; background-color: #f7f7f7; padding: 0;\">\n",
      "<p style=\"margin: 0; padding: 0.1em 0 0.1em 0.5em; color: white; border-bottom: 1px solid #86989B; font-weight: bold; background-color: #AFC1C4;\">\n",
      "Activity\n",
      "</p>\n",
      "<p style=\"margin: 0.5em 1em 0.5em 1em; padding: 0;\">\n",
      "Text goes here.\n",
      "<small style=\"float: right; position: relative;\">[Solution](data/solution.py)</small>\n",
      "</p>\n",
      "</div>"
     ]
    },
    {
     "cell_type": "heading",
     "level": 2,
     "metadata": {},
     "source": [
      "~~For the [class](class15.ipynb)~~ Next class will be [class17](class17.ipynb)"
     ]
    },
    {
     "cell_type": "markdown",
     "metadata": {},
     "source": [
      " - Read [Sections 2.1-2.3, from Networks, Crowds, and Markets: Reasoning About a Highly Connected World](https://www.cs.cornell.edu/home/kleinber/networks-book/networks-book-ch02.pdf).\n",
      " - Read [Chapter 3](http://www.cs.berkeley.edu/~vazirani/algorithms/chap3.pdf) and [4](http://www.cs.berkeley.edu/~vazirani/algorithms/chap4.pdf), from Algorithms."
     ]
    }
   ],
   "metadata": {}
  }
 ]
}