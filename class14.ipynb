{
 "metadata": {
  "name": "",
  "signature": "sha256:8327377653d4058bb322d0fbc8c1df67ea818ece53f29113b138cc2ab80eeeee"
 },
 "nbformat": 3,
 "nbformat_minor": 0,
 "worksheets": [
  {
   "cells": [
    {
     "cell_type": "markdown",
     "metadata": {},
     "source": [
      "<div align=\"center\">\n",
      "<h1>[Data, the Humanist's New Best Friend](index.ipynb)<br/>*Class 14*</h1>\n",
      "</div>"
     ]
    },
    {
     "cell_type": "markdown",
     "metadata": {},
     "source": [
      "In this class you are expected to learn:\n",
      "\n",
      "- Information extraction\n",
      "- Named Entity Recognition\n",
      "- Mining HTML, Twitter and Facebook\n",
      "- Basic Sentiment Analysis"
     ]
    },
    {
     "cell_type": "markdown",
     "metadata": {},
     "source": [
      "<div align=\"center\">\n",
      "<img src=\"images/office.jpg\" width=\"400\">\n",
      "Although the approach is very rough\n",
      "</div>"
     ]
    },
    {
     "cell_type": "code",
     "collapsed": false,
     "input": [
      "%matplotlib inline\n",
      "import nltk\n",
      "import textblob as tb"
     ],
     "language": "python",
     "metadata": {},
     "outputs": [],
     "prompt_number": 1
    },
    {
     "cell_type": "markdown",
     "metadata": {},
     "source": [
      "Information extraction\n",
      "======================\n",
      "From NLTK book: \"Information comes in many shapes and sizes. One important form is **structured data**, where there is a regular and predictable organization of entities and relationships. For example, we might be interested in the relation between companies and locations. Given a particular company, we would like to be able to identify the locations where it does business; conversely, given a location, we would like to discover which companies do business in that location. If our data is in tabular form [...] then answering these queries is straightforward.\"\n",
      "\n",
      "However, getting similar outcomes from text is a bit more tricky. For example, consider the following snippet (from `nltk.corpus.ieer`, for fileid `NYT19980315.0085`).\n",
      "\n",
      "    The fourth Wells account moving to another agency is the packaged paper-products division of Georgia-Pacific Corp., which arrived at Wells only last fall. Like Hertz and the History Channel, it is also leaving for an Omnicom-owned agency, the BBDO South unit of BBDO Worldwide. BBDO South in Atlanta, which handles corporate advertising for Georgia-Pacific, will assume additional duties for brands like Angel Soft toilet tissue and Sparkle paper towels, said Ken Haldin, a spokesman for Georgia-Pacific in Atlanta.\n",
      "\n",
      "After reading it, it wouldn't be very hard for you to answer a question like \"Which organizations operate in Atlanta?\" Making a machine understand the text and come up with the answer is a much harder task. This is because machines are not very good at dealing with non structured information, like the snippet above.\n",
      "\n",
      "It would be very nice if a machine could understand the meaning of the text, in fact, that's one approach to the problem. However, because understandin meaning is beyond the scope of this course, we will focus on creating structured information from text that we could later query using any other method such as Standard Query Language (SQL), for example. This method of getting meaning from text is called Information Extraction.\n",
      "\n",
      "\"Information Extraction has many applications, including business intelligence, resume harvesting, media analysis, sentiment detection, patent search, and email scanning. A particularly important area of current research involves the attempt to extract structured data out of electronically-available scientific literature, especially in the domain of biology and medicine.\"\n",
      "\n",
      "\n",
      "Named Entity Recognition\n",
      "========================\n",
      "\n",
      "The techniques that we have seen so far, i.e. segmenting, tokenizing, and part-of-speech tagging, are all necessary steps for performing information extraction. Once we have POS tags, we can search for specific types of entity. Noun phrases are the first kind of entities we can recognize, however they don't provide the fine grained information we are looking for. Common named entity types include ORGANIZATION, PERSON, LOCATION, DATE, TIME, MONEY, and GPE (geo-political entity). These are usually called classes (alluding the machine learning algorithms used).\n",
      "\n",
      "<br/>\n",
      "<div align=\"center\">\n",
      "<table border=\"1\" class=\"docutils\" id=\"tab-ne-types\">\n",
      "<colgroup>\n",
      "<col width=\"22%\">\n",
      "<col width=\"78%\">\n",
      "</colgroup>\n",
      "<thead valign=\"bottom\">\n",
      "<tr><th class=\"head\">NE Type</th>\n",
      "<th class=\"head\">Examples</th>\n",
      "</tr>\n",
      "</thead>\n",
      "<tbody valign=\"top\">\n",
      "<tr><td>ORGANIZATION</td>\n",
      "<td><span class=\"example\">Georgia-Pacific Corp.</span>, <span class=\"example\">WHO</span></td>\n",
      "</tr>\n",
      "<tr><td>PERSON</td>\n",
      "<td><span class=\"example\">Eddy Bonte</span>, <span class=\"example\">President Obama</span></td>\n",
      "</tr>\n",
      "<tr><td>LOCATION</td>\n",
      "<td><span class=\"example\">Murray River</span>, <span class=\"example\">Mount Everest</span></td>\n",
      "</tr>\n",
      "<tr><td>DATE</td>\n",
      "<td><span class=\"example\">June</span>, <span class=\"example\">2008-06-29</span></td>\n",
      "</tr>\n",
      "<tr><td>TIME</td>\n",
      "<td><span class=\"example\">two fifty a m</span>, <span class=\"example\">1:30 p.m.</span></td>\n",
      "</tr>\n",
      "<tr><td>MONEY</td>\n",
      "<td><span class=\"example\">175 million Canadian Dollars</span>, <span class=\"example\">GBP 10.40</span></td>\n",
      "</tr>\n",
      "<tr><td>PERCENT</td>\n",
      "<td><span class=\"example\">twenty pct</span>, <span class=\"example\">18.75 %</span></td>\n",
      "</tr>\n",
      "<tr><td>FACILITY</td>\n",
      "<td><span class=\"example\">Washington Monument</span>, <span class=\"example\">Stonehenge</span></td>\n",
      "</tr>\n",
      "<tr><td>GPE</td>\n",
      "<td><span class=\"example\">South East Asia</span>, <span class=\"example\">Midlothian</span></td>\n",
      "</tr>\n",
      "</tbody>\n",
      "</table>\n",
      "[Commonly Used Types of Named Entity](http://www.nltk.org/book/ch07.html)\n",
      "</div>\n",
      "\n",
      "The goal of a named entity recognition (NER) system is to identify all textual mentions of the named entities. This can be broken down into two sub-tasks: identifying the boundaries of the NE, and identifying its type.\n",
      "\n",
      "The task of tagging the different named entities with their types is known as a supervised learning task, where the machine is fed with training data (already tagged named entities), and outputs a classifier able to label new entities. NLTK comes with a built-in classifier that has already been trained to recognize named entities. The function `nltk.ne_chunk()` receives POS tagged words and produces trees with the named entity types. If we set the parameter `binary=True`, then named entities are just tagged as NE; otherwise, the classifier adds category labels such as `PERSON`, `ORGANIZATION`, and `GPE`.\n",
      "\n",
      "Let's take the first snippet from the frontpage of the [New York Times](http://www.nytimes.com/live/israel-elections-vote-results/?hp&action=click&pgtype=Homepage&module=first-column-region&region=top-news&WT.nav=top-news) and extract just the named entities."
     ]
    },
    {
     "cell_type": "code",
     "collapsed": false,
     "input": [
      "text = (\n",
      "    u\"Israel holds national elections Tuesday to determine if \"\n",
      "    u\"Prime Minister Benjamin Netanyahu and his Likud Party will \"\n",
      "    u\"earn a third consecutive term, or if the Zionist Union will \"\n",
      "    u\"garner enough seats to form a new government.\"\n",
      ")\n",
      "\n",
      "sent = nltk.pos_tag(nltk.tokenize.word_tokenize(text))\n",
      "print(nltk.ne_chunk(sent, binary=True))"
     ],
     "language": "python",
     "metadata": {},
     "outputs": [
      {
       "output_type": "stream",
       "stream": "stdout",
       "text": [
        "(S\n",
        "  (NE Israel/NNP)\n",
        "  holds/NNS\n",
        "  national/JJ\n",
        "  elections/NNS\n",
        "  Tuesday/NNP\n",
        "  to/TO\n",
        "  determine/VB\n",
        "  if/IN\n",
        "  Prime/NNP\n",
        "  Minister/NNP\n",
        "  (NE Benjamin/NNP Netanyahu/NNP)\n",
        "  and/CC\n",
        "  his/PRP$\n",
        "  (NE Likud/NNP Party/NNP)\n",
        "  will/MD\n",
        "  earn/VB\n",
        "  a/DT\n",
        "  third/JJ\n",
        "  consecutive/JJ\n",
        "  term/NN\n",
        "  ,/,\n",
        "  or/CC\n",
        "  if/IN\n",
        "  the/DT\n",
        "  (NE Zionist/NNP Union/NNP)\n",
        "  will/MD\n",
        "  garner/VB\n",
        "  enough/RB\n",
        "  seats/NNS\n",
        "  to/TO\n",
        "  form/NN\n",
        "  a/DT\n",
        "  new/JJ\n",
        "  government/NN\n",
        "  ./.)\n"
       ]
      }
     ],
     "prompt_number": 2
    },
    {
     "cell_type": "markdown",
     "metadata": {},
     "source": [
      "By removing the `binary=True`, we will get the named entity types."
     ]
    },
    {
     "cell_type": "code",
     "collapsed": false,
     "input": [
      "print(nltk.ne_chunk(sent))"
     ],
     "language": "python",
     "metadata": {},
     "outputs": [
      {
       "output_type": "stream",
       "stream": "stdout",
       "text": [
        "(S\n",
        "  (GPE Israel/NNP)\n",
        "  holds/NNS\n",
        "  national/JJ\n",
        "  elections/NNS\n",
        "  Tuesday/NNP\n",
        "  to/TO\n",
        "  determine/VB\n",
        "  if/IN\n",
        "  Prime/NNP\n",
        "  Minister/NNP\n",
        "  (PERSON Benjamin/NNP Netanyahu/NNP)\n",
        "  and/CC\n",
        "  his/PRP$\n",
        "  (ORGANIZATION Likud/NNP Party/NNP)\n",
        "  will/MD\n",
        "  earn/VB\n",
        "  a/DT\n",
        "  third/JJ\n",
        "  consecutive/JJ\n",
        "  term/NN\n",
        "  ,/,\n",
        "  or/CC\n",
        "  if/IN\n",
        "  the/DT\n",
        "  (ORGANIZATION Zionist/NNP Union/NNP)\n",
        "  will/MD\n",
        "  garner/VB\n",
        "  enough/RB\n",
        "  seats/NNS\n",
        "  to/TO\n",
        "  form/NN\n",
        "  a/DT\n",
        "  new/JJ\n",
        "  government/NN\n",
        "  ./.)\n"
       ]
      }
     ],
     "prompt_number": 3
    },
    {
     "cell_type": "markdown",
     "metadata": {},
     "source": [
      "Extracting NEs is just a matter of traversing the tree and filtering by the NEs we want."
     ]
    },
    {
     "cell_type": "code",
     "collapsed": false,
     "input": [
      "def filter_nes(tree):\n",
      "    return tree.label() in [\"ORGANIZATION\", \"PERSON\", \"LOCATION\", \"DATE\", \"TIME\", \"MONEY\", \"GPE\"]\n",
      "\n",
      "tree = nltk.ne_chunk(sent)\n",
      "for subtree in tree.subtrees(filter=filter_nes):\n",
      "    print(subtree)"
     ],
     "language": "python",
     "metadata": {},
     "outputs": [
      {
       "output_type": "stream",
       "stream": "stdout",
       "text": [
        "(GPE Israel/NNP)\n",
        "(PERSON Benjamin/NNP Netanyahu/NNP)\n",
        "(ORGANIZATION Likud/NNP Party/NNP)\n",
        "(ORGANIZATION Zionist/NNP Union/NNP)\n"
       ]
      }
     ],
     "prompt_number": 4
    },
    {
     "cell_type": "markdown",
     "metadata": {},
     "source": [
      "<div align=\"center\">\n",
      "<img src=\"images/name.jpg\" width=\"400\">\n",
      "Should we be able to recognize that name? I don't think so...\n",
      "</div>\n",
      "\n",
      "Stanford Named Entity Recognizer\n",
      "--------------------------------\n",
      "\n",
      "Sometimes, the accuracy achieved by the built-in NE tagger in NLTK might be not enough. For those cases, NLTK can interface with the state of the art NE and IE systems by [Stanford University](http://nlp.stanford.edu/ner/), that has been in development for almost 10 years now.\n",
      "\n",
      "First we need to have a [Java runtime environment (JRE)](https://www.java.com/en/download/manual.jsp?locale-=en). In order to see if you need to install it, just execute the next cell. If you see an error of any kind, then you need to install Java."
     ]
    },
    {
     "cell_type": "code",
     "collapsed": false,
     "input": [
      "! java -version"
     ],
     "language": "python",
     "metadata": {},
     "outputs": [
      {
       "output_type": "stream",
       "stream": "stdout",
       "text": [
        "java version \"1.7.0_76\"\r\n",
        "Java(TM) SE Runtime Environment (build 1.7.0_76-b13)\r\n",
        "Java HotSpot(TM) 64-Bit Server VM (build 24.76-b04, mixed mode)\r\n"
       ]
      }
     ],
     "prompt_number": 5
    },
    {
     "cell_type": "markdown",
     "metadata": {},
     "source": [
      "Next step is to download the [Standford Named Entity Recognizer (3.4.1)](http://nlp.stanford.edu/software/stanford-ner-2014-08-27.zip), and uncompress to a path of your choice. In my case I put it under `$HOME/bin/stanford-ner`. To check that everything is OK, just execute the next cell, changing `$HOME/bin/stanford-ner` to your path.\n",
      "\n",
      "***Note***: If you have Java 8, download [version 3.5.1](http://nlp.stanford.edu/software/stanford-ner-2015-01-29.zip) instead."
     ]
    },
    {
     "cell_type": "code",
     "collapsed": false,
     "input": [
      "! export NER=$HOME/bin/stanford-ner; \\\n",
      "  java -mx500m -cp $NER/stanford-ner.jar edu.stanford.nlp.ie.crf.CRFClassifier \\\n",
      "       -loadClassifier $NER/classifiers/english.all.3class.distsim.crf.ser.gz \\\n",
      "       -textFile $NER/sample.txt"
     ],
     "language": "python",
     "metadata": {},
     "outputs": [
      {
       "output_type": "stream",
       "stream": "stdout",
       "text": [
        "CRFClassifier invoked on Thu Mar 19 01:24:22 EDT 2015 with arguments:\r\n",
        "   -loadClassifier /home/versae/bin/stanford-ner/classifiers/english.all.3class.distsim.crf.ser.gz -textFile /home/versae/bin/stanford-ner/sample.txt\r\n"
       ]
      },
      {
       "output_type": "stream",
       "stream": "stdout",
       "text": [
        "loadClassifier=/home/versae/bin/stanford-ner/classifiers/english.all.3class.distsim.crf.ser.gz\r\n",
        "textFile=/home/versae/bin/stanford-ner/sample.txt\r\n"
       ]
      },
      {
       "output_type": "stream",
       "stream": "stdout",
       "text": [
        "Loading classifier from /home/versae/bin/stanford-ner/classifiers/english.all.3class.distsim.crf.ser.gz ... "
       ]
      },
      {
       "output_type": "stream",
       "stream": "stdout",
       "text": [
        "done [3.2 sec].\r\n"
       ]
      },
      {
       "output_type": "stream",
       "stream": "stdout",
       "text": [
        "The/O fate/O of/O Lehman/ORGANIZATION Brothers/ORGANIZATION ,/O the/O beleaguered/O investment/O bank/O ,/O hung/O in/O the/O balance/O on/O Sunday/O as/O Federal/ORGANIZATION Reserve/ORGANIZATION officials/O and/O the/O leaders/O of/O major/O financial/O institutions/O continued/O to/O gather/O in/O emergency/O meetings/O trying/O to/O complete/O a/O plan/O to/O rescue/O the/O stricken/O bank/O ./O \r\n",
        "Several/O possible/O plans/O emerged/O from/O the/O talks/O ,/O held/O at/O the/O Federal/ORGANIZATION Reserve/ORGANIZATION Bank/ORGANIZATION of/ORGANIZATION New/ORGANIZATION York/ORGANIZATION and/O led/O by/O Timothy/PERSON R./PERSON Geithner/PERSON ,/O the/O president/O of/O the/O New/ORGANIZATION York/ORGANIZATION Fed/ORGANIZATION ,/O and/O Treasury/ORGANIZATION Secretary/O Henry/PERSON M./PERSON Paulson/PERSON Jr./PERSON ./O \r\n",
        "CRFClassifier tagged 85 words in 2 documents at 240.79 words per second.\r\n"
       ]
      }
     ],
     "prompt_number": 6
    },
    {
     "cell_type": "markdown",
     "metadata": {},
     "source": [
      "The last step is to integrate [Stanford NER into NLTK](http://www.nltk.org/api/nltk.tag.html#module-nltk.tag.stanford) by using the [`nltk.tag.stanford` module](http://www.nltk.org/api/nltk.tag.html#module-nltk.tag.stanford).\n",
      "\n",
      "The class `nltk.tag.stanford.NERTagger` for ner tagging with Stanford Tagger receives as inputs:\n",
      "- a model trained on training data, available in the folder `classifier` of the Stanford NER zip.\n",
      "- the path to the Stanford tagger jar file. If not specified here, then this jar file must be specified in the CLASSPATH envinroment variable.\n",
      "- optionally, the encoding of the training data (default: ASCII)"
     ]
    },
    {
     "cell_type": "code",
     "collapsed": false,
     "input": [
      "from nltk.tag.stanford import NERTagger\n",
      "ner, = ! echo $HOME/bin/stanford-ner\n",
      "st = NERTagger(ner + '/classifiers/english.all.3class.distsim.crf.ser.gz',\n",
      "               ner + '/stanford-ner.jar') \n",
      "st.tag(nltk.tokenize.word_tokenize(text))"
     ],
     "language": "python",
     "metadata": {},
     "outputs": [
      {
       "metadata": {},
       "output_type": "pyout",
       "prompt_number": 7,
       "text": [
        "[('Israel', 'LOCATION'),\n",
        " ('holds', 'O'),\n",
        " ('national', 'O'),\n",
        " ('elections', 'O'),\n",
        " ('Tuesday', 'O'),\n",
        " ('to', 'O'),\n",
        " ('determine', 'O'),\n",
        " ('if', 'O'),\n",
        " ('Prime', 'O'),\n",
        " ('Minister', 'O'),\n",
        " ('Benjamin', 'PERSON'),\n",
        " ('Netanyahu', 'PERSON'),\n",
        " ('and', 'O'),\n",
        " ('his', 'O'),\n",
        " ('Likud', 'ORGANIZATION'),\n",
        " ('Party', 'ORGANIZATION'),\n",
        " ('will', 'O'),\n",
        " ('earn', 'O'),\n",
        " ('a', 'O'),\n",
        " ('third', 'O'),\n",
        " ('consecutive', 'O'),\n",
        " ('term', 'O'),\n",
        " (',', 'O'),\n",
        " ('or', 'O'),\n",
        " ('if', 'O'),\n",
        " ('the', 'O'),\n",
        " ('Zionist', 'ORGANIZATION'),\n",
        " ('Union', 'ORGANIZATION'),\n",
        " ('will', 'O'),\n",
        " ('garner', 'O'),\n",
        " ('enough', 'O'),\n",
        " ('seats', 'O'),\n",
        " ('to', 'O'),\n",
        " ('form', 'O'),\n",
        " ('a', 'O'),\n",
        " ('new', 'O'),\n",
        " ('government', 'O'),\n",
        " ('.', 'O')]"
       ]
      }
     ],
     "prompt_number": 7
    },
    {
     "cell_type": "markdown",
     "metadata": {},
     "source": [
      "Included with Stanford NER are a 4 class model trained for CoNLL, a 7 class model trained for MUC, and a 3 class model trained on both data sets for the intersection of those class sets.\n",
      "\n",
      "- 3 class: Location, Person, Organization\n",
      "- 4 class: Location, Person, Organization, Misc\n",
      "- 7 class: Time, Location, Organization, Person, Money, Percent, Date\n",
      "\n",
      "And the models included (models for Spanish, German and Chinese [are also available](http://nlp.stanford.edu/software/CRF-NER.shtml)).\n",
      "\n",
      "- `english.all.3class.distsim.crf.ser.gz`\n",
      "- `english.all.7class.distsim.crf.ser.gz`\n",
      "- `english.conll.4class.distsim.crf.ser.gz`\n",
      "- `english.muc.7class.distsim.crf.ser.gz`\n",
      "- `english.nowiki.3class.distsim.crf.ser.gz`\n",
      "\n",
      "Standford NER also has a [web demo](http://nlp.stanford.edu:8080/ner/) of their system."
     ]
    },
    {
     "cell_type": "markdown",
     "metadata": {},
     "source": [
      "<div style=\"font-size: 1em; margin: 1em 0 1em 0; border: 1px solid #86989B; background-color: #f7f7f7; padding: 0;\">\n",
      "<p style=\"margin: 0; padding: 0.1em 0 0.1em 0.5em; color: white; border-bottom: 1px solid #86989B; font-weight: bold; background-color: #AFC1C4;\">\n",
      "Activity\n",
      "</p>\n",
      "<p style=\"margin: 0.5em 1em 0.5em 1em; padding: 0;\">\n",
      "Write a function `extract_geo(text)` that receives `text` and return a list of the geo-political entities found. For example, `extract_geo(\"I was born in Seville, Spain\")` should return `['Seville', 'Spain']`.\n",
      "<!-- <small style=\"float: right; position: relative;\">[Solution](data/solution.py)</small> -->\n",
      "</p>\n",
      "</div>"
     ]
    },
    {
     "cell_type": "code",
     "collapsed": false,
     "input": [
      "def extract_geo(text):\n",
      "    ...\n",
      "\n",
      "extract_geo(\"I was born in Seville, Spain\")"
     ],
     "language": "python",
     "metadata": {},
     "outputs": [
      {
       "metadata": {},
       "output_type": "pyout",
       "prompt_number": 8,
       "text": [
        "['Seville', 'Spain']"
       ]
      }
     ],
     "prompt_number": 8
    },
    {
     "cell_type": "markdown",
     "metadata": {},
     "source": [
      "<div align=\"center\">\n",
      "<img src=\"images/rogerabbit.gif\" width=\"400\">\n",
      "[*The Barber of Seville*](https://en.wikipedia.org/wiki/The_Barber_of_Seville)\n",
      "</div>"
     ]
    },
    {
     "cell_type": "markdown",
     "metadata": {},
     "source": [
      "Relationship Extraction\n",
      "=======================\n",
      "\n",
      "Finally, the information extraction system looks at entities that are mentioned near one another in the text, and tries to determine whether specific relationships hold between those entities.\n",
      "\n",
      "We will typically be looking for relations between specified types of named entity. One way of approaching this task is to initially look for all triples of the form (X, \u03b1, Y), where X and Y are named entities of the required types, and \u03b1 is the string of words that intervenes between X and Y--in clausal form will be \u03b1(X, Y). We can then use regular expressions to pull out just those instances of \u03b1 that express the relation that we are looking for.\n",
      "\n",
      "For example, let's take the next text as an example:"
     ]
    },
    {
     "cell_type": "code",
     "collapsed": false,
     "input": [
      "doc = nltk.corpus.ieer.parsed_docs('NYT_19980315')[10]\n",
      "nyt = \" \".join([leaf for leaf in doc.text.leaves()])\n",
      "nyt"
     ],
     "language": "python",
     "metadata": {},
     "outputs": [
      {
       "metadata": {},
       "output_type": "pyout",
       "prompt_number": 9,
       "text": [
        "\"NEW YORK _ Time has run out for the besieged Wells BDDP , the onetime Madison Avenue powerhouse that had recently stumbled into a stunning free fall as large clients left amid executive turmoil and ownership changes. GGT Group PLC , the parent of Wells , said on Friday that Wells would be closed after 32 years , effective on May 13 . The shutdown will affect 133 employees in New York , though at the start of the year Wells had more than twice that number. Efforts will be made to place employees with affiliates of Omnicom Group , the giant agency company that agreed in late January to acquire GGT . They will be eligible for ``at least six months to as much as a year '' in severance pay, said John Wren , the president and chief executive at Omnicom in New York . The shutdown will abruptly end Wells ' battle for survival during which billings fell to less than $200 million from a peak of almost $1 billion seven years ago. Just since November , Wells has lost more than $330 million in billings from clients like Bristol-Myers Squibb , Heineken USA Inc. , Liberty Mutual Insurance Co. , Procter &AMP; Gamble Co. and Tag Heuer USA . The closing also ends more than three decades of advertising achievement that included such familiar campaigns as ``Quality is Job 1'' for Ford , ``I can't believe I ate the whole thing'' for Alka-Seltzer , ``Oh, the disadvantages'' for Benson &AMP; Hedges cigarettes and ``A totally organic experience'' for Clairol Herbal Essences shampoo. `` Wells and the kind of work it did was one of the reasons I got into this business,'' said Steve Davis , who joined Wells only six weeks ago as chairman and chief executive after the dismissal of Frank Assumma . ``To look at the agency's reel was to see the best and the brightest,'' Davis said. ``But it got to the point there was not enough critical mass to keep going. ``And for us to dance our way into a `merger' with another agency would have been fairly transparent,'' he added, ``because there's not that much left to merge with.'' The client roster of Wells and its affiliate, Moss/Dragoti , had dwindled to five accounts. With the closing date posted, four of the five have started leaving for other agencies; the fifth, Chase Manhattan Corp. , had already placed its account in review. Omnicom moved to acquire GGT after the loss of Wells ' largest client, Procter &AMP; Gamble _ with billings estimated at $125 million _ plunged GGT into crisis. The hope had been widespread that Wells would somehow remain in business, perhaps as a unit of an Omnicom agency like DDB Needham Worldwide or TBWA Chiat/Day . But ``there was virtually no revenue left'' because of the substantial account losses, Wren said. That sealed Wells ' fate, on a Friday the 13th no less. <ANNOTATION> (STORY CAN END HERE _ OPTIONAL MATERIAL FOLLOWS) </ANNOTATION> ``I feel terrible about this,'' said Charlie Moss , the chairman of Moss/Dragoti , who was one of the initial employees of Wells when it opened as Wells, Rich, Greene in 1966 . ``It's very sad to see it happen.'' ``We should have a memorial service someday,'' he added, ``to say goodbye in a nice way.'' Two clients that had been handled by Moss/Dragoti are headed for DDB Needham in New York along with Moss and his longtime partner, Stan Dragoti . One is Hertz Corp. and the other is the History Channel , the cable television network owned by Walt Disney Co. , Hearst Corp. and the NBC unit of General Electric Co. Combined billings are estimated at more than $40 million . Ken Kaess , president of the DDB Needham U.S. division, was pleased to land two additional clients unexpectedly but was dismayed at the circumstances. ``It's too bad,'' he said. `` Wells is a terrific brand name.'' The Wells name had for years been burnished by Mary Wells Lawrence , whose fierce devotion to clients and creative instincts made her an advertising legend. Her fledgling agency grew quickly from the 1960s into the 1970s , attracting blue-chip clients like Ford Motor Co. ; ITT Sheraton Corp. ; IBM ; Miles Inc. , now part of Bayer ; Philip Morris Cos. ; and P&AMP;G . `` Mary created an environment and an attitude here,'' Davis said, ``and underpinned it with great people who delivered on that promise. Wells could always be depended on for something new and different.'' But after the agency was sold in 1990 to BDDP , a French agency company, Ms. Lawrence withdrew from active involvement, and financial problems began to impede Wells ' performance. Wells then suffered through waves of account losses and management tumult as well as another change in ownership when BDDP was acquired last year by GGT . For instance, one six-month period in 1995 brought the sudden departures from Wells of the chairman and chief executive, the president and the chief financial officer. ``It was a big roller coaster,'' said Linda Kaplan Thaler , who worked at Wells in a top creative post from 1994 to 1997 . ``I went on a maternity leave, and when I came back, nobody was there. ``It was an unfortunate sequence of happenstances,'' she added. ``No one person is responsible; everyone there had the best of intentions.'' Kaplan Thaler Group in New York , an advertising and production company that Ms. Kaplan Thaler opened after leaving Wells , is being awarded the account of another Wells client, Toys ``R'' Us , with billings estimated at $30 million to $40 million . Ms. Kaplan Thaler had worked for Toys ``R'' Us at Wells and at the J. Walter Thompson New York unit of WPP Group , where she wrote the Toys ``R'' Us jingle. Ms. Kaplan Thaler had been bound by a noncompetition agreement with Wells that expires in July . But the closing led Wells to waive the stricture so the account could move now. The fourth Wells account moving to another agency is the packaged paper-products division of Georgia-Pacific Corp. , which arrived at Wells only last fall . Like Hertz and the History Channel , it is also leaving for an Omnicom -owned agency, the BBDO South unit of BBDO Worldwide . BBDO South in Atlanta , which handles corporate advertising for Georgia-Pacific , will assume additional duties for brands like Angel Soft toilet tissue and Sparkle paper towels, said Ken Haldin , a spokesman for Georgia-Pacific in Atlanta . Billings were estimated at $30 million to $40 million . Omnicom anticipates completing the acquisition of GGT in the next two weeks , Wren said, adding that he planned to sponsor a `` three-day job fair to try to place as many Wells employees as possible'' at Omnicom agencies and subsidiaries. ``The employees are the innocent victims of all these events,'' he added. Davis , who said he would consider his next move after Wells closed, agreed with Wren . ``I told the staff this didn't have anything to do with them,'' he said, referring to his remarks at a meeting at the Wells office on Friday afternoon. ``I've never seen such passion and conviction in the face of having to read about the agency in the papers every day.''\""
       ]
      }
     ],
     "prompt_number": 9
    },
    {
     "cell_type": "markdown",
     "metadata": {},
     "source": [
      "And say that we want to extract the relationship `in`. Occurrences of `in` can be shown by using concordance in NTLK, however no information about named entities can be used to improve filtering."
     ]
    },
    {
     "cell_type": "code",
     "collapsed": false,
     "input": [
      "nltk.Text(nltk.word_tokenize(nyt)).concordance(\"in\")"
     ],
     "language": "python",
     "metadata": {},
     "outputs": [
      {
       "output_type": "stream",
       "stream": "stdout",
       "text": [
        "Displaying 21 of 21 matches:\n",
        "he shutdown will affect 133 employees in New York , though at the start of the\n",
        " the giant agency company that agreed in late January to acquire GGT . They wi\n",
        "st six months to as much as a year '' in severance pay , said John Wren , the \n",
        "sident and chief executive at Omnicom in New York . The shutdown will abruptly\n",
        "ells has lost more than $ 330 million in billings from clients like Bristol-My\n",
        "orp. , had already placed its account in review . Omnicom moved to acquire GGT\n",
        "pread that Wells would somehow remain in business , perhaps as a unit of an Om\n",
        "en it opened as Wells , Rich , Greene in 1966 . `` It 's very sad to see it ha\n",
        "day , '' he added , `` to say goodbye in a nice way . '' Two clients that had \n",
        "ss/Dragoti are headed for DDB Needham in New York along with Moss and his long\n",
        "nt . '' But after the agency was sold in 1990 to BDDP , a French agency compan\n",
        "ment tumult as well as another change in ownership when BDDP was acquired last\n",
        ". For instance , one six-month period in 1995 brought the sudden departures fr\n",
        "a Kaplan Thaler , who worked at Wells in a top creative post from 1994 to 1997\n",
        "f intentions . '' Kaplan Thaler Group in New York , an advertising and product\n",
        "ion agreement with Wells that expires in July . But the closing led Wells to w\n",
        "h unit of BBDO Worldwide . BBDO South in Atlanta , which handles corporate adv\n",
        "din , a spokesman for Georgia-Pacific in Atlanta . Billings were estimated at \n",
        "tes completing the acquisition of GGT in the next two weeks , Wren said , addi\n",
        "ever seen such passion and conviction in the face of having to read about the \n",
        "ce of having to read about the agency in the papers every day . ''\n"
       ]
      }
     ],
     "prompt_number": 10
    },
    {
     "cell_type": "markdown",
     "metadata": {},
     "source": [
      "The idea is to define the tuple (X, \u03b1, Y), where X and Y are named entities, and \u03b1 is a regular expression that joins the named entities.\n",
      "\n",
      "Let's say that we want to find only relationships of type `ORGANIZATION in GPE`. Therefore, we need do define our \u03b1 as the pattern given by the regular expression `.*\\bin\\b(?!\\b.+ing)`, that includes a negative lookahead assertion that allows us to disregard strings such as `success in supervising the transition of`, where `in` is followed by a gerund.\n",
      "\n",
      "To extract these relationships tuples, NLTK provides the function `extract_rels()`, that receives X, Y, a chunked sentence, and pattern (\u03b1). Functions `rtuple()`, `clause()` both receive a relationship and print the tuple version or the clause version."
     ]
    },
    {
     "cell_type": "code",
     "collapsed": false,
     "input": [
      "import re\n",
      "from nltk.sem import extract_rels, rtuple, clause\n",
      "\n",
      "sentences = nltk.sent_tokenize(nyt)\n",
      "tokenized_sentences = [nltk.word_tokenize(sentence) for sentence in sentences]\n",
      "tagged_sentences = [nltk.pos_tag(sentence) for sentence in tokenized_sentences]\n",
      "\n",
      "pattern = re.compile(r'.*\\bin\\b(?!\\b.+ing)')\n",
      "\n",
      "for sent in tagged_sentences:\n",
      "    rels = extract_rels('ORGANIZATION', 'GPE', nltk.ne_chunk(sent), pattern=pattern)\n",
      "    for rel in rels:\n",
      "        print(clause(rel, \"in\"), \"\\n\\t\", rtuple(rel))"
     ],
     "language": "python",
     "metadata": {},
     "outputs": [
      {
       "output_type": "stream",
       "stream": "stdout",
       "text": [
        "in('ddb_needham', 'new_york') \n",
        "\t [ORG: 'DDB/NNP Needham/NNP'] 'in/IN' [GPE: 'New/NNP York/NNP']\n",
        "in('bbdo_south', 'atlanta')"
       ]
      },
      {
       "output_type": "stream",
       "stream": "stdout",
       "text": [
        " \n",
        "\t [ORG: 'BBDO/NNP South/NNP'] 'in/IN' [GPE: 'Atlanta/NNP']\n"
       ]
      }
     ],
     "prompt_number": 11
    },
    {
     "cell_type": "markdown",
     "metadata": {},
     "source": [
      "Basic Sentiment Analysis\n",
      "========================\n",
      "\n",
      "Another case of machine learning in NLP is the use of classifiers to find if a text is expressing something positive or negative. This is usually referred to as Sentiment Analysis.\n",
      "\n",
      "A sentiment analyzer is basically a classifier trained on a dataset. Let's say that we want to analyze sentiment in tweets and we have the next dataset with tagged tweets:"
     ]
    },
    {
     "cell_type": "code",
     "collapsed": false,
     "input": [
      "dataset = [\n",
      "    ('I love this sandwich.', 'pos'),\n",
      "    ('This is an amazing place!', 'pos'),\n",
      "    ('I feel very good about these beers.', 'pos'),\n",
      "    ('This is my best work.', 'pos'),\n",
      "    (\"What an awesome view\", 'pos'),\n",
      "    ('I do not like this restaurant', 'neg'),\n",
      "    ('I am tired of this stuff.', 'neg'),\n",
      "    (\"I can't deal with this\", 'neg'),\n",
      "    ('He is my sworn enemy!', 'neg'),\n",
      "    ('My boss is horrible.', 'neg'),\n",
      "    ('The beer was good.', 'pos'),\n",
      "    ('I do not enjoy my job', 'neg'),\n",
      "    (\"I ain't feeling dandy today.\", 'neg'),\n",
      "    (\"I feel amazing!\", 'pos'),\n",
      "    ('Gary is a friend of mine.', 'pos'),\n",
      "    (\"I can't believe I'm doing this.\", 'neg')\n",
      "]"
     ],
     "language": "python",
     "metadata": {},
     "outputs": [],
     "prompt_number": 12
    },
    {
     "cell_type": "markdown",
     "metadata": {},
     "source": [
      "First of all, we need to split our dataset into training and testing data, so we can train our classifier and then test how well it works. There is [much more on this topic](http://en.wikipedia.org/wiki/Training_set), but we will not cover it in this class. For now, let's say that we split the training and testing sets as follows."
     ]
    },
    {
     "cell_type": "code",
     "collapsed": false,
     "input": [
      "train = dataset[:10]\n",
      "test = dataset[10:]\n",
      "train + test"
     ],
     "language": "python",
     "metadata": {},
     "outputs": [
      {
       "metadata": {},
       "output_type": "pyout",
       "prompt_number": 13,
       "text": [
        "[('I love this sandwich.', 'pos'),\n",
        " ('This is an amazing place!', 'pos'),\n",
        " ('I feel very good about these beers.', 'pos'),\n",
        " ('This is my best work.', 'pos'),\n",
        " ('What an awesome view', 'pos'),\n",
        " ('I do not like this restaurant', 'neg'),\n",
        " ('I am tired of this stuff.', 'neg'),\n",
        " (\"I can't deal with this\", 'neg'),\n",
        " ('He is my sworn enemy!', 'neg'),\n",
        " ('My boss is horrible.', 'neg'),\n",
        " ('The beer was good.', 'pos'),\n",
        " ('I do not enjoy my job', 'neg'),\n",
        " (\"I ain't feeling dandy today.\", 'neg'),\n",
        " ('I feel amazing!', 'pos'),\n",
        " ('Gary is a friend of mine.', 'pos'),\n",
        " (\"I can't believe I'm doing this.\", 'neg')]"
       ]
      }
     ],
     "prompt_number": 13
    },
    {
     "cell_type": "markdown",
     "metadata": {},
     "source": [
      "Using `TextBlob` API, we create a new classifier by passing training data into the constructor for a `NaiveBayesClassifier`. Then, we can start classifying arbitrary text by calling the `NaiveBayesClassifier.classify(text)` method."
     ]
    },
    {
     "cell_type": "code",
     "collapsed": false,
     "input": [
      "from textblob.classifiers import NaiveBayesClassifier\n",
      "cl = NaiveBayesClassifier(train)\n",
      "cl.classify(\"Their burgers are amazing\")  # \"pos\""
     ],
     "language": "python",
     "metadata": {},
     "outputs": [
      {
       "metadata": {},
       "output_type": "pyout",
       "prompt_number": 14,
       "text": [
        "'pos'"
       ]
      }
     ],
     "prompt_number": 14
    },
    {
     "cell_type": "code",
     "collapsed": false,
     "input": [
      "cl.classify(\"I don't like their pizza.\")  # \"neg\""
     ],
     "language": "python",
     "metadata": {},
     "outputs": [
      {
       "metadata": {},
       "output_type": "pyout",
       "prompt_number": 15,
       "text": [
        "'neg'"
       ]
      }
     ],
     "prompt_number": 15
    },
    {
     "cell_type": "markdown",
     "metadata": {},
     "source": [
      "Remember that we left part of the dataset for testing, now we check the accuracy on the test set. As a good practice, you want to avoid having only training data, since then your classifier or model will overfit the data and we will not have a way to evaluate its accuracy. On the other hand, different partitions of the dataset can lead to different accuracies. To reduce this variability a technique known as cross-validation is usually used."
     ]
    },
    {
     "cell_type": "code",
     "collapsed": false,
     "input": [
      "cl.accuracy(test)"
     ],
     "language": "python",
     "metadata": {},
     "outputs": [
      {
       "metadata": {},
       "output_type": "pyout",
       "prompt_number": 16,
       "text": [
        "0.8333333333333334"
       ]
      }
     ],
     "prompt_number": 16
    },
    {
     "cell_type": "markdown",
     "metadata": {},
     "source": [
      "An accuracy of 0.83 or 83% means that 4 out 5 sentences are assessed correctly. It might seem like good enough, but actually, for this use case of sentiment analysis, is not that good. The way this classifier works is usually known as [bag-of-words](https://en.wikipedia.org/wiki/Bag-of-words_model), where each document is seen as a bag containing words. Using the training set, an according to the different measures, like the frequency distributions of individual words in sentences assessed as class, scores are calculated. We can see which were the most infomrative features used in our very naive model."
     ]
    },
    {
     "cell_type": "code",
     "collapsed": false,
     "input": [
      "# Most Informative Features\n",
      "cl.show_informative_features(5)"
     ],
     "language": "python",
     "metadata": {},
     "outputs": [
      {
       "output_type": "stream",
       "stream": "stdout",
       "text": [
        "Most Informative Features\n",
        "          contains(this) = True              neg : pos    =      2.3 : 1.0\n",
        "          contains(this) = False             pos : neg    =      1.8 : 1.0\n",
        "            contains(an) = False             neg : pos    =      1.6 : 1.0\n",
        "          contains(This) = False             neg : pos    =      1.6 : 1.0\n",
        "             contains(I) = True              neg : pos    =      1.4 : 1.0\n"
       ]
      }
     ],
     "prompt_number": 17
    },
    {
     "cell_type": "markdown",
     "metadata": {},
     "source": [
      "Therefore, containing the word \"this\" but not containing the word \"an\" tend to be negative.\n",
      "\n",
      "One way to improve our accuracy is by adding more training data. For example using the `nltk.corpus.movie_reviews` corpus, with reviews of products and their associated tags. Or we could also collect our own data if we were interested in specific topic for the evaluation, or even different classes other than positive or negative.\n",
      "\n",
      "`TextBlob` has two already trained sentiment classifiers. Once is the default, `PatternAnalyzer`, and does not only measure sentiment (polarity) but subjectivity as well; the second one is actually from NLTK, `NaiveBayesAnalyzer`. Both return named tuples. Let's see which one has better accuracy."
     ]
    },
    {
     "cell_type": "code",
     "collapsed": false,
     "input": [
      "from textblob import TextBlob\n",
      "from textblob.sentiments import NaiveBayesAnalyzer, PatternAnalyzer"
     ],
     "language": "python",
     "metadata": {},
     "outputs": [],
     "prompt_number": 18
    },
    {
     "cell_type": "code",
     "collapsed": false,
     "input": [
      "cl1 = NaiveBayesAnalyzer()\n",
      "TextBlob(\"I love the smell of napalm in the morning\", analyzer=cl1).sentiment"
     ],
     "language": "python",
     "metadata": {},
     "outputs": [
      {
       "metadata": {},
       "output_type": "pyout",
       "prompt_number": 19,
       "text": [
        "Sentiment(classification='pos', p_pos=0.6406723473877074, p_neg=0.3593276526122936)"
       ]
      }
     ],
     "prompt_number": 19
    },
    {
     "cell_type": "code",
     "collapsed": false,
     "input": [
      "cl2 = PatternAnalyzer()\n",
      "TextBlob(\"I love the smell of napalm in the morning\", analyzer=cl2).sentiment"
     ],
     "language": "python",
     "metadata": {},
     "outputs": [
      {
       "metadata": {},
       "output_type": "pyout",
       "prompt_number": 20,
       "text": [
        "Sentiment(polarity=0.5, subjectivity=0.6)"
       ]
      }
     ],
     "prompt_number": 20
    },
    {
     "cell_type": "markdown",
     "metadata": {},
     "source": [
      "Accuracy is just the proportion of true results (both true positives and true negatives) among the total number of cases examined."
     ]
    },
    {
     "cell_type": "code",
     "collapsed": false,
     "input": [
      "sum([cl1.analyze(s).classification == tag for (s, tag) in dataset]) / len(dataset)"
     ],
     "language": "python",
     "metadata": {},
     "outputs": [
      {
       "metadata": {},
       "output_type": "pyout",
       "prompt_number": 21,
       "text": [
        "0.625"
       ]
      }
     ],
     "prompt_number": 21
    },
    {
     "cell_type": "code",
     "collapsed": false,
     "input": [
      "sum([cl2.analyze(s).polarity > 0 if tag == \"pos\" else cl2.analyze(s).polarity < 0 for (s, tag) in dataset]) / len(dataset)"
     ],
     "language": "python",
     "metadata": {},
     "outputs": [
      {
       "metadata": {},
       "output_type": "pyout",
       "prompt_number": 22,
       "text": [
        "0.625"
       ]
      }
     ],
     "prompt_number": 22
    },
    {
     "cell_type": "markdown",
     "metadata": {},
     "source": [
      "Interestingly, for our toy dataset both classifiers perform equally bad :D"
     ]
    },
    {
     "cell_type": "markdown",
     "metadata": {},
     "source": [
      "<div align=\"center\">\n",
      "<img src=\"images/facebook.gif\" width=\"400\">\n",
      "*Even twitter supports it now!*\n",
      "</div>"
     ]
    },
    {
     "cell_type": "markdown",
     "metadata": {},
     "source": [
      "Mining HTML, Twitter and Facebook\n",
      "=================================\n",
      "\n",
      "Sentiment analysis can also be used to analyze news, political programs, or even plays. One common use is to analyze how people react in the social media. For example, let's say that you are brand that is releasing a new product, and a couple of days after the release, you want to know how the public reacted to the new product. Sentiment analysis can become in handy in this situation, because the analysis of tweets or Facebook status can tell you how actually people are receiving new products and how they are feeling about it.\n",
      "\n",
      "There are basically two ways of collecting data from the web: web scraping, and programmatic APIs.\n",
      "\n",
      "### Web Scraping \n",
      "Web Scraping allows to extract information from websites. Usually, such software programs simulate human exploration by either implementing low-level Hypertext Transfer Protocol (HTTP), or embedding a fully-fledged web browser, such as Internet Explorer or Mozilla Firefox.\n",
      "\n",
      "For basic extraction of the generated or static HTML of websites, Python provides several utilities. Perhaps, the easiest to use is [`requests`](http://python-requests.org), that allows to perform all the verbs specified in the HTTP protocol. The two most common verbs are GET and POST. GET is used everytime a website is accessed by either a browser or another software. POST is what happens after a form is sent in a website. There are more (PUT, PATCH, DELETE, etc.) but those have special uses.\n",
      "\n",
      "For example, let's say we want to retrieve the frontpage of the Globe and Mail."
     ]
    },
    {
     "cell_type": "code",
     "collapsed": false,
     "input": [
      "import requests\n",
      "\n",
      "response = requests.get(\"http://www.theglobeandmail.com/\")\n",
      "response"
     ],
     "language": "python",
     "metadata": {},
     "outputs": [
      {
       "metadata": {},
       "output_type": "pyout",
       "prompt_number": 23,
       "text": [
        "<Response [200]>"
       ]
      }
     ],
     "prompt_number": 23
    },
    {
     "cell_type": "markdown",
     "metadata": {},
     "source": [
      "After a request is performed by any of the verbs, the server replies with codes indicating if there was an error or not. The code 200 means that everything went good. Other codes included 404 for not found, or 500 for server error."
     ]
    },
    {
     "cell_type": "code",
     "collapsed": false,
     "input": [
      "if response.ok:\n",
      "    print(response.text[:1000])"
     ],
     "language": "python",
     "metadata": {},
     "outputs": [
      {
       "output_type": "stream",
       "stream": "stdout",
       "text": [
        "<!DOCTYPE html>\n",
        "<!--[if lt IE 7]><html lang=\"en-ca\" class=\"ie6 ltie9\" xmlns:fb=\"http://www.facebook.com/2008/fbml\" ><![endif]-->\n",
        "<!--[if IE 7]><html lang=\"en-ca\" class=\"ie7 ltie9\" xmlns:fb=\"http://www.facebook.com/2008/fbml\" ><![endif]-->\n",
        "<!--[if IE 8]><html lang=\"en-ca\" class=\"ie8 ltie9\" xmlns:fb=\"http://www.facebook.com/2008/fbml\" ><![endif]-->\n",
        "<!--[if IE 9 ]><html lang=\"en-ca\" class=\"ie9\" xmlns:fb=\"http://www.facebook.com/2008/fbml\" ><![endif]-->\n",
        "<!--[if (gt IE 9)|!(IE)]><!-->\n",
        "<html lang=\"en-ca\" xmlns:fb=\"http://www.facebook.com/2008/fbml\"><!--<![endif]-->\n",
        "<head>\n",
        "<title>Home - The Globe and Mail</title>\n",
        "<link rel=\"dns-prefetch\" href=\"http://static.theglobeandmail.ca\">\n",
        "<meta http-equiv=\"X-UA-Compatible\" content=\"IE=edge,chrome=1\">\n",
        "<meta http-equiv=\"content-type\" content=\"text/html; charset=UTF-8\">\n",
        "<meta http-equiv=\"expires\" content=\"0\">\n",
        "<meta http-equiv=\"pragma\" content=\"no-cache\">\n",
        "<meta http-equiv=\"window-target\" content=\"_top\">\n",
        "<meta http-equiv=\"Content-Language\" content=\"en-ca\">\n",
        "<\n"
       ]
      }
     ],
     "prompt_number": 24
    },
    {
     "cell_type": "markdown",
     "metadata": {},
     "source": [
      "Even after printing 1000 characters, there is still almost no content. That happens because websites are written using HTML, a markup language that embeds how the text is shown plus the text itself. All those symbols enclosed in angular brackets, `<>`, are actually only interpreted by the browser, so the browser handles those and render the proper style or layout for the user. For example, `<strong>Truth is out there</strong>` is actually rendered as **`Truth is out there`**. The tags `<strong>` makes the browser print the text enclosed as bold.\n",
      "\n",
      "HTML documents are actually a tree, and as such can be traversed and accessed. [`BeautifulSoup`]() is a Python library that makes easier to handle HTML documents."
     ]
    },
    {
     "cell_type": "code",
     "collapsed": false,
     "input": [
      "from bs4 import BeautifulSoup\n",
      "\n",
      "html = BeautifulSoup(response.text)\n",
      "print(html.title)\n",
      "print(html.title.name, \":\", html.title.string)"
     ],
     "language": "python",
     "metadata": {},
     "outputs": [
      {
       "output_type": "stream",
       "stream": "stdout",
       "text": [
        "<title>Home - The Globe and Mail</title>\n",
        "title : Home - The Globe and Mail\n"
       ]
      }
     ],
     "prompt_number": 25
    },
    {
     "cell_type": "markdown",
     "metadata": {},
     "source": [
      "But most of the times we will just want a clean version of the text."
     ]
    },
    {
     "cell_type": "code",
     "collapsed": false,
     "input": [
      "print(\"...\", html.text[4360:4430], \"...\")"
     ],
     "language": "python",
     "metadata": {},
     "outputs": [
      {
       "output_type": "stream",
       "stream": "stdout",
       "text": [
        "... \n",
        "Are chilly Canadian-U.S. cross-border relations about to get frostier ...\n"
       ]
      }
     ],
     "prompt_number": 26
    },
    {
     "cell_type": "markdown",
     "metadata": {},
     "source": [
      "Unfortunately, modern webs usually include some sort of interactivity in the form of Javascript that modifies the content of the page in real time for the user. That makes virtually impossible for `requests` to catch the actual content, since is Javascript the actor that is actually writing that content in the browser. There are ways to solve this, like using [PhantomJS](http://phantomjs.org/) or [SlimmerJS](http://slimerjs.org/) through something like [Selenium](http://www.seleniumhq.org/), but it's a bit more complicated that just using `requests`."
     ]
    },
    {
     "cell_type": "markdown",
     "metadata": {},
     "source": [
      "### Programmatic APIs\n",
      "\n",
      "A programmatic API is an endpoint provided by a website that instead of returning HTML, it returns serialized information such as JSON. JSON stands for Javascript Object Notation and is probably the most used serialization format of the web. Python can read and write its own data structures, such as list, dictionaries or objects, into and from JSON."
     ]
    },
    {
     "cell_type": "code",
     "collapsed": false,
     "input": [
      "import json\n",
      "\n",
      "d = {\"key\": [1, 2, 3]}\n",
      "json.dumps(d)"
     ],
     "language": "python",
     "metadata": {},
     "outputs": [
      {
       "metadata": {},
       "output_type": "pyout",
       "prompt_number": 27,
       "text": [
        "'{\"key\": [1, 2, 3]}'"
       ]
      }
     ],
     "prompt_number": 27
    },
    {
     "cell_type": "code",
     "collapsed": false,
     "input": [
      "json.loads('{\"key\": [1, 2, 3]}')"
     ],
     "language": "python",
     "metadata": {},
     "outputs": [
      {
       "metadata": {},
       "output_type": "pyout",
       "prompt_number": 28,
       "text": [
        "{'key': [1, 2, 3]}"
       ]
      }
     ],
     "prompt_number": 28
    },
    {
     "cell_type": "code",
     "collapsed": false,
     "input": [
      "json.loads(json.dumps(d)) == d"
     ],
     "language": "python",
     "metadata": {},
     "outputs": [
      {
       "metadata": {},
       "output_type": "pyout",
       "prompt_number": 29,
       "text": [
        "True"
       ]
      }
     ],
     "prompt_number": 29
    },
    {
     "cell_type": "markdown",
     "metadata": {},
     "source": [
      "Major sites usually provide a public API, so instead of scraping the data (which depending on the site can be even illegal), you can just use their API to interact with the site. After retrieving the data and loading it into Python from a string, you will have a functional Python data structure. For example, let's access the public GitHub API for events and return the usernames of each."
     ]
    },
    {
     "cell_type": "code",
     "collapsed": false,
     "input": [
      "gh_resp = requests.get('https://api.github.com/events')\n",
      "gh = json.loads(gh_resp.text)\n",
      "for event in gh:\n",
      "    print(event[\"actor\"][\"login\"])"
     ],
     "language": "python",
     "metadata": {},
     "outputs": [
      {
       "output_type": "stream",
       "stream": "stdout",
       "text": [
        "SupSaiYaJin\n",
        "mathslinux\n",
        "leyleo\n",
        "nathanchen\n",
        "maxbilbow\n",
        "freepbx-tango\n",
        "fang289040324\n",
        "f0o\n",
        "f0o\n",
        "geekonweb\n",
        "masakyst\n",
        "theemathas\n",
        "pierrejoye\n",
        "Ming-Tang\n",
        "hdl\n",
        "Ming-Tang\n",
        "d-plaindoux\n",
        "snockminder\n",
        "infinitus\n",
        "williamshowalter\n",
        "niranjv\n",
        "Dasharathgoswami\n",
        "mkc188\n",
        "masakyst\n",
        "ciceropablo\n",
        "Dasharathgoswami\n",
        "cngo-github\n",
        "overtrue\n",
        "keyansf\n",
        "jackstine\n"
       ]
      }
     ],
     "prompt_number": 30
    },
    {
     "cell_type": "markdown",
     "metadata": {},
     "source": [
      "<div style=\"font-size: 1em; margin: 1em 0 1em 0; border: 1px solid #86989B; background-color: #f7f7f7; padding: 0;\">\n",
      "<p style=\"margin: 0; padding: 0.1em 0 0.1em 0.5em; color: white; border-bottom: 1px solid #86989B; font-weight: bold; background-color: #AFC1C4;\">\n",
      "Activity\n",
      "</p>\n",
      "<p style=\"margin: 0.5em 1em 0.5em 1em; padding: 0;\">\n",
      "Write a function `wikipedia_entities(url, named_entity)` that receives an `url` from the English Wikipedia and return the frequency of the terms according to `named_entity`. For example, after executing `wikipedia_entities(\"http://en.wikipedia.org/wiki/Iraq_War\", \"GPE\")`, the first 15 results should be.\n",
      "<pre>\n",
      "    Iraq              649\n",
      "    Iraqi             262\n",
      "    U.S.              199\n",
      "    Baghdad            82\n",
      "    United States      73\n",
      "    Iraqis             35\n",
      "    New York Times     35\n",
      "    US                 26\n",
      "    British            22\n",
      "    Iranian            22\n",
      "    American           21\n",
      "    Iran               21\n",
      "    Guardian           20\n",
      "    London             19\n",
      "    Main               15\n",
      "</pre>\n",
      "<!-- <small style=\"float: right; position: relative;\">[Solution](data/solution.py)</small> -->\n",
      "</p>\n",
      "</div>"
     ]
    },
    {
     "cell_type": "heading",
     "level": 2,
     "metadata": {},
     "source": [
      "~~For the [class](class15.ipynb)~~ Next class will be [class 17](class17.ipynb)"
     ]
    },
    {
     "cell_type": "markdown",
     "metadata": {},
     "source": [
      " - Read [Sections 2.1-2.3, from Networks, Crowds, and Markets: Reasoning About a Highly Connected World](https://www.cs.cornell.edu/home/kleinber/networks-book/networks-book-ch02.pdf).\n",
      " - Read [Chapter 3](http://www.cs.berkeley.edu/~vazirani/algorithms/chap3.pdf) and [4](http://www.cs.berkeley.edu/~vazirani/algorithms/chap4.pdf), from Algorithms."
     ]
    }
   ],
   "metadata": {}
  }
 ]
}