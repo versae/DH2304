{
 "metadata": {
  "name": "",
  "signature": "sha256:90042d7135039beb7d9d04512f5d53fc31522ae69f7270c82ec08fb6bd2bd579"
 },
 "nbformat": 3,
 "nbformat_minor": 0,
 "worksheets": [
  {
   "cells": [
    {
     "cell_type": "markdown",
     "metadata": {},
     "source": [
      "<div align=\"center\">\n",
      "<h1>[Data, the Humanist's New Best Friend](index.ipynb)<br/>*Assignment 2*<br/>Apple Keynote Perception</h1>\n",
      "</div>"
     ]
    },
    {
     "cell_type": "markdown",
     "metadata": {},
     "source": [
      "On March 9th, Apple revealed its new series of products. That included the price for the long time awaited Apple watch, as well as the new MacBook.\n",
      "\n",
      "In this assignment you will explore 10k tweets from Twitter's firehose that were collected shortly after the announcement and captures interesting data within moments of announcements for analysis.\n",
      "\n",
      "<br />\n",
      "<div align=\"center\">\n",
      "<img src=\"images/fans.jpg\" width=\"400\">\n",
      "*Fanboys be like...*\n",
      "</div>\n",
      "\n",
      "\n",
      "The goal will be to better understand the *twitter reaction* to Apple's announcements.\n",
      "\n",
      "\n",
      "Assignment\n",
      "----------\n",
      "\n",
      "**Your mission will be to complete the Python code in the cells below and execute it until the output looks similar or identical to the output shown.** I would recommend to use a temporary notebook to work with the dataset, and when the code is ready and producing the expected output, copypaste it to this notebook. Once is done and validated, just copy the file elsewhere, as the notebook will be the only file to be sent for evaluation. Of course, everything starts by downloading this [notebook](https://raw.githubusercontent.com/versae/DH2304/master/assignment2.ipynb).\n",
      "\n",
      "<div align=\"center\">\n",
      "<img src=\"images/assignment2.jpg\" width=\"400\">\n",
      "*No tests here, but put some work into the assignments!*\n",
      "</div>\n",
      "\n",
      "Deadline\n",
      "--------\n",
      "**March $20^{th}$.**\n",
      "\n",
      "Data\n",
      "----\n",
      "Twitter is an ideal source of data that can help you understand the reaction to newsworthy events, because it has more than 200M active monthly users who tend to use it to frequently share short informal thoughts about anything and everything. Although Twitter offers a Search API that can be used to query for \"historical data\", tapping into the firehose with the Streaming API is a preferred option because it provides you the ability to acquire much larger volumes of data with keyword filters in real-time.\n",
      "\n",
      "<!--\n",
      "There are numerous options for storing the data that you acquire from the firehose. A document-oriented database such as <a href=\"http://www.mongodb.org/\">MongoDB</a> makes a fine choice and can provide useful APIs for filtering and analysis. However, we'll opt to simply store the tweets that we fetch from the firehose in a newline-delimited text file.\n",
      "-->"
     ]
    },
    {
     "cell_type": "markdown",
     "metadata": {},
     "source": [
      "We will be using the `twitter` package that trivializes the process of tapping into Twitter's Streaming API for easily capturing tweets from the firehose.\n",
      "\n",
      "    $ pip install twitter\n",
      "   \n",
      "Or if running Anaconda:\n",
      "\n",
      "    $ conda install twitter"
     ]
    },
    {
     "cell_type": "heading",
     "level": 3,
     "metadata": {},
     "source": [
      "Tapping Twitter's Firehose"
     ]
    },
    {
     "cell_type": "markdown",
     "metadata": {},
     "source": [
      "It's a lot easier to tap into Twitter's firehose than you might imagine if you're using the right library. The code below show you how to create a connection to <a href=\"https://dev.twitter.com/docs/streaming-apis\">Twitter's Streaming API</a> and filter the firehose for tweets containing keywords.\n",
      "\n",
      "The next function makes a seach of the query term `query` using the Streaming API, and waits until receive 10 results before ending."
     ]
    },
    {
     "cell_type": "code",
     "collapsed": false,
     "input": [
      "# Nothing to change in this cell\n",
      "import os\n",
      "import twitter\n",
      "# XXX: Go to http://twitter.com/apps/new to create an app and get values\n",
      "# for these credentials that you'll need to provide in place of these\n",
      "# empty string values that are defined as placeholders.\n",
      "#\n",
      "# See https://vimeo.com/79220146 for a short video that steps you\n",
      "# through this process\n",
      "CONSUMER_KEY = os.environ.get(\"CONSUMER_KEY\", \"\")\n",
      "CONSUMER_SECRET = os.environ.get(\"CONSUMER_SECRET\", \"\")\n",
      "OAUTH_TOKEN = os.env.environ(\"OAUTH_TOKEN\", \"\")\n",
      "OAUTH_TOKEN_SECRET = os.environ.get(\"OAUTH_TOKEN_SECRET\", \"\")\n",
      "\n",
      "def print_tweets(query, limit=10):\n",
      "    # Authenticate to Twitter with OAuth\n",
      "    auth = twitter.oauth.OAuth(OAUTH_TOKEN, OAUTH_TOKEN_SECRET,\n",
      "                               CONSUMER_KEY, CONSUMER_SECRET)\n",
      "\n",
      "    # Create a connection to the Streaming API\n",
      "    twitter_stream = twitter.TwitterStream(auth=auth)\n",
      "    print('Filtering the public timeline for \"{0}\"'.format(query))\n",
      "\n",
      "    stream = twitter_stream.statuses.filter(track=query)\n",
      "    # Write one tweet per line as a JSON document.\n",
      "    cont = 0\n",
      "    for tweet in stream:\n",
      "        print(tweet['text'])\n",
      "        if cont >= limit:\n",
      "            break\n",
      "        else:\n",
      "            cont += 1"
     ],
     "language": "python",
     "metadata": {},
     "outputs": [],
     "prompt_number": 1
    },
    {
     "cell_type": "code",
     "collapsed": false,
     "input": [
      "# Nothing to change in this cell\n",
      "print_tweets(\"Apple Watch, Apple Keynote, Apple MacBook\")"
     ],
     "language": "python",
     "metadata": {},
     "outputs": [
      {
       "output_type": "stream",
       "stream": "stdout",
       "text": [
        "Filtering the public timeline for \"Apple Watch, Apple Keynote, Apple MacBook\"\n",
        "HHTV PROMO NEWS Hands On With The Apple Watch - \u00a0Apple\u2019s smartwatch was on display again at today\u2019s special Apple ... http://t.co/JKOZ97vhRj"
       ]
      },
      {
       "output_type": "stream",
       "stream": "stdout",
       "text": [
        "\n",
        "RT @Hoodairmed: Hands On With The Apple Watch http://t.co/GknoVy1zLI http://t.co/bbbZisNvRa\n",
        "Hands On With The Apple Watch http://t.co/TzmPKPulqd\n",
        "Will These 2 Stunning Smartwatches Steal Apple Watch's Thunder? - http://t.co/C0IyjitALD.. Related Articles: http://t.co/0yC9xszNjj"
       ]
      },
      {
       "output_type": "stream",
       "stream": "stdout",
       "text": [
        "\n",
        "Apple \u043f\u0440\u0435\u0434\u0441\u0442\u0430\u0432\u0438\u043b\u0430 \u0441\u0430\u043c\u044b\u0439 \u0442\u043e\u043d\u043a\u0438\u0439 Macbook \u0441 Retina-\u0434\u0438\u0441\u043f\u043b\u0435\u0435\u043c\n",
        "Oblig\u00e9 j'ach\u00e8te l'apple watch"
       ]
      },
      {
       "output_type": "stream",
       "stream": "stdout",
       "text": [
        "\n",
        "RT @arden_cho: No thanks apple, last thing I wanna strap to my wrist is an iPhone. Aren't we glued to our phones enough? Real watch: http:/\u2026\n",
        "Donc en gros Apple a pr\u00e9sent\u00e9 le Macbook et non le macbook air et a hauss\u00e9 les prix de tous les Macbook. Super cool \u00e7a\n",
        "HHTV PROMO NEWS What Your Favorite Apps Look Like On Apple Watch (Plus New Ones!) http://t.co/B3Hl1wGxN8\n",
        "I actually want to meet the people who will pay $17,000 for an apple watch. I just want to ask why"
       ]
      },
      {
       "output_type": "stream",
       "stream": "stdout",
       "text": [
        "\n",
        "New post: \"Opinion: One thing Android Wear desperately needs to take from Apple Watch\" http://t.co/gX6pR9SsRf #breaking #news\n"
       ]
      }
     ],
     "prompt_number": 2
    },
    {
     "cell_type": "markdown",
     "metadata": {},
     "source": [
      "Using the function above, we could easily write a program to dump search results into a file by serializing the JSON objects returned by the API. But if you don't feel like downloading now all the tweets, you can always use the [dump with 10k tweets](data/apple_keynote.json) that it is already collected. Each line in the file is just a JSON dump of a tweet as returned by the Streaming API. When properly formatted, they look just like this:\n",
      "\n",
      "        {\n",
      "            \"in_reply_to_status_id\": null,\n",
      "            \"created_at\": \"Mon Mar 09 19:48:05 +0000 2015\",\n",
      "            \"filter_level\": \"low\",\n",
      "            \"geo\": null,\n",
      "            \"place\": null,\n",
      "            \"entities\": {\n",
      "                \"trends\": [],\n",
      "                \"urls\": [{\n",
      "                    \"expanded_url\": \"http://strawpoll.me/3832278/r\",\n",
      "                    \"indices\": [64, 86],\n",
      "                    \"url\": \"http://t.co/ZSdFmZgKi6\",\n",
      "                    \"display_url\": \"strawpoll.me/3832278/r\"\n",
      "                }],\n",
      "                \"hashtags\": [{\n",
      "                    \"text\": \"Apple\",\n",
      "                    \"indices\": [87, 93]\n",
      "                }, {\n",
      "                    \"text\": \"AppleWatch\",\n",
      "                    \"indices\": [94, 105]\n",
      "                }, {\n",
      "                    \"text\": \"Keynote\",\n",
      "                    \"indices\": [106, 114]\n",
      "                }],\n",
      "                \"symbols\": [],\n",
      "                \"user_mentions\": []\n",
      "            },\n",
      "            \"contributors\": null,\n",
      "            \"favorited\": false,\n",
      "            \"retweet_count\": 0,\n",
      "            \"timestamp_ms\": \"1425930485002\",\n",
      "            \"in_reply_to_status_id_str\": null,\n",
      "            \"id\": 575020247423586305,\n",
      "            \"in_reply_to_user_id\": null,\n",
      "            \"user\": {\n",
      "                \"time_zone\": \"Athens\",\n",
      "                \"profile_image_url\": \"http://pbs.twimg.com/profile_images/562968082952368128/0u4u4UmE_normal.jpeg\",\n",
      "                \"created_at\": \"Mon May 14 16:29:41 +0000 2012\",\n",
      "                \"profile_banner_url\": \"https://pbs.twimg.com/profile_banners/580024012/1425304201\",\n",
      "                \"profile_sidebar_fill_color\": \"DDFFCC\",\n",
      "                \"following\": null,\n",
      "                \"profile_background_tile\": false,\n",
      "                \"listed_count\": 14,\n",
      "                \"statuses_count\": 19519,\n",
      "                \"profile_background_image_url_https\": \"https://pbs.twimg.com/profile_background_images/560091394086158337/LDW-IOcI.png\",\n",
      "                \"default_profile\": false,\n",
      "                \"profile_background_color\": \"9AE4E8\",\n",
      "                \"profile_link_color\": \"0084B4\",\n",
      "                \"protected\": false,\n",
      "                \"name\": \"Gared\",\n",
      "                \"favourites_count\": 18424,\n",
      "                \"is_translator\": false,\n",
      "                \"profile_use_background_image\": true,\n",
      "                \"geo_enabled\": true,\n",
      "                \"screen_name\": \"edgard22360\",\n",
      "                \"id\": 580024012,\n",
      "                \"profile_sidebar_border_color\": \"BDDCAD\",\n",
      "                \"url\": \"https://takethisgame.wordpress.com\",\n",
      "                \"lang\": \"fr\",\n",
      "                \"notifications\": null,\n",
      "                \"followers_count\": 1556,\n",
      "                \"default_profile_image\": false,\n",
      "                \"verified\": false,\n",
      "                \"profile_text_color\": \"333333\",\n",
      "                \"utc_offset\": 7200,\n",
      "                \"follow_request_sent\": null,\n",
      "                \"location\": \"Testeur JV pour @TakeThisGame_\",\n",
      "                \"profile_image_url_https\": \"https://pbs.twimg.com/profile_images/562968082952368128/0u4u4UmE_normal.jpeg\",\n",
      "                \"description\": \"GEEK Level 21 // Breton // Nintendo // Sony //Cin\u00e9phile // Apple Addict // Cookie // Futur CM !\",\n",
      "                \"friends_count\": 518,\n",
      "                \"contributors_enabled\": false,\n",
      "                \"id_str\": \"580024012\",\n",
      "                \"profile_background_image_url\": \"http://pbs.twimg.com/profile_background_images/560091394086158337/LDW-IOcI.png\"\n",
      "            },\n",
      "            \"lang\": \"en\",\n",
      "            \"in_reply_to_screen_name\": null,\n",
      "            \"text\": \"Quelle Apple Watch choisiras tu ? // Which one will you choose?\\nhttp://t.co/ZSdFmZgKi6\\n#Apple #AppleWatch #Keynote\",\n",
      "            \"coordinates\": null,\n",
      "            \"possibly_sensitive\": false,\n",
      "            \"source\": \"<a href=\\\"http://twitter.com\\\" rel=\\\"nofollow\\\">Twitter Web Client</a>\",\n",
      "            \"truncated\": false,\n",
      "            \"retweeted\": false,\n",
      "            \"id_str\": \"575020247423586305\",\n",
      "            \"in_reply_to_user_id_str\": null,\n",
      "            \"favorite_count\": 0\n",
      "        } "
     ]
    },
    {
     "cell_type": "markdown",
     "metadata": {},
     "source": [
      "Preparation\n",
      "-----------\n",
      "\n",
      "<div align=\"center\">\n",
      "<img src=\"images/apple_watch_for_everyone.jpg\" width=\"400\">\n",
      "*For everyone!*\n",
      "</div>"
     ]
    },
    {
     "cell_type": "code",
     "collapsed": false,
     "input": [
      "# Nothing to change in this cell\n",
      "%matplotlib inline\n",
      "import pandas as pd\n",
      "import numpy as np\n",
      "import matplotlib.pyplot as plt\n",
      "\n",
      "# Set some options\n",
      "pd.set_option('display.max_columns', 20)\n",
      "pd.set_option('display.max_rows', 25)"
     ],
     "language": "python",
     "metadata": {},
     "outputs": [],
     "prompt_number": 3
    },
    {
     "cell_type": "markdown",
     "metadata": {},
     "source": [
      "Assuming that you've amassed a collection of tweets from the firehose in a line-delimited format, or that you are using the provided dump, one of the easiest ways to load the data into Pandas for analysis is to build a valid JSON array of the tweets."
     ]
    },
    {
     "cell_type": "code",
     "collapsed": false,
     "input": [
      "filename = \"data/twitter_apple.json\"\n",
      "file_line_list = ...\n",
      "\n",
      "data = \"[{0}]\".format(\",\".join(file_line_list))\n",
      "df = pd.read_json(data, orient='records')\n",
      "df.head(3)"
     ],
     "language": "python",
     "metadata": {},
     "outputs": [
      {
       "html": [
        "<div style=\"max-height:1000px;max-width:1500px;overflow:auto;\">\n",
        "<table border=\"1\" class=\"dataframe\">\n",
        "  <thead>\n",
        "    <tr style=\"text-align: right;\">\n",
        "      <th></th>\n",
        "      <th>contributors</th>\n",
        "      <th>coordinates</th>\n",
        "      <th>created_at</th>\n",
        "      <th>entities</th>\n",
        "      <th>extended_entities</th>\n",
        "      <th>favorite_count</th>\n",
        "      <th>favorited</th>\n",
        "      <th>filter_level</th>\n",
        "      <th>geo</th>\n",
        "      <th>id</th>\n",
        "      <th>...</th>\n",
        "      <th>place</th>\n",
        "      <th>possibly_sensitive</th>\n",
        "      <th>retweet_count</th>\n",
        "      <th>retweeted</th>\n",
        "      <th>retweeted_status</th>\n",
        "      <th>source</th>\n",
        "      <th>text</th>\n",
        "      <th>timestamp_ms</th>\n",
        "      <th>truncated</th>\n",
        "      <th>user</th>\n",
        "    </tr>\n",
        "  </thead>\n",
        "  <tbody>\n",
        "    <tr>\n",
        "      <th>0</th>\n",
        "      <td>NaN</td>\n",
        "      <td> None</td>\n",
        "      <td>2015-03-09 21:01:01</td>\n",
        "      <td> {'trends': [], 'urls': [{'expanded_url': 'http...</td>\n",
        "      <td>                                               NaN</td>\n",
        "      <td> 0</td>\n",
        "      <td> 0</td>\n",
        "      <td> low</td>\n",
        "      <td> None</td>\n",
        "      <td> 5.750386e+17</td>\n",
        "      <td>...</td>\n",
        "      <td> None</td>\n",
        "      <td> 0</td>\n",
        "      <td> 0</td>\n",
        "      <td> 0</td>\n",
        "      <td>                                               NaN</td>\n",
        "      <td> &lt;a href=\"http://ifttt.com\" rel=\"nofollow\"&gt;IFTT...</td>\n",
        "      <td> 'Gold On My MacBook' is the perfect rap song f...</td>\n",
        "      <td> 1.425935e+12</td>\n",
        "      <td> 0</td>\n",
        "      <td> {'profile_link_color': '009999', 'contributors...</td>\n",
        "    </tr>\n",
        "    <tr>\n",
        "      <th>1</th>\n",
        "      <td>NaN</td>\n",
        "      <td> None</td>\n",
        "      <td>2015-03-09 21:08:06</td>\n",
        "      <td> {'urls': [], 'symbols': [], 'media': [{'indice...</td>\n",
        "      <td> {'media': [{'indices': [125, 140], 'url': 'htt...</td>\n",
        "      <td> 0</td>\n",
        "      <td> 0</td>\n",
        "      <td> low</td>\n",
        "      <td> None</td>\n",
        "      <td> 5.750404e+17</td>\n",
        "      <td>...</td>\n",
        "      <td> None</td>\n",
        "      <td> 0</td>\n",
        "      <td> 0</td>\n",
        "      <td> 0</td>\n",
        "      <td> {'extended_entities': {'media': [{'id_str': '5...</td>\n",
        "      <td> &lt;a href=\"http://twitter.com/download/android\" ...</td>\n",
        "      <td> RT @MisterC00l: Noyer son Apple Watch en or \u00e0 ...</td>\n",
        "      <td> 1.425935e+12</td>\n",
        "      <td> 0</td>\n",
        "      <td> {'profile_link_color': '0084B4', 'contributors...</td>\n",
        "    </tr>\n",
        "    <tr>\n",
        "      <th>2</th>\n",
        "      <td>NaN</td>\n",
        "      <td> None</td>\n",
        "      <td>2015-03-09 21:21:47</td>\n",
        "      <td> {'urls': [{'expanded_url': 'http://phon.es/ylj...</td>\n",
        "      <td> {'media': [{'indices': [104, 126], 'url': 'htt...</td>\n",
        "      <td> 0</td>\n",
        "      <td> 0</td>\n",
        "      <td> low</td>\n",
        "      <td> None</td>\n",
        "      <td> 5.750438e+17</td>\n",
        "      <td>...</td>\n",
        "      <td> None</td>\n",
        "      <td> 0</td>\n",
        "      <td> 0</td>\n",
        "      <td> 0</td>\n",
        "      <td> {'extended_entities': {'media': [{'id_str': '5...</td>\n",
        "      <td> &lt;a href=\"http://twitter.com/download/android\" ...</td>\n",
        "      <td> RT @androidcentral: Apple's new MacBook cable ...</td>\n",
        "      <td> 1.425936e+12</td>\n",
        "      <td> 0</td>\n",
        "      <td> {'profile_link_color': '0084B4', 'contributors...</td>\n",
        "    </tr>\n",
        "  </tbody>\n",
        "</table>\n",
        "<p>3 rows \u00d7 28 columns</p>\n",
        "</div>"
       ],
       "metadata": {},
       "output_type": "pyout",
       "prompt_number": 4,
       "text": [
        "   contributors coordinates          created_at  \\\n",
        "0           NaN        None 2015-03-09 21:01:01   \n",
        "1           NaN        None 2015-03-09 21:08:06   \n",
        "2           NaN        None 2015-03-09 21:21:47   \n",
        "\n",
        "                                            entities  \\\n",
        "0  {'trends': [], 'urls': [{'expanded_url': 'http...   \n",
        "1  {'urls': [], 'symbols': [], 'media': [{'indice...   \n",
        "2  {'urls': [{'expanded_url': 'http://phon.es/ylj...   \n",
        "\n",
        "                                   extended_entities  favorite_count  \\\n",
        "0                                                NaN               0   \n",
        "1  {'media': [{'indices': [125, 140], 'url': 'htt...               0   \n",
        "2  {'media': [{'indices': [104, 126], 'url': 'htt...               0   \n",
        "\n",
        "   favorited filter_level   geo            id  \\\n",
        "0          0          low  None  5.750386e+17   \n",
        "1          0          low  None  5.750404e+17   \n",
        "2          0          low  None  5.750438e+17   \n",
        "\n",
        "                         ...                          place  \\\n",
        "0                        ...                           None   \n",
        "1                        ...                           None   \n",
        "2                        ...                           None   \n",
        "\n",
        "  possibly_sensitive  retweet_count  retweeted  \\\n",
        "0                  0              0          0   \n",
        "1                  0              0          0   \n",
        "2                  0              0          0   \n",
        "\n",
        "                                    retweeted_status  \\\n",
        "0                                                NaN   \n",
        "1  {'extended_entities': {'media': [{'id_str': '5...   \n",
        "2  {'extended_entities': {'media': [{'id_str': '5...   \n",
        "\n",
        "                                              source  \\\n",
        "0  <a href=\"http://ifttt.com\" rel=\"nofollow\">IFTT...   \n",
        "1  <a href=\"http://twitter.com/download/android\" ...   \n",
        "2  <a href=\"http://twitter.com/download/android\" ...   \n",
        "\n",
        "                                                text  timestamp_ms truncated  \\\n",
        "0  'Gold On My MacBook' is the perfect rap song f...  1.425935e+12         0   \n",
        "1  RT @MisterC00l: Noyer son Apple Watch en or \u00e0 ...  1.425935e+12         0   \n",
        "2  RT @androidcentral: Apple's new MacBook cable ...  1.425936e+12         0   \n",
        "\n",
        "                                                user  \n",
        "0  {'profile_link_color': '009999', 'contributors...  \n",
        "1  {'profile_link_color': '0084B4', 'contributors...  \n",
        "2  {'profile_link_color': '0084B4', 'contributors...  \n",
        "\n",
        "[3 rows x 28 columns]"
       ]
      }
     ],
     "prompt_number": 4
    },
    {
     "cell_type": "markdown",
     "metadata": {},
     "source": [
      "Let's take a look on the columns."
     ]
    },
    {
     "cell_type": "code",
     "collapsed": false,
     "input": [
      "# Nothing to change in this cell\n",
      "df.columns"
     ],
     "language": "python",
     "metadata": {},
     "outputs": [
      {
       "metadata": {},
       "output_type": "pyout",
       "prompt_number": 5,
       "text": [
        "Index(['contributors', 'coordinates', 'created_at', 'entities', 'extended_entities', 'favorite_count', 'favorited', 'filter_level', 'geo', 'id', 'id_str', 'in_reply_to_screen_name', 'in_reply_to_status_id', 'in_reply_to_status_id_str', 'in_reply_to_user_id', 'in_reply_to_user_id_str', 'lang', 'limit', 'place', 'possibly_sensitive', 'retweet_count', 'retweeted', 'retweeted_status', 'source', 'text', 'timestamp_ms', 'truncated', 'user'], dtype='object')"
       ]
      }
     ],
     "prompt_number": 5
    },
    {
     "cell_type": "markdown",
     "metadata": {},
     "source": [
      "The null values in this collection of tweets are caused by \"limit notices\", which Twitter sends to tell you that you're being rate-limited. Let's count how many rows have been rate-limited."
     ]
    },
    {
     "cell_type": "code",
     "collapsed": false,
     "input": [
      "df[...].limit..."
     ],
     "language": "python",
     "metadata": {},
     "outputs": [
      {
       "metadata": {},
       "output_type": "pyout",
       "prompt_number": 6,
       "text": [
        "15"
       ]
      }
     ],
     "prompt_number": 6
    },
    {
     "cell_type": "markdown",
     "metadata": {},
     "source": [
      "This indicates that we received 15 limit notices and means that there are effectively 15 \"rows\" in our data frame that have null values for all of the fields we'd have expected to see.\n",
      "\n",
      "Per the Streaming API guidelines, Twitter will only provide up to 1% of the total volume of the firehose, and anything beyond that is filtered out with each \"limit notice\" telling you how many tweets were filtered out. This means that tweets containing `\"Apple Watch, Apple Keynote, Apple MacBook\"` accounted for at least 1% of the total tweet volume at the time this data was being collected."
     ]
    },
    {
     "cell_type": "markdown",
     "metadata": {},
     "source": [
      "Analysis\n",
      "--------"
     ]
    },
    {
     "cell_type": "markdown",
     "metadata": {},
     "source": [
      "In order to calculate exactly how many tweets were filtered out across the aggregate, we need to \"pop\" off the column containing the 15 limit notices and sum up the totals across these limit notices. But first, let's capture the limit notices by indexing into the data frame for non-null fields contained in \"limit\"."
     ]
    },
    {
     "cell_type": "code",
     "collapsed": false,
     "input": [
      "limit_notices = df[...]\n",
      "limit_notices.limit.head(3)"
     ],
     "language": "python",
     "metadata": {},
     "outputs": [
      {
       "metadata": {},
       "output_type": "pyout",
       "prompt_number": 7,
       "text": [
        "1284    {'track': 40}\n",
        "2878     {'track': 1}\n",
        "2899     {'track': 9}\n",
        "Name: limit, dtype: object"
       ]
      }
     ],
     "prompt_number": 7
    },
    {
     "cell_type": "markdown",
     "metadata": {},
     "source": [
      "Now we can remove the limit notice column from the `DataFrame` entirely by filtering out those rows with a null value in the column `id`."
     ]
    },
    {
     "cell_type": "code",
     "collapsed": false,
     "input": [
      "df = df[...]\n",
      "df.limit.mean()"
     ],
     "language": "python",
     "metadata": {},
     "outputs": [
      {
       "metadata": {},
       "output_type": "pyout",
       "prompt_number": 8,
       "text": [
        "nan"
       ]
      }
     ],
     "prompt_number": 8
    },
    {
     "cell_type": "markdown",
     "metadata": {},
     "source": [
      "Something special about our `DataFrame` is that some cells contain dictionaries instead of regular values. For example, for those requests that received the rate limitation, a dicitonary with a key `track` and the number of tweets rate-limited as a value."
     ]
    },
    {
     "cell_type": "code",
     "collapsed": false,
     "input": [
      "# Nothing to change in this cell\n",
      "limit_notices.limit"
     ],
     "language": "python",
     "metadata": {},
     "outputs": [
      {
       "metadata": {},
       "output_type": "pyout",
       "prompt_number": 9,
       "text": [
        "1284    {'track': 40}\n",
        "2878     {'track': 1}\n",
        "2899     {'track': 9}\n",
        "4694     {'track': 7}\n",
        "4714     {'track': 6}\n",
        "6176    {'track': 10}\n",
        "6314    {'track': 15}\n",
        "6493    {'track': 11}\n",
        "7023     {'track': 5}\n",
        "7483    {'track': 19}\n",
        "8000     {'track': 3}\n",
        "8153     {'track': 6}\n",
        "8552     {'track': 1}\n",
        "9457     {'track': 4}\n",
        "9557    {'track': 21}\n",
        "Name: limit, dtype: object"
       ]
      }
     ],
     "prompt_number": 9
    },
    {
     "cell_type": "markdown",
     "metadata": {},
     "source": [
      "Therefore, to calculate the number of tweets that were rate-limited we need to sum up all the values of the dicionaries. Another way to do this is extracting the value of the key `track` into a new column, or even overriding the `limit` column to perform a regular aggregate."
     ]
    },
    {
     "cell_type": "code",
     "collapsed": false,
     "input": [
      "rate_limited_tweets = limit_notices.limit.apply(...)...\n",
      "print(\"Number of total tweets that were rate-limited\", rate_limited_tweets)\n",
      "\n",
      "total_notices = ...\n",
      "print(\"Total number of limit notices\", total_notices)"
     ],
     "language": "python",
     "metadata": {},
     "outputs": [
      {
       "output_type": "stream",
       "stream": "stdout",
       "text": [
        "Number of total tweets that were rate-limited 158\n",
        "Total number of limit notices 15\n"
       ]
      }
     ],
     "prompt_number": 10
    },
    {
     "cell_type": "markdown",
     "metadata": {},
     "source": [
      "From this output, we can observe that 158 tweets were not provided out of ~10k, more than 99% of the tweets about `\"Apple Watch, Apple Keynote, Apple MacBook\"` were received for the time period that they were being captured. In order to learn more about the bounds of that time period, let's create a time-based index on the `created_at` field of each tweet so that we can perform a time-based analysis."
     ]
    },
    {
     "cell_type": "code",
     "collapsed": false,
     "input": [
      "# Nothing to change\n",
      "df.set_index('created_at', drop=False, inplace=True)"
     ],
     "language": "python",
     "metadata": {},
     "outputs": [],
     "prompt_number": 11
    },
    {
     "cell_type": "markdown",
     "metadata": {},
     "source": [
      "With a time-based index now in place, we can trivially do some useful things like calculate the boundaries, compute histograms, etc.\n",
      "\n",
      "Let's see the first and last tweet collected."
     ]
    },
    {
     "cell_type": "code",
     "collapsed": false,
     "input": [
      "df.sort(..., inplace=True)\n",
      "print(\"First tweet timestamp (UTC)\", ...)\n",
      "print(\"Last tweet timestamp (UTC) \", ...)"
     ],
     "language": "python",
     "metadata": {},
     "outputs": [
      {
       "output_type": "stream",
       "stream": "stdout",
       "text": [
        "First tweet timestamp (UTC) 2015-03-09 21:00:45\n",
        "Last tweet timestamp (UTC)  2015-03-09 21:34:39\n"
       ]
      }
     ],
     "prompt_number": 12
    },
    {
     "cell_type": "markdown",
     "metadata": {},
     "source": [
      "It would be probably better to have a wider range of tweets, but there was such a busy time that in a bit more than half an hour we collected 10k tweets. Let's group by minute, calculate the average number of tweets per minute and plot the results."
     ]
    },
    {
     "cell_type": "code",
     "collapsed": false,
     "input": [
      "grouped = df.groupby(...).aggregate(...) # you need to figure out how to group by minute in the index\n",
      "tweets_minute = grouped[[\"text\"]]\n",
      "tweets_minute"
     ],
     "language": "python",
     "metadata": {},
     "outputs": [
      {
       "html": [
        "<div style=\"max-height:1000px;max-width:1500px;overflow:auto;\">\n",
        "<table border=\"1\" class=\"dataframe\">\n",
        "  <thead>\n",
        "    <tr style=\"text-align: right;\">\n",
        "      <th></th>\n",
        "      <th>text</th>\n",
        "    </tr>\n",
        "  </thead>\n",
        "  <tbody>\n",
        "    <tr>\n",
        "      <th>0 </th>\n",
        "      <td> 127</td>\n",
        "    </tr>\n",
        "    <tr>\n",
        "      <th>1 </th>\n",
        "      <td> 573</td>\n",
        "    </tr>\n",
        "    <tr>\n",
        "      <th>2 </th>\n",
        "      <td> 545</td>\n",
        "    </tr>\n",
        "    <tr>\n",
        "      <th>3 </th>\n",
        "      <td> 556</td>\n",
        "    </tr>\n",
        "    <tr>\n",
        "      <th>4 </th>\n",
        "      <td> 495</td>\n",
        "    </tr>\n",
        "    <tr>\n",
        "      <th>5 </th>\n",
        "      <td> 444</td>\n",
        "    </tr>\n",
        "    <tr>\n",
        "      <th>6 </th>\n",
        "      <td> 471</td>\n",
        "    </tr>\n",
        "    <tr>\n",
        "      <th>7 </th>\n",
        "      <td> 492</td>\n",
        "    </tr>\n",
        "    <tr>\n",
        "      <th>8 </th>\n",
        "      <td> 324</td>\n",
        "    </tr>\n",
        "    <tr>\n",
        "      <th>19</th>\n",
        "      <td> 199</td>\n",
        "    </tr>\n",
        "    <tr>\n",
        "      <th>20</th>\n",
        "      <td> 386</td>\n",
        "    </tr>\n",
        "    <tr>\n",
        "      <th>21</th>\n",
        "      <td> 397</td>\n",
        "    </tr>\n",
        "    <tr>\n",
        "      <th>22</th>\n",
        "      <td> 414</td>\n",
        "    </tr>\n",
        "    <tr>\n",
        "      <th>23</th>\n",
        "      <td> 395</td>\n",
        "    </tr>\n",
        "    <tr>\n",
        "      <th>24</th>\n",
        "      <td> 401</td>\n",
        "    </tr>\n",
        "    <tr>\n",
        "      <th>25</th>\n",
        "      <td> 355</td>\n",
        "    </tr>\n",
        "    <tr>\n",
        "      <th>26</th>\n",
        "      <td> 286</td>\n",
        "    </tr>\n",
        "    <tr>\n",
        "      <th>27</th>\n",
        "      <td> 387</td>\n",
        "    </tr>\n",
        "    <tr>\n",
        "      <th>28</th>\n",
        "      <td> 385</td>\n",
        "    </tr>\n",
        "    <tr>\n",
        "      <th>29</th>\n",
        "      <td> 363</td>\n",
        "    </tr>\n",
        "    <tr>\n",
        "      <th>30</th>\n",
        "      <td> 455</td>\n",
        "    </tr>\n",
        "    <tr>\n",
        "      <th>31</th>\n",
        "      <td> 397</td>\n",
        "    </tr>\n",
        "    <tr>\n",
        "      <th>32</th>\n",
        "      <td> 417</td>\n",
        "    </tr>\n",
        "    <tr>\n",
        "      <th>33</th>\n",
        "      <td> 420</td>\n",
        "    </tr>\n",
        "    <tr>\n",
        "      <th>34</th>\n",
        "      <td> 301</td>\n",
        "    </tr>\n",
        "  </tbody>\n",
        "</table>\n",
        "</div>"
       ],
       "metadata": {},
       "output_type": "pyout",
       "prompt_number": 13,
       "text": [
        "    text\n",
        "0    127\n",
        "1    573\n",
        "2    545\n",
        "3    556\n",
        "4    495\n",
        "5    444\n",
        "6    471\n",
        "7    492\n",
        "8    324\n",
        "19   199\n",
        "20   386\n",
        "21   397\n",
        "22   414\n",
        "23   395\n",
        "24   401\n",
        "25   355\n",
        "26   286\n",
        "27   387\n",
        "28   385\n",
        "29   363\n",
        "30   455\n",
        "31   397\n",
        "32   417\n",
        "33   420\n",
        "34   301"
       ]
      }
     ],
     "prompt_number": 13
    },
    {
     "cell_type": "code",
     "collapsed": false,
     "input": [
      "tweets_per_minute = ...\n",
      "print(\"Average number of tweets per minute:\", tweets_per_minute)\n",
      "print(\"Average number of tweets per second:\", tweets_per_minute / 60)"
     ],
     "language": "python",
     "metadata": {},
     "outputs": [
      {
       "output_type": "stream",
       "stream": "stdout",
       "text": [
        "Average number of tweets per minute: 399.4\n",
        "Average number of tweets per second: 6.65666666667\n"
       ]
      }
     ],
     "prompt_number": 14
    },
    {
     "cell_type": "markdown",
     "metadata": {},
     "source": [
      "Every second, on average, around 6,000 tweets are tweeted on Twitter. That roughly means that during the time we collected our data, Apple Keynote took over ~0.1% of all tweets produced. Seen that way it might not be seem like a lot, but 1 message out of 1000 produced in the world was about Apple or their products.\n",
      "\n",
      "Let's plot a histogram of the number of tweets per minute."
     ]
    },
    {
     "cell_type": "code",
     "collapsed": false,
     "input": [
      "ax = ...plot(kind=\"bar\", grid=False, figsize=(12, 4))\n",
      "ax.set_xticklabels(tweets_minute.index, rotation=0)\n",
      "ax.set_ylabel(...)\n",
      "ax.set_xlabel(...)\n",
      "ax.set_title(...)"
     ],
     "language": "python",
     "metadata": {},
     "outputs": [
      {
       "metadata": {},
       "output_type": "pyout",
       "prompt_number": 15,
       "text": [
        "<matplotlib.text.Text at 0x7fcbb6962320>"
       ]
      },
      {
       "metadata": {},
       "output_type": "display_data",
       "png": "[encoded data removed]",
       "text": [
        "<matplotlib.figure.Figure at 0x7fcbb69d7320>"
       ]
      }
     ],
     "prompt_number": 15
    },
    {
     "cell_type": "markdown",
     "metadata": {},
     "source": [
      "If we had collected the data during a whole day, that would make much more interesting a time-series analysis, as we could see how the information got viral or not across time. But with only half an hour, there is no much more we can do. Furthermore, process all the tweets in a period of 24 hourse is way more demaning that \"only\" 10k.\n",
      "\n",
      "Let's now compute the Twitter accounts that authored the most tweets and compare it to the total number of unique accounts that appeared. First we need to extract the column `user`, containing a dictionary per cell, and create a `DataFrame` out of that by convertinf eac cell into a `Series`."
     ]
    },
    {
     "cell_type": "code",
     "collapsed": false,
     "input": [
      "# Nothing to change in this cell\n",
      "users = df.user.apply(pd.Series)\n",
      "users.head(3)"
     ],
     "language": "python",
     "metadata": {},
     "outputs": [
      {
       "html": [
        "<div style=\"max-height:1000px;max-width:1500px;overflow:auto;\">\n",
        "<table border=\"1\" class=\"dataframe\">\n",
        "  <thead>\n",
        "    <tr style=\"text-align: right;\">\n",
        "      <th></th>\n",
        "      <th>contributors_enabled</th>\n",
        "      <th>created_at</th>\n",
        "      <th>default_profile</th>\n",
        "      <th>default_profile_image</th>\n",
        "      <th>description</th>\n",
        "      <th>favourites_count</th>\n",
        "      <th>follow_request_sent</th>\n",
        "      <th>followers_count</th>\n",
        "      <th>following</th>\n",
        "      <th>friends_count</th>\n",
        "      <th>...</th>\n",
        "      <th>profile_sidebar_fill_color</th>\n",
        "      <th>profile_text_color</th>\n",
        "      <th>profile_use_background_image</th>\n",
        "      <th>protected</th>\n",
        "      <th>screen_name</th>\n",
        "      <th>statuses_count</th>\n",
        "      <th>time_zone</th>\n",
        "      <th>url</th>\n",
        "      <th>utc_offset</th>\n",
        "      <th>verified</th>\n",
        "    </tr>\n",
        "    <tr>\n",
        "      <th>created_at</th>\n",
        "      <th></th>\n",
        "      <th></th>\n",
        "      <th></th>\n",
        "      <th></th>\n",
        "      <th></th>\n",
        "      <th></th>\n",
        "      <th></th>\n",
        "      <th></th>\n",
        "      <th></th>\n",
        "      <th></th>\n",
        "      <th></th>\n",
        "      <th></th>\n",
        "      <th></th>\n",
        "      <th></th>\n",
        "      <th></th>\n",
        "      <th></th>\n",
        "      <th></th>\n",
        "      <th></th>\n",
        "      <th></th>\n",
        "      <th></th>\n",
        "      <th></th>\n",
        "    </tr>\n",
        "  </thead>\n",
        "  <tbody>\n",
        "    <tr>\n",
        "      <th>2015-03-09 21:00:45</th>\n",
        "      <td> False</td>\n",
        "      <td> Thu Jun 04 20:59:45 +0000 2009</td>\n",
        "      <td>  True</td>\n",
        "      <td> False</td>\n",
        "      <td> Realzalea bihotzez, software librea filosofiaz...</td>\n",
        "      <td>   94</td>\n",
        "      <td> None</td>\n",
        "      <td> 100</td>\n",
        "      <td> None</td>\n",
        "      <td>  81</td>\n",
        "      <td>...</td>\n",
        "      <td> DDEEF6</td>\n",
        "      <td> 333333</td>\n",
        "      <td> True</td>\n",
        "      <td> False</td>\n",
        "      <td> kristiansanz</td>\n",
        "      <td>  2619</td>\n",
        "      <td> Madrid</td>\n",
        "      <td>                      None</td>\n",
        "      <td> 3600</td>\n",
        "      <td> False</td>\n",
        "    </tr>\n",
        "    <tr>\n",
        "      <th>2015-03-09 21:00:45</th>\n",
        "      <td> False</td>\n",
        "      <td> Fri Aug 14 17:12:23 +0000 2009</td>\n",
        "      <td> False</td>\n",
        "      <td> False</td>\n",
        "      <td> Sp\u00e9cialiste dans le d\u00e9veloppement et le r\u00e9f\u00e9re...</td>\n",
        "      <td>   18</td>\n",
        "      <td> None</td>\n",
        "      <td> 184</td>\n",
        "      <td> None</td>\n",
        "      <td> 131</td>\n",
        "      <td>...</td>\n",
        "      <td> ACACAC</td>\n",
        "      <td> 000000</td>\n",
        "      <td> True</td>\n",
        "      <td> False</td>\n",
        "      <td>   sudmedia66</td>\n",
        "      <td> 50127</td>\n",
        "      <td>  Paris</td>\n",
        "      <td> http://www.sud-media66.fr</td>\n",
        "      <td> 3600</td>\n",
        "      <td> False</td>\n",
        "    </tr>\n",
        "    <tr>\n",
        "      <th>2015-03-09 21:00:45</th>\n",
        "      <td> False</td>\n",
        "      <td> Sat Jan 22 18:47:53 +0000 2011</td>\n",
        "      <td> False</td>\n",
        "      <td> False</td>\n",
        "      <td>                                              None</td>\n",
        "      <td> 2413</td>\n",
        "      <td> None</td>\n",
        "      <td> 130</td>\n",
        "      <td> None</td>\n",
        "      <td> 168</td>\n",
        "      <td>...</td>\n",
        "      <td> DDEEF6</td>\n",
        "      <td> 333333</td>\n",
        "      <td> True</td>\n",
        "      <td> False</td>\n",
        "      <td>   ssantoss93</td>\n",
        "      <td> 11073</td>\n",
        "      <td> Madrid</td>\n",
        "      <td>                      None</td>\n",
        "      <td> 3600</td>\n",
        "      <td> False</td>\n",
        "    </tr>\n",
        "  </tbody>\n",
        "</table>\n",
        "<p>3 rows \u00d7 38 columns</p>\n",
        "</div>"
       ],
       "metadata": {},
       "output_type": "pyout",
       "prompt_number": 16,
       "text": [
        "                    contributors_enabled                      created_at  \\\n",
        "created_at                                                                 \n",
        "2015-03-09 21:00:45                False  Thu Jun 04 20:59:45 +0000 2009   \n",
        "2015-03-09 21:00:45                False  Fri Aug 14 17:12:23 +0000 2009   \n",
        "2015-03-09 21:00:45                False  Sat Jan 22 18:47:53 +0000 2011   \n",
        "\n",
        "                    default_profile default_profile_image  \\\n",
        "created_at                                                  \n",
        "2015-03-09 21:00:45            True                 False   \n",
        "2015-03-09 21:00:45           False                 False   \n",
        "2015-03-09 21:00:45           False                 False   \n",
        "\n",
        "                                                           description  \\\n",
        "created_at                                                               \n",
        "2015-03-09 21:00:45  Realzalea bihotzez, software librea filosofiaz...   \n",
        "2015-03-09 21:00:45  Sp\u00e9cialiste dans le d\u00e9veloppement et le r\u00e9f\u00e9re...   \n",
        "2015-03-09 21:00:45                                               None   \n",
        "\n",
        "                     favourites_count follow_request_sent  followers_count  \\\n",
        "created_at                                                                   \n",
        "2015-03-09 21:00:45                94                None              100   \n",
        "2015-03-09 21:00:45                18                None              184   \n",
        "2015-03-09 21:00:45              2413                None              130   \n",
        "\n",
        "                    following  friends_count   ...     \\\n",
        "created_at                                     ...      \n",
        "2015-03-09 21:00:45      None             81   ...      \n",
        "2015-03-09 21:00:45      None            131   ...      \n",
        "2015-03-09 21:00:45      None            168   ...      \n",
        "\n",
        "                    profile_sidebar_fill_color  profile_text_color  \\\n",
        "created_at                                                           \n",
        "2015-03-09 21:00:45                     DDEEF6              333333   \n",
        "2015-03-09 21:00:45                     ACACAC              000000   \n",
        "2015-03-09 21:00:45                     DDEEF6              333333   \n",
        "\n",
        "                    profile_use_background_image protected   screen_name  \\\n",
        "created_at                                                                 \n",
        "2015-03-09 21:00:45                         True     False  kristiansanz   \n",
        "2015-03-09 21:00:45                         True     False    sudmedia66   \n",
        "2015-03-09 21:00:45                         True     False    ssantoss93   \n",
        "\n",
        "                     statuses_count time_zone                        url  \\\n",
        "created_at                                                                 \n",
        "2015-03-09 21:00:45            2619    Madrid                       None   \n",
        "2015-03-09 21:00:45           50127     Paris  http://www.sud-media66.fr   \n",
        "2015-03-09 21:00:45           11073    Madrid                       None   \n",
        "\n",
        "                    utc_offset verified  \n",
        "created_at                               \n",
        "2015-03-09 21:00:45       3600    False  \n",
        "2015-03-09 21:00:45       3600    False  \n",
        "2015-03-09 21:00:45       3600    False  \n",
        "\n",
        "[3 rows x 38 columns]"
       ]
      }
     ],
     "prompt_number": 16
    },
    {
     "cell_type": "markdown",
     "metadata": {},
     "source": [
      "Now we can count how many tweets per author there are and return the 25 more active (with more tweets)."
     ]
    },
    {
     "cell_type": "code",
     "collapsed": false,
     "input": [
      "authors_counts = users.groupby(...)...aggregate...\n",
      "authors_counts.rename(columns=..., inplace=True)\n",
      "authors_counts.sort(..., ..., inplace=True)\n",
      "authors_counts[:25]"
     ],
     "language": "python",
     "metadata": {},
     "outputs": [
      {
       "html": [
        "<div style=\"max-height:1000px;max-width:1500px;overflow:auto;\">\n",
        "<table border=\"1\" class=\"dataframe\">\n",
        "  <thead>\n",
        "    <tr style=\"text-align: right;\">\n",
        "      <th></th>\n",
        "      <th>tweets</th>\n",
        "    </tr>\n",
        "    <tr>\n",
        "      <th>screen_name</th>\n",
        "      <th></th>\n",
        "    </tr>\n",
        "  </thead>\n",
        "  <tbody>\n",
        "    <tr>\n",
        "      <th>asdplayer55</th>\n",
        "      <td> 21</td>\n",
        "    </tr>\n",
        "    <tr>\n",
        "      <th>iphone_np</th>\n",
        "      <td> 13</td>\n",
        "    </tr>\n",
        "    <tr>\n",
        "      <th>lexinerus</th>\n",
        "      <td> 11</td>\n",
        "    </tr>\n",
        "    <tr>\n",
        "      <th>WhinyAppleWatch</th>\n",
        "      <td> 10</td>\n",
        "    </tr>\n",
        "    <tr>\n",
        "      <th>niftytech_news</th>\n",
        "      <td> 10</td>\n",
        "    </tr>\n",
        "    <tr>\n",
        "      <th>world_latest</th>\n",
        "      <td>  9</td>\n",
        "    </tr>\n",
        "    <tr>\n",
        "      <th>JapanTechFeeds</th>\n",
        "      <td>  8</td>\n",
        "    </tr>\n",
        "    <tr>\n",
        "      <th>asdplayer42</th>\n",
        "      <td>  8</td>\n",
        "    </tr>\n",
        "    <tr>\n",
        "      <th>technews_today</th>\n",
        "      <td>  8</td>\n",
        "    </tr>\n",
        "    <tr>\n",
        "      <th>thinkb4talk07</th>\n",
        "      <td>  8</td>\n",
        "    </tr>\n",
        "    <tr>\n",
        "      <th>gachinko2</th>\n",
        "      <td>  8</td>\n",
        "    </tr>\n",
        "    <tr>\n",
        "      <th>smartclinic56</th>\n",
        "      <td>  8</td>\n",
        "    </tr>\n",
        "    <tr>\n",
        "      <th>anghel30637137</th>\n",
        "      <td>  7</td>\n",
        "    </tr>\n",
        "    <tr>\n",
        "      <th>sonuise</th>\n",
        "      <td>  7</td>\n",
        "    </tr>\n",
        "    <tr>\n",
        "      <th>GET2GETHERKIM</th>\n",
        "      <td>  7</td>\n",
        "    </tr>\n",
        "    <tr>\n",
        "      <th>iStantApple</th>\n",
        "      <td>  7</td>\n",
        "    </tr>\n",
        "    <tr>\n",
        "      <th>aohhAREEYA</th>\n",
        "      <td>  6</td>\n",
        "    </tr>\n",
        "    <tr>\n",
        "      <th>ios7italia</th>\n",
        "      <td>  6</td>\n",
        "    </tr>\n",
        "    <tr>\n",
        "      <th>MetroPcTechs</th>\n",
        "      <td>  6</td>\n",
        "    </tr>\n",
        "    <tr>\n",
        "      <th>Goem9</th>\n",
        "      <td>  6</td>\n",
        "    </tr>\n",
        "    <tr>\n",
        "      <th>HerodenMark</th>\n",
        "      <td>  6</td>\n",
        "    </tr>\n",
        "    <tr>\n",
        "      <th>LinkBuilding7</th>\n",
        "      <td>  6</td>\n",
        "    </tr>\n",
        "    <tr>\n",
        "      <th>SquireStocks</th>\n",
        "      <td>  6</td>\n",
        "    </tr>\n",
        "    <tr>\n",
        "      <th>Elia_Hicks</th>\n",
        "      <td>  5</td>\n",
        "    </tr>\n",
        "    <tr>\n",
        "      <th>matematikogreni</th>\n",
        "      <td>  5</td>\n",
        "    </tr>\n",
        "  </tbody>\n",
        "</table>\n",
        "</div>"
       ],
       "metadata": {},
       "output_type": "pyout",
       "prompt_number": 17,
       "text": [
        "                 tweets\n",
        "screen_name            \n",
        "asdplayer55          21\n",
        "iphone_np            13\n",
        "lexinerus            11\n",
        "WhinyAppleWatch      10\n",
        "niftytech_news       10\n",
        "world_latest          9\n",
        "JapanTechFeeds        8\n",
        "asdplayer42           8\n",
        "technews_today        8\n",
        "thinkb4talk07         8\n",
        "gachinko2             8\n",
        "smartclinic56         8\n",
        "anghel30637137        7\n",
        "sonuise               7\n",
        "GET2GETHERKIM         7\n",
        "iStantApple           7\n",
        "aohhAREEYA            6\n",
        "ios7italia            6\n",
        "MetroPcTechs          6\n",
        "Goem9                 6\n",
        "HerodenMark           6\n",
        "LinkBuilding7         6\n",
        "SquireStocks          6\n",
        "Elia_Hicks            5\n",
        "matematikogreni       5"
       ]
      }
     ],
     "prompt_number": 17
    },
    {
     "cell_type": "markdown",
     "metadata": {},
     "source": [
      "And also count unique authors."
     ]
    },
    {
     "cell_type": "code",
     "collapsed": false,
     "input": [
      "num_unique_authors = ...\n",
      "print(\"There are {0} unique authors out of {1} tweets\".format(num_unique_authors, ...))"
     ],
     "language": "python",
     "metadata": {},
     "outputs": [
      {
       "output_type": "stream",
       "stream": "stdout",
       "text": [
        "There are 8535 unique authors out of 9985 tweets\n"
       ]
      }
     ],
     "prompt_number": 18
    },
    {
     "cell_type": "markdown",
     "metadata": {},
     "source": [
      "Visualizations\n",
      "--------------\n",
      "\n",
      "<div align=\"center\">\n",
      "<img src=\"images/dawson.jpg\" width=\"400\">\n",
      "*Oh, Dawson, only you.*\n",
      "</div>\n",
      "\n",
      "\n",
      "Now we need to get a better intution about the underlying distrubution of tweets and authors, so let's take a quick look at a frequency plot and histogram. We'll use logarithmic adjustments in both cases."
     ]
    },
    {
     "cell_type": "code",
     "collapsed": false,
     "input": [
      "ax = ...plot(..., grid=False, figsize=(12, 4))  # how can we plot with logarithmic adjustments, google it!\n",
      "ax.set_ylabel(...)\n",
      "ax.set_xlabel(...)\n",
      "ax.set_title(...)\n",
      "ax.set_xlim([0, 10**4])\n",
      "ax.set_xscale('log')\n",
      "ax.set_yscale('log')"
     ],
     "language": "python",
     "metadata": {},
     "outputs": [
      {
       "metadata": {},
       "output_type": "display_data",
       "png": "[encoded data removed]",
       "text": [
        "<matplotlib.figure.Figure at 0x7fcbab260400>"
       ]
      }
     ],
     "prompt_number": 19
    },
    {
     "cell_type": "code",
     "collapsed": false,
     "input": [
      "ax = ...(log=True, grid=False, bins=10, figsize=(12, 4))\n",
      "ax.set_ylabel(...)\n",
      "ax.set_xlabel(...)\n",
      "ax.set_title(...)"
     ],
     "language": "python",
     "metadata": {},
     "outputs": [
      {
       "metadata": {},
       "output_type": "pyout",
       "prompt_number": 20,
       "text": [
        "<matplotlib.text.Text at 0x7fcbb59a29e8>"
       ]
      },
      {
       "metadata": {},
       "output_type": "display_data",
       "png": "[encoded data removed]",
       "text": [
        "<matplotlib.figure.Figure at 0x7fcbb56fe2b0>"
       ]
      }
     ],
     "prompt_number": 20
    },
    {
     "cell_type": "markdown",
     "metadata": {},
     "source": [
      "Although we could filter the `DataFrame` for coordinates (or locations in user profiles), an even simpler starting point to gain rudimentary insight about where users *might* be located is to inspect the language field of the tweets and compute the tallies for each language."
     ]
    },
    {
     "cell_type": "code",
     "collapsed": false,
     "input": [
      "df...[:25]  # it returns a Series, think about counting values ;)"
     ],
     "language": "python",
     "metadata": {},
     "outputs": [
      {
       "metadata": {},
       "output_type": "pyout",
       "prompt_number": 21,
       "text": [
        "en     6680\n",
        "es      847\n",
        "ja      686\n",
        "ru      480\n",
        "fr      363\n",
        "tr      246\n",
        "de      155\n",
        "it      104\n",
        "pt       79\n",
        "in       70\n",
        "zh       48\n",
        "th       46\n",
        "nl       44\n",
        "und      21\n",
        "pl       17\n",
        "ar       14\n",
        "el       13\n",
        "sk       12\n",
        "sv       10\n",
        "bg        6\n",
        "hu        4\n",
        "et        4\n",
        "is        4\n",
        "ko        4\n",
        "no        4\n",
        "dtype: int64"
       ]
      }
     ],
     "prompt_number": 21
    },
    {
     "cell_type": "markdown",
     "metadata": {},
     "source": [
      "A staggering number of English speakers were talking about \"Apple\" at the time the data was collected. Bearing in mind that it was already evening on Monday in America when Apple Keynote hit the news with the Apple Watch and the new MacBook.\n",
      "\n",
      "However there are at least 21 tweets with undetermined language, `und`, and we want to know which are those languages. As we know, `TextBlob` internally uses [Google Translate API](https://cloud.google.com/translate/) to detect the language of a text. Twitter might use its own algorithm. But Google might support more languages, therefore, by detecting the language of the tweets using `TextBlob` and then comparing which ones are not in the set of recognized languages in the tweets collected, we will know which are those languages missing.\n",
      "\n",
      "The first step is to detect the language of the tweets and store that into a `Series`. Every time you invoke `.detect_language()` you are not only creating a `TextBlob` object, which consumes time and space, but also performing a HTTP request to the Google service for translation. And that is very expensive. Let's say that the average request takes up to 250 milliseconds (that would be **a lot**), if we have 10k tweets, that's around 40 minutes. Therefore, before executing language detection in all the tweets, it would be better to test the code in a small scale by slicing 25 tweets."
     ]
    },
    {
     "cell_type": "code",
     "collapsed": false,
     "input": [
      "import textblob as tb\n",
      "\n",
      "def detect_language(text):\n",
      "    ...\n",
      "\n",
      "languages = df.text[:25].apply(detect_language)\n",
      "languages..."
     ],
     "language": "python",
     "metadata": {},
     "outputs": [
      {
       "metadata": {},
       "output_type": "pyout",
       "prompt_number": 22,
       "text": [
        "en    12\n",
        "es     5\n",
        "fr     3\n",
        "ru     3\n",
        "ja     2\n",
        "dtype: int64"
       ]
      }
     ],
     "prompt_number": 22
    },
    {
     "cell_type": "markdown",
     "metadata": {},
     "source": [
      "When the code is ready just run the next cell. In the meantime, go grab something to eat and get comfortable in the couch until it finishes the execution. Relax, it can take a while but this is how real data analysis work :)\n",
      "\n",
      "<div align=\"center\">\n",
      "<img src=\"images/datascientist.jpg\" width=\"400\">\n",
      "*Good for you, mate*\n",
      "</div>\n"
     ]
    },
    {
     "cell_type": "code",
     "collapsed": false,
     "input": [
      "# Are you ready to execute this cell? Go!\n",
      "languages = df.text.apply(detect_language)"
     ],
     "language": "python",
     "metadata": {},
     "outputs": [],
     "prompt_number": 23
    },
    {
     "cell_type": "code",
     "collapsed": false,
     "input": [
      "# Let's see those results counting each language\n",
      "lang_counts = languages...\n",
      "lang_counts[:25]"
     ],
     "language": "python",
     "metadata": {},
     "outputs": [
      {
       "metadata": {},
       "output_type": "pyout",
       "prompt_number": 24,
       "text": [
        "en       6795\n",
        "es        816\n",
        "ja        676\n",
        "ru        479\n",
        "fr        318\n",
        "tr        243\n",
        "de        147\n",
        "it         93\n",
        "pt         81\n",
        "id         73\n",
        "th         51\n",
        "zh-CN      48\n",
        "nl         42\n",
        "ar         16\n",
        "el         13\n",
        "pl         12\n",
        "gl         11\n",
        "ca         10\n",
        "sv         10\n",
        "cs          7\n",
        "da          5\n",
        "hu          4\n",
        "ko          4\n",
        "no          3\n",
        "et          2\n",
        "dtype: int64"
       ]
      }
     ],
     "prompt_number": 24
    },
    {
     "cell_type": "markdown",
     "metadata": {},
     "source": [
      "Let's plot a simple pie chart showing the 10 most used languages."
     ]
    },
    {
     "cell_type": "code",
     "collapsed": false,
     "input": [
      "ax = ...plot(\n",
      "    ..., figsize=(8,8), autopct='%1.1f%%', shadow=False, startangle=55,\n",
      "    colors=plt.cm.Pastel1(np.linspace(0., 1., len(lang_counts[:10])))\n",
      ")\n",
      "ax.set_title(...)"
     ],
     "language": "python",
     "metadata": {},
     "outputs": [
      {
       "metadata": {},
       "output_type": "pyout",
       "prompt_number": 25,
       "text": [
        "<matplotlib.text.Text at 0x7fcbb60b30b8>"
       ]
      },
      {
       "metadata": {},
       "output_type": "display_data",
       "png": "[encoded data removed]",
       "text": [
        "<matplotlib.figure.Figure at 0x7fcbb5f98390>"
       ]
      }
     ],
     "prompt_number": 25
    },
    {
     "cell_type": "markdown",
     "metadata": {},
     "source": [
      "Comparing the two sets of unique languages codes we can finally know which are the languages not available in twitter."
     ]
    },
    {
     "cell_type": "code",
     "collapsed": false,
     "input": [
      "set(...) ... set(...)  # try playing with sets here"
     ],
     "language": "python",
     "metadata": {},
     "outputs": [
      {
       "metadata": {},
       "output_type": "pyout",
       "prompt_number": 26,
       "text": [
        "{'az',\n",
        " 'ca',\n",
        " 'cs',\n",
        " 'gl',\n",
        " 'id',\n",
        " 'ig',\n",
        " 'la',\n",
        " 'mk',\n",
        " 'mt',\n",
        " 'sl',\n",
        " 'sq',\n",
        " 'uz',\n",
        " 'yo',\n",
        " 'zh-CN'}"
       ]
      }
     ],
     "prompt_number": 26
    },
    {
     "cell_type": "markdown",
     "metadata": {},
     "source": [
      "However, there are now languages recognized by twitter that are not recognized by Google. Suprise, surprise..."
     ]
    },
    {
     "cell_type": "code",
     "collapsed": false,
     "input": [
      "..."
     ],
     "language": "python",
     "metadata": {},
     "outputs": [
      {
       "metadata": {},
       "output_type": "pyout",
       "prompt_number": 27,
       "text": [
        "{'ht', 'in', 'sk', 'tl', 'uk', 'und', 'zh'}"
       ]
      }
     ],
     "prompt_number": 27
    },
    {
     "cell_type": "markdown",
     "metadata": {},
     "source": [
      "Let's filter out only the 140 characters of text from tweets where the author speaks English and learn more about the reaction."
     ]
    },
    {
     "cell_type": "code",
     "collapsed": false,
     "input": [
      "en_text = df...\n",
      "en_text[:25]"
     ],
     "language": "python",
     "metadata": {},
     "outputs": [
      {
       "html": [
        "<div style=\"max-height:1000px;max-width:1500px;overflow:auto;\">\n",
        "<table border=\"1\" class=\"dataframe\">\n",
        "  <thead>\n",
        "    <tr style=\"text-align: right;\">\n",
        "      <th></th>\n",
        "      <th>text</th>\n",
        "    </tr>\n",
        "    <tr>\n",
        "      <th>created_at</th>\n",
        "      <th></th>\n",
        "    </tr>\n",
        "  </thead>\n",
        "  <tbody>\n",
        "    <tr>\n",
        "      <th>2015-03-09 21:00:46</th>\n",
        "      <td> Why I wound up buying a Pebble\u200b Watch instead....</td>\n",
        "    </tr>\n",
        "    <tr>\n",
        "      <th>2015-03-09 21:00:46</th>\n",
        "      <td> RT @BobScottCPA: How is the Apple Watch \"state...</td>\n",
        "    </tr>\n",
        "    <tr>\n",
        "      <th>2015-03-09 21:00:46</th>\n",
        "      <td> #AppleWatch Can't wait to wear one :) http://t...</td>\n",
        "    </tr>\n",
        "    <tr>\n",
        "      <th>2015-03-09 21:00:46</th>\n",
        "      <td> RT @MEMMOSdubai: Should you buy the $10,000 go...</td>\n",
        "    </tr>\n",
        "    <tr>\n",
        "      <th>2015-03-09 21:00:46</th>\n",
        "      <td> #setting4success Hands On With The Apple Watch...</td>\n",
        "    </tr>\n",
        "    <tr>\n",
        "      <th>2015-03-09 21:00:46</th>\n",
        "      <td> #Apple redefines itself as a luxury brand  htt...</td>\n",
        "    </tr>\n",
        "    <tr>\n",
        "      <th>2015-03-09 21:00:46</th>\n",
        "      <td> RT @guardiantech: #Apple's new #MacBook comes ...</td>\n",
        "    </tr>\n",
        "    <tr>\n",
        "      <th>2015-03-09 21:00:46</th>\n",
        "      <td> RT @Fallonam: You guys we did this. We gave Ap...</td>\n",
        "    </tr>\n",
        "    <tr>\n",
        "      <th>2015-03-09 21:00:46</th>\n",
        "      <td> What Your Favorite Apps Look Like On Apple Wat...</td>\n",
        "    </tr>\n",
        "    <tr>\n",
        "      <th>2015-03-09 21:00:47</th>\n",
        "      <td> RT @TechCrunch: Apple Watch Will Ship On April...</td>\n",
        "    </tr>\n",
        "    <tr>\n",
        "      <th>2015-03-09 21:00:47</th>\n",
        "      <td> RT @selenalarson: For the price of a high-end ...</td>\n",
        "    </tr>\n",
        "    <tr>\n",
        "      <th>2015-03-09 21:00:47</th>\n",
        "      <td> RT @petercoffee: What if trusted data, from an...</td>\n",
        "    </tr>\n",
        "    <tr>\n",
        "      <th>2015-03-09 21:00:47</th>\n",
        "      <td> Apple Watch and new MacBook announcement: all ...</td>\n",
        "    </tr>\n",
        "    <tr>\n",
        "      <th>2015-03-09 21:00:47</th>\n",
        "      <td> RT @JamesTylerESPN: Louis van Gaal: definitely...</td>\n",
        "    </tr>\n",
        "    <tr>\n",
        "      <th>2015-03-09 21:00:48</th>\n",
        "      <td> @ZenTriathlon I'll just tow my Apple watch beh...</td>\n",
        "    </tr>\n",
        "    <tr>\n",
        "      <th>2015-03-09 21:00:48</th>\n",
        "      <td>    $10k for a watch? ABSOLUTELY, APPLE! #nawwwwwt</td>\n",
        "    </tr>\n",
        "    <tr>\n",
        "      <th>2015-03-09 21:00:48</th>\n",
        "      <td> Someone give me $10,000 for a gold Apple watch...</td>\n",
        "    </tr>\n",
        "    <tr>\n",
        "      <th>2015-03-09 21:00:48</th>\n",
        "      <td> \"@AppStore: The Watch is coming. 4.24.15.  htt...</td>\n",
        "    </tr>\n",
        "    <tr>\n",
        "      <th>2015-03-09 21:00:48</th>\n",
        "      <td> Check Out The Apple Watch [video] http://t.co/...</td>\n",
        "    </tr>\n",
        "    <tr>\n",
        "      <th>2015-03-09 21:00:48</th>\n",
        "      <td> RT @edaccessible: Use This Ingenious Trick to ...</td>\n",
        "    </tr>\n",
        "    <tr>\n",
        "      <th>2015-03-09 21:00:48</th>\n",
        "      <td> CNET: Apple Watch hands-on: Release date April...</td>\n",
        "    </tr>\n",
        "    <tr>\n",
        "      <th>2015-03-09 21:00:48</th>\n",
        "      <td> RT @PRNews: Top #PR Takeaways From the Apple W...</td>\n",
        "    </tr>\n",
        "    <tr>\n",
        "      <th>2015-03-09 21:00:49</th>\n",
        "      <td> RT @ClaraJeffery: If you spend $10k on a first...</td>\n",
        "    </tr>\n",
        "    <tr>\n",
        "      <th>2015-03-09 21:00:49</th>\n",
        "      <td> RT @AppStore: Mac in its purest form ever. The...</td>\n",
        "    </tr>\n",
        "    <tr>\n",
        "      <th>2015-03-09 21:00:49</th>\n",
        "      <td> RT @mashabletech: Should you buy the $10,000 g...</td>\n",
        "    </tr>\n",
        "  </tbody>\n",
        "</table>\n",
        "</div>"
       ],
       "metadata": {},
       "output_type": "pyout",
       "prompt_number": 28,
       "text": [
        "                                                                  text\n",
        "created_at                                                            \n",
        "2015-03-09 21:00:46  Why I wound up buying a Pebble\u200b Watch instead....\n",
        "2015-03-09 21:00:46  RT @BobScottCPA: How is the Apple Watch \"state...\n",
        "2015-03-09 21:00:46  #AppleWatch Can't wait to wear one :) http://t...\n",
        "2015-03-09 21:00:46  RT @MEMMOSdubai: Should you buy the $10,000 go...\n",
        "2015-03-09 21:00:46  #setting4success Hands On With The Apple Watch...\n",
        "2015-03-09 21:00:46  #Apple redefines itself as a luxury brand  htt...\n",
        "2015-03-09 21:00:46  RT @guardiantech: #Apple's new #MacBook comes ...\n",
        "2015-03-09 21:00:46  RT @Fallonam: You guys we did this. We gave Ap...\n",
        "2015-03-09 21:00:46  What Your Favorite Apps Look Like On Apple Wat...\n",
        "2015-03-09 21:00:47  RT @TechCrunch: Apple Watch Will Ship On April...\n",
        "2015-03-09 21:00:47  RT @selenalarson: For the price of a high-end ...\n",
        "2015-03-09 21:00:47  RT @petercoffee: What if trusted data, from an...\n",
        "2015-03-09 21:00:47  Apple Watch and new MacBook announcement: all ...\n",
        "2015-03-09 21:00:47  RT @JamesTylerESPN: Louis van Gaal: definitely...\n",
        "2015-03-09 21:00:48  @ZenTriathlon I'll just tow my Apple watch beh...\n",
        "2015-03-09 21:00:48     $10k for a watch? ABSOLUTELY, APPLE! #nawwwwwt\n",
        "2015-03-09 21:00:48  Someone give me $10,000 for a gold Apple watch...\n",
        "2015-03-09 21:00:48  \"@AppStore: The Watch is coming. 4.24.15.  htt...\n",
        "2015-03-09 21:00:48  Check Out The Apple Watch [video] http://t.co/...\n",
        "2015-03-09 21:00:48  RT @edaccessible: Use This Ingenious Trick to ...\n",
        "2015-03-09 21:00:48  CNET: Apple Watch hands-on: Release date April...\n",
        "2015-03-09 21:00:48  RT @PRNews: Top #PR Takeaways From the Apple W...\n",
        "2015-03-09 21:00:49  RT @ClaraJeffery: If you spend $10k on a first...\n",
        "2015-03-09 21:00:49  RT @AppStore: Mac in its purest form ever. The...\n",
        "2015-03-09 21:00:49  RT @mashabletech: Should you buy the $10,000 g..."
       ]
      }
     ],
     "prompt_number": 28
    },
    {
     "cell_type": "markdown",
     "metadata": {},
     "source": [
      "Reception\n",
      "---------\n",
      "\n",
      "Let's now tokenize those tweets and get the counts of the words to get an initial glance about what's being talked about. The first step is to apply tokenization to each cell and flatten the `Series`'s values into a single list."
     ]
    },
    {
     "cell_type": "code",
     "collapsed": false,
     "input": [
      "from nltk.tokenize import word_tokenize\n",
      "\n",
      "en_text[\"tokens\"] = en_text.text.apply(...).values\n",
      "words = sum(en_text[\"tokens\"], [])\n",
      "words[:25]"
     ],
     "language": "python",
     "metadata": {},
     "outputs": [
      {
       "metadata": {},
       "output_type": "pyout",
       "prompt_number": 29,
       "text": [
        "['Why',\n",
        " 'I',\n",
        " 'wound',\n",
        " 'up',\n",
        " 'buying',\n",
        " 'a',\n",
        " 'Pebble\\u200b',\n",
        " 'Watch',\n",
        " 'instead..',\n",
        " 'Apple',\n",
        " 'Watch',\n",
        " 'vs.',\n",
        " 'the',\n",
        " 'competition',\n",
        " ':',\n",
        " 'Where',\n",
        " 'does',\n",
        " 'it',\n",
        " 'stand',\n",
        " '?',\n",
        " 'http',\n",
        " ':',\n",
        " '//t.co/VyqVd17Y7T',\n",
        " 'RT',\n",
        " '@']"
       ]
      }
     ],
     "prompt_number": 29
    },
    {
     "cell_type": "markdown",
     "metadata": {},
     "source": [
      "Now we can build a `Series` from the flattened list of words in order to show the 25 most common words."
     ]
    },
    {
     "cell_type": "code",
     "collapsed": false,
     "input": [
      "pd.Series(words)...[:25]"
     ],
     "language": "python",
     "metadata": {},
     "outputs": [
      {
       "metadata": {},
       "output_type": "pyout",
       "prompt_number": 30,
       "text": [
        ":          10773\n",
        "Apple       6579\n",
        "http        6011\n",
        "Watch       4896\n",
        "the         3534\n",
        "@           3451\n",
        "RT          2534\n",
        ".           2238\n",
        "#           2072\n",
        ",           2006\n",
        "to          1520\n",
        "The         1437\n",
        "$           1346\n",
        "watch       1274\n",
        "new         1246\n",
        "a           1177\n",
        "for         1127\n",
        "is          1068\n",
        "MacBook     1007\n",
        "'s           930\n",
        "in           851\n",
        "I            835\n",
        "of           803\n",
        "?            767\n",
        "you          728\n",
        "dtype: int64"
       ]
      }
     ],
     "prompt_number": 30
    },
    {
     "cell_type": "markdown",
     "metadata": {},
     "source": [
      "Not surprisingly, \"Apple\" is the most frequently occurring token, there are lots of retweets (actually, \"quoted retweets\") as evidenced by \"RT\", and lots of stopwords (such as \"the\", \"a\", etc.) and characters used in the Twitter universe (\"@\" is used for designating user names, and \"#\" for hastags) at the top of the list. Let's further remove some of the noise by filtering stopwords out."
     ]
    },
    {
     "cell_type": "code",
     "collapsed": false,
     "input": [
      "import nltk\n",
      "nltk.download('stopwords')\n",
      "\n",
      "english_stopwords = nltk...\n",
      "clean_words = ...  # remember that in english_stopwords words are lowercase\n",
      "        \n",
      "pd.Series(clean_words)...[:25]"
     ],
     "language": "python",
     "metadata": {},
     "outputs": [
      {
       "output_type": "stream",
       "stream": "stdout",
       "text": [
        "[nltk_data] Downloading package stopwords to /home/versae/nltk_data...\n",
        "[nltk_data]   Package stopwords is already up-to-date!\n"
       ]
      },
      {
       "metadata": {},
       "output_type": "pyout",
       "prompt_number": 31,
       "text": [
        ":           10773\n",
        "Apple        6579\n",
        "http         6011\n",
        "Watch        4896\n",
        "@            3451\n",
        "RT           2534\n",
        ".            2238\n",
        "#            2072\n",
        ",            2006\n",
        "$            1346\n",
        "watch        1274\n",
        "new          1246\n",
        "MacBook      1007\n",
        "'s            930\n",
        "?             767\n",
        "...           658\n",
        "apple         658\n",
        "''            634\n",
        "10,000        627\n",
        "``            583\n",
        "!             544\n",
        "gold          536\n",
        "-             506\n",
        "AppStore      418\n",
        "https         416\n",
        "dtype: int64"
       ]
      }
     ],
     "prompt_number": 31
    },
    {
     "cell_type": "markdown",
     "metadata": {},
     "source": [
      "Now data looks a bit cleaner, although we still have those \"@\" and \"#\", plus the \"http\" that is coming from all the URLs contained in the tweets. Removing those is tricky, since we can't just ignore them. If we do that, we might lose valuable information, like who were the more mentioned users, or the most shared hashtag. Instead, we are going to tweak NLTK's `PunktWordTokenizer` by modifying some of the internally used regular expressions.\n",
      "\n",
      "The first one is the regular expression used to express those characters that cannot appear within words. Take a look to the actual regular expression and make the necessary changes to allow \"@\" and \"#\" be part of a word."
     ]
    },
    {
     "cell_type": "code",
     "collapsed": false,
     "input": [
      "# Original (?:[?!)\\\";}\\]\\*:@\\'\\({\\[])\n",
      "re_non_word = r\"(?:[?!)\\\";}\\]\\*:@\\'\\({\\[])\""
     ],
     "language": "python",
     "metadata": {},
     "outputs": [],
     "prompt_number": 32
    },
    {
     "cell_type": "markdown",
     "metadata": {},
     "source": [
      "The second regular expression excludes some characters from starting word tokens. Try to modify it to allow  \"@\" and \"#\" be part of a word too."
     ]
    },
    {
     "cell_type": "code",
     "collapsed": false,
     "input": [
      "# Original [^\\(\\\"\\`{\\[:;&\\#\\*@\\)}\\]\\-,]\n",
      "re_word_start = r\"[^\\(\\\"\\`{\\[:;&\\#\\*@\\)}\\]\\-,]\""
     ],
     "language": "python",
     "metadata": {},
     "outputs": [],
     "prompt_number": 33
    },
    {
     "cell_type": "code",
     "collapsed": false,
     "input": [
      "# Nothing to change in this cell\n",
      "import re\n",
      "from nltk.tokenize import PunktWordTokenizer\n",
      "from nltk.tokenize.punkt import PunktLanguageVars\n",
      "\n",
      "lang_vars = PunktLanguageVars()\n",
      "lang_vars._re_word_tokenizer = re.compile(lang_vars._word_tokenize_fmt % {\n",
      "    'NonWord':   re_non_word,\n",
      "    'MultiChar': lang_vars._re_multi_char_punct,\n",
      "    'WordStart': re_word_start,\n",
      "}, re.UNICODE | re.VERBOSE)\n",
      "tokenizer = PunktWordTokenizer(lang_vars=lang_vars)\n",
      "\n",
      "def twitter_tokenize(value):\n",
      "    return tokenizer.tokenize(value)"
     ],
     "language": "python",
     "metadata": {},
     "outputs": [],
     "prompt_number": 34
    },
    {
     "cell_type": "markdown",
     "metadata": {},
     "source": [
      "Now we can use the defined function `twitter_tokenize` to tokenize our tweets. Once we are sure that usernames and hashtags are safe, we can extended `english_stopwords` to also include regular string punctiation characters, plus some other random words that are of no interest or glitches of tokenization."
     ]
    },
    {
     "cell_type": "code",
     "collapsed": false,
     "input": [
      "import string\n",
      "\n",
      "word_lists = en_text.text.apply(...)\n",
      "words = sum(word_lists.values, [])\n",
      "\n",
      "english_stopwords += list(string.punctuation)\n",
      "english_stopwords += [\"http\", \"https\", \"...\", \"'s\", \"'t\"]\n",
      "\n",
      "clean_words = ...\n",
      "pd.Series(clean_words)...[:25]"
     ],
     "language": "python",
     "metadata": {},
     "outputs": [
      {
       "metadata": {},
       "output_type": "pyout",
       "prompt_number": 35,
       "text": [
        "Apple                6411\n",
        "Watch                4764\n",
        "RT                   2533\n",
        "new                  1243\n",
        "watch                1155\n",
        "MacBook               881\n",
        "$10,000               617\n",
        "apple                 550\n",
        "gold                  535\n",
        "App                   385\n",
        "@AppStore             378\n",
        "New                   361\n",
        "buy                   359\n",
        "Look                  351\n",
        "coming.               341\n",
        "4.24.15.              335\n",
        "event                 307\n",
        "//t.co/4iiurTDTt9     289\n",
        "Apple\u2019s               285\n",
        "First                 280\n",
        "look                  255\n",
        "standard              255\n",
        "launching             254\n",
        "douchebag             253\n",
        "thanking              252\n",
        "dtype: int64"
       ]
      }
     ],
     "prompt_number": 35
    },
    {
     "cell_type": "markdown",
     "metadata": {},
     "source": [
      "What a difference removing a little bit of noise can make! We now see much more meaningful data appear at the top of the list. Actually, it can almost be read as a single sentence: `\"Apple Watch RT new watch $10,000, MacBook gold. @AppStore New buy, coming 4.24.15 t.co/4iiurTDTt9\"`. The URL, in fact, takes you to the Apple Watch site.\n",
      "\n",
      "There is, however, an unexpected term: `douchebag`. We are not sure but could be related to the fact that the price of the watch seems to be `$10,000`.\n",
      "\n",
      "Let's now treat the problem as one of discovering statistical collocations to get more insight about the phrase contexts."
     ]
    },
    {
     "cell_type": "code",
     "collapsed": false,
     "input": [
      "text = nltk.Text\n",
      "text..."
     ],
     "language": "python",
     "metadata": {},
     "outputs": [
      {
       "output_type": "stream",
       "stream": "stdout",
       "text": [
        "Apple Watch; coming. 4.24.15.; apple watch; 4.24.15.\n",
        "//t.co/4iiurTDTt9; standard douchebag; @AnnaKendrick47 thanking;\n",
        "douchebag detection.; //t.co/4iiurTDTt9 //t.co/3Bedz37DAy; gold\n",
        "standard; launching $10,000; Companion App; Favorite Apps; Watch\n",
        "coming.; $10,000 apple; First Enterprise; new MacBook; internet\n",
        "reacts; Salesforce First; App Jump; Enterprise App\n"
       ]
      }
     ],
     "prompt_number": 36
    },
    {
     "cell_type": "markdown",
     "metadata": {},
     "source": [
      "Even without any prior analysis on tokenization, it's pretty clear what the topic is about as evidenced by this list of collocations. But what about the *context* in which these phrases appear? Toward the bottom of the list of commonly occurring words, the words \"watch\" and \"$10,000\" appear. The word \"favorite\" is interesting, because it is usually the basis of an emotional reaction, and we're interested in examining the reaction. And \"thanking\" could also mean something. What about the word \"douchebag\"? What might it mean? The concordance will help us to find out."
     ]
    },
    {
     "cell_type": "code",
     "collapsed": false,
     "input": [
      "# Print concordance for watch, favorite, and $10,000\n",
      "text...\n",
      "text...\n",
      "text..."
     ],
     "language": "python",
     "metadata": {},
     "outputs": [
      {
       "output_type": "stream",
       "stream": "stdout",
       "text": [
        "Displaying 25 of 5943 matches:\n",
        "                                     Watch instead .. Apple Watch vs. competiti\n",
        "                                     Watch vs. competition stand //t.co/VyqVd17\n",
        "                                     Watch state art even beam time ceiling lik\n",
        " @MEMMOSdubai buy $10,000 gold Apple Watch helpful flowchart //t.co/Crn3LPr7Ve \n",
        "ai #UAE #setting4success Hands Apple Watch //t.co/VRGA6NaWXP #Mobile #Tablets #\n",
        "nam guys this. gave Apple power sell watch $10k. blame. #AppleLive #AppleWat\u2026 F\n",
        "leWat\u2026 Favorite Apps Look Like Apple Watch Plus New Ones //t.co/XIweD7HZ8f RT @\n",
        "t.co/XIweD7HZ8f RT @TechCrunch Apple Watch Ship April 24 Cost $349 $10,000+ Dep\n",
        "T @selenalarson price high-end Apple Watch fund entire Charity Water project tr\n",
        " //t.co/Zybh0uto7B @Salesforce Apple Watch new MacBook announcement news Apple\u2019\n",
        "s van Gaal definitely type buy Apple Watch leave park bench. @ZenTriathlon 'll \n",
        "k bench. @ZenTriathlon 'll tow Apple watch behind little waterproof boat $10k w\n",
        "h behind little waterproof boat $10k watch ABSOLUTELY APPLE #nawwwwwt Someone g\n",
        "wwwt Someone give $10,000 gold Apple watch @AppStore Watch coming. 4.24.15. //t\n",
        "e $10,000 gold Apple watch @AppStore Watch coming. 4.24.15. //t.co/DQuKRR3Bur /\n",
        "mGlLA @VictoriaDemenko \ud83d\ude02 Check Apple Watch video //t.co/8QCihNEuAV RT @edaccess\n",
        "e Ingenious Trick Choose Right Apple Watch Size //t.co/QMVOCKHRjx @TIME CNET Ap\n",
        "e //t.co/QMVOCKHRjx @TIME CNET Apple Watch hands-on Release date April 24 price\n",
        "q RT @PRNews Top #PR Takeaways Apple Watch Preview //t.co/TMNfdPZSc0 RT @ClaraJ\n",
        "raJeffery spend $10k first-gen Apple watch check every priority life. RT @AppSt\n",
        "@mashabletech buy $10,000 gold Apple Watch helpful flowchart @MaxKnoblauch //t.\n",
        "wM //t.co/C\u2026 RT @charlesarthur Apple Watch watch way first iPhone phone. people\n",
        ".co/C\u2026 RT @charlesarthur Apple Watch watch way first iPhone phone. people want \n",
        "irst iPhone phone. people want apple watch start saving $10,000 //t.co/SEzAGJeK\n",
        "eKEy Australia among first get Apple Watch //t.co/Syx3GPCuvS RT @AppStore There\n",
        "Displaying 25 of 145 matches:\n",
        "$10k. blame. #AppleLive #AppleWat\u2026 Favorite Apps Look Like Apple Watch Plus Ne\n",
        "wristwatch histo //t.co/ZS1WpLr3dF Favorite Apps Look Like Apple Watch Plus Ne\n",
        "cBook //t.co/OoLf5Wqe5q //t.co/59\u2026 Favorite Apps Look Like Apple Watch Plus Ne\n",
        "nk @tim_cook much apple watch cost Favorite Apps Look Like Apple Watch Plus Ne\n",
        "ptYjuc March 09 2015 04 55PM #What Favorite Apps Look Like Apple Watch Plus Ne\n",
        "today Apple news //t.co/ARphq3OmgT Favorite Apps Look Like Apple Watch Plus Ne\n",
        "pple new MacBook //t.co/dLfNvRFk4n Favorite Apps Look Like Apple Watch Plus Ne\n",
        "Apple Watch font //t.co/pjz2OJ5zZv Favorite Apps Look Like Apple Watch Plus Ne\n",
        "pple Watch event //t.co/9OZCPIQZku Favorite Apps Look Like Apple Watch Plus Ne\n",
        "l @danielas_bot @ThisIsFusion //t\u2026 Favorite Apps Look Like Apple Watch Plus Ne\n",
        "Apple Watch apps //t.co/qbN3jyT8hn Favorite Apps Look Like Apple Watch Plus Ne\n",
        "/t.co/Wg9I3EprvT //t.co/ye5W7t5d2x Favorite Apps Look Like Apple Watch Plus Ne\n",
        "pple Watch pushed back month haha. Favorite Apps Look Like Apple Watch Plus Ne\n",
        "/t.co/n4Y2ZacIwB //t.co/dch3Kh0SUn Favorite Apps Look Like Apple Watch Plus Ne\n",
        "/t.co/U62E2iyNT6 //t.co/jRtWddN0Wi Favorite Apps Look Like Apple Watch Plus Ne\n",
        "tible Apple Watch cases size. Swap Favorite Apps Look Like Apple Watch Plus Ne\n",
        "r person wearing $600 Apple watch. Favorite Apps Look Like Apple Watch Plus Ne\n",
        "pple new MacBook //t.co/CNA4Q564bf Favorite Apps Look Like Apple Watch Plus Ne\n",
        "ant @lilyhnewman //t.co/bn3LWYOJsE Favorite Apps Look Like Apple Watch Plus Ne\n",
        "down PC Magazine //t.co/kCCuRpOLpm Favorite Apps Look Like Apple Watch Plus Ne\n",
        " -- Live Blog 2- //t.co/MMwNSRzrrD Favorite Apps Look Like Apple Watch Plus Ne\n",
        "s start April 10 //t.co/un2pGcE2i4 Favorite Apps Look Like Apple Watch Plus Ne\n",
        "t.co/T9quScjxGI $17K beauty yours. Favorite Apps Look Like Apple Watch Plus Ne\n",
        "ch Plus New Ones //t.co/X0uDYzCNTb Favorite Apps Look Like Apple Watch Plus Ne\n",
        "cial Apple event //t.co/zsyo8mFx1A Favorite Apps Look Like Apple Watch Plus Ne\n",
        "Displaying 25 of 617 matches:\n",
        "t.co/7rL7SBLEvy RT @MEMMOSdubai buy $10,000 gold Apple Watch helpful flowchart \n",
        "LUTELY APPLE #nawwwwwt Someone give $10,000 gold Apple watch @AppStore Watch co\n",
        ".co/jRtWddN0Wi RT @mashabletech buy $10,000 gold Apple Watch helpful flowchart \n",
        "eople want apple watch start saving $10,000 //t.co/SEzAGJeKEy Australia among f\n",
        "Kendrick47 thanking Apple launching $10,000 apple watch new gold standard douch\n",
        ".co/X878RvKjty RT @cjwerleman think $10,000 Apple watch popular amongst muggers\n",
        "00+ RT @wesleyfenlon Yeah could buy $10,000 Apple Watch could buy 20,000 Reeses\n",
        "t.co/5Plg8S4rVe RT @MEMMOSdubai buy $10,000 gold Apple Watch helpful flowchart \n",
        "Kendrick47 thanking Apple launching $10,000 apple watch new gold standard douch\n",
        "t.co/ZkpBsfg4zX RT @MEMMOSdubai buy $10,000 gold Apple Watch helpful flowchart \n",
        "H9WlF Apple Watch ranges price $349 $10,000 sale April 24 //t.co/8BOiosAnED RT \n",
        "t.co/X7RwknBuOG RT @MEMMOSdubai buy $10,000 gold Apple Watch helpful flowchart \n",
        "Kendrick47 thanking Apple launching $10,000 apple watch new gold standard douch\n",
        "t.co/e5TtdeRet4 RT @LATimesGraphics $10,000 Apple Watch Here\u2019s many Apple produ\n",
        "t.co/fqenQ08jOw RT @MEMMOSdubai buy $10,000 gold Apple Watch helpful flowchart \n",
        "WatkT Haha apple watch edition gold $10,000 hay pewwww RT @AppStore Mac purest \n",
        "V5DfYA9wOX RT @TheSeanBrewster glad $10,000 Apple watch look like poor person w\n",
        "keginn sorry Apple one watch 'd pay $10,000 //t.co/TC7PyMUXfY Live Apple reveal\n",
        " //t.co/UoP0u2iELL RT @mashable buy $10,000 gold Apple Watch flowchart help //t\n",
        " //t.co/ZLrwdxpTvF RT @mashable buy $10,000 gold Apple Watch flowchart help //t\n",
        "RT @andylassner way hell 'm getting $10,000 Apple watch unless really rich talk\n",
        "Kendrick47 thanking Apple launching $10,000 apple watch new gold standard douch\n",
        "Kendrick47 thanking Apple launching $10,000 apple watch new gold standard douch\n",
        "t.co/GbYeFKRicE RT @MEMMOSdubai buy $10,000 gold Apple Watch helpful flowchart \n",
        "Kendrick47 thanking Apple launching $10,000 apple watch new gold standard douch\n"
       ]
      }
     ],
     "prompt_number": 37
    },
    {
     "cell_type": "code",
     "collapsed": false,
     "input": [
      "# Print concordance for thanking, and douchebag\n",
      "text...\n",
      "text..."
     ],
     "language": "python",
     "metadata": {},
     "outputs": [
      {
       "output_type": "stream",
       "stream": "stdout",
       "text": [
        "Displaying 25 of 252 matches:\n",
        "t.co/7ICkQWTHGC RT @AnnaKendrick47 thanking Apple launching $10,000 apple watc\n",
        "t.co/3Bedz37DAy RT @AnnaKendrick47 thanking Apple launching $10,000 apple watc\n",
        "t.co/wbOQ9uWhI7 RT @AnnaKendrick47 thanking Apple launching $10,000 apple watc\n",
        "c @TheEllenShow RT @AnnaKendrick47 thanking Apple launching $10,000 apple watc\n",
        " Apple money ?\u201d RT @AnnaKendrick47 thanking Apple launching $10,000 apple watc\n",
        "t.co/Mzr5A5Uufw RT @AnnaKendrick47 thanking Apple launching $10,000 apple watc\n",
        "ebag detection. RT @AnnaKendrick47 thanking Apple launching $10,000 apple watc\n",
        "t.co/v4Q41A5QGO RT @AnnaKendrick47 thanking Apple launching $10,000 apple watc\n",
        "iJy0pozOa5 THIS&gt @AnnaKendrick47 thanking Apple launching $10,000 apple watc\n",
        "XyyPf7qf #apple RT @AnnaKendrick47 thanking Apple launching $10,000 apple watc\n",
        "//t.co/5U0xPydGyN \u201c@AnnaKendrick47 thanking Apple launching $10,000 apple watc\n",
        "ife like iPhon\u2026 RT @AnnaKendrick47 thanking Apple launching $10,000 apple watc\n",
        "f2wLGnvMF #tech RT @AnnaKendrick47 thanking Apple launching $10,000 apple watc\n",
        "rice bracket xD RT @AnnaKendrick47 thanking Apple launching $10,000 apple watc\n",
        "t.co/UKxSvbWzqN RT @AnnaKendrick47 thanking Apple launching $10,000 apple watc\n",
        "t.co/zuCMt8nU4N RT @AnnaKendrick47 thanking Apple launching $10,000 apple watc\n",
        "t.co/W94WGibGiV RT @AnnaKendrick47 thanking Apple launching $10,000 apple watc\n",
        " makes immortal RT @AnnaKendrick47 thanking Apple launching $10,000 apple watc\n",
        "cking Internet. RT @AnnaKendrick47 thanking Apple launching $10,000 apple watc\n",
        "t.co/D4ck0CuCHA RT @AnnaKendrick47 thanking Apple launching $10,000 apple watc\n",
        "t.co/iugi0MUGuf RT @AnnaKendrick47 thanking Apple launching $10,000 apple watc\n",
        "ng money stuff. RT @AnnaKendrick47 thanking Apple launching $10,000 apple watc\n",
        "t.co/jSHGFf4yIU RT @AnnaKendrick47 thanking Apple launching $10,000 apple watc\n",
        "t.co/Te5Pb58msM RT @AnnaKendrick47 thanking Apple launching $10,000 apple watc\n",
        "ebag detection. RT @AnnaKendrick47 thanking Apple launching $10,000 apple watc\n",
        "Displaying 25 of 253 matches:\n",
        ",000 apple watch new gold standard douchebag detection. update iOS Apple puts n\n",
        ",000 apple watch new gold standard douchebag detection. Apple releases new vide\n",
        ",000 apple watch new gold standard douchebag detection. #telemarketing Apple im\n",
        ",000 apple watch new gold standard douchebag detection. #telemarketing Apple Wa\n",
        ",000 apple watch new gold standard douchebag detection. RT @edaccessible Use In\n",
        ",000 apple watch new gold standard douchebag detection. RT @AnnaKendrick47 than\n",
        ",000 apple watch new gold standard douchebag detection. RT @luufycom New Apple \n",
        ",000 apple watch new gold standard douchebag detection. Apple Watch proof human\n",
        ",000 apple watch new gold standard douchebag detection. new MacBook shows San F\n",
        ",000 apple watch new gold standard douchebag detection. Apple Watch sounds like\n",
        ",000 apple watch new gold standard douchebag detection.\u201d RT @WarrenHolstein For\n",
        ",000 apple watch new gold standard douchebag detection. need Apple watch last t\n",
        ",000 apple watch new gold standard douchebag detection. RT @holman Conference s\n",
        ",000 apple watch new gold standard douchebag detection. #mktg new MacBook shows\n",
        ",000 apple watch new gold standard douchebag detection. iOS 8.2 come Apple watc\n",
        ",000 apple watch new gold standard douchebag detection. Get Free Apple Watch //\n",
        ",000 apple watch new gold standard douchebag detection. RT @TechCrunch Apple Wa\n",
        ",000 apple watch new gold standard douchebag detection. Apple watch hasn impres\n",
        ",000 apple watch new gold standard douchebag detection. RT @CityNews 5 things n\n",
        ",000 apple watch new gold standard douchebag detection. RT @desusnice New life \n",
        ",000 apple watch new gold standard douchebag detection. Amazing Apple set buy t\n",
        ",000 apple watch new gold standard douchebag detection. Hey apple think make ne\n",
        ",000 apple watch new gold standard douchebag detection. Favorite Apps Look Like\n",
        ",000 apple watch new gold standard douchebag detection. RT @AnnaKendrick47 than\n",
        ",000 apple watch new gold standard douchebag detection. RT @Joemon871 @tldtoday\n"
       ]
      }
     ],
     "prompt_number": 38
    },
    {
     "cell_type": "markdown",
     "metadata": {},
     "source": [
      "<div align=\"center\">\n",
      "<img src=\"images/saved-up-for-a-new-macbook.jpg\" width=\"400\">\n",
      "*$10,000 watch*\n",
      "</div>\n",
      "\n",
      "\n",
      "It would appear that there is indeed a common thread of amazement in the data, although it's not evident if positive or negative. `@AnnaKendrick47` turns out to be [Anna Kendrick](https://en.wikipedia.org/wiki/Anna_Kendrick), an actress that recently appeared as a presenter in 86th Academy Awards, and that has played a role in *The Twilight Saga*.\n",
      "\n",
      "But what else can usernames, hashtags, and URLs tell us? All that information is in our column `entities`, but remember that `entities` is a dictionary containing other keys. Let's now extract the value counts for `screen_name`'s in `user_mentions`, `text`'s in `hashtags`, and `expanded_url`'s in `urls`. Then show the 25 more frequent."
     ]
    },
    {
     "cell_type": "code",
     "collapsed": false,
     "input": [
      "# screen_name's in user_mentions\n",
      "def list_screen_name_in_user_mentions(user_mention):\n",
      "    ...\n",
      "\n",
      "screen_name_lists = df.entities.apply(list_screen_name_in_user_mentions)\n",
      "screen_names = pd.Series(sum(screen_name_lists.values, []))...\n",
      "screen_names[:25]"
     ],
     "language": "python",
     "metadata": {},
     "outputs": [
      {
       "metadata": {},
       "output_type": "pyout",
       "prompt_number": 39,
       "text": [
        "AppStore          421\n",
        "AnnaKendrick47    254\n",
        "sosyalansmedya    149\n",
        "verge              81\n",
        "TechCrunch         66\n",
        "Chris_Vanouu       64\n",
        "gizmodojapan       57\n",
        "YouTube            47\n",
        "MEMMOSdubai        46\n",
        "mashable           44\n",
        "wylsacom           39\n",
        "TIME               38\n",
        "sageboggs          38\n",
        "engadget           37\n",
        "TheOnion           31\n",
        "tomstandage        29\n",
        "waltmossberg       29\n",
        "ComplexMag         28\n",
        "edaccessible       27\n",
        "desusnice          25\n",
        "androidcentral     24\n",
        "CNET               23\n",
        "Recode             22\n",
        "shutupmikeginn     21\n",
        "BMWi               20\n",
        "dtype: int64"
       ]
      }
     ],
     "prompt_number": 39
    },
    {
     "cell_type": "markdown",
     "metadata": {},
     "source": [
      "As we see above, `AnnaKendrick47` is mentioned more than half the times that `AppStore` is. Then some tech media companies and blogs, including the funny `TheOnion`."
     ]
    },
    {
     "cell_type": "code",
     "collapsed": false,
     "input": [
      "# text's in hashtags\n",
      "def list_text_in_hastags(hashtag):\n",
      "    ...\n",
      "\n",
      "hastag_lists = df.entities.apply(list_text_in_hastags)\n",
      "hastags = pd.Series(sum(hastag_lists.values, []))...\n",
      "hastags[:25]"
     ],
     "language": "python",
     "metadata": {},
     "outputs": [
      {
       "metadata": {},
       "output_type": "pyout",
       "prompt_number": 40,
       "text": [
        "Apple              243\n",
        "AppleWatch         190\n",
        "apple              147\n",
        "AppleLive          131\n",
        "tech               118\n",
        "MacBook             79\n",
        "news                75\n",
        "applewatch          67\n",
        "Tech                51\n",
        "technology          49\n",
        "watch               49\n",
        "AppleEvent          29\n",
        "wwwhatsnew          28\n",
        "News                25\n",
        "changepenang        24\n",
        "Dubai               23\n",
        "Technology          23\n",
        "UAE                 23\n",
        "Watch               23\n",
        "Macbook             21\n",
        "AppleWatchEvent     21\n",
        "iphone              18\n",
        "android             18\n",
        "tecnologia          16\n",
        "\u043d\u043e\u0432\u043e\u0441\u0442\u0438             16\n",
        "dtype: int64"
       ]
      }
     ],
     "prompt_number": 40
    },
    {
     "cell_type": "markdown",
     "metadata": {},
     "source": [
      "About the hashtags, nothing really interesting here. Only mention the hashtag `\u043d\u043e\u0432\u043e\u0441\u0442\u0438`, let's see what the meaning is in English."
     ]
    },
    {
     "cell_type": "code",
     "collapsed": false,
     "input": [
      "tb.TextBlob...string"
     ],
     "language": "python",
     "metadata": {},
     "outputs": [
      {
       "metadata": {},
       "output_type": "pyout",
       "prompt_number": 41,
       "text": [
        "'news'"
       ]
      }
     ],
     "prompt_number": 41
    },
    {
     "cell_type": "markdown",
     "metadata": {},
     "source": [
      "Well, it means \"news\".\n",
      "\n",
      "Finally, let's take a look to the the URLs."
     ]
    },
    {
     "cell_type": "code",
     "collapsed": false,
     "input": [
      "# expanded_url's in urls\n",
      "def list_expanded_url_in_urls(url):\n",
      "    ...\n",
      "\n",
      "url_lists = df.entities.apply(list_expanded_url_in_urls)\n",
      "urls = pd.Series(sum(url_lists.values, []))...\n",
      "urls[:25]"
     ],
     "language": "python",
     "metadata": {},
     "outputs": [
      {
       "metadata": {},
       "output_type": "pyout",
       "prompt_number": 42,
       "text": [
        "http://apple.com/watch                                          338\n",
        "https://amp.twimg.com/v/ee08d048-6b15-4544-9dda-46b991a954f7    262\n",
        "http://ift.tt/1BkhBpV                                            49\n",
        "http://apple.com/macbook                                         49\n",
        "http://ift.tt/196oFw0                                            43\n",
        "http://ift.tt/1NBugtG                                            42\n",
        "http://ift.tt/1F4vwSD                                            41\n",
        "http://ift.tt/1AacV0Z                                            41\n",
        "http://apple-watch-news.com                                      40\n",
        "http://japan.cnet.com/sp/apple_watch/35061515/?tag=as.rss        34\n",
        "http://bit.ly/1KMXXck                                            33\n",
        "http://ift.tt/1MmmwbR                                            33\n",
        "http://ift.tt/1Aab7VR                                            32\n",
        "http://ift.tt/1FBpBm6                                            32\n",
        "http://ift.tt/1wm5sAA                                            32\n",
        "http://theverge.com/e/7941194                                    32\n",
        "http://ift.tt/1Mmmvoe                                            31\n",
        "http://apple.com/live                                            30\n",
        "http://ift.tt/1Aab8ZJ                                            29\n",
        "http://engt.co/1Aad1FU                                           29\n",
        "http://xkcd.com/1420/                                            29\n",
        "http://trib.al/OKvbiFO                                           28\n",
        "http://ln.is/time.com/3737949/app/lHrJg                          27\n",
        "http://read.bi/1AXKvrd                                           23\n",
        "http://ift.tt/196fWtT                                            23\n",
        "dtype: int64"
       ]
      }
     ],
     "prompt_number": 42
    },
    {
     "cell_type": "markdown",
     "metadata": {},
     "source": [
      "A lot of the same: reviews and links to official pages. An excemption is this XKCD comic.\n",
      "\n",
      "<div align=\"center\">\n",
      "<img src=\"http://imgs.xkcd.com/comics/watches.png\" width=\"400\">\n",
      "*[Watches](http://xkcd.com/1420/)*\n",
      "</div>\n",
      "\n",
      "First The Onion, now XKCD... It is starting to see like a lot of tweets had a comical twist, it might be sarcasm or just jokes. Let's take a look to the most popular tweets to confirm it. We could use the number of retweets, `retweet_count`, to find those. However, it looks like in our dataset everyone was retweeting by embeding the tweets (using \"RT @someone: ...\"), and therefore `retweet_count` is always zero. There is still a way to find the most retweeted status. But I will leave that to you to figure it out."
     ]
    },
    {
     "cell_type": "code",
     "collapsed": false,
     "input": [
      "retweets = en_text[...]\n",
      "grouped_retweets = retweets.groupby...aggregate...\n",
      "grouped_retweets.sort(..., ...)[:25]"
     ],
     "language": "python",
     "metadata": {},
     "outputs": [
      {
       "html": [
        "<div style=\"max-height:1000px;max-width:1500px;overflow:auto;\">\n",
        "<table border=\"1\" class=\"dataframe\">\n",
        "  <thead>\n",
        "    <tr style=\"text-align: right;\">\n",
        "      <th></th>\n",
        "      <th>text</th>\n",
        "    </tr>\n",
        "    <tr>\n",
        "      <th>text</th>\n",
        "      <th></th>\n",
        "    </tr>\n",
        "  </thead>\n",
        "  <tbody>\n",
        "    <tr>\n",
        "      <th>RT @AnnaKendrick47: We should be thanking Apple for launching the $10,000 \"apple watch\" as the new gold standard in douchebag detection.</th>\n",
        "      <td> 246</td>\n",
        "    </tr>\n",
        "    <tr>\n",
        "      <th>RT @AppStore: The Watch is coming. 4.24.15.  http://t.co/4iiurTDTt9\\nhttps://t.co/3Bedz37DAy</th>\n",
        "      <td> 225</td>\n",
        "    </tr>\n",
        "    <tr>\n",
        "      <th>RT @sageboggs: Is there a way to sync my Google Glass to my Apple Watch? I want to ensure I won't kiss anyone for the rest of my life</th>\n",
        "      <td>  38</td>\n",
        "    </tr>\n",
        "    <tr>\n",
        "      <th>RT @AppStore: Mac in its purest form ever. The new MacBook. http://t.co/U62E2iyNT6 http://t.co/jRtWddN0Wi</th>\n",
        "      <td>  33</td>\n",
        "    </tr>\n",
        "    <tr>\n",
        "      <th>RT @verge: 10 things you can buy instead of a $10,000 Apple Watch http://t.co/skzHFWDCX0 http://t.co/RrZxqxN188</th>\n",
        "      <td>  28</td>\n",
        "    </tr>\n",
        "    <tr>\n",
        "      <th>RT @tomstandage: Genius from xkcd, as Apple prepares to launch its Watch http://t.co/OzcVuUoYJP http://t.co/nvhMdfw9vy</th>\n",
        "      <td>  27</td>\n",
        "    </tr>\n",
        "    <tr>\n",
        "      <th>RT @ComplexMag: Everything you need to know about the Apple Watch and the New Gold MacBook: http://t.co/aylpX2MQi4 http://t.co/ORUNZwS0nh</th>\n",
        "      <td>  27</td>\n",
        "    </tr>\n",
        "    <tr>\n",
        "      <th>RT @edaccessible: Use This Ingenious Trick to Choose the Right Apple Watch Size http://t.co/QMVOCKHRjx @TIME</th>\n",
        "      <td>  27</td>\n",
        "    </tr>\n",
        "    <tr>\n",
        "      <th>RT @MEMMOSdubai: Should you buy the $10,000 gold Apple Watch? A helpful flowchart http://t.co/Crn3LPr7Ve @MEMMOSDubai #Dubai #UAE</th>\n",
        "      <td>  23</td>\n",
        "    </tr>\n",
        "    <tr>\n",
        "      <th>RT @shutupmikeginn: sorry Apple, there's only one watch I'd pay $10,000 for: http://t.co/TC7PyMUXfY</th>\n",
        "      <td>  21</td>\n",
        "    </tr>\n",
        "    <tr>\n",
        "      <th>RT @AppStore: The Watch is coming. 4.24.15. http://t.co/4iiurTDTt9\\nhttps://t.co/kkGlBBJIB9</th>\n",
        "      <td>  18</td>\n",
        "    </tr>\n",
        "    <tr>\n",
        "      <th>RT @WSJD: .@GeoffreyFowler says today's Apple Watch event was about \"quantity over quality\": http://t.co/FT8MI4sqlC http://t.co/c9v44NU4V3</th>\n",
        "      <td>  18</td>\n",
        "    </tr>\n",
        "    <tr>\n",
        "      <th>RT @RANsquawk: Loving my Apple Watch $AAPL http://t.co/c75QFoDSS3</th>\n",
        "      <td>  18</td>\n",
        "    </tr>\n",
        "    <tr>\n",
        "      <th>RT @TheOnion: From The Archives: Interim Apple Chief Under Fire After Unveiling Grotesque New MacBook http://t.co/OoLf5Wqe5q http://t.co/59\u2026</th>\n",
        "      <td>  17</td>\n",
        "    </tr>\n",
        "    <tr>\n",
        "      <th>RT @AppStore: The Watch is coming. 4.24.15.  http://t.co/4iiurTDTt9\\nhttps://t.co/JY0qjXldir</th>\n",
        "      <td>  17</td>\n",
        "    </tr>\n",
        "    <tr>\n",
        "      <th>RT @desusnice: JIGS UP RT @engadget: These $79 dongles will add more ports to Apple's new MacBook  http://t.co/dLfNvRFk4n</th>\n",
        "      <td>  16</td>\n",
        "    </tr>\n",
        "    <tr>\n",
        "      <th>RT @AppStore: The Watch is coming. 4.24.15.  http://t.co/4iiurTDTt9\\nhttps://t.co/Z18Ue9rp7X</th>\n",
        "      <td>  16</td>\n",
        "    </tr>\n",
        "    <tr>\n",
        "      <th>RT @SarcasticRover: I cost 250,000 Apple Watch Editions.</th>\n",
        "      <td>  16</td>\n",
        "    </tr>\n",
        "    <tr>\n",
        "      <th>RT @waltmossberg: Apple Watch Selection Flowchart (Comic) http://t.co/TNfdhECT9P via @Recode http://t.co/jSHGFf4yIU</th>\n",
        "      <td>  16</td>\n",
        "    </tr>\n",
        "    <tr>\n",
        "      <th>RT @robfee: Just preordered my $10,000 Apple Watch and I couldn't be more excited! http://t.co/r9qJ1lWIv1</th>\n",
        "      <td>  15</td>\n",
        "    </tr>\n",
        "    <tr>\n",
        "      <th>RT @andylassner: No way in hell I'm getting a $10,000 Apple watch unless a really rich talk show host buys me one. \\n\\ncc @TheEllenShow</th>\n",
        "      <td>  13</td>\n",
        "    </tr>\n",
        "    <tr>\n",
        "      <th>RT @Rachelskirts: And nine\u2014nine Apple Watch Editions were gifted to the race of men, who above all else desire power.</th>\n",
        "      <td>  13</td>\n",
        "    </tr>\n",
        "    <tr>\n",
        "      <th>RT @AppStore: The Watch is coming. 4.24.15.  http://t.co/4iiurTDTt9\\nhttps://t.co/hI2YFOSf0f</th>\n",
        "      <td>  12</td>\n",
        "    </tr>\n",
        "    <tr>\n",
        "      <th>RT @bmw: .@BMWi is excited to provide one of the apps for Apple Watch when it becomes available in April. Stay tuned! http://t.co/CSfKmneOAT</th>\n",
        "      <td>  12</td>\n",
        "    </tr>\n",
        "    <tr>\n",
        "      <th>RT @TheTweetOfGod: The Apple Watch may become so addictive it keeps people from looking at what's truly important in life, like their iPhon\u2026</th>\n",
        "      <td>  12</td>\n",
        "    </tr>\n",
        "  </tbody>\n",
        "</table>\n",
        "</div>"
       ],
       "metadata": {},
       "output_type": "pyout",
       "prompt_number": 43,
       "text": [
        "                                                                                                                                              text\n",
        "text                                                                                                                                              \n",
        "RT @AnnaKendrick47: We should be thanking Apple for launching the $10,000 \"apple watch\" as the new gold standard in douchebag detection.       246\n",
        "RT @AppStore: The Watch is coming. 4.24.15.  http://t.co/4iiurTDTt9\\nhttps://t.co/3Bedz37DAy                                                   225\n",
        "RT @sageboggs: Is there a way to sync my Google Glass to my Apple Watch? I want to ensure I won't kiss anyone for the rest of my life           38\n",
        "RT @AppStore: Mac in its purest form ever. The new MacBook. http://t.co/U62E2iyNT6 http://t.co/jRtWddN0Wi                                       33\n",
        "RT @verge: 10 things you can buy instead of a $10,000 Apple Watch http://t.co/skzHFWDCX0 http://t.co/RrZxqxN188                                 28\n",
        "RT @tomstandage: Genius from xkcd, as Apple prepares to launch its Watch http://t.co/OzcVuUoYJP http://t.co/nvhMdfw9vy                          27\n",
        "RT @ComplexMag: Everything you need to know about the Apple Watch and the New Gold MacBook: http://t.co/aylpX2MQi4 http://t.co/ORUNZwS0nh       27\n",
        "RT @edaccessible: Use This Ingenious Trick to Choose the Right Apple Watch Size http://t.co/QMVOCKHRjx @TIME                                    27\n",
        "RT @MEMMOSdubai: Should you buy the $10,000 gold Apple Watch? A helpful flowchart http://t.co/Crn3LPr7Ve @MEMMOSDubai #Dubai #UAE               23\n",
        "RT @shutupmikeginn: sorry Apple, there's only one watch I'd pay $10,000 for: http://t.co/TC7PyMUXfY                                             21\n",
        "RT @AppStore: The Watch is coming. 4.24.15. http://t.co/4iiurTDTt9\\nhttps://t.co/kkGlBBJIB9                                                     18\n",
        "RT @WSJD: .@GeoffreyFowler says today's Apple Watch event was about \"quantity over quality\": http://t.co/FT8MI4sqlC http://t.co/c9v44NU4V3      18\n",
        "RT @RANsquawk: Loving my Apple Watch $AAPL http://t.co/c75QFoDSS3                                                                               18\n",
        "RT @TheOnion: From The Archives: Interim Apple Chief Under Fire After Unveiling Grotesque New MacBook http://t.co/OoLf5Wqe5q http://t.co/59\u2026    17\n",
        "RT @AppStore: The Watch is coming. 4.24.15.  http://t.co/4iiurTDTt9\\nhttps://t.co/JY0qjXldir                                                    17\n",
        "RT @desusnice: JIGS UP RT @engadget: These $79 dongles will add more ports to Apple's new MacBook  http://t.co/dLfNvRFk4n                       16\n",
        "RT @AppStore: The Watch is coming. 4.24.15.  http://t.co/4iiurTDTt9\\nhttps://t.co/Z18Ue9rp7X                                                    16\n",
        "RT @SarcasticRover: I cost 250,000 Apple Watch Editions.                                                                                        16\n",
        "RT @waltmossberg: Apple Watch Selection Flowchart (Comic) http://t.co/TNfdhECT9P via @Recode http://t.co/jSHGFf4yIU                             16\n",
        "RT @robfee: Just preordered my $10,000 Apple Watch and I couldn't be more excited! http://t.co/r9qJ1lWIv1                                       15\n",
        "RT @andylassner: No way in hell I'm getting a $10,000 Apple watch unless a really rich talk show host buys me one. \\n\\ncc @TheEllenShow         13\n",
        "RT @Rachelskirts: And nine\u2014nine Apple Watch Editions were gifted to the race of men, who above all else desire power.                           13\n",
        "RT @AppStore: The Watch is coming. 4.24.15.  http://t.co/4iiurTDTt9\\nhttps://t.co/hI2YFOSf0f                                                    12\n",
        "RT @bmw: .@BMWi is excited to provide one of the apps for Apple Watch when it becomes available in April. Stay tuned! http://t.co/CSfKmneOAT    12\n",
        "RT @TheTweetOfGod: The Apple Watch may become so addictive it keeps people from looking at what's truly important in life, like their iPhon\u2026    12"
       ]
      }
     ],
     "prompt_number": 43
    },
    {
     "cell_type": "markdown",
     "metadata": {},
     "source": [
      "As you can see, there are lots of intersting tweet entities that give you helpful context for the announcement. One particularly notable observation is the appearance of \"comedic accounts\" relaying a certain amount of humor. And for once we can see why the <a href=\"https://twitter.com/AnnaKendrick47/status/575019466804719617\">tweet</a> by `@AnnaKendrick47`, embedded below, got that popular.\n",
      "\n",
      "<blockquote class=\"twitter-tweet\" lang=\"en\"><p>We should be thanking Apple for launching the $10,000 &quot;apple watch&quot; as the new gold standard in douchebag detection.</p>&mdash; Anna Kendrick (@AnnaKendrick47) <a href=\"https://twitter.com/AnnaKendrick47/status/575019466804719617\">March 9, 2015</a></blockquote>\n",
      "<script async src=\"//platform.twitter.com/widgets.js\" charset=\"utf-8\"></script>\n",
      "\n",
      "When you take a closer look at some of the developed news stories, you also see sarcasm, unbelief, and even a bit of spam. Everything has a place on Twitter.\n",
      "\n",
      "Sentiment\n",
      "---------\n",
      "\n",
      "Identifying sarcasm or irony is a very hard task for machines, as [it demands a lot of background knowledge](http://arstechnica.com/tech-policy/2014/06/us-secret-service-wants-software-to-detect-sarcasm-on-social-media/). We can, however, take a look on how sentiment evolved over time, and if in average the announcement of the new watch and laptop was positive or negative.\n",
      "\n",
      "Let's start by adding new columns to our `DataFrame` `en_text` that captures the sentiment of the tweets. But instead of using the regular polarity analyzer, we will use a `NaiveBayesAnalyzer()`."
     ]
    },
    {
     "cell_type": "code",
     "collapsed": false,
     "input": [
      "from textblob.sentiments import NaiveBayesAnalyzer\n",
      "analyzer = NaiveBayesAnalyzer()\n",
      "\n",
      "def extract_sentiment(value):\n",
      "    ...\n",
      "    return pd.Series([sentiment, pos_prob, neg_prob])\n",
      "\n",
      "en_text[...] = en_text.text.apply(extract_sentiment)\n",
      "en_text[[\"text\", \"sentiment\", \"pos_prob\", \"neg_prob\"]].head(3)"
     ],
     "language": "python",
     "metadata": {},
     "outputs": [
      {
       "html": [
        "<div style=\"max-height:1000px;max-width:1500px;overflow:auto;\">\n",
        "<table border=\"1\" class=\"dataframe\">\n",
        "  <thead>\n",
        "    <tr style=\"text-align: right;\">\n",
        "      <th></th>\n",
        "      <th>text</th>\n",
        "      <th>sentiment</th>\n",
        "      <th>pos_prob</th>\n",
        "      <th>neg_prob</th>\n",
        "    </tr>\n",
        "    <tr>\n",
        "      <th>created_at</th>\n",
        "      <th></th>\n",
        "      <th></th>\n",
        "      <th></th>\n",
        "      <th></th>\n",
        "    </tr>\n",
        "  </thead>\n",
        "  <tbody>\n",
        "    <tr>\n",
        "      <th>2015-03-09 21:00:46</th>\n",
        "      <td> Why I wound up buying a Pebble\u200b Watch instead....</td>\n",
        "      <td> pos</td>\n",
        "      <td> 0.949290</td>\n",
        "      <td> 0.050710</td>\n",
        "    </tr>\n",
        "    <tr>\n",
        "      <th>2015-03-09 21:00:46</th>\n",
        "      <td> RT @BobScottCPA: How is the Apple Watch \"state...</td>\n",
        "      <td> neg</td>\n",
        "      <td> 0.260906</td>\n",
        "      <td> 0.739094</td>\n",
        "    </tr>\n",
        "    <tr>\n",
        "      <th>2015-03-09 21:00:46</th>\n",
        "      <td> #AppleWatch Can't wait to wear one :) http://t...</td>\n",
        "      <td> neg</td>\n",
        "      <td> 0.443928</td>\n",
        "      <td> 0.556072</td>\n",
        "    </tr>\n",
        "  </tbody>\n",
        "</table>\n",
        "</div>"
       ],
       "metadata": {},
       "output_type": "pyout",
       "prompt_number": 44,
       "text": [
        "                                                                  text  \\\n",
        "created_at                                                               \n",
        "2015-03-09 21:00:46  Why I wound up buying a Pebble\u200b Watch instead....   \n",
        "2015-03-09 21:00:46  RT @BobScottCPA: How is the Apple Watch \"state...   \n",
        "2015-03-09 21:00:46  #AppleWatch Can't wait to wear one :) http://t...   \n",
        "\n",
        "                    sentiment  pos_prob  neg_prob  \n",
        "created_at                                         \n",
        "2015-03-09 21:00:46       pos  0.949290  0.050710  \n",
        "2015-03-09 21:00:46       neg  0.260906  0.739094  \n",
        "2015-03-09 21:00:46       neg  0.443928  0.556072  "
       ]
      }
     ],
     "prompt_number": 44
    },
    {
     "cell_type": "markdown",
     "metadata": {},
     "source": [
      "Now can see how many positive and negative tweets are there in the dataset."
     ]
    },
    {
     "cell_type": "code",
     "collapsed": false,
     "input": [
      "sentiments = en_text.groupby(...).aggregate({\n",
      "    ...,\n",
      "    ...,\n",
      "    ...,\n",
      "})\n",
      "sentiments"
     ],
     "language": "python",
     "metadata": {},
     "outputs": [
      {
       "html": [
        "<div style=\"max-height:1000px;max-width:1500px;overflow:auto;\">\n",
        "<table border=\"1\" class=\"dataframe\">\n",
        "  <thead>\n",
        "    <tr style=\"text-align: right;\">\n",
        "      <th></th>\n",
        "      <th>pos_prob</th>\n",
        "      <th>text</th>\n",
        "      <th>neg_prob</th>\n",
        "    </tr>\n",
        "    <tr>\n",
        "      <th>sentiment</th>\n",
        "      <th></th>\n",
        "      <th></th>\n",
        "      <th></th>\n",
        "    </tr>\n",
        "  </thead>\n",
        "  <tbody>\n",
        "    <tr>\n",
        "      <th>neg</th>\n",
        "      <td> 0.379798</td>\n",
        "      <td> 1057</td>\n",
        "      <td> 0.620202</td>\n",
        "    </tr>\n",
        "    <tr>\n",
        "      <th>pos</th>\n",
        "      <td> 0.799055</td>\n",
        "      <td> 5623</td>\n",
        "      <td> 0.200945</td>\n",
        "    </tr>\n",
        "  </tbody>\n",
        "</table>\n",
        "</div>"
       ],
       "metadata": {},
       "output_type": "pyout",
       "prompt_number": 45,
       "text": [
        "           pos_prob  text  neg_prob\n",
        "sentiment                          \n",
        "neg        0.379798  1057  0.620202\n",
        "pos        0.799055  5623  0.200945"
       ]
      }
     ],
     "prompt_number": 45
    },
    {
     "cell_type": "code",
     "collapsed": false,
     "input": [
      "ax = ...plot(..., figsize=(8, 4))\n",
      "ax.set_title(...)\n",
      "ax.set_xlabel(...)"
     ],
     "language": "python",
     "metadata": {},
     "outputs": [
      {
       "metadata": {},
       "output_type": "pyout",
       "prompt_number": 46,
       "text": [
        "<matplotlib.text.Text at 0x7fcb9d5b3400>"
       ]
      },
      {
       "metadata": {},
       "output_type": "display_data",
       "png": "[encoded data removed]",
       "text": [
        "<matplotlib.figure.Figure at 0x7fcb9d82fcc0>"
       ]
      }
     ],
     "prompt_number": 46
    },
    {
     "cell_type": "markdown",
     "metadata": {},
     "source": [
      "It seems like the perception of the new products has been mostly positive. But it's the same for both the watch and the laptop? Let's add a new column keyword with value \"watch\" if the tweet contains the word \"watch\" (ignore case), \"macbook\" if it contains \"macbook\", \"both\" if it contains both, and `np.NaN` otherwise."
     ]
    },
    {
     "cell_type": "code",
     "collapsed": false,
     "input": [
      "def get_keyword(value):\n",
      "    ...\n",
      "\n",
      "en_text[\"keyword\"] = en_text.text.apply(get_keyword)\n",
      "en_text[\"keyword\"][:25]"
     ],
     "language": "python",
     "metadata": {},
     "outputs": [
      {
       "metadata": {},
       "output_type": "pyout",
       "prompt_number": 47,
       "text": [
        "created_at\n",
        "2015-03-09 21:00:46      watch\n",
        "2015-03-09 21:00:46      watch\n",
        "2015-03-09 21:00:46      watch\n",
        "2015-03-09 21:00:46      watch\n",
        "2015-03-09 21:00:46      watch\n",
        "2015-03-09 21:00:46        NaN\n",
        "2015-03-09 21:00:46    macbook\n",
        "2015-03-09 21:00:46      watch\n",
        "2015-03-09 21:00:46      watch\n",
        "2015-03-09 21:00:47      watch\n",
        "2015-03-09 21:00:47      watch\n",
        "2015-03-09 21:00:47        NaN\n",
        "2015-03-09 21:00:47       both\n",
        "2015-03-09 21:00:47      watch\n",
        "2015-03-09 21:00:48      watch\n",
        "2015-03-09 21:00:48      watch\n",
        "2015-03-09 21:00:48      watch\n",
        "2015-03-09 21:00:48      watch\n",
        "2015-03-09 21:00:48      watch\n",
        "2015-03-09 21:00:48      watch\n",
        "2015-03-09 21:00:48      watch\n",
        "2015-03-09 21:00:48      watch\n",
        "2015-03-09 21:00:49      watch\n",
        "2015-03-09 21:00:49    macbook\n",
        "2015-03-09 21:00:49      watch\n",
        "Name: keyword, dtype: object"
       ]
      }
     ],
     "prompt_number": 47
    },
    {
     "cell_type": "markdown",
     "metadata": {},
     "source": [
      "Now we can create a pivot table to see the average values of the distributions of probability and count the number of tweets per keyword and sentiment."
     ]
    },
    {
     "cell_type": "code",
     "collapsed": false,
     "input": [
      "pd.pivot_table(en_text, index=..., aggfunc={\n",
      "    ...,\n",
      "    ...,\n",
      "    ...,\n",
      "})"
     ],
     "language": "python",
     "metadata": {},
     "outputs": [
      {
       "html": [
        "<div style=\"max-height:1000px;max-width:1500px;overflow:auto;\">\n",
        "<table border=\"1\" class=\"dataframe\">\n",
        "  <thead>\n",
        "    <tr style=\"text-align: right;\">\n",
        "      <th></th>\n",
        "      <th></th>\n",
        "      <th>neg_prob</th>\n",
        "      <th>pos_prob</th>\n",
        "      <th>text</th>\n",
        "    </tr>\n",
        "    <tr>\n",
        "      <th>keyword</th>\n",
        "      <th>sentiment</th>\n",
        "      <th></th>\n",
        "      <th></th>\n",
        "      <th></th>\n",
        "    </tr>\n",
        "  </thead>\n",
        "  <tbody>\n",
        "    <tr>\n",
        "      <th rowspan=\"2\" valign=\"top\">both</th>\n",
        "      <th>neg</th>\n",
        "      <td> 0.734580</td>\n",
        "      <td> 0.265420</td>\n",
        "      <td>    9</td>\n",
        "    </tr>\n",
        "    <tr>\n",
        "      <th>pos</th>\n",
        "      <td> 0.140977</td>\n",
        "      <td> 0.859023</td>\n",
        "      <td>  235</td>\n",
        "    </tr>\n",
        "    <tr>\n",
        "      <th rowspan=\"2\" valign=\"top\">macbook</th>\n",
        "      <th>neg</th>\n",
        "      <td> 0.624145</td>\n",
        "      <td> 0.375855</td>\n",
        "      <td>  140</td>\n",
        "    </tr>\n",
        "    <tr>\n",
        "      <th>pos</th>\n",
        "      <td> 0.183667</td>\n",
        "      <td> 0.816333</td>\n",
        "      <td>  724</td>\n",
        "    </tr>\n",
        "    <tr>\n",
        "      <th rowspan=\"2\" valign=\"top\">watch</th>\n",
        "      <th>neg</th>\n",
        "      <td> 0.616332</td>\n",
        "      <td> 0.383668</td>\n",
        "      <td>  872</td>\n",
        "    </tr>\n",
        "    <tr>\n",
        "      <th>pos</th>\n",
        "      <td> 0.206179</td>\n",
        "      <td> 0.793821</td>\n",
        "      <td> 4592</td>\n",
        "    </tr>\n",
        "  </tbody>\n",
        "</table>\n",
        "</div>"
       ],
       "metadata": {},
       "output_type": "pyout",
       "prompt_number": 48,
       "text": [
        "                   neg_prob  pos_prob  text\n",
        "keyword sentiment                          \n",
        "both    neg        0.734580  0.265420     9\n",
        "        pos        0.140977  0.859023   235\n",
        "macbook neg        0.624145  0.375855   140\n",
        "        pos        0.183667  0.816333   724\n",
        "watch   neg        0.616332  0.383668   872\n",
        "        pos        0.206179  0.793821  4592"
       ]
      }
     ],
     "prompt_number": 48
    },
    {
     "cell_type": "markdown",
     "metadata": {},
     "source": [
      "Conclusions\n",
      "-----------\n",
      "\n",
      "We *aspired* to learn more about the general reaction to Apple's announcement by taking an initial look at the data from Twitter's firehose, and it's fair to say that we learned a few things about the data without too much effort. Lots more could be discovered, but a few of the themes that we were able to glean included...\n",
      "\n",
      "What about the sentiment? Did the specific product make any difference in the sentiment? And in the amount of tweets?\n",
      "\n",
      "What other impressions you got after running the analysis?\n",
      "\n",
      "<br />\n",
      "<div align=\"center\">\n",
      "<img src=\"images/apple_watch.jpg\" width=\"400\">\n",
      "*The real apple watch*\n",
      "</div>\n"
     ]
    }
   ],
   "metadata": {}
  }
 ]
}