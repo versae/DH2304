{
 "metadata": {
  "name": "",
  "signature": "sha256:67a875d678fe6bf3b38902ca000e0401252d197881ba38651976404ad70da363"
 },
 "nbformat": 3,
 "nbformat_minor": 0,
 "worksheets": [
  {
   "cells": [
    {
     "cell_type": "markdown",
     "metadata": {},
     "source": [
      "<div align=\"center\">\n",
      "<h1>[Data, the Humanist's New Best Friend](index.ipynb)<br/>*Class 08*</h1>\n",
      "</div>"
     ]
    },
    {
     "cell_type": "markdown",
     "metadata": {},
     "source": [
      "In this class you are expected to learn:\n",
      "\n",
      "1. Statistical modeling\n",
      "2. statmodels\n",
      "3. Correlation\n",
      "4. Regression\n",
      "5. Distributions"
     ]
    },
    {
     "cell_type": "markdown",
     "metadata": {},
     "source": [
      "<div align=\"center\">\n",
      "<img src=\"images/cat_stats.jpg\" width=\"350\">\n",
      "*True that*\n",
      "</div>"
     ]
    },
    {
     "cell_type": "code",
     "collapsed": false,
     "input": [
      "%matplotlib inline\n",
      "import io\n",
      "import matplotlib.pyplot as plt\n",
      "import pandas as pd"
     ],
     "language": "python",
     "metadata": {},
     "outputs": [],
     "prompt_number": 9
    },
    {
     "cell_type": "markdown",
     "metadata": {},
     "source": [
      "Inferential Statistics\n",
      "======================\n",
      "\n",
      "So far, we have used (and given as granted) concepts such as means, medians and modes, that fall behind what we call descriptive statistics. This class is about another type of statistics, inferential statistics. Used in everyday language inference means \"the action or process of inferring; the drawing of a conclusion from known or assumed facts or statements.\" Statistical inference is where we draw conclusions from quantitative facts or statements.\n",
      "\n",
      "To get an idea about inference we will start with examples of non-statistical inference.\n",
      "\n",
      "1. All men are mortal (an observed and accepted fact)\n",
      "2. Socrates was a man (an observed and accepted fact)\n",
      "3. Therefore, Socrates was mortal (a conclusion based on the fact that Socrates was a man and all men are mortal).\n",
      "\n",
      "So from two accepted facts about men (that they are mortal) and Socrates (that he was a man) we can come to the conclusion that Socrates was mortal.\n",
      "However sometimes correct facts or observations can lead to wrong conclusions when poor inference is made.\n",
      "\n",
      "1. Margaret Thatcher was Prime Minister of the UK (an observed and accepted fact)\n",
      "2. Margaret Thatcher was a woman (an observed and accepted fact)\n",
      "3. Therefore all Prime Ministers of the UK are women (a conclusion based on the fact that Margaret Thatcher was Prime Minister of the UK and that Margaret Thatcher is a woman).\n",
      "\n",
      "False premises can lead to false conclusions\n",
      "\n",
      "1. Hillary Clinton is a woman (an observed and accepted fact)\n",
      "2. Women are not allowed to be President of the USA (a false statement)\n",
      "3. Therefore Hillary Clinton is not allowed to become President of the USA (a false conclusion from one correct and one incorrect premise).\n",
      "\n",
      "In order to make accurate conclusions we must understand what has gone into creating our statistics and think logically. First, we will examine the concept of probability, a key concept in drawing conclusions from statistics.\n",
      "\n",
      "Why probability theory matters\n",
      "------------------------------\n",
      "You might be wondering what applying probability to random events such as dice throws and coin tosses has got to do with the sorts of statistics we might use in humanities research. We make inferences from quantitative data on the basis of probability. So if we see that wheat prices go up when oat prices go up and wheat prices go down when oat prices go down it\n",
      "would suggest that there probably is some sort of relationship between the prices of these two commodities that isn't just a coincidence of down to chance. Inferential statistics enable us to explore whether there is a relationship and what the nature of this relationship is (this will be explored in later chapters).\n",
      "\n",
      "When we perform a statistical test we are looking to see if there are differences between two or more groups of data or that there is no difference. For example we may wish to investigate whether there are differences in how men and women perform on an exam or whether soldiers from Town A are taller than soldiers from Town B. Scientists may wish to find out\n",
      "whether treatment A is a better treatment than treatment B."
     ]
    },
    {
     "cell_type": "markdown",
     "metadata": {},
     "source": [
      "<div style=\"font-size: 1em; margin: 1em 0 1em 0; border: 1px solid #86989B; background-color: #f7f7f7; padding: 0;\">\n",
      "<p style=\"margin: 0; padding: 0.1em 0 0.1em 0.5em; color: white; border-bottom: 1px solid #86989B; font-weight: bold; background-color: #AFC1C4;\">\n",
      "Activity\n",
      "</p>\n",
      "<p style=\"margin: 0.5em 1em 0.5em 1em; padding: 0;\">\n",
      "The probability of throwing a six on a 6-sided die is calculated as follows: the die has six possible outcomes (1, 2, 3, 4, 5, 6) so we take 1 and divide it by six. \u2159 = 0.167 or 16.7% or 1 in 6.\n",
      "<ol><li>\n",
      "If we wanted to calculate the probability of two coins both being heads we multiply the two probabilities\n",
      "together. Similarly, what if we wanted to know the probability of throwing 2 sixes on two dice?\n",
      "</li><li>\n",
      "What about getting all sixes on six dice?\n",
      "</li></ol>\n",
      "<!-- <small style=\"float: right; position: relative;\">[Solution](data/solution.py)</small> -->\n",
      "</p>\n",
      "</div>"
     ]
    },
    {
     "cell_type": "markdown",
     "metadata": {},
     "source": [
      "Making connections\n",
      "------------------\n",
      "When we use quantitative data we are often seeking\n",
      "to demonstrate that there is a link between one set of\n",
      "data and other. We might want to investigate what\n",
      "effect a major historical event had on the price of\n",
      "food or whether married men use more words\n",
      "on a daily basis than their wives."
     ]
    },
    {
     "cell_type": "code",
     "collapsed": false,
     "input": [
      "raw = \"\"\"year wheat oats\n",
      "1830 63.7 23.1\n",
      "1831 65.7 25.3\n",
      "1832 58.6 20.5\n",
      "1833 53.9 18.3\n",
      "1834 45.9 20.7\n",
      "1835 29.2 22\n",
      "1836 48.1 23\n",
      "1837 55.1 23.1\n",
      "1838 64.7 22.4\n",
      "1839 70.3 25.7\"\"\"\n",
      "data = pd.read_csv(io.StringIO(raw), sep=\" \", index_col=\"year\").\n",
      "data"
     ],
     "language": "python",
     "metadata": {},
     "outputs": [
      {
       "html": [
        "<div style=\"max-height:1000px;max-width:1500px;overflow:auto;\">\n",
        "<table border=\"1\" class=\"dataframe\">\n",
        "  <thead>\n",
        "    <tr style=\"text-align: right;\">\n",
        "      <th></th>\n",
        "      <th>wheat</th>\n",
        "      <th>oats</th>\n",
        "    </tr>\n",
        "    <tr>\n",
        "      <th>year</th>\n",
        "      <th></th>\n",
        "      <th></th>\n",
        "    </tr>\n",
        "  </thead>\n",
        "  <tbody>\n",
        "    <tr>\n",
        "      <th>1830</th>\n",
        "      <td> 63.7</td>\n",
        "      <td> 23.1</td>\n",
        "    </tr>\n",
        "    <tr>\n",
        "      <th>1831</th>\n",
        "      <td> 65.7</td>\n",
        "      <td> 25.3</td>\n",
        "    </tr>\n",
        "    <tr>\n",
        "      <th>1832</th>\n",
        "      <td> 58.6</td>\n",
        "      <td> 20.5</td>\n",
        "    </tr>\n",
        "    <tr>\n",
        "      <th>1833</th>\n",
        "      <td> 53.9</td>\n",
        "      <td> 18.3</td>\n",
        "    </tr>\n",
        "    <tr>\n",
        "      <th>1834</th>\n",
        "      <td> 45.9</td>\n",
        "      <td> 20.7</td>\n",
        "    </tr>\n",
        "    <tr>\n",
        "      <th>1835</th>\n",
        "      <td> 29.2</td>\n",
        "      <td> 22.0</td>\n",
        "    </tr>\n",
        "    <tr>\n",
        "      <th>1836</th>\n",
        "      <td> 48.1</td>\n",
        "      <td> 23.0</td>\n",
        "    </tr>\n",
        "    <tr>\n",
        "      <th>1837</th>\n",
        "      <td> 55.1</td>\n",
        "      <td> 23.1</td>\n",
        "    </tr>\n",
        "    <tr>\n",
        "      <th>1838</th>\n",
        "      <td> 64.7</td>\n",
        "      <td> 22.4</td>\n",
        "    </tr>\n",
        "    <tr>\n",
        "      <th>1839</th>\n",
        "      <td> 70.3</td>\n",
        "      <td> 25.7</td>\n",
        "    </tr>\n",
        "  </tbody>\n",
        "</table>\n",
        "</div>"
       ],
       "metadata": {},
       "output_type": "pyout",
       "prompt_number": 12,
       "text": [
        "      wheat  oats\n",
        "year             \n",
        "1830   63.7  23.1\n",
        "1831   65.7  25.3\n",
        "1832   58.6  20.5\n",
        "1833   53.9  18.3\n",
        "1834   45.9  20.7\n",
        "1835   29.2  22.0\n",
        "1836   48.1  23.0\n",
        "1837   55.1  23.1\n",
        "1838   64.7  22.4\n",
        "1839   70.3  25.7"
       ]
      }
     ],
     "prompt_number": 12
    },
    {
     "cell_type": "markdown",
     "metadata": {},
     "source": [
      "In the `DataFrame` above we have data about the price of wheat and\n",
      "the price of oats between 1830 and 1839. What is the relationship\n",
      "between wheat prices and oats prices. When wheat\n",
      "prices are high are oat prices high too? From the data\n",
      "alone is difficult to see for sure.\n",
      "\n",
      "Let's just plot the data and see how it looks like."
     ]
    },
    {
     "cell_type": "code",
     "collapsed": false,
     "input": [
      "fig = plt.figure(figsize=(12, 6))\n",
      "\n",
      "ax = fig.add_subplot(1, 1, 1)\n",
      "ax.scatter(data.wheat, data.oats)\n",
      "ax.set_xlabel(\"wheat\")\n",
      "ax.set_ylabel(\"oats\")"
     ],
     "language": "python",
     "metadata": {},
     "outputs": [
      {
       "metadata": {},
       "output_type": "pyout",
       "prompt_number": 26,
       "text": [
        "<matplotlib.text.Text at 0x7f06b7050d30>"
       ]
      },
      {
       "metadata": {},
       "output_type": "display_data",
       "png": "[encoded data removed]",
       "text": [
        "<matplotlib.figure.Figure at 0x7f06b70ea240>"
       ]
      }
     ],
     "prompt_number": 26
    },
    {
     "cell_type": "markdown",
     "metadata": {},
     "source": [
      "On the figure we have plotted the wheat\n",
      "price against the barley price for each year. We\n",
      "see that there is a pattern as the numbers\n",
      "plots sort of line up. But how do we describe this\n",
      "pattern in more detail? One way is to calculate the\n",
      "**Pearson product-moment correlation coefficient** of\n",
      "the data. The Pearson product-moment correlation\n",
      "coefficient is a number between 1 and -1. This\n",
      "number is referred to as *r* or *Pearson's r*."
     ]
    },
    {
     "cell_type": "code",
     "collapsed": false,
     "input": [
      "from scipy.stats.stats import pearsonr\n",
      "\n",
      "pearsonr(data.wheat, data.oats)"
     ],
     "language": "python",
     "metadata": {},
     "outputs": [
      {
       "metadata": {},
       "output_type": "pyout",
       "prompt_number": 36,
       "text": [
        "(0.44223624234191028, 0.20063669545215068)"
       ]
      }
     ],
     "prompt_number": 36
    },
    {
     "cell_type": "markdown",
     "metadata": {},
     "source": [
      "- http://www.statisticsforhumanities.net/book/wp-content/uploads/2014/07/StatisticsforHumanities%205Sept14.pdf\n",
      "- http://www.datarobot.com/blog/ordinary-least-squares-in-python/\n",
      "- http://www.randalolson.com/2012/08/06/statistical-analysis-made-easy-in-python/\n",
      "- http://nbviewer.ipython.org/github/justmarkham/DAT4/blob/master/notebooks/08_linear_regression.ipynb"
     ]
    },
    {
     "cell_type": "heading",
     "level": 2,
     "metadata": {},
     "source": [
      "~~For the [next class](class09.ipynb)~~\n",
      "Next class wil be [class 11](class11.ipynb)"
     ]
    },
    {
     "cell_type": "markdown",
     "metadata": {},
     "source": [
      "- Read [Chapters 7-9 and 13-14, from Statistics for Humanities](http://statisticsforhumanities.net/).\n",
      "- Read [Ordinary Least Squares in Python, from datarobot](http://www.datarobot.com/blog/ordinary-least-squares-in-python/).\n"
     ]
    }
   ],
   "metadata": {}
  }
 ]
}